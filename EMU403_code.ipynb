{
  "nbformat": 4,
  "nbformat_minor": 0,
  "metadata": {
    "colab": {
      "name": "EMU403_code.ipynb",
      "provenance": [],
      "collapsed_sections": [
        "-d7lDkua3gNM",
        "5bXOuRo13BPL"
      ],
      "include_colab_link": true
    },
    "kernelspec": {
      "name": "python3",
      "display_name": "Python 3"
    },
    "language_info": {
      "name": "python"
    }
  },
  "cells": [
    {
      "cell_type": "markdown",
      "metadata": {
        "id": "view-in-github",
        "colab_type": "text"
      },
      "source": [
        "<a href=\"https://colab.research.google.com/github/SevilAnna/GraduationProject/blob/main/EMU403_code.ipynb\" target=\"_parent\"><img src=\"https://colab.research.google.com/assets/colab-badge.svg\" alt=\"Open In Colab\"/></a>"
      ]
    },
    {
      "cell_type": "markdown",
      "source": [
        "<h1>EMÜ 403 - Graduation Project</h1>\n",
        "\n",
        "---"
      ],
      "metadata": {
        "id": "ePsMaL4LMAZy"
      }
    },
    {
      "cell_type": "code",
      "source": [
        "# importing libraries for the project\n",
        "import pandas as pd\n",
        "import numpy as np\n",
        "from numpy.random import default_rng\n",
        "rng = default_rng()\n",
        "import random\n",
        "import copy\n",
        "!pip install geneticalgorithm\n",
        "import geneticalgorithm as ga\n",
        "from geneticalgorithm import geneticalgorithm as ga\n",
        "print(\"done\")"
      ],
      "metadata": {
        "id": "YCgrQU6-E8b4",
        "colab": {
          "base_uri": "https://localhost:8080/"
        },
        "outputId": "a01137ee-b154-4faa-bc29-e0a9311cec65"
      },
      "execution_count": 125,
      "outputs": [
        {
          "output_type": "stream",
          "name": "stdout",
          "text": [
            "Requirement already satisfied: geneticalgorithm in /usr/local/lib/python3.7/dist-packages (1.0.2)\n",
            "Requirement already satisfied: func-timeout in /usr/local/lib/python3.7/dist-packages (from geneticalgorithm) (4.3.5)\n",
            "Requirement already satisfied: numpy in /usr/local/lib/python3.7/dist-packages (from geneticalgorithm) (1.21.5)\n",
            "done\n"
          ]
        }
      ]
    },
    {
      "cell_type": "markdown",
      "source": [
        "# Importing the Excel File"
      ],
      "metadata": {
        "id": "xADgo8YMFgxq"
      }
    },
    {
      "cell_type": "markdown",
      "source": [
        "## Import file from PC"
      ],
      "metadata": {
        "id": "9NWoNaP3C6n1"
      }
    },
    {
      "cell_type": "markdown",
      "source": [
        "\n",
        "<font color='red'> 🔴🔴 Kızçeler, bir değişiklik yaptım kolay olsun diye 🔴🔴</font> \n",
        "</br>Drive'daki \"Düzenlenmiş_Dişli_Parçaları\" Excelini kendi bilgisayarınıza indirin. \n",
        "</br>Sonra veriyi çekmek için aşağıdaki kodu çalıştırın."
      ],
      "metadata": {
        "id": "kzmKo3p4saIK"
      }
    },
    {
      "cell_type": "code",
      "execution_count": 4,
      "metadata": {
        "colab": {
          "resources": {
            "http://localhost:8080/nbextensions/google.colab/files.js": {
              "data": "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",
              "ok": true,
              "headers": [
                [
                  "content-type",
                  "application/javascript"
                ]
              ],
              "status": 200,
              "status_text": ""
            }
          },
          "base_uri": "https://localhost:8080/",
          "height": 74
        },
        "id": "f0XjhQIHBo92",
        "outputId": "f68d9e2d-7938-4a65-cbdc-da4994e434db"
      },
      "outputs": [
        {
          "output_type": "display_data",
          "data": {
            "text/plain": [
              "<IPython.core.display.HTML object>"
            ],
            "text/html": [
              "\n",
              "     <input type=\"file\" id=\"files-28eb928c-1c75-45d6-adbc-7331e42da092\" name=\"files[]\" multiple disabled\n",
              "        style=\"border:none\" />\n",
              "     <output id=\"result-28eb928c-1c75-45d6-adbc-7331e42da092\">\n",
              "      Upload widget is only available when the cell has been executed in the\n",
              "      current browser session. Please rerun this cell to enable.\n",
              "      </output>\n",
              "      <script src=\"/nbextensions/google.colab/files.js\"></script> "
            ]
          },
          "metadata": {}
        },
        {
          "output_type": "stream",
          "name": "stdout",
          "text": [
            "Saving Düzenlenmiş_Dişli_Parçaları.xlsx to Düzenlenmiş_Dişli_Parçaları (1).xlsx\n"
          ]
        }
      ],
      "source": [
        "from google.colab import files\n",
        "uploaded = files.upload()"
      ]
    },
    {
      "cell_type": "code",
      "source": [
        "import io\n",
        "df = pd.read_excel(io.BytesIO(uploaded[\"Düzenlenmiş_Dişli_Parçaları.xlsx\"]), sheet_name='Anka', header=0)\n",
        "del df['SÜRE (11 parça için)']\n",
        "del df['1 tanesi için kaç tane gerek']\n",
        "del df['PROSES']\n",
        "del df['Process time']\n",
        "df"
      ],
      "metadata": {
        "id": "Qg8qyn0RB9E7",
        "colab": {
          "base_uri": "https://localhost:8080/",
          "height": 423
        },
        "outputId": "95365ea9-229d-4b41-a69c-924ea726a076"
      },
      "execution_count": 18,
      "outputs": [
        {
          "output_type": "execute_result",
          "data": {
            "text/plain": [
              "    Makine                          İşlem  SETUP  SÜRE (1 parça için)  \\\n",
              "0      D13     Pre-Hardening Öncesi Torna    0.0             1.000000   \n",
              "1      D33                        Yıkama     0.0             0.090909   \n",
              "2      D31  Ön Sertleştirme (Isıl İşlem)     0.0             0.545455   \n",
              "3      D33                        Yıkama     0.0             0.090909   \n",
              "4      D32       Temperleme (Isıl İşlem)     0.0             0.454545   \n",
              "..     ...                            ...    ...                  ...   \n",
              "315    D12                        Yıkama     0.0             0.181818   \n",
              "316    D69                         Balans    0.0             1.000000   \n",
              "317    D65                           MPI     0.0             0.454545   \n",
              "318    D12                        Yıkama     0.0             0.090909   \n",
              "319    662                Kalite Kontrol     0.0             0.500000   \n",
              "\n",
              "                                      PARÇA  \n",
              "0          UM121T900201200 GEAR ENGINE Z35   \n",
              "1          UM121T900201200 GEAR ENGINE Z35   \n",
              "2          UM121T900201200 GEAR ENGINE Z35   \n",
              "3          UM121T900201200 GEAR ENGINE Z35   \n",
              "4          UM121T900201200 GEAR ENGINE Z35   \n",
              "..                                      ...  \n",
              "315  UM121T900204300 GEAR ALTERNATOR Z13 -2  \n",
              "316  UM121T900204300 GEAR ALTERNATOR Z13 -2  \n",
              "317  UM121T900204300 GEAR ALTERNATOR Z13 -2  \n",
              "318  UM121T900204300 GEAR ALTERNATOR Z13 -2  \n",
              "319  UM121T900204300 GEAR ALTERNATOR Z13 -2  \n",
              "\n",
              "[320 rows x 5 columns]"
            ],
            "text/html": [
              "\n",
              "  <div id=\"df-9dcd4197-49f8-4f0b-a671-c87317a09a64\">\n",
              "    <div class=\"colab-df-container\">\n",
              "      <div>\n",
              "<style scoped>\n",
              "    .dataframe tbody tr th:only-of-type {\n",
              "        vertical-align: middle;\n",
              "    }\n",
              "\n",
              "    .dataframe tbody tr th {\n",
              "        vertical-align: top;\n",
              "    }\n",
              "\n",
              "    .dataframe thead th {\n",
              "        text-align: right;\n",
              "    }\n",
              "</style>\n",
              "<table border=\"1\" class=\"dataframe\">\n",
              "  <thead>\n",
              "    <tr style=\"text-align: right;\">\n",
              "      <th></th>\n",
              "      <th>Makine</th>\n",
              "      <th>İşlem</th>\n",
              "      <th>SETUP</th>\n",
              "      <th>SÜRE (1 parça için)</th>\n",
              "      <th>PARÇA</th>\n",
              "    </tr>\n",
              "  </thead>\n",
              "  <tbody>\n",
              "    <tr>\n",
              "      <th>0</th>\n",
              "      <td>D13</td>\n",
              "      <td>Pre-Hardening Öncesi Torna</td>\n",
              "      <td>0.0</td>\n",
              "      <td>1.000000</td>\n",
              "      <td>UM121T900201200 GEAR ENGINE Z35</td>\n",
              "    </tr>\n",
              "    <tr>\n",
              "      <th>1</th>\n",
              "      <td>D33</td>\n",
              "      <td>Yıkama</td>\n",
              "      <td>0.0</td>\n",
              "      <td>0.090909</td>\n",
              "      <td>UM121T900201200 GEAR ENGINE Z35</td>\n",
              "    </tr>\n",
              "    <tr>\n",
              "      <th>2</th>\n",
              "      <td>D31</td>\n",
              "      <td>Ön Sertleştirme (Isıl İşlem)</td>\n",
              "      <td>0.0</td>\n",
              "      <td>0.545455</td>\n",
              "      <td>UM121T900201200 GEAR ENGINE Z35</td>\n",
              "    </tr>\n",
              "    <tr>\n",
              "      <th>3</th>\n",
              "      <td>D33</td>\n",
              "      <td>Yıkama</td>\n",
              "      <td>0.0</td>\n",
              "      <td>0.090909</td>\n",
              "      <td>UM121T900201200 GEAR ENGINE Z35</td>\n",
              "    </tr>\n",
              "    <tr>\n",
              "      <th>4</th>\n",
              "      <td>D32</td>\n",
              "      <td>Temperleme (Isıl İşlem)</td>\n",
              "      <td>0.0</td>\n",
              "      <td>0.454545</td>\n",
              "      <td>UM121T900201200 GEAR ENGINE Z35</td>\n",
              "    </tr>\n",
              "    <tr>\n",
              "      <th>...</th>\n",
              "      <td>...</td>\n",
              "      <td>...</td>\n",
              "      <td>...</td>\n",
              "      <td>...</td>\n",
              "      <td>...</td>\n",
              "    </tr>\n",
              "    <tr>\n",
              "      <th>315</th>\n",
              "      <td>D12</td>\n",
              "      <td>Yıkama</td>\n",
              "      <td>0.0</td>\n",
              "      <td>0.181818</td>\n",
              "      <td>UM121T900204300 GEAR ALTERNATOR Z13 -2</td>\n",
              "    </tr>\n",
              "    <tr>\n",
              "      <th>316</th>\n",
              "      <td>D69</td>\n",
              "      <td>Balans</td>\n",
              "      <td>0.0</td>\n",
              "      <td>1.000000</td>\n",
              "      <td>UM121T900204300 GEAR ALTERNATOR Z13 -2</td>\n",
              "    </tr>\n",
              "    <tr>\n",
              "      <th>317</th>\n",
              "      <td>D65</td>\n",
              "      <td>MPI</td>\n",
              "      <td>0.0</td>\n",
              "      <td>0.454545</td>\n",
              "      <td>UM121T900204300 GEAR ALTERNATOR Z13 -2</td>\n",
              "    </tr>\n",
              "    <tr>\n",
              "      <th>318</th>\n",
              "      <td>D12</td>\n",
              "      <td>Yıkama</td>\n",
              "      <td>0.0</td>\n",
              "      <td>0.090909</td>\n",
              "      <td>UM121T900204300 GEAR ALTERNATOR Z13 -2</td>\n",
              "    </tr>\n",
              "    <tr>\n",
              "      <th>319</th>\n",
              "      <td>662</td>\n",
              "      <td>Kalite Kontrol</td>\n",
              "      <td>0.0</td>\n",
              "      <td>0.500000</td>\n",
              "      <td>UM121T900204300 GEAR ALTERNATOR Z13 -2</td>\n",
              "    </tr>\n",
              "  </tbody>\n",
              "</table>\n",
              "<p>320 rows × 5 columns</p>\n",
              "</div>\n",
              "      <button class=\"colab-df-convert\" onclick=\"convertToInteractive('df-9dcd4197-49f8-4f0b-a671-c87317a09a64')\"\n",
              "              title=\"Convert this dataframe to an interactive table.\"\n",
              "              style=\"display:none;\">\n",
              "        \n",
              "  <svg xmlns=\"http://www.w3.org/2000/svg\" height=\"24px\"viewBox=\"0 0 24 24\"\n",
              "       width=\"24px\">\n",
              "    <path d=\"M0 0h24v24H0V0z\" fill=\"none\"/>\n",
              "    <path d=\"M18.56 5.44l.94 2.06.94-2.06 2.06-.94-2.06-.94-.94-2.06-.94 2.06-2.06.94zm-11 1L8.5 8.5l.94-2.06 2.06-.94-2.06-.94L8.5 2.5l-.94 2.06-2.06.94zm10 10l.94 2.06.94-2.06 2.06-.94-2.06-.94-.94-2.06-.94 2.06-2.06.94z\"/><path d=\"M17.41 7.96l-1.37-1.37c-.4-.4-.92-.59-1.43-.59-.52 0-1.04.2-1.43.59L10.3 9.45l-7.72 7.72c-.78.78-.78 2.05 0 2.83L4 21.41c.39.39.9.59 1.41.59.51 0 1.02-.2 1.41-.59l7.78-7.78 2.81-2.81c.8-.78.8-2.07 0-2.86zM5.41 20L4 18.59l7.72-7.72 1.47 1.35L5.41 20z\"/>\n",
              "  </svg>\n",
              "      </button>\n",
              "      \n",
              "  <style>\n",
              "    .colab-df-container {\n",
              "      display:flex;\n",
              "      flex-wrap:wrap;\n",
              "      gap: 12px;\n",
              "    }\n",
              "\n",
              "    .colab-df-convert {\n",
              "      background-color: #E8F0FE;\n",
              "      border: none;\n",
              "      border-radius: 50%;\n",
              "      cursor: pointer;\n",
              "      display: none;\n",
              "      fill: #1967D2;\n",
              "      height: 32px;\n",
              "      padding: 0 0 0 0;\n",
              "      width: 32px;\n",
              "    }\n",
              "\n",
              "    .colab-df-convert:hover {\n",
              "      background-color: #E2EBFA;\n",
              "      box-shadow: 0px 1px 2px rgba(60, 64, 67, 0.3), 0px 1px 3px 1px rgba(60, 64, 67, 0.15);\n",
              "      fill: #174EA6;\n",
              "    }\n",
              "\n",
              "    [theme=dark] .colab-df-convert {\n",
              "      background-color: #3B4455;\n",
              "      fill: #D2E3FC;\n",
              "    }\n",
              "\n",
              "    [theme=dark] .colab-df-convert:hover {\n",
              "      background-color: #434B5C;\n",
              "      box-shadow: 0px 1px 3px 1px rgba(0, 0, 0, 0.15);\n",
              "      filter: drop-shadow(0px 1px 2px rgba(0, 0, 0, 0.3));\n",
              "      fill: #FFFFFF;\n",
              "    }\n",
              "  </style>\n",
              "\n",
              "      <script>\n",
              "        const buttonEl =\n",
              "          document.querySelector('#df-9dcd4197-49f8-4f0b-a671-c87317a09a64 button.colab-df-convert');\n",
              "        buttonEl.style.display =\n",
              "          google.colab.kernel.accessAllowed ? 'block' : 'none';\n",
              "\n",
              "        async function convertToInteractive(key) {\n",
              "          const element = document.querySelector('#df-9dcd4197-49f8-4f0b-a671-c87317a09a64');\n",
              "          const dataTable =\n",
              "            await google.colab.kernel.invokeFunction('convertToInteractive',\n",
              "                                                     [key], {});\n",
              "          if (!dataTable) return;\n",
              "\n",
              "          const docLinkHtml = 'Like what you see? Visit the ' +\n",
              "            '<a target=\"_blank\" href=https://colab.research.google.com/notebooks/data_table.ipynb>data table notebook</a>'\n",
              "            + ' to learn more about interactive tables.';\n",
              "          element.innerHTML = '';\n",
              "          dataTable['output_type'] = 'display_data';\n",
              "          await google.colab.output.renderOutput(dataTable, element);\n",
              "          const docLink = document.createElement('div');\n",
              "          docLink.innerHTML = docLinkHtml;\n",
              "          element.appendChild(docLink);\n",
              "        }\n",
              "      </script>\n",
              "    </div>\n",
              "  </div>\n",
              "  "
            ]
          },
          "metadata": {},
          "execution_count": 18
        }
      ]
    },
    {
      "cell_type": "markdown",
      "source": [
        "# Next steps"
      ],
      "metadata": {
        "id": "3gQeCladFZsa"
      }
    },
    {
      "cell_type": "code",
      "source": [
        "m_list = np.unique(np.array(df[\"Makine\"]))                          # Each machine needed for this piece\n",
        "m_num_list = [1, 2, 1, 4, 3, 2, 3, 3, 3, 2, 2, 1, 1, 1, 2, 1, 1]    # How many there're of each machine (done manually now; automate later)\n",
        "print(len(m_list),m_list)\n",
        "print(len(m_num_list),m_num_list)"
      ],
      "metadata": {
        "colab": {
          "base_uri": "https://localhost:8080/"
        },
        "id": "WqMVoYmHOp-g",
        "outputId": "d25ce711-d660-4586-8f5f-7e44c830873f"
      },
      "execution_count": 19,
      "outputs": [
        {
          "output_type": "stream",
          "name": "stdout",
          "text": [
            "17 ['662' 'D11' 'D12' 'D13' 'D15' 'D17' 'D27' 'D31' 'D32' 'D33' 'D41' 'D43'\n",
            " 'D44' 'D47' 'D65' 'D69' 'Nital Etche, Hydrojen Embr.']\n",
            "17 [1, 2, 1, 4, 3, 2, 3, 3, 3, 2, 2, 1, 1, 1, 2, 1, 1]\n"
          ]
        }
      ]
    },
    {
      "cell_type": "code",
      "source": [
        "# creating a dictionary with each machine (including duplicates)\n",
        "all_machines = {}\n",
        "n = 0\n",
        "for m in m_list:\n",
        "  m_num = m_num_list[n]\n",
        "  if m_num > 0:\n",
        "    all_machines[m] = []\n",
        "    # Adding processes to the machines (but not to duplicates)\n",
        "    for r in range(len(df[\"Makine\"])):\n",
        "      if m == df.iloc[r][\"Makine\"]:\n",
        "        all_machines[m].append(r+1)\n",
        "  # add duplicate machines without the processes\n",
        "  if m_num > 1:\n",
        "    m1 = m+\"-1\"\n",
        "    all_machines[m1] = all_machines[m]\n",
        "    all_machines.pop(m)\n",
        "    if m_num > 1:\n",
        "      m2 = m+\"-2\"\n",
        "      all_machines[m2] = []\n",
        "    if m_num > 2:\n",
        "      m3 = m+\"-3\"\n",
        "      all_machines[m3] = []\n",
        "    if m_num > 3:\n",
        "      m4 = m+\"-4\"\n",
        "      all_machines[m4] = []   # later add more if there're 4+ of a certain machine ---> or just write a function for this \n",
        "  n += 1\n",
        "   \n",
        "for k in all_machines:\n",
        "  print(k,\"\\t\",all_machines[k])"
      ],
      "metadata": {
        "colab": {
          "base_uri": "https://localhost:8080/"
        },
        "id": "ScOeU8KWvn1S",
        "outputId": "fec2ac7b-27c4-4b62-b7df-56221f721e20"
      },
      "execution_count": 126,
      "outputs": [
        {
          "output_type": "stream",
          "name": "stdout",
          "text": [
            "662 \t [26, 32, 58, 64, 90, 96, 122, 128, 154, 160, 186, 192, 218, 224, 250, 256, 282, 288, 314, 320]\n",
            "D11-1 \t [11, 23, 43, 55, 75, 87, 107, 119, 139, 151, 171, 183, 203, 215, 235, 247, 267, 279, 299, 311]\n",
            "D11-2 \t []\n",
            "D12 \t [13, 24, 28, 31, 45, 56, 60, 63, 77, 88, 92, 95, 109, 120, 124, 127, 141, 152, 156, 159, 173, 184, 188, 191, 205, 216, 220, 223, 237, 248, 252, 255, 269, 280, 284, 287, 301, 312, 316, 319]\n",
            "D13-1 \t [1, 7, 33, 39, 65, 71, 97, 103, 129, 135, 161, 167, 193, 199, 225, 231, 257, 263, 289, 295]\n",
            "D13-2 \t []\n",
            "D13-3 \t []\n",
            "D13-4 \t []\n",
            "D15-1 \t [14, 20, 25, 46, 52, 57, 78, 84, 89, 110, 116, 121, 142, 148, 153, 174, 180, 185, 206, 212, 217, 238, 244, 249, 270, 276, 281, 302, 308, 313]\n",
            "D15-2 \t []\n",
            "D15-3 \t []\n",
            "D17-1 \t [10, 22, 42, 54, 74, 86, 106, 118, 138, 150, 170, 182, 202, 214, 234, 246, 266, 278, 298, 310]\n",
            "D17-2 \t []\n",
            "D27-1 \t [21, 53, 85, 117, 149, 181, 213, 245, 277, 309]\n",
            "D27-2 \t []\n",
            "D27-3 \t []\n",
            "D31-1 \t [3, 15, 35, 47, 67, 79, 99, 111, 131, 143, 163, 175, 195, 207, 227, 239, 259, 271, 291, 303]\n",
            "D31-2 \t []\n",
            "D31-3 \t []\n",
            "D32-1 \t [5, 18, 37, 50, 69, 82, 101, 114, 133, 146, 165, 178, 197, 210, 229, 242, 261, 274, 293, 306]\n",
            "D32-2 \t []\n",
            "D32-3 \t []\n",
            "D33-1 \t [2, 4, 16, 34, 36, 48, 66, 68, 80, 98, 100, 112, 130, 132, 144, 162, 164, 176, 194, 196, 208, 226, 228, 240, 258, 260, 272, 290, 292, 304]\n",
            "D33-2 \t []\n",
            "D41-1 \t [17, 49, 81, 113, 145, 177, 209, 241, 273, 305]\n",
            "D41-2 \t []\n",
            "D43 \t [9, 41, 73, 105, 137, 169, 201, 233, 265, 297]\n",
            "D44 \t [8, 12, 40, 44, 72, 76, 104, 108, 136, 140, 168, 172, 200, 204, 232, 236, 264, 268, 296, 300]\n",
            "D47 \t [6, 19, 38, 51, 70, 83, 102, 115, 134, 147, 166, 179, 198, 211, 230, 243, 262, 275, 294, 307]\n",
            "D65-1 \t [30, 62, 94, 126, 158, 190, 222, 254, 286, 318]\n",
            "D65-2 \t []\n",
            "D69 \t [29, 61, 93, 125, 157, 189, 221, 253, 285, 317]\n",
            "Nital Etche, Hydrojen Embr. \t [27, 59, 91, 123, 155, 187, 219, 251, 283, 315]\n"
          ]
        }
      ]
    },
    {
      "cell_type": "code",
      "source": [
        "machines = copy.deepcopy(all_machines)\n",
        "\n",
        "# initialize genetic algorithm where each gene is a machine's schedule\n",
        "num_genes = len(machines)\n",
        "num_chro = 8\n",
        "popu_size = (num_chro,num_genes)\n",
        "new_popu = []\n",
        "\n",
        "for i in range(num_chro):\n",
        "  new_popu.append([machines])\n",
        "\n",
        "# shuffle the order of processes in each machine/gene except for the first chromosome, and print results\n",
        "first_one = True\n",
        "for i in new_popu:\n",
        "  if first_one == False:\n",
        "    for j in i:\n",
        "      for k in j:\n",
        "        #print(\"---\",j[k])\n",
        "        temp_l = random.sample(list(j[k]),len(j[k]))\n",
        "        j[k] = temp_l\n",
        "        #print(\"-\",j[k])\n",
        "  first_one = False\n",
        "  print(i)"
      ],
      "metadata": {
        "colab": {
          "base_uri": "https://localhost:8080/"
        },
        "id": "69QLThuy8v3k",
        "outputId": "ac4087d3-7548-479a-aa39-3049789fbf0c"
      },
      "execution_count": 134,
      "outputs": [
        {
          "output_type": "stream",
          "name": "stdout",
          "text": [
            "[{'662': [26, 32, 58, 64, 90, 96, 122, 128, 154, 160, 186, 192, 218, 224, 250, 256, 282, 288, 314, 320], 'D11-1': [11, 23, 43, 55, 75, 87, 107, 119, 139, 151, 171, 183, 203, 215, 235, 247, 267, 279, 299, 311], 'D11-2': [], 'D12': [13, 24, 28, 31, 45, 56, 60, 63, 77, 88, 92, 95, 109, 120, 124, 127, 141, 152, 156, 159, 173, 184, 188, 191, 205, 216, 220, 223, 237, 248, 252, 255, 269, 280, 284, 287, 301, 312, 316, 319], 'D13-1': [1, 7, 33, 39, 65, 71, 97, 103, 129, 135, 161, 167, 193, 199, 225, 231, 257, 263, 289, 295], 'D13-2': [], 'D13-3': [], 'D13-4': [], 'D15-1': [14, 20, 25, 46, 52, 57, 78, 84, 89, 110, 116, 121, 142, 148, 153, 174, 180, 185, 206, 212, 217, 238, 244, 249, 270, 276, 281, 302, 308, 313], 'D15-2': [], 'D15-3': [], 'D17-1': [10, 22, 42, 54, 74, 86, 106, 118, 138, 150, 170, 182, 202, 214, 234, 246, 266, 278, 298, 310], 'D17-2': [], 'D27-1': [21, 53, 85, 117, 149, 181, 213, 245, 277, 309], 'D27-2': [], 'D27-3': [], 'D31-1': [3, 15, 35, 47, 67, 79, 99, 111, 131, 143, 163, 175, 195, 207, 227, 239, 259, 271, 291, 303], 'D31-2': [], 'D31-3': [], 'D32-1': [5, 18, 37, 50, 69, 82, 101, 114, 133, 146, 165, 178, 197, 210, 229, 242, 261, 274, 293, 306], 'D32-2': [], 'D32-3': [], 'D33-1': [2, 4, 16, 34, 36, 48, 66, 68, 80, 98, 100, 112, 130, 132, 144, 162, 164, 176, 194, 196, 208, 226, 228, 240, 258, 260, 272, 290, 292, 304], 'D33-2': [], 'D41-1': [17, 49, 81, 113, 145, 177, 209, 241, 273, 305], 'D41-2': [], 'D43': [9, 41, 73, 105, 137, 169, 201, 233, 265, 297], 'D44': [8, 12, 40, 44, 72, 76, 104, 108, 136, 140, 168, 172, 200, 204, 232, 236, 264, 268, 296, 300], 'D47': [6, 19, 38, 51, 70, 83, 102, 115, 134, 147, 166, 179, 198, 211, 230, 243, 262, 275, 294, 307], 'D65-1': [30, 62, 94, 126, 158, 190, 222, 254, 286, 318], 'D65-2': [], 'D69': [29, 61, 93, 125, 157, 189, 221, 253, 285, 317], 'Nital Etche, Hydrojen Embr.': [27, 59, 91, 123, 155, 187, 219, 251, 283, 315]}]\n",
            "[{'662': [122, 58, 250, 256, 186, 128, 154, 26, 224, 32, 282, 96, 160, 218, 192, 64, 90, 314, 288, 320], 'D11-1': [203, 75, 183, 267, 139, 311, 299, 107, 235, 23, 215, 55, 279, 151, 171, 247, 11, 87, 119, 43], 'D11-2': [], 'D12': [109, 312, 95, 127, 220, 191, 319, 63, 173, 88, 184, 60, 255, 301, 120, 152, 248, 216, 141, 92, 124, 45, 188, 24, 269, 31, 237, 156, 280, 205, 287, 13, 316, 77, 252, 56, 28, 159, 284, 223], 'D13-1': [135, 263, 225, 231, 295, 161, 129, 65, 7, 103, 199, 193, 167, 289, 257, 71, 1, 97, 39, 33], 'D13-2': [], 'D13-3': [], 'D13-4': [], 'D15-1': [89, 46, 153, 313, 20, 270, 185, 142, 206, 238, 121, 276, 14, 180, 249, 302, 25, 281, 84, 212, 52, 116, 57, 244, 110, 308, 174, 78, 148, 217], 'D15-2': [], 'D15-3': [], 'D17-1': [182, 278, 310, 150, 118, 54, 266, 86, 138, 202, 10, 42, 246, 22, 214, 170, 298, 234, 106, 74], 'D17-2': [], 'D27-1': [117, 309, 277, 85, 21, 213, 245, 53, 149, 181], 'D27-2': [], 'D27-3': [], 'D31-1': [239, 291, 47, 303, 227, 271, 131, 35, 207, 175, 143, 79, 99, 163, 3, 67, 259, 195, 15, 111], 'D31-2': [], 'D31-3': [], 'D32-1': [50, 101, 133, 69, 37, 229, 197, 5, 18, 210, 274, 146, 82, 178, 261, 114, 293, 165, 242, 306], 'D32-2': [], 'D32-3': [], 'D33-1': [100, 272, 304, 228, 80, 36, 176, 112, 48, 66, 4, 16, 292, 34, 208, 162, 258, 98, 260, 194, 226, 130, 2, 164, 144, 240, 290, 132, 68, 196], 'D33-2': [], 'D41-1': [17, 209, 145, 81, 305, 113, 241, 49, 273, 177], 'D41-2': [], 'D43': [297, 9, 233, 169, 105, 73, 41, 201, 137, 265], 'D44': [76, 108, 172, 268, 232, 204, 236, 8, 12, 300, 264, 296, 40, 200, 104, 140, 72, 168, 136, 44], 'D47': [102, 230, 166, 198, 51, 38, 134, 70, 115, 6, 243, 262, 179, 294, 83, 211, 19, 307, 147, 275], 'D65-1': [286, 318, 62, 158, 254, 126, 222, 190, 94, 30], 'D65-2': [], 'D69': [221, 93, 157, 125, 253, 285, 61, 189, 317, 29], 'Nital Etche, Hydrojen Embr.': [155, 315, 59, 91, 219, 27, 187, 123, 251, 283]}]\n",
            "[{'662': [186, 64, 288, 314, 128, 250, 192, 32, 96, 160, 256, 58, 282, 90, 26, 218, 154, 320, 122, 224], 'D11-1': [171, 235, 23, 279, 11, 267, 139, 75, 311, 183, 151, 299, 107, 203, 43, 119, 87, 247, 55, 215], 'D11-2': [], 'D12': [45, 284, 109, 156, 92, 77, 24, 188, 316, 319, 159, 312, 205, 127, 28, 287, 152, 120, 31, 301, 88, 237, 223, 248, 220, 124, 56, 216, 252, 60, 191, 184, 280, 13, 63, 141, 95, 269, 255, 173], 'D13-1': [7, 295, 199, 71, 103, 225, 167, 231, 257, 263, 289, 65, 129, 1, 97, 135, 39, 161, 193, 33], 'D13-2': [], 'D13-3': [], 'D13-4': [], 'D15-1': [25, 121, 206, 217, 276, 116, 110, 302, 20, 281, 244, 153, 308, 78, 46, 52, 270, 89, 212, 84, 238, 249, 185, 142, 14, 148, 174, 180, 313, 57], 'D15-2': [], 'D15-3': [], 'D17-1': [182, 54, 118, 86, 246, 138, 202, 22, 310, 74, 278, 150, 298, 214, 106, 170, 42, 266, 10, 234], 'D17-2': [], 'D27-1': [213, 85, 149, 277, 53, 245, 309, 117, 21, 181], 'D27-2': [], 'D27-3': [], 'D31-1': [207, 175, 227, 259, 143, 111, 3, 35, 79, 195, 67, 15, 131, 47, 239, 303, 163, 99, 291, 271], 'D31-2': [], 'D31-3': [], 'D32-1': [101, 82, 69, 133, 165, 50, 274, 210, 293, 197, 229, 242, 261, 114, 37, 306, 146, 18, 178, 5], 'D32-2': [], 'D32-3': [], 'D33-1': [176, 196, 112, 304, 290, 66, 132, 80, 194, 226, 162, 272, 100, 208, 48, 292, 260, 228, 34, 16, 240, 164, 68, 130, 2, 36, 258, 4, 98, 144], 'D33-2': [], 'D41-1': [209, 113, 145, 49, 273, 241, 17, 81, 177, 305], 'D41-2': [], 'D43': [201, 265, 105, 297, 73, 169, 137, 233, 41, 9], 'D44': [108, 72, 172, 104, 300, 296, 40, 8, 264, 44, 76, 200, 140, 12, 236, 136, 168, 268, 204, 232], 'D47': [275, 19, 38, 230, 51, 307, 198, 70, 262, 147, 6, 134, 83, 115, 102, 211, 243, 294, 166, 179], 'D65-1': [126, 30, 318, 190, 222, 286, 254, 94, 158, 62], 'D65-2': [], 'D69': [189, 253, 285, 29, 125, 221, 157, 93, 61, 317], 'Nital Etche, Hydrojen Embr.': [283, 155, 91, 27, 251, 59, 219, 187, 123, 315]}]\n",
            "[{'662': [154, 282, 288, 26, 320, 186, 122, 250, 58, 96, 256, 128, 192, 314, 224, 160, 32, 64, 90, 218], 'D11-1': [87, 55, 183, 139, 107, 299, 151, 11, 311, 267, 247, 215, 203, 235, 43, 171, 23, 119, 279, 75], 'D11-2': [], 'D12': [124, 301, 45, 92, 188, 31, 88, 312, 24, 127, 252, 205, 63, 109, 159, 156, 28, 184, 220, 120, 141, 191, 284, 56, 269, 216, 316, 152, 280, 173, 248, 237, 13, 255, 223, 319, 77, 95, 60, 287], 'D13-1': [103, 257, 231, 33, 289, 129, 71, 225, 7, 135, 97, 167, 295, 65, 263, 199, 161, 1, 193, 39], 'D13-2': [], 'D13-3': [], 'D13-4': [], 'D15-1': [212, 14, 276, 281, 121, 249, 57, 302, 206, 110, 148, 308, 238, 142, 46, 313, 180, 89, 20, 84, 116, 217, 153, 174, 52, 244, 25, 185, 270, 78], 'D15-2': [], 'D15-3': [], 'D17-1': [298, 310, 106, 214, 170, 10, 246, 74, 86, 234, 54, 42, 150, 278, 138, 202, 118, 266, 182, 22], 'D17-2': [], 'D27-1': [309, 21, 213, 181, 117, 245, 53, 149, 85, 277], 'D27-2': [], 'D27-3': [], 'D31-1': [259, 67, 291, 227, 195, 111, 15, 47, 163, 143, 3, 271, 207, 239, 79, 99, 35, 131, 175, 303], 'D31-2': [], 'D31-3': [], 'D32-1': [50, 306, 178, 82, 5, 37, 274, 165, 210, 133, 229, 114, 242, 197, 69, 101, 18, 261, 146, 293], 'D32-2': [], 'D32-3': [], 'D33-1': [98, 130, 100, 164, 48, 304, 226, 272, 240, 34, 112, 194, 2, 66, 16, 162, 290, 36, 258, 68, 132, 196, 4, 176, 80, 228, 292, 260, 144, 208], 'D33-2': [], 'D41-1': [305, 81, 145, 49, 17, 177, 241, 209, 273, 113], 'D41-2': [], 'D43': [297, 105, 201, 41, 73, 9, 265, 233, 169, 137], 'D44': [8, 232, 136, 268, 236, 296, 168, 204, 172, 76, 12, 140, 72, 108, 200, 300, 104, 40, 44, 264], 'D47': [51, 70, 115, 83, 6, 262, 19, 102, 243, 134, 294, 211, 38, 275, 230, 307, 147, 166, 198, 179], 'D65-1': [254, 158, 94, 190, 126, 286, 62, 30, 318, 222], 'D65-2': [], 'D69': [253, 189, 285, 29, 61, 125, 157, 317, 93, 221], 'Nital Etche, Hydrojen Embr.': [91, 219, 59, 27, 315, 251, 283, 155, 123, 187]}]\n",
            "[{'662': [186, 320, 224, 32, 288, 154, 64, 250, 282, 26, 160, 218, 90, 58, 128, 122, 314, 96, 192, 256], 'D11-1': [171, 119, 235, 215, 23, 107, 43, 311, 75, 183, 203, 87, 299, 55, 11, 151, 279, 267, 247, 139], 'D11-2': [], 'D12': [301, 95, 173, 184, 287, 284, 124, 252, 188, 316, 63, 127, 88, 248, 28, 60, 13, 191, 77, 312, 216, 237, 120, 31, 141, 223, 269, 156, 109, 255, 220, 319, 56, 280, 152, 24, 92, 205, 45, 159], 'D13-1': [1, 295, 129, 289, 199, 33, 161, 7, 65, 263, 231, 167, 193, 97, 225, 39, 135, 257, 103, 71], 'D13-2': [], 'D13-3': [], 'D13-4': [], 'D15-1': [116, 302, 78, 270, 20, 276, 313, 142, 52, 25, 46, 281, 14, 212, 238, 153, 110, 217, 180, 308, 148, 249, 121, 84, 57, 244, 185, 89, 206, 174], 'D15-2': [], 'D15-3': [], 'D17-1': [214, 310, 150, 234, 22, 266, 118, 182, 86, 74, 54, 278, 106, 138, 170, 10, 42, 298, 246, 202], 'D17-2': [], 'D27-1': [277, 149, 117, 245, 85, 309, 21, 53, 213, 181], 'D27-2': [], 'D27-3': [], 'D31-1': [303, 67, 239, 207, 259, 175, 35, 131, 3, 195, 227, 15, 79, 271, 99, 143, 291, 111, 163, 47], 'D31-2': [], 'D31-3': [], 'D32-1': [165, 82, 293, 197, 274, 306, 242, 229, 18, 69, 261, 37, 5, 50, 210, 114, 101, 146, 133, 178], 'D32-2': [], 'D32-3': [], 'D33-1': [228, 162, 260, 34, 304, 48, 226, 68, 290, 132, 272, 16, 164, 130, 4, 176, 240, 292, 208, 112, 66, 144, 258, 100, 194, 80, 2, 196, 36, 98], 'D33-2': [], 'D41-1': [81, 273, 17, 177, 49, 113, 145, 209, 241, 305], 'D41-2': [], 'D43': [105, 41, 9, 201, 73, 297, 169, 233, 137, 265], 'D44': [268, 72, 44, 104, 136, 76, 12, 204, 168, 172, 108, 40, 200, 236, 296, 140, 300, 264, 8, 232], 'D47': [166, 243, 294, 198, 51, 134, 307, 70, 102, 38, 179, 115, 230, 275, 83, 19, 147, 211, 262, 6], 'D65-1': [30, 62, 318, 286, 94, 126, 254, 158, 190, 222], 'D65-2': [], 'D69': [125, 61, 221, 317, 157, 93, 253, 189, 29, 285], 'Nital Etche, Hydrojen Embr.': [155, 219, 27, 187, 123, 59, 251, 91, 283, 315]}]\n",
            "[{'662': [282, 256, 186, 154, 96, 122, 64, 160, 218, 58, 26, 32, 288, 128, 192, 250, 314, 90, 320, 224], 'D11-1': [203, 11, 87, 23, 279, 299, 107, 119, 55, 43, 235, 171, 151, 183, 215, 267, 139, 311, 247, 75], 'D11-2': [], 'D12': [319, 191, 280, 60, 205, 63, 159, 45, 124, 312, 56, 248, 237, 316, 255, 120, 188, 127, 184, 223, 216, 156, 13, 269, 173, 301, 287, 109, 77, 220, 252, 152, 31, 92, 24, 284, 95, 88, 141, 28], 'D13-1': [167, 65, 257, 39, 289, 103, 1, 231, 263, 97, 193, 135, 33, 225, 295, 199, 161, 129, 7, 71], 'D13-2': [], 'D13-3': [], 'D13-4': [], 'D15-1': [244, 116, 46, 308, 14, 148, 89, 302, 276, 238, 281, 270, 185, 153, 313, 180, 110, 84, 78, 212, 142, 249, 57, 25, 52, 174, 20, 206, 217, 121], 'D15-2': [], 'D15-3': [], 'D17-1': [118, 246, 182, 150, 10, 42, 310, 138, 214, 234, 74, 278, 22, 54, 266, 298, 86, 202, 106, 170], 'D17-2': [], 'D27-1': [309, 213, 245, 181, 149, 277, 53, 21, 85, 117], 'D27-2': [], 'D27-3': [], 'D31-1': [67, 207, 79, 175, 303, 47, 271, 163, 131, 3, 15, 291, 239, 99, 143, 227, 195, 259, 35, 111], 'D31-2': [], 'D31-3': [], 'D32-1': [5, 306, 37, 50, 165, 293, 18, 82, 178, 261, 274, 69, 101, 146, 210, 133, 197, 114, 242, 229], 'D32-2': [], 'D32-3': [], 'D33-1': [272, 258, 80, 144, 16, 260, 130, 208, 66, 196, 100, 240, 176, 36, 292, 164, 194, 304, 48, 112, 2, 228, 4, 290, 98, 34, 162, 226, 68, 132], 'D33-2': [], 'D41-1': [81, 17, 177, 305, 241, 49, 209, 273, 113, 145], 'D41-2': [], 'D43': [233, 201, 265, 169, 137, 41, 297, 105, 9, 73], 'D44': [76, 12, 204, 236, 40, 136, 72, 172, 264, 108, 232, 296, 168, 44, 300, 104, 8, 140, 268, 200], 'D47': [70, 211, 230, 19, 147, 275, 102, 83, 51, 294, 307, 6, 243, 38, 115, 179, 134, 166, 262, 198], 'D65-1': [190, 126, 30, 158, 222, 286, 94, 254, 318, 62], 'D65-2': [], 'D69': [29, 61, 93, 189, 221, 125, 157, 317, 253, 285], 'Nital Etche, Hydrojen Embr.': [91, 251, 219, 315, 155, 27, 283, 123, 59, 187]}]\n",
            "[{'662': [256, 320, 218, 192, 250, 32, 128, 26, 96, 160, 186, 154, 64, 58, 90, 122, 282, 288, 224, 314], 'D11-1': [23, 215, 119, 311, 247, 43, 55, 183, 267, 203, 11, 299, 171, 107, 87, 139, 279, 75, 151, 235], 'D11-2': [], 'D12': [287, 191, 127, 28, 60, 156, 252, 220, 188, 56, 152, 237, 95, 92, 269, 316, 280, 173, 45, 223, 216, 63, 24, 184, 312, 255, 109, 159, 124, 248, 319, 205, 284, 77, 88, 120, 301, 141, 13, 31], 'D13-1': [39, 289, 33, 161, 263, 129, 193, 225, 199, 295, 135, 231, 257, 65, 71, 167, 1, 7, 97, 103], 'D13-2': [], 'D13-3': [], 'D13-4': [], 'D15-1': [116, 148, 52, 174, 153, 313, 244, 20, 206, 78, 276, 57, 249, 281, 217, 84, 142, 121, 308, 302, 238, 110, 14, 89, 212, 185, 25, 270, 180, 46], 'D15-2': [], 'D15-3': [], 'D17-1': [74, 170, 106, 118, 266, 234, 86, 42, 278, 138, 182, 246, 298, 202, 22, 214, 10, 150, 310, 54], 'D17-2': [], 'D27-1': [245, 309, 21, 53, 149, 213, 85, 277, 181, 117], 'D27-2': [], 'D27-3': [], 'D31-1': [271, 47, 79, 3, 291, 15, 227, 259, 143, 207, 195, 99, 35, 131, 67, 111, 303, 239, 175, 163], 'D31-2': [], 'D31-3': [], 'D32-1': [306, 274, 210, 146, 69, 293, 261, 178, 5, 37, 18, 114, 229, 242, 133, 82, 50, 197, 101, 165], 'D32-2': [], 'D32-3': [], 'D33-1': [226, 68, 258, 292, 80, 260, 48, 164, 34, 4, 130, 228, 208, 100, 194, 36, 196, 144, 240, 98, 112, 272, 66, 162, 16, 2, 132, 176, 290, 304], 'D33-2': [], 'D41-1': [113, 305, 145, 49, 177, 273, 81, 209, 241, 17], 'D41-2': [], 'D43': [201, 297, 233, 265, 137, 169, 41, 105, 9, 73], 'D44': [204, 108, 236, 172, 8, 296, 44, 140, 12, 104, 268, 72, 300, 264, 168, 232, 200, 136, 40, 76], 'D47': [166, 243, 307, 179, 134, 262, 211, 230, 294, 102, 115, 6, 198, 38, 147, 275, 51, 83, 19, 70], 'D65-1': [126, 158, 286, 190, 254, 222, 94, 30, 62, 318], 'D65-2': [], 'D69': [157, 285, 253, 29, 189, 61, 221, 317, 93, 125], 'Nital Etche, Hydrojen Embr.': [283, 155, 315, 59, 187, 251, 219, 123, 27, 91]}]\n",
            "[{'662': [218, 96, 58, 122, 224, 90, 256, 314, 320, 32, 26, 160, 288, 154, 64, 250, 282, 128, 192, 186], 'D11-1': [215, 87, 171, 203, 151, 311, 183, 107, 55, 299, 139, 43, 279, 23, 247, 235, 75, 119, 11, 267], 'D11-2': [], 'D12': [156, 92, 220, 269, 237, 24, 45, 63, 188, 205, 152, 216, 284, 141, 173, 191, 56, 255, 301, 60, 159, 13, 319, 252, 95, 248, 77, 127, 88, 124, 109, 223, 120, 280, 312, 287, 184, 316, 31, 28], 'D13-1': [103, 257, 39, 193, 231, 97, 33, 135, 65, 199, 289, 295, 71, 1, 225, 167, 7, 129, 161, 263], 'D13-2': [], 'D13-3': [], 'D13-4': [], 'D15-1': [308, 270, 14, 180, 142, 116, 174, 78, 153, 20, 313, 276, 302, 238, 84, 212, 52, 57, 217, 206, 148, 89, 46, 25, 249, 281, 185, 110, 244, 121], 'D15-2': [], 'D15-3': [], 'D17-1': [234, 22, 138, 214, 106, 182, 266, 246, 202, 10, 150, 42, 54, 118, 310, 170, 298, 86, 74, 278], 'D17-2': [], 'D27-1': [309, 181, 149, 213, 85, 53, 21, 245, 117, 277], 'D27-2': [], 'D27-3': [], 'D31-1': [271, 111, 15, 239, 79, 3, 291, 163, 47, 35, 175, 195, 99, 67, 131, 259, 143, 227, 303, 207], 'D31-2': [], 'D31-3': [], 'D32-1': [82, 197, 261, 5, 306, 274, 293, 101, 133, 50, 37, 114, 229, 146, 210, 69, 242, 178, 165, 18], 'D32-2': [], 'D32-3': [], 'D33-1': [228, 272, 258, 2, 164, 144, 130, 4, 34, 80, 194, 176, 304, 16, 196, 100, 240, 48, 68, 112, 162, 132, 36, 98, 66, 290, 292, 260, 226, 208], 'D33-2': [], 'D41-1': [209, 273, 49, 17, 145, 241, 81, 177, 113, 305], 'D41-2': [], 'D43': [105, 233, 265, 9, 137, 297, 201, 169, 41, 73], 'D44': [104, 108, 264, 136, 140, 172, 76, 40, 268, 200, 12, 232, 204, 168, 300, 44, 72, 296, 236, 8], 'D47': [51, 307, 83, 211, 230, 70, 134, 6, 275, 262, 102, 147, 19, 38, 115, 179, 166, 243, 198, 294], 'D65-1': [126, 158, 222, 190, 254, 62, 318, 286, 94, 30], 'D65-2': [], 'D69': [317, 93, 157, 125, 189, 29, 285, 221, 61, 253], 'Nital Etche, Hydrojen Embr.': [219, 27, 187, 59, 91, 155, 251, 123, 283, 315]}]\n"
          ]
        }
      ]
    },
    {
      "cell_type": "markdown",
      "source": [
        "kizlar aklima bir fikir geldi.\n",
        "bu listelerin sonuna idle time belirtecek bir seyler koysak ve onlari da shuffle etsek. idle time da bir variable cünkü.       \n",
        "\n",
        "-sevil"
      ],
      "metadata": {
        "id": "BsNN75mhM4Sy"
      }
    },
    {
      "cell_type": "code",
      "source": [
        ""
      ],
      "metadata": {
        "id": "jGeyWlqCKJTg"
      },
      "execution_count": null,
      "outputs": []
    },
    {
      "cell_type": "markdown",
      "source": [
        "# old version"
      ],
      "metadata": {
        "id": "-d7lDkua3gNM"
      }
    },
    {
      "cell_type": "code",
      "source": [
        "a_list = np.unique(np.array(df[\"PARÇA\"]))\n",
        "num = df[\"PARÇA\"].nunique(a_list[0])\n",
        "u_num = [0]*num\n",
        "for i in range(9):\n",
        "  for item in df[\"PARÇA\"]:\n",
        "    if item == a_list[i]: \n",
        "      u_num[i] += 1\n",
        "  print(u_num[i],\"processes for piece\",a_list[i])"
      ],
      "metadata": {
        "colab": {
          "base_uri": "https://localhost:8080/"
        },
        "id": "YoeCDJLmAlxn",
        "outputId": "51ac1bf4-4bf9-4412-f92f-5945de93e974"
      },
      "execution_count": 31,
      "outputs": [
        {
          "output_type": "stream",
          "name": "stdout",
          "text": [
            "32 processes for piece UM121T900201200 GEAR ENGINE Z35 \n",
            "32 processes for piece UM121T900201600 GEAR INTERMEDIATE Z57\n",
            "64 processes for piece UM121T900201700 GEAR Z51 \n",
            "32 processes for piece UM121T900202100 GEAR PROPELLER \n",
            "32 processes for piece UM121T900203800 Z23 \n",
            "32 processes for piece UM121T900203900 GEAR Z19 \n",
            "32 processes for piece UM121T900203900 GEAR Z19 - 2\n",
            "32 processes for piece UM121T900204300 GEAR ALTERNATOR Z13 \n",
            "32 processes for piece UM121T900204300 GEAR ALTERNATOR Z13 -2\n"
          ]
        }
      ]
    },
    {
      "cell_type": "code",
      "source": [
        "processes = []\n",
        "for i in range(num):\n",
        "  processes.append([])\n",
        "#print(processes)\n",
        "\n",
        "j = 0\n",
        "k = 0\n",
        "total = 0\n",
        "for i in range(len(u_num)):\n",
        "  total += u_num[i]\n",
        "  while j < total:\n",
        "    if j == total:\n",
        "      k += 1\n",
        "    #print(i,j,k,total,processes)\n",
        "    #print(processes[i])\n",
        "    processes[i].append(j+1)\n",
        "    j += 1\n",
        "  #print(total)\n",
        "\n",
        "for i in processes:\n",
        "  print(len(i),i)"
      ],
      "metadata": {
        "colab": {
          "base_uri": "https://localhost:8080/"
        },
        "id": "Z8VRvnAYEwKV",
        "outputId": "c7b70fdb-ac49-4dc0-ba0b-dea52048e12b"
      },
      "execution_count": 32,
      "outputs": [
        {
          "output_type": "stream",
          "name": "stdout",
          "text": [
            "32 [1, 2, 3, 4, 5, 6, 7, 8, 9, 10, 11, 12, 13, 14, 15, 16, 17, 18, 19, 20, 21, 22, 23, 24, 25, 26, 27, 28, 29, 30, 31, 32]\n",
            "32 [33, 34, 35, 36, 37, 38, 39, 40, 41, 42, 43, 44, 45, 46, 47, 48, 49, 50, 51, 52, 53, 54, 55, 56, 57, 58, 59, 60, 61, 62, 63, 64]\n",
            "64 [65, 66, 67, 68, 69, 70, 71, 72, 73, 74, 75, 76, 77, 78, 79, 80, 81, 82, 83, 84, 85, 86, 87, 88, 89, 90, 91, 92, 93, 94, 95, 96, 97, 98, 99, 100, 101, 102, 103, 104, 105, 106, 107, 108, 109, 110, 111, 112, 113, 114, 115, 116, 117, 118, 119, 120, 121, 122, 123, 124, 125, 126, 127, 128]\n",
            "32 [129, 130, 131, 132, 133, 134, 135, 136, 137, 138, 139, 140, 141, 142, 143, 144, 145, 146, 147, 148, 149, 150, 151, 152, 153, 154, 155, 156, 157, 158, 159, 160]\n",
            "32 [161, 162, 163, 164, 165, 166, 167, 168, 169, 170, 171, 172, 173, 174, 175, 176, 177, 178, 179, 180, 181, 182, 183, 184, 185, 186, 187, 188, 189, 190, 191, 192]\n",
            "32 [193, 194, 195, 196, 197, 198, 199, 200, 201, 202, 203, 204, 205, 206, 207, 208, 209, 210, 211, 212, 213, 214, 215, 216, 217, 218, 219, 220, 221, 222, 223, 224]\n",
            "32 [225, 226, 227, 228, 229, 230, 231, 232, 233, 234, 235, 236, 237, 238, 239, 240, 241, 242, 243, 244, 245, 246, 247, 248, 249, 250, 251, 252, 253, 254, 255, 256]\n",
            "32 [257, 258, 259, 260, 261, 262, 263, 264, 265, 266, 267, 268, 269, 270, 271, 272, 273, 274, 275, 276, 277, 278, 279, 280, 281, 282, 283, 284, 285, 286, 287, 288]\n",
            "32 [289, 290, 291, 292, 293, 294, 295, 296, 297, 298, 299, 300, 301, 302, 303, 304, 305, 306, 307, 308, 309, 310, 311, 312, 313, 314, 315, 316, 317, 318, 319, 320]\n"
          ]
        }
      ]
    },
    {
      "cell_type": "code",
      "source": [
        "def RandomList(nn, start = 0, end = 100):\n",
        "    arr = []\n",
        "    tmp = random.randint(start, end)\n",
        "    for x in range(nn):\n",
        "        while tmp in arr:\n",
        "            tmp = random.randint(start, end)\n",
        "        arr.append(tmp)  \n",
        "    return arr"
      ],
      "metadata": {
        "id": "RC5jqLQ5thMM"
      },
      "execution_count": 33,
      "outputs": []
    },
    {
      "cell_type": "code",
      "source": [
        "num_genes = total\n",
        "num_chro = 8\n",
        "popu_size = (num_chro,num_genes)\n",
        "new_popu = []\n",
        "for i in range(num_chro):\n",
        "  new_popu.append([])\n",
        "  new_popu[i] = RandomList(len(df[\"PARÇA\"]),0,len(df[\"PARÇA\"])-1)  #rng.choice(total+1, total+1, replace=False)\n",
        "\n",
        "for i in new_popu:\n",
        "  print(i)"
      ],
      "metadata": {
        "colab": {
          "base_uri": "https://localhost:8080/"
        },
        "id": "7ubwVbKTzeTb",
        "outputId": "949f9287-173d-4ade-cb9d-e6e61795efd6"
      },
      "execution_count": 34,
      "outputs": [
        {
          "output_type": "stream",
          "name": "stdout",
          "text": [
            "[80, 230, 204, 27, 125, 180, 211, 202, 225, 192, 203, 280, 148, 294, 274, 210, 18, 84, 319, 118, 61, 38, 163, 62, 8, 103, 281, 311, 173, 36, 296, 90, 317, 264, 309, 20, 111, 86, 145, 253, 10, 169, 185, 268, 186, 96, 285, 241, 66, 198, 236, 56, 42, 57, 4, 193, 98, 2, 255, 217, 277, 49, 187, 263, 88, 291, 283, 112, 199, 152, 207, 7, 295, 256, 171, 200, 23, 233, 47, 124, 9, 297, 191, 151, 161, 79, 138, 251, 254, 282, 275, 287, 228, 45, 243, 166, 284, 65, 164, 216, 93, 68, 109, 170, 134, 205, 260, 188, 132, 246, 149, 52, 54, 33, 301, 59, 288, 234, 271, 25, 242, 178, 157, 195, 108, 190, 55, 249, 156, 144, 175, 37, 58, 189, 95, 177, 155, 153, 102, 89, 53, 13, 197, 146, 48, 127, 239, 67, 17, 270, 119, 261, 51, 313, 273, 77, 224, 250, 206, 237, 142, 32, 6, 26, 179, 262, 286, 150, 307, 293, 162, 15, 140, 183, 121, 160, 24, 304, 34, 257, 28, 70, 16, 5, 303, 266, 244, 232, 117, 74, 107, 147, 40, 305, 30, 143, 63, 99, 137, 176, 240, 114, 122, 115, 226, 218, 316, 81, 71, 154, 208, 227, 14, 126, 83, 120, 252, 22, 92, 72, 100, 289, 12, 135, 279, 290, 174, 110, 269, 302, 308, 222, 35, 201, 104, 245, 165, 3, 219, 41, 91, 223, 272, 247, 130, 184, 158, 31, 39, 229, 87, 0, 43, 128, 105, 82, 113, 1, 141, 215, 298, 19, 312, 44, 136, 258, 129, 116, 182, 11, 278, 209, 221, 76, 300, 315, 212, 235, 214, 64, 69, 231, 159, 46, 123, 172, 299, 196, 267, 101, 220, 238, 276, 85, 50, 73, 310, 139, 131, 21, 94, 181, 265, 314, 29, 306, 292, 75, 248, 194, 167, 78, 213, 60, 106, 133, 259, 97, 318, 168]\n",
            "[24, 18, 143, 291, 1, 107, 319, 106, 311, 188, 193, 46, 195, 207, 212, 182, 140, 283, 166, 2, 203, 165, 189, 16, 44, 187, 20, 91, 269, 217, 152, 67, 153, 226, 206, 175, 209, 9, 53, 38, 185, 173, 115, 167, 160, 116, 86, 10, 57, 146, 35, 242, 41, 81, 288, 237, 76, 250, 128, 82, 139, 230, 36, 51, 144, 240, 54, 280, 245, 58, 17, 213, 88, 134, 131, 80, 179, 281, 235, 163, 156, 158, 305, 12, 117, 130, 234, 220, 164, 141, 178, 224, 180, 196, 62, 190, 181, 232, 64, 5, 278, 225, 260, 223, 161, 296, 87, 273, 103, 40, 318, 192, 295, 265, 197, 147, 290, 285, 186, 43, 61, 204, 33, 243, 258, 229, 174, 127, 194, 272, 154, 309, 313, 157, 42, 155, 191, 148, 89, 105, 244, 171, 50, 301, 202, 222, 159, 275, 136, 259, 92, 101, 73, 247, 129, 37, 23, 99, 201, 71, 45, 263, 256, 219, 292, 122, 306, 55, 169, 233, 210, 83, 7, 75, 218, 248, 100, 246, 228, 151, 119, 137, 241, 95, 69, 120, 168, 124, 97, 77, 312, 56, 98, 6, 96, 286, 264, 172, 149, 90, 268, 271, 221, 108, 133, 162, 48, 125, 26, 298, 145, 21, 110, 282, 104, 287, 255, 15, 27, 297, 176, 308, 261, 70, 249, 299, 293, 316, 177, 52, 208, 170, 205, 123, 84, 11, 8, 126, 111, 200, 276, 14, 68, 307, 300, 112, 211, 279, 184, 289, 214, 199, 270, 66, 19, 142, 198, 118, 253, 284, 47, 109, 78, 31, 22, 0, 60, 85, 4, 302, 239, 25, 303, 267, 29, 274, 102, 236, 28, 94, 304, 59, 252, 30, 39, 231, 32, 132, 315, 65, 63, 121, 317, 310, 72, 238, 277, 215, 183, 138, 3, 114, 34, 266, 254, 49, 135, 74, 79, 257, 13, 216, 251, 262, 150, 314, 93, 227, 294, 113]\n",
            "[280, 61, 265, 210, 216, 315, 160, 50, 267, 294, 55, 249, 100, 21, 113, 242, 275, 221, 292, 156, 12, 248, 317, 30, 36, 115, 308, 38, 97, 76, 70, 123, 297, 44, 150, 176, 54, 192, 258, 69, 235, 276, 310, 133, 109, 80, 129, 25, 288, 181, 48, 124, 65, 110, 127, 256, 2, 15, 17, 206, 185, 200, 73, 298, 233, 286, 305, 126, 312, 108, 41, 303, 134, 228, 237, 74, 230, 214, 284, 169, 29, 145, 264, 135, 146, 311, 252, 152, 207, 300, 143, 306, 254, 223, 121, 309, 268, 201, 106, 196, 120, 151, 241, 95, 178, 7, 222, 40, 239, 246, 128, 179, 60, 189, 197, 227, 318, 224, 266, 177, 144, 244, 35, 289, 259, 190, 31, 158, 63, 43, 92, 164, 287, 186, 281, 4, 1, 46, 107, 182, 122, 274, 81, 240, 257, 174, 91, 16, 137, 148, 247, 51, 279, 270, 204, 307, 251, 245, 202, 49, 141, 277, 171, 103, 272, 153, 291, 263, 14, 198, 89, 166, 217, 138, 149, 261, 296, 39, 211, 184, 250, 295, 53, 23, 282, 236, 238, 24, 302, 0, 98, 220, 66, 271, 195, 119, 253, 47, 58, 118, 157, 88, 205, 159, 136, 67, 170, 188, 175, 45, 213, 234, 316, 42, 203, 293, 232, 313, 165, 262, 208, 155, 139, 226, 105, 99, 142, 125, 85, 140, 13, 191, 26, 172, 231, 59, 87, 34, 78, 102, 187, 68, 19, 168, 163, 3, 75, 285, 90, 72, 82, 260, 314, 130, 162, 199, 299, 269, 229, 167, 161, 290, 218, 180, 9, 84, 193, 11, 112, 93, 37, 77, 132, 86, 111, 94, 116, 28, 33, 117, 154, 96, 194, 243, 183, 101, 255, 27, 83, 173, 225, 79, 71, 219, 278, 57, 304, 215, 52, 273, 20, 319, 22, 209, 5, 6, 131, 114, 147, 18, 56, 212, 283, 32, 8, 301, 10, 104, 62, 64]\n",
            "[24, 159, 43, 264, 246, 99, 281, 198, 268, 161, 141, 86, 241, 302, 147, 201, 126, 133, 108, 150, 232, 68, 109, 87, 0, 16, 46, 30, 55, 96, 288, 274, 98, 262, 300, 283, 36, 115, 290, 164, 54, 171, 97, 37, 41, 31, 51, 182, 124, 319, 214, 316, 44, 63, 65, 255, 205, 2, 311, 303, 298, 130, 153, 52, 310, 208, 209, 219, 45, 226, 56, 26, 92, 242, 156, 278, 138, 189, 95, 206, 187, 69, 315, 27, 286, 299, 71, 60, 176, 236, 212, 8, 177, 7, 5, 229, 204, 6, 313, 76, 172, 83, 293, 254, 289, 165, 309, 48, 143, 282, 235, 297, 193, 175, 119, 221, 173, 101, 263, 4, 58, 12, 223, 250, 215, 231, 190, 228, 102, 49, 266, 186, 248, 305, 20, 197, 121, 106, 17, 307, 47, 85, 78, 73, 160, 277, 203, 170, 196, 251, 25, 294, 265, 276, 110, 306, 66, 1, 224, 28, 132, 188, 162, 194, 261, 180, 260, 157, 304, 185, 88, 295, 14, 122, 134, 191, 75, 230, 146, 296, 318, 240, 275, 77, 105, 33, 249, 181, 148, 91, 292, 120, 50, 155, 103, 118, 113, 238, 199, 269, 21, 64, 179, 314, 128, 244, 10, 22, 317, 291, 90, 257, 195, 100, 13, 80, 227, 259, 42, 32, 256, 154, 111, 225, 57, 284, 131, 9, 79, 3, 308, 145, 233, 166, 127, 202, 267, 62, 200, 163, 213, 237, 272, 183, 82, 271, 279, 287, 142, 93, 114, 74, 258, 104, 35, 273, 222, 139, 123, 107, 81, 252, 15, 207, 285, 253, 94, 192, 169, 23, 211, 210, 38, 59, 136, 39, 270, 117, 135, 174, 29, 84, 239, 70, 18, 218, 112, 167, 168, 312, 178, 116, 19, 89, 144, 158, 129, 137, 67, 216, 151, 247, 61, 220, 149, 125, 152, 184, 243, 72, 34, 53, 11, 234, 301, 40, 280, 245, 140, 217]\n",
            "[149, 197, 281, 68, 26, 67, 186, 235, 165, 135, 276, 216, 127, 182, 256, 245, 98, 175, 109, 279, 178, 72, 80, 159, 107, 81, 117, 294, 217, 210, 52, 71, 162, 234, 167, 126, 18, 105, 293, 189, 10, 114, 287, 170, 22, 201, 310, 115, 85, 184, 318, 218, 171, 196, 142, 118, 264, 156, 121, 31, 150, 155, 206, 158, 237, 77, 6, 76, 312, 44, 298, 154, 40, 151, 15, 194, 69, 282, 63, 221, 190, 122, 209, 42, 188, 28, 83, 46, 119, 79, 315, 203, 283, 255, 60, 30, 48, 124, 306, 250, 1, 180, 172, 207, 144, 54, 147, 143, 97, 13, 64, 78, 288, 152, 8, 223, 55, 87, 101, 160, 267, 96, 95, 41, 220, 244, 285, 129, 153, 275, 233, 316, 274, 62, 238, 120, 246, 157, 271, 176, 174, 94, 226, 93, 108, 304, 128, 301, 70, 269, 24, 200, 50, 291, 259, 140, 49, 232, 75, 112, 100, 263, 296, 166, 145, 236, 308, 268, 103, 33, 138, 56, 284, 5, 199, 278, 272, 295, 222, 161, 25, 90, 242, 99, 292, 88, 214, 286, 257, 53, 132, 169, 198, 74, 313, 248, 34, 303, 21, 266, 164, 252, 17, 29, 163, 131, 289, 212, 224, 309, 302, 213, 193, 106, 102, 317, 16, 61, 7, 59, 208, 11, 258, 299, 14, 91, 219, 227, 192, 65, 240, 133, 191, 273, 39, 181, 183, 125, 0, 300, 229, 37, 260, 58, 47, 130, 73, 249, 141, 314, 270, 9, 297, 177, 211, 82, 3, 113, 45, 225, 43, 231, 265, 116, 20, 139, 104, 254, 2, 66, 32, 84, 51, 251, 19, 261, 290, 35, 262, 111, 27, 202, 89, 148, 204, 146, 123, 195, 253, 179, 137, 319, 36, 305, 12, 23, 277, 173, 230, 307, 4, 215, 187, 311, 86, 280, 205, 134, 241, 168, 57, 185, 228, 110, 247, 92, 38, 239, 243, 136]\n",
            "[76, 107, 171, 3, 124, 43, 91, 258, 97, 293, 74, 35, 216, 257, 159, 15, 30, 173, 32, 277, 144, 146, 151, 123, 190, 27, 228, 8, 289, 86, 135, 304, 94, 95, 301, 113, 280, 210, 287, 4, 105, 200, 141, 176, 199, 156, 313, 208, 2, 153, 61, 130, 271, 202, 178, 39, 42, 72, 298, 121, 147, 129, 215, 99, 291, 174, 233, 279, 235, 79, 307, 270, 262, 125, 193, 10, 142, 188, 168, 160, 143, 65, 51, 48, 206, 38, 161, 68, 239, 170, 308, 221, 246, 5, 1, 247, 315, 66, 9, 309, 234, 18, 175, 25, 63, 110, 115, 243, 85, 69, 305, 267, 275, 70, 261, 248, 54, 297, 212, 286, 36, 111, 139, 103, 52, 152, 319, 47, 177, 223, 213, 163, 127, 83, 59, 269, 229, 181, 33, 274, 77, 88, 46, 29, 273, 131, 75, 260, 126, 191, 266, 282, 250, 112, 67, 140, 276, 224, 41, 158, 108, 238, 164, 240, 300, 78, 311, 21, 128, 87, 137, 50, 133, 132, 117, 284, 254, 17, 16, 14, 244, 62, 11, 225, 303, 104, 241, 187, 23, 55, 118, 218, 281, 6, 157, 249, 252, 138, 288, 207, 294, 89, 295, 179, 12, 64, 109, 264, 13, 116, 149, 211, 150, 84, 169, 49, 106, 316, 306, 230, 283, 231, 56, 312, 194, 245, 317, 302, 120, 290, 182, 255, 227, 162, 34, 154, 93, 101, 318, 209, 90, 195, 278, 237, 155, 203, 0, 192, 58, 31, 114, 148, 219, 217, 122, 292, 26, 82, 45, 92, 57, 102, 272, 165, 198, 256, 60, 251, 263, 166, 310, 145, 205, 299, 37, 184, 40, 204, 96, 44, 236, 253, 296, 214, 220, 100, 28, 268, 119, 80, 222, 81, 134, 53, 242, 186, 20, 136, 265, 285, 180, 196, 73, 197, 172, 185, 259, 22, 98, 226, 183, 314, 19, 167, 24, 189, 7, 201, 71, 232]\n",
            "[134, 140, 242, 293, 243, 102, 181, 301, 9, 50, 228, 210, 120, 48, 95, 158, 110, 252, 211, 222, 73, 19, 190, 184, 245, 178, 4, 259, 209, 271, 185, 236, 100, 298, 109, 172, 76, 273, 62, 33, 213, 180, 115, 253, 250, 125, 156, 7, 199, 47, 278, 296, 22, 246, 58, 116, 139, 230, 287, 36, 302, 197, 128, 263, 268, 282, 254, 93, 227, 216, 46, 51, 219, 202, 108, 304, 119, 182, 206, 269, 16, 41, 319, 31, 0, 83, 272, 104, 121, 60, 294, 65, 290, 291, 295, 112, 233, 238, 89, 141, 54, 229, 105, 84, 217, 49, 127, 247, 264, 77, 101, 305, 299, 107, 241, 97, 20, 309, 69, 225, 256, 223, 193, 136, 164, 191, 63, 152, 55, 215, 232, 148, 87, 135, 159, 177, 80, 292, 26, 75, 94, 163, 198, 27, 303, 111, 98, 2, 13, 297, 132, 201, 214, 248, 167, 285, 85, 117, 81, 188, 318, 179, 283, 160, 137, 218, 187, 23, 284, 44, 239, 21, 235, 3, 276, 314, 96, 277, 195, 64, 32, 171, 118, 165, 106, 257, 61, 59, 170, 220, 307, 82, 173, 207, 175, 99, 14, 255, 17, 38, 176, 68, 162, 203, 91, 310, 37, 66, 212, 231, 88, 288, 196, 205, 30, 130, 281, 189, 244, 43, 166, 200, 315, 39, 92, 300, 149, 306, 150, 312, 113, 186, 308, 8, 24, 224, 133, 15, 138, 86, 266, 183, 260, 28, 265, 142, 70, 313, 161, 221, 124, 286, 45, 18, 208, 275, 57, 274, 317, 311, 25, 147, 42, 5, 123, 122, 35, 129, 103, 6, 153, 261, 11, 168, 204, 53, 12, 52, 34, 169, 1, 316, 289, 79, 240, 154, 280, 143, 56, 279, 67, 251, 234, 151, 74, 267, 114, 90, 270, 146, 262, 144, 126, 258, 40, 192, 72, 194, 226, 237, 174, 71, 131, 10, 155, 29, 249, 78, 157, 145]\n",
            "[267, 209, 201, 171, 50, 235, 121, 24, 71, 206, 112, 274, 93, 246, 77, 197, 64, 163, 18, 78, 301, 86, 148, 162, 68, 277, 207, 170, 278, 214, 258, 46, 74, 42, 189, 306, 191, 118, 222, 11, 310, 25, 175, 41, 120, 290, 59, 254, 264, 156, 106, 157, 105, 231, 236, 257, 17, 35, 36, 273, 280, 279, 83, 133, 269, 107, 53, 73, 113, 177, 294, 12, 15, 72, 153, 193, 56, 13, 28, 286, 225, 119, 98, 314, 90, 312, 167, 8, 111, 75, 166, 199, 297, 259, 30, 96, 141, 216, 144, 252, 204, 27, 271, 3, 137, 95, 104, 39, 248, 135, 307, 37, 123, 158, 142, 134, 110, 66, 218, 313, 62, 296, 126, 116, 147, 299, 88, 240, 1, 263, 101, 82, 176, 14, 182, 55, 51, 239, 5, 63, 316, 210, 272, 250, 244, 289, 49, 29, 48, 202, 139, 155, 292, 128, 108, 85, 262, 154, 217, 237, 69, 103, 20, 233, 131, 160, 198, 228, 270, 268, 122, 245, 221, 211, 185, 186, 81, 213, 10, 275, 195, 281, 184, 22, 165, 315, 317, 247, 230, 300, 226, 276, 34, 44, 243, 261, 203, 205, 251, 40, 212, 84, 99, 224, 100, 80, 285, 288, 43, 117, 219, 16, 291, 168, 47, 194, 172, 309, 2, 260, 287, 76, 304, 232, 229, 124, 181, 295, 173, 143, 7, 220, 65, 183, 282, 242, 200, 94, 125, 241, 196, 0, 58, 115, 305, 19, 318, 149, 127, 266, 293, 255, 92, 283, 284, 234, 6, 303, 87, 308, 140, 238, 70, 150, 136, 45, 23, 89, 52, 54, 298, 130, 60, 132, 249, 169, 152, 67, 319, 215, 302, 9, 192, 146, 164, 174, 4, 311, 21, 180, 151, 61, 227, 57, 38, 178, 138, 253, 187, 188, 208, 129, 223, 114, 190, 32, 265, 26, 256, 161, 79, 31, 109, 159, 145, 91, 179, 33, 97, 102]\n"
          ]
        }
      ]
    },
    {
      "cell_type": "code",
      "source": [
        "num_genes = total\n",
        "num_chro = 8\n",
        "popu_size = (num_chro,num_genes)\n",
        "new_popu = []\n",
        "for i in range(num_chro):\n",
        "  new_popu.append([])\n",
        "  new_popu[i] = RandomList(len(df[\"PARÇA\"]),0,len(df[\"PARÇA\"])-1)  #rng.choice(total+1, total+1, replace=False)\n",
        "\n",
        "for i in new_popu:\n",
        "  print(i)"
      ],
      "metadata": {
        "colab": {
          "base_uri": "https://localhost:8080/"
        },
        "id": "wOlBV-5g3mEF",
        "outputId": "50a991ed-cb9e-426f-8357-c2e789617ca3"
      },
      "execution_count": 117,
      "outputs": [
        {
          "output_type": "stream",
          "name": "stdout",
          "text": [
            "[276, 309, 99, 42, 315, 124, 23, 125, 228, 120, 95, 285, 313, 4, 149, 102, 143, 59, 186, 174, 263, 260, 103, 279, 7, 204, 57, 109, 129, 142, 50, 16, 220, 205, 284, 306, 176, 37, 151, 67, 169, 239, 231, 210, 62, 66, 68, 246, 307, 27, 319, 266, 166, 277, 314, 245, 58, 51, 213, 144, 184, 252, 248, 197, 65, 146, 191, 163, 9, 198, 310, 187, 90, 172, 61, 55, 111, 80, 77, 150, 305, 233, 118, 138, 140, 178, 214, 287, 29, 93, 106, 33, 286, 30, 225, 271, 72, 85, 135, 75, 41, 201, 253, 179, 108, 254, 49, 152, 10, 312, 78, 91, 87, 25, 21, 232, 159, 281, 183, 148, 43, 223, 199, 137, 112, 28, 121, 237, 250, 100, 291, 156, 104, 105, 73, 216, 81, 145, 269, 304, 155, 217, 24, 247, 194, 69, 265, 31, 188, 116, 97, 26, 270, 224, 17, 316, 47, 177, 241, 298, 19, 38, 272, 209, 32, 256, 53, 261, 74, 318, 167, 193, 182, 128, 240, 133, 229, 238, 234, 132, 157, 40, 44, 39, 160, 1, 64, 308, 18, 171, 45, 289, 202, 35, 207, 317, 219, 96, 195, 161, 215, 158, 8, 295, 126, 297, 303, 130, 274, 12, 236, 63, 259, 101, 249, 181, 84, 222, 168, 136, 89, 56, 299, 170, 141, 60, 262, 278, 79, 251, 162, 283, 54, 255, 20, 180, 273, 71, 34, 264, 257, 288, 5, 280, 189, 110, 230, 113, 296, 290, 206, 190, 0, 15, 185, 267, 48, 14, 6, 3, 235, 196, 311, 86, 88, 300, 122, 203, 208, 115, 227, 94, 200, 119, 275, 175, 92, 131, 117, 258, 173, 268, 52, 46, 282, 11, 293, 242, 154, 2, 164, 302, 226, 244, 221, 107, 70, 147, 114, 123, 192, 139, 211, 165, 98, 212, 127, 13, 301, 243, 36, 153, 22, 294, 218, 134, 82, 292, 83, 76]\n",
            "[49, 257, 317, 81, 38, 284, 103, 207, 234, 236, 269, 94, 130, 275, 221, 314, 14, 33, 290, 173, 214, 25, 7, 184, 196, 80, 276, 124, 104, 48, 44, 159, 133, 143, 176, 149, 224, 121, 118, 46, 42, 265, 82, 169, 203, 310, 70, 53, 115, 240, 11, 18, 112, 85, 260, 148, 91, 318, 308, 153, 123, 127, 253, 116, 242, 171, 10, 52, 151, 281, 303, 93, 309, 72, 306, 1, 294, 96, 152, 57, 120, 165, 158, 63, 23, 229, 247, 19, 160, 119, 157, 228, 218, 255, 302, 136, 296, 192, 304, 163, 215, 40, 270, 301, 238, 272, 223, 262, 279, 191, 305, 98, 16, 235, 197, 43, 15, 162, 288, 313, 300, 65, 179, 243, 113, 208, 2, 209, 132, 76, 195, 220, 29, 59, 86, 62, 92, 216, 156, 101, 89, 90, 67, 6, 17, 22, 178, 256, 110, 87, 244, 83, 205, 230, 60, 174, 307, 193, 122, 69, 266, 217, 211, 77, 251, 263, 145, 141, 61, 20, 34, 108, 37, 125, 0, 41, 198, 267, 111, 138, 248, 146, 78, 147, 295, 249, 12, 285, 226, 66, 79, 161, 31, 139, 311, 74, 188, 75, 168, 315, 24, 298, 268, 189, 150, 3, 39, 28, 206, 47, 68, 144, 291, 106, 254, 177, 30, 316, 35, 102, 55, 180, 166, 283, 183, 73, 36, 182, 134, 9, 142, 204, 252, 212, 13, 259, 117, 5, 201, 51, 140, 154, 26, 233, 135, 287, 200, 185, 232, 58, 213, 202, 88, 261, 71, 126, 299, 293, 175, 246, 172, 319, 50, 129, 27, 32, 4, 210, 170, 237, 97, 278, 194, 264, 286, 8, 95, 297, 292, 64, 84, 187, 289, 225, 273, 107, 109, 231, 280, 245, 186, 274, 282, 239, 164, 312, 56, 167, 277, 99, 219, 131, 227, 114, 258, 241, 199, 105, 137, 250, 271, 190, 54, 181, 222, 155, 45, 100, 21, 128]\n",
            "[60, 296, 136, 266, 29, 228, 75, 283, 222, 56, 295, 227, 259, 8, 41, 268, 219, 265, 111, 87, 270, 311, 263, 95, 252, 253, 17, 218, 122, 284, 248, 103, 140, 205, 319, 303, 31, 209, 212, 74, 229, 90, 153, 230, 85, 267, 197, 35, 178, 203, 167, 257, 5, 247, 226, 83, 54, 71, 168, 216, 97, 26, 146, 129, 169, 28, 88, 113, 166, 189, 306, 231, 182, 194, 238, 38, 82, 77, 124, 2, 7, 299, 301, 156, 214, 73, 220, 37, 3, 251, 46, 275, 104, 130, 19, 58, 127, 152, 184, 80, 302, 239, 13, 44, 200, 254, 225, 217, 42, 206, 59, 123, 164, 40, 10, 145, 66, 84, 307, 21, 78, 245, 249, 141, 298, 138, 279, 191, 43, 297, 115, 12, 9, 237, 30, 119, 1, 160, 86, 207, 199, 99, 157, 101, 121, 313, 278, 176, 117, 69, 39, 241, 76, 288, 304, 170, 208, 27, 243, 316, 48, 65, 91, 293, 250, 180, 286, 134, 294, 68, 172, 24, 79, 314, 318, 271, 260, 177, 190, 81, 269, 11, 132, 70, 107, 198, 36, 102, 96, 16, 98, 213, 100, 72, 244, 211, 143, 308, 196, 192, 224, 89, 256, 150, 142, 276, 300, 51, 116, 154, 55, 291, 45, 126, 171, 15, 215, 161, 181, 174, 33, 149, 23, 258, 93, 159, 137, 273, 131, 6, 185, 309, 63, 135, 183, 25, 92, 57, 272, 62, 109, 112, 14, 246, 0, 34, 108, 290, 125, 193, 187, 106, 204, 292, 165, 49, 110, 274, 67, 18, 236, 186, 52, 105, 240, 317, 223, 50, 175, 151, 133, 233, 32, 281, 202, 158, 264, 20, 262, 242, 315, 94, 305, 235, 147, 114, 280, 155, 287, 47, 162, 234, 179, 139, 195, 232, 310, 22, 173, 4, 210, 128, 144, 163, 285, 282, 120, 261, 221, 277, 53, 188, 312, 289, 118, 64, 201, 255, 148, 61]\n",
            "[8, 39, 184, 294, 275, 295, 38, 27, 58, 100, 82, 251, 28, 202, 134, 42, 232, 75, 113, 90, 76, 274, 182, 244, 108, 18, 237, 300, 1, 99, 259, 148, 145, 88, 131, 15, 126, 200, 40, 19, 140, 104, 133, 289, 318, 24, 255, 171, 46, 205, 214, 262, 29, 41, 303, 177, 191, 286, 220, 179, 193, 136, 112, 316, 283, 264, 195, 305, 248, 260, 67, 319, 225, 70, 292, 216, 301, 139, 81, 150, 147, 47, 211, 103, 31, 199, 14, 180, 3, 80, 224, 280, 194, 299, 111, 159, 314, 107, 198, 62, 185, 266, 91, 44, 77, 304, 212, 74, 247, 166, 201, 2, 219, 87, 197, 189, 23, 153, 137, 120, 204, 217, 313, 186, 149, 10, 144, 183, 54, 207, 271, 285, 222, 124, 85, 254, 92, 123, 170, 78, 188, 34, 187, 142, 116, 276, 69, 129, 66, 167, 298, 257, 157, 117, 288, 297, 55, 273, 98, 37, 169, 63, 228, 256, 93, 53, 119, 59, 45, 240, 97, 230, 317, 49, 270, 307, 118, 236, 245, 30, 94, 22, 168, 61, 132, 138, 68, 128, 269, 102, 35, 192, 209, 21, 161, 16, 52, 258, 174, 106, 263, 242, 290, 181, 312, 7, 208, 121, 64, 196, 79, 163, 190, 164, 73, 282, 83, 156, 127, 311, 246, 160, 231, 206, 158, 268, 155, 302, 33, 143, 238, 281, 239, 249, 233, 11, 13, 227, 105, 20, 48, 213, 265, 17, 125, 203, 172, 272, 308, 210, 43, 223, 267, 50, 306, 284, 278, 162, 12, 122, 26, 241, 277, 165, 9, 130, 60, 5, 72, 151, 135, 221, 36, 293, 89, 287, 56, 71, 226, 176, 114, 235, 296, 309, 253, 291, 110, 146, 178, 315, 6, 218, 109, 84, 243, 0, 32, 57, 86, 152, 250, 234, 141, 95, 96, 229, 51, 310, 65, 261, 115, 215, 252, 4, 175, 101, 25, 173, 154, 279]\n",
            "[186, 117, 212, 72, 83, 3, 79, 49, 64, 137, 211, 104, 252, 161, 240, 262, 40, 180, 159, 154, 220, 259, 136, 318, 166, 235, 128, 283, 216, 131, 284, 95, 110, 242, 214, 140, 155, 43, 206, 243, 204, 68, 66, 17, 113, 112, 300, 310, 179, 15, 253, 280, 85, 244, 306, 270, 290, 38, 100, 272, 163, 18, 124, 209, 96, 156, 192, 297, 233, 1, 185, 58, 294, 94, 57, 55, 278, 147, 149, 35, 251, 146, 120, 311, 173, 108, 234, 20, 46, 189, 316, 182, 8, 135, 74, 126, 175, 169, 308, 42, 11, 54, 285, 93, 304, 275, 116, 171, 230, 160, 261, 119, 125, 88, 178, 150, 115, 45, 277, 170, 134, 162, 139, 281, 106, 231, 228, 200, 53, 60, 260, 109, 29, 282, 305, 107, 70, 19, 264, 207, 101, 144, 263, 30, 63, 197, 130, 293, 81, 224, 265, 205, 274, 217, 314, 276, 269, 9, 190, 181, 123, 87, 32, 90, 2, 296, 37, 226, 111, 319, 78, 165, 187, 92, 62, 102, 142, 172, 302, 148, 202, 239, 198, 313, 225, 82, 176, 247, 256, 236, 246, 24, 279, 174, 127, 315, 152, 299, 25, 194, 309, 266, 158, 145, 5, 288, 50, 248, 151, 157, 307, 184, 227, 196, 177, 268, 287, 12, 193, 298, 77, 129, 91, 47, 250, 195, 229, 292, 258, 303, 27, 143, 273, 133, 241, 52, 56, 114, 28, 188, 121, 105, 80, 215, 267, 98, 199, 21, 118, 89, 22, 97, 218, 222, 168, 39, 99, 61, 153, 13, 4, 232, 167, 132, 33, 69, 26, 203, 86, 16, 295, 65, 201, 34, 76, 7, 286, 208, 289, 67, 0, 191, 213, 219, 257, 122, 14, 223, 51, 59, 254, 238, 164, 75, 183, 317, 301, 312, 271, 221, 48, 31, 71, 138, 41, 141, 237, 10, 291, 36, 255, 44, 103, 245, 6, 23, 84, 73, 210, 249]\n",
            "[132, 189, 285, 223, 263, 40, 308, 248, 117, 105, 191, 194, 199, 259, 175, 33, 70, 153, 141, 95, 252, 247, 110, 50, 150, 109, 152, 66, 213, 8, 307, 287, 52, 62, 202, 261, 299, 146, 54, 317, 125, 173, 104, 26, 300, 244, 219, 185, 134, 224, 9, 79, 92, 45, 47, 68, 22, 218, 82, 258, 304, 283, 188, 49, 318, 98, 60, 225, 316, 34, 198, 18, 232, 167, 292, 97, 268, 241, 126, 206, 14, 17, 291, 75, 85, 305, 174, 187, 314, 207, 204, 43, 222, 77, 182, 56, 32, 41, 127, 311, 31, 272, 201, 36, 309, 253, 240, 214, 228, 120, 250, 113, 236, 13, 227, 61, 148, 137, 193, 0, 115, 155, 123, 3, 63, 215, 178, 140, 78, 279, 151, 94, 145, 16, 245, 65, 260, 118, 81, 93, 301, 133, 284, 288, 90, 294, 46, 12, 290, 277, 124, 171, 116, 57, 119, 180, 266, 242, 42, 67, 243, 160, 265, 233, 1, 312, 106, 197, 154, 147, 91, 84, 257, 319, 20, 295, 271, 195, 216, 129, 112, 4, 102, 256, 74, 87, 158, 59, 200, 39, 211, 10, 183, 190, 230, 69, 83, 76, 274, 28, 297, 142, 262, 15, 101, 196, 121, 100, 315, 166, 99, 2, 289, 103, 6, 21, 24, 278, 96, 208, 7, 237, 71, 302, 73, 107, 111, 53, 235, 128, 164, 86, 170, 238, 298, 286, 210, 144, 38, 249, 169, 251, 221, 5, 229, 51, 159, 136, 80, 226, 23, 30, 55, 19, 293, 165, 44, 139, 269, 282, 143, 176, 231, 234, 273, 122, 29, 303, 114, 88, 177, 37, 186, 135, 264, 181, 89, 270, 192, 184, 157, 48, 64, 168, 205, 296, 163, 212, 280, 149, 217, 162, 172, 281, 138, 310, 220, 108, 203, 161, 11, 313, 131, 156, 58, 255, 254, 179, 130, 72, 306, 275, 209, 35, 25, 276, 267, 246, 239, 27]\n",
            "[299, 298, 225, 164, 250, 122, 107, 74, 88, 254, 100, 232, 243, 248, 102, 241, 35, 139, 178, 25, 169, 87, 89, 123, 316, 20, 181, 94, 160, 22, 95, 240, 10, 50, 193, 214, 229, 194, 189, 63, 96, 154, 138, 15, 147, 212, 110, 281, 80, 252, 84, 157, 52, 148, 262, 283, 177, 53, 175, 121, 7, 161, 309, 292, 171, 191, 246, 236, 34, 264, 307, 174, 46, 73, 99, 286, 202, 200, 151, 136, 91, 66, 218, 173, 239, 76, 23, 217, 245, 271, 265, 150, 287, 24, 49, 253, 237, 113, 72, 215, 130, 92, 272, 132, 144, 312, 187, 261, 75, 289, 14, 311, 112, 213, 149, 114, 115, 172, 108, 67, 267, 21, 126, 44, 109, 258, 83, 315, 3, 201, 317, 143, 131, 279, 8, 180, 294, 251, 182, 152, 302, 153, 277, 159, 82, 117, 313, 233, 198, 300, 247, 310, 28, 268, 6, 71, 41, 85, 166, 242, 45, 306, 64, 39, 120, 104, 125, 168, 220, 266, 304, 97, 51, 133, 5, 176, 137, 276, 231, 244, 69, 134, 33, 208, 38, 16, 48, 129, 235, 205, 282, 285, 210, 146, 163, 195, 29, 260, 37, 206, 62, 167, 319, 221, 103, 303, 228, 256, 305, 142, 269, 288, 42, 209, 203, 140, 318, 156, 9, 273, 216, 118, 278, 296, 204, 77, 293, 145, 211, 270, 301, 18, 184, 274, 275, 81, 30, 219, 155, 222, 170, 78, 238, 234, 43, 135, 263, 297, 4, 259, 165, 119, 141, 162, 230, 179, 190, 128, 295, 116, 0, 196, 27, 290, 105, 197, 61, 280, 291, 199, 11, 68, 158, 111, 60, 101, 59, 31, 223, 93, 227, 249, 1, 36, 19, 54, 55, 124, 32, 47, 57, 284, 26, 257, 58, 224, 70, 185, 13, 90, 188, 106, 40, 86, 183, 65, 192, 308, 314, 2, 255, 226, 207, 98, 127, 79, 186, 12, 56, 17]\n",
            "[262, 115, 197, 256, 280, 279, 301, 282, 112, 315, 252, 33, 65, 266, 23, 264, 206, 198, 163, 113, 88, 147, 175, 40, 136, 200, 201, 159, 101, 145, 249, 1, 287, 43, 83, 116, 216, 153, 82, 35, 4, 227, 71, 106, 55, 235, 299, 50, 12, 152, 254, 277, 67, 309, 70, 79, 36, 284, 48, 80, 232, 250, 9, 62, 225, 102, 27, 108, 289, 38, 84, 181, 114, 164, 182, 308, 172, 247, 238, 178, 149, 59, 31, 303, 151, 140, 244, 104, 75, 226, 49, 176, 246, 239, 25, 209, 124, 267, 221, 135, 259, 138, 111, 131, 93, 292, 143, 290, 86, 3, 42, 15, 119, 179, 74, 304, 141, 26, 77, 273, 103, 218, 24, 126, 242, 139, 137, 295, 100, 123, 5, 212, 125, 278, 231, 107, 211, 207, 32, 20, 196, 237, 118, 87, 319, 64, 258, 61, 271, 317, 217, 274, 286, 311, 34, 174, 180, 194, 158, 208, 117, 251, 127, 260, 241, 16, 192, 245, 281, 265, 236, 47, 150, 312, 185, 210, 169, 53, 263, 223, 98, 219, 78, 7, 58, 270, 120, 253, 72, 97, 96, 310, 173, 314, 57, 91, 76, 313, 288, 283, 171, 85, 285, 90, 11, 167, 14, 190, 105, 28, 41, 29, 128, 66, 94, 148, 306, 193, 0, 45, 21, 240, 155, 199, 81, 184, 177, 161, 233, 255, 99, 10, 170, 92, 272, 269, 46, 215, 203, 63, 202, 144, 166, 73, 22, 18, 157, 39, 243, 234, 296, 298, 228, 305, 69, 17, 60, 275, 276, 204, 268, 133, 52, 30, 146, 130, 297, 95, 156, 214, 191, 2, 300, 68, 122, 188, 248, 56, 134, 37, 316, 132, 189, 89, 307, 162, 19, 229, 8, 224, 213, 230, 160, 293, 318, 168, 109, 187, 51, 165, 6, 183, 121, 257, 186, 195, 261, 222, 291, 205, 44, 294, 154, 220, 54, 110, 142, 129, 13, 302]\n"
          ]
        }
      ]
    },
    {
      "cell_type": "markdown",
      "source": [
        "# other"
      ],
      "metadata": {
        "id": "5bXOuRo13BPL"
      }
    },
    {
      "cell_type": "code",
      "source": [
        "'''class Process:\n",
        "  def __init__(self, parameters):\n",
        "    self.v = []\n",
        "\n",
        "  def add_var(self, start_t, fin_t, wait_t):\n",
        "    self.v.append(start_t, fin_t, wait_t)#+\n",
        "\n",
        "  def add_par(self, B, S, setup_t, p_dur, T):\n",
        "    self.v.append(B, S, setup_t, p_dur, T)"
      ],
      "metadata": {
        "id": "4BjmRLWIYPsu"
      },
      "execution_count": null,
      "outputs": []
    },
    {
      "cell_type": "code",
      "source": [
        "'''# Mathematical Model\n",
        "\n",
        "\n",
        "#Model Parameters\n",
        "B(i) = [0,1] #Whether machine m can process operation j of piece i. Shown as 1 if piece i’s operation j can be processed at machine m, 0 o.w.\n",
        "S(i) = [] #Starting time of piece i, operation j, relative to machine m, when order k≠1\n",
        "F = [] #Finishing time of piece i, operation j, relative to machine m, at order k\n",
        "K(i) = [] #Setup time for piece i, operation j at machine m\n",
        "D(i) = [] #Process duration of piece i, operation j at machine m\n",
        "T(i) = [] #Total processing time for all operations of piece i\n",
        "#Decision Variables\n",
        "X(i) = [0,1] #1 if piece i’s job j is processed at machine m’s kth order, 0 o.w.\n",
        "S(i) = [] #Starting time of the first order (k=1) relative to and at machine m, for piece i, operation j \n",
        "W(i) = [] #Waiting time of piece i, operation j, at machine m, for order k\n",
        "#Objective Function\n",
        "obj_func = min(max(T))\n",
        "# Constraints\n",
        "S>=0\n",
        "W>=0\n",
        "\n",
        "For i in F:\n",
        "  T(i) = sum(F) \n"
      ],
      "metadata": {
        "id": "jfd7SN5-E2aW"
      },
      "execution_count": null,
      "outputs": []
    },
    {
      "cell_type": "code",
      "source": [
        "'''import numpy\n",
        "\n",
        "# This project is extended and a library called PyGAD is released to build the genetic algorithm.\n",
        "# PyGAD documentation: https://pygad.readthedocs.io\n",
        "# Install PyGAD: pip install pygad\n",
        "# PyGAD source code at GitHub: https://github.com/ahmedfgad/GeneticAlgorithmPython\n",
        "\n",
        "def cal_pop_fitness(equation_inputs, pop):\n",
        "    # Calculating the fitness value of each solution in the current population.\n",
        "    # The fitness function caulcuates the sum of products between each input and its corresponding weight.\n",
        "    \n",
        "    #tot_time = # sum() # + tot_waiting_time\n",
        "    \n",
        "    fitness = numpy.sum(pop*equation_inputs, axis=1)\n",
        "    return fitness\n",
        "\n",
        "def select_mating_pool(pop, fitness, num_parents):\n",
        "    # Selecting the best individuals in the current generation as parents for producing the offspring of the next generation.\n",
        "    parents = numpy.empty((num_parents, pop.shape[1]))\n",
        "    for parent_num in range(num_parents):\n",
        "        max_fitness_idx = numpy.where(fitness == numpy.max(fitness))\n",
        "        max_fitness_idx = max_fitness_idx[0][0]\n",
        "        parents[parent_num, :] = pop[max_fitness_idx, :]\n",
        "        fitness[max_fitness_idx] = -99999999999\n",
        "    return parents\n",
        "\n",
        "def crossover(parents, offspring_size):\n",
        "    ##### order based crossover technique, Partially mapped crossover (PMX) gerekli\n",
        "    \n",
        "    offspring = numpy.empty(offspring_size)\n",
        "    # The point at which crossover takes place between two parents. Usually it is at the center.\n",
        "    crossover_point = numpy.uint8(offspring_size[1]/2)\n",
        "\n",
        "    for k in range(offspring_size[0]):\n",
        "        # Index of the first parent to mate.\n",
        "        parent1_idx = k%parents.shape[0]\n",
        "        # Index of the second parent to mate.\n",
        "        parent2_idx = (k+1)%parents.shape[0]\n",
        "        # The new offspring will have its first half of its genes taken from the first parent.\n",
        "        offspring[k, 0:crossover_point] = parents[parent1_idx, 0:crossover_point]\n",
        "        # The new offspring will have its second half of its genes taken from the second parent.\n",
        "        offspring[k, crossover_point:] = parents[parent2_idx, crossover_point:]\n",
        "    return offspring\n",
        "\n",
        "def mutation(offspring_crossover):\n",
        "    # Mutation changes a single gene in each offspring randomly.\n",
        "    for idx in range(offspring_crossover.shape[0]):\n",
        "        # The random value to be added to the gene.\n",
        "        random_value = numpy.random.uniform(-1.0, 1.0, 1)\n",
        "        offspring_crossover[idx, 4] = offspring_crossover[idx, 4] + random_value\n",
        "    return offspring_crossover"
      ],
      "metadata": {
        "id": "cqYxyW34y2sn"
      },
      "execution_count": null,
      "outputs": []
    }
  ]
}
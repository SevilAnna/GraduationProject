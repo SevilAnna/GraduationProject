{
  "cells": [
    {
      "cell_type": "markdown",
      "metadata": {
        "id": "view-in-github",
        "colab_type": "text"
      },
      "source": [
        "<a href=\"https://colab.research.google.com/github/SevilAnna/GraduationProject/blob/main/EMU403_code.ipynb\" target=\"_parent\"><img src=\"https://colab.research.google.com/assets/colab-badge.svg\" alt=\"Open In Colab\"/></a>"
      ]
    },
    {
      "cell_type": "markdown",
      "metadata": {
        "id": "ePsMaL4LMAZy"
      },
      "source": [
        "<h1>EMÜ 403 - Graduation Project</h1>\n",
        "\n",
        "---"
      ]
    },
    {
      "cell_type": "markdown",
      "metadata": {
        "id": "kzmKo3p4saIK"
      },
      "source": [
        "\n",
        "<font color='red'> 🔴🔴 Kızlar 🔴🔴</font>      \n",
        "\n",
        "Kod üzerinde çalışacaksanız:\n",
        "- Öncelikle kodun en son versiyonunun <a href=\"https://github.com/SevilAnna/GraduationProject\">Github</a>'da olduğundan emin olun. \n",
        "- Drive'daki \"Düzenlenmiş_Dişli_Parçaları\" Excelini kendi bilgisayarınıza indirin. \n",
        "- Veriyi çekmek için aşağıdaki en az ilk 3 kutudaki kodu çalıştırın.\n",
        "- Github'a kaydederken \"main branch\"e değil, başka bir yan branch'e kaydedin.           "
      ]
    },
    {
      "cell_type": "markdown",
      "metadata": {
        "id": "xADgo8YMFgxq"
      },
      "source": [
        "## Importing Libraries & the Excel File"
      ]
    },
    {
      "cell_type": "markdown",
      "metadata": {
        "id": "V-j53VPBBzq4"
      },
      "source": [
        "### Importing libraries for the project"
      ]
    },
    {
      "cell_type": "code",
      "execution_count": 1,
      "metadata": {
        "colab": {
          "base_uri": "https://localhost:8080/"
        },
        "id": "YCgrQU6-E8b4",
        "outputId": "2a27dc59-8235-4c5f-cc7c-c273ab05f02f"
      },
      "outputs": [
        {
          "output_type": "stream",
          "name": "stdout",
          "text": [
            "done\n"
          ]
        }
      ],
      "source": [
        "import pandas as pd\n",
        "import numpy as np\n",
        "from numpy.random import default_rng\n",
        "rng = default_rng()\n",
        "import random\n",
        "import copy\n",
        "#!pip install geneticalgorithm\n",
        "#import geneticalgorithm as ga\n",
        "#from geneticalgorithm import geneticalgorithm as ga\n",
        "print(\"done\")"
      ]
    },
    {
      "cell_type": "markdown",
      "metadata": {
        "id": "F2mPwe7qB5uO"
      },
      "source": [
        "### Importing the Excel file"
      ]
    },
    {
      "cell_type": "code",
      "execution_count": 2,
      "metadata": {
        "colab": {
          "base_uri": "https://localhost:8080/",
          "height": 74,
          "resources": {
            "http://localhost:8080/nbextensions/google.colab/files.js": {
              "data": "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",
              "headers": [
                [
                  "content-type",
                  "application/javascript"
                ]
              ],
              "ok": true,
              "status": 200,
              "status_text": ""
            }
          }
        },
        "id": "f0XjhQIHBo92",
        "outputId": "06bab73d-89a1-4129-e964-a76ee188744b"
      },
      "outputs": [
        {
          "output_type": "display_data",
          "data": {
            "text/plain": [
              "<IPython.core.display.HTML object>"
            ],
            "text/html": [
              "\n",
              "     <input type=\"file\" id=\"files-c57ec2af-81f3-4c9f-9a64-a27005f72d84\" name=\"files[]\" multiple disabled\n",
              "        style=\"border:none\" />\n",
              "     <output id=\"result-c57ec2af-81f3-4c9f-9a64-a27005f72d84\">\n",
              "      Upload widget is only available when the cell has been executed in the\n",
              "      current browser session. Please rerun this cell to enable.\n",
              "      </output>\n",
              "      <script src=\"/nbextensions/google.colab/files.js\"></script> "
            ]
          },
          "metadata": {}
        },
        {
          "output_type": "stream",
          "name": "stdout",
          "text": [
            "Saving Düzenlenmiş_Dişli_Parçaları.xlsx to Düzenlenmiş_Dişli_Parçaları.xlsx\n"
          ]
        }
      ],
      "source": [
        "from google.colab import files\n",
        "uploaded = files.upload()"
      ]
    },
    {
      "cell_type": "code",
      "execution_count": 3,
      "metadata": {
        "colab": {
          "base_uri": "https://localhost:8080/",
          "height": 424
        },
        "id": "Qg8qyn0RB9E7",
        "outputId": "d0b61bca-2589-43c7-e3f5-c924ca0c5484"
      },
      "outputs": [
        {
          "output_type": "execute_result",
          "data": {
            "text/plain": [
              "                                      Piece  Process #  \\\n",
              "0          UM121T900201200 GEAR ENGINE Z35           1   \n",
              "1          UM121T900201200 GEAR ENGINE Z35           2   \n",
              "2          UM121T900201200 GEAR ENGINE Z35           3   \n",
              "3          UM121T900201200 GEAR ENGINE Z35           4   \n",
              "4          UM121T900201200 GEAR ENGINE Z35           5   \n",
              "..                                      ...        ...   \n",
              "315  UM121T900204300 GEAR ALTERNATOR Z13 -2        316   \n",
              "316  UM121T900204300 GEAR ALTERNATOR Z13 -2        317   \n",
              "317  UM121T900204300 GEAR ALTERNATOR Z13 -2        318   \n",
              "318  UM121T900204300 GEAR ALTERNATOR Z13 -2        319   \n",
              "319  UM121T900204300 GEAR ALTERNATOR Z13 -2        320   \n",
              "\n",
              "                           Process Machine  Setup  Processing time  \n",
              "0       Pre-Hardening Öncesi Torna     D13    0.0         1.000000  \n",
              "1                          Yıkama      D33    0.0         0.090909  \n",
              "2    Ön Sertleştirme (Isıl İşlem)      D31    0.0         0.545455  \n",
              "3                          Yıkama      D33    0.0         0.090909  \n",
              "4         Temperleme (Isıl İşlem)      D32    0.0         0.454545  \n",
              "..                             ...     ...    ...              ...  \n",
              "315                        Yıkama      D12    0.0         0.181818  \n",
              "316                         Balans     D69    0.0         1.000000  \n",
              "317                           MPI      D65    0.0         0.454545  \n",
              "318                        Yıkama      D12    0.0         0.090909  \n",
              "319                Kalite Kontrol      662    0.0         0.500000  \n",
              "\n",
              "[320 rows x 6 columns]"
            ],
            "text/html": [
              "\n",
              "  <div id=\"df-e34e751f-8ef8-4744-bb38-64e0df3a658e\">\n",
              "    <div class=\"colab-df-container\">\n",
              "      <div>\n",
              "<style scoped>\n",
              "    .dataframe tbody tr th:only-of-type {\n",
              "        vertical-align: middle;\n",
              "    }\n",
              "\n",
              "    .dataframe tbody tr th {\n",
              "        vertical-align: top;\n",
              "    }\n",
              "\n",
              "    .dataframe thead th {\n",
              "        text-align: right;\n",
              "    }\n",
              "</style>\n",
              "<table border=\"1\" class=\"dataframe\">\n",
              "  <thead>\n",
              "    <tr style=\"text-align: right;\">\n",
              "      <th></th>\n",
              "      <th>Piece</th>\n",
              "      <th>Process #</th>\n",
              "      <th>Process</th>\n",
              "      <th>Machine</th>\n",
              "      <th>Setup</th>\n",
              "      <th>Processing time</th>\n",
              "    </tr>\n",
              "  </thead>\n",
              "  <tbody>\n",
              "    <tr>\n",
              "      <th>0</th>\n",
              "      <td>UM121T900201200 GEAR ENGINE Z35</td>\n",
              "      <td>1</td>\n",
              "      <td>Pre-Hardening Öncesi Torna</td>\n",
              "      <td>D13</td>\n",
              "      <td>0.0</td>\n",
              "      <td>1.000000</td>\n",
              "    </tr>\n",
              "    <tr>\n",
              "      <th>1</th>\n",
              "      <td>UM121T900201200 GEAR ENGINE Z35</td>\n",
              "      <td>2</td>\n",
              "      <td>Yıkama</td>\n",
              "      <td>D33</td>\n",
              "      <td>0.0</td>\n",
              "      <td>0.090909</td>\n",
              "    </tr>\n",
              "    <tr>\n",
              "      <th>2</th>\n",
              "      <td>UM121T900201200 GEAR ENGINE Z35</td>\n",
              "      <td>3</td>\n",
              "      <td>Ön Sertleştirme (Isıl İşlem)</td>\n",
              "      <td>D31</td>\n",
              "      <td>0.0</td>\n",
              "      <td>0.545455</td>\n",
              "    </tr>\n",
              "    <tr>\n",
              "      <th>3</th>\n",
              "      <td>UM121T900201200 GEAR ENGINE Z35</td>\n",
              "      <td>4</td>\n",
              "      <td>Yıkama</td>\n",
              "      <td>D33</td>\n",
              "      <td>0.0</td>\n",
              "      <td>0.090909</td>\n",
              "    </tr>\n",
              "    <tr>\n",
              "      <th>4</th>\n",
              "      <td>UM121T900201200 GEAR ENGINE Z35</td>\n",
              "      <td>5</td>\n",
              "      <td>Temperleme (Isıl İşlem)</td>\n",
              "      <td>D32</td>\n",
              "      <td>0.0</td>\n",
              "      <td>0.454545</td>\n",
              "    </tr>\n",
              "    <tr>\n",
              "      <th>...</th>\n",
              "      <td>...</td>\n",
              "      <td>...</td>\n",
              "      <td>...</td>\n",
              "      <td>...</td>\n",
              "      <td>...</td>\n",
              "      <td>...</td>\n",
              "    </tr>\n",
              "    <tr>\n",
              "      <th>315</th>\n",
              "      <td>UM121T900204300 GEAR ALTERNATOR Z13 -2</td>\n",
              "      <td>316</td>\n",
              "      <td>Yıkama</td>\n",
              "      <td>D12</td>\n",
              "      <td>0.0</td>\n",
              "      <td>0.181818</td>\n",
              "    </tr>\n",
              "    <tr>\n",
              "      <th>316</th>\n",
              "      <td>UM121T900204300 GEAR ALTERNATOR Z13 -2</td>\n",
              "      <td>317</td>\n",
              "      <td>Balans</td>\n",
              "      <td>D69</td>\n",
              "      <td>0.0</td>\n",
              "      <td>1.000000</td>\n",
              "    </tr>\n",
              "    <tr>\n",
              "      <th>317</th>\n",
              "      <td>UM121T900204300 GEAR ALTERNATOR Z13 -2</td>\n",
              "      <td>318</td>\n",
              "      <td>MPI</td>\n",
              "      <td>D65</td>\n",
              "      <td>0.0</td>\n",
              "      <td>0.454545</td>\n",
              "    </tr>\n",
              "    <tr>\n",
              "      <th>318</th>\n",
              "      <td>UM121T900204300 GEAR ALTERNATOR Z13 -2</td>\n",
              "      <td>319</td>\n",
              "      <td>Yıkama</td>\n",
              "      <td>D12</td>\n",
              "      <td>0.0</td>\n",
              "      <td>0.090909</td>\n",
              "    </tr>\n",
              "    <tr>\n",
              "      <th>319</th>\n",
              "      <td>UM121T900204300 GEAR ALTERNATOR Z13 -2</td>\n",
              "      <td>320</td>\n",
              "      <td>Kalite Kontrol</td>\n",
              "      <td>662</td>\n",
              "      <td>0.0</td>\n",
              "      <td>0.500000</td>\n",
              "    </tr>\n",
              "  </tbody>\n",
              "</table>\n",
              "<p>320 rows × 6 columns</p>\n",
              "</div>\n",
              "      <button class=\"colab-df-convert\" onclick=\"convertToInteractive('df-e34e751f-8ef8-4744-bb38-64e0df3a658e')\"\n",
              "              title=\"Convert this dataframe to an interactive table.\"\n",
              "              style=\"display:none;\">\n",
              "        \n",
              "  <svg xmlns=\"http://www.w3.org/2000/svg\" height=\"24px\"viewBox=\"0 0 24 24\"\n",
              "       width=\"24px\">\n",
              "    <path d=\"M0 0h24v24H0V0z\" fill=\"none\"/>\n",
              "    <path d=\"M18.56 5.44l.94 2.06.94-2.06 2.06-.94-2.06-.94-.94-2.06-.94 2.06-2.06.94zm-11 1L8.5 8.5l.94-2.06 2.06-.94-2.06-.94L8.5 2.5l-.94 2.06-2.06.94zm10 10l.94 2.06.94-2.06 2.06-.94-2.06-.94-.94-2.06-.94 2.06-2.06.94z\"/><path d=\"M17.41 7.96l-1.37-1.37c-.4-.4-.92-.59-1.43-.59-.52 0-1.04.2-1.43.59L10.3 9.45l-7.72 7.72c-.78.78-.78 2.05 0 2.83L4 21.41c.39.39.9.59 1.41.59.51 0 1.02-.2 1.41-.59l7.78-7.78 2.81-2.81c.8-.78.8-2.07 0-2.86zM5.41 20L4 18.59l7.72-7.72 1.47 1.35L5.41 20z\"/>\n",
              "  </svg>\n",
              "      </button>\n",
              "      \n",
              "  <style>\n",
              "    .colab-df-container {\n",
              "      display:flex;\n",
              "      flex-wrap:wrap;\n",
              "      gap: 12px;\n",
              "    }\n",
              "\n",
              "    .colab-df-convert {\n",
              "      background-color: #E8F0FE;\n",
              "      border: none;\n",
              "      border-radius: 50%;\n",
              "      cursor: pointer;\n",
              "      display: none;\n",
              "      fill: #1967D2;\n",
              "      height: 32px;\n",
              "      padding: 0 0 0 0;\n",
              "      width: 32px;\n",
              "    }\n",
              "\n",
              "    .colab-df-convert:hover {\n",
              "      background-color: #E2EBFA;\n",
              "      box-shadow: 0px 1px 2px rgba(60, 64, 67, 0.3), 0px 1px 3px 1px rgba(60, 64, 67, 0.15);\n",
              "      fill: #174EA6;\n",
              "    }\n",
              "\n",
              "    [theme=dark] .colab-df-convert {\n",
              "      background-color: #3B4455;\n",
              "      fill: #D2E3FC;\n",
              "    }\n",
              "\n",
              "    [theme=dark] .colab-df-convert:hover {\n",
              "      background-color: #434B5C;\n",
              "      box-shadow: 0px 1px 3px 1px rgba(0, 0, 0, 0.15);\n",
              "      filter: drop-shadow(0px 1px 2px rgba(0, 0, 0, 0.3));\n",
              "      fill: #FFFFFF;\n",
              "    }\n",
              "  </style>\n",
              "\n",
              "      <script>\n",
              "        const buttonEl =\n",
              "          document.querySelector('#df-e34e751f-8ef8-4744-bb38-64e0df3a658e button.colab-df-convert');\n",
              "        buttonEl.style.display =\n",
              "          google.colab.kernel.accessAllowed ? 'block' : 'none';\n",
              "\n",
              "        async function convertToInteractive(key) {\n",
              "          const element = document.querySelector('#df-e34e751f-8ef8-4744-bb38-64e0df3a658e');\n",
              "          const dataTable =\n",
              "            await google.colab.kernel.invokeFunction('convertToInteractive',\n",
              "                                                     [key], {});\n",
              "          if (!dataTable) return;\n",
              "\n",
              "          const docLinkHtml = 'Like what you see? Visit the ' +\n",
              "            '<a target=\"_blank\" href=https://colab.research.google.com/notebooks/data_table.ipynb>data table notebook</a>'\n",
              "            + ' to learn more about interactive tables.';\n",
              "          element.innerHTML = '';\n",
              "          dataTable['output_type'] = 'display_data';\n",
              "          await google.colab.output.renderOutput(dataTable, element);\n",
              "          const docLink = document.createElement('div');\n",
              "          docLink.innerHTML = docLinkHtml;\n",
              "          element.appendChild(docLink);\n",
              "        }\n",
              "      </script>\n",
              "    </div>\n",
              "  </div>\n",
              "  "
            ]
          },
          "metadata": {},
          "execution_count": 3
        }
      ],
      "source": [
        "import io\n",
        "df = pd.read_excel(io.BytesIO(uploaded[\"Düzenlenmiş_Dişli_Parçaları.xlsx\"]), sheet_name='Anka', header=0)\n",
        "del df['SÜRE (11 parça için)']\n",
        "del df['1 tanesi için kaç tane gerek']\n",
        "del df['PROSES']\n",
        "del df['Process time']\n",
        "pr_num = list(range(1,len(df)+1))\n",
        "df[\"Process #\"] = pr_num\n",
        "df = df.rename(columns={'Makine':'Machine', 'İşlem':'Process', 'SETUP':'Setup', \n",
        "                    'SÜRE (1 parça için)':'Processing time', 'PARÇA':'Piece'})\n",
        "df = df.reindex(columns=['Piece','Process #','Process','Machine','Setup','Processing time'])\n",
        "df"
      ]
    },
    {
      "cell_type": "markdown",
      "metadata": {
        "id": "3gQeCladFZsa"
      },
      "source": [
        "## Create Chromosomes"
      ]
    },
    {
      "cell_type": "code",
      "execution_count": 4,
      "metadata": {
        "id": "WqMVoYmHOp-g",
        "colab": {
          "base_uri": "https://localhost:8080/"
        },
        "outputId": "3d8d2349-e387-449a-b815-bf2640b9005d"
      },
      "outputs": [
        {
          "output_type": "stream",
          "name": "stdout",
          "text": [
            "17 ['662' 'D11' 'D12' 'D13' 'D15' 'D17' 'D27' 'D31' 'D32' 'D33' 'D41' 'D43'\n",
            " 'D44' 'D47' 'D65' 'D69' 'Nital Etche, Hydrojen Embr.']\n",
            "17 [1, 2, 1, 4, 3, 2, 3, 3, 3, 2, 2, 1, 1, 1, 2, 1, 1]\n"
          ]
        }
      ],
      "source": [
        "m_list = np.unique(np.array(df[\"Machine\"]))                         # Each machine needed\n",
        "m_num_list = [1, 2, 1, 4, 3, 2, 3, 3, 3, 2, 2, 1, 1, 1, 2, 1, 1]    # How many there're of each machine (done manually now; to automate later)\n",
        "print(len(m_list),m_list)\n",
        "print(len(m_num_list),m_num_list)"
      ]
    },
    {
      "cell_type": "code",
      "execution_count": 5,
      "metadata": {
        "id": "ScOeU8KWvn1S",
        "colab": {
          "base_uri": "https://localhost:8080/"
        },
        "outputId": "1086c7bc-4c2d-4d60-cf84-194ad88575ba"
      },
      "outputs": [
        {
          "output_type": "stream",
          "name": "stdout",
          "text": [
            "662 \t [26, 32, 58, 64, 90, 96, 122, 128, 154, 160, 186, 192, 218, 224, 250, 256, 282, 288, 314, 320]\n",
            "D11 \t [11, 23, 43, 55, 75, 87, 107, 119, 139, 151, 171, 183, 203, 215, 235, 247, 267, 279, 299, 311]\n",
            "D12 \t [13, 24, 28, 31, 45, 56, 60, 63, 77, 88, 92, 95, 109, 120, 124, 127, 141, 152, 156, 159, 173, 184, 188, 191, 205, 216, 220, 223, 237, 248, 252, 255, 269, 280, 284, 287, 301, 312, 316, 319]\n",
            "D13 \t [1, 7, 33, 39, 65, 71, 97, 103, 129, 135, 161, 167, 193, 199, 225, 231, 257, 263, 289, 295]\n",
            "D15 \t [14, 20, 25, 46, 52, 57, 78, 84, 89, 110, 116, 121, 142, 148, 153, 174, 180, 185, 206, 212, 217, 238, 244, 249, 270, 276, 281, 302, 308, 313]\n",
            "D17 \t [10, 22, 42, 54, 74, 86, 106, 118, 138, 150, 170, 182, 202, 214, 234, 246, 266, 278, 298, 310]\n",
            "D27 \t [21, 53, 85, 117, 149, 181, 213, 245, 277, 309]\n",
            "D31 \t [3, 15, 35, 47, 67, 79, 99, 111, 131, 143, 163, 175, 195, 207, 227, 239, 259, 271, 291, 303]\n",
            "D32 \t [5, 18, 37, 50, 69, 82, 101, 114, 133, 146, 165, 178, 197, 210, 229, 242, 261, 274, 293, 306]\n",
            "D33 \t [2, 4, 16, 34, 36, 48, 66, 68, 80, 98, 100, 112, 130, 132, 144, 162, 164, 176, 194, 196, 208, 226, 228, 240, 258, 260, 272, 290, 292, 304]\n",
            "D41 \t [17, 49, 81, 113, 145, 177, 209, 241, 273, 305]\n",
            "D43 \t [9, 41, 73, 105, 137, 169, 201, 233, 265, 297]\n",
            "D44 \t [8, 12, 40, 44, 72, 76, 104, 108, 136, 140, 168, 172, 200, 204, 232, 236, 264, 268, 296, 300]\n",
            "D47 \t [6, 19, 38, 51, 70, 83, 102, 115, 134, 147, 166, 179, 198, 211, 230, 243, 262, 275, 294, 307]\n",
            "D65 \t [30, 62, 94, 126, 158, 190, 222, 254, 286, 318]\n",
            "D69 \t [29, 61, 93, 125, 157, 189, 221, 253, 285, 317]\n",
            "Nital Etche, Hydrojen Embr. \t [27, 59, 91, 123, 155, 187, 219, 251, 283, 315]\n",
            "17\n"
          ]
        }
      ],
      "source": [
        "# create a dictionary for each machine (including duplicates) & their processes\n",
        "all_machines = {}\n",
        "n = 0\n",
        "for m in m_list:\n",
        "  m_num = m_num_list[n]\n",
        "  if m_num > 0:\n",
        "    all_machines[m] = []\n",
        "    # Adding processes to the machines (but not to duplicates)\n",
        "    for r in range(len(df[\"Machine\"])):\n",
        "      if m == df.iloc[r][\"Machine\"]:\n",
        "        all_machines[m].append(r+1)\n",
        "  # add duplicate machines without the processes\n",
        "  \n",
        "  #bu boşları düşünelim(23.05.2022 tarihinde bunları commande ben aldım-beyzza)\n",
        "  #if m_num > 1:\n",
        "  #  m1 = m+\"-1\"\n",
        "  #  all_machines[m1] = all_machines[m]\n",
        "  #  all_machines.pop(m)\n",
        "  #  if m_num > 1:\n",
        "  #    m2 = m+\"-2\"\n",
        "  #    all_machines[m2] = []\n",
        "  #  if m_num > 2:\n",
        "  #    m3 = m+\"-3\"\n",
        "  #    all_machines[m3] = []\n",
        "  #  if m_num > 3:\n",
        "  #    m4 = m+\"-4\"\n",
        "  #    all_machines[m4] = []   # later add more if there're 4+ of a certain machine ---> or just write a function for this \n",
        "  # n += 1\n",
        "   \n",
        "for k in all_machines:\n",
        "  print(k,\"\\t\",all_machines[k])\n",
        "\n",
        "print(len(all_machines))"
      ]
    },
    {
      "cell_type": "code",
      "execution_count": 6,
      "metadata": {
        "id": "69QLThuy8v3k",
        "colab": {
          "base_uri": "https://localhost:8080/"
        },
        "outputId": "1b2064ab-17d1-4209-ca23-cb317d099204"
      },
      "outputs": [
        {
          "output_type": "stream",
          "name": "stdout",
          "text": [
            "[{'662': [26, 32, 58, 64, 90, 96, 122, 128, 154, 160, 186, 192, 218, 224, 250, 256, 282, 288, 314, 320], 'D11': [11, 23, 43, 55, 75, 87, 107, 119, 139, 151, 171, 183, 203, 215, 235, 247, 267, 279, 299, 311], 'D12': [13, 24, 28, 31, 45, 56, 60, 63, 77, 88, 92, 95, 109, 120, 124, 127, 141, 152, 156, 159, 173, 184, 188, 191, 205, 216, 220, 223, 237, 248, 252, 255, 269, 280, 284, 287, 301, 312, 316, 319], 'D13': [1, 7, 33, 39, 65, 71, 97, 103, 129, 135, 161, 167, 193, 199, 225, 231, 257, 263, 289, 295], 'D15': [14, 20, 25, 46, 52, 57, 78, 84, 89, 110, 116, 121, 142, 148, 153, 174, 180, 185, 206, 212, 217, 238, 244, 249, 270, 276, 281, 302, 308, 313], 'D17': [10, 22, 42, 54, 74, 86, 106, 118, 138, 150, 170, 182, 202, 214, 234, 246, 266, 278, 298, 310], 'D27': [21, 53, 85, 117, 149, 181, 213, 245, 277, 309], 'D31': [3, 15, 35, 47, 67, 79, 99, 111, 131, 143, 163, 175, 195, 207, 227, 239, 259, 271, 291, 303], 'D32': [5, 18, 37, 50, 69, 82, 101, 114, 133, 146, 165, 178, 197, 210, 229, 242, 261, 274, 293, 306], 'D33': [2, 4, 16, 34, 36, 48, 66, 68, 80, 98, 100, 112, 130, 132, 144, 162, 164, 176, 194, 196, 208, 226, 228, 240, 258, 260, 272, 290, 292, 304], 'D41': [17, 49, 81, 113, 145, 177, 209, 241, 273, 305], 'D43': [9, 41, 73, 105, 137, 169, 201, 233, 265, 297], 'D44': [8, 12, 40, 44, 72, 76, 104, 108, 136, 140, 168, 172, 200, 204, 232, 236, 264, 268, 296, 300], 'D47': [6, 19, 38, 51, 70, 83, 102, 115, 134, 147, 166, 179, 198, 211, 230, 243, 262, 275, 294, 307], 'D65': [30, 62, 94, 126, 158, 190, 222, 254, 286, 318], 'D69': [29, 61, 93, 125, 157, 189, 221, 253, 285, 317], 'Nital Etche, Hydrojen Embr.': [27, 59, 91, 123, 155, 187, 219, 251, 283, 315]}]\n",
            "[{'662': [122, 160, 58, 96, 218, 256, 26, 224, 192, 32, 288, 64, 320, 90, 282, 128, 186, 314, 250, 154], 'D11': [267, 247, 87, 55, 151, 183, 119, 107, 215, 299, 171, 203, 23, 139, 311, 279, 75, 11, 43, 235], 'D12': [280, 188, 88, 77, 252, 109, 124, 184, 316, 120, 301, 13, 287, 216, 284, 159, 223, 95, 312, 269, 205, 152, 237, 173, 28, 31, 248, 141, 45, 92, 319, 56, 191, 63, 127, 255, 156, 24, 60, 220], 'D13': [263, 289, 257, 97, 295, 225, 129, 161, 167, 193, 65, 1, 103, 39, 199, 7, 33, 71, 231, 135], 'D15': [270, 180, 185, 308, 25, 78, 110, 121, 217, 313, 281, 249, 20, 14, 84, 46, 116, 206, 238, 153, 276, 89, 302, 244, 142, 174, 148, 52, 57, 212], 'D17': [214, 278, 22, 202, 42, 86, 106, 266, 138, 170, 150, 182, 298, 54, 118, 246, 74, 10, 234, 310], 'D27': [117, 53, 245, 149, 277, 309, 213, 21, 85, 181], 'D31': [239, 143, 35, 271, 47, 163, 67, 259, 175, 111, 303, 195, 207, 131, 3, 79, 15, 291, 99, 227], 'D32': [293, 5, 165, 178, 50, 306, 146, 274, 114, 133, 197, 210, 242, 229, 261, 69, 37, 82, 101, 18], 'D33': [34, 132, 68, 272, 48, 130, 304, 258, 16, 176, 112, 144, 260, 98, 66, 196, 2, 36, 240, 292, 4, 100, 228, 226, 194, 162, 290, 80, 208, 164], 'D41': [305, 241, 209, 81, 17, 177, 113, 273, 49, 145], 'D43': [137, 41, 233, 73, 105, 297, 169, 9, 265, 201], 'D44': [12, 204, 136, 296, 108, 40, 168, 232, 236, 264, 72, 200, 300, 8, 172, 140, 268, 44, 76, 104], 'D47': [38, 307, 275, 51, 179, 19, 102, 83, 115, 198, 294, 147, 262, 211, 166, 70, 6, 230, 134, 243], 'D65': [190, 318, 158, 126, 62, 94, 30, 286, 254, 222], 'D69': [61, 157, 285, 29, 93, 125, 221, 317, 189, 253], 'Nital Etche, Hydrojen Embr.': [59, 251, 123, 91, 315, 187, 155, 219, 27, 283]}]\n",
            "[{'662': [256, 282, 64, 90, 160, 32, 186, 314, 26, 122, 288, 320, 192, 224, 96, 218, 128, 154, 58, 250], 'D11': [203, 139, 55, 299, 119, 75, 235, 87, 151, 43, 171, 11, 215, 311, 267, 247, 23, 183, 279, 107], 'D12': [152, 127, 312, 63, 28, 216, 223, 319, 159, 248, 120, 252, 269, 156, 287, 60, 280, 109, 301, 284, 255, 237, 56, 31, 124, 95, 88, 13, 45, 173, 77, 24, 188, 92, 141, 316, 184, 205, 220, 191], 'D13': [1, 231, 71, 39, 97, 129, 295, 167, 225, 289, 193, 7, 199, 103, 257, 263, 65, 33, 161, 135], 'D15': [276, 180, 174, 212, 57, 89, 206, 78, 244, 185, 25, 302, 281, 121, 46, 153, 270, 249, 308, 217, 238, 52, 14, 148, 142, 110, 84, 116, 313, 20], 'D17': [42, 86, 266, 246, 278, 10, 214, 150, 118, 138, 74, 310, 54, 202, 234, 106, 170, 182, 298, 22], 'D27': [53, 309, 277, 181, 117, 85, 213, 245, 149, 21], 'D31': [175, 67, 15, 3, 207, 79, 195, 111, 143, 227, 303, 131, 99, 35, 271, 259, 163, 291, 239, 47], 'D32': [261, 293, 210, 197, 229, 165, 242, 82, 5, 274, 37, 133, 178, 69, 18, 50, 146, 114, 306, 101], 'D33': [4, 162, 132, 100, 260, 292, 194, 144, 272, 48, 290, 34, 2, 98, 80, 164, 196, 208, 16, 68, 66, 258, 304, 176, 130, 240, 112, 36, 228, 226], 'D41': [241, 145, 17, 113, 49, 305, 81, 209, 273, 177], 'D43': [297, 233, 9, 265, 73, 201, 137, 41, 105, 169], 'D44': [232, 300, 8, 136, 296, 204, 172, 140, 200, 44, 72, 12, 168, 40, 76, 108, 236, 104, 264, 268], 'D47': [243, 294, 230, 307, 83, 19, 147, 51, 198, 6, 70, 211, 38, 179, 262, 134, 115, 275, 102, 166], 'D65': [126, 318, 62, 158, 30, 190, 254, 286, 222, 94], 'D69': [61, 125, 285, 29, 317, 157, 93, 253, 189, 221], 'Nital Etche, Hydrojen Embr.': [155, 123, 251, 219, 91, 187, 283, 59, 315, 27]}]\n",
            "[{'662': [26, 96, 320, 288, 250, 282, 224, 192, 58, 64, 256, 128, 90, 32, 186, 122, 154, 160, 314, 218], 'D11': [43, 279, 55, 171, 267, 139, 23, 107, 119, 75, 151, 87, 311, 247, 11, 299, 183, 215, 235, 203], 'D12': [173, 159, 188, 45, 24, 156, 252, 216, 56, 248, 124, 269, 319, 280, 95, 223, 191, 77, 141, 28, 205, 13, 255, 92, 316, 220, 284, 184, 88, 287, 127, 237, 31, 301, 312, 109, 152, 120, 60, 63], 'D13': [129, 65, 193, 263, 167, 257, 103, 231, 7, 161, 225, 289, 295, 39, 1, 199, 33, 97, 71, 135], 'D15': [121, 249, 116, 148, 281, 276, 244, 238, 84, 302, 57, 185, 110, 153, 174, 270, 313, 206, 52, 78, 89, 25, 142, 14, 308, 180, 212, 20, 46, 217], 'D17': [234, 10, 278, 54, 22, 106, 214, 266, 202, 182, 170, 310, 74, 246, 138, 86, 118, 298, 150, 42], 'D27': [213, 309, 149, 277, 85, 181, 21, 117, 245, 53], 'D31': [271, 131, 239, 143, 79, 111, 259, 291, 15, 163, 227, 207, 175, 35, 303, 47, 99, 195, 3, 67], 'D32': [50, 114, 306, 165, 261, 101, 242, 210, 274, 197, 229, 133, 178, 293, 82, 5, 146, 18, 69, 37], 'D33': [240, 80, 132, 4, 194, 36, 290, 144, 272, 2, 98, 16, 196, 228, 304, 68, 260, 208, 130, 226, 164, 34, 66, 258, 176, 100, 162, 112, 48, 292], 'D41': [17, 145, 49, 177, 241, 305, 273, 209, 113, 81], 'D43': [265, 73, 137, 9, 201, 41, 105, 297, 233, 169], 'D44': [264, 296, 44, 168, 72, 76, 8, 140, 172, 200, 204, 40, 236, 300, 268, 232, 108, 136, 104, 12], 'D47': [6, 51, 115, 294, 38, 198, 102, 262, 19, 70, 243, 179, 147, 275, 166, 134, 211, 230, 83, 307], 'D65': [222, 30, 254, 318, 190, 62, 126, 286, 94, 158], 'D69': [285, 221, 61, 157, 93, 29, 253, 317, 125, 189], 'Nital Etche, Hydrojen Embr.': [315, 155, 219, 283, 187, 59, 27, 251, 91, 123]}]\n",
            "[{'662': [288, 320, 96, 154, 186, 192, 160, 218, 58, 26, 250, 32, 256, 224, 314, 122, 90, 128, 64, 282], 'D11': [139, 311, 11, 267, 87, 247, 279, 23, 299, 151, 107, 75, 171, 203, 119, 43, 235, 55, 215, 183], 'D12': [216, 141, 316, 92, 280, 77, 205, 28, 124, 88, 60, 120, 56, 173, 127, 269, 252, 188, 223, 13, 312, 220, 287, 237, 24, 319, 248, 156, 284, 95, 184, 255, 31, 191, 109, 63, 159, 45, 152, 301], 'D13': [65, 71, 1, 33, 263, 231, 161, 135, 129, 103, 199, 97, 39, 7, 257, 295, 193, 225, 289, 167], 'D15': [78, 25, 302, 52, 110, 180, 14, 57, 84, 153, 174, 308, 148, 270, 217, 20, 121, 281, 46, 142, 212, 313, 116, 244, 89, 238, 206, 185, 249, 276], 'D17': [182, 310, 22, 118, 138, 54, 42, 278, 74, 266, 10, 298, 106, 202, 170, 214, 234, 86, 246, 150], 'D27': [85, 245, 117, 277, 309, 53, 149, 181, 213, 21], 'D31': [67, 303, 47, 271, 131, 227, 291, 35, 207, 195, 163, 175, 3, 79, 111, 259, 99, 143, 239, 15], 'D32': [69, 114, 146, 261, 101, 165, 50, 37, 178, 133, 242, 229, 5, 210, 293, 18, 274, 306, 197, 82], 'D33': [144, 68, 290, 4, 2, 164, 34, 100, 98, 258, 272, 48, 292, 196, 228, 162, 36, 80, 16, 226, 176, 260, 130, 304, 132, 112, 66, 208, 194, 240], 'D41': [17, 145, 241, 209, 305, 177, 81, 113, 49, 273], 'D43': [201, 9, 265, 73, 233, 297, 41, 105, 169, 137], 'D44': [8, 200, 108, 264, 296, 40, 72, 12, 140, 136, 104, 236, 268, 204, 44, 76, 300, 172, 168, 232], 'D47': [102, 83, 115, 19, 275, 51, 179, 198, 294, 134, 211, 262, 230, 6, 147, 38, 243, 166, 307, 70], 'D65': [62, 254, 286, 158, 222, 94, 126, 190, 30, 318], 'D69': [221, 125, 61, 285, 29, 253, 317, 93, 189, 157], 'Nital Etche, Hydrojen Embr.': [283, 315, 27, 123, 59, 155, 91, 219, 251, 187]}]\n",
            "[{'662': [320, 186, 58, 218, 154, 128, 122, 32, 64, 314, 96, 288, 160, 250, 256, 192, 26, 282, 224, 90], 'D11': [151, 87, 279, 267, 203, 23, 299, 235, 119, 183, 171, 107, 311, 11, 215, 55, 43, 75, 139, 247], 'D12': [301, 141, 31, 237, 173, 124, 152, 319, 95, 216, 120, 252, 60, 184, 13, 92, 220, 159, 56, 280, 63, 223, 109, 255, 45, 88, 269, 127, 287, 77, 248, 312, 316, 284, 24, 191, 205, 28, 156, 188], 'D13': [7, 103, 231, 225, 129, 65, 167, 161, 193, 135, 33, 97, 289, 199, 263, 295, 71, 257, 39, 1], 'D15': [121, 308, 89, 249, 185, 25, 148, 46, 206, 276, 180, 270, 212, 116, 313, 110, 238, 217, 174, 57, 302, 78, 142, 14, 52, 281, 84, 153, 244, 20], 'D17': [86, 170, 42, 118, 234, 22, 54, 182, 278, 246, 298, 10, 106, 202, 310, 266, 150, 138, 214, 74], 'D27': [213, 53, 149, 117, 181, 245, 309, 21, 85, 277], 'D31': [239, 111, 143, 15, 195, 3, 163, 79, 47, 67, 259, 175, 207, 99, 35, 303, 291, 227, 271, 131], 'D32': [69, 274, 37, 306, 50, 18, 210, 293, 261, 82, 178, 197, 146, 165, 5, 229, 133, 101, 114, 242], 'D33': [2, 272, 240, 258, 162, 304, 196, 48, 34, 226, 66, 260, 68, 16, 290, 132, 228, 98, 292, 80, 36, 4, 176, 144, 208, 112, 194, 130, 164, 100], 'D41': [273, 177, 145, 17, 49, 113, 305, 241, 209, 81], 'D43': [201, 9, 137, 73, 233, 105, 41, 169, 265, 297], 'D44': [264, 200, 72, 140, 204, 44, 104, 232, 76, 268, 172, 8, 40, 296, 236, 300, 108, 12, 136, 168], 'D47': [147, 83, 275, 51, 134, 198, 6, 19, 243, 179, 38, 230, 294, 307, 115, 70, 102, 211, 262, 166], 'D65': [158, 318, 62, 222, 30, 126, 254, 94, 286, 190], 'D69': [29, 61, 189, 157, 317, 125, 221, 253, 93, 285], 'Nital Etche, Hydrojen Embr.': [219, 187, 315, 91, 59, 123, 251, 27, 155, 283]}]\n",
            "[{'662': [122, 154, 314, 192, 288, 224, 320, 282, 58, 218, 26, 96, 128, 90, 64, 256, 186, 250, 32, 160], 'D11': [23, 183, 267, 11, 247, 151, 311, 75, 119, 43, 203, 279, 171, 107, 299, 87, 215, 139, 55, 235], 'D12': [77, 92, 24, 280, 223, 109, 316, 220, 120, 45, 88, 28, 205, 191, 188, 252, 156, 63, 173, 319, 312, 301, 141, 152, 127, 287, 159, 248, 124, 31, 60, 56, 13, 184, 95, 269, 255, 237, 216, 284], 'D13': [129, 257, 103, 7, 33, 71, 167, 289, 231, 225, 39, 65, 97, 193, 295, 199, 263, 135, 161, 1], 'D15': [116, 110, 244, 14, 20, 308, 238, 89, 25, 206, 84, 52, 153, 270, 142, 78, 212, 302, 46, 281, 249, 121, 180, 174, 217, 276, 185, 57, 313, 148], 'D17': [138, 86, 234, 266, 150, 202, 10, 182, 214, 170, 22, 74, 298, 278, 106, 118, 310, 42, 246, 54], 'D27': [21, 117, 149, 85, 213, 245, 181, 277, 309, 53], 'D31': [163, 303, 195, 175, 79, 99, 15, 3, 67, 143, 131, 207, 227, 35, 271, 259, 47, 291, 111, 239], 'D32': [274, 114, 50, 37, 5, 146, 293, 229, 18, 197, 210, 165, 82, 261, 242, 178, 69, 101, 306, 133], 'D33': [304, 162, 164, 260, 272, 194, 240, 112, 226, 228, 48, 258, 292, 34, 176, 208, 66, 196, 16, 4, 80, 68, 144, 2, 130, 36, 100, 132, 98, 290], 'D41': [305, 17, 209, 113, 177, 81, 49, 273, 145, 241], 'D43': [73, 9, 41, 265, 137, 233, 297, 169, 201, 105], 'D44': [140, 72, 236, 296, 168, 268, 104, 204, 136, 264, 40, 232, 44, 200, 12, 108, 76, 172, 300, 8], 'D47': [83, 179, 102, 243, 134, 230, 294, 166, 51, 70, 147, 6, 211, 198, 38, 115, 262, 19, 275, 307], 'D65': [94, 286, 190, 254, 62, 318, 126, 30, 158, 222], 'D69': [221, 125, 157, 29, 253, 189, 93, 285, 61, 317], 'Nital Etche, Hydrojen Embr.': [219, 251, 187, 315, 123, 59, 27, 283, 155, 91]}]\n",
            "[{'662': [128, 224, 160, 256, 90, 58, 192, 218, 320, 288, 32, 186, 250, 64, 96, 154, 26, 314, 122, 282], 'D11': [107, 299, 203, 183, 235, 119, 55, 43, 215, 139, 279, 311, 23, 171, 247, 87, 11, 267, 75, 151], 'D12': [173, 13, 252, 223, 319, 316, 127, 95, 216, 109, 301, 92, 152, 28, 284, 280, 191, 45, 141, 88, 24, 31, 159, 188, 269, 205, 120, 56, 60, 124, 248, 237, 255, 156, 312, 287, 63, 77, 220, 184], 'D13': [295, 7, 33, 103, 39, 65, 231, 257, 193, 161, 129, 199, 263, 225, 1, 135, 71, 289, 167, 97], 'D15': [153, 14, 116, 78, 308, 212, 217, 52, 25, 244, 174, 302, 270, 84, 46, 281, 276, 313, 89, 148, 249, 206, 180, 185, 142, 110, 121, 57, 238, 20], 'D17': [86, 118, 42, 74, 278, 266, 22, 182, 138, 234, 150, 214, 202, 54, 246, 170, 10, 310, 106, 298], 'D27': [21, 53, 245, 213, 85, 309, 149, 117, 181, 277], 'D31': [207, 303, 291, 239, 143, 47, 99, 259, 175, 227, 35, 131, 195, 15, 79, 67, 271, 111, 163, 3], 'D32': [5, 69, 82, 229, 101, 242, 146, 197, 50, 165, 18, 261, 37, 210, 306, 274, 293, 178, 133, 114], 'D33': [208, 112, 290, 34, 176, 130, 68, 260, 226, 36, 258, 272, 132, 162, 304, 100, 228, 144, 194, 80, 164, 66, 196, 16, 240, 48, 2, 4, 292, 98], 'D41': [241, 81, 17, 113, 49, 209, 177, 273, 145, 305], 'D43': [73, 169, 105, 41, 297, 137, 265, 201, 9, 233], 'D44': [136, 296, 168, 12, 8, 40, 108, 232, 204, 268, 236, 200, 44, 140, 300, 264, 172, 104, 72, 76], 'D47': [147, 102, 179, 262, 166, 38, 243, 19, 230, 51, 275, 70, 198, 134, 211, 6, 115, 83, 307, 294], 'D65': [254, 62, 318, 126, 158, 222, 190, 94, 30, 286], 'D69': [157, 125, 317, 29, 285, 189, 61, 253, 221, 93], 'Nital Etche, Hydrojen Embr.': [187, 123, 251, 219, 283, 315, 155, 27, 91, 59]}]\n"
          ]
        }
      ],
      "source": [
        "machines = copy.deepcopy(all_machines)\n",
        "\n",
        "# initialize genetic algorithm where each gene is a machine's schedule\n",
        "num_genes = len(machines)\n",
        "num_chro = 8\n",
        "popu_size = (num_chro,num_genes)\n",
        "popu = []\n",
        "\n",
        "\n",
        "for i in range(num_chro):\n",
        "  popu.append([machines])   #popu.append([machines])\n",
        "\n",
        "# shuffle the order of processes in each machine/gene except for the first chromosome, and print results\n",
        "new_popu = []\n",
        "for i in range(len(popu)):\n",
        "  new_popu.append(0,)    #new_popu.append([0])\n",
        "\n",
        "first_one = True\n",
        "for i in range(len(popu)):\n",
        "  if first_one == False:\n",
        "    for j in popu[i]:\n",
        "      for k in j:\n",
        "        temp_l = random.sample(copy.deepcopy(list(j[k])),len(j[k]))\n",
        "        j[k] = copy.deepcopy(temp_l)\n",
        "  first_one = False\n",
        "  new_popu[i] = copy.deepcopy(popu[i])\n",
        "\n",
        "for c in new_popu:\n",
        "  print(c)"
      ]
    },
    {
      "cell_type": "markdown",
      "metadata": {
        "id": "nB3L461Y5DFg"
      },
      "source": [
        "note: might need to remove the outer list from chromosomes"
      ]
    },
    {
      "cell_type": "markdown",
      "metadata": {
        "id": "k1BQet-o5Hx5"
      },
      "source": [
        " ."
      ]
    },
    {
      "cell_type": "markdown",
      "metadata": {
        "id": "AfwuGR1U_lMI"
      },
      "source": [
        "## Fitness function"
      ]
    },
    {
      "cell_type": "markdown",
      "metadata": {
        "id": "k-bU6bIMDTSW"
      },
      "source": [
        "### Make lists for the processes in each piece"
      ]
    },
    {
      "cell_type": "code",
      "execution_count": 7,
      "metadata": {
        "id": "4w26d8mzT8mP"
      },
      "outputs": [],
      "source": [
        "a_list = np.unique(np.array(df[\"Piece\"]))\n",
        "num = df[\"Piece\"].nunique(a_list[0])\n",
        "u_num = [0]*num\n",
        "for i in range(9):\n",
        "  for item in df[\"Piece\"]:\n",
        "    if item == a_list[i]: \n",
        "      u_num[i] += 1\n",
        "  #print(u_num[i],\"processes for piece\",a_list[i])"
      ]
    },
    {
      "cell_type": "code",
      "execution_count": 11,
      "metadata": {
        "id": "McnODvI5T_5T",
        "colab": {
          "base_uri": "https://localhost:8080/"
        },
        "outputId": "2447b546-7f15-441a-f18d-848a750d142c"
      },
      "outputs": [
        {
          "output_type": "stream",
          "name": "stdout",
          "text": [
            "32 [1, 2, 3, 4, 5, 6, 7, 8, 9, 10, 11, 12, 13, 14, 15, 16, 17, 18, 19, 20, 21, 22, 23, 24, 25, 26, 27, 28, 29, 30, 31, 32]\n",
            "32 [33, 34, 35, 36, 37, 38, 39, 40, 41, 42, 43, 44, 45, 46, 47, 48, 49, 50, 51, 52, 53, 54, 55, 56, 57, 58, 59, 60, 61, 62, 63, 64]\n",
            "64 [65, 66, 67, 68, 69, 70, 71, 72, 73, 74, 75, 76, 77, 78, 79, 80, 81, 82, 83, 84, 85, 86, 87, 88, 89, 90, 91, 92, 93, 94, 95, 96, 97, 98, 99, 100, 101, 102, 103, 104, 105, 106, 107, 108, 109, 110, 111, 112, 113, 114, 115, 116, 117, 118, 119, 120, 121, 122, 123, 124, 125, 126, 127, 128]\n",
            "32 [129, 130, 131, 132, 133, 134, 135, 136, 137, 138, 139, 140, 141, 142, 143, 144, 145, 146, 147, 148, 149, 150, 151, 152, 153, 154, 155, 156, 157, 158, 159, 160]\n",
            "32 [161, 162, 163, 164, 165, 166, 167, 168, 169, 170, 171, 172, 173, 174, 175, 176, 177, 178, 179, 180, 181, 182, 183, 184, 185, 186, 187, 188, 189, 190, 191, 192]\n",
            "32 [193, 194, 195, 196, 197, 198, 199, 200, 201, 202, 203, 204, 205, 206, 207, 208, 209, 210, 211, 212, 213, 214, 215, 216, 217, 218, 219, 220, 221, 222, 223, 224]\n",
            "32 [225, 226, 227, 228, 229, 230, 231, 232, 233, 234, 235, 236, 237, 238, 239, 240, 241, 242, 243, 244, 245, 246, 247, 248, 249, 250, 251, 252, 253, 254, 255, 256]\n",
            "32 [257, 258, 259, 260, 261, 262, 263, 264, 265, 266, 267, 268, 269, 270, 271, 272, 273, 274, 275, 276, 277, 278, 279, 280, 281, 282, 283, 284, 285, 286, 287, 288]\n",
            "32 [289, 290, 291, 292, 293, 294, 295, 296, 297, 298, 299, 300, 301, 302, 303, 304, 305, 306, 307, 308, 309, 310, 311, 312, 313, 314, 315, 316, 317, 318, 319, 320]\n"
          ]
        }
      ],
      "source": [
        "# process numbers in each piece\n",
        "\n",
        "processes = []\n",
        "for i in range(num):\n",
        "  processes.append([])\n",
        "#print(processes)\n",
        "\n",
        "j = 0\n",
        "k = 0\n",
        "total = 0\n",
        "for i in range(len(u_num)):\n",
        "  total += u_num[i]\n",
        "  while j < total:\n",
        "    if j == total:\n",
        "      k += 1\n",
        "    #print(i,j,k,total,processes)\n",
        "    #print(processes[i])\n",
        "    processes[i].append(j+1)\n",
        "    j += 1\n",
        "  #print(total)\n",
        "\n",
        "first_pr_in_piece = []\n",
        "last_pr_in_piece = []\n",
        "for i in processes:\n",
        "  print(len(i),i)\n",
        "  first_pr_in_piece.append(i[0])\n",
        "  last_pr_in_piece.append(i[-1])"
      ]
    },
    {
      "cell_type": "markdown",
      "metadata": {
        "id": "lsdaXlLV5Oky"
      },
      "source": [
        "### Calculating times for each process"
      ]
    },
    {
      "cell_type": "code",
      "execution_count": 12,
      "metadata": {
        "id": "jGeyWlqCKJTg"
      },
      "outputs": [],
      "source": [
        "# setup, processing & total times for each process (from 1 to 320)\n",
        "\n",
        "pr_times = list(df[\"Processing time\"])\n",
        "stp_times = list(df[\"Setup\"])\n",
        "t_times = []\n",
        "for i in range(len(pr_times)):\n",
        "  t_times.append(pr_times[i] + stp_times[i])\n",
        "#print(pr_times)\n",
        "#print(stp_times)\n",
        "#print(t_times)"
      ]
    },
    {
      "cell_type": "code",
      "source": [
        "# function to write setup, processing & total time amounts for each process\n",
        "def write_times(m_time):\n",
        "  m_pr_time = copy.deepcopy(m_time)\n",
        "  m_stp_time = copy.deepcopy(m_time)\n",
        "  m_tot_time = copy.deepcopy(m_time)\n",
        "  for m in m_time:\n",
        "    for i in range(len(m_time[m])):\n",
        "      for j in range(len(pr_times)):\n",
        "        if m_time[m][i] == j+1:\n",
        "          m_pr_time[m][i] = pr_times[j]\n",
        "          m_stp_time[m][i] = stp_times[j]\n",
        "          m_tot_time[m][i] = t_times[j]\n",
        "  return m_pr_time, m_stp_time, m_tot_time\n",
        "\n",
        "# function to write the initial start & finishing times for each process\n",
        "def write_start_finish(m_time,tt_time):\n",
        "  m_S_time = copy.deepcopy(tt_time)\n",
        "  m_F_time = copy.deepcopy(tt_time)\n",
        "  for m in m_time:                    # each machine's list\n",
        "    for i in range(len(m_time[m])):   # 0 to length of each machine (each process in a machine)\n",
        "      for j in range(len(t_times)):   # 0 to 319 (every single process)\n",
        "        if m_time[m][i] == j+1:       # if process in m_time = a process\n",
        "          if i == 0:\n",
        "            m_S_time[m][i] = 0        ### start first process at 0 for now\n",
        "          else:\n",
        "            m_S_time[m][i] = m_S_time[m][i-1] + tt_time[m][i-1]  # or m_F_time[m][i-1]\n",
        "          m_F_time[m][i] = m_S_time[m][i] + tt_time[m][i]\n",
        "  return m_S_time, m_F_time\n",
        "\n",
        "# function to update start & finish times of each process, taking into account the process sequences\n",
        "def update_start_finish(m_time,u_S_time,u_F_time,tt_time):\n",
        "  up_S_time = copy.deepcopy(u_S_time)\n",
        "  up_F_time = copy.deepcopy(u_F_time)\n",
        "  for m, St_list in up_S_time.items():\n",
        "    for St in St_list:\n",
        "      for machine, process_list in m_time.items():\n",
        "        #print(machine,process_list)\n",
        "        for process in process_list:  \n",
        "          if up_S_time[m].index(St) == m_time[machine].index(process) and machine == m:\n",
        "            #print(machine, process,    \"index:\",m_time[machine].index(process))\n",
        "            if St != 0:  #for asdf in range(1):    \n",
        "              #print(m,St,St_list.index(St),St_list)\n",
        "\n",
        "              current = u_S_time[m][St_list.index(St)] +0\n",
        "\n",
        "              # find previous finish time\n",
        "              prev = u_F_time[m][St_list.index(St)-1] +0\n",
        "\n",
        "              if process not in first_pr_in_piece:    # if the process has a predecessor\n",
        "                pred_pr = process-1\n",
        "                #print(process,pred_pr)\n",
        "                # find predecessor's finish time\n",
        "                #print(\"mmm\",m_time)\n",
        "                for m2, St_list2 in u_S_time.items():\n",
        "                  for St2 in St_list2:\n",
        "                    for machine2, process_list2 in m_time.items():\n",
        "                      #print(machine,process_list)\n",
        "                      for process2 in process_list2:  \n",
        "                        if pred_pr in m_time[machine2]:\n",
        "                          if u_S_time[m2].index(St2) == m_time[machine2].index(pred_pr) and machine2 == m2:\n",
        "                            pred = u_F_time[m2][St_list2.index(St2)] +0\n",
        "                #print(prev,\"\\t\",current,\"\\t\",pred)\n",
        "                current = max(prev,current,pred)\n",
        "\n",
        "              else:\n",
        "                #print(prev,\"\\t\",current)\n",
        "                current = max(prev,current)\n",
        "                \n",
        "              \n",
        "              #print(m)\n",
        "              #print(St_list.index(St))\n",
        "              u_S_time[m][St_list.index(St)] = current + 0\n",
        "              u_F_time[m][St_list.index(St)] = current + tt_time[m][St_list.index(St)]\n",
        "              \n",
        "            \n",
        "            #if process == 160:\n",
        "              #print(u_S_time[m][1])\n",
        "              #print(process)\n",
        "              #u_S_time[m][m_time[machine].index(160)]  = 0\n",
        "\n",
        "\n",
        "\n",
        "      # 0. isin start time'i 0 olcak\n",
        "      #inde inedx gidip start timelari bir önceki process ve predecessor process ile karsilastircak ve update etcek\n",
        "\n",
        "\n",
        "\n",
        "\n",
        "\n",
        "def calculate_times(chromosome):\n",
        "\n",
        "  # find process, setup & total(pr+stp) duration times\n",
        "  pr_time, stp_time, t_time = write_times(chromosome)\n",
        "  ##print(\"process:\",pr_time)\n",
        "  ##print(\"setups:\",stp_time)\n",
        "  #print(\"total:\",t_time,\"\\n\")\n",
        "\n",
        "  # find initial start & finish times\n",
        "  S_time, F_time = write_start_finish(chromosome,t_time)\n",
        "  #print(\"start  \",S_time)\n",
        "  #print(\"finish \",F_time)\n",
        "\n",
        "  # calculate & update the new start & finish times\n",
        "  new_S_time = copy.deepcopy(S_time)\n",
        "  new_F_time = copy.deepcopy(F_time)\n",
        "\n",
        "  # update the start & finish times\n",
        "  update_start_finish(chromosome,new_S_time,new_F_time,t_time)\n",
        "\n",
        "  print(\"\")\n",
        "  print(\"new start \",new_S_time)\n",
        "  print(\"new finish\",new_F_time)\n",
        "  #print(\"\")\n",
        "  #for i in new_S_time:\n",
        "  #  print(i)\n",
        "  #  print(\"prs\",chromosome[i])\n",
        "  #  print(\"t-t\",t_time[i])\n",
        "  #  print(\"new\",new_S_time[i])\n",
        "  #  print(\"\")\n",
        "\n",
        "  #gives the largest makespan (to minimize)\n",
        "  latest_F_time = 0\n",
        "  for i in new_F_time:\n",
        "    #print(\"asdfgh   \",new_F_time[i])\n",
        "    max_F_time = max(new_F_time[i],default=0)\n",
        "    if max_F_time > latest_F_time:\n",
        "      latest_F_time = max_F_time\n",
        "  print(\"latest finish time:\",latest_F_time)\n",
        "  makespan_list.append(latest_F_time)\n",
        "\n",
        "\n",
        "  #####return t_time, new_S_time, new_F_time\n",
        "\n",
        "\n",
        "makespan_list = []\n",
        "for chr in range(len(new_popu)):  \n",
        "  print(chr+1,new_popu[chr][0],\"\\n\")\n",
        "  calculate_times(new_popu[chr][0])\n",
        "  print(\"\\n---------\\n\")\n",
        "\n"
      ],
      "metadata": {
        "id": "hUX6WVwAlzP8",
        "colab": {
          "base_uri": "https://localhost:8080/"
        },
        "outputId": "49a9a00b-bdf7-4bba-946e-d665a75b5be0"
      },
      "execution_count": 14,
      "outputs": [
        {
          "output_type": "stream",
          "name": "stdout",
          "text": [
            "1 {'662': [26, 32, 58, 64, 90, 96, 122, 128, 154, 160, 186, 192, 218, 224, 250, 256, 282, 288, 314, 320], 'D11': [11, 23, 43, 55, 75, 87, 107, 119, 139, 151, 171, 183, 203, 215, 235, 247, 267, 279, 299, 311], 'D12': [13, 24, 28, 31, 45, 56, 60, 63, 77, 88, 92, 95, 109, 120, 124, 127, 141, 152, 156, 159, 173, 184, 188, 191, 205, 216, 220, 223, 237, 248, 252, 255, 269, 280, 284, 287, 301, 312, 316, 319], 'D13': [1, 7, 33, 39, 65, 71, 97, 103, 129, 135, 161, 167, 193, 199, 225, 231, 257, 263, 289, 295], 'D15': [14, 20, 25, 46, 52, 57, 78, 84, 89, 110, 116, 121, 142, 148, 153, 174, 180, 185, 206, 212, 217, 238, 244, 249, 270, 276, 281, 302, 308, 313], 'D17': [10, 22, 42, 54, 74, 86, 106, 118, 138, 150, 170, 182, 202, 214, 234, 246, 266, 278, 298, 310], 'D27': [21, 53, 85, 117, 149, 181, 213, 245, 277, 309], 'D31': [3, 15, 35, 47, 67, 79, 99, 111, 131, 143, 163, 175, 195, 207, 227, 239, 259, 271, 291, 303], 'D32': [5, 18, 37, 50, 69, 82, 101, 114, 133, 146, 165, 178, 197, 210, 229, 242, 261, 274, 293, 306], 'D33': [2, 4, 16, 34, 36, 48, 66, 68, 80, 98, 100, 112, 130, 132, 144, 162, 164, 176, 194, 196, 208, 226, 228, 240, 258, 260, 272, 290, 292, 304], 'D41': [17, 49, 81, 113, 145, 177, 209, 241, 273, 305], 'D43': [9, 41, 73, 105, 137, 169, 201, 233, 265, 297], 'D44': [8, 12, 40, 44, 72, 76, 104, 108, 136, 140, 168, 172, 200, 204, 232, 236, 264, 268, 296, 300], 'D47': [6, 19, 38, 51, 70, 83, 102, 115, 134, 147, 166, 179, 198, 211, 230, 243, 262, 275, 294, 307], 'D65': [30, 62, 94, 126, 158, 190, 222, 254, 286, 318], 'D69': [29, 61, 93, 125, 157, 189, 221, 253, 285, 317], 'Nital Etche, Hydrojen Embr.': [27, 59, 91, 123, 155, 187, 219, 251, 283, 315]} \n",
            "\n",
            "\n",
            "new start  {'662': [0, 0.7272727272, 6.323863636200001, 6.664772727100002, 9.034090908900001, 9.374999999800002, 12.647727272400001, 13.1022727269, 16.2613636359, 16.7159090904, 18.068181817800003, 18.295454545100004, 19.874999999700005, 20.102272727000006, 21.681818181600008, 21.90909090890001, 23.48863636350001, 23.71590909080001, 25.295454545400013, 25.522727272700013], 'D11': [0, 7.5, 15.0, 20.625, 26.25, 31.875, 37.5, 45.0, 52.5, 60.0, 67.5, 71.25, 75.0, 78.75, 82.5, 86.25, 90.0, 93.75, 97.5, 101.25], 'D12': [0, 15.0, 15.1818181818, 15.363636363600001, 15.545454545400002, 26.25, 26.3863636364, 26.522727272799997, 26.659090909199996, 37.5, 37.6363636364, 37.7727272728, 37.909090909199996, 52.5, 52.6818181818, 52.863636363599994, 53.04545454539999, 67.5, 67.6818181818, 67.8636363636, 68.04545454539999, 75.0, 75.09090909091, 75.27272727271, 75.36363636362, 82.5, 82.59090909091, 82.77272727271, 82.86363636362, 90.0, 90.09090909091, 90.27272727271, 90.36363636362, 97.5, 97.59090909091, 97.77272727271, 97.86363636362, 105.0, 105.09090909091, 105.27272727271], 'D13': [0, 1.0, 2.636363636, 3.386363636, 4.6136363629999995, 5.3636363629999995, 10.124999999800002, 11.124999999800002, 12.761363635800002, 13.761363635800002, 15.397727271800003, 15.897727271800003, 16.715909090000004, 17.215909090000004, 18.034090908200003, 18.534090908200003, 19.352272726400003, 19.852272726400003, 20.670454544600002, 21.170454544600002], 'D15': [0, 1.2045454545, 15.1818181818, 16.3863636363, 17.2897727272, 26.3863636364, 27.289772727299997, 28.193181818199996, 37.6363636364, 38.5397727273, 39.7443181818, 52.6818181818, 53.8863636363, 55.0909090908, 67.6818181818, 68.8863636363, 69.48863636360001, 75.09090909091, 75.69318181821001, 76.29545454551001, 82.59090909091, 83.19318181821001, 83.79545454551001, 90.09090909091, 90.69318181821001, 91.29545454551001, 97.59090909091, 98.19318181821001, 98.79545454551001, 105.09090909091], 'D17': [0, 3.2, 4.4045454545, 5.6, 6.5034090909, 8.0, 8.9034090909, 11.2, 12.4045454545, 14.399999999999999, 15.604545454499998, 16.2068181818, 16.8090909091, 17.599999999999998, 18.2022727273, 19.2, 19.8022727273, 20.8, 21.4022727273, 22.400000000000002], 'D27': [0, 18.193181818099998, 29.096590909099994, 40.9488636363, 56.2954545453, 70.09090909090001, 76.89772727281002, 84.39772727281002, 91.89772727281002, 99.39772727281002], 'D31': [0, 1.2045454545, 2.0227272727, 17.2897727272, 18.1079545454, 28.193181818199996, 29.011363636399995, 39.7443181818, 40.5625, 55.0909090908, 55.909090909, 69.48863636360001, 70.30681818180001, 76.29545454551001, 77.11363636371001, 83.79545454551001, 84.61363636371001, 91.29545454551001, 92.11363636371001, 98.79545454551001], 'D32': [0, 0.4545454545, 1.0, 1.4545454545, 2.0, 2.4545454545, 3.0, 3.4545454545, 4.0, 4.4545454545, 5.0, 5.4545454545, 6.0, 6.4545454545, 7.0, 7.4545454545, 8.0, 8.4545454545, 9.0, 9.4545454545], 'D33': [0, 0.5454545455, 2.0227272727, 3.386363636, 3.47727272691, 18.1079545454, 18.198863636309998, 18.6534090909, 29.011363636399995, 29.102272727309995, 29.556818181899995, 40.5625, 40.65340909091, 41.1079545455, 55.909090909, 55.99999999991, 56.4545454545, 70.30681818180001, 70.39772727271001, 70.8522727273, 77.11363636371001, 77.20454545462002, 77.65909090921001, 84.61363636371001, 84.70454545462002, 85.15909090921001, 92.11363636371001, 92.20454545462002, 92.65909090921001, 99.61363636371001], 'D41': [0, 18.198863636309998, 29.102272727309995, 40.65340909091, 55.99999999991, 70.39772727271001, 77.20454545462002, 84.70454545462002, 92.20454545462002, 99.70454545462002], 'D43': [0, 0.6136363635900001, 1.02272727267, 1.45454545448, 1.9999999998900002, 2.4999999998400004, 2.7727272725900005, 3.0454545453400006, 3.3181818180900007, 3.5909090908400008], 'D44': [0, 7.5, 7.9545454545, 20.625, 20.9659090909, 31.875, 32.2159090909, 45.0, 45.4545454545, 60.0, 60.4545454545, 71.25, 71.4772727273, 78.75, 78.9772727273, 86.25, 86.4772727273, 93.75, 93.9772727273, 101.25], 'D47': [0, 1.0, 1.4545454545, 2.0, 2.4545454545, 3.0, 3.4545454545, 4.0, 4.4545454545, 5.0, 5.4545454545, 6.0, 6.4545454545, 7.0, 7.4545454545, 8.0, 8.4545454545, 9.0, 9.4545454545, 10.0], 'D65': [0, 3.5, 5.0, 7.0, 9.0, 10.0, 11.0, 12.0, 13.0, 14.0], 'D69': [0, 26.522727272799997, 37.7727272728, 52.863636363599994, 67.8636363636, 75.27272727271, 82.77272727271, 90.27272727271, 97.77272727271, 105.27272727271], 'Nital Etche, Hydrojen Embr.': [0, 6.664772727100002, 9.374999999800002, 13.1022727269, 16.7159090904, 18.295454545100004, 20.102272727000006, 21.90909090890001, 23.71590909080001, 25.522727272700013]}\n",
            "new finish {'662': [0.4545454545, 1.7272727272, 6.664772727100002, 7.414772727100002, 9.374999999800002, 10.124999999800002, 13.1022727269, 14.1022727269, 16.7159090904, 17.7159090904, 18.295454545100004, 18.795454545100004, 20.102272727000006, 20.602272727000006, 21.90909090890001, 22.40909090890001, 23.71590909080001, 24.21590909080001, 25.522727272700013, 26.022727272700013], 'D11': [7.5, 15.0, 20.625, 26.25, 31.875, 37.5, 45.0, 52.5, 60.0, 67.5, 71.25, 75.0, 78.75, 82.5, 86.25, 90.0, 93.75, 97.5, 101.25, 105.0], 'D12': [0.1818181818, 15.1818181818, 15.363636363600001, 15.545454545400002, 15.681818181800002, 26.3863636364, 26.522727272799997, 26.659090909199996, 26.795454545599995, 37.6363636364, 37.7727272728, 37.909090909199996, 38.09090909099999, 52.6818181818, 52.863636363599994, 53.04545454539999, 53.22727272719999, 67.6818181818, 67.8636363636, 68.04545454539999, 68.13636363631, 75.09090909091, 75.27272727271, 75.36363636362, 75.45454545453, 82.59090909091, 82.77272727271, 82.86363636362, 82.95454545453, 90.09090909091, 90.27272727271, 90.36363636362, 90.45454545453, 97.59090909091, 97.77272727271, 97.86363636362, 97.95454545453, 105.09090909091, 105.27272727271, 105.36363636362], 'D13': [1.0, 2.636363636, 3.386363636, 4.6136363629999995, 5.3636363629999995, 6.590909089999999, 11.124999999800002, 12.761363635800002, 13.761363635800002, 15.397727271800003, 15.897727271800003, 16.715909090000004, 17.215909090000004, 18.034090908200003, 18.534090908200003, 19.352272726400003, 19.852272726400003, 20.670454544600002, 21.170454544600002, 21.9886363628], 'D15': [1.2045454545, 2.409090909, 16.3863636363, 17.2897727272, 18.193181818099998, 27.289772727299997, 28.193181818199996, 29.096590909099994, 38.5397727273, 39.7443181818, 40.9488636363, 53.8863636363, 55.0909090908, 56.2954545453, 68.8863636363, 69.48863636360001, 70.09090909090001, 75.69318181821001, 76.29545454551001, 76.89772727281002, 83.19318181821001, 83.79545454551001, 84.39772727281002, 90.69318181821001, 91.29545454551001, 91.89772727281002, 98.19318181821001, 98.79545454551001, 99.39772727281002, 105.69318181821001], 'D17': [1.2045454545, 4.4045454545, 5.3079545454, 6.5034090909, 7.4068181818, 8.9034090909, 10.1079545454, 12.4045454545, 13.609090908999999, 15.604545454499998, 16.2068181818, 16.8090909091, 17.4113636364, 18.2022727273, 18.8045454546, 19.8022727273, 20.4045454546, 21.4022727273, 22.004545454600002, 23.002272727300003], 'D27': [3.2, 20.593181818099996, 31.496590909099993, 44.1488636363, 59.4954545453, 71.6909090909, 78.49772727281001, 85.99772727281001, 93.49772727281001, 100.99772727281001], 'D31': [0.5454545455, 2.0227272727, 2.5681818182000002, 18.1079545454, 18.6534090909, 29.011363636399995, 29.556818181899995, 40.5625, 41.1079545455, 55.909090909, 56.4545454545, 70.30681818180001, 70.8522727273, 77.11363636371001, 77.65909090921001, 84.61363636371001, 85.15909090921001, 92.11363636371001, 92.65909090921001, 99.61363636371001], 'D32': [0.4545454545, 1.0, 1.4545454545, 2.0, 2.4545454545, 3.0, 3.4545454545, 4.0, 4.4545454545, 5.0, 5.4545454545, 6.0, 6.4545454545, 7.0, 7.4545454545, 8.0, 8.4545454545, 9.0, 9.4545454545, 10.0], 'D33': [0.09090909091, 0.63636363641, 2.11363636361, 3.47727272691, 3.5681818178199998, 18.198863636309998, 18.289772727219997, 18.744318181809998, 29.102272727309995, 29.193181818219994, 29.647727272809995, 40.65340909091, 40.744318181820006, 41.19886363641, 55.99999999991, 56.090909090820006, 56.54545454541, 70.39772727271001, 70.48863636362002, 70.94318181821001, 77.20454545462002, 77.29545454553002, 77.75000000012001, 84.70454545462002, 84.79545454553002, 85.25000000012001, 92.20454545462002, 92.29545454553002, 92.75000000012001, 99.70454545462002], 'D41': [0.2727272727, 18.471590909009997, 29.375000000009994, 40.926136363610006, 56.272727272610005, 70.67045454541001, 77.47727272732001, 84.97727272732001, 92.47727272732001, 99.97727272732001], 'D43': [0.09090909091, 0.6818181817700001, 1.09090909085, 1.5454545453900002, 2.0909090908000003, 2.5454545452900006, 2.8181818180400007, 3.0909090907900008, 3.363636363540001, 3.636363636290001], 'D44': [0.09090909091, 7.9545454545, 8.02272727268, 20.9659090909, 21.03409090908, 32.2159090909, 32.30681818181, 45.4545454545, 45.54545454541, 60.4545454545, 60.49999999995, 71.4772727273, 71.52272727275, 78.9772727273, 79.02272727275, 86.4772727273, 86.52272727275, 93.9772727273, 94.02272727275, 101.4772727273], 'D47': [0.4545454545, 1.4545454545, 1.9090909090000001, 2.4545454545, 2.9090909089999997, 3.4545454545, 3.9090909089999997, 4.4545454545, 4.909090909, 5.4545454545, 5.909090909, 6.4545454545, 6.909090909, 7.4545454545, 7.909090909, 8.4545454545, 8.909090909, 9.4545454545, 9.909090909, 10.4545454545], 'D65': [0.4545454545, 3.9545454545, 5.4545454545, 7.4545454545, 9.4545454545, 10.4545454545, 11.4545454545, 12.4545454545, 13.4545454545, 14.4545454545], 'D69': [2.0, 28.022727272799997, 39.2727272728, 54.863636363599994, 69.8636363636, 76.27272727271, 83.77272727271, 91.27272727271, 98.77272727271, 106.27272727271], 'Nital Etche, Hydrojen Embr.': [1.272727273, 7.937500000100002, 10.647727272800001, 14.374999999900002, 17.9886363634, 19.568181818100005, 21.375000000000007, 23.18181818190001, 24.988636363800012, 26.795454545700014]}\n",
            "latest finish time: 106.27272727271\n",
            "\n",
            "---------\n",
            "\n",
            "2 {'662': [122, 160, 58, 96, 218, 256, 26, 224, 192, 32, 288, 64, 320, 90, 282, 128, 186, 314, 250, 154], 'D11': [267, 247, 87, 55, 151, 183, 119, 107, 215, 299, 171, 203, 23, 139, 311, 279, 75, 11, 43, 235], 'D12': [280, 188, 88, 77, 252, 109, 124, 184, 316, 120, 301, 13, 287, 216, 284, 159, 223, 95, 312, 269, 205, 152, 237, 173, 28, 31, 248, 141, 45, 92, 319, 56, 191, 63, 127, 255, 156, 24, 60, 220], 'D13': [263, 289, 257, 97, 295, 225, 129, 161, 167, 193, 65, 1, 103, 39, 199, 7, 33, 71, 231, 135], 'D15': [270, 180, 185, 308, 25, 78, 110, 121, 217, 313, 281, 249, 20, 14, 84, 46, 116, 206, 238, 153, 276, 89, 302, 244, 142, 174, 148, 52, 57, 212], 'D17': [214, 278, 22, 202, 42, 86, 106, 266, 138, 170, 150, 182, 298, 54, 118, 246, 74, 10, 234, 310], 'D27': [117, 53, 245, 149, 277, 309, 213, 21, 85, 181], 'D31': [239, 143, 35, 271, 47, 163, 67, 259, 175, 111, 303, 195, 207, 131, 3, 79, 15, 291, 99, 227], 'D32': [293, 5, 165, 178, 50, 306, 146, 274, 114, 133, 197, 210, 242, 229, 261, 69, 37, 82, 101, 18], 'D33': [34, 132, 68, 272, 48, 130, 304, 258, 16, 176, 112, 144, 260, 98, 66, 196, 2, 36, 240, 292, 4, 100, 228, 226, 194, 162, 290, 80, 208, 164], 'D41': [305, 241, 209, 81, 17, 177, 113, 273, 49, 145], 'D43': [137, 41, 233, 73, 105, 297, 169, 9, 265, 201], 'D44': [12, 204, 136, 296, 108, 40, 168, 232, 236, 264, 72, 200, 300, 8, 172, 140, 268, 44, 76, 104], 'D47': [38, 307, 275, 51, 179, 19, 102, 83, 115, 198, 294, 147, 262, 211, 166, 70, 6, 230, 134, 243], 'D65': [190, 318, 158, 126, 62, 94, 30, 286, 254, 222], 'D69': [61, 157, 285, 29, 93, 125, 221, 317, 189, 253], 'Nital Etche, Hydrojen Embr.': [59, 251, 123, 91, 315, 187, 155, 219, 27, 283]} \n",
            "\n",
            "\n",
            "new start  {'662': [0, 2.3636363635500004, 24.693181818100005, 25.034090909000003, 25.784090909000003, 26.011363636300004, 26.511363636300004, 26.965909090800004, 27.465909090800004, 27.965909090800004, 28.965909090800004, 29.465909090800004, 30.215909090800004, 30.715909090800004, 31.056818181700002, 31.284090909000003, 32.284090909, 32.5113636363, 32.738636363599994, 32.96590909089999], 'D11': [0, 13.551136363600003, 17.3011363636, 22.9261363636, 28.5511363636, 36.0511363636, 39.8011363636, 47.3011363636, 54.8011363636, 58.5511363636, 62.3011363636, 66.0511363636, 69.8011363636, 77.3011363636, 84.8011363636, 88.5511363636, 92.3011363636, 97.9261363636, 105.4261363636, 111.0511363636], 'D12': [0, 7.636363638000001, 22.9261363636, 23.0625, 23.1988636364, 23.3806818182, 23.5625, 39.8011363636, 39.892045454510004, 47.3011363636, 47.4829545454, 47.57386363631, 47.75568181811, 58.5511363636, 58.642045454510004, 58.82386363631, 59.00568181811, 59.09659090902, 88.5511363636, 88.64204545451, 88.73295454542, 88.82386363633, 89.00568181813, 89.09659090904, 89.18749999995, 89.36931818175, 89.55113636355, 89.64204545446, 89.82386363626, 89.96022727266, 90.09659090906001, 90.18749999997002, 90.32386363637002, 90.41477272728002, 90.55113636368003, 90.73295454548003, 90.82386363639003, 91.00568181819003, 91.18749999999002, 91.32386363639003], 'D13': [0, 0.8181818182, 1.3181818182, 25.784090909000003, 26.784090909000003, 27.602272727200003, 28.102272727200003, 29.102272727200003, 29.602272727200003, 30.420454545400002, 30.920454545400002, 31.670454545400002, 32.670454545400005, 34.306818181400004, 35.5340909084, 36.352272726600006, 37.988636362600005, 38.738636362600005, 39.965909089600004, 40.78409090780001], 'D15': [0, 2.2727272725, 39.892045454510004, 40.49431818181, 91.18749999999002, 92.39204545449003, 93.29545454539003, 94.49999999989004, 95.70454545439004, 96.30681818169005, 96.90909090899005, 97.51136363629006, 98.11363636359006, 99.31818181809007, 100.52272727259007, 101.42613636349007, 102.32954545439007, 103.53409090889008, 104.13636363619008, 104.73863636349009, 105.9431818179901, 106.5454545452901, 107.4488636361901, 108.0511363634901, 108.6534090907901, 109.85795454529011, 110.46022727259012, 111.66477272709012, 112.56818181799012, 113.47159090889012], 'D17': [0, 11.999999999999998, 18.4, 19.6045454545, 20.2068181818, 21.110227272699998, 22.013636363599996, 23.218181818099996, 23.820454545399997, 25.024999999899997, 25.627272727199998, 26.831818181699997, 27.434090909, 28.0363636363, 28.939772727199998, 30.144318181699997, 30.746590909, 31.649999999899997, 32.8545454544, 33.456818181699994], 'D27': [0, 112.56818181799012, 114.96818181799013, 116.56818181799012, 119.76818181799013, 121.36818181799012, 122.96818181799011, 124.56818181799011, 127.76818181799011, 130.1681818179901], 'D31': [0, 109.85795454529011, 110.67613636349012, 111.22159090899011, 112.03977272719011, 112.85795454539011, 113.40340909089011, 113.9488636363901, 114.4943181818901, 115.3125000000901, 116.1306818182901, 116.9488636364901, 117.4943181819901, 118.3125000001901, 118.85795454569009, 119.40340909119008, 120.22159090939009, 121.03977272759009, 121.58522727309008, 122.13068181859008], 'D32': [0, 1.909090909110001, 2.7272727273, 3.1818181817999998, 3.7272727273, 4.2727272728, 4.8181818183, 5.3636363638, 5.909090909300001, 6.454545454800001, 6.909090909300001, 7.3636363638, 7.909090909300001, 8.4545454548, 8.9090909093, 9.3636363638, 9.8181818183, 10.2727272728, 10.8181818183, 11.2727272728], 'D33': [0, 118.85795454569009, 118.9488636366001, 119.0397727275101, 119.1306818184201, 119.2215909093301, 119.3125000002401, 119.40340909115011, 121.03977272759009, 121.1306818185001, 121.2215909094101, 121.3125000003201, 121.4034090912301, 121.4943181821401, 121.58522727305011, 121.67613636396011, 121.76704545487011, 121.85795454578012, 121.94886363669012, 122.03977272760012, 122.13068181851013, 122.22159090942013, 122.67613636409007, 122.76704545500007, 122.85795454591008, 122.94886363682008, 123.03977272773008, 123.13068181864008, 123.22159090955009, 123.31250000046009], 'D41': [0, 122.03977272760012, 123.31250000046009, 123.58522727316009, 123.85795454586008, 124.13068181856008, 124.40340909126007, 124.67613636396007, 124.94886363666006, 125.22159090936006], 'D43': [0, 1.34090909084, 1.43181818174, 1.7727272726699999, 3.818181818139999, 3.909090909049999, 3.954545454499999, 3.999999999949999, 4.090909090859999, 4.13636363631], 'D44': [0, 69.8011363636, 70.0284090909, 70.11931818181, 70.16477272726, 70.61931818176001, 70.68749999994, 70.73295454539, 114.8011363636, 115.0284090909, 115.07386363635, 115.14204545452999, 115.18749999997999, 115.41477272728, 115.50568181819, 115.73295454549, 116.18749999999001, 116.41477272729001, 116.75568181819001, 117.09659090909001], 'D47': [0, 4.8181818183, 5.909090909300001, 6.3636363638, 6.8181818183, 11.8181818183, 12.2727272728, 12.727272727299999, 13.181818181799999, 13.636363636299999, 14.090909090799999, 14.545454545299998, 14.999999999799998, 15.454545454299998, 15.909090908799998, 16.3636363633, 16.8181818178, 17.2727272723, 17.7272727268, 18.1818181813], 'D65': [0, 12.0, 12.4545454545, 12.909090909, 13.3636363635, 13.818181818, 14.2727272725, 14.727272726999999, 15.181818181499999, 15.636363635999999], 'D69': [0, 91.00568181819003, 93.00568181819003, 94.00568181819003, 96.00568181819003, 97.50568181819003, 99.50568181819003, 100.50568181819003, 101.50568181819003, 102.50568181819003], 'Nital Etche, Hydrojen Embr.': [0, 32.96590909089999, 34.23863636389999, 35.51136363689999, 36.784090909899994, 38.056818182899995, 39.329545455899996, 40.6022727289, 41.8750000019, 43.1477272749]}\n",
            "new finish {'662': [0.4545454545, 3.3636363635500004, 25.034090909000003, 25.784090909000003, 26.011363636300004, 26.511363636300004, 26.965909090800004, 27.465909090800004, 27.965909090800004, 28.965909090800004, 29.465909090800004, 30.215909090800004, 30.715909090800004, 31.056818181700002, 31.284090909000003, 32.284090909, 32.5113636363, 32.738636363599994, 32.96590909089999, 33.42045454539999], 'D11': [3.75, 17.3011363636, 22.9261363636, 28.5511363636, 36.0511363636, 39.8011363636, 47.3011363636, 54.8011363636, 58.5511363636, 62.3011363636, 66.0511363636, 69.8011363636, 77.3011363636, 84.8011363636, 88.5511363636, 92.3011363636, 97.9261363636, 105.4261363636, 111.0511363636, 114.8011363636], 'D12': [0.09090909091, 7.8181818198, 23.0625, 23.1988636364, 23.3806818182, 23.5625, 23.7443181818, 39.892045454510004, 40.07386363631, 47.4829545454, 47.57386363631, 47.75568181811, 47.84659090902, 58.642045454510004, 58.82386363631, 59.00568181811, 59.09659090902, 59.23295454542, 88.64204545451, 88.73295454542, 88.82386363633, 89.00568181813, 89.09659090904, 89.18749999995, 89.36931818175, 89.55113636355, 89.64204545446, 89.82386363626, 89.96022727266, 90.09659090906001, 90.18749999997002, 90.32386363637002, 90.41477272728002, 90.55113636368003, 90.73295454548003, 90.82386363639003, 91.00568181819003, 91.18749999999002, 91.32386363639003, 91.50568181819003], 'D13': [0.8181818182, 1.3181818182, 1.8181818182, 26.784090909000003, 27.602272727200003, 28.102272727200003, 29.102272727200003, 29.602272727200003, 30.420454545400002, 30.920454545400002, 31.670454545400002, 32.670454545400005, 34.306818181400004, 35.5340909084, 36.352272726600006, 37.988636362600005, 38.738636362600005, 39.965909089600004, 40.78409090780001, 42.420454543800005], 'D15': [0.6022727273, 2.8749999998, 40.49431818181, 41.09659090911, 92.39204545449003, 93.29545454539003, 94.49999999989004, 95.70454545439004, 96.30681818169005, 96.90909090899005, 97.51136363629006, 98.11363636359006, 99.31818181809007, 100.52272727259007, 101.42613636349007, 102.32954545439007, 103.53409090889008, 104.13636363619008, 104.73863636349009, 105.9431818179901, 106.5454545452901, 107.4488636361901, 108.0511363634901, 108.6534090907901, 109.85795454529011, 110.46022727259012, 111.66477272709012, 112.56818181799012, 113.47159090889012, 114.07386363619013], 'D17': [0.6022727273, 12.602272727299999, 19.6045454545, 20.2068181818, 21.110227272699998, 22.013636363599996, 23.218181818099996, 23.820454545399997, 25.024999999899997, 25.627272727199998, 26.831818181699997, 27.434090909, 28.0363636363, 28.939772727199998, 30.144318181699997, 30.746590909, 31.649999999899997, 32.8545454544, 33.456818181699994, 34.05909090899999], 'D27': [3.2, 114.96818181799013, 116.56818181799012, 119.76818181799013, 121.36818181799012, 122.96818181799011, 124.56818181799011, 127.76818181799011, 130.1681818179901, 131.7681818179901], 'D31': [0.8181818182, 110.67613636349012, 111.22159090899011, 112.03977272719011, 112.85795454539011, 113.40340909089011, 113.9488636363901, 114.4943181818901, 115.3125000000901, 116.1306818182901, 116.9488636364901, 117.4943181819901, 118.3125000001901, 118.85795454569009, 119.40340909119008, 120.22159090939009, 121.03977272759009, 121.58522727309008, 122.13068181859008, 122.67613636409007], 'D32': [0.4545454545, 2.363636363610001, 3.1818181817999998, 3.7272727273, 4.2727272728, 4.8181818183, 5.3636363638, 5.909090909300001, 6.454545454800001, 6.909090909300001, 7.3636363638, 7.909090909300001, 8.4545454548, 8.9090909093, 9.3636363638, 9.8181818183, 10.2727272728, 10.8181818183, 11.2727272728, 11.8181818183], 'D33': [0.09090909091, 118.9488636366001, 119.0397727275101, 119.1306818184201, 119.2215909093301, 119.3125000002401, 119.40340909115011, 119.49431818206011, 121.1306818185001, 121.2215909094101, 121.3125000003201, 121.4034090912301, 121.4943181821401, 121.58522727305011, 121.67613636396011, 121.76704545487011, 121.85795454578012, 121.94886363669012, 122.03977272760012, 122.13068181851013, 122.22159090942013, 122.31250000033013, 122.76704545500007, 122.85795454591008, 122.94886363682008, 123.03977272773008, 123.13068181864008, 123.22159090955009, 123.31250000046009, 123.4034090913701], 'D41': [0.2727272727, 122.31250000030012, 123.58522727316009, 123.85795454586008, 124.13068181856008, 124.40340909126007, 124.67613636396007, 124.94886363666006, 125.22159090936006, 125.49431818206006], 'D43': [0.09090909091, 1.4090909090200001, 1.47727272719, 1.8409090908499999, 3.909090909049999, 3.954545454499999, 3.999999999949999, 4.090909090859999, 4.13636363631, 4.18181818176], 'D44': [0.4545454545, 70.0284090909, 70.11931818181, 70.16477272726, 70.61931818176001, 70.68749999994, 70.73295454539, 70.77840909084, 115.0284090909, 115.07386363635, 115.14204545452999, 115.18749999997999, 115.41477272728, 115.50568181819, 115.73295454549, 116.18749999999001, 116.41477272729001, 116.75568181819001, 117.09659090909001, 117.18750000000001], 'D47': [0.4545454545, 5.2727272728, 6.3636363638, 6.8181818183, 7.2727272728, 12.2727272728, 12.727272727299999, 13.181818181799999, 13.636363636299999, 14.090909090799999, 14.545454545299998, 14.999999999799998, 15.454545454299998, 15.909090908799998, 16.3636363633, 16.8181818178, 17.2727272723, 17.7272727268, 18.1818181813, 18.6363636358], 'D65': [0.4545454545, 12.4545454545, 12.909090909, 13.3636363635, 13.818181818, 14.2727272725, 14.727272726999999, 15.181818181499999, 15.636363635999999, 16.0909090905], 'D69': [1.5, 93.00568181819003, 94.00568181819003, 96.00568181819003, 97.50568181819003, 99.50568181819003, 100.50568181819003, 101.50568181819003, 102.50568181819003, 103.50568181819003], 'Nital Etche, Hydrojen Embr.': [1.272727273, 34.23863636389999, 35.51136363689999, 36.784090909899994, 38.056818182899995, 39.329545455899996, 40.6022727289, 41.8750000019, 43.1477272749, 44.4204545479]}\n",
            "latest finish time: 131.7681818179901\n",
            "\n",
            "---------\n",
            "\n",
            "3 {'662': [256, 282, 64, 90, 160, 32, 186, 314, 26, 122, 288, 320, 192, 224, 96, 218, 128, 154, 58, 250], 'D11': [203, 139, 55, 299, 119, 75, 235, 87, 151, 43, 171, 11, 215, 311, 267, 247, 23, 183, 279, 107], 'D12': [152, 127, 312, 63, 28, 216, 223, 319, 159, 248, 120, 252, 269, 156, 287, 60, 280, 109, 301, 284, 255, 237, 56, 31, 124, 95, 88, 13, 45, 173, 77, 24, 188, 92, 141, 316, 184, 205, 220, 191], 'D13': [1, 231, 71, 39, 97, 129, 295, 167, 225, 289, 193, 7, 199, 103, 257, 263, 65, 33, 161, 135], 'D15': [276, 180, 174, 212, 57, 89, 206, 78, 244, 185, 25, 302, 281, 121, 46, 153, 270, 249, 308, 217, 238, 52, 14, 148, 142, 110, 84, 116, 313, 20], 'D17': [42, 86, 266, 246, 278, 10, 214, 150, 118, 138, 74, 310, 54, 202, 234, 106, 170, 182, 298, 22], 'D27': [53, 309, 277, 181, 117, 85, 213, 245, 149, 21], 'D31': [175, 67, 15, 3, 207, 79, 195, 111, 143, 227, 303, 131, 99, 35, 271, 259, 163, 291, 239, 47], 'D32': [261, 293, 210, 197, 229, 165, 242, 82, 5, 274, 37, 133, 178, 69, 18, 50, 146, 114, 306, 101], 'D33': [4, 162, 132, 100, 260, 292, 194, 144, 272, 48, 290, 34, 2, 98, 80, 164, 196, 208, 16, 68, 66, 258, 304, 176, 130, 240, 112, 36, 228, 226], 'D41': [241, 145, 17, 113, 49, 305, 81, 209, 273, 177], 'D43': [297, 233, 9, 265, 73, 201, 137, 41, 105, 169], 'D44': [232, 300, 8, 136, 296, 204, 172, 140, 200, 44, 72, 12, 168, 40, 76, 108, 236, 104, 264, 268], 'D47': [243, 294, 230, 307, 83, 19, 147, 51, 198, 6, 70, 211, 38, 179, 262, 134, 115, 275, 102, 166], 'D65': [126, 318, 62, 158, 30, 190, 254, 286, 222, 94], 'D69': [61, 125, 285, 29, 317, 157, 93, 253, 189, 221], 'Nital Etche, Hydrojen Embr.': [155, 123, 251, 219, 91, 187, 283, 59, 315, 27]} \n",
            "\n",
            "\n",
            "new start  {'662': [0, 9.335227272900003, 9.562500000200004, 10.312500000200004, 10.653409091100004, 11.653409091100004, 12.653409091100004, 24.090909090900006, 24.318181818200006, 24.772727272700006, 25.227272727200006, 25.727272727200006, 26.227272727200006, 26.727272727200006, 27.227272727200006, 27.977272727200006, 28.204545454500007, 29.204545454500007, 29.659090909000007, 29.999999999900005], 'D11': [0, 9.034090909, 16.534090909, 22.159090909, 25.909090909, 33.409090909, 39.034090909, 42.784090909, 48.409090909, 55.909090909, 61.534090909, 65.284090909, 72.784090909, 76.534090909, 80.284090909, 84.034090909, 87.784090909, 95.284090909, 99.034090909, 102.784090909], 'D12': [0, 0.4545454545, 80.284090909, 80.37499999991, 80.51136363631001, 80.69318181811, 80.78409090902001, 80.87499999993001, 80.96590909084001, 87.784090909, 87.87499999991, 88.05681818171, 88.23863636351, 88.32954545442, 88.51136363622, 88.60227272713, 102.784090909, 102.87499999991, 103.05681818171, 103.14772727262, 103.32954545442, 103.42045454533, 103.51136363624, 103.64772727264001, 103.82954545444001, 104.01136363624, 104.14772727264001, 104.28409090904002, 104.46590909084001, 104.60227272724002, 104.69318181815002, 104.82954545455003, 105.01136363635003, 105.19318181815002, 105.32954545455003, 105.51136363635003, 105.69318181815002, 105.78409090906003, 105.87499999997003, 106.05681818177003], 'D13': [0, 1.3636363635, 4.999999999499999, 6.227272726499999, 27.977272727200006, 28.977272727200006, 29.977272727200006, 30.795454545400005, 31.613636363600005, 32.11363636360001, 32.61363636360001, 33.11363636360001, 34.74999999960001, 35.56818181780001, 37.20454545380001, 37.70454545380001, 38.52272727200001, 39.27272727200001, 40.02272727200001, 40.52272727200001], 'D15': [0, 6.363636362999999, 104.69318181815002, 105.29545454545003, 105.89772727275003, 106.80113636365003, 107.70454545455003, 108.30681818185003, 109.21022727275003, 109.81250000005004, 110.41477272735004, 111.61931818185005, 112.22159090915005, 112.82386363645006, 114.02840909095006, 114.93181818185006, 116.13636363635007, 116.73863636365007, 117.34090909095008, 117.94318181825008, 118.54545454555009, 119.14772727285009, 120.05113636375009, 121.2556818182501, 122.4602272727501, 123.66477272725011, 124.86931818175012, 125.77272727265012, 126.97727272715012, 127.57954545445013], 'D17': [0, 12.799999999999999, 13.7034090909, 15.999999999999998, 16.602272727299997, 17.204545454599998, 18.409090909099998, 19.2, 20.4045454545, 21.609090909, 22.8136363635, 23.717045454399997, 24.319318181699998, 25.222727272599997, 25.824999999899998, 26.4272727272, 27.631818181699998, 28.234090909, 28.8363636363, 29.4386363636], 'D27': [0, 117.94318181825008, 119.54318181825008, 121.14318181825007, 126.97727272715012, 130.17727272715013, 132.57727272715013, 134.17727272715013, 135.77727272715012, 138.9772727271501], 'D31': [0, 1.909090909110001, 121.2556818182501, 122.0738636364501, 122.61931818195009, 123.4375000001501, 124.2556818183501, 124.86931818175012, 125.68749999995012, 126.50568181815012, 127.05113636365012, 127.86931818185012, 128.4147727273501, 128.96022727285012, 129.50568181835013, 130.32386363655013, 130.86931818205014, 131.41477272755014, 131.96022727305015, 132.77840909125015], 'D32': [0, 0.54545454546, 2.1818181816, 2.7272727271000003, 3.1818181816, 3.6363636361, 4.0909090906, 4.6363636361000005, 5.181818181600001, 5.6363636361000005, 6.181818181600001, 6.6363636361000005, 7.0909090906, 7.6363636361000005, 8.0909090906, 8.6363636361, 9.1818181816, 9.7272727271, 10.272727272600001, 10.818181818100001], 'D33': [0, 40.52272727200001, 128.4147727273501, 128.96022727285012, 130.86931818205014, 131.96022727305015, 132.05113636396015, 132.14204545487016, 132.23295454578016, 133.59659090945016, 133.68750000036016, 133.77840909127016, 133.86931818218017, 133.96022727309017, 134.05113636400017, 134.14204545491017, 134.23295454582018, 134.32386363673018, 134.41477272764018, 134.5056818185502, 134.5965909094602, 134.6875000003702, 134.7784090912802, 134.8693181821902, 134.9602272731002, 135.0511363640102, 135.1420454549202, 135.2329545458302, 135.3238636367402, 135.41477272765022], 'D41': [0, 132.23295454578016, 134.5056818185502, 135.2329545458302, 135.5056818185302, 135.7784090912302, 136.0511363639302, 136.3238636366302, 136.5965909093302, 136.86931818203018], 'D43': [0, 0.04545454545, 0.36363636366, 3.59090909084, 3.63636363629, 3.70454545447, 3.74999999992, 3.84090909083, 3.9090909090099997, 3.9999999999199995], 'D44': [0, 25.909090909, 34.74999999960001, 42.15909090800001, 42.24999999891001, 42.29545454436001, 65.284090909, 65.5113636363, 65.96590909080001, 66.01136363625001, 66.35227272715001, 72.784090909, 73.2386363635, 73.28409090895, 73.35227272713, 110.284090909, 110.7386363635, 110.96590909080001, 111.05681818171001, 111.10227272716001], 'D47': [0, 0.99999999996, 3.6363636361, 10.818181818100001, 11.272727272600001, 11.7272727271, 12.1818181816, 12.6363636361, 13.0909090906, 13.5454545451, 13.9999999996, 14.4545454541, 14.9090909086, 15.3636363631, 15.8181818176, 16.2727272721, 16.7272727266, 17.1818181811, 17.6363636356, 18.0909090901], 'D65': [0, 7.5, 7.9545454545, 9.5, 9.9545454545, 13.0, 13.4545454545, 13.909090909, 14.3636363635, 14.818181818], 'D69': [0, 104.01136363624, 106.01136363624, 107.01136363624, 109.01136363624, 110.01136363624, 112.01136363624, 113.51136363624, 114.51136363624, 115.51136363624], 'Nital Etche, Hydrojen Embr.': [0, 25.227272727200006, 30.227272727200006, 31.500000000200007, 32.772727273200005, 34.045454546200006, 35.31818181920001, 36.59090909220001, 37.86363636520001, 39.13636363820001]}\n",
            "new finish {'662': [0.5, 9.562500000200004, 10.312500000200004, 10.653409091100004, 11.653409091100004, 12.653409091100004, 12.880681818400005, 24.318181818200006, 24.772727272700006, 25.227272727200006, 25.727272727200006, 26.227272727200006, 26.727272727200006, 27.227272727200006, 27.977272727200006, 28.204545454500007, 29.204545454500007, 29.659090909000007, 29.999999999900005, 30.227272727200006], 'D11': [3.75, 16.534090909, 22.159090909, 25.909090909, 33.409090909, 39.034090909, 42.784090909, 48.409090909, 55.909090909, 61.534090909, 65.284090909, 72.784090909, 76.534090909, 80.284090909, 84.034090909, 87.784090909, 95.284090909, 99.034090909, 102.784090909, 110.284090909], 'D12': [0.1818181818, 0.6363636363, 80.37499999991, 80.51136363631001, 80.69318181811, 80.78409090902001, 80.87499999993001, 80.96590909084001, 81.14772727264001, 87.87499999991, 88.05681818171, 88.23863636351, 88.32954545442, 88.51136363622, 88.60227272713, 88.73863636353, 102.87499999991, 103.05681818171, 103.14772727262, 103.32954545442, 103.42045454533, 103.51136363624, 103.64772727264001, 103.82954545444001, 104.01136363624, 104.14772727264001, 104.28409090904002, 104.46590909084001, 104.60227272724002, 104.69318181815002, 104.82954545455003, 105.01136363635003, 105.19318181815002, 105.32954545455003, 105.51136363635003, 105.69318181815002, 105.78409090906003, 105.87499999997003, 106.05681818177003, 106.14772727268003], 'D13': [1.0, 2.1818181816999997, 6.227272726499999, 7.454545453499999, 28.977272727200006, 29.977272727200006, 30.795454545400005, 31.613636363600005, 32.11363636360001, 32.61363636360001, 33.11363636360001, 34.74999999960001, 35.56818181780001, 37.20454545380001, 37.70454545380001, 38.52272727200001, 39.27272727200001, 40.02272727200001, 40.52272727200001, 42.15909090800001], 'D15': [0.6022727273, 6.9659090902999985, 105.29545454545003, 105.89772727275003, 106.80113636365003, 107.70454545455003, 108.30681818185003, 109.21022727275003, 109.81250000005004, 110.41477272735004, 111.61931818185005, 112.22159090915005, 112.82386363645006, 114.02840909095006, 114.93181818185006, 116.13636363635007, 116.73863636365007, 117.34090909095008, 117.94318181825008, 118.54545454555009, 119.14772727285009, 120.05113636375009, 121.2556818182501, 122.4602272727501, 123.66477272725011, 124.86931818175012, 125.77272727265012, 126.97727272715012, 127.57954545445013, 128.78409090895013], 'D17': [0.9034090909, 13.7034090909, 14.3056818182, 16.602272727299997, 17.204545454599998, 18.409090909099998, 19.0113636364, 20.4045454545, 21.609090909, 22.8136363635, 23.717045454399997, 24.319318181699998, 25.222727272599997, 25.824999999899998, 26.4272727272, 27.631818181699998, 28.234090909, 28.8363636363, 29.4386363636, 30.6431818181], 'D27': [2.4, 119.54318181825008, 121.14318181825007, 122.74318181825006, 130.17727272715013, 132.57727272715013, 134.17727272715013, 135.77727272715012, 138.9772727271501, 142.1772727271501], 'D31': [0.8181818182, 2.454545454610001, 122.0738636364501, 122.61931818195009, 123.4375000001501, 124.2556818183501, 124.80113636385009, 125.68749999995012, 126.50568181815012, 127.05113636365012, 127.86931818185012, 128.4147727273501, 128.96022727285012, 129.50568181835013, 130.32386363655013, 130.86931818205014, 131.41477272755014, 131.96022727305015, 132.77840909125015, 133.59659090945016], 'D32': [0.4545454545, 0.99999999996, 2.7272727271000003, 3.1818181816, 3.6363636361, 4.0909090906, 4.6363636361000005, 5.181818181600001, 5.6363636361000005, 6.181818181600001, 6.6363636361000005, 7.0909090906, 7.6363636361000005, 8.0909090906, 8.6363636361, 9.1818181816, 9.7272727271, 10.272727272600001, 10.818181818100001, 11.272727272600001], 'D33': [0.09090909091, 40.613636362910015, 128.50568181826011, 129.05113636376012, 130.96022727296014, 132.05113636396015, 132.14204545487016, 132.23295454578016, 132.32386363669016, 133.68750000036016, 133.77840909127016, 133.86931818218017, 133.96022727309017, 134.05113636400017, 134.14204545491017, 134.23295454582018, 134.32386363673018, 134.41477272764018, 134.5056818185502, 134.5965909094602, 134.6875000003702, 134.7784090912802, 134.8693181821902, 134.9602272731002, 135.0511363640102, 135.1420454549202, 135.2329545458302, 135.3238636367402, 135.41477272765022, 135.50568181856022], 'D41': [0.2727272727, 132.50568181848016, 134.77840909125018, 135.5056818185302, 135.7784090912302, 136.0511363639302, 136.3238636366302, 136.5965909093302, 136.86931818203018, 137.14204545473018], 'D43': [0.04545454545, 0.0909090909, 0.45454545457, 3.63636363629, 3.70454545447, 3.74999999992, 3.84090909083, 3.9090909090099997, 3.9999999999199995, 4.045454545369999], 'D44': [0.04545454545, 26.1363636363, 34.84090909051001, 42.24999999891001, 42.29545454436001, 42.52272727166001, 65.5113636363, 65.96590909080001, 66.01136363625001, 66.35227272715001, 66.42045454533, 73.2386363635, 73.28409090895, 73.35227272713, 73.69318181803, 110.7386363635, 110.96590909080001, 111.05681818171001, 111.10227272716001, 111.32954545446002], 'D47': [0.4545454545, 1.45454545446, 4.0909090906, 11.272727272600001, 11.7272727271, 12.1818181816, 12.6363636361, 13.0909090906, 13.5454545451, 13.9999999996, 14.4545454541, 14.9090909086, 15.3636363631, 15.8181818176, 16.2727272721, 16.7272727266, 17.1818181811, 17.6363636356, 18.0909090901, 18.5454545446], 'D65': [0.4545454545, 7.9545454545, 8.409090909, 9.9545454545, 10.409090909, 13.4545454545, 13.909090909, 14.3636363635, 14.818181818, 15.2727272725], 'D69': [1.5, 106.01136363624, 107.01136363624, 109.01136363624, 110.01136363624, 112.01136363624, 113.51136363624, 114.51136363624, 115.51136363624, 116.51136363624], 'Nital Etche, Hydrojen Embr.': [1.272727273, 26.500000000200007, 31.500000000200007, 32.772727273200005, 34.045454546200006, 35.31818181920001, 36.59090909220001, 37.86363636520001, 39.13636363820001, 40.40909091120001]}\n",
            "latest finish time: 142.1772727271501\n",
            "\n",
            "---------\n",
            "\n",
            "4 {'662': [26, 96, 320, 288, 250, 282, 224, 192, 58, 64, 256, 128, 90, 32, 186, 122, 154, 160, 314, 218], 'D11': [43, 279, 55, 171, 267, 139, 23, 107, 119, 75, 151, 87, 311, 247, 11, 299, 183, 215, 235, 203], 'D12': [173, 159, 188, 45, 24, 156, 252, 216, 56, 248, 124, 269, 319, 280, 95, 223, 191, 77, 141, 28, 205, 13, 255, 92, 316, 220, 284, 184, 88, 287, 127, 237, 31, 301, 312, 109, 152, 120, 60, 63], 'D13': [129, 65, 193, 263, 167, 257, 103, 231, 7, 161, 225, 289, 295, 39, 1, 199, 33, 97, 71, 135], 'D15': [121, 249, 116, 148, 281, 276, 244, 238, 84, 302, 57, 185, 110, 153, 174, 270, 313, 206, 52, 78, 89, 25, 142, 14, 308, 180, 212, 20, 46, 217], 'D17': [234, 10, 278, 54, 22, 106, 214, 266, 202, 182, 170, 310, 74, 246, 138, 86, 118, 298, 150, 42], 'D27': [213, 309, 149, 277, 85, 181, 21, 117, 245, 53], 'D31': [271, 131, 239, 143, 79, 111, 259, 291, 15, 163, 227, 207, 175, 35, 303, 47, 99, 195, 3, 67], 'D32': [50, 114, 306, 165, 261, 101, 242, 210, 274, 197, 229, 133, 178, 293, 82, 5, 146, 18, 69, 37], 'D33': [240, 80, 132, 4, 194, 36, 290, 144, 272, 2, 98, 16, 196, 228, 304, 68, 260, 208, 130, 226, 164, 34, 66, 258, 176, 100, 162, 112, 48, 292], 'D41': [17, 145, 49, 177, 241, 305, 273, 209, 113, 81], 'D43': [265, 73, 137, 9, 201, 41, 105, 297, 233, 169], 'D44': [264, 296, 44, 168, 72, 76, 8, 140, 172, 200, 204, 40, 236, 300, 268, 232, 108, 136, 104, 12], 'D47': [6, 51, 115, 294, 38, 198, 102, 262, 19, 70, 243, 179, 147, 275, 166, 134, 211, 230, 83, 307], 'D65': [222, 30, 254, 318, 190, 62, 126, 286, 94, 158], 'D69': [285, 221, 61, 157, 93, 29, 253, 317, 125, 189], 'Nital Etche, Hydrojen Embr.': [315, 155, 219, 283, 187, 59, 27, 251, 91, 123]} \n",
            "\n",
            "\n",
            "new start  {'662': [0, 2.0454545454600006, 2.7954545454600006, 4.090909090920001, 4.590909090920001, 4.818181818220001, 5.045454545520001, 5.545454545520001, 9.034090909100001, 9.375000000000002, 10.125000000000002, 10.625000000000002, 17.164772727300004, 17.505681818200003, 18.505681818200003, 18.732954545500004, 19.187500000000004, 19.642045454500003, 20.642045454500003, 25.295454545400005], 'D11': [0, 5.625, 9.375, 15.0, 18.75, 22.5, 30.0, 37.5, 45.0, 52.5, 58.125, 65.625, 71.25, 75.0, 78.75, 86.25, 90.0, 93.75, 97.5, 101.25], 'D12': [0, 4.545454544999999, 6.3636363650000005, 6.5454545468, 37.5, 37.6818181818, 37.863636363599994, 97.5, 97.59090909091, 97.72727272731001, 97.81818181822001, 98.00000000002001, 98.09090909093001, 98.18181818184001, 98.27272727275002, 98.40909090915002, 98.50000000006003, 98.59090909097003, 98.72727272737004, 98.90909090917003, 99.09090909097003, 99.18181818188003, 99.36363636368003, 99.45454545459003, 99.59090909099004, 99.77272727279004, 99.95454545459003, 100.13636363639003, 100.22727272730003, 100.36363636370004, 100.45454545461004, 100.63636363641004, 100.72727272732004, 100.90909090912004, 101.00000000003004, 101.09090909094004, 101.27272727274004, 101.45454545454004, 101.63636363634004, 101.77272727274004], 'D13': [0, 1.0, 1.75, 3.6363636359999996, 6.818181817499998, 7.636363635699999, 8.136363635699999, 9.772727271699999, 10.590909089899998, 12.227272725899999, 12.727272725899999, 13.227272725899999, 13.727272725899999, 14.545454544099998, 15.772727271099999, 16.7727272711, 17.5909090893, 18.3409090893, 19.3409090893, 20.568181816299997], 'D15': [0, 97.81818181822001, 98.42045454552002, 99.62500000002002, 100.82954545452003, 101.43181818182003, 102.03409090912004, 102.63636363642004, 103.23863636372005, 104.14204545462005, 104.74431818192005, 105.64772727282005, 106.25000000012005, 107.45454545462006, 108.65909090912007, 109.26136363642007, 109.86363636372008, 110.46590909102008, 111.06818181832008, 111.97159090922008, 112.87500000012008, 113.77840909102008, 114.98295454552009, 116.1875000000201, 117.3920454545201, 117.9943181818201, 118.59659090912011, 119.19886363642011, 120.40340909092012, 121.30681818182012], 'D17': [0, 0.6022727273, 8.0, 22.4, 23.303409090899997, 24.507954545399997, 25.712499999899997, 26.314772727199998, 26.9170454545, 27.5193181818, 28.1215909091, 28.7238636364, 29.3261363637, 30.2295454546, 30.8318181819, 32.036363636400004, 32.9397727273, 34.1443181818, 34.7465909091, 35.9511363636], 'D27': [0, 117.9943181818201, 119.5943181818201, 122.7943181818201, 124.3943181818201, 126.7943181818201, 128.3943181818201, 131.59431818182009, 134.79431818182007, 136.39431818182007], 'D31': [0, 1.7272727272900008, 103.23863636372005, 116.1875000000201, 117.0056818182201, 117.8238636364201, 118.6420454546201, 119.1875000001201, 119.73295454562009, 120.55113636382009, 121.09659090932008, 121.64204545482008, 122.46022727302008, 123.27840909122008, 123.82386363672008, 124.64204545492008, 125.46022727312008, 126.00568181862008, 126.55113636412007, 127.09659090962006], 'D32': [0, 2.4545454543000003, 2.9999999998000004, 3.5454545453000006, 3.9999999998000004, 4.454545454300001, 4.9090909088000005, 5.454545454300001, 5.999999999800001, 6.545454545300001, 6.999999999800001, 7.454545454300001, 7.9090909088000005, 8.4545454543, 8.9090909088, 9.4545454543, 9.9090909088, 10.4545454543, 10.9999999998, 11.4545454543], 'D33': [0, 117.8238636364201, 117.9147727273301, 127.09659090962006, 127.18750000053006, 127.27840909144007, 127.36931818235007, 127.46022727326007, 127.55113636417008, 127.64204545508008, 127.73295454599008, 127.82386363690009, 127.91477272781009, 128.0056818187201, 128.0965909096301, 128.1875000005401, 128.2784090914501, 128.3693181823601, 128.4602272732701, 128.5511363641801, 128.6420454550901, 128.73295454600012, 128.82386363691012, 128.91477272782012, 129.00568181873012, 129.09659090964013, 129.18750000055013, 129.27840909146013, 129.36931818237014, 129.46022727328014], 'D41': [0, 127.55113636417008, 129.46022727328014, 129.73295454598014, 130.00568181868013, 130.27840909138013, 130.55113636408012, 130.82386363678012, 131.0965909094801, 131.3693181821801], 'D43': [0, 0.5454545454299999, 3.2727272727299996, 3.3636363636399995, 3.4545454545499994, 3.4999999999999996, 3.5681818181799994, 3.6590909090899992, 3.7045454545399994, 3.7499999999899996], 'D44': [0, 14.545454544099998, 14.590909089549998, 14.931818180449998, 20.568181816299997, 58.125, 58.4659090909, 58.55681818181, 59.01136363631, 59.23863636361, 105.0, 105.2272727273, 105.29545454548, 105.52272727278, 105.75000000008001, 105.97727272738001, 106.02272727283001, 106.47727272733002, 106.56818181824002, 106.65909090915002], 'D47': [0, 0.5454545455, 2.9999999998000004, 8.9090909088, 11.9090909088, 12.3636363633, 12.8181818178, 13.2727272723, 13.727272726799999, 14.181818181299999, 14.636363635799999, 15.090909090299998, 15.545454544799998, 15.999999999299998, 16.454545453799998, 16.909090908299998, 17.363636362799998, 17.818181817299998, 18.272727271799997, 18.727272726299997], 'D65': [0, 9.0, 10.0, 11.0, 14.0, 14.4545454545, 14.909090909, 15.3636363635, 15.818181818, 16.2727272725], 'D69': [0, 99.95454545459003, 101.77272727274004, 103.27272727274004, 105.27272727274004, 106.77272727274004, 108.77272727274004, 109.77272727274004, 110.77272727274004, 112.77272727274004], 'Nital Etche, Hydrojen Embr.': [0, 19.642045454500003, 25.522727272700006, 26.795454545700007, 28.06818181870001, 29.34090909170001, 30.61363636470001, 31.88636363770001, 33.15909091070001, 34.43181818370001]}\n",
            "new finish {'662': [0.4545454545, 2.7954545454600006, 3.2954545454600006, 4.590909090920001, 4.818181818220001, 5.045454545520001, 5.545454545520001, 6.045454545520001, 9.375000000000002, 10.125000000000002, 10.625000000000002, 11.625000000000002, 17.505681818200003, 18.505681818200003, 18.732954545500004, 19.187500000000004, 19.642045454500003, 20.642045454500003, 20.869318181800004, 25.522727272700006], 'D11': [5.625, 9.375, 15.0, 18.75, 22.5, 30.0, 37.5, 45.0, 52.5, 58.125, 65.625, 71.25, 75.0, 78.75, 86.25, 90.0, 93.75, 97.5, 101.25, 105.0], 'D12': [0.09090909091, 4.727272726799999, 6.5454545468, 6.6818181832, 37.6818181818, 37.863636363599994, 38.04545454539999, 97.59090909091, 97.72727272731001, 97.81818181822001, 98.00000000002001, 98.09090909093001, 98.18181818184001, 98.27272727275002, 98.40909090915002, 98.50000000006003, 98.59090909097003, 98.72727272737004, 98.90909090917003, 99.09090909097003, 99.18181818188003, 99.36363636368003, 99.45454545459003, 99.59090909099004, 99.77272727279004, 99.95454545459003, 100.13636363639003, 100.22727272730003, 100.36363636370004, 100.45454545461004, 100.63636363641004, 100.72727272732004, 100.90909090912004, 101.00000000003004, 101.09090909094004, 101.27272727274004, 101.45454545454004, 101.63636363634004, 101.77272727274004, 101.90909090914005], 'D13': [1.0, 1.75, 2.25, 4.4545454542, 7.636363635699999, 8.136363635699999, 9.772727271699999, 10.590909089899998, 12.227272725899999, 12.727272725899999, 13.227272725899999, 13.727272725899999, 14.545454544099998, 15.772727271099999, 16.7727272711, 17.5909090893, 18.3409090893, 19.3409090893, 20.568181816299997, 22.204545452299996], 'D15': [1.2045454545, 98.42045454552002, 99.62500000002002, 100.82954545452003, 101.43181818182003, 102.03409090912004, 102.63636363642004, 103.23863636372005, 104.14204545462005, 104.74431818192005, 105.64772727282005, 106.25000000012005, 107.45454545462006, 108.65909090912007, 109.26136363642007, 109.86363636372008, 110.46590909102008, 111.06818181832008, 111.97159090922008, 112.87500000012008, 113.77840909102008, 114.98295454552009, 116.1875000000201, 117.3920454545201, 117.9943181818201, 118.59659090912011, 119.19886363642011, 120.40340909092012, 121.30681818182012, 121.90909090912012], 'D17': [0.6022727273, 1.8068181818000002, 8.6022727273, 23.303409090899997, 24.507954545399997, 25.712499999899997, 26.314772727199998, 26.9170454545, 27.5193181818, 28.1215909091, 28.7238636364, 29.3261363637, 30.2295454546, 30.8318181819, 32.036363636400004, 32.9397727273, 34.1443181818, 34.7465909091, 35.9511363636, 36.8545454545], 'D27': [1.6, 119.5943181818201, 122.7943181818201, 124.3943181818201, 126.7943181818201, 128.3943181818201, 131.59431818182009, 134.79431818182007, 136.39431818182007, 138.79431818182007], 'D31': [0.8181818182, 2.272727272790001, 104.05681818192005, 117.0056818182201, 117.8238636364201, 118.6420454546201, 119.1875000001201, 119.73295454562009, 120.55113636382009, 121.09659090932008, 121.64204545482008, 122.46022727302008, 123.27840909122008, 123.82386363672008, 124.64204545492008, 125.46022727312008, 126.00568181862008, 126.55113636412007, 127.09659090962006, 127.64204545512005], 'D32': [0.5454545455, 2.9999999998000004, 3.5454545453000006, 3.9999999998000004, 4.454545454300001, 4.9090909088000005, 5.454545454300001, 5.999999999800001, 6.545454545300001, 6.999999999800001, 7.454545454300001, 7.9090909088000005, 8.4545454543, 8.9090909088, 9.4545454543, 9.9090909088, 10.4545454543, 10.9999999998, 11.4545454543, 11.9090909088], 'D33': [0.09090909091, 117.9147727273301, 118.0056818182401, 127.18750000053006, 127.27840909144007, 127.36931818235007, 127.46022727326007, 127.55113636417008, 127.64204545508008, 127.73295454599008, 127.82386363690009, 127.91477272781009, 128.0056818187201, 128.0965909096301, 128.1875000005401, 128.2784090914501, 128.3693181823601, 128.4602272732701, 128.5511363641801, 128.6420454550901, 128.73295454600012, 128.82386363691012, 128.91477272782012, 129.00568181873012, 129.09659090964013, 129.18750000055013, 129.27840909146013, 129.36931818237014, 129.46022727328014, 129.55113636419014], 'D41': [0.2727272727, 127.82386363687007, 129.73295454598014, 130.00568181868013, 130.27840909138013, 130.55113636408012, 130.82386363678012, 131.0965909094801, 131.3693181821801, 131.6420454548801], 'D43': [0.04545454545, 0.61363636361, 3.3636363636399995, 3.4545454545499994, 3.4999999999999996, 3.5681818181799994, 3.6590909090899992, 3.7045454545399994, 3.7499999999899996, 3.7954545454399997], 'D44': [0.04545454545, 14.590909089549998, 14.931818180449998, 14.977272725899997, 20.63636363448, 58.4659090909, 58.55681818181, 59.01136363631, 59.23863636361, 59.28409090906, 105.2272727273, 105.29545454548, 105.52272727278, 105.75000000008001, 105.97727272738001, 106.02272727283001, 106.47727272733002, 106.56818181824002, 106.65909090915002, 107.11363636365003], 'D47': [0.4545454545, 1.0, 3.4545454543000003, 9.3636363633, 12.3636363633, 12.8181818178, 13.2727272723, 13.727272726799999, 14.181818181299999, 14.636363635799999, 15.090909090299998, 15.545454544799998, 15.999999999299998, 16.454545453799998, 16.909090908299998, 17.363636362799998, 17.818181817299998, 18.272727271799997, 18.727272726299997, 19.181818180799997], 'D65': [0.4545454545, 9.4545454545, 10.4545454545, 11.4545454545, 14.4545454545, 14.909090909, 15.3636363635, 15.818181818, 16.2727272725, 16.727272727], 'D69': [1.0, 100.95454545459003, 103.27272727274004, 105.27272727274004, 106.77272727274004, 108.77272727274004, 109.77272727274004, 110.77272727274004, 112.77272727274004, 113.77272727274004], 'Nital Etche, Hydrojen Embr.': [1.272727273, 20.914772727500004, 26.795454545700007, 28.06818181870001, 29.34090909170001, 30.61363636470001, 31.88636363770001, 33.15909091070001, 34.43181818370001, 35.70454545670001]}\n",
            "latest finish time: 138.79431818182007\n",
            "\n",
            "---------\n",
            "\n",
            "5 {'662': [288, 320, 96, 154, 186, 192, 160, 218, 58, 26, 250, 32, 256, 224, 314, 122, 90, 128, 64, 282], 'D11': [139, 311, 11, 267, 87, 247, 279, 23, 299, 151, 107, 75, 171, 203, 119, 43, 235, 55, 215, 183], 'D12': [216, 141, 316, 92, 280, 77, 205, 28, 124, 88, 60, 120, 56, 173, 127, 269, 252, 188, 223, 13, 312, 220, 287, 237, 24, 319, 248, 156, 284, 95, 184, 255, 31, 191, 109, 63, 159, 45, 152, 301], 'D13': [65, 71, 1, 33, 263, 231, 161, 135, 129, 103, 199, 97, 39, 7, 257, 295, 193, 225, 289, 167], 'D15': [78, 25, 302, 52, 110, 180, 14, 57, 84, 153, 174, 308, 148, 270, 217, 20, 121, 281, 46, 142, 212, 313, 116, 244, 89, 238, 206, 185, 249, 276], 'D17': [182, 310, 22, 118, 138, 54, 42, 278, 74, 266, 10, 298, 106, 202, 170, 214, 234, 86, 246, 150], 'D27': [85, 245, 117, 277, 309, 53, 149, 181, 213, 21], 'D31': [67, 303, 47, 271, 131, 227, 291, 35, 207, 195, 163, 175, 3, 79, 111, 259, 99, 143, 239, 15], 'D32': [69, 114, 146, 261, 101, 165, 50, 37, 178, 133, 242, 229, 5, 210, 293, 18, 274, 306, 197, 82], 'D33': [144, 68, 290, 4, 2, 164, 34, 100, 98, 258, 272, 48, 292, 196, 228, 162, 36, 80, 16, 226, 176, 260, 130, 304, 132, 112, 66, 208, 194, 240], 'D41': [17, 145, 241, 209, 305, 177, 81, 113, 49, 273], 'D43': [201, 9, 265, 73, 233, 297, 41, 105, 169, 137], 'D44': [8, 200, 108, 264, 296, 40, 72, 12, 140, 136, 104, 236, 268, 204, 44, 76, 300, 172, 168, 232], 'D47': [102, 83, 115, 19, 275, 51, 179, 198, 294, 134, 211, 262, 230, 6, 147, 38, 243, 166, 307, 70], 'D65': [62, 254, 286, 158, 222, 94, 126, 190, 30, 318], 'D69': [221, 125, 61, 285, 29, 253, 317, 93, 189, 157], 'Nital Etche, Hydrojen Embr.': [283, 315, 27, 123, 59, 155, 91, 219, 251, 187]} \n",
            "\n",
            "\n",
            "new start  {'662': [0, 3.5909090909000008, 4.181818181810001, 9.6363636362, 24.090909090800004, 24.318181818100005, 24.818181818100005, 25.818181818100005, 26.045454545400005, 26.386363636300004, 26.840909090800004, 27.068181818100005, 28.068181818100005, 28.568181818100005, 29.068181818100005, 29.295454545400005, 29.749999999900005, 30.090909090800004, 31.090909090800004, 31.840909090800004], 'D11': [0, 7.5, 11.25, 18.75, 22.5, 28.125, 31.875, 35.625, 43.125, 46.875, 54.375, 61.875, 67.5, 71.25, 75.0, 82.5, 88.125, 91.875, 97.5, 101.25], 'D12': [0, 1.7272727271200001, 2.545454546, 8.909090911, 35.625, 35.71590909091, 35.85227272731, 35.943181818220005, 36.12500000002, 36.30681818182, 36.44318181822, 82.5, 97.5, 97.6363636364, 97.72727272731001, 97.90909090911, 98.00000000002001, 98.18181818182, 98.36363636362, 98.45454545453, 98.63636363633, 98.72727272724, 98.90909090904, 98.99999999995, 99.09090909086001, 99.27272727266, 99.36363636357001, 99.45454545448001, 99.63636363628001, 99.81818181808, 105.0, 105.09090909091, 105.18181818182, 105.36363636362, 105.45454545453, 105.63636363633, 105.77272727273001, 105.95454545453, 106.09090909093001, 106.27272727273001], 'D13': [0, 9.090909089999998, 10.318181817, 11.318181817, 12.068181817, 12.886363635199999, 13.704545453399998, 14.204545453399998, 15.840909089399998, 16.8409090894, 18.4772727254, 19.2954545436, 20.2954545436, 21.522727270599997, 23.159090906599996, 23.659090906599996, 24.477272724799995, 24.977272724799995, 25.477272724799995, 25.977272724799995], 'D15': [0, 99.27272727266, 106.36363636364001, 106.96590909094002, 107.86931818184001, 109.07386363634002, 109.67613636364003, 110.88068181814003, 111.78409090904003, 112.68749999994003, 113.89204545444004, 114.49431818174004, 115.09659090904005, 116.30113636354005, 116.90340909084006, 117.50568181814006, 118.71022727264007, 119.91477272714008, 120.51704545444008, 121.42045454534008, 122.62499999984009, 123.22727272714009, 123.8295454544401, 125.0340909089401, 125.6363636362401, 126.5397727271401, 127.14204545444011, 127.74431818174011, 128.34659090904012, 128.94886363634012], 'D17': [0, 10.4, 22.400000000000002, 23.604545454500002, 24.809090909000002, 26.0136363635, 26.9170454544, 27.8204545453, 28.4227272726, 29.326136363499998, 29.9284090908, 31.1329545453, 31.7352272726, 32.9397727271, 33.5420454544, 34.144318181699994, 34.74659090899999, 35.34886363629999, 36.25227272719999, 36.854545454499984], 'D27': [0, 125.6363636362401, 127.2363636362401, 130.4363636362401, 132.03636363624008, 133.63636363624008, 136.03636363624008, 139.23636363624007, 140.83636363624007, 142.43636363624006], 'D31': [0, 106.96590909094002, 121.42045454534008, 122.23863636354008, 123.05681818174008, 123.60227272724008, 124.14772727274007, 124.69318181824006, 127.74431818174011, 128.56249999994012, 129.10795454544012, 129.65340909094013, 130.47159090914013, 131.01704545464014, 131.83522727284014, 132.65340909104015, 133.19886363654015, 133.74431818204016, 134.56250000024016, 135.38068181844017], 'D32': [0, 2.1818181816, 2.7272727271000003, 3.2727272726000005, 3.7272727271000003, 4.181818181600001, 4.6363636361000005, 5.181818181600001, 5.6363636361000005, 6.181818181600001, 6.6363636361000005, 7.181818181600001, 7.6363636361000005, 8.0909090906, 8.6363636361, 9.0909090906, 9.6363636361, 10.1818181816, 10.7272727271, 11.1818181816], 'D33': [0, 0.5454545455, 25.977272724799995, 131.01704545464014, 131.10795454555014, 131.19886363646015, 131.28977272737015, 133.74431818204016, 133.83522727295016, 133.92613636386017, 134.01704545477017, 134.10795454568017, 134.19886363659018, 134.28977272750018, 134.38068181841018, 134.47159090932018, 134.5625000002302, 134.6534090911402, 136.19886363664017, 136.28977272755017, 136.38068181846018, 136.47159090937018, 136.56250000028018, 136.65340909119018, 136.7443181821002, 136.8352272730102, 136.9261363639202, 137.0170454548302, 137.1079545457402, 137.1988636366502], 'D41': [0, 0.2727272727, 137.2897727275602, 137.5625000002602, 137.8352272729602, 138.1079545456602, 138.3806818183602, 138.65340909106018, 138.92613636376018, 139.19886363646017], 'D43': [0, 0.09090909091, 0.63636363631, 0.8181818181200001, 3.8181818181400002, 3.8636363635900004, 3.9090909090400006, 3.9772727272200004, 4.06818181813, 4.11363636358], 'D44': [0, 19.2954545436, 61.875, 62.3295454545, 62.37499999995, 62.4204545454, 62.48863636358, 62.55681818176, 63.01136363626, 63.46590909076, 63.55681818167, 91.875, 92.1022727273, 92.32954545460001, 92.55681818190001, 92.89772727280001, 93.23863636370001, 93.46590909100001, 93.69318181830002, 93.73863636375002], 'D47': [0, 11.7272727271, 12.1818181816, 12.6363636361, 13.0909090906, 13.5454545451, 13.9999999996, 14.4545454541, 14.9090909086, 15.3636363631, 15.8181818176, 16.2727272721, 16.7272727266, 17.1818181811, 17.6363636356, 18.0909090901, 18.5454545446, 18.999999999099998, 19.454545453599998, 19.909090908099998], 'D65': [0, 8.5, 8.9545454545, 14.0, 14.4545454545, 14.909090909, 15.3636363635, 15.818181818, 16.2727272725, 16.727272727], 'D69': [0, 36.30681818182, 38.30681818182, 99.81818181808, 100.81818181808, 102.81818181808, 103.81818181808, 104.81818181808, 106.31818181808, 107.31818181808], 'Nital Etche, Hydrojen Embr.': [0, 29.295454545400005, 30.568181818400006, 31.840909091400007, 33.11363636440001, 34.38636363740001, 35.65909091040001, 36.93181818340001, 38.20454545640001, 39.47727272940001]}\n",
            "new finish {'662': [0.5, 4.0909090909, 4.931818181810001, 10.0909090907, 24.318181818100005, 24.818181818100005, 25.818181818100005, 26.045454545400005, 26.386363636300004, 26.840909090800004, 27.068181818100005, 28.068181818100005, 28.568181818100005, 29.068181818100005, 29.295454545400005, 29.749999999900005, 30.090909090800004, 31.090909090800004, 31.840909090800004, 32.0681818181], 'D11': [7.5, 11.25, 18.75, 22.5, 28.125, 31.875, 35.625, 43.125, 46.875, 54.375, 61.875, 67.5, 71.25, 75.0, 82.5, 88.125, 91.875, 97.5, 101.25, 105.0], 'D12': [0.09090909091, 1.90909090892, 2.7272727278000004, 9.0454545474, 35.71590909091, 35.85227272731, 35.943181818220005, 36.12500000002, 36.30681818182, 36.44318181822, 36.579545454619996, 82.6818181818, 97.6363636364, 97.72727272731001, 97.90909090911, 98.00000000002001, 98.18181818182, 98.36363636362, 98.45454545453, 98.63636363633, 98.72727272724, 98.90909090904, 98.99999999995, 99.09090909086001, 99.27272727266, 99.36363636357001, 99.45454545448001, 99.63636363628001, 99.81818181808, 99.95454545448001, 105.09090909091, 105.18181818182, 105.36363636362, 105.45454545453, 105.63636363633, 105.77272727273001, 105.95454545453, 106.09090909093001, 106.27272727273001, 106.36363636364001], 'D13': [0.75, 10.318181817, 11.318181817, 12.068181817, 12.886363635199999, 13.704545453399998, 14.204545453399998, 15.840909089399998, 16.8409090894, 18.4772727254, 19.2954545436, 20.2954545436, 21.522727270599997, 23.159090906599996, 23.659090906599996, 24.477272724799995, 24.977272724799995, 25.477272724799995, 25.977272724799995, 26.795454542999995], 'D15': [0.9034090909, 100.47727272716001, 106.96590909094002, 107.86931818184001, 109.07386363634002, 109.67613636364003, 110.88068181814003, 111.78409090904003, 112.68749999994003, 113.89204545444004, 114.49431818174004, 115.09659090904005, 116.30113636354005, 116.90340909084006, 117.50568181814006, 118.71022727264007, 119.91477272714008, 120.51704545444008, 121.42045454534008, 122.62499999984009, 123.22727272714009, 123.8295454544401, 125.0340909089401, 125.6363636362401, 126.5397727271401, 127.14204545444011, 127.74431818174011, 128.34659090904012, 128.94886363634012, 129.55113636364013], 'D17': [0.6022727273, 11.002272727300001, 23.604545454500002, 24.809090909000002, 26.0136363635, 26.9170454544, 27.8204545453, 28.4227272726, 29.326136363499998, 29.9284090908, 31.1329545453, 31.7352272726, 32.9397727271, 33.5420454544, 34.144318181699994, 34.74659090899999, 35.34886363629999, 36.25227272719999, 36.854545454499984, 38.059090908999984], 'D27': [2.4, 127.2363636362401, 130.4363636362401, 132.03636363624008, 133.63636363624008, 136.03636363624008, 139.23636363624007, 140.83636363624007, 142.43636363624006, 145.63636363624005], 'D31': [0.5454545455, 107.78409090914002, 122.23863636354008, 123.05681818174008, 123.60227272724008, 124.14772727274007, 124.69318181824006, 125.23863636374006, 128.56249999994012, 129.10795454544012, 129.65340909094013, 130.47159090914013, 131.01704545464014, 131.83522727284014, 132.65340909104015, 133.19886363654015, 133.74431818204016, 134.56250000024016, 135.38068181844017, 136.19886363664017], 'D32': [0.4545454545, 2.7272727271000003, 3.2727272726000005, 3.7272727271000003, 4.181818181600001, 4.6363636361000005, 5.181818181600001, 5.6363636361000005, 6.181818181600001, 6.6363636361000005, 7.181818181600001, 7.6363636361000005, 8.0909090906, 8.6363636361, 9.0909090906, 9.6363636361, 10.1818181816, 10.7272727271, 11.1818181816, 11.7272727271], 'D33': [0.09090909091, 0.63636363641, 26.068181815709995, 131.10795454555014, 131.19886363646015, 131.28977272737015, 131.38068181828015, 133.83522727295016, 133.92613636386017, 134.01704545477017, 134.10795454568017, 134.19886363659018, 134.28977272750018, 134.38068181841018, 134.47159090932018, 134.5625000002302, 134.6534090911402, 134.7443181820502, 136.28977272755017, 136.38068181846018, 136.47159090937018, 136.56250000028018, 136.65340909119018, 136.7443181821002, 136.8352272730102, 136.9261363639202, 137.0170454548302, 137.1079545457402, 137.1988636366502, 137.2897727275602], 'D41': [0.2727272727, 0.5454545454, 137.5625000002602, 137.8352272729602, 138.1079545456602, 138.3806818183602, 138.65340909106018, 138.92613636376018, 139.19886363646017, 139.47159090916017], 'D43': [0.04545454545, 0.18181818182, 0.6818181817600001, 0.8863636363000001, 3.8636363635900004, 3.9090909090400006, 3.9772727272200004, 4.06818181813, 4.11363636358, 4.204545454490001], 'D44': [0.09090909091, 19.340909089049998, 62.3295454545, 62.37499999995, 62.4204545454, 62.48863636358, 62.55681818176, 63.01136363626, 63.46590909076, 63.55681818167, 63.647727272580006, 92.1022727273, 92.32954545460001, 92.55681818190001, 92.89772727280001, 93.23863636370001, 93.46590909100001, 93.69318181830002, 93.73863636375002, 93.78409090920002], 'D47': [0.4545454545, 12.1818181816, 12.6363636361, 13.0909090906, 13.5454545451, 13.9999999996, 14.4545454541, 14.9090909086, 15.3636363631, 15.8181818176, 16.2727272721, 16.7272727266, 17.1818181811, 17.6363636356, 18.0909090901, 18.5454545446, 18.999999999099998, 19.454545453599998, 19.909090908099998, 20.363636362599998], 'D65': [0.4545454545, 8.9545454545, 9.409090909, 14.4545454545, 14.909090909, 15.3636363635, 15.818181818, 16.2727272725, 16.727272727, 17.1818181815], 'D69': [1.0, 38.30681818182, 39.80681818182, 100.81818181808, 102.81818181808, 103.81818181808, 104.81818181808, 106.31818181808, 107.31818181808, 109.31818181808], 'Nital Etche, Hydrojen Embr.': [1.272727273, 30.568181818400006, 31.840909091400007, 33.11363636440001, 34.38636363740001, 35.65909091040001, 36.93181818340001, 38.20454545640001, 39.47727272940001, 40.750000002400014]}\n",
            "latest finish time: 145.63636363624005\n",
            "\n",
            "---------\n",
            "\n",
            "6 {'662': [320, 186, 58, 218, 154, 128, 122, 32, 64, 314, 96, 288, 160, 250, 256, 192, 26, 282, 224, 90], 'D11': [151, 87, 279, 267, 203, 23, 299, 235, 119, 183, 171, 107, 311, 11, 215, 55, 43, 75, 139, 247], 'D12': [301, 141, 31, 237, 173, 124, 152, 319, 95, 216, 120, 252, 60, 184, 13, 92, 220, 159, 56, 280, 63, 223, 109, 255, 45, 88, 269, 127, 287, 77, 248, 312, 316, 284, 24, 191, 205, 28, 156, 188], 'D13': [7, 103, 231, 225, 129, 65, 167, 161, 193, 135, 33, 97, 289, 199, 263, 295, 71, 257, 39, 1], 'D15': [121, 308, 89, 249, 185, 25, 148, 46, 206, 276, 180, 270, 212, 116, 313, 110, 238, 217, 174, 57, 302, 78, 142, 14, 52, 281, 84, 153, 244, 20], 'D17': [86, 170, 42, 118, 234, 22, 54, 182, 278, 246, 298, 10, 106, 202, 310, 266, 150, 138, 214, 74], 'D27': [213, 53, 149, 117, 181, 245, 309, 21, 85, 277], 'D31': [239, 111, 143, 15, 195, 3, 163, 79, 47, 67, 259, 175, 207, 99, 35, 303, 291, 227, 271, 131], 'D32': [69, 274, 37, 306, 50, 18, 210, 293, 261, 82, 178, 197, 146, 165, 5, 229, 133, 101, 114, 242], 'D33': [2, 272, 240, 258, 162, 304, 196, 48, 34, 226, 66, 260, 68, 16, 290, 132, 228, 98, 292, 80, 36, 4, 176, 144, 208, 112, 194, 130, 164, 100], 'D41': [273, 177, 145, 17, 49, 113, 305, 241, 209, 81], 'D43': [201, 9, 137, 73, 233, 105, 41, 169, 265, 297], 'D44': [264, 200, 72, 140, 204, 44, 104, 232, 76, 268, 172, 8, 40, 296, 236, 300, 108, 12, 136, 168], 'D47': [147, 83, 275, 51, 134, 198, 6, 19, 243, 179, 38, 230, 294, 307, 115, 70, 102, 211, 262, 166], 'D65': [158, 318, 62, 222, 30, 126, 254, 94, 286, 190], 'D69': [29, 61, 189, 157, 317, 125, 221, 253, 93, 285], 'Nital Etche, Hydrojen Embr.': [219, 187, 315, 91, 59, 123, 251, 27, 155, 283]} \n",
            "\n",
            "\n",
            "new start  {'662': [0, 3.9147727273, 15.960227272800006, 16.301136363700007, 23.4886363636, 23.9431818181, 24.9431818181, 25.3977272726, 26.3977272726, 27.1477272726, 27.3749999999, 28.1249999999, 28.6249999999, 29.6249999999, 29.852272727200003, 30.352272727200003, 30.852272727200003, 31.306818181700002, 31.534090909000003, 32.034090909], 'D11': [0, 7.5, 13.125, 16.875, 20.625, 24.375, 31.875, 35.625, 39.375, 46.875, 50.625, 54.375, 61.875, 65.625, 73.125, 76.875, 82.5, 88.125, 93.75, 101.25], 'D12': [0, 0.61363636358, 2.2727272725, 2.5454545454799997, 2.6363636363899996, 7.636363638000001, 7.8181818198, 8.0000000016, 8.09090909251, 76.875, 76.96590909091, 77.14772727271, 77.32954545451, 77.46590909091, 77.55681818182, 77.73863636362, 77.87500000002001, 78.05681818182, 82.5, 82.6363636364, 82.72727272731001, 82.86363636371001, 82.95454545462002, 83.13636363642001, 83.22727272733002, 83.36363636373002, 83.50000000013003, 83.59090909104003, 83.77272727284003, 83.86363636375003, 105.0, 105.09090909091, 105.18181818182, 105.36363636362, 105.54545454542, 105.72727272722, 105.81818181813, 105.90909090904, 106.09090909084, 106.27272727264], 'D13': [0, 7.727272726499998, 9.363636362499998, 10.181818180699997, 10.681818180699997, 11.681818180699997, 12.431818180699997, 13.249999998899996, 13.749999998899996, 14.249999998899996, 15.886363634899997, 28.1249999999, 29.1249999999, 29.6249999999, 30.4431818181, 31.2613636363, 32.0795454545, 33.3068181815, 33.8068181815, 35.0340909085], 'D15': [0, 6.363636362999999, 83.50000000013003, 105.09090909091, 105.69318181821001, 106.29545454551001, 107.50000000001002, 108.70454545451003, 109.60795454541002, 110.21022727271003, 110.81250000001003, 111.41477272731004, 112.01704545461004, 112.61931818191005, 113.82386363641005, 114.42613636371006, 115.63068181821006, 116.23295454551007, 116.83522727281007, 117.43750000011008, 118.34090909101008, 118.94318181831008, 119.84659090921008, 121.05113636371009, 122.25568181821009, 123.15909090911009, 123.7613636364101, 124.6647727273101, 125.8693181818101, 126.4715909091101], 'D17': [0, 0.9034090909, 1.5056818182, 10.4, 11.6045454545, 18.4, 19.6045454545, 20.507954545399997, 22.4, 23.0022727273, 23.6045454546, 24.2068181819, 25.4113636364, 26.6159090909, 27.2181818182, 27.820454545500002, 28.422727272800003, 29.627272727300003, 30.831818181800003, 31.434090909100004], 'D27': [0, 123.15909090911009, 125.5590909091101, 128.75909090911009, 131.95909090911007, 133.55909090911007, 135.15909090911006, 136.75909090911006, 139.95909090911005, 142.35909090911005], 'D31': [0, 115.63068181821006, 121.05113636371009, 122.25568181821009, 123.0738636364101, 123.61931818191009, 124.16477272741008, 124.71022727291007, 125.52840909111008, 126.34659090931008, 126.89204545481007, 127.43750000031007, 128.25568181851006, 129.07386363671006, 129.61931818221007, 130.16477272771007, 130.98295454591008, 131.52840909141008, 132.0738636369101, 132.8920454551101], 'D32': [0, 0.4545454545, 1.909090909110001, 2.363636363610001, 2.909090909110001, 3.454545454610001, 4.000000000110001, 4.545454545610001, 5.000000000110001, 5.454545454610001, 6.000000000110001, 6.545454545610001, 7.000000000110001, 7.545454545610001, 8.000000000110001, 8.45454545461, 8.90909090911, 9.36363636361, 9.81818181811, 10.36363636361], 'D33': [0, 132.8920454551101, 132.9829545460201, 133.0738636369301, 133.1647727278401, 133.2556818187501, 133.3465909096601, 133.4375000005701, 133.5284090914801, 133.61931818239012, 133.71022727330012, 133.80113636421012, 133.89204545512013, 133.98295454603013, 134.07386363694013, 134.16477272785013, 134.25568181876014, 134.34659090967014, 134.43750000058014, 134.52840909149015, 134.61931818240015, 134.71022727331015, 134.80113636422016, 134.89204545513016, 134.98295454604016, 135.07386363695016, 135.16477272786017, 135.25568181877017, 135.34659090968017, 135.43750000059018], 'D41': [0, 134.89204545513016, 135.16477272783015, 135.43750000053015, 135.71022727323015, 135.98295454593014, 136.25568181863014, 136.52840909133013, 136.80113636403013, 137.07386363673012], 'D43': [0, 2.20454545455, 3.772727272689999, 3.863636363599999, 3.931818181779999, 3.977272727229999, 4.068181818139999, 4.13636363632, 4.18181818177, 4.22727272722], 'D44': [0, 30.4431818181, 33.3068181815, 101.25, 101.7045454545, 101.93181818180001, 102.27272727270001, 102.36363636361001, 102.40909090906001, 102.74999999996001, 102.97727272726002, 103.20454545456002, 103.29545454547002, 103.36363636365002, 103.40909090910002, 103.63636363640002, 103.86363636370002, 104.31818181820003, 104.77272727270004, 104.86363636361004], 'D47': [0, 6.000000000110001, 6.454545454610001, 6.909090909110001, 9.36363636361, 9.81818181811, 10.27272727261, 10.72727272711, 11.18181818161, 11.63636363611, 12.09090909061, 12.54545454511, 12.999999999609999, 13.454545454109999, 13.909090908609999, 14.363636363109999, 14.818181817609998, 15.272727272109998, 15.727272726609998, 16.18181818111], 'D65': [0, 7.5, 7.9545454545, 10.5, 10.9545454545, 11.409090909, 11.8636363635, 13.0, 14.0, 14.4545454545], 'D69': [0, 77.46590909091, 106.45454545444, 107.45454545444, 109.45454545444, 110.45454545444, 112.45454545444, 113.45454545444, 114.45454545444, 115.95454545444], 'Nital Etche, Hydrojen Embr.': [0, 4.1420454546, 27.3749999999, 32.3749999999, 33.6477272729, 34.9204545459, 36.1931818189, 37.4659090919, 38.7386363649, 40.011363637900004]}\n",
            "new finish {'662': [0.5, 4.1420454546, 16.301136363700007, 16.528409091000007, 23.9431818181, 24.9431818181, 25.3977272726, 26.3977272726, 27.1477272726, 27.3749999999, 28.1249999999, 28.6249999999, 29.6249999999, 29.852272727200003, 30.352272727200003, 30.852272727200003, 31.306818181700002, 31.534090909000003, 32.034090909, 32.3749999999], 'D11': [7.5, 13.125, 16.875, 20.625, 24.375, 31.875, 35.625, 39.375, 46.875, 50.625, 54.375, 61.875, 65.625, 73.125, 76.875, 82.5, 88.125, 93.75, 101.25, 105.0], 'D12': [0.09090909091, 0.7954545453799999, 2.4545454543000003, 2.6363636363899996, 2.7272727272999995, 7.8181818198, 8.0000000016, 8.09090909251, 8.22727272891, 76.96590909091, 77.14772727271, 77.32954545451, 77.46590909091, 77.55681818182, 77.73863636362, 77.87500000002001, 78.05681818182, 78.23863636362, 82.6363636364, 82.72727272731001, 82.86363636371001, 82.95454545462002, 83.13636363642001, 83.22727272733002, 83.36363636373002, 83.50000000013003, 83.59090909104003, 83.77272727284003, 83.86363636375003, 84.00000000015004, 105.09090909091, 105.18181818182, 105.36363636362, 105.54545454542, 105.72727272722, 105.81818181813, 105.90909090904, 106.09090909084, 106.27272727264, 106.45454545444], 'D13': [1.636363636, 9.363636362499998, 10.181818180699997, 10.681818180699997, 11.681818180699997, 12.431818180699997, 13.249999998899996, 13.749999998899996, 14.249999998899996, 15.886363634899997, 16.636363634899997, 29.1249999999, 29.6249999999, 30.4431818181, 31.2613636363, 32.0795454545, 33.3068181815, 33.8068181815, 35.0340909085, 36.0340909085], 'D15': [1.2045454545, 6.9659090902999985, 84.40340909103003, 105.69318181821001, 106.29545454551001, 107.50000000001002, 108.70454545451003, 109.60795454541002, 110.21022727271003, 110.81250000001003, 111.41477272731004, 112.01704545461004, 112.61931818191005, 113.82386363641005, 114.42613636371006, 115.63068181821006, 116.23295454551007, 116.83522727281007, 117.43750000011008, 118.34090909101008, 118.94318181831008, 119.84659090921008, 121.05113636371009, 122.25568181821009, 123.15909090911009, 123.7613636364101, 124.6647727273101, 125.8693181818101, 126.4715909091101, 127.67613636361011], 'D17': [0.9034090909, 1.5056818182, 2.4090909091, 11.6045454545, 12.206818181800001, 19.6045454545, 20.507954545399997, 21.110227272699998, 23.0022727273, 23.6045454546, 24.2068181819, 25.4113636364, 26.6159090909, 27.2181818182, 27.820454545500002, 28.422727272800003, 29.627272727300003, 30.831818181800003, 31.434090909100004, 32.337500000000006], 'D27': [1.6, 125.5590909091101, 128.75909090911009, 131.95909090911007, 133.55909090911007, 135.15909090911006, 136.75909090911006, 139.95909090911005, 142.35909090911005, 143.95909090911005], 'D31': [0.8181818182, 116.44886363641007, 121.86931818191009, 123.0738636364101, 123.61931818191009, 124.16477272741008, 124.71022727291007, 125.52840909111008, 126.34659090931008, 126.89204545481007, 127.43750000031007, 128.25568181851006, 129.07386363671006, 129.61931818221007, 130.16477272771007, 130.98295454591008, 131.52840909141008, 132.0738636369101, 132.8920454551101, 133.4375000006101], 'D32': [0.4545454545, 1.0, 2.363636363610001, 2.909090909110001, 3.454545454610001, 4.000000000110001, 4.545454545610001, 5.000000000110001, 5.454545454610001, 6.000000000110001, 6.545454545610001, 7.000000000110001, 7.545454545610001, 8.000000000110001, 8.45454545461, 8.90909090911, 9.36363636361, 9.81818181811, 10.36363636361, 10.90909090911], 'D33': [0.09090909091, 132.9829545460201, 133.0738636369301, 133.1647727278401, 133.2556818187501, 133.3465909096601, 133.4375000005701, 133.5284090914801, 133.61931818239012, 133.71022727330012, 133.80113636421012, 133.89204545512013, 133.98295454603013, 134.07386363694013, 134.16477272785013, 134.25568181876014, 134.34659090967014, 134.43750000058014, 134.52840909149015, 134.61931818240015, 134.71022727331015, 134.80113636422016, 134.89204545513016, 134.98295454604016, 135.07386363695016, 135.16477272786017, 135.25568181877017, 135.34659090968017, 135.43750000059018, 135.52840909150018], 'D41': [0.2727272727, 135.16477272783015, 135.43750000053015, 135.71022727323015, 135.98295454593014, 136.25568181863014, 136.52840909133013, 136.80113636403013, 137.07386363673012, 137.34659090943012], 'D43': [0.04545454545, 2.2954545454599997, 3.863636363599999, 3.931818181779999, 3.977272727229999, 4.068181818139999, 4.13636363632, 4.18181818177, 4.22727272722, 4.27272727267], 'D44': [0.04545454545, 30.48863636355, 33.37499999968, 101.7045454545, 101.93181818180001, 102.27272727270001, 102.36363636361001, 102.40909090906001, 102.74999999996001, 102.97727272726002, 103.20454545456002, 103.29545454547002, 103.36363636365002, 103.40909090910002, 103.63636363640002, 103.86363636370002, 104.31818181820003, 104.77272727270004, 104.86363636361004, 104.90909090906004], 'D47': [0.4545454545, 6.454545454610001, 6.909090909110001, 7.36363636361, 9.81818181811, 10.27272727261, 10.72727272711, 11.18181818161, 11.63636363611, 12.09090909061, 12.54545454511, 12.999999999609999, 13.454545454109999, 13.909090908609999, 14.363636363109999, 14.818181817609998, 15.272727272109998, 15.727272726609998, 16.18181818111, 16.63636363561], 'D65': [0.4545454545, 7.9545454545, 8.409090909, 10.9545454545, 11.409090909, 11.8636363635, 12.318181818, 13.4545454545, 14.4545454545, 14.909090909], 'D69': [2.0, 78.96590909091, 107.45454545444, 109.45454545444, 110.45454545444, 112.45454545444, 113.45454545444, 114.45454545444, 115.95454545444, 116.95454545444], 'Nital Etche, Hydrojen Embr.': [1.272727273, 5.4147727276, 28.647727272900003, 33.6477272729, 34.9204545459, 36.1931818189, 37.4659090919, 38.7386363649, 40.011363637900004, 41.284090910900005]}\n",
            "latest finish time: 143.95909090911005\n",
            "\n",
            "---------\n",
            "\n",
            "7 {'662': [122, 154, 314, 192, 288, 224, 320, 282, 58, 218, 26, 96, 128, 90, 64, 256, 186, 250, 32, 160], 'D11': [23, 183, 267, 11, 247, 151, 311, 75, 119, 43, 203, 279, 171, 107, 299, 87, 215, 139, 55, 235], 'D12': [77, 92, 24, 280, 223, 109, 316, 220, 120, 45, 88, 28, 205, 191, 188, 252, 156, 63, 173, 319, 312, 301, 141, 152, 127, 287, 159, 248, 124, 31, 60, 56, 13, 184, 95, 269, 255, 237, 216, 284], 'D13': [129, 257, 103, 7, 33, 71, 167, 289, 231, 225, 39, 65, 97, 193, 295, 199, 263, 135, 161, 1], 'D15': [116, 110, 244, 14, 20, 308, 238, 89, 25, 206, 84, 52, 153, 270, 142, 78, 212, 302, 46, 281, 249, 121, 180, 174, 217, 276, 185, 57, 313, 148], 'D17': [138, 86, 234, 266, 150, 202, 10, 182, 214, 170, 22, 74, 298, 278, 106, 118, 310, 42, 246, 54], 'D27': [21, 117, 149, 85, 213, 245, 181, 277, 309, 53], 'D31': [163, 303, 195, 175, 79, 99, 15, 3, 67, 143, 131, 207, 227, 35, 271, 259, 47, 291, 111, 239], 'D32': [274, 114, 50, 37, 5, 146, 293, 229, 18, 197, 210, 165, 82, 261, 242, 178, 69, 101, 306, 133], 'D33': [304, 162, 164, 260, 272, 194, 240, 112, 226, 228, 48, 258, 292, 34, 176, 208, 66, 196, 16, 4, 80, 68, 144, 2, 130, 36, 100, 132, 98, 290], 'D41': [305, 17, 209, 113, 177, 81, 49, 273, 145, 241], 'D43': [73, 9, 41, 265, 137, 233, 297, 169, 201, 105], 'D44': [140, 72, 236, 296, 168, 268, 104, 204, 136, 264, 40, 232, 44, 200, 12, 108, 76, 172, 300, 8], 'D47': [83, 179, 102, 243, 134, 230, 294, 166, 51, 70, 147, 6, 211, 198, 38, 115, 262, 19, 275, 307], 'D65': [94, 286, 190, 254, 62, 318, 126, 30, 158, 222], 'D69': [221, 125, 157, 29, 253, 189, 93, 285, 61, 317], 'Nital Etche, Hydrojen Embr.': [219, 251, 187, 315, 123, 59, 27, 283, 155, 91]} \n",
            "\n",
            "\n",
            "new start  {'662': [0, 12.346590908900001, 24.090909090900006, 24.318181818200006, 24.818181818200006, 25.318181818200006, 25.818181818200006, 26.318181818200006, 26.545454545500007, 26.886363636400006, 27.113636363700007, 27.568181818200006, 28.318181818200006, 29.318181818200006, 29.659090909100005, 30.409090909100005, 30.909090909100005, 31.136363636400006, 31.363636363700007, 32.36363636370001], 'D11': [0, 7.5, 11.25, 15.0, 22.5, 26.25, 33.75, 37.5, 43.125, 50.625, 56.25, 60.0, 63.75, 67.5, 75.0, 78.75, 84.375, 88.125, 95.625, 101.25], 'D12': [0, 12.727272730000003, 12.863636366400003, 63.75, 63.84090909091, 63.931818181820006, 64.11363636362, 64.29545454542, 64.47727272722, 64.65909090902, 84.375, 84.5113636364, 84.6931818182, 84.78409090911, 84.87500000002001, 85.05681818182, 85.23863636362, 85.42045454542, 85.55681818182, 85.64772727273001, 85.73863636364001, 85.82954545455001, 85.92045454546002, 86.10227272726002, 86.28409090906001, 86.46590909086001, 86.55681818177001, 86.73863636357001, 86.82954545448001, 87.01136363628001, 87.19318181808, 101.25, 101.3863636364, 101.5681818182, 101.65909090911, 101.79545454551001, 101.88636363642001, 101.97727272733002, 102.06818181824002, 102.15909090915002], 'D13': [0, 1.0, 1.5, 5.454545453999999, 7.0909090899999985, 7.8409090899999985, 9.068181817, 9.886363635199999, 10.386363635199999, 11.204545453399998, 11.704545453399998, 12.931818180399997, 28.318181818200006, 29.318181818200006, 29.818181818200006, 30.636363636400006, 31.454545454600005, 32.272727272800005, 33.9090909088, 34.4090909088], 'D15': [0, 64.11363636362, 65.31818181812001, 101.5681818182, 102.77272727270001, 103.97727272720002, 104.57954545450002, 105.18181818180003, 106.08522727270002, 107.28977272720003, 107.89204545450004, 108.79545454540003, 109.69886363630003, 110.90340909080004, 111.50568181810004, 112.71022727260005, 113.61363636350005, 114.21590909080005, 114.81818181810006, 115.72159090900006, 116.32386363630006, 116.92613636360007, 118.13068181810007, 118.73295454540008, 119.33522727270008, 119.93750000000009, 120.53977272730009, 121.1420454546001, 122.04545454550009, 122.6477272728001], 'D17': [0, 12.000000000000002, 12.903409090900002, 13.505681818200003, 14.107954545500004, 15.312500000000004, 15.914772727300004, 17.119318181800004, 17.721590909100005, 18.323863636400006, 18.926136363700007, 20.130681818200006, 21.034090909100005, 21.636363636400006, 22.238636363700007, 23.443181818200006, 24.647727272700006, 25.250000000000007, 26.153409090900006, 26.755681818200006], 'D27': [0, 3.2, 123.8522727273001, 127.0522727273001, 129.4522727273001, 131.0522727273001, 132.6522727273001, 134.2522727273001, 135.8522727273001, 137.45227272730008], 'D31': [0, 114.81818181810006, 115.63636363630006, 119.33522727270008, 120.15340909090008, 120.97159090910009, 121.51704545460008, 122.33522727280008, 122.88068181830008, 123.42613636380007, 124.24431818200007, 124.78977272750006, 125.60795454570007, 126.15340909120006, 126.69886363670005, 127.51704545490006, 128.06250000040006, 128.88068181860007, 129.42613636410007, 130.24431818230008], 'D32': [0, 1.0909090908, 1.9090909089000003, 2.4545454544000003, 2.9090909089, 3.3636363634, 3.9090909089, 4.3636363634, 4.8181818179, 5.3636363634, 5.8181818179, 6.3636363634, 6.8181818179, 7.3636363634, 7.8181818179, 8.3636363634, 8.9090909089, 9.3636363634, 9.8181818179, 10.3636363634], 'D33': [0, 34.4090909088, 34.499999999710006, 128.06250000040006, 128.15340909131007, 128.24431818222007, 131.06250000050008, 131.15340909141008, 131.2443181823201, 131.3352272732301, 131.4261363641401, 131.5170454550501, 131.6079545459601, 131.6988636368701, 131.7897727277801, 131.8806818186901, 131.9715909096001, 132.0625000005101, 132.15340909142012, 132.24431818233012, 132.33522727324012, 132.42613636415012, 132.51704545506013, 132.60795454597013, 132.69886363688013, 132.78977272779014, 132.88068181870014, 132.97159090961014, 133.06250000052015, 133.15340909143015], 'D41': [0, 132.24431818233012, 132.51704545503011, 132.7897727277301, 133.0625000004301, 133.3352272731301, 133.6079545458301, 133.8806818185301, 134.1534090912301, 134.42613636393008], 'D43': [0, 3.8181818181399994, 3.9090909090499992, 3.977272727229999, 4.022727272679999, 4.1136363635899995, 4.15909090904, 4.20454545449, 4.24999999994, 4.29545454539], 'D44': [0, 9.068181817, 105.0, 105.2272727273, 105.27272727275, 105.3181818182, 105.54545454550001, 105.63636363641001, 105.86363636371001, 105.95454545462002, 106.00000000007002, 106.06818181825001, 106.11363636370001, 106.45454545460001, 106.50000000005001, 106.95454545455001, 107.40909090905002, 107.74999999995002, 107.97727272725002, 108.20454545455003], 'D47': [0, 8.9090909089, 9.8181818179, 10.2727272724, 10.8181818179, 11.2727272724, 11.727272726899999, 12.181818181399999, 12.636363635899999, 13.090909090399999, 13.545454544899998, 13.999999999399998, 14.454545453899998, 14.909090908399998, 15.363636362899998, 15.818181817399998, 16.2727272719, 16.7272727264, 17.1818181809, 17.6363636354], 'D65': [0, 11.5, 11.9545454545, 12.409090909, 13.0, 14.0, 14.4545454545, 14.909090909, 15.3636363635, 15.818181818], 'D69': [0, 87.01136363628001, 89.01136363628001, 91.01136363628001, 93.01136363628001, 94.01136363628001, 95.01136363628001, 102.34090909095002, 103.34090909095002, 104.84090909095002], 'Nital Etche, Hydrojen Embr.': [0, 31.363636363700007, 32.636363636700004, 33.909090909700005, 35.181818182700006, 36.45454545570001, 37.72727272870001, 39.00000000170001, 40.27272727470001, 41.54545454770001]}\n",
            "new finish {'662': [0.4545454545, 12.801136363400001, 24.318181818200006, 24.818181818200006, 25.318181818200006, 25.818181818200006, 26.318181818200006, 26.545454545500007, 26.886363636400006, 27.113636363700007, 27.568181818200006, 28.318181818200006, 29.318181818200006, 29.659090909100005, 30.409090909100005, 30.909090909100005, 31.136363636400006, 31.363636363700007, 32.36363636370001, 33.36363636370001], 'D11': [7.5, 11.25, 15.0, 22.5, 26.25, 33.75, 37.5, 43.125, 50.625, 56.25, 60.0, 63.75, 67.5, 75.0, 78.75, 84.375, 88.125, 95.625, 101.25, 105.0], 'D12': [0.1363636364, 12.863636366400003, 13.045454548200004, 63.84090909091, 63.931818181820006, 64.11363636362, 64.29545454542, 64.47727272722, 64.65909090902, 64.79545454542, 84.5113636364, 84.6931818182, 84.78409090911, 84.87500000002001, 85.05681818182, 85.23863636362, 85.42045454542, 85.55681818182, 85.64772727273001, 85.73863636364001, 85.82954545455001, 85.92045454546002, 86.10227272726002, 86.28409090906001, 86.46590909086001, 86.55681818177001, 86.73863636357001, 86.82954545448001, 87.01136363628001, 87.19318181808, 87.32954545448001, 101.3863636364, 101.5681818182, 101.65909090911, 101.79545454551001, 101.88636363642001, 101.97727272733002, 102.06818181824002, 102.15909090915002, 102.34090909095002], 'D13': [1.0, 1.5, 3.136363636, 7.0909090899999985, 7.8409090899999985, 9.068181817, 9.886363635199999, 10.386363635199999, 11.204545453399998, 11.704545453399998, 12.931818180399997, 13.681818180399997, 29.318181818200006, 29.818181818200006, 30.636363636400006, 31.454545454600005, 32.272727272800005, 33.9090909088, 34.4090909088, 35.4090909088], 'D15': [1.2045454545, 65.31818181812001, 65.92045454542001, 102.77272727270001, 103.97727272720002, 104.57954545450002, 105.18181818180003, 106.08522727270002, 107.28977272720003, 107.89204545450004, 108.79545454540003, 109.69886363630003, 110.90340909080004, 111.50568181810004, 112.71022727260005, 113.61363636350005, 114.21590909080005, 114.81818181810006, 115.72159090900006, 116.32386363630006, 116.92613636360007, 118.13068181810007, 118.73295454540008, 119.33522727270008, 119.93750000000009, 120.53977272730009, 121.1420454546001, 122.04545454550009, 122.6477272728001, 123.8522727273001], 'D17': [1.2045454545, 12.903409090900002, 13.505681818200003, 14.107954545500004, 15.312500000000004, 15.914772727300004, 17.119318181800004, 17.721590909100005, 18.323863636400006, 18.926136363700007, 20.130681818200006, 21.034090909100005, 21.636363636400006, 22.238636363700007, 23.443181818200006, 24.647727272700006, 25.250000000000007, 26.153409090900006, 26.755681818200006, 27.659090909100005], 'D27': [3.2, 6.4, 127.0522727273001, 129.4522727273001, 131.0522727273001, 132.6522727273001, 134.2522727273001, 135.8522727273001, 137.45227272730008, 139.8522727273001], 'D31': [0.5454545455, 115.63636363630006, 116.18181818180005, 120.15340909090008, 120.97159090910009, 121.51704545460008, 122.33522727280008, 122.88068181830008, 123.42613636380007, 124.24431818200007, 124.78977272750006, 125.60795454570007, 126.15340909120006, 126.69886363670005, 127.51704545490006, 128.06250000040006, 128.88068181860007, 129.42613636410007, 130.24431818230008, 131.06250000050008], 'D32': [0.5454545455, 1.6363636363, 2.4545454544000003, 2.9090909089, 3.3636363634, 3.9090909089, 4.3636363634, 4.8181818179, 5.3636363634, 5.8181818179, 6.3636363634, 6.8181818179, 7.3636363634, 7.8181818179, 8.3636363634, 8.9090909089, 9.3636363634, 9.8181818179, 10.3636363634, 10.8181818179], 'D33': [0.09090909091, 34.499999999710006, 34.59090909062001, 128.15340909131007, 128.24431818222007, 128.33522727313007, 131.15340909141008, 131.2443181823201, 131.3352272732301, 131.4261363641401, 131.5170454550501, 131.6079545459601, 131.6988636368701, 131.7897727277801, 131.8806818186901, 131.9715909096001, 132.0625000005101, 132.15340909142012, 132.24431818233012, 132.33522727324012, 132.42613636415012, 132.51704545506013, 132.60795454597013, 132.69886363688013, 132.78977272779014, 132.88068181870014, 132.97159090961014, 133.06250000052015, 133.15340909143015, 133.24431818234015], 'D41': [0.2727272727, 132.51704545503011, 132.7897727277301, 133.0625000004301, 133.3352272731301, 133.6079545458301, 133.8806818185301, 134.1534090912301, 134.42613636393008, 134.69886363663008], 'D43': [0.06818181818, 3.9090909090499992, 3.977272727229999, 4.022727272679999, 4.1136363635899995, 4.15909090904, 4.20454545449, 4.24999999994, 4.29545454539, 4.3863636363000005], 'D44': [0.4545454545, 9.136363635179999, 105.2272727273, 105.27272727275, 105.3181818182, 105.54545454550001, 105.63636363641001, 105.86363636371001, 105.95454545462002, 106.00000000007002, 106.06818181825001, 106.11363636370001, 106.45454545460001, 106.50000000005001, 106.95454545455001, 107.40909090905002, 107.74999999995002, 107.97727272725002, 108.20454545455003, 108.29545454546003], 'D47': [0.4545454545, 9.3636363634, 10.2727272724, 10.727272726899999, 11.2727272724, 11.727272726899999, 12.181818181399999, 12.636363635899999, 13.090909090399999, 13.545454544899998, 13.999999999399998, 14.454545453899998, 14.909090908399998, 15.363636362899998, 15.818181817399998, 16.2727272719, 16.7272727264, 17.1818181809, 17.6363636354, 18.0909090899], 'D65': [0.4545454545, 11.9545454545, 12.409090909, 12.8636363635, 13.4545454545, 14.4545454545, 14.909090909, 15.3636363635, 15.818181818, 16.2727272725], 'D69': [1.0, 89.01136363628001, 91.01136363628001, 93.01136363628001, 94.01136363628001, 95.01136363628001, 96.51136363628001, 103.34090909095002, 104.84090909095002, 105.84090909095002], 'Nital Etche, Hydrojen Embr.': [1.272727273, 32.636363636700004, 33.909090909700005, 35.181818182700006, 36.45454545570001, 37.72727272870001, 39.00000000170001, 40.27272727470001, 41.54545454770001, 42.81818182070001]}\n",
            "latest finish time: 139.8522727273001\n",
            "\n",
            "---------\n",
            "\n",
            "8 {'662': [128, 224, 160, 256, 90, 58, 192, 218, 320, 288, 32, 186, 250, 64, 96, 154, 26, 314, 122, 282], 'D11': [107, 299, 203, 183, 235, 119, 55, 43, 215, 139, 279, 311, 23, 171, 247, 87, 11, 267, 75, 151], 'D12': [173, 13, 252, 223, 319, 316, 127, 95, 216, 109, 301, 92, 152, 28, 284, 280, 191, 45, 141, 88, 24, 31, 159, 188, 269, 205, 120, 56, 60, 124, 248, 237, 255, 156, 312, 287, 63, 77, 220, 184], 'D13': [295, 7, 33, 103, 39, 65, 231, 257, 193, 161, 129, 199, 263, 225, 1, 135, 71, 289, 167, 97], 'D15': [153, 14, 116, 78, 308, 212, 217, 52, 25, 244, 174, 302, 270, 84, 46, 281, 276, 313, 89, 148, 249, 206, 180, 185, 142, 110, 121, 57, 238, 20], 'D17': [86, 118, 42, 74, 278, 266, 22, 182, 138, 234, 150, 214, 202, 54, 246, 170, 10, 310, 106, 298], 'D27': [21, 53, 245, 213, 85, 309, 149, 117, 181, 277], 'D31': [207, 303, 291, 239, 143, 47, 99, 259, 175, 227, 35, 131, 195, 15, 79, 67, 271, 111, 163, 3], 'D32': [5, 69, 82, 229, 101, 242, 146, 197, 50, 165, 18, 261, 37, 210, 306, 274, 293, 178, 133, 114], 'D33': [208, 112, 290, 34, 176, 130, 68, 260, 226, 36, 258, 272, 132, 162, 304, 100, 228, 144, 194, 80, 164, 66, 196, 16, 240, 48, 2, 4, 292, 98], 'D41': [241, 81, 17, 113, 49, 209, 177, 273, 145, 305], 'D43': [73, 169, 105, 41, 297, 137, 265, 201, 9, 233], 'D44': [136, 296, 168, 12, 8, 40, 108, 232, 204, 268, 236, 200, 44, 140, 300, 264, 172, 104, 72, 76], 'D47': [147, 102, 179, 262, 166, 38, 243, 19, 230, 51, 275, 70, 198, 134, 211, 6, 115, 83, 307, 294], 'D65': [254, 62, 318, 126, 158, 222, 190, 94, 30, 286], 'D69': [157, 125, 317, 29, 285, 189, 61, 253, 221, 93], 'Nital Etche, Hydrojen Embr.': [187, 123, 251, 219, 283, 315, 155, 27, 91, 59]} \n",
            "\n",
            "\n",
            "new start  {'662': [0, 1.0, 3.363636363570001, 4.636363636320001, 15.357954545500007, 23.48863636360001, 23.829545454500007, 24.329545454500007, 24.556818181800008, 25.056818181800008, 25.556818181800008, 26.556818181800008, 26.78409090910001, 27.01136363640001, 27.76136363640001, 28.51136363640001, 28.96590909090001, 29.42045454540001, 29.64772727270001, 30.10227272720001], 'D11': [0, 16.863636363600005, 20.613636363600005, 24.363636363600005, 28.113636363600005, 31.863636363600005, 39.36363636360001, 44.98863636360001, 50.61363636360001, 54.36363636360001, 61.86363636360001, 65.61363636360001, 69.36363636360001, 76.86363636360001, 80.61363636360001, 84.36363636360001, 89.98863636360001, 97.48863636360001, 101.23863636360001, 106.86363636360001], 'D12': [0, 0.63636363631, 3.8181818190000003, 4.0000000008, 4.09090909171, 7.636363638000001, 7.8181818198, 8.0000000016, 54.36363636360001, 54.45454545451001, 54.63636363631001, 54.72727272722001, 114.36363636360001, 114.5454545454, 114.7272727272, 114.909090909, 114.99999999991, 115.09090909082, 115.22727272722001, 115.40909090902001, 115.54545454542001, 115.72727272722001, 115.90909090902001, 116.09090909082, 116.27272727262, 116.36363636353, 116.45454545444001, 116.63636363624, 116.77272727264001, 116.90909090904002, 117.09090909084001, 117.18181818175002, 117.27272727266002, 117.36363636357002, 117.54545454537002, 117.63636363628002, 117.72727272719003, 117.86363636359003, 117.99999999999004, 118.18181818179004], 'D13': [0, 7.272727271999998, 8.909090907999998, 9.659090907999998, 11.295454543999998, 12.522727270999997, 13.272727270999997, 14.090909089199997, 14.590909089199997, 15.090909089199997, 15.590909089199997, 16.590909089199997, 17.409090907399996, 18.227272725599995, 18.727272725599995, 19.727272725599995, 21.363636361599994, 22.590909088599993, 23.090909088599993, 28.51136363640001], 'D15': [0, 1.2045454545, 7.727272726499998, 117.99999999999004, 118.90340909089004, 119.50568181819004, 120.10795454549005, 120.71022727279005, 121.61363636369005, 122.81818181819006, 123.42045454549006, 124.02272727279006, 124.62500000009007, 125.22727272739007, 126.13068181829007, 127.03409090919007, 127.63636363649007, 128.23863636379008, 128.84090909109008, 129.74431818199008, 130.94886363649007, 131.55113636379008, 132.15340909109008, 132.7556818183901, 133.3579545456901, 134.56250000019008, 135.76704545469008, 136.97159090919007, 137.87500000009007, 138.47727272739007], 'D17': [0, 19.2, 20.4045454545, 21.307954545399998, 22.400000000000002, 23.002272727300003, 23.604545454600004, 24.809090909100004, 25.411363636400004, 26.615909090900004, 27.218181818200005, 28.422727272700005, 29.025000000000006, 29.627272727300006, 30.530681818200005, 31.132954545500006, 31.735227272800007, 32.93977272730001, 33.54204545460001, 34.74659090910001], 'D27': [0, 121.61363636369005, 124.01363636369005, 125.61363636369005, 127.21363636369004, 129.61363636369003, 131.21363636369003, 134.41363636369002, 137.61363636369, 139.21363636369], 'D31': [0, 124.62500000009007, 125.44318181829007, 138.47727272739007, 139.29545454559008, 140.11363636379008, 140.93181818199008, 141.4772727274901, 142.0227272729901, 142.8409090911901, 143.3863636366901, 143.9318181821901, 144.47727272769012, 145.02272727319013, 145.84090909139013, 146.65909090959013, 147.20454545509014, 148.02272727329014, 148.84090909149015, 149.38636363699015], 'D32': [0, 0.63636363637, 1.09090909087, 1.63636363637, 2.09090909087, 2.5454545453699997, 3.09090909087, 3.63636363637, 4.09090909087, 4.6363636363700005, 5.09090909087, 5.6363636363700005, 6.09090909087, 6.54545454537, 7.09090909087, 7.6363636363700005, 8.18181818187, 8.63636363637, 9.18181818187, 9.63636363637], 'D33': [0, 148.84090909149015, 148.93181818240015, 149.02272727331015, 149.11363636422016, 149.20454545513016, 149.29545454604016, 149.38636363695016, 149.47727272786017, 149.56818181877017, 149.65909090968017, 149.75000000059018, 149.84090909150018, 149.93181818241018, 150.02272727332019, 150.1136363642302, 150.2045454551402, 150.2954545460502, 150.3863636369602, 150.4772727278702, 150.5681818187802, 150.6590909096902, 150.7500000006002, 150.8409090915102, 150.93181818242022, 151.02272727333022, 151.11363636424022, 151.20454545515022, 151.29545454606023, 151.38636363697023], 'D41': [0, 150.5681818187802, 150.93181818242022, 151.2045454551202, 151.4772727278202, 151.7500000005202, 152.0227272732202, 152.2954545459202, 152.5681818186202, 152.84090909132019], 'D43': [0, 0.18181818181, 3.4090909090599992, 3.499999999969999, 3.568181818149999, 3.613636363599999, 3.704545454509999, 3.749999999959999, 3.7954545454099993, 3.886363636319999], 'D44': [0, 0.8181818182, 23.909090906799992, 97.48863636360001, 97.94318181810002, 98.03409090901002, 98.10227272719001, 98.55681818169002, 98.60227272714002, 101.23863636360001, 101.46590909090001, 101.69318181820002, 101.73863636365002, 102.07954545455001, 102.53409090905002, 102.76136363635003, 102.80681818180003, 103.03409090910003, 103.12500000001003, 106.86363636360001], 'D47': [0, 2.5454545453699997, 9.18181818187, 9.63636363637, 10.09090909087, 10.54545454537, 10.999999999869999, 11.454545454369999, 11.909090908869999, 12.363636363369999, 12.818181817869998, 13.272727272369998, 13.727272726869998, 14.181818181369998, 14.636363635869998, 15.090909090369998, 15.545454544869997, 15.999999999369997, 16.454545453869997, 16.909090908369997], 'D65': [0, 10.5, 10.9545454545, 11.409090909, 11.8636363635, 12.5, 12.9545454545, 14.0, 14.4545454545, 14.909090909], 'D69': [0, 117.09090909084001, 119.09090909084001, 120.09090909084001, 122.09090909084001, 123.09090909084001, 124.09090909084001, 125.59090909084001, 126.59090909084001, 127.59090909084001], 'Nital Etche, Hydrojen Embr.': [0, 30.10227272720001, 31.37500000020001, 32.64772727320001, 33.92045454620001, 35.193181819200014, 36.465909092200015, 37.738636365200016, 39.01136363820002, 40.28409091120002]}\n",
            "new finish {'662': [1.0, 1.5, 4.36363636357, 5.136363636320001, 15.698863636400008, 23.829545454500007, 24.329545454500007, 24.556818181800008, 25.056818181800008, 25.556818181800008, 26.556818181800008, 26.78409090910001, 27.01136363640001, 27.76136363640001, 28.51136363640001, 28.96590909090001, 29.42045454540001, 29.64772727270001, 30.10227272720001, 30.32954545450001], 'D11': [7.5, 20.613636363600005, 24.363636363600005, 28.113636363600005, 31.863636363600005, 39.36363636360001, 44.98863636360001, 50.61363636360001, 54.36363636360001, 61.86363636360001, 65.61363636360001, 69.36363636360001, 76.86363636360001, 80.61363636360001, 84.36363636360001, 89.98863636360001, 97.48863636360001, 101.23863636360001, 106.86363636360001, 114.36363636360001], 'D12': [0.09090909091, 0.81818181811, 4.0000000008, 4.09090909171, 4.181818182620001, 7.8181818198, 8.0000000016, 8.136363638, 54.45454545451001, 54.63636363631001, 54.72727272722001, 54.86363636362001, 114.5454545454, 114.7272727272, 114.909090909, 114.99999999991, 115.09090909082, 115.22727272722001, 115.40909090902001, 115.54545454542001, 115.72727272722001, 115.90909090902001, 116.09090909082, 116.27272727262, 116.36363636353, 116.45454545444001, 116.63636363624, 116.77272727264001, 116.90909090904002, 117.09090909084001, 117.18181818175002, 117.27272727266002, 117.36363636357002, 117.54545454537002, 117.63636363628002, 117.72727272719003, 117.86363636359003, 117.99999999999004, 118.18181818179004, 118.27272727270004], 'D13': [0.8181818182, 8.909090907999998, 9.659090907999998, 11.295454543999998, 12.522727270999997, 13.272727270999997, 14.090909089199997, 14.590909089199997, 15.090909089199997, 15.590909089199997, 16.590909089199997, 17.409090907399996, 18.227272725599995, 18.727272725599995, 19.727272725599995, 21.363636361599994, 22.590909088599993, 23.090909088599993, 23.909090906799992, 29.51136363640001], 'D15': [1.2045454545, 2.409090909, 8.931818180999999, 118.90340909089004, 119.50568181819004, 120.10795454549005, 120.71022727279005, 121.61363636369005, 122.81818181819006, 123.42045454549006, 124.02272727279006, 124.62500000009007, 125.22727272739007, 126.13068181829007, 127.03409090919007, 127.63636363649007, 128.23863636379008, 128.84090909109008, 129.74431818199008, 130.94886363649007, 131.55113636379008, 132.15340909109008, 132.7556818183901, 133.3579545456901, 134.56250000019008, 135.76704545469008, 136.97159090919007, 137.87500000009007, 138.47727272739007, 139.68181818189007], 'D17': [0.9034090909, 20.4045454545, 21.307954545399998, 22.211363636299996, 23.002272727300003, 23.604545454600004, 24.809090909100004, 25.411363636400004, 26.615909090900004, 27.218181818200005, 28.422727272700005, 29.025000000000006, 29.627272727300006, 30.530681818200005, 31.132954545500006, 31.735227272800007, 32.93977272730001, 33.54204545460001, 34.74659090910001, 35.348863636400004], 'D27': [3.2, 124.01363636369005, 125.61363636369005, 127.21363636369004, 129.61363636369003, 131.21363636369003, 134.41363636369002, 137.61363636369, 139.21363636369, 140.81363636369], 'D31': [0.8181818182, 125.44318181829007, 125.98863636379006, 139.29545454559008, 140.11363636379008, 140.93181818199008, 141.4772727274901, 142.0227272729901, 142.8409090911901, 143.3863636366901, 143.9318181821901, 144.47727272769012, 145.02272727319013, 145.84090909139013, 146.65909090959013, 147.20454545509014, 148.02272727329014, 148.84090909149015, 149.38636363699015, 149.93181818249016], 'D32': [0.4545454545, 1.09090909087, 1.63636363637, 2.09090909087, 2.5454545453699997, 3.09090909087, 3.63636363637, 4.09090909087, 4.6363636363700005, 5.09090909087, 5.6363636363700005, 6.09090909087, 6.54545454537, 7.09090909087, 7.6363636363700005, 8.18181818187, 8.63636363637, 9.18181818187, 9.63636363637, 10.18181818187], 'D33': [0.09090909091, 148.93181818240015, 149.02272727331015, 149.11363636422016, 149.20454545513016, 149.29545454604016, 149.38636363695016, 149.47727272786017, 149.56818181877017, 149.65909090968017, 149.75000000059018, 149.84090909150018, 149.93181818241018, 150.02272727332019, 150.1136363642302, 150.2045454551402, 150.2954545460502, 150.3863636369602, 150.4772727278702, 150.5681818187802, 150.6590909096902, 150.7500000006002, 150.8409090915102, 150.93181818242022, 151.02272727333022, 151.11363636424022, 151.20454545515022, 151.29545454606023, 151.38636363697023, 151.47727272788023], 'D41': [0.2727272727, 150.8409090914802, 151.2045454551202, 151.4772727278202, 151.7500000005202, 152.0227272732202, 152.2954545459202, 152.5681818186202, 152.84090909132019, 153.11363636402018], 'D43': [0.06818181818, 0.22727272726, 3.499999999969999, 3.568181818149999, 3.613636363599999, 3.704545454509999, 3.749999999959999, 3.7954545454099993, 3.886363636319999, 3.9318181817699993], 'D44': [0.09090909091, 0.8636363636500001, 23.95454545224999, 97.94318181810002, 98.03409090901002, 98.10227272719001, 98.55681818169002, 98.60227272714002, 98.82954545444002, 101.46590909090001, 101.69318181820002, 101.73863636365002, 102.07954545455001, 102.53409090905002, 102.76136363635003, 102.80681818180003, 103.03409090910003, 103.12500000001003, 103.19318181819003, 107.2045454545], 'D47': [0.4545454545, 2.9999999998699995, 9.63636363637, 10.09090909087, 10.54545454537, 10.999999999869999, 11.454545454369999, 11.909090908869999, 12.363636363369999, 12.818181817869998, 13.272727272369998, 13.727272726869998, 14.181818181369998, 14.636363635869998, 15.090909090369998, 15.545454544869997, 15.999999999369997, 16.454545453869997, 16.909090908369997, 17.363636362869997], 'D65': [0.4545454545, 10.9545454545, 11.409090909, 11.8636363635, 12.318181818, 12.9545454545, 13.409090909, 14.4545454545, 14.909090909, 15.3636363635], 'D69': [2.0, 119.09090909084001, 120.09090909084001, 122.09090909084001, 123.09090909084001, 124.09090909084001, 125.59090909084001, 126.59090909084001, 127.59090909084001, 129.09090909084], 'Nital Etche, Hydrojen Embr.': [1.272727273, 31.37500000020001, 32.64772727320001, 33.92045454620001, 35.193181819200014, 36.465909092200015, 37.738636365200016, 39.01136363820002, 40.28409091120002, 41.55681818420002]}\n",
            "latest finish time: 153.11363636402018\n",
            "\n",
            "---------\n",
            "\n"
          ]
        }
      ]
    },
    {
      "cell_type": "code",
      "execution_count": 15,
      "metadata": {
        "id": "HfDiGXwvWkEO",
        "colab": {
          "base_uri": "https://localhost:8080/"
        },
        "outputId": "0f790f32-a419-4a5a-8276-4eead82a24e6"
      },
      "outputs": [
        {
          "output_type": "stream",
          "name": "stdout",
          "text": [
            "[106.27272727271, 131.7681818179901, 142.1772727271501, 138.79431818182007, 145.63636363624005, 143.95909090911005, 139.8522727273001, 153.11363636402018]\n"
          ]
        }
      ],
      "source": [
        "print(makespan_list)"
      ]
    },
    {
      "cell_type": "markdown",
      "metadata": {
        "id": "OW9v2ySzuh2H"
      },
      "source": [
        "# Crossover\n"
      ]
    },
    {
      "cell_type": "code",
      "execution_count": null,
      "metadata": {
        "id": "eD-zlINPuh2R"
      },
      "outputs": [],
      "source": [
        "# test son(26.05.2022)\n",
        "\n",
        "Kromozom1={'662': [26, 32, 58, 64, 90, 96, 122, 128, 154, 160, 186, 192, 218, 224, 250, 256, 282, 288, 314, 320], 'D11': [11, 23, 43, 55, 75, 87, 107, 119, 139, 151, 171, 183, 203, 215, 235, 247, 267, 279, 299, 311], 'D12': [13, 24, 28, 31, 45, 56, 60, 63, 77, 88, 92, 95, 109, 120, 124, 127, 141, 152, 156, 159, 173, 184, 188, 191, 205, 216, 220, 223, 237, 248, 252, 255, 269, 280, 284, 287, 301, 312, 316, 319], 'D13': [1, 7, 33, 39, 65, 71, 97, 103, 129, 135, 161, 167, 193, 199, 225, 231, 257, 263, 289, 295], 'D15': [14, 20, 25, 46, 52, 57, 78, 84, 89, 110, 116, 121, 142, 148, 153, 174, 180, 185, 206, 212, 217, 238, 244, 249, 270, 276, 281, 302, 308, 313], 'D17': [10, 22, 42, 54, 74, 86, 106, 118, 138, 150, 170, 182, 202, 214, 234, 246, 266, 278, 298, 310], 'D27': [21, 53, 85, 117, 149, 181, 213, 245, 277, 309], 'D31': [3, 15, 35, 47, 67, 79, 99, 111, 131, 143, 163, 175, 195, 207, 227, 239, 259, 271, 291, 303], 'D32': [5, 18, 37, 50, 69, 82, 101, 114, 133, 146, 165, 178, 197, 210, 229, 242, 261, 274, 293, 306], 'D33': [2, 4, 16, 34, 36, 48, 66, 68, 80, 98, 100, 112, 130, 132, 144, 162, 164, 176, 194, 196, 208, 226, 228, 240, 258, 260, 272, 290, 292, 304], 'D41': [17, 49, 81, 113, 145, 177, 209, 241, 273, 305], 'D43': [9, 41, 73, 105, 137, 169, 201, 233, 265, 297], 'D44': [8, 12, 40, 44, 72, 76, 104, 108, 136, 140, 168, 172, 200, 204, 232, 236, 264, 268, 296, 300], 'D47': [6, 19, 38, 51, 70, 83, 102, 115, 134, 147, 166, 179, 198, 211, 230, 243, 262, 275, 294, 307], 'D65': [30, 62, 94, 126, 158, 190, 222, 254, 286, 318], 'D69': [29, 61, 93, 125, 157, 189, 221, 253, 285, 317], 'Nital Etche, Hydrojen Embr.': [27, 59, 91, 123, 155, 187, 219, 251, 283, 315]}\n",
        "Kromozom2={'662': [154, 320, 90, 288, 58, 128, 218, 282, 26, 250, 64, 192, 314, 122, 160, 32, 224, 256, 96, 186], 'D11': [279, 311, 107, 119, 203, 139, 55, 75, 183, 23, 151, 171, 235, 247, 87, 267, 43, 11, 299, 215], 'D12': [156, 220, 141, 319, 191, 127, 56, 63, 188, 316, 237, 45, 92, 120, 109, 301, 287, 88, 31, 28, 173, 248, 24, 255, 13, 216, 124, 269, 184, 77, 159, 312, 252, 95, 223, 152, 284, 205, 60, 280], 'D13': [129, 71, 199, 289, 65, 295, 167, 161, 97, 103, 263, 39, 135, 231, 1, 225, 257, 7, 193, 33], 'D15': [238, 153, 244, 84, 174, 142, 180, 25, 116, 302, 110, 249, 185, 270, 20, 57, 217, 89, 206, 212, 313, 46, 308, 276, 78, 148, 281, 121, 52, 14], 'D17': [246, 298, 234, 118, 74, 138, 150, 10, 214, 182, 106, 310, 86, 22, 42, 170, 278, 202, 54, 266], 'D27': [149, 213, 245, 21, 277, 117, 309, 181, 85, 53], 'D31': [3, 259, 303, 163, 239, 111, 271, 67, 131, 291, 15, 35, 175, 207, 99, 227, 143, 47, 195, 79], 'D32': [197, 18, 165, 146, 242, 229, 50, 210, 114, 306, 82, 5, 274, 261, 69, 37, 133, 101, 178, 293], 'D33': [226, 112, 132, 240, 34, 4, 36, 272, 98, 48, 100, 144, 208, 66, 292, 176, 16, 228, 196, 260, 290, 130, 68, 258, 80, 304, 162, 2, 194, 164], 'D41': [305, 113, 81, 49, 17, 145, 177, 209, 273, 241], 'D43': [73, 233, 265, 41, 297, 137, 201, 169, 105, 9], 'D44': [200, 300, 76, 44, 108, 204, 296, 40, 236, 8, 168, 136, 140, 12, 232, 264, 72, 172, 268, 104], 'D47': [147, 211, 307, 115, 275, 243, 134, 294, 262, 19, 51, 102, 230, 38, 70, 198, 166, 6, 179, 83], 'D65': [158, 30, 254, 62, 286, 190, 94, 222, 126, 318], 'D69': [221, 157, 29, 253, 61, 317, 285, 189, 125, 93], 'Nital Etche, Hydrojen Embr.': [251, 27, 91, 315, 187, 123, 155, 59, 283, 219]}\n",
        "\n",
        "print(\"Kromozom1\",Kromozom1)\n",
        "print(\"Kromozom2\",Kromozom2)\n",
        "\n",
        "def creating_baby(parents1, parents2):\n",
        "  mother = parents1\n",
        "  father = parents2\n",
        "  index1 = random.randint(1, len(mth) - 2)\n",
        "  index2 = random.randint(1, len(mth) - 2)\n",
        "  if index1 == index2:\n",
        "    index1 = random.randint(1, len(mth) - 2)\n",
        "    index2 = random.randint(1, len(mth) - 2)     \n",
        "  if index1 > index2: index1, index2 = index2, index1   \n",
        "  child1 = null[:index1] + father[index1:index2] +null[index2:]\n",
        "  child2 = null[:index1] + mother[index1:index2] + null[index2:]\n",
        "  #print(index1,index2)\n",
        "  c=0\n",
        "  for i in range(len(mth)):\n",
        "    if child1[i]!=0:\n",
        "      c=child1[i]\n",
        "      break\n",
        "  index_c=0\n",
        "  for i in range(len(mth)):\n",
        "    if child1[i]!=0:\n",
        "      index_c +=1\n",
        "  index_1=child1.index(c)\n",
        "  index_2=index_1 + index_c\n",
        "  VLOOK_1=copy.deepcopy(child1) #eşit olanları silmek için \n",
        "  VLOOK_2=copy.deepcopy(child2)\n",
        "  for i in range(len(mth)):\n",
        "    j=0\n",
        "    while j != len(mth):\n",
        "      if mth[i] != child1[j]:\n",
        "        VLOOK_1.append(5) # buraya yazdırmam lazımdı o yüzden öylesine işlem atadım.\n",
        "      else:\n",
        "        eleman=mth[i]\n",
        "        VLOOK_1.remove(eleman)\n",
        "        break\n",
        "      if j==len(mth)-1 :\n",
        "        Control_1.append(mth[i])\n",
        "      j+=1\n",
        "  for i in range(len(fth)):\n",
        "    j=0\n",
        "    while j != len(fth):\n",
        "      if fth[i] != child2[j]:\n",
        "        VLOOK_1.append(5) # buraya yazdırmam lazımdı o yüzden öylesine işlem atadım.\n",
        "      else:\n",
        "        eleman=fth[i]\n",
        "        VLOOK_2.remove(eleman)\n",
        "        break\n",
        "      if j==len(mth)-1 :\n",
        "        Control_2.append(fth[i])\n",
        "      j+=1\n",
        "  child1 = Control_1[:index_1] + child1[index_1:index_2] +Control_1[index_1:]\n",
        "  #print(\"mth\",mth)\n",
        "  child2 = Control_2[:index_1] + child2[index_1:index_2] +Control_2[index_1:]\n",
        "  return (child1, child2)\n",
        "\n",
        "\n",
        "###############################\n",
        "\n",
        "def crossover_function(Kromozom1,Kromozom2):\n",
        "  popu = []\n",
        "  popu.append(Kromozom1)\n",
        "  popu.append(Kromozom2)\n",
        "  #print(popu)\n",
        "  list1=popu[0] \n",
        "  list2=popu[1]\n",
        "  #print(list1)\n",
        "\n",
        "  total_chromo_1 = []\n",
        "  total_chromo_2 = []\n",
        "  popp = copy.deepcopy(new_popu)\n",
        "\n",
        "\n",
        "  for i in range(int((len(popp)-2)/2)):\n",
        "    for m in list1:\n",
        "      #print(m,list1[m],'\\n')\n",
        "      mth=copy.deepcopy(list1[m]) #mother chorosome's gene for machine m\n",
        "      fth=copy.deepcopy(list2[m])\n",
        "      null=[] \n",
        "      for j in range (len(mth)):\n",
        "        null.append(0)    \n",
        "      Control_1=[]\n",
        "      Control_2=[]\n",
        "\n",
        "      mth1,fth1 = creating_baby(mth,fth) # Durum1\n",
        "      total_chromo_1.append(mth1)\n",
        "      total_chromo_2.append(fth1)\n",
        "\n",
        "\n",
        "  first_one = True\n",
        "\n",
        "\n",
        "  len_tc =len(total_chromo_1)\n",
        "\n",
        "  final_new_yavru_popp=[]\n",
        "  final_new_yavru_popp.append(list1)\n",
        "  final_new_yavru_popp.append(list2)\n",
        "\n",
        "  for m in range(int((len(popp)-2)/2)):\n",
        "    new_yavru_popp= {}\n",
        "    for j in popp[m_num]:   #chromosome\n",
        "      for machine in j: \n",
        "        new_yavru_popp[str(machine)]= (total_chromo_1[-len_tc])\n",
        "        len_tc -= 1\n",
        "    final_new_yavru_popp.append(new_yavru_popp)\n",
        "    #print(\"new_yavru_popp=\",m+1,new_yavru_popp)\n",
        "\n",
        "  for m in range(int((len(popp)-2)/2)):\n",
        "    new_yavru_popp= {}\n",
        "    for j in popp[m_num]:   #chromosome\n",
        "      for machine in j: \n",
        "        new_yavru_popp[str(machine)]= (total_chromo_2[-len_tc])\n",
        "        len_tc-= 1\n",
        "    final_new_yavru_popp.append(new_yavru_popp)\n",
        "\n",
        "  for i in final_new_yavru_popp:\n",
        "    print(\"new_yavru_popp=\",i)\n"
      ]
    },
    {
      "cell_type": "markdown",
      "metadata": {
        "id": "qxAtpJvfCN8r"
      },
      "source": [
        "newpopudaki chrmozomlara tek tek bak </br>\n",
        "random sayı ile mutasyn olacak mı diye belirle </br>\n",
        "olacaksa:</br>\n",
        "genlere/makine listelerine tek tek bak ve hangisinde olacağına karar ver randon ile </br>\n",
        "listedeki bir processi rastgele seç ve bir değişkene ata </br>\n",
        "o precessi liseden sil </br>\n",
        "değişkeni/processi rastgele başka indexe insert() et"
      ]
    },
    {
      "cell_type": "code",
      "execution_count": null,
      "metadata": {
        "id": "qW3splugA4Oh"
      },
      "outputs": [],
      "source": [
        "#son hali\n",
        "\n",
        "# mutation rate\n",
        "def mutation_rate(key_s,gen,say1,say2):\n",
        "  new_cont_popp ={}\n",
        "  mutasyon_sayısı = []\n",
        "  new_cont_popp[str(k)]=gen\n",
        "  #print(\"1print(new_cont_popp)\",new_cont_popp)\n",
        "  #r_mut = 1.0 /len(gen)\n",
        "  r_mut_range=[1,2,3,4,5]\n",
        "  n=random.randint(1,100)\n",
        "  if n in  r_mut_range:\n",
        "    print(\"There will be mutation\") #bunun çıktısını vermemize gerek yok kontrol amaçlı verdim\n",
        "    mutasyon_sayısı.append(1)\n",
        "    n=gen[0][say1]\n",
        "    m=gen[0][say2]\n",
        "    gen[0][say1]=m\n",
        "    gen[0][say2]=n\n",
        "    new_cont_popp[str(k)]=gen\n",
        "    #print(\"2print(new_cont_popp)\",new_cont_popp)    \n",
        "  #else:\n",
        "  #  print(\"There will not be mutation\")\n",
        "\n",
        "def Mutation_function(final_new_popp):\n",
        "  cont_popp = [final_new_popp]\n",
        "  print(cont_popp)\n",
        "  first_one = True\n",
        "  for j in cont_popp[0]:   #chromosome\n",
        "    for k in (j.keys()):\n",
        "      #range= []\n",
        "      list_kromozome =[]\n",
        "      #print(k,\":\",j[str(k)],len(j[str(k)]))\n",
        "      #range.append(len(j[str(k)]))\n",
        "      list_kromozome.append(j[str(k)])\n",
        "      #print(j[str(k)])\n",
        "      mut1=random.randint(0,int(len(j[str(k)]))-1)\n",
        "      mut2=random.randint(0,int(len(j[str(k)]))-1)\n",
        "      if mut1 == mut2:\n",
        "        while mut1 == mut2:\n",
        "          mut2=random.randint(0,int(len(j[str(k)]))-1)\n",
        "      mutation_rate(k,list_kromozome,mut1,mut2)\n",
        "  print(\"After mutation part\")\n",
        "  print(new_cont_popp)\n",
        "  print(\"Mutasyon olan gen sayısı:\",len(mutasyon_sayısı))"
      ]
    },
    {
      "cell_type": "markdown",
      "metadata": {
        "id": "BGAWtmySAXWW"
      },
      "source": [
        "."
      ]
    },
    {
      "cell_type": "markdown",
      "metadata": {
        "id": "DjWTYnE7-LS_"
      },
      "source": [
        "    \n",
        "\n",
        "---\n",
        "   \n",
        "\n"
      ]
    },
    {
      "cell_type": "markdown",
      "metadata": {
        "id": "4MC1Z2jxAL1r"
      },
      "source": [
        "### To do:\n",
        "  - add to finish time calculations:\n",
        "    - make it so predecession starts from beginning for each piece (eg: 32 --> 33)\n",
        "    - need to also consider the max of the previous process in the machine           \n",
        "\n",
        "   \n",
        "  - check the processes in order across machines & give partial score when testing fitness\n",
        "  - check the cutoff points of the crossover, the randomness & then generalize it to fit as many chromosomes as needed"
      ]
    },
    {
      "cell_type": "markdown",
      "source": [
        "Crossver için function :\n",
        "\n",
        "def crossover_function(Kromozom1,Kromozom2)\n",
        "\n",
        "Mutasyon için function:\n",
        "\n",
        "def Mutation_function(final_new_popp)"
      ],
      "metadata": {
        "id": "1GsN7Q_T9Dxl"
      }
    }
  ],
  "metadata": {
    "colab": {
      "collapsed_sections": [],
      "name": "EMU403_code.ipynb",
      "provenance": [],
      "include_colab_link": true
    },
    "kernelspec": {
      "display_name": "Python 3",
      "name": "python3"
    },
    "language_info": {
      "name": "python"
    }
  },
  "nbformat": 4,
  "nbformat_minor": 0
}
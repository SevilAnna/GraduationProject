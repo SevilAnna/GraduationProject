{
  "nbformat": 4,
  "nbformat_minor": 0,
  "metadata": {
    "colab": {
      "name": "EMU403_code.ipynb",
      "provenance": [],
      "collapsed_sections": [],
      "include_colab_link": true
    },
    "kernelspec": {
      "name": "python3",
      "display_name": "Python 3"
    },
    "language_info": {
      "name": "python"
    }
  },
  "cells": [
    {
      "cell_type": "markdown",
      "metadata": {
        "id": "view-in-github",
        "colab_type": "text"
      },
      "source": [
        "<a href=\"https://colab.research.google.com/github/SevilAnna/GraduationProject/blob/main/EMU403_code.ipynb\" target=\"_parent\"><img src=\"https://colab.research.google.com/assets/colab-badge.svg\" alt=\"Open In Colab\"/></a>"
      ]
    },
    {
      "cell_type": "markdown",
      "source": [
        "<h1>EMÜ 403 - Graduation Project</h1>\n",
        "\n",
        "---"
      ],
      "metadata": {
        "id": "ePsMaL4LMAZy"
      }
    },
    {
      "cell_type": "markdown",
      "source": [
        "\n",
        "<font color='red'> 🔴🔴 Kızlar 🔴🔴</font>      \n",
        "\n",
        "Kod üzerinde çalışacaksanız:\n",
        "- Öncelikle kodun en son versiyonunun <a href=\"https://github.com/SevilAnna/GraduationProject\">Github</a>'da olduğundan emin olun. \n",
        "- Drive'daki \"Düzenlenmiş_Dişli_Parçaları\" Excelini kendi bilgisayarınıza indirin. \n",
        "- Veriyi çekmek için aşağıdaki en az ilk 3 kutudaki kodu çalıştırın.\n",
        "- Github'a kaydederken \"main branch\"e değil, başka bir yan branch'e kaydedin.           "
      ],
      "metadata": {
        "id": "kzmKo3p4saIK"
      }
    },
    {
      "cell_type": "markdown",
      "source": [
        "## Importing Libraries & the Excel File"
      ],
      "metadata": {
        "id": "xADgo8YMFgxq"
      }
    },
    {
      "cell_type": "markdown",
      "source": [
        "### Importing libraries for the project"
      ],
      "metadata": {
        "id": "V-j53VPBBzq4"
      }
    },
    {
      "cell_type": "code",
      "source": [
        "import pandas as pd\n",
        "import numpy as np\n",
        "from numpy.random import default_rng\n",
        "rng = default_rng()\n",
        "import random\n",
        "import copy\n",
        "#!pip install geneticalgorithm\n",
        "#import geneticalgorithm as ga\n",
        "#from geneticalgorithm import geneticalgorithm as ga\n",
        "print(\"done\")"
      ],
      "metadata": {
        "id": "YCgrQU6-E8b4",
        "colab": {
          "base_uri": "https://localhost:8080/"
        },
        "outputId": "83b7a6ef-5398-4a79-cff3-19da52eabe91"
      },
      "execution_count": 1,
      "outputs": [
        {
          "output_type": "stream",
          "name": "stdout",
          "text": [
            "done\n"
          ]
        }
      ]
    },
    {
      "cell_type": "markdown",
      "source": [
        "### Importing the Excel file"
      ],
      "metadata": {
        "id": "F2mPwe7qB5uO"
      }
    },
    {
      "cell_type": "code",
      "execution_count": 2,
      "metadata": {
        "colab": {
          "resources": {
            "http://localhost:8080/nbextensions/google.colab/files.js": {
              "data": "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",
              "ok": true,
              "headers": [
                [
                  "content-type",
                  "application/javascript"
                ]
              ],
              "status": 200,
              "status_text": ""
            }
          },
          "base_uri": "https://localhost:8080/",
          "height": 74
        },
        "id": "f0XjhQIHBo92",
        "outputId": "b5aae486-056f-44aa-da21-dc4334ce3193"
      },
      "outputs": [
        {
          "output_type": "display_data",
          "data": {
            "text/plain": [
              "<IPython.core.display.HTML object>"
            ],
            "text/html": [
              "\n",
              "     <input type=\"file\" id=\"files-8c983e1e-7f10-4130-ab0f-70b2fb74acd8\" name=\"files[]\" multiple disabled\n",
              "        style=\"border:none\" />\n",
              "     <output id=\"result-8c983e1e-7f10-4130-ab0f-70b2fb74acd8\">\n",
              "      Upload widget is only available when the cell has been executed in the\n",
              "      current browser session. Please rerun this cell to enable.\n",
              "      </output>\n",
              "      <script src=\"/nbextensions/google.colab/files.js\"></script> "
            ]
          },
          "metadata": {}
        },
        {
          "output_type": "stream",
          "name": "stdout",
          "text": [
            "Saving Düzenlenmiş_Dişli_Parçaları.xlsx to Düzenlenmiş_Dişli_Parçaları (2).xlsx\n"
          ]
        }
      ],
      "source": [
        "from google.colab import files\n",
        "uploaded = files.upload()"
      ]
    },
    {
      "cell_type": "code",
      "source": [
        "import io\n",
        "df = pd.read_excel(io.BytesIO(uploaded[\"Düzenlenmiş_Dişli_Parçaları.xlsx\"]), sheet_name='Anka', header=0)\n",
        "del df['SÜRE (11 parça için)']\n",
        "del df['1 tanesi için kaç tane gerek']\n",
        "del df['PROSES']\n",
        "del df['Process time']\n",
        "pr_num = list(range(1,len(df)+1))\n",
        "df[\"Process #\"] = pr_num\n",
        "df = df.rename(columns={'Makine':'Machine', 'İşlem':'Process', 'SETUP':'Setup', \n",
        "                    'SÜRE (1 parça için)':'Processing time', 'PARÇA':'Piece'})\n",
        "df = df.reindex(columns=['Piece','Process #','Process','Machine','Setup','Processing time'])\n",
        "df"
      ],
      "metadata": {
        "id": "Qg8qyn0RB9E7",
        "colab": {
          "base_uri": "https://localhost:8080/",
          "height": 424
        },
        "outputId": "7a54e515-c9c6-441a-8642-6346df16eaf2"
      },
      "execution_count": 3,
      "outputs": [
        {
          "output_type": "execute_result",
          "data": {
            "text/plain": [
              "                                      Piece  Process #  \\\n",
              "0          UM121T900201200 GEAR ENGINE Z35           1   \n",
              "1          UM121T900201200 GEAR ENGINE Z35           2   \n",
              "2          UM121T900201200 GEAR ENGINE Z35           3   \n",
              "3          UM121T900201200 GEAR ENGINE Z35           4   \n",
              "4          UM121T900201200 GEAR ENGINE Z35           5   \n",
              "..                                      ...        ...   \n",
              "315  UM121T900204300 GEAR ALTERNATOR Z13 -2        316   \n",
              "316  UM121T900204300 GEAR ALTERNATOR Z13 -2        317   \n",
              "317  UM121T900204300 GEAR ALTERNATOR Z13 -2        318   \n",
              "318  UM121T900204300 GEAR ALTERNATOR Z13 -2        319   \n",
              "319  UM121T900204300 GEAR ALTERNATOR Z13 -2        320   \n",
              "\n",
              "                           Process Machine  Setup  Processing time  \n",
              "0       Pre-Hardening Öncesi Torna     D13    0.0         1.000000  \n",
              "1                          Yıkama      D33    0.0         0.090909  \n",
              "2    Ön Sertleştirme (Isıl İşlem)      D31    0.0         0.545455  \n",
              "3                          Yıkama      D33    0.0         0.090909  \n",
              "4         Temperleme (Isıl İşlem)      D32    0.0         0.454545  \n",
              "..                             ...     ...    ...              ...  \n",
              "315                        Yıkama      D12    0.0         0.181818  \n",
              "316                         Balans     D69    0.0         1.000000  \n",
              "317                           MPI      D65    0.0         0.454545  \n",
              "318                        Yıkama      D12    0.0         0.090909  \n",
              "319                Kalite Kontrol      662    0.0         0.500000  \n",
              "\n",
              "[320 rows x 6 columns]"
            ],
            "text/html": [
              "\n",
              "  <div id=\"df-9632d17a-4e05-4d01-8263-5d5954fef21b\">\n",
              "    <div class=\"colab-df-container\">\n",
              "      <div>\n",
              "<style scoped>\n",
              "    .dataframe tbody tr th:only-of-type {\n",
              "        vertical-align: middle;\n",
              "    }\n",
              "\n",
              "    .dataframe tbody tr th {\n",
              "        vertical-align: top;\n",
              "    }\n",
              "\n",
              "    .dataframe thead th {\n",
              "        text-align: right;\n",
              "    }\n",
              "</style>\n",
              "<table border=\"1\" class=\"dataframe\">\n",
              "  <thead>\n",
              "    <tr style=\"text-align: right;\">\n",
              "      <th></th>\n",
              "      <th>Piece</th>\n",
              "      <th>Process #</th>\n",
              "      <th>Process</th>\n",
              "      <th>Machine</th>\n",
              "      <th>Setup</th>\n",
              "      <th>Processing time</th>\n",
              "    </tr>\n",
              "  </thead>\n",
              "  <tbody>\n",
              "    <tr>\n",
              "      <th>0</th>\n",
              "      <td>UM121T900201200 GEAR ENGINE Z35</td>\n",
              "      <td>1</td>\n",
              "      <td>Pre-Hardening Öncesi Torna</td>\n",
              "      <td>D13</td>\n",
              "      <td>0.0</td>\n",
              "      <td>1.000000</td>\n",
              "    </tr>\n",
              "    <tr>\n",
              "      <th>1</th>\n",
              "      <td>UM121T900201200 GEAR ENGINE Z35</td>\n",
              "      <td>2</td>\n",
              "      <td>Yıkama</td>\n",
              "      <td>D33</td>\n",
              "      <td>0.0</td>\n",
              "      <td>0.090909</td>\n",
              "    </tr>\n",
              "    <tr>\n",
              "      <th>2</th>\n",
              "      <td>UM121T900201200 GEAR ENGINE Z35</td>\n",
              "      <td>3</td>\n",
              "      <td>Ön Sertleştirme (Isıl İşlem)</td>\n",
              "      <td>D31</td>\n",
              "      <td>0.0</td>\n",
              "      <td>0.545455</td>\n",
              "    </tr>\n",
              "    <tr>\n",
              "      <th>3</th>\n",
              "      <td>UM121T900201200 GEAR ENGINE Z35</td>\n",
              "      <td>4</td>\n",
              "      <td>Yıkama</td>\n",
              "      <td>D33</td>\n",
              "      <td>0.0</td>\n",
              "      <td>0.090909</td>\n",
              "    </tr>\n",
              "    <tr>\n",
              "      <th>4</th>\n",
              "      <td>UM121T900201200 GEAR ENGINE Z35</td>\n",
              "      <td>5</td>\n",
              "      <td>Temperleme (Isıl İşlem)</td>\n",
              "      <td>D32</td>\n",
              "      <td>0.0</td>\n",
              "      <td>0.454545</td>\n",
              "    </tr>\n",
              "    <tr>\n",
              "      <th>...</th>\n",
              "      <td>...</td>\n",
              "      <td>...</td>\n",
              "      <td>...</td>\n",
              "      <td>...</td>\n",
              "      <td>...</td>\n",
              "      <td>...</td>\n",
              "    </tr>\n",
              "    <tr>\n",
              "      <th>315</th>\n",
              "      <td>UM121T900204300 GEAR ALTERNATOR Z13 -2</td>\n",
              "      <td>316</td>\n",
              "      <td>Yıkama</td>\n",
              "      <td>D12</td>\n",
              "      <td>0.0</td>\n",
              "      <td>0.181818</td>\n",
              "    </tr>\n",
              "    <tr>\n",
              "      <th>316</th>\n",
              "      <td>UM121T900204300 GEAR ALTERNATOR Z13 -2</td>\n",
              "      <td>317</td>\n",
              "      <td>Balans</td>\n",
              "      <td>D69</td>\n",
              "      <td>0.0</td>\n",
              "      <td>1.000000</td>\n",
              "    </tr>\n",
              "    <tr>\n",
              "      <th>317</th>\n",
              "      <td>UM121T900204300 GEAR ALTERNATOR Z13 -2</td>\n",
              "      <td>318</td>\n",
              "      <td>MPI</td>\n",
              "      <td>D65</td>\n",
              "      <td>0.0</td>\n",
              "      <td>0.454545</td>\n",
              "    </tr>\n",
              "    <tr>\n",
              "      <th>318</th>\n",
              "      <td>UM121T900204300 GEAR ALTERNATOR Z13 -2</td>\n",
              "      <td>319</td>\n",
              "      <td>Yıkama</td>\n",
              "      <td>D12</td>\n",
              "      <td>0.0</td>\n",
              "      <td>0.090909</td>\n",
              "    </tr>\n",
              "    <tr>\n",
              "      <th>319</th>\n",
              "      <td>UM121T900204300 GEAR ALTERNATOR Z13 -2</td>\n",
              "      <td>320</td>\n",
              "      <td>Kalite Kontrol</td>\n",
              "      <td>662</td>\n",
              "      <td>0.0</td>\n",
              "      <td>0.500000</td>\n",
              "    </tr>\n",
              "  </tbody>\n",
              "</table>\n",
              "<p>320 rows × 6 columns</p>\n",
              "</div>\n",
              "      <button class=\"colab-df-convert\" onclick=\"convertToInteractive('df-9632d17a-4e05-4d01-8263-5d5954fef21b')\"\n",
              "              title=\"Convert this dataframe to an interactive table.\"\n",
              "              style=\"display:none;\">\n",
              "        \n",
              "  <svg xmlns=\"http://www.w3.org/2000/svg\" height=\"24px\"viewBox=\"0 0 24 24\"\n",
              "       width=\"24px\">\n",
              "    <path d=\"M0 0h24v24H0V0z\" fill=\"none\"/>\n",
              "    <path d=\"M18.56 5.44l.94 2.06.94-2.06 2.06-.94-2.06-.94-.94-2.06-.94 2.06-2.06.94zm-11 1L8.5 8.5l.94-2.06 2.06-.94-2.06-.94L8.5 2.5l-.94 2.06-2.06.94zm10 10l.94 2.06.94-2.06 2.06-.94-2.06-.94-.94-2.06-.94 2.06-2.06.94z\"/><path d=\"M17.41 7.96l-1.37-1.37c-.4-.4-.92-.59-1.43-.59-.52 0-1.04.2-1.43.59L10.3 9.45l-7.72 7.72c-.78.78-.78 2.05 0 2.83L4 21.41c.39.39.9.59 1.41.59.51 0 1.02-.2 1.41-.59l7.78-7.78 2.81-2.81c.8-.78.8-2.07 0-2.86zM5.41 20L4 18.59l7.72-7.72 1.47 1.35L5.41 20z\"/>\n",
              "  </svg>\n",
              "      </button>\n",
              "      \n",
              "  <style>\n",
              "    .colab-df-container {\n",
              "      display:flex;\n",
              "      flex-wrap:wrap;\n",
              "      gap: 12px;\n",
              "    }\n",
              "\n",
              "    .colab-df-convert {\n",
              "      background-color: #E8F0FE;\n",
              "      border: none;\n",
              "      border-radius: 50%;\n",
              "      cursor: pointer;\n",
              "      display: none;\n",
              "      fill: #1967D2;\n",
              "      height: 32px;\n",
              "      padding: 0 0 0 0;\n",
              "      width: 32px;\n",
              "    }\n",
              "\n",
              "    .colab-df-convert:hover {\n",
              "      background-color: #E2EBFA;\n",
              "      box-shadow: 0px 1px 2px rgba(60, 64, 67, 0.3), 0px 1px 3px 1px rgba(60, 64, 67, 0.15);\n",
              "      fill: #174EA6;\n",
              "    }\n",
              "\n",
              "    [theme=dark] .colab-df-convert {\n",
              "      background-color: #3B4455;\n",
              "      fill: #D2E3FC;\n",
              "    }\n",
              "\n",
              "    [theme=dark] .colab-df-convert:hover {\n",
              "      background-color: #434B5C;\n",
              "      box-shadow: 0px 1px 3px 1px rgba(0, 0, 0, 0.15);\n",
              "      filter: drop-shadow(0px 1px 2px rgba(0, 0, 0, 0.3));\n",
              "      fill: #FFFFFF;\n",
              "    }\n",
              "  </style>\n",
              "\n",
              "      <script>\n",
              "        const buttonEl =\n",
              "          document.querySelector('#df-9632d17a-4e05-4d01-8263-5d5954fef21b button.colab-df-convert');\n",
              "        buttonEl.style.display =\n",
              "          google.colab.kernel.accessAllowed ? 'block' : 'none';\n",
              "\n",
              "        async function convertToInteractive(key) {\n",
              "          const element = document.querySelector('#df-9632d17a-4e05-4d01-8263-5d5954fef21b');\n",
              "          const dataTable =\n",
              "            await google.colab.kernel.invokeFunction('convertToInteractive',\n",
              "                                                     [key], {});\n",
              "          if (!dataTable) return;\n",
              "\n",
              "          const docLinkHtml = 'Like what you see? Visit the ' +\n",
              "            '<a target=\"_blank\" href=https://colab.research.google.com/notebooks/data_table.ipynb>data table notebook</a>'\n",
              "            + ' to learn more about interactive tables.';\n",
              "          element.innerHTML = '';\n",
              "          dataTable['output_type'] = 'display_data';\n",
              "          await google.colab.output.renderOutput(dataTable, element);\n",
              "          const docLink = document.createElement('div');\n",
              "          docLink.innerHTML = docLinkHtml;\n",
              "          element.appendChild(docLink);\n",
              "        }\n",
              "      </script>\n",
              "    </div>\n",
              "  </div>\n",
              "  "
            ]
          },
          "metadata": {},
          "execution_count": 3
        }
      ]
    },
    {
      "cell_type": "markdown",
      "source": [
        "## Create Chromosomes"
      ],
      "metadata": {
        "id": "3gQeCladFZsa"
      }
    },
    {
      "cell_type": "code",
      "source": [
        "m_list = np.unique(np.array(df[\"Machine\"]))                         # Each machine needed\n",
        "m_num_list = [1, 2, 1, 4, 3, 2, 3, 3, 3, 2, 2, 1, 1, 1, 2, 1, 1]    # How many there're of each machine (done manually now; to automate later)\n",
        "print(len(m_list),m_list)\n",
        "print(len(m_num_list),m_num_list)"
      ],
      "metadata": {
        "colab": {
          "base_uri": "https://localhost:8080/"
        },
        "id": "WqMVoYmHOp-g",
        "outputId": "63ef2bd0-2546-4a39-c020-b79b6d174afb"
      },
      "execution_count": 4,
      "outputs": [
        {
          "output_type": "stream",
          "name": "stdout",
          "text": [
            "17 ['662' 'D11' 'D12' 'D13' 'D15' 'D17' 'D27' 'D31' 'D32' 'D33' 'D41' 'D43'\n",
            " 'D44' 'D47' 'D65' 'D69' 'Nital Etche, Hydrojen Embr.']\n",
            "17 [1, 2, 1, 4, 3, 2, 3, 3, 3, 2, 2, 1, 1, 1, 2, 1, 1]\n"
          ]
        }
      ]
    },
    {
      "cell_type": "code",
      "source": [
        "# create a dictionary for each machine (including duplicates) & their processes\n",
        "all_machines = {}\n",
        "n = 0\n",
        "for m in m_list:\n",
        "  m_num = m_num_list[n]\n",
        "  if m_num > 0:\n",
        "    all_machines[m] = []\n",
        "    # Adding processes to the machines (but not to duplicates)\n",
        "    for r in range(len(df[\"Machine\"])):\n",
        "      if m == df.iloc[r][\"Machine\"]:\n",
        "        all_machines[m].append(r+1)\n",
        "  # add duplicate machines without the processes\n",
        "  if m_num > 1:\n",
        "    m1 = m+\"-1\"\n",
        "    all_machines[m1] = all_machines[m]\n",
        "    all_machines.pop(m)\n",
        "    if m_num > 1:\n",
        "      m2 = m+\"-2\"\n",
        "      all_machines[m2] = []\n",
        "    if m_num > 2:\n",
        "      m3 = m+\"-3\"\n",
        "      all_machines[m3] = []\n",
        "    if m_num > 3:\n",
        "      m4 = m+\"-4\"\n",
        "      all_machines[m4] = []   # later add more if there're 4+ of a certain machine ---> or just write a function for this \n",
        "  n += 1\n",
        "   \n",
        "for k in all_machines:\n",
        "  print(k,\"\\t\",all_machines[k])"
      ],
      "metadata": {
        "colab": {
          "base_uri": "https://localhost:8080/"
        },
        "id": "ScOeU8KWvn1S",
        "outputId": "778e9367-9c95-46db-af9d-99eb201c6ce2"
      },
      "execution_count": 5,
      "outputs": [
        {
          "output_type": "stream",
          "name": "stdout",
          "text": [
            "662 \t [26, 32, 58, 64, 90, 96, 122, 128, 154, 160, 186, 192, 218, 224, 250, 256, 282, 288, 314, 320]\n",
            "D11-1 \t [11, 23, 43, 55, 75, 87, 107, 119, 139, 151, 171, 183, 203, 215, 235, 247, 267, 279, 299, 311]\n",
            "D11-2 \t []\n",
            "D12 \t [13, 24, 28, 31, 45, 56, 60, 63, 77, 88, 92, 95, 109, 120, 124, 127, 141, 152, 156, 159, 173, 184, 188, 191, 205, 216, 220, 223, 237, 248, 252, 255, 269, 280, 284, 287, 301, 312, 316, 319]\n",
            "D13-1 \t [1, 7, 33, 39, 65, 71, 97, 103, 129, 135, 161, 167, 193, 199, 225, 231, 257, 263, 289, 295]\n",
            "D13-2 \t []\n",
            "D13-3 \t []\n",
            "D13-4 \t []\n",
            "D15-1 \t [14, 20, 25, 46, 52, 57, 78, 84, 89, 110, 116, 121, 142, 148, 153, 174, 180, 185, 206, 212, 217, 238, 244, 249, 270, 276, 281, 302, 308, 313]\n",
            "D15-2 \t []\n",
            "D15-3 \t []\n",
            "D17-1 \t [10, 22, 42, 54, 74, 86, 106, 118, 138, 150, 170, 182, 202, 214, 234, 246, 266, 278, 298, 310]\n",
            "D17-2 \t []\n",
            "D27-1 \t [21, 53, 85, 117, 149, 181, 213, 245, 277, 309]\n",
            "D27-2 \t []\n",
            "D27-3 \t []\n",
            "D31-1 \t [3, 15, 35, 47, 67, 79, 99, 111, 131, 143, 163, 175, 195, 207, 227, 239, 259, 271, 291, 303]\n",
            "D31-2 \t []\n",
            "D31-3 \t []\n",
            "D32-1 \t [5, 18, 37, 50, 69, 82, 101, 114, 133, 146, 165, 178, 197, 210, 229, 242, 261, 274, 293, 306]\n",
            "D32-2 \t []\n",
            "D32-3 \t []\n",
            "D33-1 \t [2, 4, 16, 34, 36, 48, 66, 68, 80, 98, 100, 112, 130, 132, 144, 162, 164, 176, 194, 196, 208, 226, 228, 240, 258, 260, 272, 290, 292, 304]\n",
            "D33-2 \t []\n",
            "D41-1 \t [17, 49, 81, 113, 145, 177, 209, 241, 273, 305]\n",
            "D41-2 \t []\n",
            "D43 \t [9, 41, 73, 105, 137, 169, 201, 233, 265, 297]\n",
            "D44 \t [8, 12, 40, 44, 72, 76, 104, 108, 136, 140, 168, 172, 200, 204, 232, 236, 264, 268, 296, 300]\n",
            "D47 \t [6, 19, 38, 51, 70, 83, 102, 115, 134, 147, 166, 179, 198, 211, 230, 243, 262, 275, 294, 307]\n",
            "D65-1 \t [30, 62, 94, 126, 158, 190, 222, 254, 286, 318]\n",
            "D65-2 \t []\n",
            "D69 \t [29, 61, 93, 125, 157, 189, 221, 253, 285, 317]\n",
            "Nital Etche, Hydrojen Embr. \t [27, 59, 91, 123, 155, 187, 219, 251, 283, 315]\n"
          ]
        }
      ]
    },
    {
      "cell_type": "code",
      "source": [
        "machines = copy.deepcopy(all_machines)\n",
        "\n",
        "# initialize genetic algorithm where each gene is a machine's schedule\n",
        "num_genes = len(machines)\n",
        "num_chro = 8\n",
        "popu_size = (num_chro,num_genes)\n",
        "popu = []\n",
        "\n",
        "\n",
        "for i in range(num_chro):\n",
        "  popu.append([machines])\n",
        "\n",
        "# shuffle the order of processes in each machine/gene except for the first chromosome, and print results\n",
        "new_popu = []\n",
        "for i in range(len(popu)):\n",
        "  new_popu.append([0])\n",
        "first_one = True\n",
        "for i in range(len(popu)):\n",
        "  if first_one == False:\n",
        "    for j in popu[i]:\n",
        "      for k in j:\n",
        "        temp_l = random.sample(copy.deepcopy(list(j[k])),len(j[k]))\n",
        "        j[k] = copy.deepcopy(temp_l)\n",
        "  first_one = False\n",
        "  new_popu[i] = copy.deepcopy(popu[i])\n",
        "\n",
        "for c in new_popu:\n",
        "  print(c)"
      ],
      "metadata": {
        "colab": {
          "base_uri": "https://localhost:8080/"
        },
        "id": "69QLThuy8v3k",
        "outputId": "7cfdeec4-6587-4df1-fafc-4ece329bd165"
      },
      "execution_count": 6,
      "outputs": [
        {
          "output_type": "stream",
          "name": "stdout",
          "text": [
            "[{'662': [26, 32, 58, 64, 90, 96, 122, 128, 154, 160, 186, 192, 218, 224, 250, 256, 282, 288, 314, 320], 'D11-1': [11, 23, 43, 55, 75, 87, 107, 119, 139, 151, 171, 183, 203, 215, 235, 247, 267, 279, 299, 311], 'D11-2': [], 'D12': [13, 24, 28, 31, 45, 56, 60, 63, 77, 88, 92, 95, 109, 120, 124, 127, 141, 152, 156, 159, 173, 184, 188, 191, 205, 216, 220, 223, 237, 248, 252, 255, 269, 280, 284, 287, 301, 312, 316, 319], 'D13-1': [1, 7, 33, 39, 65, 71, 97, 103, 129, 135, 161, 167, 193, 199, 225, 231, 257, 263, 289, 295], 'D13-2': [], 'D13-3': [], 'D13-4': [], 'D15-1': [14, 20, 25, 46, 52, 57, 78, 84, 89, 110, 116, 121, 142, 148, 153, 174, 180, 185, 206, 212, 217, 238, 244, 249, 270, 276, 281, 302, 308, 313], 'D15-2': [], 'D15-3': [], 'D17-1': [10, 22, 42, 54, 74, 86, 106, 118, 138, 150, 170, 182, 202, 214, 234, 246, 266, 278, 298, 310], 'D17-2': [], 'D27-1': [21, 53, 85, 117, 149, 181, 213, 245, 277, 309], 'D27-2': [], 'D27-3': [], 'D31-1': [3, 15, 35, 47, 67, 79, 99, 111, 131, 143, 163, 175, 195, 207, 227, 239, 259, 271, 291, 303], 'D31-2': [], 'D31-3': [], 'D32-1': [5, 18, 37, 50, 69, 82, 101, 114, 133, 146, 165, 178, 197, 210, 229, 242, 261, 274, 293, 306], 'D32-2': [], 'D32-3': [], 'D33-1': [2, 4, 16, 34, 36, 48, 66, 68, 80, 98, 100, 112, 130, 132, 144, 162, 164, 176, 194, 196, 208, 226, 228, 240, 258, 260, 272, 290, 292, 304], 'D33-2': [], 'D41-1': [17, 49, 81, 113, 145, 177, 209, 241, 273, 305], 'D41-2': [], 'D43': [9, 41, 73, 105, 137, 169, 201, 233, 265, 297], 'D44': [8, 12, 40, 44, 72, 76, 104, 108, 136, 140, 168, 172, 200, 204, 232, 236, 264, 268, 296, 300], 'D47': [6, 19, 38, 51, 70, 83, 102, 115, 134, 147, 166, 179, 198, 211, 230, 243, 262, 275, 294, 307], 'D65-1': [30, 62, 94, 126, 158, 190, 222, 254, 286, 318], 'D65-2': [], 'D69': [29, 61, 93, 125, 157, 189, 221, 253, 285, 317], 'Nital Etche, Hydrojen Embr.': [27, 59, 91, 123, 155, 187, 219, 251, 283, 315]}]\n",
            "[{'662': [32, 160, 96, 256, 154, 218, 314, 26, 282, 192, 250, 58, 128, 64, 288, 224, 186, 122, 320, 90], 'D11-1': [87, 107, 171, 299, 267, 235, 23, 279, 247, 311, 55, 139, 183, 75, 151, 203, 215, 11, 43, 119], 'D11-2': [], 'D12': [255, 124, 188, 13, 159, 269, 152, 287, 31, 312, 127, 88, 205, 45, 301, 184, 28, 56, 252, 24, 319, 280, 92, 63, 248, 156, 316, 216, 223, 191, 220, 237, 173, 77, 141, 120, 60, 109, 95, 284], 'D13-1': [7, 71, 295, 199, 231, 1, 135, 225, 257, 193, 103, 129, 161, 33, 65, 97, 39, 289, 167, 263], 'D13-2': [], 'D13-3': [], 'D13-4': [], 'D15-1': [276, 142, 52, 25, 270, 313, 244, 78, 153, 212, 84, 110, 185, 116, 14, 89, 148, 206, 302, 308, 174, 281, 121, 20, 249, 238, 180, 46, 57, 217], 'D15-2': [], 'D15-3': [], 'D17-1': [42, 106, 86, 54, 118, 170, 310, 202, 10, 150, 266, 246, 298, 138, 22, 278, 74, 234, 214, 182], 'D17-2': [], 'D27-1': [117, 309, 85, 213, 53, 277, 21, 149, 181, 245], 'D27-2': [], 'D27-3': [], 'D31-1': [79, 67, 271, 35, 303, 227, 111, 239, 15, 3, 99, 163, 291, 195, 131, 207, 143, 175, 47, 259], 'D31-2': [], 'D31-3': [], 'D32-1': [69, 114, 82, 101, 306, 261, 178, 242, 274, 37, 229, 197, 133, 18, 293, 50, 5, 210, 165, 146], 'D32-2': [], 'D32-3': [], 'D33-1': [98, 196, 292, 112, 258, 34, 272, 48, 162, 68, 130, 132, 176, 290, 194, 2, 260, 80, 144, 100, 164, 208, 228, 240, 304, 36, 226, 4, 16, 66], 'D33-2': [], 'D41-1': [49, 209, 177, 113, 17, 145, 273, 305, 81, 241], 'D41-2': [], 'D43': [105, 137, 9, 169, 73, 201, 41, 233, 297, 265], 'D44': [8, 232, 44, 12, 136, 172, 300, 200, 236, 76, 140, 268, 108, 104, 168, 204, 72, 264, 40, 296], 'D47': [294, 38, 102, 198, 230, 19, 83, 51, 70, 147, 6, 166, 211, 115, 262, 275, 243, 179, 307, 134], 'D65-1': [190, 94, 126, 158, 222, 30, 318, 286, 254, 62], 'D65-2': [], 'D69': [61, 29, 93, 221, 317, 253, 285, 189, 157, 125], 'Nital Etche, Hydrojen Embr.': [59, 219, 283, 155, 91, 123, 27, 187, 315, 251]}]\n",
            "[{'662': [64, 128, 26, 160, 122, 250, 256, 186, 218, 90, 224, 96, 154, 192, 58, 282, 288, 314, 32, 320], 'D11-1': [311, 235, 11, 299, 55, 215, 139, 267, 107, 183, 171, 247, 23, 87, 43, 203, 75, 279, 119, 151], 'D11-2': [], 'D12': [141, 77, 237, 31, 92, 13, 188, 152, 159, 24, 95, 284, 56, 109, 312, 269, 301, 252, 220, 28, 63, 88, 156, 45, 316, 216, 60, 205, 127, 280, 287, 173, 248, 120, 319, 124, 184, 223, 191, 255], 'D13-1': [225, 199, 263, 161, 167, 65, 103, 129, 135, 97, 33, 7, 1, 289, 295, 193, 231, 39, 257, 71], 'D13-2': [], 'D13-3': [], 'D13-4': [], 'D15-1': [174, 142, 25, 14, 84, 148, 57, 20, 212, 121, 244, 89, 153, 185, 276, 46, 281, 249, 302, 116, 270, 313, 52, 110, 206, 308, 180, 217, 78, 238], 'D15-2': [], 'D15-3': [], 'D17-1': [310, 74, 278, 150, 22, 214, 118, 266, 298, 42, 106, 170, 86, 138, 234, 10, 202, 54, 182, 246], 'D17-2': [], 'D27-1': [213, 149, 53, 85, 117, 181, 245, 309, 277, 21], 'D27-2': [], 'D27-3': [], 'D31-1': [239, 99, 259, 15, 163, 3, 143, 35, 175, 67, 131, 111, 227, 291, 47, 195, 207, 271, 79, 303], 'D31-2': [], 'D31-3': [], 'D32-1': [306, 242, 229, 37, 18, 82, 210, 133, 69, 146, 293, 197, 5, 50, 101, 114, 274, 178, 261, 165], 'D32-2': [], 'D32-3': [], 'D33-1': [130, 68, 112, 162, 226, 98, 292, 194, 196, 258, 164, 176, 272, 240, 4, 2, 100, 260, 290, 208, 16, 34, 80, 228, 36, 48, 66, 144, 132, 304], 'D33-2': [], 'D41-1': [273, 241, 177, 49, 113, 17, 81, 145, 305, 209], 'D41-2': [], 'D43': [137, 169, 41, 233, 105, 73, 201, 297, 9, 265], 'D44': [12, 76, 236, 232, 204, 268, 172, 40, 8, 300, 168, 72, 200, 140, 264, 296, 136, 108, 44, 104], 'D47': [230, 211, 179, 166, 6, 134, 275, 147, 262, 102, 115, 243, 19, 38, 51, 83, 307, 294, 70, 198], 'D65-1': [318, 30, 222, 62, 254, 158, 190, 286, 94, 126], 'D65-2': [], 'D69': [157, 189, 125, 93, 221, 253, 29, 317, 285, 61], 'Nital Etche, Hydrojen Embr.': [315, 283, 59, 155, 91, 123, 251, 187, 219, 27]}]\n",
            "[{'662': [58, 122, 288, 154, 282, 90, 186, 96, 320, 26, 160, 250, 218, 224, 64, 256, 32, 128, 314, 192], 'D11-1': [311, 215, 43, 55, 151, 235, 299, 75, 203, 247, 279, 183, 107, 171, 87, 119, 267, 23, 139, 11], 'D11-2': [], 'D12': [13, 31, 60, 248, 319, 127, 280, 109, 159, 95, 152, 124, 312, 191, 316, 220, 77, 287, 223, 88, 205, 173, 63, 184, 141, 156, 269, 92, 284, 56, 216, 252, 237, 120, 45, 301, 24, 28, 255, 188], 'D13-1': [135, 97, 39, 193, 71, 263, 1, 129, 65, 33, 161, 199, 225, 103, 167, 257, 289, 231, 7, 295], 'D13-2': [], 'D13-3': [], 'D13-4': [], 'D15-1': [174, 249, 217, 244, 89, 46, 20, 313, 302, 52, 206, 276, 116, 148, 308, 142, 57, 185, 25, 212, 121, 153, 281, 180, 110, 238, 270, 84, 14, 78], 'D15-2': [], 'D15-3': [], 'D17-1': [202, 118, 182, 138, 214, 266, 298, 86, 246, 42, 310, 54, 278, 106, 22, 170, 74, 234, 10, 150], 'D17-2': [], 'D27-1': [245, 149, 85, 309, 21, 117, 181, 213, 277, 53], 'D27-2': [], 'D27-3': [], 'D31-1': [259, 15, 67, 195, 3, 99, 227, 303, 207, 239, 131, 47, 175, 111, 291, 271, 143, 79, 35, 163], 'D31-2': [], 'D31-3': [], 'D32-1': [82, 210, 50, 114, 197, 146, 18, 69, 293, 165, 242, 133, 5, 306, 178, 101, 274, 261, 229, 37], 'D32-2': [], 'D32-3': [], 'D33-1': [112, 272, 144, 240, 2, 80, 16, 290, 258, 304, 208, 162, 260, 100, 4, 66, 194, 130, 98, 164, 226, 176, 132, 196, 292, 68, 228, 48, 34, 36], 'D33-2': [], 'D41-1': [49, 17, 145, 305, 273, 177, 209, 81, 241, 113], 'D41-2': [], 'D43': [169, 297, 9, 41, 73, 105, 137, 233, 201, 265], 'D44': [12, 44, 76, 72, 200, 236, 232, 300, 140, 136, 204, 108, 104, 8, 168, 40, 264, 268, 296, 172], 'D47': [51, 134, 307, 70, 166, 294, 275, 38, 211, 19, 83, 115, 230, 147, 179, 6, 198, 102, 262, 243], 'D65-1': [254, 62, 190, 222, 286, 126, 318, 94, 158, 30], 'D65-2': [], 'D69': [285, 157, 221, 61, 93, 253, 29, 317, 125, 189], 'Nital Etche, Hydrojen Embr.': [123, 315, 283, 155, 91, 251, 187, 59, 27, 219]}]\n",
            "[{'662': [64, 218, 314, 282, 224, 320, 58, 96, 154, 186, 90, 160, 256, 288, 128, 26, 192, 122, 32, 250], 'D11-1': [215, 203, 311, 11, 151, 171, 43, 23, 235, 119, 75, 183, 139, 299, 247, 87, 55, 107, 279, 267], 'D11-2': [], 'D12': [156, 120, 319, 109, 312, 287, 205, 24, 31, 223, 316, 255, 92, 63, 216, 152, 280, 56, 13, 184, 141, 60, 237, 220, 301, 173, 252, 284, 88, 95, 127, 159, 248, 269, 45, 124, 77, 188, 28, 191], 'D13-1': [199, 1, 97, 263, 289, 161, 103, 39, 129, 167, 71, 231, 257, 135, 65, 193, 33, 7, 295, 225], 'D13-2': [], 'D13-3': [], 'D13-4': [], 'D15-1': [249, 244, 14, 153, 57, 148, 270, 308, 110, 206, 116, 238, 174, 20, 180, 302, 84, 25, 313, 281, 185, 78, 217, 52, 121, 142, 212, 276, 89, 46], 'D15-2': [], 'D15-3': [], 'D17-1': [170, 74, 266, 138, 54, 42, 182, 298, 150, 118, 246, 22, 10, 86, 278, 214, 202, 106, 310, 234], 'D17-2': [], 'D27-1': [21, 309, 149, 181, 85, 117, 277, 53, 245, 213], 'D27-2': [], 'D27-3': [], 'D31-1': [227, 259, 131, 15, 99, 303, 143, 271, 207, 195, 239, 3, 163, 35, 291, 67, 79, 47, 175, 111], 'D31-2': [], 'D31-3': [], 'D32-1': [165, 229, 18, 50, 114, 261, 37, 82, 5, 133, 69, 178, 306, 210, 242, 274, 146, 101, 293, 197], 'D32-2': [], 'D32-3': [], 'D33-1': [98, 132, 68, 228, 196, 2, 272, 226, 240, 304, 66, 164, 80, 34, 194, 16, 176, 292, 290, 112, 258, 48, 130, 100, 162, 208, 144, 260, 36, 4], 'D33-2': [], 'D41-1': [49, 177, 209, 241, 145, 273, 17, 81, 305, 113], 'D41-2': [], 'D43': [73, 105, 265, 137, 297, 169, 201, 9, 233, 41], 'D44': [168, 296, 236, 264, 140, 204, 200, 8, 300, 104, 40, 232, 268, 172, 76, 136, 72, 44, 12, 108], 'D47': [38, 294, 211, 275, 6, 166, 115, 243, 262, 147, 307, 19, 134, 102, 70, 198, 51, 83, 230, 179], 'D65-1': [158, 62, 222, 126, 254, 318, 30, 190, 286, 94], 'D65-2': [], 'D69': [221, 157, 93, 253, 285, 189, 61, 317, 29, 125], 'Nital Etche, Hydrojen Embr.': [251, 59, 283, 187, 123, 315, 155, 219, 27, 91]}]\n",
            "[{'662': [250, 282, 192, 32, 320, 58, 128, 186, 218, 64, 288, 90, 154, 314, 26, 122, 256, 160, 224, 96], 'D11-1': [171, 43, 311, 279, 203, 235, 87, 267, 215, 55, 75, 119, 11, 151, 183, 23, 247, 107, 299, 139], 'D11-2': [], 'D12': [63, 109, 237, 156, 248, 255, 287, 319, 92, 220, 127, 141, 120, 280, 28, 45, 24, 216, 88, 124, 205, 184, 269, 60, 252, 316, 56, 301, 284, 188, 77, 31, 312, 152, 13, 173, 223, 95, 159, 191], 'D13-1': [257, 135, 263, 231, 225, 1, 289, 295, 129, 199, 33, 39, 167, 97, 65, 161, 71, 103, 7, 193], 'D13-2': [], 'D13-3': [], 'D13-4': [], 'D15-1': [46, 20, 249, 276, 78, 110, 313, 121, 14, 270, 142, 212, 148, 238, 217, 52, 84, 302, 25, 116, 308, 89, 57, 244, 206, 153, 281, 185, 180, 174], 'D15-2': [], 'D15-3': [], 'D17-1': [182, 86, 278, 150, 170, 106, 298, 214, 10, 234, 42, 22, 54, 202, 138, 118, 74, 310, 266, 246], 'D17-2': [], 'D27-1': [117, 309, 181, 245, 53, 149, 213, 21, 277, 85], 'D27-2': [], 'D27-3': [], 'D31-1': [111, 259, 35, 195, 79, 239, 291, 67, 3, 15, 143, 163, 99, 207, 303, 175, 47, 271, 131, 227], 'D31-2': [], 'D31-3': [], 'D32-1': [261, 242, 37, 197, 82, 274, 50, 210, 133, 165, 101, 229, 293, 5, 178, 146, 114, 18, 69, 306], 'D32-2': [], 'D32-3': [], 'D33-1': [132, 100, 48, 208, 130, 2, 36, 260, 240, 194, 16, 68, 258, 80, 228, 34, 304, 226, 292, 162, 112, 66, 272, 176, 196, 164, 144, 98, 4, 290], 'D33-2': [], 'D41-1': [177, 273, 113, 305, 145, 49, 81, 209, 17, 241], 'D41-2': [], 'D43': [265, 41, 233, 73, 137, 9, 297, 169, 201, 105], 'D44': [268, 8, 140, 204, 40, 168, 232, 12, 264, 296, 44, 200, 172, 300, 104, 72, 136, 236, 76, 108], 'D47': [275, 147, 198, 83, 230, 51, 179, 166, 134, 294, 19, 70, 211, 243, 262, 38, 115, 307, 6, 102], 'D65-1': [62, 126, 318, 94, 158, 254, 190, 222, 30, 286], 'D65-2': [], 'D69': [125, 93, 317, 253, 285, 221, 61, 189, 157, 29], 'Nital Etche, Hydrojen Embr.': [91, 251, 59, 27, 123, 187, 155, 283, 315, 219]}]\n",
            "[{'662': [250, 96, 128, 160, 218, 154, 282, 122, 224, 90, 186, 256, 288, 64, 58, 26, 32, 314, 320, 192], 'D11-1': [11, 247, 235, 171, 299, 279, 43, 215, 267, 23, 55, 139, 119, 203, 75, 183, 87, 311, 151, 107], 'D11-2': [], 'D12': [223, 287, 77, 237, 13, 173, 269, 88, 124, 45, 284, 319, 109, 312, 56, 188, 95, 24, 301, 184, 205, 316, 216, 156, 60, 252, 255, 141, 92, 152, 28, 127, 159, 191, 220, 248, 31, 63, 120, 280], 'D13-1': [225, 161, 257, 231, 295, 135, 193, 71, 39, 65, 129, 7, 1, 33, 103, 289, 199, 97, 263, 167], 'D13-2': [], 'D13-3': [], 'D13-4': [], 'D15-1': [217, 270, 313, 174, 238, 25, 84, 276, 110, 116, 281, 206, 52, 185, 212, 14, 302, 180, 89, 308, 46, 78, 57, 153, 249, 244, 20, 142, 121, 148], 'D15-2': [], 'D15-3': [], 'D17-1': [138, 150, 106, 246, 234, 278, 214, 118, 182, 54, 42, 10, 266, 170, 22, 202, 298, 86, 74, 310], 'D17-2': [], 'D27-1': [117, 213, 309, 149, 53, 277, 85, 245, 21, 181], 'D27-2': [], 'D27-3': [], 'D31-1': [207, 239, 99, 15, 227, 195, 271, 131, 35, 3, 175, 291, 47, 111, 67, 163, 143, 259, 303, 79], 'D31-2': [], 'D31-3': [], 'D32-1': [178, 69, 210, 82, 101, 50, 165, 306, 18, 261, 229, 133, 242, 5, 114, 293, 197, 146, 274, 37], 'D32-2': [], 'D32-3': [], 'D33-1': [240, 36, 48, 228, 100, 34, 208, 66, 304, 176, 132, 196, 194, 290, 260, 98, 226, 112, 292, 16, 68, 258, 130, 144, 164, 272, 80, 162, 4, 2], 'D33-2': [], 'D41-1': [241, 81, 145, 273, 209, 177, 305, 113, 49, 17], 'D41-2': [], 'D43': [265, 137, 233, 105, 73, 9, 41, 169, 201, 297], 'D44': [8, 72, 200, 76, 44, 204, 264, 108, 268, 12, 104, 172, 296, 232, 140, 168, 236, 40, 300, 136], 'D47': [115, 198, 38, 262, 19, 134, 230, 6, 83, 70, 307, 166, 102, 51, 243, 147, 211, 294, 179, 275], 'D65-1': [286, 126, 94, 158, 190, 30, 62, 254, 318, 222], 'D65-2': [], 'D69': [93, 317, 125, 29, 285, 221, 189, 253, 61, 157], 'Nital Etche, Hydrojen Embr.': [91, 155, 187, 251, 59, 283, 219, 123, 315, 27]}]\n",
            "[{'662': [224, 154, 282, 32, 320, 160, 58, 288, 192, 96, 186, 250, 128, 90, 122, 64, 218, 256, 314, 26], 'D11-1': [75, 11, 119, 43, 267, 215, 107, 279, 139, 203, 235, 247, 55, 183, 151, 23, 171, 299, 311, 87], 'D11-2': [], 'D12': [63, 45, 173, 13, 301, 269, 88, 316, 280, 92, 252, 127, 237, 248, 152, 255, 77, 56, 205, 188, 312, 191, 284, 216, 60, 28, 184, 220, 24, 120, 124, 31, 319, 159, 109, 223, 287, 141, 95, 156], 'D13-1': [231, 7, 257, 263, 295, 33, 1, 167, 199, 71, 289, 97, 225, 39, 65, 135, 161, 103, 129, 193], 'D13-2': [], 'D13-3': [], 'D13-4': [], 'D15-1': [25, 110, 308, 116, 14, 153, 302, 313, 212, 142, 270, 57, 46, 281, 206, 89, 238, 276, 52, 249, 78, 121, 84, 174, 180, 20, 148, 217, 185, 244], 'D15-2': [], 'D15-3': [], 'D17-1': [106, 22, 234, 10, 310, 150, 214, 298, 278, 42, 182, 74, 266, 138, 118, 86, 246, 202, 170, 54], 'D17-2': [], 'D27-1': [117, 181, 85, 277, 213, 21, 245, 53, 149, 309], 'D27-2': [], 'D27-3': [], 'D31-1': [227, 163, 271, 131, 291, 47, 143, 79, 67, 111, 35, 175, 15, 259, 99, 303, 195, 3, 239, 207], 'D31-2': [], 'D31-3': [], 'D32-1': [229, 133, 146, 82, 165, 178, 293, 114, 197, 18, 274, 101, 5, 306, 242, 69, 37, 261, 210, 50], 'D32-2': [], 'D32-3': [], 'D33-1': [228, 196, 194, 292, 290, 132, 208, 272, 68, 258, 16, 36, 100, 66, 176, 144, 2, 34, 4, 80, 260, 164, 98, 226, 304, 48, 112, 162, 130, 240], 'D33-2': [], 'D41-1': [273, 17, 145, 209, 305, 241, 113, 49, 81, 177], 'D41-2': [], 'D43': [105, 169, 137, 265, 41, 201, 9, 73, 297, 233], 'D44': [200, 8, 72, 44, 12, 76, 296, 300, 264, 140, 104, 232, 172, 136, 108, 204, 168, 40, 236, 268], 'D47': [147, 243, 70, 115, 307, 6, 198, 19, 211, 262, 179, 275, 230, 102, 38, 134, 51, 166, 294, 83], 'D65-1': [126, 222, 190, 158, 62, 318, 30, 254, 286, 94], 'D65-2': [], 'D69': [29, 61, 285, 317, 221, 253, 93, 189, 125, 157], 'Nital Etche, Hydrojen Embr.': [123, 219, 187, 91, 155, 251, 59, 27, 283, 315]}]\n"
          ]
        }
      ]
    },
    {
      "cell_type": "markdown",
      "source": [
        "note: might need to remove the outer list from chromosomes"
      ],
      "metadata": {
        "id": "nB3L461Y5DFg"
      }
    },
    {
      "cell_type": "markdown",
      "source": [
        " ."
      ],
      "metadata": {
        "id": "k1BQet-o5Hx5"
      }
    },
    {
      "cell_type": "markdown",
      "source": [
        "## Fitness function"
      ],
      "metadata": {
        "id": "AfwuGR1U_lMI"
      }
    },
    {
      "cell_type": "markdown",
      "source": [
        "### Make lists for the processes in each piece"
      ],
      "metadata": {
        "id": "k-bU6bIMDTSW"
      }
    },
    {
      "cell_type": "code",
      "source": [
        "a_list = np.unique(np.array(df[\"Piece\"]))\n",
        "num = df[\"Piece\"].nunique(a_list[0])\n",
        "u_num = [0]*num\n",
        "for i in range(9):\n",
        "  for item in df[\"Piece\"]:\n",
        "    if item == a_list[i]: \n",
        "      u_num[i] += 1\n",
        "  #print(u_num[i],\"processes for piece\",a_list[i])"
      ],
      "metadata": {
        "id": "4w26d8mzT8mP"
      },
      "execution_count": 7,
      "outputs": []
    },
    {
      "cell_type": "code",
      "source": [
        "# process numbers in each piece\n",
        "\n",
        "processes = []\n",
        "for i in range(num):\n",
        "  processes.append([])\n",
        "#print(processes)\n",
        "\n",
        "j = 0\n",
        "k = 0\n",
        "total = 0\n",
        "for i in range(len(u_num)):\n",
        "  total += u_num[i]\n",
        "  while j < total:\n",
        "    if j == total:\n",
        "      k += 1\n",
        "    #print(i,j,k,total,processes)\n",
        "    #print(processes[i])\n",
        "    processes[i].append(j+1)\n",
        "    j += 1\n",
        "  #print(total)\n",
        "\n",
        "for i in processes:\n",
        "  print(len(i),i)"
      ],
      "metadata": {
        "colab": {
          "base_uri": "https://localhost:8080/"
        },
        "id": "McnODvI5T_5T",
        "outputId": "8b60e732-25e5-423a-bdc4-58782cd20751"
      },
      "execution_count": 8,
      "outputs": [
        {
          "output_type": "stream",
          "name": "stdout",
          "text": [
            "32 [1, 2, 3, 4, 5, 6, 7, 8, 9, 10, 11, 12, 13, 14, 15, 16, 17, 18, 19, 20, 21, 22, 23, 24, 25, 26, 27, 28, 29, 30, 31, 32]\n",
            "32 [33, 34, 35, 36, 37, 38, 39, 40, 41, 42, 43, 44, 45, 46, 47, 48, 49, 50, 51, 52, 53, 54, 55, 56, 57, 58, 59, 60, 61, 62, 63, 64]\n",
            "64 [65, 66, 67, 68, 69, 70, 71, 72, 73, 74, 75, 76, 77, 78, 79, 80, 81, 82, 83, 84, 85, 86, 87, 88, 89, 90, 91, 92, 93, 94, 95, 96, 97, 98, 99, 100, 101, 102, 103, 104, 105, 106, 107, 108, 109, 110, 111, 112, 113, 114, 115, 116, 117, 118, 119, 120, 121, 122, 123, 124, 125, 126, 127, 128]\n",
            "32 [129, 130, 131, 132, 133, 134, 135, 136, 137, 138, 139, 140, 141, 142, 143, 144, 145, 146, 147, 148, 149, 150, 151, 152, 153, 154, 155, 156, 157, 158, 159, 160]\n",
            "32 [161, 162, 163, 164, 165, 166, 167, 168, 169, 170, 171, 172, 173, 174, 175, 176, 177, 178, 179, 180, 181, 182, 183, 184, 185, 186, 187, 188, 189, 190, 191, 192]\n",
            "32 [193, 194, 195, 196, 197, 198, 199, 200, 201, 202, 203, 204, 205, 206, 207, 208, 209, 210, 211, 212, 213, 214, 215, 216, 217, 218, 219, 220, 221, 222, 223, 224]\n",
            "32 [225, 226, 227, 228, 229, 230, 231, 232, 233, 234, 235, 236, 237, 238, 239, 240, 241, 242, 243, 244, 245, 246, 247, 248, 249, 250, 251, 252, 253, 254, 255, 256]\n",
            "32 [257, 258, 259, 260, 261, 262, 263, 264, 265, 266, 267, 268, 269, 270, 271, 272, 273, 274, 275, 276, 277, 278, 279, 280, 281, 282, 283, 284, 285, 286, 287, 288]\n",
            "32 [289, 290, 291, 292, 293, 294, 295, 296, 297, 298, 299, 300, 301, 302, 303, 304, 305, 306, 307, 308, 309, 310, 311, 312, 313, 314, 315, 316, 317, 318, 319, 320]\n"
          ]
        }
      ]
    },
    {
      "cell_type": "markdown",
      "source": [
        "### Calculating times for each process"
      ],
      "metadata": {
        "id": "lsdaXlLV5Oky"
      }
    },
    {
      "cell_type": "code",
      "source": [
        "# setup, processing & total times for each process (from 1 to 320)\n",
        "\n",
        "pr_times = list(df[\"Processing time\"])\n",
        "stp_times = list(df[\"Setup\"])\n",
        "t_times = []\n",
        "for i in range(len(pr_times)):\n",
        "  t_times.append(pr_times[i] + stp_times[i])\n",
        "#print(pr_times)\n",
        "#print(stp_times)\n",
        "#print(t_times)"
      ],
      "metadata": {
        "id": "jGeyWlqCKJTg"
      },
      "execution_count": 9,
      "outputs": []
    },
    {
      "cell_type": "code",
      "source": [
        "# function to write setup, processing & total times for each process\n",
        "\n",
        "def write_times(m_time):\n",
        "  m_pr_time = copy.deepcopy(m_time)\n",
        "  m_stp_time = copy.deepcopy(m_time)\n",
        "  m_tot_time = copy.deepcopy(m_time)\n",
        "  for m in m_time:\n",
        "    for i in range(len(m_time[m])):\n",
        "      for j in range(len(pr_times)):\n",
        "        if m_time[m][i] == j+1:\n",
        "          m_pr_time[m][i] = pr_times[j]\n",
        "          m_stp_time[m][i] = stp_times[j]\n",
        "          m_tot_time[m][i] = t_times[j]\n",
        "  return m_pr_time, m_stp_time, m_tot_time\n",
        "\n",
        "pr_time, stp_time, t_time = write_times(all_machines)\n",
        "print(\"process:\",pr_time)\n",
        "print(\"setups:\",stp_time)\n",
        "print(\"total:\",t_time)"
      ],
      "metadata": {
        "id": "31NOzjXMS60-",
        "colab": {
          "base_uri": "https://localhost:8080/"
        },
        "outputId": "241d75f7-ceb6-4410-dbf5-358d10645c88"
      },
      "execution_count": 10,
      "outputs": [
        {
          "output_type": "stream",
          "name": "stdout",
          "text": [
            "process: {'662': [0.4545454545, 1.0, 0.3409090909, 0.75, 0.3409090909, 0.75, 0.4545454545, 1.0, 0.4545454545, 1.0, 0.2272727273, 0.5, 0.2272727273, 0.5, 0.2272727273, 0.5, 0.2272727273, 0.5, 0.2272727273, 0.5], 'D11-1': [2.0, 2.0, 1.5, 1.5, 1.5, 1.5, 2.0, 2.0, 2.0, 2.0, 1.0, 1.0, 1.0, 1.0, 1.0, 1.0, 1.0, 1.0, 1.0, 1.0], 'D11-2': [], 'D12': [0.1818181818, 0.1818181818, 0.1818181818, 0.1818181818, 0.1363636364, 0.1363636364, 0.1363636364, 0.1363636364, 0.1363636364, 0.1363636364, 0.1363636364, 0.1363636364, 0.1818181818, 0.1818181818, 0.1818181818, 0.1818181818, 0.1818181818, 0.1818181818, 0.1818181818, 0.1818181818, 0.09090909091, 0.09090909091, 0.1818181818, 0.09090909091, 0.09090909091, 0.09090909091, 0.1818181818, 0.09090909091, 0.09090909091, 0.09090909091, 0.1818181818, 0.09090909091, 0.09090909091, 0.09090909091, 0.1818181818, 0.09090909091, 0.09090909091, 0.09090909091, 0.1818181818, 0.09090909091], 'D13-1': [1.0, 1.636363636, 0.75, 1.227272727, 0.75, 1.227272727, 1.0, 1.636363636, 1.0, 1.636363636, 0.5, 0.8181818182, 0.5, 0.8181818182, 0.5, 0.8181818182, 0.5, 0.8181818182, 0.5, 0.8181818182], 'D13-2': [], 'D13-3': [], 'D13-4': [], 'D15-1': [0.4545454545, 0.4545454545, 0.4545454545, 0.3409090909, 0.3409090909, 0.3409090909, 0.3409090909, 0.3409090909, 0.3409090909, 0.4545454545, 0.4545454545, 0.4545454545, 0.4545454545, 0.4545454545, 0.4545454545, 0.2272727273, 0.2272727273, 0.2272727273, 0.2272727273, 0.2272727273, 0.2272727273, 0.2272727273, 0.2272727273, 0.2272727273, 0.2272727273, 0.2272727273, 0.2272727273, 0.2272727273, 0.2272727273, 0.2272727273], 'D15-2': [], 'D15-3': [], 'D17-1': [0.4545454545, 0.4545454545, 0.3409090909, 0.3409090909, 0.3409090909, 0.3409090909, 0.4545454545, 0.4545454545, 0.4545454545, 0.4545454545, 0.2272727273, 0.2272727273, 0.2272727273, 0.2272727273, 0.2272727273, 0.2272727273, 0.2272727273, 0.2272727273, 0.2272727273, 0.2272727273], 'D17-2': [], 'D27-1': [1.0, 0.75, 0.75, 1.0, 1.0, 0.5, 0.5, 0.5, 0.5, 0.5], 'D27-2': [], 'D27-3': [], 'D31-1': [0.5454545455, 0.8181818182, 0.5454545455, 0.8181818182, 0.5454545455, 0.8181818182, 0.5454545455, 0.8181818182, 0.5454545455, 0.8181818182, 0.5454545455, 0.8181818182, 0.5454545455, 0.8181818182, 0.5454545455, 0.8181818182, 0.5454545455, 0.8181818182, 0.5454545455, 0.8181818182], 'D31-2': [], 'D31-3': [], 'D32-1': [0.4545454545, 0.5454545455, 0.4545454545, 0.5454545455, 0.4545454545, 0.5454545455, 0.4545454545, 0.5454545455, 0.4545454545, 0.5454545455, 0.4545454545, 0.5454545455, 0.4545454545, 0.5454545455, 0.4545454545, 0.5454545455, 0.4545454545, 0.5454545455, 0.4545454545, 0.5454545455], 'D32-2': [], 'D32-3': [], 'D33-1': [0.09090909091, 0.09090909091, 0.09090909091, 0.09090909091, 0.09090909091, 0.09090909091, 0.09090909091, 0.09090909091, 0.09090909091, 0.09090909091, 0.09090909091, 0.09090909091, 0.09090909091, 0.09090909091, 0.09090909091, 0.09090909091, 0.09090909091, 0.09090909091, 0.09090909091, 0.09090909091, 0.09090909091, 0.09090909091, 0.09090909091, 0.09090909091, 0.09090909091, 0.09090909091, 0.09090909091, 0.09090909091, 0.09090909091, 0.09090909091], 'D33-2': [], 'D41-1': [0.2727272727, 0.2727272727, 0.2727272727, 0.2727272727, 0.2727272727, 0.2727272727, 0.2727272727, 0.2727272727, 0.2727272727, 0.2727272727], 'D41-2': [], 'D43': [0.09090909091, 0.06818181818, 0.06818181818, 0.09090909091, 0.09090909091, 0.04545454545, 0.04545454545, 0.04545454545, 0.04545454545, 0.04545454545], 'D44': [0.09090909091, 0.4545454545, 0.06818181818, 0.3409090909, 0.06818181818, 0.3409090909, 0.09090909091, 0.4545454545, 0.09090909091, 0.4545454545, 0.04545454545, 0.2272727273, 0.04545454545, 0.2272727273, 0.04545454545, 0.2272727273, 0.04545454545, 0.2272727273, 0.04545454545, 0.2272727273], 'D47': [0.4545454545, 0.4545454545, 0.4545454545, 0.4545454545, 0.4545454545, 0.4545454545, 0.4545454545, 0.4545454545, 0.4545454545, 0.4545454545, 0.4545454545, 0.4545454545, 0.4545454545, 0.4545454545, 0.4545454545, 0.4545454545, 0.4545454545, 0.4545454545, 0.4545454545, 0.4545454545], 'D65-1': [0.4545454545, 0.4545454545, 0.4545454545, 0.4545454545, 0.4545454545, 0.4545454545, 0.4545454545, 0.4545454545, 0.4545454545, 0.4545454545], 'D65-2': [], 'D69': [2.0, 1.5, 1.5, 2.0, 2.0, 1.0, 1.0, 1.0, 1.0, 1.0], 'Nital Etche, Hydrojen Embr.': [1.272727273, 1.272727273, 1.272727273, 1.272727273, 1.272727273, 1.272727273, 1.272727273, 1.272727273, 1.272727273, 1.272727273]}\n",
            "setups: {'662': [0.0, 0.0, 0.0, 0.0, 0.0, 0.0, 0.0, 0.0, 0.0, 0.0, 0.0, 0.0, 0.0, 0.0, 0.0, 0.0, 0.0, 0.0, 0.0, 0.0], 'D11-1': [5.5, 5.5, 4.125, 4.125, 4.125, 4.125, 5.5, 5.5, 5.5, 5.5, 2.75, 2.75, 2.75, 2.75, 2.75, 2.75, 2.75, 2.75, 2.75, 2.75], 'D11-2': [], 'D12': [0.0, 0.0, 0.0, 0.0, 0.0, 0.0, 0.0, 0.0, 0.0, 0.0, 0.0, 0.0, 0.0, 0.0, 0.0, 0.0, 0.0, 0.0, 0.0, 0.0, 0.0, 0.0, 0.0, 0.0, 0.0, 0.0, 0.0, 0.0, 0.0, 0.0, 0.0, 0.0, 0.0, 0.0, 0.0, 0.0, 0.0, 0.0, 0.0, 0.0], 'D13-1': [0.0, 0.0, 0.0, 0.0, 0.0, 0.0, 0.0, 0.0, 0.0, 0.0, 0.0, 0.0, 0.0, 0.0, 0.0, 0.0, 0.0, 0.0, 0.0, 0.0], 'D13-2': [], 'D13-3': [], 'D13-4': [], 'D15-1': [0.75, 0.75, 0.75, 0.5625, 0.5625, 0.5625, 0.5625, 0.5625, 0.5625, 0.75, 0.75, 0.75, 0.75, 0.75, 0.75, 0.375, 0.375, 0.375, 0.375, 0.375, 0.375, 0.375, 0.375, 0.375, 0.375, 0.375, 0.375, 0.375, 0.375, 0.375], 'D15-2': [], 'D15-3': [], 'D17-1': [0.75, 0.75, 0.5625, 0.5625, 0.5625, 0.5625, 0.75, 0.75, 0.75, 0.75, 0.375, 0.375, 0.375, 0.375, 0.375, 0.375, 0.375, 0.375, 0.375, 0.375], 'D17-2': [], 'D27-1': [2.2, 1.65, 1.65, 2.2, 2.2, 1.1, 1.1, 1.1, 1.1, 1.1], 'D27-2': [], 'D27-3': [], 'D31-1': [0.0, 0.0, 0.0, 0.0, 0.0, 0.0, 0.0, 0.0, 0.0, 0.0, 0.0, 0.0, 0.0, 0.0, 0.0, 0.0, 0.0, 0.0, 0.0, 0.0], 'D31-2': [], 'D31-3': [], 'D32-1': [0.0, 0.0, 0.0, 0.0, 0.0, 0.0, 0.0, 0.0, 0.0, 0.0, 0.0, 0.0, 0.0, 0.0, 0.0, 0.0, 0.0, 0.0, 0.0, 0.0], 'D32-2': [], 'D32-3': [], 'D33-1': [0.0, 0.0, 0.0, 0.0, 0.0, 0.0, 0.0, 0.0, 0.0, 0.0, 0.0, 0.0, 0.0, 0.0, 0.0, 0.0, 0.0, 0.0, 0.0, 0.0, 0.0, 0.0, 0.0, 0.0, 0.0, 0.0, 0.0, 0.0, 0.0, 0.0], 'D33-2': [], 'D41-1': [0.0, 0.0, 0.0, 0.0, 0.0, 0.0, 0.0, 0.0, 0.0, 0.0], 'D41-2': [], 'D43': [0.0, 0.0, 0.0, 0.0, 0.0, 0.0, 0.0, 0.0, 0.0, 0.0], 'D44': [0.0, 0.0, 0.0, 0.0, 0.0, 0.0, 0.0, 0.0, 0.0, 0.0, 0.0, 0.0, 0.0, 0.0, 0.0, 0.0, 0.0, 0.0, 0.0, 0.0], 'D47': [0.0, 0.0, 0.0, 0.0, 0.0, 0.0, 0.0, 0.0, 0.0, 0.0, 0.0, 0.0, 0.0, 0.0, 0.0, 0.0, 0.0, 0.0, 0.0, 0.0], 'D65-1': [0.0, 0.0, 0.0, 0.0, 0.0, 0.0, 0.0, 0.0, 0.0, 0.0], 'D65-2': [], 'D69': [0.0, 0.0, 0.0, 0.0, 0.0, 0.0, 0.0, 0.0, 0.0, 0.0], 'Nital Etche, Hydrojen Embr.': [0.0, 0.0, 0.0, 0.0, 0.0, 0.0, 0.0, 0.0, 0.0, 0.0]}\n",
            "total: {'662': [0.4545454545, 1.0, 0.3409090909, 0.75, 0.3409090909, 0.75, 0.4545454545, 1.0, 0.4545454545, 1.0, 0.2272727273, 0.5, 0.2272727273, 0.5, 0.2272727273, 0.5, 0.2272727273, 0.5, 0.2272727273, 0.5], 'D11-1': [7.5, 7.5, 5.625, 5.625, 5.625, 5.625, 7.5, 7.5, 7.5, 7.5, 3.75, 3.75, 3.75, 3.75, 3.75, 3.75, 3.75, 3.75, 3.75, 3.75], 'D11-2': [], 'D12': [0.1818181818, 0.1818181818, 0.1818181818, 0.1818181818, 0.1363636364, 0.1363636364, 0.1363636364, 0.1363636364, 0.1363636364, 0.1363636364, 0.1363636364, 0.1363636364, 0.1818181818, 0.1818181818, 0.1818181818, 0.1818181818, 0.1818181818, 0.1818181818, 0.1818181818, 0.1818181818, 0.09090909091, 0.09090909091, 0.1818181818, 0.09090909091, 0.09090909091, 0.09090909091, 0.1818181818, 0.09090909091, 0.09090909091, 0.09090909091, 0.1818181818, 0.09090909091, 0.09090909091, 0.09090909091, 0.1818181818, 0.09090909091, 0.09090909091, 0.09090909091, 0.1818181818, 0.09090909091], 'D13-1': [1.0, 1.636363636, 0.75, 1.227272727, 0.75, 1.227272727, 1.0, 1.636363636, 1.0, 1.636363636, 0.5, 0.8181818182, 0.5, 0.8181818182, 0.5, 0.8181818182, 0.5, 0.8181818182, 0.5, 0.8181818182], 'D13-2': [], 'D13-3': [], 'D13-4': [], 'D15-1': [1.2045454545, 1.2045454545, 1.2045454545, 0.9034090909, 0.9034090909, 0.9034090909, 0.9034090909, 0.9034090909, 0.9034090909, 1.2045454545, 1.2045454545, 1.2045454545, 1.2045454545, 1.2045454545, 1.2045454545, 0.6022727273, 0.6022727273, 0.6022727273, 0.6022727273, 0.6022727273, 0.6022727273, 0.6022727273, 0.6022727273, 0.6022727273, 0.6022727273, 0.6022727273, 0.6022727273, 0.6022727273, 0.6022727273, 0.6022727273], 'D15-2': [], 'D15-3': [], 'D17-1': [1.2045454545, 1.2045454545, 0.9034090909, 0.9034090909, 0.9034090909, 0.9034090909, 1.2045454545, 1.2045454545, 1.2045454545, 1.2045454545, 0.6022727273, 0.6022727273, 0.6022727273, 0.6022727273, 0.6022727273, 0.6022727273, 0.6022727273, 0.6022727273, 0.6022727273, 0.6022727273], 'D17-2': [], 'D27-1': [3.2, 2.4, 2.4, 3.2, 3.2, 1.6, 1.6, 1.6, 1.6, 1.6], 'D27-2': [], 'D27-3': [], 'D31-1': [0.5454545455, 0.8181818182, 0.5454545455, 0.8181818182, 0.5454545455, 0.8181818182, 0.5454545455, 0.8181818182, 0.5454545455, 0.8181818182, 0.5454545455, 0.8181818182, 0.5454545455, 0.8181818182, 0.5454545455, 0.8181818182, 0.5454545455, 0.8181818182, 0.5454545455, 0.8181818182], 'D31-2': [], 'D31-3': [], 'D32-1': [0.4545454545, 0.5454545455, 0.4545454545, 0.5454545455, 0.4545454545, 0.5454545455, 0.4545454545, 0.5454545455, 0.4545454545, 0.5454545455, 0.4545454545, 0.5454545455, 0.4545454545, 0.5454545455, 0.4545454545, 0.5454545455, 0.4545454545, 0.5454545455, 0.4545454545, 0.5454545455], 'D32-2': [], 'D32-3': [], 'D33-1': [0.09090909091, 0.09090909091, 0.09090909091, 0.09090909091, 0.09090909091, 0.09090909091, 0.09090909091, 0.09090909091, 0.09090909091, 0.09090909091, 0.09090909091, 0.09090909091, 0.09090909091, 0.09090909091, 0.09090909091, 0.09090909091, 0.09090909091, 0.09090909091, 0.09090909091, 0.09090909091, 0.09090909091, 0.09090909091, 0.09090909091, 0.09090909091, 0.09090909091, 0.09090909091, 0.09090909091, 0.09090909091, 0.09090909091, 0.09090909091], 'D33-2': [], 'D41-1': [0.2727272727, 0.2727272727, 0.2727272727, 0.2727272727, 0.2727272727, 0.2727272727, 0.2727272727, 0.2727272727, 0.2727272727, 0.2727272727], 'D41-2': [], 'D43': [0.09090909091, 0.06818181818, 0.06818181818, 0.09090909091, 0.09090909091, 0.04545454545, 0.04545454545, 0.04545454545, 0.04545454545, 0.04545454545], 'D44': [0.09090909091, 0.4545454545, 0.06818181818, 0.3409090909, 0.06818181818, 0.3409090909, 0.09090909091, 0.4545454545, 0.09090909091, 0.4545454545, 0.04545454545, 0.2272727273, 0.04545454545, 0.2272727273, 0.04545454545, 0.2272727273, 0.04545454545, 0.2272727273, 0.04545454545, 0.2272727273], 'D47': [0.4545454545, 0.4545454545, 0.4545454545, 0.4545454545, 0.4545454545, 0.4545454545, 0.4545454545, 0.4545454545, 0.4545454545, 0.4545454545, 0.4545454545, 0.4545454545, 0.4545454545, 0.4545454545, 0.4545454545, 0.4545454545, 0.4545454545, 0.4545454545, 0.4545454545, 0.4545454545], 'D65-1': [0.4545454545, 0.4545454545, 0.4545454545, 0.4545454545, 0.4545454545, 0.4545454545, 0.4545454545, 0.4545454545, 0.4545454545, 0.4545454545], 'D65-2': [], 'D69': [2.0, 1.5, 1.5, 2.0, 2.0, 1.0, 1.0, 1.0, 1.0, 1.0], 'Nital Etche, Hydrojen Embr.': [1.272727273, 1.272727273, 1.272727273, 1.272727273, 1.272727273, 1.272727273, 1.272727273, 1.272727273, 1.272727273, 1.272727273]}\n"
          ]
        }
      ]
    },
    {
      "cell_type": "code",
      "source": [
        "# function to write the start & finishing times for each process\n",
        "\n",
        "def write_start_finish(m_time):\n",
        "  m_S_time = copy.deepcopy(t_time)\n",
        "  m_F_time = copy.deepcopy(t_time)\n",
        "  for m in m_time:                    # each machine's list\n",
        "    for i in range(len(m_time[m])):   # 0 to length of each machine (each process in a machine)\n",
        "      for j in range(len(t_times)):    # 0 to 319 (every single process)\n",
        "        if m_time[m][i] == j+1:       # if process in m_time = a process\n",
        "          if i == 0:\n",
        "            m_S_time[m][i] = 0            ### start first process at 0 for now\n",
        "          else:\n",
        "            m_S_time[m][i] = m_S_time[m][i-1] + t_time[m][i-1]  # or m_F_time[m][i-1]\n",
        "          m_F_time[m][i] = m_S_time[m][i] + t_time[m][i]\n",
        "  return m_S_time, m_F_time\n",
        "\n",
        "S_time, F_time = write_start_finish(all_machines)\n",
        "print(\"t_time \",t_time)\n",
        "print(\"start  \",S_time)\n",
        "print(\"finish \",F_time)"
      ],
      "metadata": {
        "colab": {
          "base_uri": "https://localhost:8080/"
        },
        "id": "usuAP2ci_YS9",
        "outputId": "a0c67337-dad2-4473-d1fa-4e6b96b4daf8"
      },
      "execution_count": 11,
      "outputs": [
        {
          "output_type": "stream",
          "name": "stdout",
          "text": [
            "t_time  {'662': [0.4545454545, 1.0, 0.3409090909, 0.75, 0.3409090909, 0.75, 0.4545454545, 1.0, 0.4545454545, 1.0, 0.2272727273, 0.5, 0.2272727273, 0.5, 0.2272727273, 0.5, 0.2272727273, 0.5, 0.2272727273, 0.5], 'D11-1': [7.5, 7.5, 5.625, 5.625, 5.625, 5.625, 7.5, 7.5, 7.5, 7.5, 3.75, 3.75, 3.75, 3.75, 3.75, 3.75, 3.75, 3.75, 3.75, 3.75], 'D11-2': [], 'D12': [0.1818181818, 0.1818181818, 0.1818181818, 0.1818181818, 0.1363636364, 0.1363636364, 0.1363636364, 0.1363636364, 0.1363636364, 0.1363636364, 0.1363636364, 0.1363636364, 0.1818181818, 0.1818181818, 0.1818181818, 0.1818181818, 0.1818181818, 0.1818181818, 0.1818181818, 0.1818181818, 0.09090909091, 0.09090909091, 0.1818181818, 0.09090909091, 0.09090909091, 0.09090909091, 0.1818181818, 0.09090909091, 0.09090909091, 0.09090909091, 0.1818181818, 0.09090909091, 0.09090909091, 0.09090909091, 0.1818181818, 0.09090909091, 0.09090909091, 0.09090909091, 0.1818181818, 0.09090909091], 'D13-1': [1.0, 1.636363636, 0.75, 1.227272727, 0.75, 1.227272727, 1.0, 1.636363636, 1.0, 1.636363636, 0.5, 0.8181818182, 0.5, 0.8181818182, 0.5, 0.8181818182, 0.5, 0.8181818182, 0.5, 0.8181818182], 'D13-2': [], 'D13-3': [], 'D13-4': [], 'D15-1': [1.2045454545, 1.2045454545, 1.2045454545, 0.9034090909, 0.9034090909, 0.9034090909, 0.9034090909, 0.9034090909, 0.9034090909, 1.2045454545, 1.2045454545, 1.2045454545, 1.2045454545, 1.2045454545, 1.2045454545, 0.6022727273, 0.6022727273, 0.6022727273, 0.6022727273, 0.6022727273, 0.6022727273, 0.6022727273, 0.6022727273, 0.6022727273, 0.6022727273, 0.6022727273, 0.6022727273, 0.6022727273, 0.6022727273, 0.6022727273], 'D15-2': [], 'D15-3': [], 'D17-1': [1.2045454545, 1.2045454545, 0.9034090909, 0.9034090909, 0.9034090909, 0.9034090909, 1.2045454545, 1.2045454545, 1.2045454545, 1.2045454545, 0.6022727273, 0.6022727273, 0.6022727273, 0.6022727273, 0.6022727273, 0.6022727273, 0.6022727273, 0.6022727273, 0.6022727273, 0.6022727273], 'D17-2': [], 'D27-1': [3.2, 2.4, 2.4, 3.2, 3.2, 1.6, 1.6, 1.6, 1.6, 1.6], 'D27-2': [], 'D27-3': [], 'D31-1': [0.5454545455, 0.8181818182, 0.5454545455, 0.8181818182, 0.5454545455, 0.8181818182, 0.5454545455, 0.8181818182, 0.5454545455, 0.8181818182, 0.5454545455, 0.8181818182, 0.5454545455, 0.8181818182, 0.5454545455, 0.8181818182, 0.5454545455, 0.8181818182, 0.5454545455, 0.8181818182], 'D31-2': [], 'D31-3': [], 'D32-1': [0.4545454545, 0.5454545455, 0.4545454545, 0.5454545455, 0.4545454545, 0.5454545455, 0.4545454545, 0.5454545455, 0.4545454545, 0.5454545455, 0.4545454545, 0.5454545455, 0.4545454545, 0.5454545455, 0.4545454545, 0.5454545455, 0.4545454545, 0.5454545455, 0.4545454545, 0.5454545455], 'D32-2': [], 'D32-3': [], 'D33-1': [0.09090909091, 0.09090909091, 0.09090909091, 0.09090909091, 0.09090909091, 0.09090909091, 0.09090909091, 0.09090909091, 0.09090909091, 0.09090909091, 0.09090909091, 0.09090909091, 0.09090909091, 0.09090909091, 0.09090909091, 0.09090909091, 0.09090909091, 0.09090909091, 0.09090909091, 0.09090909091, 0.09090909091, 0.09090909091, 0.09090909091, 0.09090909091, 0.09090909091, 0.09090909091, 0.09090909091, 0.09090909091, 0.09090909091, 0.09090909091], 'D33-2': [], 'D41-1': [0.2727272727, 0.2727272727, 0.2727272727, 0.2727272727, 0.2727272727, 0.2727272727, 0.2727272727, 0.2727272727, 0.2727272727, 0.2727272727], 'D41-2': [], 'D43': [0.09090909091, 0.06818181818, 0.06818181818, 0.09090909091, 0.09090909091, 0.04545454545, 0.04545454545, 0.04545454545, 0.04545454545, 0.04545454545], 'D44': [0.09090909091, 0.4545454545, 0.06818181818, 0.3409090909, 0.06818181818, 0.3409090909, 0.09090909091, 0.4545454545, 0.09090909091, 0.4545454545, 0.04545454545, 0.2272727273, 0.04545454545, 0.2272727273, 0.04545454545, 0.2272727273, 0.04545454545, 0.2272727273, 0.04545454545, 0.2272727273], 'D47': [0.4545454545, 0.4545454545, 0.4545454545, 0.4545454545, 0.4545454545, 0.4545454545, 0.4545454545, 0.4545454545, 0.4545454545, 0.4545454545, 0.4545454545, 0.4545454545, 0.4545454545, 0.4545454545, 0.4545454545, 0.4545454545, 0.4545454545, 0.4545454545, 0.4545454545, 0.4545454545], 'D65-1': [0.4545454545, 0.4545454545, 0.4545454545, 0.4545454545, 0.4545454545, 0.4545454545, 0.4545454545, 0.4545454545, 0.4545454545, 0.4545454545], 'D65-2': [], 'D69': [2.0, 1.5, 1.5, 2.0, 2.0, 1.0, 1.0, 1.0, 1.0, 1.0], 'Nital Etche, Hydrojen Embr.': [1.272727273, 1.272727273, 1.272727273, 1.272727273, 1.272727273, 1.272727273, 1.272727273, 1.272727273, 1.272727273, 1.272727273]}\n",
            "start   {'662': [0, 0.4545454545, 1.4545454545, 1.7954545454000002, 2.5454545454, 2.8863636363, 3.6363636363, 4.0909090908, 5.0909090908, 5.5454545453, 6.5454545453, 6.7727272726, 7.2727272726, 7.4999999999, 7.9999999999, 8.2272727272, 8.7272727272, 8.954545454500002, 9.454545454500002, 9.681818181800002], 'D11-1': [0, 7.5, 15.0, 20.625, 26.25, 31.875, 37.5, 45.0, 52.5, 60.0, 67.5, 71.25, 75.0, 78.75, 82.5, 86.25, 90.0, 93.75, 97.5, 101.25], 'D11-2': [], 'D12': [0, 0.1818181818, 0.3636363636, 0.5454545454, 0.7272727272, 0.8636363636, 1.0, 1.1363636364, 1.2727272728, 1.4090909092000001, 1.5454545456000002, 1.6818181820000002, 1.8181818184000003, 2.0000000002000005, 2.1818181820000007, 2.363636363800001, 2.545454545600001, 2.7272727274000013, 2.9090909092000015, 3.0909090910000017, 3.272727272800002, 3.3636363637100017, 3.4545454546200016, 3.636363636420002, 3.7272727273300017, 3.8181818182400016, 3.9090909091500015, 4.090909090950001, 4.1818181818600015, 4.272727272770002, 4.363636363680002, 4.545454545480002, 4.636363636390002, 4.727272727300003, 4.818181818210003, 5.000000000010003, 5.090909090920003, 5.181818181830003, 5.272727272740004, 5.454545454540003], 'D13-1': [0, 1.0, 2.636363636, 3.386363636, 4.6136363629999995, 5.3636363629999995, 6.590909089999999, 7.590909089999999, 9.227272725999999, 10.227272725999999, 11.863636362, 12.363636362, 13.181818180199999, 13.681818180199999, 14.499999998399998, 14.999999998399998, 15.818181816599997, 16.318181816599996, 17.136363634799995, 17.636363634799995], 'D13-2': [], 'D13-3': [], 'D13-4': [], 'D15-1': [0, 1.2045454545, 2.409090909, 3.6136363635000004, 4.517045454400001, 5.420454545300001, 6.323863636200001, 7.227272727100002, 8.130681818000001, 9.034090908900001, 10.238636363400001, 11.443181817900001, 12.647727272400001, 13.8522727269, 15.0568181814, 16.2613636359, 16.8636363632, 17.465909090500002, 18.068181817800003, 18.670454545100004, 19.272727272400004, 19.874999999700005, 20.477272727000006, 21.079545454300007, 21.681818181600008, 22.28409090890001, 22.88636363620001, 23.48863636350001, 24.09090909080001, 24.693181818100012], 'D15-2': [], 'D15-3': [], 'D17-1': [0, 1.2045454545, 2.409090909, 3.3124999999, 4.2159090908, 5.119318181700001, 6.022727272600001, 7.227272727100001, 8.4318181816, 9.6363636361, 10.8409090906, 11.443181817900001, 12.045454545200002, 12.647727272500003, 13.249999999800004, 13.852272727100004, 14.454545454400005, 15.056818181700006, 15.659090909000007, 16.261363636300008], 'D17-2': [], 'D27-1': [0, 3.2, 5.6, 8.0, 11.2, 14.399999999999999, 15.999999999999998, 17.599999999999998, 19.2, 20.8], 'D27-2': [], 'D27-3': [], 'D31-1': [0, 0.5454545455, 1.3636363637, 1.9090909092000001, 2.7272727274, 3.2727272729, 4.0909090911, 4.6363636366000005, 5.454545454800001, 6.000000000300001, 6.818181818500001, 7.363636364000001, 8.1818181822, 8.7272727277, 9.5454545459, 10.0909090914, 10.9090909096, 11.4545454551, 12.2727272733, 12.8181818188], 'D31-2': [], 'D31-3': [], 'D32-1': [0, 0.4545454545, 1.0, 1.4545454545, 2.0, 2.4545454545, 3.0, 3.4545454545, 4.0, 4.4545454545, 5.0, 5.4545454545, 6.0, 6.4545454545, 7.0, 7.4545454545, 8.0, 8.4545454545, 9.0, 9.4545454545], 'D32-2': [], 'D32-3': [], 'D33-1': [0, 0.09090909091, 0.18181818182, 0.27272727273, 0.36363636364, 0.45454545455, 0.54545454546, 0.63636363637, 0.72727272728, 0.81818181819, 0.9090909091, 1.00000000001, 1.09090909092, 1.1818181818300002, 1.2727272727400003, 1.3636363636500004, 1.4545454545600005, 1.5454545454700006, 1.6363636363800007, 1.7272727272900008, 1.818181818200001, 1.909090909110001, 2.000000000020001, 2.0909090909300008, 2.1818181818400006, 2.2727272727500005, 2.3636363636600004, 2.4545454545700003, 2.54545454548, 2.63636363639], 'D33-2': [], 'D41-1': [0, 0.2727272727, 0.5454545454, 0.8181818181, 1.0909090908, 1.3636363635000002, 1.6363636362000002, 1.9090909089000003, 2.1818181816, 2.4545454543000003], 'D41-2': [], 'D43': [0, 0.09090909091, 0.15909090909, 0.22727272727000003, 0.31818181818, 0.40909090909, 0.45454545454, 0.49999999999, 0.54545454544, 0.5909090908900001], 'D44': [0, 0.09090909091, 0.54545454541, 0.6136363635900001, 0.9545454544900001, 1.02272727267, 1.36363636357, 1.45454545448, 1.9090909089800001, 1.9999999998900002, 2.4545454543900003, 2.4999999998400004, 2.7272727271400004, 2.7727272725900005, 2.9999999998900004, 3.0454545453400006, 3.2727272726400005, 3.3181818180900007, 3.5454545453900006, 3.5909090908400008], 'D47': [0, 0.4545454545, 0.909090909, 1.3636363635, 1.818181818, 2.2727272725, 2.727272727, 3.1818181814999997, 3.6363636359999996, 4.090909090499999, 4.545454544999999, 4.999999999499999, 5.454545453999999, 5.909090908499999, 6.363636362999999, 6.818181817499998, 7.272727271999998, 7.727272726499998, 8.181818180999999, 8.636363635499999], 'D65-1': [0, 0.4545454545, 0.909090909, 1.3636363635, 1.818181818, 2.2727272725, 2.727272727, 3.1818181814999997, 3.6363636359999996, 4.090909090499999], 'D65-2': [], 'D69': [0, 2.0, 3.5, 5.0, 7.0, 9.0, 10.0, 11.0, 12.0, 13.0], 'Nital Etche, Hydrojen Embr.': [0, 1.272727273, 2.545454546, 3.8181818190000003, 5.090909092, 6.3636363650000005, 7.636363638000001, 8.909090911, 10.181818184, 11.454545457000002]}\n",
            "finish  {'662': [0.4545454545, 1.4545454545, 1.7954545454000002, 2.5454545454, 2.8863636363, 3.6363636363, 4.0909090908, 5.0909090908, 5.5454545453, 6.5454545453, 6.7727272726, 7.2727272726, 7.4999999999, 7.9999999999, 8.2272727272, 8.7272727272, 8.954545454500002, 9.454545454500002, 9.681818181800002, 10.181818181800002], 'D11-1': [7.5, 15.0, 20.625, 26.25, 31.875, 37.5, 45.0, 52.5, 60.0, 67.5, 71.25, 75.0, 78.75, 82.5, 86.25, 90.0, 93.75, 97.5, 101.25, 105.0], 'D11-2': [], 'D12': [0.1818181818, 0.3636363636, 0.5454545454, 0.7272727272, 0.8636363636, 1.0, 1.1363636364, 1.2727272728, 1.4090909092000001, 1.5454545456000002, 1.6818181820000002, 1.8181818184000003, 2.0000000002000005, 2.1818181820000007, 2.363636363800001, 2.545454545600001, 2.7272727274000013, 2.9090909092000015, 3.0909090910000017, 3.272727272800002, 3.3636363637100017, 3.4545454546200016, 3.636363636420002, 3.7272727273300017, 3.8181818182400016, 3.9090909091500015, 4.090909090950001, 4.1818181818600015, 4.272727272770002, 4.363636363680002, 4.545454545480002, 4.636363636390002, 4.727272727300003, 4.818181818210003, 5.000000000010003, 5.090909090920003, 5.181818181830003, 5.272727272740004, 5.454545454540003, 5.545454545450004], 'D13-1': [1.0, 2.636363636, 3.386363636, 4.6136363629999995, 5.3636363629999995, 6.590909089999999, 7.590909089999999, 9.227272725999999, 10.227272725999999, 11.863636362, 12.363636362, 13.181818180199999, 13.681818180199999, 14.499999998399998, 14.999999998399998, 15.818181816599997, 16.318181816599996, 17.136363634799995, 17.636363634799995, 18.454545452999994], 'D13-2': [], 'D13-3': [], 'D13-4': [], 'D15-1': [1.2045454545, 2.409090909, 3.6136363635000004, 4.517045454400001, 5.420454545300001, 6.323863636200001, 7.227272727100002, 8.130681818000001, 9.034090908900001, 10.238636363400001, 11.443181817900001, 12.647727272400001, 13.8522727269, 15.0568181814, 16.2613636359, 16.8636363632, 17.465909090500002, 18.068181817800003, 18.670454545100004, 19.272727272400004, 19.874999999700005, 20.477272727000006, 21.079545454300007, 21.681818181600008, 22.28409090890001, 22.88636363620001, 23.48863636350001, 24.09090909080001, 24.693181818100012, 25.295454545400013], 'D15-2': [], 'D15-3': [], 'D17-1': [1.2045454545, 2.409090909, 3.3124999999, 4.2159090908, 5.119318181700001, 6.022727272600001, 7.227272727100001, 8.4318181816, 9.6363636361, 10.8409090906, 11.443181817900001, 12.045454545200002, 12.647727272500003, 13.249999999800004, 13.852272727100004, 14.454545454400005, 15.056818181700006, 15.659090909000007, 16.261363636300008, 16.86363636360001], 'D17-2': [], 'D27-1': [3.2, 5.6, 8.0, 11.2, 14.399999999999999, 15.999999999999998, 17.599999999999998, 19.2, 20.8, 22.400000000000002], 'D27-2': [], 'D27-3': [], 'D31-1': [0.5454545455, 1.3636363637, 1.9090909092000001, 2.7272727274, 3.2727272729, 4.0909090911, 4.6363636366000005, 5.454545454800001, 6.000000000300001, 6.818181818500001, 7.363636364000001, 8.1818181822, 8.7272727277, 9.5454545459, 10.0909090914, 10.9090909096, 11.4545454551, 12.2727272733, 12.8181818188, 13.636363636999999], 'D31-2': [], 'D31-3': [], 'D32-1': [0.4545454545, 1.0, 1.4545454545, 2.0, 2.4545454545, 3.0, 3.4545454545, 4.0, 4.4545454545, 5.0, 5.4545454545, 6.0, 6.4545454545, 7.0, 7.4545454545, 8.0, 8.4545454545, 9.0, 9.4545454545, 10.0], 'D32-2': [], 'D32-3': [], 'D33-1': [0.09090909091, 0.18181818182, 0.27272727273, 0.36363636364, 0.45454545455, 0.54545454546, 0.63636363637, 0.72727272728, 0.81818181819, 0.9090909091, 1.00000000001, 1.09090909092, 1.1818181818300002, 1.2727272727400003, 1.3636363636500004, 1.4545454545600005, 1.5454545454700006, 1.6363636363800007, 1.7272727272900008, 1.818181818200001, 1.909090909110001, 2.000000000020001, 2.0909090909300008, 2.1818181818400006, 2.2727272727500005, 2.3636363636600004, 2.4545454545700003, 2.54545454548, 2.63636363639, 2.7272727273], 'D33-2': [], 'D41-1': [0.2727272727, 0.5454545454, 0.8181818181, 1.0909090908, 1.3636363635000002, 1.6363636362000002, 1.9090909089000003, 2.1818181816, 2.4545454543000003, 2.7272727270000003], 'D41-2': [], 'D43': [0.09090909091, 0.15909090909, 0.22727272727000003, 0.31818181818, 0.40909090909, 0.45454545454, 0.49999999999, 0.54545454544, 0.5909090908900001, 0.6363636363400001], 'D44': [0.09090909091, 0.54545454541, 0.6136363635900001, 0.9545454544900001, 1.02272727267, 1.36363636357, 1.45454545448, 1.9090909089800001, 1.9999999998900002, 2.4545454543900003, 2.4999999998400004, 2.7272727271400004, 2.7727272725900005, 2.9999999998900004, 3.0454545453400006, 3.2727272726400005, 3.3181818180900007, 3.5454545453900006, 3.5909090908400008, 3.8181818181400007], 'D47': [0.4545454545, 0.909090909, 1.3636363635, 1.818181818, 2.2727272725, 2.727272727, 3.1818181814999997, 3.6363636359999996, 4.090909090499999, 4.545454544999999, 4.999999999499999, 5.454545453999999, 5.909090908499999, 6.363636362999999, 6.818181817499998, 7.272727271999998, 7.727272726499998, 8.181818180999999, 8.636363635499999, 9.090909089999998], 'D65-1': [0.4545454545, 0.909090909, 1.3636363635, 1.818181818, 2.2727272725, 2.727272727, 3.1818181814999997, 3.6363636359999996, 4.090909090499999, 4.545454544999999], 'D65-2': [], 'D69': [2.0, 3.5, 5.0, 7.0, 9.0, 10.0, 11.0, 12.0, 13.0, 14.0], 'Nital Etche, Hydrojen Embr.': [1.272727273, 2.545454546, 3.8181818190000003, 5.090909092, 6.3636363650000005, 7.636363638000001, 8.909090911, 10.181818184, 11.454545457000002, 12.727272730000003]}\n"
          ]
        }
      ]
    },
    {
      "cell_type": "code",
      "source": [
        "# updating times according to\n",
        "\n",
        "def update_start_finish(m_time,process):\n",
        "  for machine, process_list in m_time.items():\n",
        "      for p in process_list:\n",
        "        if p == process:\n",
        "\n",
        "          if process == 1:\n",
        "            u_S_time[machine][process_list.index(p)] = 0\n",
        "          else:\n",
        "            # find the previous process' finishing time\n",
        "            for m in all_machines:\n",
        "              for j in all_machines[m]:\n",
        "                if j == p-1:\n",
        "                  prev_m = m\n",
        "                  prev_F = u_F_time[m][m_time[m].index(p-1)]\n",
        "            # compare that finishing time to the current start time & pick the max\n",
        "            u_S_time[machine][process_list.index(p)] = max(prev_F, u_S_time[machine][process_list.index(p)])\n",
        "          \n",
        "          u_F_time[machine][process_list.index(p)] = u_S_time[machine][process_list.index(p)] + t_time[machine][process_list.index(p)]\n",
        "\n",
        "\n",
        "u_S_time = copy.deepcopy(S_time)\n",
        "u_F_time = copy.deepcopy(F_time)\n",
        "for piece in processes:\n",
        "  for process in piece:\n",
        "    update_start_finish(all_machines,process)\n",
        "    \n",
        "print(\"duration  \",t_time)\n",
        "#print(\"start  \",S_time)\n",
        "#print(\"finish \",F_time)\n",
        "print(\"\\nnew start \",u_S_time)\n",
        "print(\"new finish\",u_F_time)\n",
        "\n",
        "#print(\"\")\n",
        "#for i in u_S_time:\n",
        "#  print(i)\n",
        "#  print(\"prs\",all_machines[i])\n",
        "#  print(\"t-t\",t_time[i])\n",
        "#  print(\"new\",u_S_time[i])\n",
        "#  print(\"\")"
      ],
      "metadata": {
        "colab": {
          "base_uri": "https://localhost:8080/"
        },
        "id": "W1LDy7fAUG4F",
        "outputId": "ab7f639f-12d6-42bc-892b-579453f7e26c"
      },
      "execution_count": 12,
      "outputs": [
        {
          "output_type": "stream",
          "name": "stdout",
          "text": [
            "duration   {'662': [0.4545454545, 1.0, 0.3409090909, 0.75, 0.3409090909, 0.75, 0.4545454545, 1.0, 0.4545454545, 1.0, 0.2272727273, 0.5, 0.2272727273, 0.5, 0.2272727273, 0.5, 0.2272727273, 0.5, 0.2272727273, 0.5], 'D11-1': [7.5, 7.5, 5.625, 5.625, 5.625, 5.625, 7.5, 7.5, 7.5, 7.5, 3.75, 3.75, 3.75, 3.75, 3.75, 3.75, 3.75, 3.75, 3.75, 3.75], 'D11-2': [], 'D12': [0.1818181818, 0.1818181818, 0.1818181818, 0.1818181818, 0.1363636364, 0.1363636364, 0.1363636364, 0.1363636364, 0.1363636364, 0.1363636364, 0.1363636364, 0.1363636364, 0.1818181818, 0.1818181818, 0.1818181818, 0.1818181818, 0.1818181818, 0.1818181818, 0.1818181818, 0.1818181818, 0.09090909091, 0.09090909091, 0.1818181818, 0.09090909091, 0.09090909091, 0.09090909091, 0.1818181818, 0.09090909091, 0.09090909091, 0.09090909091, 0.1818181818, 0.09090909091, 0.09090909091, 0.09090909091, 0.1818181818, 0.09090909091, 0.09090909091, 0.09090909091, 0.1818181818, 0.09090909091], 'D13-1': [1.0, 1.636363636, 0.75, 1.227272727, 0.75, 1.227272727, 1.0, 1.636363636, 1.0, 1.636363636, 0.5, 0.8181818182, 0.5, 0.8181818182, 0.5, 0.8181818182, 0.5, 0.8181818182, 0.5, 0.8181818182], 'D13-2': [], 'D13-3': [], 'D13-4': [], 'D15-1': [1.2045454545, 1.2045454545, 1.2045454545, 0.9034090909, 0.9034090909, 0.9034090909, 0.9034090909, 0.9034090909, 0.9034090909, 1.2045454545, 1.2045454545, 1.2045454545, 1.2045454545, 1.2045454545, 1.2045454545, 0.6022727273, 0.6022727273, 0.6022727273, 0.6022727273, 0.6022727273, 0.6022727273, 0.6022727273, 0.6022727273, 0.6022727273, 0.6022727273, 0.6022727273, 0.6022727273, 0.6022727273, 0.6022727273, 0.6022727273], 'D15-2': [], 'D15-3': [], 'D17-1': [1.2045454545, 1.2045454545, 0.9034090909, 0.9034090909, 0.9034090909, 0.9034090909, 1.2045454545, 1.2045454545, 1.2045454545, 1.2045454545, 0.6022727273, 0.6022727273, 0.6022727273, 0.6022727273, 0.6022727273, 0.6022727273, 0.6022727273, 0.6022727273, 0.6022727273, 0.6022727273], 'D17-2': [], 'D27-1': [3.2, 2.4, 2.4, 3.2, 3.2, 1.6, 1.6, 1.6, 1.6, 1.6], 'D27-2': [], 'D27-3': [], 'D31-1': [0.5454545455, 0.8181818182, 0.5454545455, 0.8181818182, 0.5454545455, 0.8181818182, 0.5454545455, 0.8181818182, 0.5454545455, 0.8181818182, 0.5454545455, 0.8181818182, 0.5454545455, 0.8181818182, 0.5454545455, 0.8181818182, 0.5454545455, 0.8181818182, 0.5454545455, 0.8181818182], 'D31-2': [], 'D31-3': [], 'D32-1': [0.4545454545, 0.5454545455, 0.4545454545, 0.5454545455, 0.4545454545, 0.5454545455, 0.4545454545, 0.5454545455, 0.4545454545, 0.5454545455, 0.4545454545, 0.5454545455, 0.4545454545, 0.5454545455, 0.4545454545, 0.5454545455, 0.4545454545, 0.5454545455, 0.4545454545, 0.5454545455], 'D32-2': [], 'D32-3': [], 'D33-1': [0.09090909091, 0.09090909091, 0.09090909091, 0.09090909091, 0.09090909091, 0.09090909091, 0.09090909091, 0.09090909091, 0.09090909091, 0.09090909091, 0.09090909091, 0.09090909091, 0.09090909091, 0.09090909091, 0.09090909091, 0.09090909091, 0.09090909091, 0.09090909091, 0.09090909091, 0.09090909091, 0.09090909091, 0.09090909091, 0.09090909091, 0.09090909091, 0.09090909091, 0.09090909091, 0.09090909091, 0.09090909091, 0.09090909091, 0.09090909091], 'D33-2': [], 'D41-1': [0.2727272727, 0.2727272727, 0.2727272727, 0.2727272727, 0.2727272727, 0.2727272727, 0.2727272727, 0.2727272727, 0.2727272727, 0.2727272727], 'D41-2': [], 'D43': [0.09090909091, 0.06818181818, 0.06818181818, 0.09090909091, 0.09090909091, 0.04545454545, 0.04545454545, 0.04545454545, 0.04545454545, 0.04545454545], 'D44': [0.09090909091, 0.4545454545, 0.06818181818, 0.3409090909, 0.06818181818, 0.3409090909, 0.09090909091, 0.4545454545, 0.09090909091, 0.4545454545, 0.04545454545, 0.2272727273, 0.04545454545, 0.2272727273, 0.04545454545, 0.2272727273, 0.04545454545, 0.2272727273, 0.04545454545, 0.2272727273], 'D47': [0.4545454545, 0.4545454545, 0.4545454545, 0.4545454545, 0.4545454545, 0.4545454545, 0.4545454545, 0.4545454545, 0.4545454545, 0.4545454545, 0.4545454545, 0.4545454545, 0.4545454545, 0.4545454545, 0.4545454545, 0.4545454545, 0.4545454545, 0.4545454545, 0.4545454545, 0.4545454545], 'D65-1': [0.4545454545, 0.4545454545, 0.4545454545, 0.4545454545, 0.4545454545, 0.4545454545, 0.4545454545, 0.4545454545, 0.4545454545, 0.4545454545], 'D65-2': [], 'D69': [2.0, 1.5, 1.5, 2.0, 2.0, 1.0, 1.0, 1.0, 1.0, 1.0], 'Nital Etche, Hydrojen Embr.': [1.272727273, 1.272727273, 1.272727273, 1.272727273, 1.272727273, 1.272727273, 1.272727273, 1.272727273, 1.272727273, 1.272727273]}\n",
            "\n",
            "new start  {'662': [31.677272726549997, 36.222727272149996, 61.93522727184, 65.77613636304001, 91.23863636273002, 95.07954545393004, 127.5068181804801, 132.05227272608008, 164.72954545263002, 169.27499999823, 188.02272727108004, 191.24999999859003, 209.49772727144008, 212.72499999895007, 230.97272727180012, 234.1999999993101, 252.44772727216017, 255.67499999967015, 273.92272727252, 277.15000000002993], 'D11-1': [5.6590909086400005, 22.790909090249997, 41.87613636273, 55.27045454454, 71.17954545362001, 84.57386363543002, 101.48863636257006, 118.62045454418009, 138.71136363472007, 155.84318181633003, 173.92272727095002, 183.57954545287004, 195.39772727131006, 205.05454545323008, 216.8727272716701, 226.52954545359012, 238.34772727203014, 248.00454545395016, 259.8227272723901, 269.47954545431], 'D11-2': [], 'D12': [13.61363636314, 30.290909090249997, 33.40454545405, 36.04090909035, 47.84204545363, 60.89545454454, 63.54886363574, 65.63977272664, 77.14545454452, 90.19886363543002, 92.85227272663002, 94.94318181753003, 109.44318181707007, 126.12045454418009, 129.2340909079801, 131.87045454428008, 146.66590908922007, 163.34318181633003, 166.45681818013, 169.09318181643, 177.89999999825002, 187.32954545287004, 189.52272727138003, 191.15909090768002, 199.37499999861006, 208.80454545323008, 210.99772727174008, 212.63409090804006, 220.8499999989701, 230.27954545359012, 232.47272727210012, 234.1090909084001, 242.32499999933015, 251.75454545395016, 253.94772727246016, 255.58409090876015, 263.7999999996901, 273.22954545431, 275.42272727281994, 277.05909090911996], 'D13-1': [0, 2.63636363632, 37.222727272149996, 39.60909090847, 66.52613636304001, 68.91249999936002, 95.82954545393004, 98.46590909025005, 133.05227272608008, 135.68863636240008, 170.27499999823, 172.41136363454999, 191.74999999859003, 193.88636363491003, 213.22499999895007, 215.36136363527007, 234.6999999993101, 236.8363636356301, 256.17499999967015, 258.3113636359901], 'D13-2': [], 'D13-3': [], 'D13-4': [], 'D15-1': [13.79545454494, 17.181818181249998, 30.472727272049998, 47.97840909003, 51.063636362740006, 61.03181818094, 77.28181818092001, 80.36704545363001, 90.33522727183002, 109.62499999887007, 113.01136363518007, 126.30227272598009, 146.84772727102006, 150.23409090733006, 163.52499999813003, 177.99090908916003, 180.77499999827003, 187.42045454378004, 199.46590908952007, 202.24999999863007, 208.89545454414008, 220.9409090898801, 223.7249999989901, 230.37045454450012, 242.41590909024015, 245.19999999935015, 251.84545454486016, 263.8909090906001, 266.67499999971005, 273.32045454522], 'D15-2': [], 'D15-3': [], 'D17-1': [4.454545454140001, 21.586363635749997, 40.97272727183, 54.36704545364, 70.27613636272001, 83.67045454453002, 100.28409090807006, 117.41590908968008, 137.50681818022008, 154.63863636183004, 173.32045454365002, 182.97727272557003, 194.79545454401006, 204.45227272593007, 216.2704545443701, 225.9272727262901, 237.74545454473014, 247.40227272665015, 259.22045454509015, 268.87727272701005], 'D17-2': [], 'D27-1': [18.386363635749998, 51.967045453640004, 81.27045454453001, 114.21590908968008, 151.43863636183005, 181.37727272557004, 202.85227272593008, 224.32727272629012, 245.80227272665016, 267.27727272701003], 'D27-2': [], 'D27-3': [], 'D31-1': [1.09090909091, 14.99999999944, 38.06363636306, 48.88181818093, 67.36704545395001, 78.18522727182001, 96.92045454484004, 110.82954545337007, 134.14318181699008, 148.05227272552006, 170.86590908914, 178.59318181646003, 192.34090908950003, 200.06818181682007, 213.81590908986007, 221.5431818171801, 235.2909090902201, 243.01818181754015, 256.7659090905801, 264.49318181790005], 'D31-2': [], 'D31-3': [], 'D32-1': [1.7272727273200001, 16.181818181249998, 38.69999999947, 50.063636362740006, 68.00340909036001, 79.36704545363001, 97.55681818125004, 112.01136363518007, 134.7795454534001, 149.23409090733006, 171.50227272555, 179.77499999827003, 192.97727272591004, 201.24999999863007, 214.45227272627008, 222.7249999989901, 235.92727272663012, 244.19999999935015, 257.4022727269901, 265.67499999971005], 'D32-2': [], 'D32-3': [], 'D33-1': [1.0, 1.63636363641, 15.81818181764, 37.972727272149996, 38.60909090856, 49.69999999913, 67.27613636304001, 67.91249999945, 79.00340909002001, 96.82954545393004, 97.46590909034003, 111.64772727157008, 134.05227272608008, 134.6886363624901, 148.87045454372006, 170.77499999823, 171.41136363464, 179.41136363466003, 192.24999999859003, 192.88636363500004, 200.88636363502007, 213.72499999895007, 214.36136363536008, 222.36136363538012, 235.1999999993101, 235.83636363572012, 243.83636363574016, 256.67499999967015, 257.3113636360801, 265.31136363610005], 'D33-2': [], 'D41-1': [15.909090908549999, 49.79090909004, 79.09431818093002, 111.73863636248008, 148.96136363463006, 179.50227272557004, 200.97727272593008, 222.45227272629012, 243.92727272665016, 265.40227272701003], 'D41-2': [], 'D43': [4.36363636323, 40.90454545365, 70.20795454454002, 100.19318181716005, 137.41590908931008, 173.2749999982, 194.74999999856004, 216.22499999892008, 237.69999999928012, 259.17499999964014], 'D44': [4.27272727232, 13.15909090864, 40.83636363547, 47.50113636273, 70.13977272636002, 76.80454545362001, 100.10227272625005, 108.98863636257006, 137.32499999840007, 146.21136363472007, 173.22954545275, 177.67272727095002, 194.70454545311003, 199.14772727131006, 216.17954545347007, 220.6227272716701, 237.6545454538301, 242.09772727203014, 259.1295454541901, 263.5727272723901], 'D47': [2.18181818182, 16.727272726749998, 39.15454545397, 50.609090908240006, 68.45795454486002, 79.91249999913, 98.01136363575004, 112.55681818068007, 135.23409090790008, 149.77954545283006, 171.95681818005, 180.32045454377004, 193.43181818041003, 201.79545454413008, 214.90681818077007, 223.27045454449012, 236.38181818113011, 244.74545454485016, 257.8568181814901, 266.22045454521003], 'D65-1': [35.58636363585, 65.18522727214, 94.48863636303003, 131.4159090897801, 168.63863636193, 190.70454545318003, 212.17954545354007, 233.6545454539001, 255.12954545426015, 276.60454545461994], 'D65-2': [], 'D69': [33.58636363585, 63.68522727214, 92.98863636303003, 129.4159090897801, 166.63863636193, 189.70454545318003, 211.17954545354007, 232.6545454539001, 254.12954545426015, 275.60454545461994], 'Nital Etche, Hydrojen Embr.': [32.13181818105, 62.27613636274, 91.57954545363002, 127.9613636349801, 165.18409090713, 188.24999999838005, 209.7249999987401, 231.19999999910013, 252.67499999946017, 274.14999999981995]}\n",
            "new finish {'662': [32.13181818105, 37.222727272149996, 62.27613636274, 66.52613636304001, 91.57954545363002, 95.82954545393004, 127.9613636349801, 133.05227272608008, 165.18409090713, 170.27499999823, 188.24999999838005, 191.74999999859003, 209.7249999987401, 213.22499999895007, 231.19999999910013, 234.6999999993101, 252.67499999946017, 256.17499999967015, 274.14999999981995, 277.65000000002993], 'D11-1': [13.15909090864, 30.290909090249997, 47.50113636273, 60.89545454454, 76.80454545362001, 90.19886363543002, 108.98863636257006, 126.12045454418009, 146.21136363472007, 163.34318181633003, 177.67272727095002, 187.32954545287004, 199.14772727131006, 208.80454545323008, 220.6227272716701, 230.27954545359012, 242.09772727203014, 251.75454545395016, 263.5727272723901, 273.22954545431], 'D11-2': [], 'D12': [13.79545454494, 30.472727272049998, 33.58636363585, 36.222727272149996, 47.97840909003, 61.03181818094, 63.68522727214, 65.77613636304001, 77.28181818092001, 90.33522727183002, 92.98863636303003, 95.07954545393004, 109.62499999887007, 126.30227272598009, 129.4159090897801, 132.05227272608008, 146.84772727102006, 163.52499999813003, 166.63863636193, 169.27499999823, 177.99090908916003, 187.42045454378004, 189.70454545318003, 191.24999999859003, 199.46590908952007, 208.89545454414008, 211.17954545354007, 212.72499999895007, 220.9409090898801, 230.37045454450012, 232.6545454539001, 234.1999999993101, 242.41590909024015, 251.84545454486016, 254.12954545426015, 255.67499999967015, 263.8909090906001, 273.32045454522, 275.60454545461994, 277.15000000002993], 'D13-1': [1.0, 4.27272727232, 37.972727272149996, 40.83636363547, 67.27613636304001, 70.13977272636002, 96.82954545393004, 100.10227272625005, 134.05227272608008, 137.32499999840007, 170.77499999823, 173.22954545275, 192.24999999859003, 194.70454545311003, 213.72499999895007, 216.17954545347007, 235.1999999993101, 237.6545454538301, 256.67499999967015, 259.1295454541901], 'D13-2': [], 'D13-3': [], 'D13-4': [], 'D15-1': [14.99999999944, 18.386363635749998, 31.677272726549997, 48.88181818093, 51.967045453640004, 61.93522727184, 78.18522727182001, 81.27045454453001, 91.23863636273002, 110.82954545337007, 114.21590908968008, 127.5068181804801, 148.05227272552006, 151.43863636183005, 164.72954545263002, 178.59318181646003, 181.37727272557004, 188.02272727108004, 200.06818181682007, 202.85227272593008, 209.49772727144008, 221.5431818171801, 224.32727272629012, 230.97272727180012, 243.01818181754015, 245.80227272665016, 252.44772727216017, 264.49318181790005, 267.27727272701003, 273.92272727252], 'D15-2': [], 'D15-3': [], 'D17-1': [5.6590909086400005, 22.790909090249997, 41.87613636273, 55.27045454454, 71.17954545362001, 84.57386363543002, 101.48863636257006, 118.62045454418009, 138.71136363472007, 155.84318181633003, 173.92272727095002, 183.57954545287004, 195.39772727131006, 205.05454545323008, 216.8727272716701, 226.52954545359012, 238.34772727203014, 248.00454545395016, 259.8227272723901, 269.47954545431], 'D17-2': [], 'D27-1': [21.586363635749997, 54.36704545364, 83.67045454453002, 117.41590908968008, 154.63863636183004, 182.97727272557003, 204.45227272593007, 225.9272727262901, 247.40227272665015, 268.87727272701005], 'D27-2': [], 'D27-3': [], 'D31-1': [1.63636363641, 15.81818181764, 38.60909090856, 49.69999999913, 67.91249999945, 79.00340909002001, 97.46590909034003, 111.64772727157008, 134.6886363624901, 148.87045454372006, 171.41136363464, 179.41136363466003, 192.88636363500004, 200.88636363502007, 214.36136363536008, 222.36136363538012, 235.83636363572012, 243.83636363574016, 257.3113636360801, 265.31136363610005], 'D31-2': [], 'D31-3': [], 'D32-1': [2.18181818182, 16.727272726749998, 39.15454545397, 50.609090908240006, 68.45795454486002, 79.91249999913, 98.01136363575004, 112.55681818068007, 135.23409090790008, 149.77954545283006, 171.95681818005, 180.32045454377004, 193.43181818041003, 201.79545454413008, 214.90681818077007, 223.27045454449012, 236.38181818113011, 244.74545454485016, 257.8568181814901, 266.22045454521003], 'D32-2': [], 'D32-3': [], 'D33-1': [1.09090909091, 1.7272727273200001, 15.909090908549999, 38.06363636306, 38.69999999947, 49.79090909004, 67.36704545395001, 68.00340909036001, 79.09431818093002, 96.92045454484004, 97.55681818125004, 111.73863636248008, 134.14318181699008, 134.7795454534001, 148.96136363463006, 170.86590908914, 171.50227272555, 179.50227272557004, 192.34090908950003, 192.97727272591004, 200.97727272593008, 213.81590908986007, 214.45227272627008, 222.45227272629012, 235.2909090902201, 235.92727272663012, 243.92727272665016, 256.7659090905801, 257.4022727269901, 265.40227272701003], 'D33-2': [], 'D41-1': [16.181818181249998, 50.063636362740006, 79.36704545363001, 112.01136363518007, 149.23409090733006, 179.77499999827003, 201.24999999863007, 222.7249999989901, 244.19999999935015, 265.67499999971005], 'D41-2': [], 'D43': [4.454545454140001, 40.97272727183, 70.27613636272001, 100.28409090807006, 137.50681818022008, 173.32045454365002, 194.79545454401006, 216.2704545443701, 237.74545454473014, 259.22045454509015], 'D44': [4.36363636323, 13.61363636314, 40.90454545365, 47.84204545363, 70.20795454454002, 77.14545454452, 100.19318181716005, 109.44318181707007, 137.41590908931008, 146.66590908922007, 173.2749999982, 177.89999999825002, 194.74999999856004, 199.37499999861006, 216.22499999892008, 220.8499999989701, 237.69999999928012, 242.32499999933015, 259.17499999964014, 263.7999999996901], 'D47': [2.63636363632, 17.181818181249998, 39.60909090847, 51.063636362740006, 68.91249999936002, 80.36704545363001, 98.46590909025005, 113.01136363518007, 135.68863636240008, 150.23409090733006, 172.41136363454999, 180.77499999827003, 193.88636363491003, 202.24999999863007, 215.36136363527007, 223.7249999989901, 236.8363636356301, 245.19999999935015, 258.3113636359901, 266.67499999971005], 'D65-1': [36.04090909035, 65.63977272664, 94.94318181753003, 131.87045454428008, 169.09318181643, 191.15909090768002, 212.63409090804006, 234.1090909084001, 255.58409090876015, 277.05909090911996], 'D65-2': [], 'D69': [35.58636363585, 65.18522727214, 94.48863636303003, 131.4159090897801, 168.63863636193, 190.70454545318003, 212.17954545354007, 233.6545454539001, 255.12954545426015, 276.60454545461994], 'Nital Etche, Hydrojen Embr.': [33.40454545405, 63.54886363574, 92.85227272663002, 129.2340909079801, 166.45681818013, 189.52272727138003, 210.99772727174008, 232.47272727210012, 253.94772727246016, 275.42272727281994]}\n"
          ]
        }
      ]
    },
    {
      "cell_type": "markdown",
      "source": [
        "# Crossover\n"
      ],
      "metadata": {
        "id": "OW9v2ySzuh2H"
      }
    },
    {
      "cell_type": "code",
      "source": [
        "# test\n",
        "\n",
        "Kromozom1={'662': [26, 32, 58, 64, 90, 96, 122, 128, 154, 160, 186, 192, 218, 224, 250, 256, 282, 288, 314, 320], 'D11-1': [11, 23, 43, 55, 75, 87, 107, 119, 139, 151, 171, 183, 203, 215, 235, 247, 267, 279, 299, 311]}\n",
        "Kromozom2={'662': [314, 320, 288, 256, 160, 32, 218, 192, 282, 58, 90, 250, 26, 186, 96, 128, 154, 224, 122, 64], 'D11-1': [215, 183, 267, 279, 11, 43, 139, 171, 311, 119, 203, 235, 151, 55, 247, 23, 107, 75, 299, 87]}\n",
        "\n",
        "print(\"Kromozom1\",Kromozom1)\n",
        "print(\"Kromozom2\",Kromozom2)\n",
        "\n",
        "popu = []\n",
        "popu.append(Kromozom1)\n",
        "popu.append(Kromozom2)\n",
        "list1=popu[0] #dictionary'i listeye çevirdim.\n",
        "list2=popu[1]\n",
        "\n",
        "for m in list1:\n",
        "  mth=copy.deepcopy(list1[m])\n",
        "  fth=copy.deepcopy(list2[m])\n",
        "  null=[] \n",
        "  for i in range (len(mth)):\n",
        "    null.append(0)\n",
        "  \n",
        "  Control_1=[]\n",
        "  Control_2=[]\n",
        "  #print(\"mth:\",mth)\n",
        "  #print(\"fth:\",fth)\n",
        "\n",
        "  def crossover(parents1, parents2):\n",
        "      mother = parents1\n",
        "      father = parents2\n",
        "      index1 = random.randint(1, len(mth) - 2)\n",
        "      index2 = random.randint(1, len(mth) - 2)\n",
        "      if index1 == index2:\n",
        "        index1 = random.randint(1, len(mth) - 2)\n",
        "        index2 = random.randint(1, len(mth) - 2)     \n",
        "      if index1 > index2: index1, index2 = index2, index1   \n",
        "      child1 = null[:index1] + father[index1:index2] +null[index2:]\n",
        "      child2 = null[:index1] + mother[index1:index2] + null[index2:]\n",
        "      #print(index1,index2)\n",
        "      return (child1, child2)\n",
        "\n",
        "  mth1,fth1 = crossover(mth,fth) # Durum1\n",
        "  #print(\"new_mth:\",mth1)\n",
        "  #print(\"new_fth:\",fth1)\n",
        "\n",
        "  c=0\n",
        "  for i in range(len(mth)):\n",
        "    if mth1[i]!=0:\n",
        "      c=mth1[i]\n",
        "      break\n",
        "  index_c=0\n",
        "  for i in range(len(mth)):\n",
        "    if mth1[i]!=0:\n",
        "      index_c +=1\n",
        "  index_1=mth1.index(c)\n",
        "  index_2=index_1 + index_c\n",
        "\n",
        "\n",
        "  VLOOK_1=copy.deepcopy(mth1) #eşit olanları silmek için \n",
        "  VLOOK_2=copy.deepcopy(fth1)\n",
        "\n",
        "  for i in range(len(mth)):\n",
        "    j=0\n",
        "    while j != len(mth):\n",
        "      if mth[i] != mth1[j]:\n",
        "        VLOOK_1.append(5) # buraya yazdırmam lazımdı o yüzden öylesine işlem atadım.\n",
        "      else:\n",
        "        eleman=mth[i]\n",
        "        VLOOK_1.remove(eleman)\n",
        "        break\n",
        "      if j==len(mth)-1 :\n",
        "        Control_1.append(mth[i])\n",
        "      j+=1\n",
        "\n",
        "\n",
        "  for i in range(len(fth)):\n",
        "    j=0\n",
        "    while j != len(fth):\n",
        "      if fth[i] != fth1[j]:\n",
        "        VLOOK_1.append(5) # buraya yazdırmam lazımdı o yüzden öylesine işlem atadım.\n",
        "      else:\n",
        "        eleman=fth[i]\n",
        "        VLOOK_2.remove(eleman)\n",
        "        break\n",
        "      if j==len(mth)-1 :\n",
        "        Control_2.append(fth[i])\n",
        "      j+=1\n",
        "\n",
        "  mth1 = Control_1[:index_1] + mth1[index_1:index_2] +Control_1[index_1:]\n",
        "  #print(\"mth\",mth)\n",
        "  list1[m]=mth1\n",
        "  fth1 = Control_2[:index_1] + fth1[index_1:index_2] +Control_2[index_1:]\n",
        "  list2[m]=fth1\n",
        "  #print(\"fth\",fth1)\n",
        "  #print(\"new_mth1:\",mth1)\n",
        "  #print(\"new_fth1:\",fth1)\n",
        "\n",
        "print(\"Kromozom11\",list1)\n",
        "print(\"Kromozom22\",list2)\n"
      ],
      "metadata": {
        "colab": {
          "base_uri": "https://localhost:8080/"
        },
        "id": "eD-zlINPuh2R",
        "outputId": "3626a650-93db-45fe-bc31-a3e56ad7fa3b"
      },
      "execution_count": 13,
      "outputs": [
        {
          "output_type": "stream",
          "name": "stdout",
          "text": [
            "Kromozom1 {'662': [26, 32, 58, 64, 90, 96, 122, 128, 154, 160, 186, 192, 218, 224, 250, 256, 282, 288, 314, 320], 'D11-1': [11, 23, 43, 55, 75, 87, 107, 119, 139, 151, 171, 183, 203, 215, 235, 247, 267, 279, 299, 311]}\n",
            "Kromozom2 {'662': [314, 320, 288, 256, 160, 32, 218, 192, 282, 58, 90, 250, 26, 186, 96, 128, 154, 224, 122, 64], 'D11-1': [215, 183, 267, 279, 11, 43, 139, 171, 311, 119, 203, 235, 151, 55, 247, 23, 107, 75, 299, 87]}\n",
            "Kromozom11 {'662': [26, 32, 58, 64, 90, 122, 128, 154, 160, 186, 192, 218, 224, 250, 96, 256, 282, 288, 314, 320], 'D11-1': [11, 23, 55, 75, 87, 43, 139, 171, 311, 119, 203, 235, 107, 151, 183, 215, 247, 267, 279, 299]}\n",
            "Kromozom22 {'662': [314, 320, 288, 256, 160, 32, 218, 192, 282, 58, 90, 26, 186, 96, 250, 128, 154, 224, 122, 64], 'D11-1': [215, 267, 279, 11, 43, 87, 107, 119, 139, 151, 171, 183, 311, 203, 235, 55, 247, 23, 75, 299]}\n"
          ]
        }
      ]
    },
    {
      "cell_type": "code",
      "source": [
        ""
      ],
      "metadata": {
        "id": "Nyv1wtj8_l2n"
      },
      "execution_count": 13,
      "outputs": []
    },
    {
      "cell_type": "markdown",
      "source": [
        "."
      ],
      "metadata": {
        "id": "BGAWtmySAXWW"
      }
    },
    {
      "cell_type": "markdown",
      "source": [
        "    \n",
        "\n",
        "---\n",
        "   \n",
        "\n"
      ],
      "metadata": {
        "id": "DjWTYnE7-LS_"
      }
    },
    {
      "cell_type": "markdown",
      "source": [
        "### To do:\n",
        "  - turn the time calculation steps into a general function to use on each chromosome in the population \n",
        "  - check the processes in order across machines & give partial score when testing fitness\n",
        "  - check the cutoff points of the crossover, the randomness & then generalize it to fit as many chromosomes as needed"
      ],
      "metadata": {
        "id": "4MC1Z2jxAL1r"
      }
    },
    {
      "cell_type": "code",
      "source": [
        ""
      ],
      "metadata": {
        "id": "lkJQjt_qAVj8"
      },
      "execution_count": 13,
      "outputs": []
    }
  ]
}
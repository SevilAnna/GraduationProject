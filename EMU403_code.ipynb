{
  "nbformat": 4,
  "nbformat_minor": 0,
  "metadata": {
    "colab": {
      "name": "EMU403_code.ipynb",
      "provenance": [],
      "collapsed_sections": [
        "9NWoNaP3C6n1"
      ],
      "include_colab_link": true
    },
    "kernelspec": {
      "name": "python3",
      "display_name": "Python 3"
    },
    "language_info": {
      "name": "python"
    }
  },
  "cells": [
    {
      "cell_type": "markdown",
      "metadata": {
        "id": "view-in-github",
        "colab_type": "text"
      },
      "source": [
        "<a href=\"https://colab.research.google.com/github/SevilAnna/GraduationProject/blob/main/EMU403_code.ipynb\" target=\"_parent\"><img src=\"https://colab.research.google.com/assets/colab-badge.svg\" alt=\"Open In Colab\"/></a>"
      ]
    },
    {
      "cell_type": "markdown",
      "source": [
        "<h1>EMÜ 403 - Graduation Project</h1>\n",
        "\n",
        "---"
      ],
      "metadata": {
        "id": "ePsMaL4LMAZy"
      }
    },
    {
      "cell_type": "code",
      "source": [
        "# importing libraries for the project\n",
        "import pandas as pd\n",
        "import numpy as np\n",
        "from numpy.random import default_rng\n",
        "rng = default_rng()\n",
        "import random\n",
        "!pip install geneticalgorithm\n",
        "import geneticalgorithm as ga\n",
        "from geneticalgorithm import geneticalgorithm as ga\n",
        "print(\"done\")"
      ],
      "metadata": {
        "id": "YCgrQU6-E8b4",
        "colab": {
          "base_uri": "https://localhost:8080/"
        },
        "outputId": "5ca02ad5-043c-4a93-e47b-893ff1f7775b"
      },
      "execution_count": 54,
      "outputs": [
        {
          "output_type": "stream",
          "name": "stdout",
          "text": [
            "Requirement already satisfied: geneticalgorithm in /usr/local/lib/python3.7/dist-packages (1.0.2)\n",
            "Requirement already satisfied: numpy in /usr/local/lib/python3.7/dist-packages (from geneticalgorithm) (1.21.5)\n",
            "Requirement already satisfied: func-timeout in /usr/local/lib/python3.7/dist-packages (from geneticalgorithm) (4.3.5)\n",
            "done\n"
          ]
        }
      ]
    },
    {
      "cell_type": "markdown",
      "source": [
        "# Importing the Excel File"
      ],
      "metadata": {
        "id": "xADgo8YMFgxq"
      }
    },
    {
      "cell_type": "markdown",
      "source": [
        "Either import it from our PC or from the shared Google Drive\n",
        "\n",
        "🔴 <font color='red'>Kızçeler, Google Drive'dakini çalıştırın bence</font> 🔴"
      ],
      "metadata": {
        "id": "K8srfaqHF2pc"
      }
    },
    {
      "cell_type": "markdown",
      "source": [
        "## Import file from PC"
      ],
      "metadata": {
        "id": "9NWoNaP3C6n1"
      }
    },
    {
      "cell_type": "code",
      "execution_count": null,
      "metadata": {
        "colab": {
          "resources": {
            "http://localhost:8080/nbextensions/google.colab/files.js": {
              "data": "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",
              "ok": true,
              "headers": [
                [
                  "content-type",
                  "application/javascript"
                ]
              ],
              "status": 200,
              "status_text": ""
            }
          },
          "base_uri": "https://localhost:8080/",
          "height": 74
        },
        "id": "f0XjhQIHBo92",
        "outputId": "f2bea516-fa60-4e11-8259-17f6f57dba9f"
      },
      "outputs": [
        {
          "output_type": "display_data",
          "data": {
            "text/plain": [
              "<IPython.core.display.HTML object>"
            ],
            "text/html": [
              "\n",
              "     <input type=\"file\" id=\"files-05c31010-614e-45fb-b8d6-e86d6f282227\" name=\"files[]\" multiple disabled\n",
              "        style=\"border:none\" />\n",
              "     <output id=\"result-05c31010-614e-45fb-b8d6-e86d6f282227\">\n",
              "      Upload widget is only available when the cell has been executed in the\n",
              "      current browser session. Please rerun this cell to enable.\n",
              "      </output>\n",
              "      <script src=\"/nbextensions/google.colab/files.js\"></script> "
            ]
          },
          "metadata": {}
        },
        {
          "output_type": "stream",
          "name": "stdout",
          "text": [
            "Saving 13.03.2022_Küçük_örnek.XLSX to 13.03.2022_Küçük_örnek.XLSX\n"
          ]
        }
      ],
      "source": [
        "from google.colab import files\n",
        "uploaded = files.upload()"
      ]
    },
    {
      "cell_type": "code",
      "source": [
        "import io\n",
        "df = pd.read_excel(io.BytesIO(uploaded[\"13.03.2022_Küçük_örnek.XLSX\"]))"
      ],
      "metadata": {
        "id": "Qg8qyn0RB9E7"
      },
      "execution_count": null,
      "outputs": []
    },
    {
      "cell_type": "markdown",
      "source": [
        "## Import file from Google Drive"
      ],
      "metadata": {
        "id": "fcYzQLYmDCcR"
      }
    },
    {
      "cell_type": "code",
      "source": [
        "!pip install -U -q PyDrive\n",
        "from pydrive.auth import GoogleAuth\n",
        "from pydrive.drive import GoogleDrive\n",
        "from google.colab import auth\n",
        "from oauth2client.client import GoogleCredentials\n",
        "\n",
        "auth.authenticate_user()\n",
        "gauth = GoogleAuth()\n",
        "gauth.credentials = GoogleCredentials.get_application_default()\n",
        "drive = GoogleDrive(gauth)\n",
        "\n",
        "file_id = '1k0zZ--H6OepIr1qXGIT7iAHL0xqHLcBe'     # 10QcnE8uktxxG4SU8u1O94MOxqrXea2v2\n",
        "downloaded = drive.CreateFile({'id': file_id})"
      ],
      "metadata": {
        "id": "8uecGRXjCl9v"
      },
      "execution_count": 12,
      "outputs": []
    },
    {
      "cell_type": "code",
      "source": [
        "downloaded.GetContentFile('070322_Düzenlenme_DişliParçaları.xlsx')  # 13.03.2022_Küçük_örnek\n",
        "!ls -lha 070322_Düzenlenme_DişliParçaları.xlsx\n",
        "!pip install -q xlrd"
      ],
      "metadata": {
        "colab": {
          "base_uri": "https://localhost:8080/"
        },
        "id": "E8pJAUPvDT6K",
        "outputId": "ec2606b9-30ac-451d-f858-b4ffb9c8ce0d"
      },
      "execution_count": 13,
      "outputs": [
        {
          "output_type": "stream",
          "name": "stdout",
          "text": [
            "-rw-r--r-- 1 root root 156K Mar 21 17:36 070322_Düzenlenme_DişliParçaları.xlsx\n"
          ]
        }
      ]
    },
    {
      "cell_type": "code",
      "source": [
        "from openpyxl import Workbook,load_workbook\n",
        "df = pd.read_excel('070322_Düzenlenme_DişliParçaları.xlsx', sheet_name='Anka', header=0)\n",
        "del df['SÜRE (11 parça için)']\n",
        "del df['1 tanesi için kaç tane gerek']\n",
        "del df['PROSES']\n",
        "del df['Process time']\n",
        "df"
      ],
      "metadata": {
        "id": "WfA4qz9cEsuS",
        "colab": {
          "base_uri": "https://localhost:8080/",
          "height": 423
        },
        "outputId": "9ec25755-8418-485b-ea3b-adccd524e04f"
      },
      "execution_count": 14,
      "outputs": [
        {
          "output_type": "execute_result",
          "data": {
            "text/plain": [
              "    Makine                          İşlem  SETUP  SÜRE (1 parça için)  \\\n",
              "0      D13     Pre-Hardening Öncesi Torna    0.0             1.000000   \n",
              "1      D33                        Yıkama     0.0             0.090909   \n",
              "2      D31  Ön Sertleştirme (Isıl İşlem)     0.0             0.545455   \n",
              "3      D33                        Yıkama     0.0             0.090909   \n",
              "4      D32       Temperleme (Isıl İşlem)     0.0             0.454545   \n",
              "..     ...                            ...    ...                  ...   \n",
              "315    D12                        Yıkama     0.0             0.181818   \n",
              "316    D69                         Balans    0.0             1.000000   \n",
              "317    D65                           MPI     0.0             0.454545   \n",
              "318    D12                        Yıkama     0.0             0.090909   \n",
              "319    662                Kalite Kontrol     0.0             0.500000   \n",
              "\n",
              "                                       PARÇA  \n",
              "0           UM121T900201200 GEAR ENGINE Z35   \n",
              "1           UM121T900201200 GEAR ENGINE Z35   \n",
              "2           UM121T900201200 GEAR ENGINE Z35   \n",
              "3           UM121T900201200 GEAR ENGINE Z35   \n",
              "4           UM121T900201200 GEAR ENGINE Z35   \n",
              "..                                       ...  \n",
              "315  UM121T900204300 GEAR ALTERNATOR Z13 - 2  \n",
              "316  UM121T900204300 GEAR ALTERNATOR Z13 - 2  \n",
              "317  UM121T900204300 GEAR ALTERNATOR Z13 - 2  \n",
              "318  UM121T900204300 GEAR ALTERNATOR Z13 - 2  \n",
              "319  UM121T900204300 GEAR ALTERNATOR Z13 - 2  \n",
              "\n",
              "[320 rows x 5 columns]"
            ],
            "text/html": [
              "\n",
              "  <div id=\"df-81042e90-79af-4926-9a28-fff79ae90c31\">\n",
              "    <div class=\"colab-df-container\">\n",
              "      <div>\n",
              "<style scoped>\n",
              "    .dataframe tbody tr th:only-of-type {\n",
              "        vertical-align: middle;\n",
              "    }\n",
              "\n",
              "    .dataframe tbody tr th {\n",
              "        vertical-align: top;\n",
              "    }\n",
              "\n",
              "    .dataframe thead th {\n",
              "        text-align: right;\n",
              "    }\n",
              "</style>\n",
              "<table border=\"1\" class=\"dataframe\">\n",
              "  <thead>\n",
              "    <tr style=\"text-align: right;\">\n",
              "      <th></th>\n",
              "      <th>Makine</th>\n",
              "      <th>İşlem</th>\n",
              "      <th>SETUP</th>\n",
              "      <th>SÜRE (1 parça için)</th>\n",
              "      <th>PARÇA</th>\n",
              "    </tr>\n",
              "  </thead>\n",
              "  <tbody>\n",
              "    <tr>\n",
              "      <th>0</th>\n",
              "      <td>D13</td>\n",
              "      <td>Pre-Hardening Öncesi Torna</td>\n",
              "      <td>0.0</td>\n",
              "      <td>1.000000</td>\n",
              "      <td>UM121T900201200 GEAR ENGINE Z35</td>\n",
              "    </tr>\n",
              "    <tr>\n",
              "      <th>1</th>\n",
              "      <td>D33</td>\n",
              "      <td>Yıkama</td>\n",
              "      <td>0.0</td>\n",
              "      <td>0.090909</td>\n",
              "      <td>UM121T900201200 GEAR ENGINE Z35</td>\n",
              "    </tr>\n",
              "    <tr>\n",
              "      <th>2</th>\n",
              "      <td>D31</td>\n",
              "      <td>Ön Sertleştirme (Isıl İşlem)</td>\n",
              "      <td>0.0</td>\n",
              "      <td>0.545455</td>\n",
              "      <td>UM121T900201200 GEAR ENGINE Z35</td>\n",
              "    </tr>\n",
              "    <tr>\n",
              "      <th>3</th>\n",
              "      <td>D33</td>\n",
              "      <td>Yıkama</td>\n",
              "      <td>0.0</td>\n",
              "      <td>0.090909</td>\n",
              "      <td>UM121T900201200 GEAR ENGINE Z35</td>\n",
              "    </tr>\n",
              "    <tr>\n",
              "      <th>4</th>\n",
              "      <td>D32</td>\n",
              "      <td>Temperleme (Isıl İşlem)</td>\n",
              "      <td>0.0</td>\n",
              "      <td>0.454545</td>\n",
              "      <td>UM121T900201200 GEAR ENGINE Z35</td>\n",
              "    </tr>\n",
              "    <tr>\n",
              "      <th>...</th>\n",
              "      <td>...</td>\n",
              "      <td>...</td>\n",
              "      <td>...</td>\n",
              "      <td>...</td>\n",
              "      <td>...</td>\n",
              "    </tr>\n",
              "    <tr>\n",
              "      <th>315</th>\n",
              "      <td>D12</td>\n",
              "      <td>Yıkama</td>\n",
              "      <td>0.0</td>\n",
              "      <td>0.181818</td>\n",
              "      <td>UM121T900204300 GEAR ALTERNATOR Z13 - 2</td>\n",
              "    </tr>\n",
              "    <tr>\n",
              "      <th>316</th>\n",
              "      <td>D69</td>\n",
              "      <td>Balans</td>\n",
              "      <td>0.0</td>\n",
              "      <td>1.000000</td>\n",
              "      <td>UM121T900204300 GEAR ALTERNATOR Z13 - 2</td>\n",
              "    </tr>\n",
              "    <tr>\n",
              "      <th>317</th>\n",
              "      <td>D65</td>\n",
              "      <td>MPI</td>\n",
              "      <td>0.0</td>\n",
              "      <td>0.454545</td>\n",
              "      <td>UM121T900204300 GEAR ALTERNATOR Z13 - 2</td>\n",
              "    </tr>\n",
              "    <tr>\n",
              "      <th>318</th>\n",
              "      <td>D12</td>\n",
              "      <td>Yıkama</td>\n",
              "      <td>0.0</td>\n",
              "      <td>0.090909</td>\n",
              "      <td>UM121T900204300 GEAR ALTERNATOR Z13 - 2</td>\n",
              "    </tr>\n",
              "    <tr>\n",
              "      <th>319</th>\n",
              "      <td>662</td>\n",
              "      <td>Kalite Kontrol</td>\n",
              "      <td>0.0</td>\n",
              "      <td>0.500000</td>\n",
              "      <td>UM121T900204300 GEAR ALTERNATOR Z13 - 2</td>\n",
              "    </tr>\n",
              "  </tbody>\n",
              "</table>\n",
              "<p>320 rows × 5 columns</p>\n",
              "</div>\n",
              "      <button class=\"colab-df-convert\" onclick=\"convertToInteractive('df-81042e90-79af-4926-9a28-fff79ae90c31')\"\n",
              "              title=\"Convert this dataframe to an interactive table.\"\n",
              "              style=\"display:none;\">\n",
              "        \n",
              "  <svg xmlns=\"http://www.w3.org/2000/svg\" height=\"24px\"viewBox=\"0 0 24 24\"\n",
              "       width=\"24px\">\n",
              "    <path d=\"M0 0h24v24H0V0z\" fill=\"none\"/>\n",
              "    <path d=\"M18.56 5.44l.94 2.06.94-2.06 2.06-.94-2.06-.94-.94-2.06-.94 2.06-2.06.94zm-11 1L8.5 8.5l.94-2.06 2.06-.94-2.06-.94L8.5 2.5l-.94 2.06-2.06.94zm10 10l.94 2.06.94-2.06 2.06-.94-2.06-.94-.94-2.06-.94 2.06-2.06.94z\"/><path d=\"M17.41 7.96l-1.37-1.37c-.4-.4-.92-.59-1.43-.59-.52 0-1.04.2-1.43.59L10.3 9.45l-7.72 7.72c-.78.78-.78 2.05 0 2.83L4 21.41c.39.39.9.59 1.41.59.51 0 1.02-.2 1.41-.59l7.78-7.78 2.81-2.81c.8-.78.8-2.07 0-2.86zM5.41 20L4 18.59l7.72-7.72 1.47 1.35L5.41 20z\"/>\n",
              "  </svg>\n",
              "      </button>\n",
              "      \n",
              "  <style>\n",
              "    .colab-df-container {\n",
              "      display:flex;\n",
              "      flex-wrap:wrap;\n",
              "      gap: 12px;\n",
              "    }\n",
              "\n",
              "    .colab-df-convert {\n",
              "      background-color: #E8F0FE;\n",
              "      border: none;\n",
              "      border-radius: 50%;\n",
              "      cursor: pointer;\n",
              "      display: none;\n",
              "      fill: #1967D2;\n",
              "      height: 32px;\n",
              "      padding: 0 0 0 0;\n",
              "      width: 32px;\n",
              "    }\n",
              "\n",
              "    .colab-df-convert:hover {\n",
              "      background-color: #E2EBFA;\n",
              "      box-shadow: 0px 1px 2px rgba(60, 64, 67, 0.3), 0px 1px 3px 1px rgba(60, 64, 67, 0.15);\n",
              "      fill: #174EA6;\n",
              "    }\n",
              "\n",
              "    [theme=dark] .colab-df-convert {\n",
              "      background-color: #3B4455;\n",
              "      fill: #D2E3FC;\n",
              "    }\n",
              "\n",
              "    [theme=dark] .colab-df-convert:hover {\n",
              "      background-color: #434B5C;\n",
              "      box-shadow: 0px 1px 3px 1px rgba(0, 0, 0, 0.15);\n",
              "      filter: drop-shadow(0px 1px 2px rgba(0, 0, 0, 0.3));\n",
              "      fill: #FFFFFF;\n",
              "    }\n",
              "  </style>\n",
              "\n",
              "      <script>\n",
              "        const buttonEl =\n",
              "          document.querySelector('#df-81042e90-79af-4926-9a28-fff79ae90c31 button.colab-df-convert');\n",
              "        buttonEl.style.display =\n",
              "          google.colab.kernel.accessAllowed ? 'block' : 'none';\n",
              "\n",
              "        async function convertToInteractive(key) {\n",
              "          const element = document.querySelector('#df-81042e90-79af-4926-9a28-fff79ae90c31');\n",
              "          const dataTable =\n",
              "            await google.colab.kernel.invokeFunction('convertToInteractive',\n",
              "                                                     [key], {});\n",
              "          if (!dataTable) return;\n",
              "\n",
              "          const docLinkHtml = 'Like what you see? Visit the ' +\n",
              "            '<a target=\"_blank\" href=https://colab.research.google.com/notebooks/data_table.ipynb>data table notebook</a>'\n",
              "            + ' to learn more about interactive tables.';\n",
              "          element.innerHTML = '';\n",
              "          dataTable['output_type'] = 'display_data';\n",
              "          await google.colab.output.renderOutput(dataTable, element);\n",
              "          const docLink = document.createElement('div');\n",
              "          docLink.innerHTML = docLinkHtml;\n",
              "          element.appendChild(docLink);\n",
              "        }\n",
              "      </script>\n",
              "    </div>\n",
              "  </div>\n",
              "  "
            ]
          },
          "metadata": {},
          "execution_count": 14
        }
      ]
    },
    {
      "cell_type": "markdown",
      "source": [
        "# Next steps"
      ],
      "metadata": {
        "id": "3gQeCladFZsa"
      }
    },
    {
      "cell_type": "code",
      "source": [
        "a_list = np.unique(np.array(df[\"PARÇA\"]))\n",
        "a_list"
      ],
      "metadata": {
        "colab": {
          "base_uri": "https://localhost:8080/"
        },
        "id": "YoeCDJLmAlxn",
        "outputId": "e4710445-6adb-41ae-b7d1-033b7bb11a1c"
      },
      "execution_count": 15,
      "outputs": [
        {
          "output_type": "execute_result",
          "data": {
            "text/plain": [
              "array(['UM121T900201200 GEAR ENGINE Z35 ',\n",
              "       'UM121T900201600 GEAR INTERMEDIATE Z57',\n",
              "       'UM121T900201700 GEAR Z51 ', 'UM121T900202100 GEAR PROPELLER ',\n",
              "       'UM121T900203800 Z23 ', 'UM121T900203900 GEAR Z19 ',\n",
              "       'UM121T900203900 GEAR Z19 - 2',\n",
              "       'UM121T900204300 GEAR ALTERNATOR Z13 ',\n",
              "       'UM121T900204300 GEAR ALTERNATOR Z13 - 2'], dtype=object)"
            ]
          },
          "metadata": {},
          "execution_count": 15
        }
      ]
    },
    {
      "cell_type": "code",
      "source": [
        "num = df[\"PARÇA\"].nunique(a_list[0])\n",
        "u_num = [0]*num\n",
        "for i in range(9):\n",
        "  for item in df[\"PARÇA\"]:\n",
        "    if item == a_list[i]:\n",
        "      #print(item)\n",
        "      u_num[i] += 1\n",
        "u_num"
      ],
      "metadata": {
        "colab": {
          "base_uri": "https://localhost:8080/"
        },
        "id": "6FH66b_731pj",
        "outputId": "3f0bea5b-a76e-42a9-dc6d-8852e18baeeb"
      },
      "execution_count": 20,
      "outputs": [
        {
          "output_type": "execute_result",
          "data": {
            "text/plain": [
              "[32, 32, 64, 32, 32, 32, 32, 32, 32]"
            ]
          },
          "metadata": {},
          "execution_count": 20
        }
      ]
    },
    {
      "cell_type": "code",
      "source": [
        "processes = []\n",
        "for i in range(num):\n",
        "  processes.append([])\n",
        "#print(processes)\n",
        "\n",
        "j = 0\n",
        "k = 0\n",
        "total = 0\n",
        "for i in range(len(u_num)):\n",
        "  total += u_num[i]\n",
        "  while j < total:\n",
        "    if j == total:\n",
        "      k += 1\n",
        "    #print(i,j,k,total,processes)\n",
        "    #print(processes[i])\n",
        "    processes[i].append(j+1)\n",
        "    j += 1\n",
        "  #print(total)\n",
        "\n",
        "for i in processes:\n",
        "  print(len(i),i)"
      ],
      "metadata": {
        "colab": {
          "base_uri": "https://localhost:8080/"
        },
        "id": "Z8VRvnAYEwKV",
        "outputId": "f8b93f17-b2c6-4a77-c54e-1883e8ff6b24"
      },
      "execution_count": 74,
      "outputs": [
        {
          "output_type": "stream",
          "name": "stdout",
          "text": [
            "32 [1, 2, 3, 4, 5, 6, 7, 8, 9, 10, 11, 12, 13, 14, 15, 16, 17, 18, 19, 20, 21, 22, 23, 24, 25, 26, 27, 28, 29, 30, 31, 32]\n",
            "32 [33, 34, 35, 36, 37, 38, 39, 40, 41, 42, 43, 44, 45, 46, 47, 48, 49, 50, 51, 52, 53, 54, 55, 56, 57, 58, 59, 60, 61, 62, 63, 64]\n",
            "64 [65, 66, 67, 68, 69, 70, 71, 72, 73, 74, 75, 76, 77, 78, 79, 80, 81, 82, 83, 84, 85, 86, 87, 88, 89, 90, 91, 92, 93, 94, 95, 96, 97, 98, 99, 100, 101, 102, 103, 104, 105, 106, 107, 108, 109, 110, 111, 112, 113, 114, 115, 116, 117, 118, 119, 120, 121, 122, 123, 124, 125, 126, 127, 128]\n",
            "32 [129, 130, 131, 132, 133, 134, 135, 136, 137, 138, 139, 140, 141, 142, 143, 144, 145, 146, 147, 148, 149, 150, 151, 152, 153, 154, 155, 156, 157, 158, 159, 160]\n",
            "32 [161, 162, 163, 164, 165, 166, 167, 168, 169, 170, 171, 172, 173, 174, 175, 176, 177, 178, 179, 180, 181, 182, 183, 184, 185, 186, 187, 188, 189, 190, 191, 192]\n",
            "32 [193, 194, 195, 196, 197, 198, 199, 200, 201, 202, 203, 204, 205, 206, 207, 208, 209, 210, 211, 212, 213, 214, 215, 216, 217, 218, 219, 220, 221, 222, 223, 224]\n",
            "32 [225, 226, 227, 228, 229, 230, 231, 232, 233, 234, 235, 236, 237, 238, 239, 240, 241, 242, 243, 244, 245, 246, 247, 248, 249, 250, 251, 252, 253, 254, 255, 256]\n",
            "32 [257, 258, 259, 260, 261, 262, 263, 264, 265, 266, 267, 268, 269, 270, 271, 272, 273, 274, 275, 276, 277, 278, 279, 280, 281, 282, 283, 284, 285, 286, 287, 288]\n",
            "32 [289, 290, 291, 292, 293, 294, 295, 296, 297, 298, 299, 300, 301, 302, 303, 304, 305, 306, 307, 308, 309, 310, 311, 312, 313, 314, 315, 316, 317, 318, 319, 320]\n"
          ]
        }
      ]
    },
    {
      "cell_type": "code",
      "source": [
        "# Mathematical Model\n",
        "\n",
        "# Constraints\n"
      ],
      "metadata": {
        "id": "jfd7SN5-E2aW"
      },
      "execution_count": null,
      "outputs": []
    },
    {
      "cell_type": "code",
      "source": [
        "def RandomList(nn, start = 1, end = 100):\n",
        "    arr = []\n",
        "    tmp = random.randint(start, end)\n",
        "    for x in range(nn):\n",
        "        while tmp in arr:\n",
        "            tmp = random.randint(start, end)\n",
        "        arr.append(tmp)  \n",
        "    return arr"
      ],
      "metadata": {
        "id": "RC5jqLQ5thMM"
      },
      "execution_count": 50,
      "outputs": []
    },
    {
      "cell_type": "code",
      "source": [
        "num_genes = total\n",
        "num_chro = 8\n",
        "popu_size = (num_chro,num_genes)\n",
        "new_popu = []\n",
        "for i in range(num_chro):\n",
        "  new_popu.append([])\n",
        "  new_popu[i] = RandomList(len(df[\"PARÇA\"]),1,len(df[\"PARÇA\"]))  #rng.choice(total+1, total+1, replace=False)\n",
        "\n",
        "for i in new_popu:\n",
        "  print(i)"
      ],
      "metadata": {
        "colab": {
          "base_uri": "https://localhost:8080/"
        },
        "id": "7ubwVbKTzeTb",
        "outputId": "c4655560-3429-41b1-81f9-87c8fafa6ba5"
      },
      "execution_count": 73,
      "outputs": [
        {
          "output_type": "stream",
          "name": "stdout",
          "text": [
            "[71, 82, 250, 12, 284, 288, 297, 277, 317, 86, 262, 178, 246, 212, 241, 93, 219, 308, 259, 40, 77, 70, 184, 234, 13, 247, 101, 131, 111, 199, 44, 61, 266, 264, 72, 81, 66, 20, 128, 75, 300, 213, 208, 105, 104, 226, 296, 39, 63, 310, 303, 140, 272, 156, 261, 244, 142, 174, 83, 114, 210, 55, 171, 23, 278, 271, 94, 46, 177, 239, 154, 143, 255, 141, 108, 273, 130, 124, 18, 41, 159, 144, 191, 97, 79, 299, 294, 31, 263, 172, 201, 14, 120, 91, 220, 4, 188, 216, 52, 30, 211, 217, 88, 56, 286, 230, 319, 69, 152, 252, 237, 85, 8, 113, 54, 138, 123, 207, 34, 147, 320, 204, 316, 107, 315, 99, 35, 183, 176, 228, 162, 146, 98, 258, 22, 289, 180, 231, 256, 292, 73, 170, 302, 222, 127, 36, 270, 186, 58, 232, 275, 251, 48, 117, 305, 125, 100, 215, 132, 281, 25, 118, 293, 202, 68, 269, 103, 28, 318, 134, 47, 76, 276, 78, 112, 313, 116, 274, 160, 50, 155, 233, 168, 80, 254, 122, 151, 161, 32, 236, 1, 121, 153, 90, 5, 11, 65, 136, 129, 312, 96, 227, 242, 197, 304, 279, 238, 206, 19, 89, 235, 10, 290, 59, 74, 224, 282, 268, 109, 64, 185, 57, 192, 7, 175, 135, 33, 187, 181, 37, 26, 223, 15, 164, 214, 166, 218, 6, 257, 157, 291, 194, 106, 229, 45, 29, 298, 285, 84, 306, 102, 150, 133, 189, 240, 225, 307, 198, 149, 295, 200, 158, 148, 115, 205, 16, 60, 287, 53, 169, 301, 221, 245, 260, 17, 280, 27, 126, 21, 196, 137, 203, 267, 145, 163, 38, 173, 87, 67, 314, 309, 3, 9, 167, 49, 243, 179, 51, 248, 311, 265, 209, 249, 182, 110, 2, 24, 165, 42, 62, 139, 92, 190, 95, 193, 43, 283, 119, 253, 195]\n",
            "[183, 82, 49, 266, 256, 11, 5, 317, 269, 254, 94, 286, 117, 39, 217, 69, 147, 87, 47, 160, 21, 205, 238, 272, 155, 288, 215, 241, 53, 176, 197, 278, 61, 174, 188, 146, 34, 1, 30, 221, 236, 289, 118, 283, 271, 157, 139, 180, 137, 148, 64, 265, 57, 301, 154, 162, 275, 24, 73, 132, 268, 101, 131, 138, 231, 48, 192, 152, 20, 316, 67, 140, 130, 216, 218, 199, 90, 164, 227, 232, 18, 294, 257, 276, 291, 115, 127, 259, 38, 178, 83, 312, 255, 193, 125, 89, 210, 6, 4, 63, 134, 179, 68, 36, 298, 163, 247, 58, 65, 260, 44, 142, 102, 62, 250, 51, 211, 224, 293, 78, 295, 72, 245, 234, 207, 151, 145, 185, 81, 184, 285, 110, 91, 302, 213, 292, 114, 280, 122, 320, 77, 303, 230, 9, 284, 308, 290, 222, 135, 33, 19, 121, 270, 297, 181, 191, 15, 12, 274, 212, 2, 133, 242, 98, 71, 177, 158, 186, 223, 306, 168, 106, 299, 264, 8, 310, 244, 116, 277, 304, 248, 194, 159, 200, 129, 172, 175, 54, 119, 219, 141, 126, 120, 23, 262, 86, 189, 237, 25, 202, 307, 243, 76, 300, 46, 182, 22, 29, 209, 296, 204, 50, 105, 60, 97, 56, 220, 42, 318, 208, 92, 311, 173, 203, 31, 111, 214, 144, 59, 136, 165, 85, 13, 267, 96, 79, 95, 109, 314, 26, 309, 235, 169, 233, 170, 17, 70, 93, 99, 171, 41, 195, 279, 258, 104, 249, 7, 261, 103, 305, 123, 313, 16, 108, 107, 28, 201, 74, 225, 281, 112, 229, 3, 52, 55, 66, 88, 167, 240, 43, 226, 113, 196, 45, 37, 14, 156, 143, 319, 228, 166, 206, 128, 251, 32, 253, 239, 75, 161, 187, 35, 246, 100, 263, 80, 252, 40, 282, 149, 287, 10, 124, 190, 27, 153, 198, 273, 84, 315, 150]\n",
            "[57, 64, 239, 189, 106, 256, 48, 284, 269, 186, 145, 116, 124, 299, 50, 85, 76, 110, 275, 248, 185, 19, 318, 104, 303, 82, 25, 8, 44, 308, 201, 211, 174, 17, 6, 105, 1, 66, 90, 266, 273, 234, 119, 163, 235, 69, 53, 314, 169, 91, 272, 134, 276, 286, 292, 100, 287, 253, 153, 152, 62, 310, 93, 306, 24, 184, 127, 274, 251, 279, 170, 309, 254, 199, 150, 218, 143, 240, 18, 260, 156, 5, 175, 41, 15, 33, 205, 49, 61, 195, 83, 193, 109, 70, 261, 77, 139, 20, 103, 166, 181, 37, 130, 21, 95, 26, 22, 213, 144, 203, 295, 236, 56, 190, 42, 137, 81, 13, 247, 300, 142, 58, 40, 112, 2, 304, 102, 228, 263, 268, 28, 117, 258, 87, 60, 255, 120, 78, 302, 86, 307, 177, 198, 162, 158, 63, 264, 267, 32, 31, 291, 301, 146, 36, 108, 221, 114, 215, 39, 149, 226, 164, 115, 288, 10, 257, 224, 38, 313, 7, 178, 35, 243, 79, 160, 140, 128, 179, 154, 67, 297, 133, 3, 271, 88, 206, 311, 107, 315, 294, 209, 98, 202, 136, 293, 204, 65, 168, 245, 148, 252, 30, 125, 250, 180, 71, 118, 183, 59, 167, 259, 80, 54, 99, 208, 72, 111, 237, 317, 289, 223, 138, 171, 212, 173, 285, 101, 165, 73, 126, 147, 200, 84, 232, 12, 188, 270, 172, 210, 92, 231, 29, 233, 249, 4, 151, 229, 197, 230, 196, 265, 132, 34, 51, 278, 141, 23, 75, 262, 280, 122, 52, 121, 281, 123, 68, 241, 27, 207, 14, 192, 296, 43, 217, 16, 45, 97, 246, 216, 227, 222, 74, 161, 219, 191, 316, 159, 46, 129, 312, 155, 131, 187, 320, 135, 176, 238, 55, 194, 157, 214, 290, 305, 319, 47, 283, 220, 94, 9, 298, 113, 242, 244, 225, 182, 11, 89, 277, 96, 282]\n",
            "[320, 198, 9, 63, 254, 278, 151, 132, 305, 45, 168, 17, 239, 114, 5, 255, 93, 116, 123, 317, 172, 105, 223, 213, 127, 170, 191, 51, 163, 22, 224, 121, 125, 92, 294, 15, 142, 193, 124, 181, 53, 48, 18, 237, 23, 207, 56, 96, 199, 178, 262, 59, 306, 166, 11, 100, 177, 274, 220, 200, 304, 147, 234, 162, 133, 159, 246, 264, 130, 226, 307, 12, 60, 82, 183, 216, 80, 233, 106, 62, 78, 291, 88, 115, 257, 90, 311, 272, 161, 219, 13, 283, 318, 244, 315, 153, 235, 35, 37, 217, 203, 1, 131, 204, 175, 195, 65, 117, 77, 245, 156, 319, 273, 167, 241, 218, 109, 36, 110, 222, 14, 192, 85, 221, 43, 185, 140, 230, 98, 3, 24, 169, 32, 242, 55, 38, 189, 95, 248, 299, 129, 135, 103, 247, 50, 285, 293, 44, 61, 40, 289, 70, 206, 227, 16, 228, 309, 180, 86, 66, 253, 249, 150, 308, 259, 84, 27, 122, 310, 158, 261, 211, 215, 196, 64, 4, 34, 97, 176, 292, 75, 187, 208, 137, 58, 72, 19, 119, 120, 144, 139, 83, 126, 107, 287, 284, 205, 104, 179, 47, 194, 160, 256, 41, 46, 232, 99, 71, 267, 81, 258, 240, 231, 113, 225, 155, 26, 288, 28, 128, 68, 184, 143, 118, 269, 94, 8, 201, 52, 312, 296, 252, 20, 295, 250, 42, 279, 73, 209, 30, 87, 112, 6, 314, 210, 67, 57, 197, 33, 134, 171, 79, 39, 303, 49, 280, 91, 290, 54, 276, 270, 21, 212, 190, 76, 10, 260, 2, 297, 186, 202, 301, 173, 298, 268, 277, 157, 154, 243, 265, 271, 7, 188, 238, 31, 145, 138, 102, 152, 111, 108, 263, 313, 214, 148, 69, 136, 174, 164, 300, 101, 251, 146, 89, 74, 266, 236, 282, 281, 302, 316, 165, 286, 275, 182, 229, 141, 149, 25, 29]\n",
            "[131, 39, 60, 108, 136, 119, 47, 223, 116, 158, 294, 66, 59, 250, 293, 25, 1, 63, 112, 56, 163, 182, 159, 262, 165, 134, 196, 254, 194, 220, 255, 259, 110, 307, 45, 265, 178, 77, 83, 241, 70, 280, 115, 160, 51, 64, 283, 320, 11, 6, 312, 142, 93, 69, 304, 205, 234, 215, 252, 101, 214, 192, 242, 68, 153, 314, 176, 287, 54, 168, 138, 166, 298, 41, 14, 191, 206, 73, 226, 272, 188, 211, 71, 274, 132, 50, 269, 164, 100, 221, 207, 180, 113, 111, 27, 244, 48, 44, 67, 249, 61, 65, 129, 216, 149, 281, 10, 21, 185, 24, 306, 143, 266, 292, 16, 126, 46, 209, 213, 286, 57, 91, 276, 30, 264, 133, 137, 37, 170, 9, 76, 301, 285, 187, 247, 237, 271, 193, 167, 169, 300, 28, 296, 154, 268, 121, 257, 40, 120, 125, 72, 228, 197, 12, 104, 35, 29, 319, 114, 79, 106, 289, 251, 49, 245, 53, 278, 282, 198, 233, 38, 124, 172, 175, 103, 201, 3, 190, 157, 89, 258, 186, 7, 147, 23, 88, 263, 267, 118, 97, 202, 144, 20, 270, 18, 84, 19, 315, 236, 303, 55, 232, 155, 239, 42, 161, 43, 92, 96, 75, 317, 297, 218, 130, 140, 81, 15, 309, 5, 174, 22, 99, 102, 229, 318, 141, 199, 295, 313, 277, 308, 107, 246, 204, 253, 210, 200, 256, 86, 279, 261, 127, 177, 208, 82, 183, 290, 146, 32, 275, 109, 8, 62, 152, 184, 181, 189, 217, 222, 235, 145, 243, 139, 105, 156, 305, 224, 33, 195, 13, 17, 227, 148, 90, 128, 58, 87, 34, 162, 225, 80, 260, 74, 302, 310, 52, 98, 288, 151, 179, 238, 36, 2, 311, 171, 122, 240, 94, 212, 203, 230, 117, 284, 85, 150, 291, 299, 95, 4, 135, 78, 123, 173, 26, 31, 316, 273, 231, 248, 219]\n",
            "[277, 22, 268, 254, 218, 32, 313, 235, 111, 14, 264, 66, 35, 10, 108, 175, 21, 13, 226, 311, 289, 114, 244, 219, 293, 192, 128, 228, 100, 275, 131, 318, 242, 89, 124, 16, 76, 283, 302, 225, 25, 251, 319, 56, 286, 253, 186, 52, 247, 150, 310, 141, 161, 54, 99, 138, 221, 305, 232, 203, 139, 314, 17, 47, 246, 278, 260, 122, 136, 23, 233, 26, 50, 182, 170, 299, 125, 250, 106, 45, 117, 288, 206, 245, 43, 280, 198, 292, 271, 316, 49, 84, 193, 284, 295, 223, 39, 195, 146, 196, 102, 109, 300, 200, 40, 210, 57, 276, 77, 306, 252, 48, 241, 107, 180, 155, 119, 317, 97, 162, 179, 214, 18, 164, 59, 113, 163, 144, 2, 81, 308, 69, 123, 73, 88, 194, 169, 68, 173, 204, 262, 237, 41, 130, 303, 129, 240, 120, 296, 256, 11, 44, 126, 70, 79, 153, 103, 279, 222, 294, 53, 80, 142, 158, 209, 5, 154, 272, 201, 147, 301, 34, 231, 7, 304, 227, 298, 101, 309, 171, 287, 91, 216, 90, 6, 149, 157, 127, 24, 82, 151, 31, 238, 133, 28, 285, 67, 19, 188, 236, 265, 213, 33, 64, 65, 249, 60, 4, 86, 184, 132, 281, 118, 263, 185, 258, 29, 160, 199, 211, 152, 230, 145, 143, 181, 177, 63, 42, 243, 87, 74, 220, 266, 312, 85, 1, 255, 30, 178, 95, 75, 187, 38, 248, 27, 205, 140, 270, 234, 257, 37, 71, 8, 98, 58, 61, 9, 183, 96, 115, 315, 320, 269, 137, 159, 134, 172, 92, 217, 215, 78, 148, 12, 267, 36, 282, 135, 197, 105, 93, 239, 189, 229, 168, 273, 259, 208, 307, 121, 167, 291, 116, 190, 166, 94, 55, 72, 15, 224, 165, 62, 156, 83, 274, 297, 212, 191, 290, 20, 207, 110, 202, 176, 46, 261, 112, 3, 51, 104, 174]\n",
            "[83, 256, 17, 233, 171, 78, 209, 274, 295, 140, 203, 217, 68, 306, 48, 160, 24, 246, 297, 141, 268, 93, 273, 138, 196, 135, 298, 270, 172, 156, 279, 180, 113, 119, 85, 107, 74, 179, 305, 228, 16, 77, 198, 169, 151, 317, 43, 223, 237, 26, 154, 57, 300, 242, 111, 290, 213, 96, 123, 261, 205, 275, 291, 186, 11, 121, 44, 193, 39, 50, 7, 285, 152, 1, 155, 215, 158, 40, 84, 45, 90, 316, 247, 265, 283, 286, 288, 56, 184, 102, 144, 225, 206, 170, 31, 234, 150, 287, 103, 226, 124, 245, 104, 54, 130, 311, 63, 257, 250, 162, 15, 79, 185, 87, 61, 137, 76, 165, 94, 127, 25, 95, 227, 18, 5, 200, 239, 254, 62, 187, 312, 52, 36, 292, 114, 195, 147, 278, 149, 214, 34, 269, 148, 136, 53, 118, 109, 13, 133, 35, 97, 120, 32, 112, 23, 194, 42, 105, 139, 10, 232, 280, 65, 38, 66, 69, 307, 189, 91, 146, 59, 204, 303, 218, 294, 75, 89, 276, 33, 197, 277, 315, 238, 219, 64, 320, 220, 164, 222, 159, 201, 199, 318, 167, 183, 211, 82, 153, 192, 128, 145, 29, 188, 14, 108, 255, 70, 251, 131, 129, 22, 8, 37, 163, 2, 302, 177, 289, 230, 58, 73, 71, 260, 249, 175, 216, 244, 190, 72, 142, 49, 282, 27, 212, 235, 98, 174, 125, 3, 224, 67, 115, 99, 28, 231, 243, 314, 271, 60, 253, 51, 259, 284, 176, 319, 308, 6, 293, 229, 157, 178, 210, 117, 262, 207, 132, 272, 202, 110, 47, 313, 309, 267, 41, 46, 299, 126, 240, 81, 100, 122, 248, 166, 208, 143, 4, 30, 116, 264, 101, 21, 281, 168, 161, 252, 19, 9, 20, 241, 296, 191, 310, 86, 266, 263, 88, 92, 304, 106, 55, 12, 221, 182, 236, 258, 181, 301, 134, 173, 80]\n",
            "[265, 219, 210, 20, 124, 291, 242, 31, 75, 317, 131, 52, 212, 227, 84, 2, 10, 146, 145, 74, 134, 34, 235, 115, 55, 282, 222, 311, 15, 245, 19, 142, 166, 152, 138, 24, 140, 286, 225, 68, 206, 42, 276, 90, 73, 239, 71, 313, 87, 190, 54, 70, 88, 195, 249, 312, 309, 9, 298, 147, 226, 177, 248, 30, 287, 8, 168, 60, 95, 112, 148, 213, 262, 113, 215, 163, 319, 301, 259, 236, 132, 126, 22, 122, 156, 318, 18, 82, 40, 240, 143, 304, 178, 108, 64, 184, 293, 123, 105, 83, 204, 89, 278, 80, 14, 241, 51, 125, 250, 11, 41, 136, 97, 264, 135, 180, 170, 94, 133, 275, 118, 162, 320, 294, 201, 153, 27, 205, 7, 292, 93, 208, 160, 306, 192, 231, 266, 37, 273, 50, 164, 220, 81, 171, 104, 218, 271, 197, 29, 299, 100, 1, 127, 193, 23, 252, 290, 269, 16, 243, 67, 35, 191, 66, 186, 120, 155, 238, 117, 150, 300, 175, 228, 56, 58, 86, 114, 49, 13, 57, 203, 314, 5, 61, 36, 297, 174, 289, 106, 267, 173, 109, 251, 161, 181, 69, 4, 261, 260, 48, 44, 72, 303, 167, 305, 32, 196, 39, 165, 310, 279, 214, 244, 199, 12, 179, 182, 45, 101, 187, 283, 144, 33, 258, 255, 224, 234, 308, 63, 116, 230, 198, 91, 202, 316, 99, 159, 139, 272, 128, 92, 256, 119, 21, 110, 53, 183, 121, 285, 151, 247, 207, 25, 76, 77, 185, 284, 78, 26, 268, 43, 85, 96, 246, 103, 263, 3, 280, 233, 107, 79, 102, 200, 46, 270, 137, 295, 158, 176, 130, 217, 223, 254, 307, 154, 281, 59, 315, 172, 221, 296, 216, 141, 129, 277, 17, 47, 302, 257, 111, 169, 229, 188, 237, 274, 28, 232, 189, 194, 62, 149, 157, 288, 98, 65, 211, 6, 253, 209, 38]\n"
          ]
        }
      ]
    },
    {
      "cell_type": "code",
      "source": [
        ""
      ],
      "metadata": {
        "id": "cqYxyW34y2sn"
      },
      "execution_count": null,
      "outputs": []
    }
  ]
}
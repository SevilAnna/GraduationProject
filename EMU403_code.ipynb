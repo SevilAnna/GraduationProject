{
  "nbformat": 4,
  "nbformat_minor": 0,
  "metadata": {
    "colab": {
      "name": "EMU403_code.ipynb",
      "provenance": [],
      "collapsed_sections": [],
      "include_colab_link": true
    },
    "kernelspec": {
      "name": "python3",
      "display_name": "Python 3"
    },
    "language_info": {
      "name": "python"
    }
  },
  "cells": [
    {
      "cell_type": "markdown",
      "metadata": {
        "id": "view-in-github",
        "colab_type": "text"
      },
      "source": [
        "<a href=\"https://colab.research.google.com/github/SevilAnna/GraduationProject/blob/main/EMU403_code.ipynb\" target=\"_parent\"><img src=\"https://colab.research.google.com/assets/colab-badge.svg\" alt=\"Open In Colab\"/></a>"
      ]
    },
    {
      "cell_type": "markdown",
      "source": [
        "<h1>EMÜ 403 - Graduation Project</h1>\n",
        "\n",
        "---"
      ],
      "metadata": {
        "id": "ePsMaL4LMAZy"
      }
    },
    {
      "cell_type": "markdown",
      "source": [
        "\n",
        "<font color='red'> 🔴🔴 Kızlar 🔴🔴</font> \n",
        "</br></br>Kod üzerinde çalışacaksanız:\n",
        "- Öncelikle kodun en son versiyonunun <a href=\"https://github.com/SevilAnna/GraduationProject\">Github</a>'da olduğundan emin olun. \n",
        "- Drive'daki \"Düzenlenmiş_Dişli_Parçaları\" Excelini kendi bilgisayarınıza indirin. \n",
        "- Veriyi çekmek için aşağıdaki en az ilk 3 kutudaki kodu çalıştırın.\n",
        "- Github'a kaydederken \"main branch\"e değil, başka bir yan branch'e kaydedin.\n",
        "</br></br>- Sevil</br></br>"
      ],
      "metadata": {
        "id": "kzmKo3p4saIK"
      }
    },
    {
      "cell_type": "markdown",
      "source": [
        "## Importing Libraries & the Excel File"
      ],
      "metadata": {
        "id": "xADgo8YMFgxq"
      }
    },
    {
      "cell_type": "markdown",
      "source": [
        "### Importing libraries for the project"
      ],
      "metadata": {
        "id": "V-j53VPBBzq4"
      }
    },
    {
      "cell_type": "code",
      "source": [
        "import pandas as pd\n",
        "import numpy as np\n",
        "from numpy.random import default_rng\n",
        "rng = default_rng()\n",
        "import random\n",
        "import copy\n",
        "#!pip install geneticalgorithm\n",
        "#import geneticalgorithm as ga\n",
        "#from geneticalgorithm import geneticalgorithm as ga\n",
        "print(\"done\")"
      ],
      "metadata": {
        "id": "YCgrQU6-E8b4",
        "colab": {
          "base_uri": "https://localhost:8080/"
        },
        "outputId": "3ec15ae8-6374-4cc5-9feb-b48dd470c1f0"
      },
      "execution_count": 2,
      "outputs": [
        {
          "output_type": "stream",
          "name": "stdout",
          "text": [
            "done\n"
          ]
        }
      ]
    },
    {
      "cell_type": "markdown",
      "source": [
        "### Importing the Excel file"
      ],
      "metadata": {
        "id": "F2mPwe7qB5uO"
      }
    },
    {
      "cell_type": "code",
      "execution_count": 3,
      "metadata": {
        "colab": {
          "resources": {
            "http://localhost:8080/nbextensions/google.colab/files.js": {
              "data": "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",
              "ok": true,
              "headers": [
                [
                  "content-type",
                  "application/javascript"
                ]
              ],
              "status": 200,
              "status_text": ""
            }
          },
          "base_uri": "https://localhost:8080/",
          "height": 73
        },
        "id": "f0XjhQIHBo92",
        "outputId": "fd186e29-586e-4164-fdc4-b6337d735a25"
      },
      "outputs": [
        {
          "output_type": "display_data",
          "data": {
            "text/plain": [
              "<IPython.core.display.HTML object>"
            ],
            "text/html": [
              "\n",
              "     <input type=\"file\" id=\"files-92e6fd02-7701-4431-b6b5-a1931152f23d\" name=\"files[]\" multiple disabled\n",
              "        style=\"border:none\" />\n",
              "     <output id=\"result-92e6fd02-7701-4431-b6b5-a1931152f23d\">\n",
              "      Upload widget is only available when the cell has been executed in the\n",
              "      current browser session. Please rerun this cell to enable.\n",
              "      </output>\n",
              "      <script src=\"/nbextensions/google.colab/files.js\"></script> "
            ]
          },
          "metadata": {}
        },
        {
          "output_type": "stream",
          "name": "stdout",
          "text": [
            "Saving Düzenlenmiş_Dişli_Parçaları.xlsx to Düzenlenmiş_Dişli_Parçaları.xlsx\n"
          ]
        }
      ],
      "source": [
        "from google.colab import files\n",
        "uploaded = files.upload()"
      ]
    },
    {
      "cell_type": "code",
      "source": [
        "import io\n",
        "df = pd.read_excel(io.BytesIO(uploaded[\"Düzenlenmiş_Dişli_Parçaları.xlsx\"]), sheet_name='Anka', header=0)\n",
        "del df['SÜRE (11 parça için)']\n",
        "del df['1 tanesi için kaç tane gerek']\n",
        "del df['PROSES']\n",
        "del df['Process time']\n",
        "pr_num = list(range(1,len(df)+1))\n",
        "df[\"Process #\"] = pr_num\n",
        "df = df.rename(columns={'Makine':'Machine', 'İşlem':'Process', 'SETUP':'Setup', \n",
        "                    'SÜRE (1 parça için)':'Processing time', 'PARÇA':'Piece'})\n",
        "df = df.reindex(columns=['Piece','Process #','Process','Machine','Setup','Processing time'])\n",
        "df"
      ],
      "metadata": {
        "id": "Qg8qyn0RB9E7",
        "colab": {
          "base_uri": "https://localhost:8080/",
          "height": 424
        },
        "outputId": "1441890d-1f5a-40be-9127-6c10dca803a1"
      },
      "execution_count": 4,
      "outputs": [
        {
          "output_type": "execute_result",
          "data": {
            "text/plain": [
              "                                      Piece  Process #  \\\n",
              "0          UM121T900201200 GEAR ENGINE Z35           1   \n",
              "1          UM121T900201200 GEAR ENGINE Z35           2   \n",
              "2          UM121T900201200 GEAR ENGINE Z35           3   \n",
              "3          UM121T900201200 GEAR ENGINE Z35           4   \n",
              "4          UM121T900201200 GEAR ENGINE Z35           5   \n",
              "..                                      ...        ...   \n",
              "315  UM121T900204300 GEAR ALTERNATOR Z13 -2        316   \n",
              "316  UM121T900204300 GEAR ALTERNATOR Z13 -2        317   \n",
              "317  UM121T900204300 GEAR ALTERNATOR Z13 -2        318   \n",
              "318  UM121T900204300 GEAR ALTERNATOR Z13 -2        319   \n",
              "319  UM121T900204300 GEAR ALTERNATOR Z13 -2        320   \n",
              "\n",
              "                           Process Machine  Setup  Processing time  \n",
              "0       Pre-Hardening Öncesi Torna     D13    0.0         1.000000  \n",
              "1                          Yıkama      D33    0.0         0.090909  \n",
              "2    Ön Sertleştirme (Isıl İşlem)      D31    0.0         0.545455  \n",
              "3                          Yıkama      D33    0.0         0.090909  \n",
              "4         Temperleme (Isıl İşlem)      D32    0.0         0.454545  \n",
              "..                             ...     ...    ...              ...  \n",
              "315                        Yıkama      D12    0.0         0.181818  \n",
              "316                         Balans     D69    0.0         1.000000  \n",
              "317                           MPI      D65    0.0         0.454545  \n",
              "318                        Yıkama      D12    0.0         0.090909  \n",
              "319                Kalite Kontrol      662    0.0         0.500000  \n",
              "\n",
              "[320 rows x 6 columns]"
            ],
            "text/html": [
              "\n",
              "  <div id=\"df-a1d565a4-b5d7-4f2a-8bbe-f23aad409542\">\n",
              "    <div class=\"colab-df-container\">\n",
              "      <div>\n",
              "<style scoped>\n",
              "    .dataframe tbody tr th:only-of-type {\n",
              "        vertical-align: middle;\n",
              "    }\n",
              "\n",
              "    .dataframe tbody tr th {\n",
              "        vertical-align: top;\n",
              "    }\n",
              "\n",
              "    .dataframe thead th {\n",
              "        text-align: right;\n",
              "    }\n",
              "</style>\n",
              "<table border=\"1\" class=\"dataframe\">\n",
              "  <thead>\n",
              "    <tr style=\"text-align: right;\">\n",
              "      <th></th>\n",
              "      <th>Piece</th>\n",
              "      <th>Process #</th>\n",
              "      <th>Process</th>\n",
              "      <th>Machine</th>\n",
              "      <th>Setup</th>\n",
              "      <th>Processing time</th>\n",
              "    </tr>\n",
              "  </thead>\n",
              "  <tbody>\n",
              "    <tr>\n",
              "      <th>0</th>\n",
              "      <td>UM121T900201200 GEAR ENGINE Z35</td>\n",
              "      <td>1</td>\n",
              "      <td>Pre-Hardening Öncesi Torna</td>\n",
              "      <td>D13</td>\n",
              "      <td>0.0</td>\n",
              "      <td>1.000000</td>\n",
              "    </tr>\n",
              "    <tr>\n",
              "      <th>1</th>\n",
              "      <td>UM121T900201200 GEAR ENGINE Z35</td>\n",
              "      <td>2</td>\n",
              "      <td>Yıkama</td>\n",
              "      <td>D33</td>\n",
              "      <td>0.0</td>\n",
              "      <td>0.090909</td>\n",
              "    </tr>\n",
              "    <tr>\n",
              "      <th>2</th>\n",
              "      <td>UM121T900201200 GEAR ENGINE Z35</td>\n",
              "      <td>3</td>\n",
              "      <td>Ön Sertleştirme (Isıl İşlem)</td>\n",
              "      <td>D31</td>\n",
              "      <td>0.0</td>\n",
              "      <td>0.545455</td>\n",
              "    </tr>\n",
              "    <tr>\n",
              "      <th>3</th>\n",
              "      <td>UM121T900201200 GEAR ENGINE Z35</td>\n",
              "      <td>4</td>\n",
              "      <td>Yıkama</td>\n",
              "      <td>D33</td>\n",
              "      <td>0.0</td>\n",
              "      <td>0.090909</td>\n",
              "    </tr>\n",
              "    <tr>\n",
              "      <th>4</th>\n",
              "      <td>UM121T900201200 GEAR ENGINE Z35</td>\n",
              "      <td>5</td>\n",
              "      <td>Temperleme (Isıl İşlem)</td>\n",
              "      <td>D32</td>\n",
              "      <td>0.0</td>\n",
              "      <td>0.454545</td>\n",
              "    </tr>\n",
              "    <tr>\n",
              "      <th>...</th>\n",
              "      <td>...</td>\n",
              "      <td>...</td>\n",
              "      <td>...</td>\n",
              "      <td>...</td>\n",
              "      <td>...</td>\n",
              "      <td>...</td>\n",
              "    </tr>\n",
              "    <tr>\n",
              "      <th>315</th>\n",
              "      <td>UM121T900204300 GEAR ALTERNATOR Z13 -2</td>\n",
              "      <td>316</td>\n",
              "      <td>Yıkama</td>\n",
              "      <td>D12</td>\n",
              "      <td>0.0</td>\n",
              "      <td>0.181818</td>\n",
              "    </tr>\n",
              "    <tr>\n",
              "      <th>316</th>\n",
              "      <td>UM121T900204300 GEAR ALTERNATOR Z13 -2</td>\n",
              "      <td>317</td>\n",
              "      <td>Balans</td>\n",
              "      <td>D69</td>\n",
              "      <td>0.0</td>\n",
              "      <td>1.000000</td>\n",
              "    </tr>\n",
              "    <tr>\n",
              "      <th>317</th>\n",
              "      <td>UM121T900204300 GEAR ALTERNATOR Z13 -2</td>\n",
              "      <td>318</td>\n",
              "      <td>MPI</td>\n",
              "      <td>D65</td>\n",
              "      <td>0.0</td>\n",
              "      <td>0.454545</td>\n",
              "    </tr>\n",
              "    <tr>\n",
              "      <th>318</th>\n",
              "      <td>UM121T900204300 GEAR ALTERNATOR Z13 -2</td>\n",
              "      <td>319</td>\n",
              "      <td>Yıkama</td>\n",
              "      <td>D12</td>\n",
              "      <td>0.0</td>\n",
              "      <td>0.090909</td>\n",
              "    </tr>\n",
              "    <tr>\n",
              "      <th>319</th>\n",
              "      <td>UM121T900204300 GEAR ALTERNATOR Z13 -2</td>\n",
              "      <td>320</td>\n",
              "      <td>Kalite Kontrol</td>\n",
              "      <td>662</td>\n",
              "      <td>0.0</td>\n",
              "      <td>0.500000</td>\n",
              "    </tr>\n",
              "  </tbody>\n",
              "</table>\n",
              "<p>320 rows × 6 columns</p>\n",
              "</div>\n",
              "      <button class=\"colab-df-convert\" onclick=\"convertToInteractive('df-a1d565a4-b5d7-4f2a-8bbe-f23aad409542')\"\n",
              "              title=\"Convert this dataframe to an interactive table.\"\n",
              "              style=\"display:none;\">\n",
              "        \n",
              "  <svg xmlns=\"http://www.w3.org/2000/svg\" height=\"24px\"viewBox=\"0 0 24 24\"\n",
              "       width=\"24px\">\n",
              "    <path d=\"M0 0h24v24H0V0z\" fill=\"none\"/>\n",
              "    <path d=\"M18.56 5.44l.94 2.06.94-2.06 2.06-.94-2.06-.94-.94-2.06-.94 2.06-2.06.94zm-11 1L8.5 8.5l.94-2.06 2.06-.94-2.06-.94L8.5 2.5l-.94 2.06-2.06.94zm10 10l.94 2.06.94-2.06 2.06-.94-2.06-.94-.94-2.06-.94 2.06-2.06.94z\"/><path d=\"M17.41 7.96l-1.37-1.37c-.4-.4-.92-.59-1.43-.59-.52 0-1.04.2-1.43.59L10.3 9.45l-7.72 7.72c-.78.78-.78 2.05 0 2.83L4 21.41c.39.39.9.59 1.41.59.51 0 1.02-.2 1.41-.59l7.78-7.78 2.81-2.81c.8-.78.8-2.07 0-2.86zM5.41 20L4 18.59l7.72-7.72 1.47 1.35L5.41 20z\"/>\n",
              "  </svg>\n",
              "      </button>\n",
              "      \n",
              "  <style>\n",
              "    .colab-df-container {\n",
              "      display:flex;\n",
              "      flex-wrap:wrap;\n",
              "      gap: 12px;\n",
              "    }\n",
              "\n",
              "    .colab-df-convert {\n",
              "      background-color: #E8F0FE;\n",
              "      border: none;\n",
              "      border-radius: 50%;\n",
              "      cursor: pointer;\n",
              "      display: none;\n",
              "      fill: #1967D2;\n",
              "      height: 32px;\n",
              "      padding: 0 0 0 0;\n",
              "      width: 32px;\n",
              "    }\n",
              "\n",
              "    .colab-df-convert:hover {\n",
              "      background-color: #E2EBFA;\n",
              "      box-shadow: 0px 1px 2px rgba(60, 64, 67, 0.3), 0px 1px 3px 1px rgba(60, 64, 67, 0.15);\n",
              "      fill: #174EA6;\n",
              "    }\n",
              "\n",
              "    [theme=dark] .colab-df-convert {\n",
              "      background-color: #3B4455;\n",
              "      fill: #D2E3FC;\n",
              "    }\n",
              "\n",
              "    [theme=dark] .colab-df-convert:hover {\n",
              "      background-color: #434B5C;\n",
              "      box-shadow: 0px 1px 3px 1px rgba(0, 0, 0, 0.15);\n",
              "      filter: drop-shadow(0px 1px 2px rgba(0, 0, 0, 0.3));\n",
              "      fill: #FFFFFF;\n",
              "    }\n",
              "  </style>\n",
              "\n",
              "      <script>\n",
              "        const buttonEl =\n",
              "          document.querySelector('#df-a1d565a4-b5d7-4f2a-8bbe-f23aad409542 button.colab-df-convert');\n",
              "        buttonEl.style.display =\n",
              "          google.colab.kernel.accessAllowed ? 'block' : 'none';\n",
              "\n",
              "        async function convertToInteractive(key) {\n",
              "          const element = document.querySelector('#df-a1d565a4-b5d7-4f2a-8bbe-f23aad409542');\n",
              "          const dataTable =\n",
              "            await google.colab.kernel.invokeFunction('convertToInteractive',\n",
              "                                                     [key], {});\n",
              "          if (!dataTable) return;\n",
              "\n",
              "          const docLinkHtml = 'Like what you see? Visit the ' +\n",
              "            '<a target=\"_blank\" href=https://colab.research.google.com/notebooks/data_table.ipynb>data table notebook</a>'\n",
              "            + ' to learn more about interactive tables.';\n",
              "          element.innerHTML = '';\n",
              "          dataTable['output_type'] = 'display_data';\n",
              "          await google.colab.output.renderOutput(dataTable, element);\n",
              "          const docLink = document.createElement('div');\n",
              "          docLink.innerHTML = docLinkHtml;\n",
              "          element.appendChild(docLink);\n",
              "        }\n",
              "      </script>\n",
              "    </div>\n",
              "  </div>\n",
              "  "
            ]
          },
          "metadata": {},
          "execution_count": 4
        }
      ]
    },
    {
      "cell_type": "markdown",
      "source": [
        "## Next steps"
      ],
      "metadata": {
        "id": "3gQeCladFZsa"
      }
    },
    {
      "cell_type": "code",
      "source": [
        "m_list = np.unique(np.array(df[\"Machine\"]))                         # Each machine needed\n",
        "m_num_list = [1, 2, 1, 4, 3, 2, 3, 3, 3, 2, 2, 1, 1, 1, 2, 1, 1]    # How many there're of each machine (done manually now; to automate later)\n",
        "print(len(m_list),m_list)\n",
        "print(len(m_num_list),m_num_list)"
      ],
      "metadata": {
        "colab": {
          "base_uri": "https://localhost:8080/"
        },
        "id": "WqMVoYmHOp-g",
        "outputId": "381660fa-b73a-4d95-b675-a4004544b01b"
      },
      "execution_count": 5,
      "outputs": [
        {
          "output_type": "stream",
          "name": "stdout",
          "text": [
            "17 ['662' 'D11' 'D12' 'D13' 'D15' 'D17' 'D27' 'D31' 'D32' 'D33' 'D41' 'D43'\n",
            " 'D44' 'D47' 'D65' 'D69' 'Nital Etche, Hydrojen Embr.']\n",
            "17 [1, 2, 1, 4, 3, 2, 3, 3, 3, 2, 2, 1, 1, 1, 2, 1, 1]\n"
          ]
        }
      ]
    },
    {
      "cell_type": "code",
      "source": [
        "# creating a dictionary with each machine (including duplicates)\n",
        "all_machines = {}\n",
        "n = 0\n",
        "for m in m_list:\n",
        "  m_num = m_num_list[n]\n",
        "  if m_num > 0:\n",
        "    all_machines[m] = []\n",
        "    # Adding processes to the machines (but not to duplicates)\n",
        "    for r in range(len(df[\"Machine\"])):\n",
        "      if m == df.iloc[r][\"Machine\"]:\n",
        "        all_machines[m].append(r+1)\n",
        "  # add duplicate machines without the processes\n",
        "  if m_num > 1:\n",
        "    m1 = m+\"-1\"\n",
        "    all_machines[m1] = all_machines[m]\n",
        "    all_machines.pop(m)\n",
        "    if m_num > 1:\n",
        "      m2 = m+\"-2\"\n",
        "      all_machines[m2] = []\n",
        "    if m_num > 2:\n",
        "      m3 = m+\"-3\"\n",
        "      all_machines[m3] = []\n",
        "    if m_num > 3:\n",
        "      m4 = m+\"-4\"\n",
        "      all_machines[m4] = []   # later add more if there're 4+ of a certain machine ---> or just write a function for this \n",
        "  n += 1\n",
        "   \n",
        "for k in all_machines:\n",
        "  print(k,\"\\t\",all_machines[k])"
      ],
      "metadata": {
        "colab": {
          "base_uri": "https://localhost:8080/"
        },
        "id": "ScOeU8KWvn1S",
        "outputId": "d0540622-9dfb-4764-cd2d-db5e9294154f"
      },
      "execution_count": 6,
      "outputs": [
        {
          "output_type": "stream",
          "name": "stdout",
          "text": [
            "662 \t [26, 32, 58, 64, 90, 96, 122, 128, 154, 160, 186, 192, 218, 224, 250, 256, 282, 288, 314, 320]\n",
            "D11-1 \t [11, 23, 43, 55, 75, 87, 107, 119, 139, 151, 171, 183, 203, 215, 235, 247, 267, 279, 299, 311]\n",
            "D11-2 \t []\n",
            "D12 \t [13, 24, 28, 31, 45, 56, 60, 63, 77, 88, 92, 95, 109, 120, 124, 127, 141, 152, 156, 159, 173, 184, 188, 191, 205, 216, 220, 223, 237, 248, 252, 255, 269, 280, 284, 287, 301, 312, 316, 319]\n",
            "D13-1 \t [1, 7, 33, 39, 65, 71, 97, 103, 129, 135, 161, 167, 193, 199, 225, 231, 257, 263, 289, 295]\n",
            "D13-2 \t []\n",
            "D13-3 \t []\n",
            "D13-4 \t []\n",
            "D15-1 \t [14, 20, 25, 46, 52, 57, 78, 84, 89, 110, 116, 121, 142, 148, 153, 174, 180, 185, 206, 212, 217, 238, 244, 249, 270, 276, 281, 302, 308, 313]\n",
            "D15-2 \t []\n",
            "D15-3 \t []\n",
            "D17-1 \t [10, 22, 42, 54, 74, 86, 106, 118, 138, 150, 170, 182, 202, 214, 234, 246, 266, 278, 298, 310]\n",
            "D17-2 \t []\n",
            "D27-1 \t [21, 53, 85, 117, 149, 181, 213, 245, 277, 309]\n",
            "D27-2 \t []\n",
            "D27-3 \t []\n",
            "D31-1 \t [3, 15, 35, 47, 67, 79, 99, 111, 131, 143, 163, 175, 195, 207, 227, 239, 259, 271, 291, 303]\n",
            "D31-2 \t []\n",
            "D31-3 \t []\n",
            "D32-1 \t [5, 18, 37, 50, 69, 82, 101, 114, 133, 146, 165, 178, 197, 210, 229, 242, 261, 274, 293, 306]\n",
            "D32-2 \t []\n",
            "D32-3 \t []\n",
            "D33-1 \t [2, 4, 16, 34, 36, 48, 66, 68, 80, 98, 100, 112, 130, 132, 144, 162, 164, 176, 194, 196, 208, 226, 228, 240, 258, 260, 272, 290, 292, 304]\n",
            "D33-2 \t []\n",
            "D41-1 \t [17, 49, 81, 113, 145, 177, 209, 241, 273, 305]\n",
            "D41-2 \t []\n",
            "D43 \t [9, 41, 73, 105, 137, 169, 201, 233, 265, 297]\n",
            "D44 \t [8, 12, 40, 44, 72, 76, 104, 108, 136, 140, 168, 172, 200, 204, 232, 236, 264, 268, 296, 300]\n",
            "D47 \t [6, 19, 38, 51, 70, 83, 102, 115, 134, 147, 166, 179, 198, 211, 230, 243, 262, 275, 294, 307]\n",
            "D65-1 \t [30, 62, 94, 126, 158, 190, 222, 254, 286, 318]\n",
            "D65-2 \t []\n",
            "D69 \t [29, 61, 93, 125, 157, 189, 221, 253, 285, 317]\n",
            "Nital Etche, Hydrojen Embr. \t [27, 59, 91, 123, 155, 187, 219, 251, 283, 315]\n"
          ]
        }
      ]
    },
    {
      "cell_type": "markdown",
      "source": [
        "notes for presentation:\n",
        "- we can see that D12 is a bottleneck"
      ],
      "metadata": {
        "id": "GHQbgtarC3B_"
      }
    },
    {
      "cell_type": "code",
      "source": [
        "machines = copy.deepcopy(all_machines)\n",
        "\n",
        "# initialize genetic algorithm where each gene is a machine's schedule\n",
        "num_genes = len(machines)\n",
        "num_chro = 8\n",
        "popu_size = (num_chro,num_genes)\n",
        "new_popu = []\n",
        "\n",
        "for i in range(num_chro):\n",
        "  new_popu.append([machines])\n",
        "\n",
        "# shuffle the order of processes in each machine/gene except for the first chromosome, and print results\n",
        "first_one = True\n",
        "for i in new_popu:\n",
        "  if first_one == False:\n",
        "    for j in i:\n",
        "      for k in j:\n",
        "        #print(\"---\",j[k])\n",
        "        temp_l = random.sample(list(j[k]),len(j[k]))\n",
        "        j[k] = temp_l\n",
        "        #print(\"-\",j[k])\n",
        "  first_one = False\n",
        "  print(i)"
      ],
      "metadata": {
        "colab": {
          "base_uri": "https://localhost:8080/"
        },
        "id": "69QLThuy8v3k",
        "outputId": "ec4ae812-a862-4bda-dd5a-32e1453e6b7e"
      },
      "execution_count": 7,
      "outputs": [
        {
          "output_type": "stream",
          "name": "stdout",
          "text": [
            "[{'662': [26, 32, 58, 64, 90, 96, 122, 128, 154, 160, 186, 192, 218, 224, 250, 256, 282, 288, 314, 320], 'D11-1': [11, 23, 43, 55, 75, 87, 107, 119, 139, 151, 171, 183, 203, 215, 235, 247, 267, 279, 299, 311], 'D11-2': [], 'D12': [13, 24, 28, 31, 45, 56, 60, 63, 77, 88, 92, 95, 109, 120, 124, 127, 141, 152, 156, 159, 173, 184, 188, 191, 205, 216, 220, 223, 237, 248, 252, 255, 269, 280, 284, 287, 301, 312, 316, 319], 'D13-1': [1, 7, 33, 39, 65, 71, 97, 103, 129, 135, 161, 167, 193, 199, 225, 231, 257, 263, 289, 295], 'D13-2': [], 'D13-3': [], 'D13-4': [], 'D15-1': [14, 20, 25, 46, 52, 57, 78, 84, 89, 110, 116, 121, 142, 148, 153, 174, 180, 185, 206, 212, 217, 238, 244, 249, 270, 276, 281, 302, 308, 313], 'D15-2': [], 'D15-3': [], 'D17-1': [10, 22, 42, 54, 74, 86, 106, 118, 138, 150, 170, 182, 202, 214, 234, 246, 266, 278, 298, 310], 'D17-2': [], 'D27-1': [21, 53, 85, 117, 149, 181, 213, 245, 277, 309], 'D27-2': [], 'D27-3': [], 'D31-1': [3, 15, 35, 47, 67, 79, 99, 111, 131, 143, 163, 175, 195, 207, 227, 239, 259, 271, 291, 303], 'D31-2': [], 'D31-3': [], 'D32-1': [5, 18, 37, 50, 69, 82, 101, 114, 133, 146, 165, 178, 197, 210, 229, 242, 261, 274, 293, 306], 'D32-2': [], 'D32-3': [], 'D33-1': [2, 4, 16, 34, 36, 48, 66, 68, 80, 98, 100, 112, 130, 132, 144, 162, 164, 176, 194, 196, 208, 226, 228, 240, 258, 260, 272, 290, 292, 304], 'D33-2': [], 'D41-1': [17, 49, 81, 113, 145, 177, 209, 241, 273, 305], 'D41-2': [], 'D43': [9, 41, 73, 105, 137, 169, 201, 233, 265, 297], 'D44': [8, 12, 40, 44, 72, 76, 104, 108, 136, 140, 168, 172, 200, 204, 232, 236, 264, 268, 296, 300], 'D47': [6, 19, 38, 51, 70, 83, 102, 115, 134, 147, 166, 179, 198, 211, 230, 243, 262, 275, 294, 307], 'D65-1': [30, 62, 94, 126, 158, 190, 222, 254, 286, 318], 'D65-2': [], 'D69': [29, 61, 93, 125, 157, 189, 221, 253, 285, 317], 'Nital Etche, Hydrojen Embr.': [27, 59, 91, 123, 155, 187, 219, 251, 283, 315]}]\n",
            "[{'662': [224, 256, 314, 26, 192, 320, 90, 154, 282, 250, 64, 32, 160, 128, 288, 96, 58, 218, 122, 186], 'D11-1': [267, 151, 203, 215, 43, 279, 23, 183, 11, 55, 139, 171, 299, 75, 247, 87, 119, 107, 235, 311], 'D11-2': [], 'D12': [13, 252, 127, 280, 92, 109, 188, 319, 45, 95, 237, 120, 316, 287, 124, 63, 216, 28, 205, 248, 56, 312, 152, 255, 284, 220, 191, 173, 77, 60, 141, 159, 184, 156, 24, 223, 301, 88, 269, 31], 'D13-1': [161, 289, 135, 39, 33, 97, 1, 193, 129, 263, 65, 7, 71, 295, 199, 103, 225, 231, 167, 257], 'D13-2': [], 'D13-3': [], 'D13-4': [], 'D15-1': [25, 153, 212, 249, 308, 110, 244, 57, 206, 14, 185, 20, 84, 116, 174, 313, 270, 46, 180, 276, 78, 52, 302, 121, 148, 281, 238, 89, 142, 217], 'D15-2': [], 'D15-3': [], 'D17-1': [106, 234, 118, 86, 42, 278, 246, 310, 22, 10, 298, 138, 74, 150, 170, 214, 54, 182, 202, 266], 'D17-2': [], 'D27-1': [53, 85, 149, 21, 213, 181, 277, 117, 245, 309], 'D27-2': [], 'D27-3': [], 'D31-1': [35, 175, 99, 79, 303, 259, 15, 3, 131, 291, 195, 111, 143, 227, 207, 67, 47, 163, 239, 271], 'D31-2': [], 'D31-3': [], 'D32-1': [146, 69, 133, 229, 178, 210, 114, 293, 242, 82, 50, 274, 18, 261, 101, 306, 165, 5, 37, 197], 'D32-2': [], 'D32-3': [], 'D33-1': [98, 2, 176, 4, 144, 258, 48, 208, 226, 16, 290, 34, 132, 68, 228, 162, 130, 196, 36, 112, 272, 66, 164, 100, 304, 240, 260, 80, 292, 194], 'D33-2': [], 'D41-1': [209, 177, 49, 17, 305, 113, 241, 145, 273, 81], 'D41-2': [], 'D43': [105, 233, 201, 297, 169, 73, 137, 41, 265, 9], 'D44': [232, 72, 172, 300, 44, 40, 268, 236, 108, 200, 104, 8, 204, 264, 168, 296, 140, 12, 136, 76], 'D47': [19, 166, 262, 70, 230, 83, 179, 211, 6, 243, 147, 115, 38, 294, 51, 198, 102, 275, 307, 134], 'D65-1': [222, 318, 126, 254, 94, 286, 190, 62, 158, 30], 'D65-2': [], 'D69': [189, 125, 285, 253, 61, 29, 221, 93, 317, 157], 'Nital Etche, Hydrojen Embr.': [315, 155, 27, 283, 123, 59, 219, 91, 251, 187]}]\n",
            "[{'662': [250, 64, 96, 32, 288, 58, 90, 192, 160, 218, 314, 282, 320, 26, 122, 256, 154, 186, 224, 128], 'D11-1': [151, 107, 23, 215, 119, 171, 55, 235, 43, 87, 267, 139, 11, 311, 247, 75, 279, 183, 203, 299], 'D11-2': [], 'D12': [280, 152, 248, 188, 301, 31, 77, 205, 13, 284, 216, 95, 191, 120, 56, 127, 92, 159, 124, 184, 156, 109, 316, 173, 63, 220, 24, 45, 312, 252, 287, 60, 141, 28, 319, 237, 88, 255, 223, 269], 'D13-1': [135, 167, 97, 71, 289, 199, 231, 33, 225, 295, 161, 257, 7, 129, 193, 39, 1, 103, 65, 263], 'D13-2': [], 'D13-3': [], 'D13-4': [], 'D15-1': [238, 281, 116, 174, 276, 244, 14, 20, 142, 212, 52, 84, 249, 308, 121, 148, 270, 302, 206, 185, 180, 153, 217, 46, 313, 25, 78, 89, 110, 57], 'D15-2': [], 'D15-3': [], 'D17-1': [106, 170, 74, 310, 118, 298, 266, 202, 246, 214, 138, 42, 278, 86, 22, 54, 234, 182, 150, 10], 'D17-2': [], 'D27-1': [117, 181, 149, 53, 245, 21, 309, 213, 277, 85], 'D27-2': [], 'D27-3': [], 'D31-1': [143, 163, 239, 111, 15, 131, 47, 271, 227, 35, 79, 67, 259, 3, 175, 291, 207, 99, 195, 303], 'D31-2': [], 'D31-3': [], 'D32-1': [82, 178, 293, 274, 50, 69, 261, 133, 37, 146, 242, 197, 5, 101, 18, 306, 229, 165, 114, 210], 'D32-2': [], 'D32-3': [], 'D33-1': [260, 2, 98, 68, 162, 16, 36, 258, 194, 100, 132, 292, 130, 196, 34, 228, 4, 272, 112, 240, 144, 48, 164, 208, 226, 176, 290, 80, 66, 304], 'D33-2': [], 'D41-1': [113, 305, 209, 241, 49, 145, 81, 17, 273, 177], 'D41-2': [], 'D43': [201, 233, 105, 73, 169, 41, 9, 297, 265, 137], 'D44': [104, 236, 268, 204, 108, 136, 200, 168, 296, 300, 44, 172, 72, 76, 8, 40, 140, 232, 264, 12], 'D47': [147, 198, 70, 307, 83, 211, 294, 38, 6, 243, 51, 166, 262, 179, 102, 230, 134, 275, 115, 19], 'D65-1': [318, 126, 222, 190, 286, 62, 158, 30, 94, 254], 'D65-2': [], 'D69': [317, 93, 29, 221, 285, 253, 189, 61, 157, 125], 'Nital Etche, Hydrojen Embr.': [251, 155, 283, 123, 219, 315, 27, 91, 59, 187]}]\n",
            "[{'662': [160, 90, 224, 282, 32, 320, 122, 186, 96, 256, 154, 128, 250, 26, 192, 314, 218, 64, 288, 58], 'D11-1': [23, 215, 299, 267, 139, 247, 87, 55, 43, 311, 11, 183, 171, 203, 235, 107, 75, 279, 151, 119], 'D11-2': [], 'D12': [191, 237, 28, 301, 184, 287, 316, 127, 92, 159, 141, 252, 205, 269, 156, 223, 109, 284, 31, 56, 60, 312, 63, 216, 255, 173, 13, 45, 220, 124, 319, 120, 280, 77, 24, 248, 95, 88, 152, 188], 'D13-1': [161, 295, 257, 1, 33, 231, 167, 193, 39, 103, 199, 225, 65, 129, 263, 7, 97, 135, 71, 289], 'D13-2': [], 'D13-3': [], 'D13-4': [], 'D15-1': [142, 270, 148, 153, 313, 46, 217, 174, 308, 25, 78, 89, 281, 249, 180, 121, 57, 20, 206, 244, 14, 212, 52, 185, 302, 116, 238, 276, 110, 84], 'D15-2': [], 'D15-3': [], 'D17-1': [310, 150, 10, 202, 118, 138, 234, 170, 214, 246, 278, 42, 22, 298, 74, 266, 86, 54, 182, 106], 'D17-2': [], 'D27-1': [181, 117, 149, 277, 245, 21, 85, 53, 309, 213], 'D27-2': [], 'D27-3': [], 'D31-1': [207, 271, 195, 259, 3, 175, 111, 67, 303, 79, 291, 227, 47, 131, 99, 15, 239, 35, 143, 163], 'D31-2': [], 'D31-3': [], 'D32-1': [178, 50, 37, 69, 165, 242, 133, 101, 306, 146, 18, 82, 197, 261, 274, 5, 114, 229, 210, 293], 'D32-2': [], 'D32-3': [], 'D33-1': [226, 258, 48, 98, 132, 304, 272, 36, 240, 176, 16, 208, 66, 162, 34, 2, 164, 194, 68, 260, 290, 4, 144, 196, 112, 100, 80, 228, 292, 130], 'D33-2': [], 'D41-1': [81, 145, 305, 209, 17, 177, 241, 273, 113, 49], 'D41-2': [], 'D43': [201, 233, 41, 9, 73, 169, 297, 137, 265, 105], 'D44': [72, 108, 140, 300, 264, 204, 232, 44, 168, 136, 40, 12, 296, 200, 104, 8, 236, 268, 172, 76], 'D47': [294, 262, 70, 230, 211, 102, 51, 179, 243, 115, 166, 134, 19, 275, 198, 307, 83, 6, 147, 38], 'D65-1': [286, 190, 94, 126, 222, 254, 158, 30, 62, 318], 'D65-2': [], 'D69': [189, 93, 157, 61, 221, 285, 317, 125, 253, 29], 'Nital Etche, Hydrojen Embr.': [283, 187, 155, 251, 315, 219, 59, 27, 91, 123]}]\n",
            "[{'662': [256, 90, 282, 154, 26, 96, 122, 186, 250, 160, 192, 128, 224, 218, 320, 288, 58, 64, 32, 314], 'D11-1': [279, 11, 87, 151, 55, 107, 75, 203, 23, 311, 235, 247, 43, 119, 299, 139, 171, 183, 267, 215], 'D11-2': [], 'D12': [141, 156, 173, 63, 319, 255, 56, 316, 205, 13, 301, 237, 95, 120, 269, 216, 31, 77, 28, 191, 312, 24, 159, 223, 287, 152, 188, 124, 45, 252, 88, 280, 284, 127, 60, 248, 184, 92, 220, 109], 'D13-1': [1, 225, 39, 161, 129, 295, 97, 199, 33, 257, 103, 71, 7, 193, 135, 263, 167, 289, 65, 231], 'D13-2': [], 'D13-3': [], 'D13-4': [], 'D15-1': [153, 20, 244, 308, 238, 249, 148, 276, 142, 185, 52, 174, 302, 84, 116, 46, 212, 217, 206, 78, 57, 121, 89, 180, 270, 25, 110, 313, 14, 281], 'D15-2': [], 'D15-3': [], 'D17-1': [138, 234, 170, 106, 298, 278, 150, 310, 118, 214, 182, 202, 246, 22, 54, 42, 10, 266, 74, 86], 'D17-2': [], 'D27-1': [149, 117, 181, 21, 277, 245, 53, 85, 213, 309], 'D27-2': [], 'D27-3': [], 'D31-1': [175, 239, 111, 131, 35, 67, 227, 291, 271, 163, 79, 15, 303, 259, 3, 195, 207, 99, 47, 143], 'D31-2': [], 'D31-3': [], 'D32-1': [210, 229, 133, 82, 261, 5, 37, 101, 306, 242, 18, 69, 274, 293, 178, 50, 197, 165, 114, 146], 'D32-2': [], 'D32-3': [], 'D33-1': [290, 2, 228, 292, 144, 240, 100, 36, 304, 164, 112, 162, 48, 98, 226, 132, 130, 176, 272, 66, 80, 68, 208, 260, 194, 258, 16, 4, 34, 196], 'D33-2': [], 'D41-1': [273, 145, 241, 209, 49, 17, 305, 81, 177, 113], 'D41-2': [], 'D43': [297, 169, 201, 137, 233, 9, 265, 41, 73, 105], 'D44': [108, 44, 12, 140, 40, 168, 300, 8, 232, 104, 76, 264, 72, 268, 236, 136, 296, 204, 172, 200], 'D47': [6, 115, 147, 38, 70, 307, 294, 243, 179, 275, 51, 166, 211, 230, 83, 102, 262, 198, 19, 134], 'D65-1': [286, 30, 222, 158, 126, 318, 254, 62, 190, 94], 'D65-2': [], 'D69': [29, 157, 285, 189, 125, 61, 93, 221, 253, 317], 'Nital Etche, Hydrojen Embr.': [187, 27, 283, 123, 59, 315, 219, 155, 251, 91]}]\n",
            "[{'662': [250, 186, 26, 32, 288, 90, 282, 314, 192, 320, 122, 96, 64, 154, 128, 218, 256, 160, 224, 58], 'D11-1': [11, 55, 87, 43, 235, 299, 107, 119, 23, 247, 171, 203, 279, 183, 215, 311, 139, 151, 267, 75], 'D11-2': [], 'D12': [109, 24, 95, 120, 56, 319, 152, 159, 312, 127, 301, 124, 220, 63, 280, 184, 45, 156, 173, 141, 216, 284, 28, 88, 188, 31, 287, 269, 223, 191, 60, 252, 92, 205, 237, 316, 13, 77, 255, 248], 'D13-1': [263, 167, 295, 71, 199, 103, 7, 1, 129, 193, 225, 97, 39, 33, 161, 231, 289, 65, 135, 257], 'D13-2': [], 'D13-3': [], 'D13-4': [], 'D15-1': [14, 84, 110, 212, 52, 238, 249, 244, 148, 302, 217, 281, 46, 270, 25, 276, 57, 308, 20, 206, 174, 116, 89, 121, 180, 185, 78, 313, 153, 142], 'D15-2': [], 'D15-3': [], 'D17-1': [246, 266, 138, 278, 22, 202, 214, 118, 310, 86, 150, 170, 182, 42, 54, 106, 234, 298, 10, 74], 'D17-2': [], 'D27-1': [181, 53, 149, 309, 277, 245, 21, 117, 85, 213], 'D27-2': [], 'D27-3': [], 'D31-1': [291, 143, 47, 175, 163, 35, 227, 67, 239, 131, 79, 195, 303, 99, 271, 259, 111, 207, 3, 15], 'D31-2': [], 'D31-3': [], 'D32-1': [229, 82, 18, 50, 242, 37, 165, 5, 178, 114, 69, 261, 306, 210, 133, 197, 101, 146, 274, 293], 'D32-2': [], 'D32-3': [], 'D33-1': [144, 112, 272, 290, 260, 132, 34, 66, 304, 196, 130, 98, 176, 68, 162, 258, 240, 194, 100, 4, 2, 292, 48, 228, 226, 80, 164, 16, 36, 208], 'D33-2': [], 'D41-1': [17, 241, 177, 49, 81, 145, 209, 113, 305, 273], 'D41-2': [], 'D43': [233, 265, 297, 73, 105, 201, 41, 9, 169, 137], 'D44': [72, 264, 8, 104, 108, 40, 12, 76, 296, 168, 268, 172, 232, 200, 136, 300, 204, 236, 140, 44], 'D47': [83, 38, 198, 275, 147, 102, 307, 179, 243, 134, 262, 115, 19, 6, 294, 51, 166, 211, 70, 230], 'D65-1': [94, 190, 62, 222, 30, 254, 158, 318, 286, 126], 'D65-2': [], 'D69': [221, 285, 125, 29, 93, 253, 189, 317, 157, 61], 'Nital Etche, Hydrojen Embr.': [155, 123, 187, 219, 251, 27, 283, 315, 91, 59]}]\n",
            "[{'662': [58, 122, 96, 256, 32, 320, 154, 192, 218, 64, 314, 250, 160, 26, 282, 288, 224, 186, 128, 90], 'D11-1': [247, 267, 215, 87, 43, 171, 107, 139, 183, 203, 311, 11, 23, 55, 279, 151, 235, 75, 299, 119], 'D11-2': [], 'D12': [312, 77, 88, 95, 319, 141, 127, 237, 220, 120, 124, 109, 159, 60, 287, 248, 284, 280, 255, 152, 173, 316, 31, 252, 92, 13, 205, 191, 188, 24, 63, 223, 156, 56, 45, 28, 301, 269, 184, 216], 'D13-1': [33, 71, 65, 161, 129, 97, 289, 263, 225, 231, 39, 103, 167, 257, 7, 1, 193, 135, 295, 199], 'D13-2': [], 'D13-3': [], 'D13-4': [], 'D15-1': [89, 78, 302, 110, 238, 206, 121, 185, 217, 148, 84, 174, 276, 14, 244, 142, 57, 52, 153, 180, 212, 313, 281, 20, 270, 116, 25, 308, 46, 249], 'D15-2': [], 'D15-3': [], 'D17-1': [86, 54, 310, 150, 298, 170, 246, 106, 234, 42, 182, 138, 214, 10, 118, 278, 266, 22, 74, 202], 'D17-2': [], 'D27-1': [117, 213, 53, 85, 149, 277, 245, 21, 309, 181], 'D27-2': [], 'D27-3': [], 'D31-1': [259, 143, 111, 303, 79, 239, 271, 35, 3, 163, 291, 227, 175, 131, 67, 99, 207, 195, 47, 15], 'D31-2': [], 'D31-3': [], 'D32-1': [101, 114, 242, 5, 165, 306, 18, 50, 293, 261, 197, 133, 274, 146, 69, 37, 210, 82, 229, 178], 'D32-2': [], 'D32-3': [], 'D33-1': [80, 292, 16, 130, 112, 48, 100, 162, 196, 240, 132, 208, 258, 36, 144, 260, 226, 34, 4, 98, 2, 66, 164, 176, 228, 194, 304, 68, 272, 290], 'D33-2': [], 'D41-1': [209, 177, 273, 113, 305, 145, 49, 17, 81, 241], 'D41-2': [], 'D43': [297, 105, 201, 9, 169, 137, 73, 41, 233, 265], 'D44': [44, 232, 76, 264, 204, 12, 40, 72, 140, 108, 8, 168, 136, 236, 172, 300, 200, 268, 296, 104], 'D47': [147, 134, 70, 115, 102, 307, 83, 294, 179, 211, 19, 275, 262, 51, 243, 230, 6, 198, 166, 38], 'D65-1': [318, 190, 254, 126, 94, 158, 62, 222, 30, 286], 'D65-2': [], 'D69': [61, 221, 93, 189, 285, 253, 317, 125, 29, 157], 'Nital Etche, Hydrojen Embr.': [283, 27, 59, 219, 315, 155, 187, 123, 91, 251]}]\n",
            "[{'662': [32, 64, 250, 90, 314, 224, 256, 218, 96, 26, 282, 58, 186, 192, 320, 154, 128, 160, 288, 122], 'D11-1': [139, 279, 107, 75, 247, 119, 43, 183, 311, 87, 215, 203, 151, 267, 55, 23, 299, 11, 171, 235], 'D11-2': [], 'D12': [28, 63, 237, 88, 13, 173, 124, 223, 156, 312, 301, 24, 31, 127, 319, 269, 220, 216, 152, 95, 109, 280, 188, 77, 191, 159, 56, 316, 284, 287, 205, 252, 60, 248, 141, 255, 92, 45, 184, 120], 'D13-1': [225, 33, 1, 161, 263, 199, 167, 103, 65, 7, 231, 295, 39, 257, 97, 193, 289, 129, 135, 71], 'D13-2': [], 'D13-3': [], 'D13-4': [], 'D15-1': [281, 148, 78, 249, 14, 276, 206, 174, 89, 25, 46, 217, 244, 302, 308, 116, 238, 270, 153, 110, 84, 121, 57, 20, 185, 212, 52, 313, 142, 180], 'D15-2': [], 'D15-3': [], 'D17-1': [138, 170, 246, 214, 310, 74, 298, 10, 266, 202, 118, 42, 86, 182, 150, 54, 22, 106, 234, 278], 'D17-2': [], 'D27-1': [245, 181, 53, 21, 85, 309, 277, 149, 213, 117], 'D27-2': [], 'D27-3': [], 'D31-1': [291, 207, 67, 3, 131, 143, 35, 271, 195, 99, 79, 111, 227, 175, 163, 239, 15, 47, 303, 259], 'D31-2': [], 'D31-3': [], 'D32-1': [101, 293, 37, 261, 165, 5, 82, 114, 274, 197, 69, 146, 178, 133, 242, 18, 50, 210, 229, 306], 'D32-2': [], 'D32-3': [], 'D33-1': [2, 100, 66, 34, 132, 240, 228, 130, 48, 226, 194, 144, 112, 16, 292, 196, 4, 68, 208, 290, 36, 164, 304, 272, 260, 98, 176, 80, 258, 162], 'D33-2': [], 'D41-1': [177, 145, 305, 241, 81, 273, 113, 17, 49, 209], 'D41-2': [], 'D43': [265, 233, 169, 41, 73, 137, 9, 297, 105, 201], 'D44': [200, 104, 40, 300, 236, 12, 72, 204, 44, 264, 296, 136, 140, 168, 232, 8, 172, 108, 268, 76], 'D47': [230, 307, 166, 211, 83, 262, 134, 115, 243, 147, 38, 51, 19, 179, 275, 198, 70, 294, 102, 6], 'D65-1': [158, 190, 222, 318, 286, 62, 126, 94, 254, 30], 'D65-2': [], 'D69': [189, 317, 29, 61, 93, 285, 253, 157, 221, 125], 'Nital Etche, Hydrojen Embr.': [315, 91, 155, 59, 283, 27, 219, 187, 123, 251]}]\n"
          ]
        }
      ]
    },
    {
      "cell_type": "code",
      "source": [
        "a_list = np.unique(np.array(df[\"Piece\"]))\n",
        "num = df[\"Piece\"].nunique(a_list[0])\n",
        "u_num = [0]*num\n",
        "for i in range(9):\n",
        "  for item in df[\"Piece\"]:\n",
        "    if item == a_list[i]: \n",
        "      u_num[i] += 1\n",
        "  print(u_num[i],\"processes for piece\",a_list[i])"
      ],
      "metadata": {
        "colab": {
          "base_uri": "https://localhost:8080/"
        },
        "id": "48Y3KvLHLgbs",
        "outputId": "6a3f0f16-e0d6-47c6-c09b-b38fd7f0317b"
      },
      "execution_count": 8,
      "outputs": [
        {
          "output_type": "stream",
          "name": "stdout",
          "text": [
            "32 processes for piece UM121T900201200 GEAR ENGINE Z35 \n",
            "32 processes for piece UM121T900201600 GEAR INTERMEDIATE Z57\n",
            "64 processes for piece UM121T900201700 GEAR Z51 \n",
            "32 processes for piece UM121T900202100 GEAR PROPELLER \n",
            "32 processes for piece UM121T900203800 Z23 \n",
            "32 processes for piece UM121T900203900 GEAR Z19 \n",
            "32 processes for piece UM121T900203900 GEAR Z19 - 2\n",
            "32 processes for piece UM121T900204300 GEAR ALTERNATOR Z13 \n",
            "32 processes for piece UM121T900204300 GEAR ALTERNATOR Z13 -2\n"
          ]
        }
      ]
    },
    {
      "cell_type": "code",
      "source": [
        "processes = []\n",
        "for i in range(num):\n",
        "  processes.append([])\n",
        "#print(processes)\n",
        "\n",
        "j = 0\n",
        "k = 0\n",
        "total = 0\n",
        "for i in range(len(u_num)):\n",
        "  total += u_num[i]\n",
        "  while j < total:\n",
        "    if j == total:\n",
        "      k += 1\n",
        "    #print(i,j,k,total,processes)\n",
        "    #print(processes[i])\n",
        "    processes[i].append(j+1)\n",
        "    j += 1\n",
        "  #print(total)\n",
        "\n",
        "for i in processes:\n",
        "  print(len(i),i)"
      ],
      "metadata": {
        "id": "weQyMGChBgny",
        "colab": {
          "base_uri": "https://localhost:8080/"
        },
        "outputId": "ff9716c9-7ed6-4803-a236-af0e7356614e"
      },
      "execution_count": 9,
      "outputs": [
        {
          "output_type": "stream",
          "name": "stdout",
          "text": [
            "32 [1, 2, 3, 4, 5, 6, 7, 8, 9, 10, 11, 12, 13, 14, 15, 16, 17, 18, 19, 20, 21, 22, 23, 24, 25, 26, 27, 28, 29, 30, 31, 32]\n",
            "32 [33, 34, 35, 36, 37, 38, 39, 40, 41, 42, 43, 44, 45, 46, 47, 48, 49, 50, 51, 52, 53, 54, 55, 56, 57, 58, 59, 60, 61, 62, 63, 64]\n",
            "64 [65, 66, 67, 68, 69, 70, 71, 72, 73, 74, 75, 76, 77, 78, 79, 80, 81, 82, 83, 84, 85, 86, 87, 88, 89, 90, 91, 92, 93, 94, 95, 96, 97, 98, 99, 100, 101, 102, 103, 104, 105, 106, 107, 108, 109, 110, 111, 112, 113, 114, 115, 116, 117, 118, 119, 120, 121, 122, 123, 124, 125, 126, 127, 128]\n",
            "32 [129, 130, 131, 132, 133, 134, 135, 136, 137, 138, 139, 140, 141, 142, 143, 144, 145, 146, 147, 148, 149, 150, 151, 152, 153, 154, 155, 156, 157, 158, 159, 160]\n",
            "32 [161, 162, 163, 164, 165, 166, 167, 168, 169, 170, 171, 172, 173, 174, 175, 176, 177, 178, 179, 180, 181, 182, 183, 184, 185, 186, 187, 188, 189, 190, 191, 192]\n",
            "32 [193, 194, 195, 196, 197, 198, 199, 200, 201, 202, 203, 204, 205, 206, 207, 208, 209, 210, 211, 212, 213, 214, 215, 216, 217, 218, 219, 220, 221, 222, 223, 224]\n",
            "32 [225, 226, 227, 228, 229, 230, 231, 232, 233, 234, 235, 236, 237, 238, 239, 240, 241, 242, 243, 244, 245, 246, 247, 248, 249, 250, 251, 252, 253, 254, 255, 256]\n",
            "32 [257, 258, 259, 260, 261, 262, 263, 264, 265, 266, 267, 268, 269, 270, 271, 272, 273, 274, 275, 276, 277, 278, 279, 280, 281, 282, 283, 284, 285, 286, 287, 288]\n",
            "32 [289, 290, 291, 292, 293, 294, 295, 296, 297, 298, 299, 300, 301, 302, 303, 304, 305, 306, 307, 308, 309, 310, 311, 312, 313, 314, 315, 316, 317, 318, 319, 320]\n"
          ]
        }
      ]
    },
    {
      "cell_type": "code",
      "source": [
        "pr_times = list(df[\"Processing time\"])\n",
        "stp_times = list(df[\"Setup\"])\n",
        "print(pr_times)\n",
        "print(stp_times)\n",
        "print(max(pr_times))\n",
        "print(max(stp_times))"
      ],
      "metadata": {
        "id": "jGeyWlqCKJTg",
        "colab": {
          "base_uri": "https://localhost:8080/"
        },
        "outputId": "63790d31-d82d-4f5a-ac21-7f773ffe3370"
      },
      "execution_count": 10,
      "outputs": [
        {
          "output_type": "stream",
          "name": "stdout",
          "text": [
            "[1.0, 0.09090909091, 0.5454545455, 0.09090909091, 0.4545454545, 0.4545454545, 1.636363636, 0.09090909091, 0.09090909091, 0.4545454545, 2.0, 0.4545454545, 0.1818181818, 0.4545454545, 0.8181818182, 0.09090909091, 0.2727272727, 0.5454545455, 0.4545454545, 0.4545454545, 1.0, 0.4545454545, 2.0, 0.1818181818, 0.4545454545, 0.4545454545, 1.272727273, 0.1818181818, 2.0, 0.4545454545, 0.1818181818, 1.0, 0.75, 0.09090909091, 0.5454545455, 0.09090909091, 0.4545454545, 0.4545454545, 1.227272727, 0.06818181818, 0.06818181818, 0.3409090909, 1.5, 0.3409090909, 0.1363636364, 0.3409090909, 0.8181818182, 0.09090909091, 0.2727272727, 0.5454545455, 0.4545454545, 0.3409090909, 0.75, 0.3409090909, 1.5, 0.1363636364, 0.3409090909, 0.3409090909, 1.272727273, 0.1363636364, 1.5, 0.4545454545, 0.1363636364, 0.75, 0.75, 0.09090909091, 0.5454545455, 0.09090909091, 0.4545454545, 0.4545454545, 1.227272727, 0.06818181818, 0.06818181818, 0.3409090909, 1.5, 0.3409090909, 0.1363636364, 0.3409090909, 0.8181818182, 0.09090909091, 0.2727272727, 0.5454545455, 0.4545454545, 0.3409090909, 0.75, 0.3409090909, 1.5, 0.1363636364, 0.3409090909, 0.3409090909, 1.272727273, 0.1363636364, 1.5, 0.4545454545, 0.1363636364, 0.75, 1.0, 0.09090909091, 0.5454545455, 0.09090909091, 0.4545454545, 0.4545454545, 1.636363636, 0.09090909091, 0.09090909091, 0.4545454545, 2.0, 0.4545454545, 0.1818181818, 0.4545454545, 0.8181818182, 0.09090909091, 0.2727272727, 0.5454545455, 0.4545454545, 0.4545454545, 1.0, 0.4545454545, 2.0, 0.1818181818, 0.4545454545, 0.4545454545, 1.272727273, 0.1818181818, 2.0, 0.4545454545, 0.1818181818, 1.0, 1.0, 0.09090909091, 0.5454545455, 0.09090909091, 0.4545454545, 0.4545454545, 1.636363636, 0.09090909091, 0.09090909091, 0.4545454545, 2.0, 0.4545454545, 0.1818181818, 0.4545454545, 0.8181818182, 0.09090909091, 0.2727272727, 0.5454545455, 0.4545454545, 0.4545454545, 1.0, 0.4545454545, 2.0, 0.1818181818, 0.4545454545, 0.4545454545, 1.272727273, 0.1818181818, 2.0, 0.4545454545, 0.1818181818, 1.0, 0.5, 0.09090909091, 0.5454545455, 0.09090909091, 0.4545454545, 0.4545454545, 0.8181818182, 0.04545454545, 0.04545454545, 0.2272727273, 1.0, 0.2272727273, 0.09090909091, 0.2272727273, 0.8181818182, 0.09090909091, 0.2727272727, 0.5454545455, 0.4545454545, 0.2272727273, 0.5, 0.2272727273, 1.0, 0.09090909091, 0.2272727273, 0.2272727273, 1.272727273, 0.1818181818, 1.0, 0.4545454545, 0.09090909091, 0.5, 0.5, 0.09090909091, 0.5454545455, 0.09090909091, 0.4545454545, 0.4545454545, 0.8181818182, 0.04545454545, 0.04545454545, 0.2272727273, 1.0, 0.2272727273, 0.09090909091, 0.2272727273, 0.8181818182, 0.09090909091, 0.2727272727, 0.5454545455, 0.4545454545, 0.2272727273, 0.5, 0.2272727273, 1.0, 0.09090909091, 0.2272727273, 0.2272727273, 1.272727273, 0.1818181818, 1.0, 0.4545454545, 0.09090909091, 0.5, 0.5, 0.09090909091, 0.5454545455, 0.09090909091, 0.4545454545, 0.4545454545, 0.8181818182, 0.04545454545, 0.04545454545, 0.2272727273, 1.0, 0.2272727273, 0.09090909091, 0.2272727273, 0.8181818182, 0.09090909091, 0.2727272727, 0.5454545455, 0.4545454545, 0.2272727273, 0.5, 0.2272727273, 1.0, 0.09090909091, 0.2272727273, 0.2272727273, 1.272727273, 0.1818181818, 1.0, 0.4545454545, 0.09090909091, 0.5, 0.5, 0.09090909091, 0.5454545455, 0.09090909091, 0.4545454545, 0.4545454545, 0.8181818182, 0.04545454545, 0.04545454545, 0.2272727273, 1.0, 0.2272727273, 0.09090909091, 0.2272727273, 0.8181818182, 0.09090909091, 0.2727272727, 0.5454545455, 0.4545454545, 0.2272727273, 0.5, 0.2272727273, 1.0, 0.09090909091, 0.2272727273, 0.2272727273, 1.272727273, 0.1818181818, 1.0, 0.4545454545, 0.09090909091, 0.5, 0.5, 0.09090909091, 0.5454545455, 0.09090909091, 0.4545454545, 0.4545454545, 0.8181818182, 0.04545454545, 0.04545454545, 0.2272727273, 1.0, 0.2272727273, 0.09090909091, 0.2272727273, 0.8181818182, 0.09090909091, 0.2727272727, 0.5454545455, 0.4545454545, 0.2272727273, 0.5, 0.2272727273, 1.0, 0.09090909091, 0.2272727273, 0.2272727273, 1.272727273, 0.1818181818, 1.0, 0.4545454545, 0.09090909091, 0.5]\n",
            "[0.0, 0.0, 0.0, 0.0, 0.0, 0.0, 0.0, 0.0, 0.0, 0.75, 5.5, 0.0, 0.0, 0.75, 0.0, 0.0, 0.0, 0.0, 0.0, 0.75, 2.2, 0.75, 5.5, 0.0, 0.75, 0.0, 0.0, 0.0, 0.0, 0.0, 0.0, 0.0, 0.0, 0.0, 0.0, 0.0, 0.0, 0.0, 0.0, 0.0, 0.0, 0.5625, 4.125, 0.0, 0.0, 0.5625, 0.0, 0.0, 0.0, 0.0, 0.0, 0.5625, 1.65, 0.5625, 4.125, 0.0, 0.5625, 0.0, 0.0, 0.0, 0.0, 0.0, 0.0, 0.0, 0.0, 0.0, 0.0, 0.0, 0.0, 0.0, 0.0, 0.0, 0.0, 0.5625, 4.125, 0.0, 0.0, 0.5625, 0.0, 0.0, 0.0, 0.0, 0.0, 0.5625, 1.65, 0.5625, 4.125, 0.0, 0.5625, 0.0, 0.0, 0.0, 0.0, 0.0, 0.0, 0.0, 0.0, 0.0, 0.0, 0.0, 0.0, 0.0, 0.0, 0.0, 0.0, 0.75, 5.5, 0.0, 0.0, 0.75, 0.0, 0.0, 0.0, 0.0, 0.0, 0.75, 2.2, 0.75, 5.5, 0.0, 0.75, 0.0, 0.0, 0.0, 0.0, 0.0, 0.0, 0.0, 0.0, 0.0, 0.0, 0.0, 0.0, 0.0, 0.0, 0.0, 0.0, 0.75, 5.5, 0.0, 0.0, 0.75, 0.0, 0.0, 0.0, 0.0, 0.0, 0.75, 2.2, 0.75, 5.5, 0.0, 0.75, 0.0, 0.0, 0.0, 0.0, 0.0, 0.0, 0.0, 0.0, 0.0, 0.0, 0.0, 0.0, 0.0, 0.0, 0.0, 0.0, 0.375, 2.75, 0.0, 0.0, 0.375, 0.0, 0.0, 0.0, 0.0, 0.0, 0.375, 1.1, 0.375, 2.75, 0.0, 0.375, 0.0, 0.0, 0.0, 0.0, 0.0, 0.0, 0.0, 0.0, 0.0, 0.0, 0.0, 0.0, 0.0, 0.0, 0.0, 0.0, 0.375, 2.75, 0.0, 0.0, 0.375, 0.0, 0.0, 0.0, 0.0, 0.0, 0.375, 1.1, 0.375, 2.75, 0.0, 0.375, 0.0, 0.0, 0.0, 0.0, 0.0, 0.0, 0.0, 0.0, 0.0, 0.0, 0.0, 0.0, 0.0, 0.0, 0.0, 0.0, 0.375, 2.75, 0.0, 0.0, 0.375, 0.0, 0.0, 0.0, 0.0, 0.0, 0.375, 1.1, 0.375, 2.75, 0.0, 0.375, 0.0, 0.0, 0.0, 0.0, 0.0, 0.0, 0.0, 0.0, 0.0, 0.0, 0.0, 0.0, 0.0, 0.0, 0.0, 0.0, 0.375, 2.75, 0.0, 0.0, 0.375, 0.0, 0.0, 0.0, 0.0, 0.0, 0.375, 1.1, 0.375, 2.75, 0.0, 0.375, 0.0, 0.0, 0.0, 0.0, 0.0, 0.0, 0.0, 0.0, 0.0, 0.0, 0.0, 0.0, 0.0, 0.0, 0.0, 0.0, 0.375, 2.75, 0.0, 0.0, 0.375, 0.0, 0.0, 0.0, 0.0, 0.0, 0.375, 1.1, 0.375, 2.75, 0.0, 0.375, 0.0, 0.0, 0.0, 0.0, 0.0, 0.0, 0.0]\n",
            "2.0\n",
            "5.5\n"
          ]
        }
      ]
    },
    {
      "cell_type": "code",
      "source": [
        "for p in pr_times:\n",
        "  for i in processes:\n",
        "    for j in i:\n",
        "      print(p,j)\n",
        "      if j == pr_times.index(p+1):\n",
        "        print(j)"
      ],
      "metadata": {
        "colab": {
          "base_uri": "https://localhost:8080/",
          "height": 1000
        },
        "id": "XdGSY7VWL4tO",
        "outputId": "4de7cbc4-3433-4e30-aa2f-122d558129c4"
      },
      "execution_count": 11,
      "outputs": [
        {
          "output_type": "stream",
          "name": "stdout",
          "text": [
            "1.0 1\n",
            "1.0 2\n",
            "1.0 3\n",
            "1.0 4\n",
            "1.0 5\n",
            "1.0 6\n",
            "1.0 7\n",
            "1.0 8\n",
            "1.0 9\n",
            "1.0 10\n",
            "10\n",
            "1.0 11\n",
            "1.0 12\n",
            "1.0 13\n",
            "1.0 14\n",
            "1.0 15\n",
            "1.0 16\n",
            "1.0 17\n",
            "1.0 18\n",
            "1.0 19\n",
            "1.0 20\n",
            "1.0 21\n",
            "1.0 22\n",
            "1.0 23\n",
            "1.0 24\n",
            "1.0 25\n",
            "1.0 26\n",
            "1.0 27\n",
            "1.0 28\n",
            "1.0 29\n",
            "1.0 30\n",
            "1.0 31\n",
            "1.0 32\n",
            "1.0 33\n",
            "1.0 34\n",
            "1.0 35\n",
            "1.0 36\n",
            "1.0 37\n",
            "1.0 38\n",
            "1.0 39\n",
            "1.0 40\n",
            "1.0 41\n",
            "1.0 42\n",
            "1.0 43\n",
            "1.0 44\n",
            "1.0 45\n",
            "1.0 46\n",
            "1.0 47\n",
            "1.0 48\n",
            "1.0 49\n",
            "1.0 50\n",
            "1.0 51\n",
            "1.0 52\n",
            "1.0 53\n",
            "1.0 54\n",
            "1.0 55\n",
            "1.0 56\n",
            "1.0 57\n",
            "1.0 58\n",
            "1.0 59\n",
            "1.0 60\n",
            "1.0 61\n",
            "1.0 62\n",
            "1.0 63\n",
            "1.0 64\n",
            "1.0 65\n",
            "1.0 66\n",
            "1.0 67\n",
            "1.0 68\n",
            "1.0 69\n",
            "1.0 70\n",
            "1.0 71\n",
            "1.0 72\n",
            "1.0 73\n",
            "1.0 74\n",
            "1.0 75\n",
            "1.0 76\n",
            "1.0 77\n",
            "1.0 78\n",
            "1.0 79\n",
            "1.0 80\n",
            "1.0 81\n",
            "1.0 82\n",
            "1.0 83\n",
            "1.0 84\n",
            "1.0 85\n",
            "1.0 86\n",
            "1.0 87\n",
            "1.0 88\n",
            "1.0 89\n",
            "1.0 90\n",
            "1.0 91\n",
            "1.0 92\n",
            "1.0 93\n",
            "1.0 94\n",
            "1.0 95\n",
            "1.0 96\n",
            "1.0 97\n",
            "1.0 98\n",
            "1.0 99\n",
            "1.0 100\n",
            "1.0 101\n",
            "1.0 102\n",
            "1.0 103\n",
            "1.0 104\n",
            "1.0 105\n",
            "1.0 106\n",
            "1.0 107\n",
            "1.0 108\n",
            "1.0 109\n",
            "1.0 110\n",
            "1.0 111\n",
            "1.0 112\n",
            "1.0 113\n",
            "1.0 114\n",
            "1.0 115\n",
            "1.0 116\n",
            "1.0 117\n",
            "1.0 118\n",
            "1.0 119\n",
            "1.0 120\n",
            "1.0 121\n",
            "1.0 122\n",
            "1.0 123\n",
            "1.0 124\n",
            "1.0 125\n",
            "1.0 126\n",
            "1.0 127\n",
            "1.0 128\n",
            "1.0 129\n",
            "1.0 130\n",
            "1.0 131\n",
            "1.0 132\n",
            "1.0 133\n",
            "1.0 134\n",
            "1.0 135\n",
            "1.0 136\n",
            "1.0 137\n",
            "1.0 138\n",
            "1.0 139\n",
            "1.0 140\n",
            "1.0 141\n",
            "1.0 142\n",
            "1.0 143\n",
            "1.0 144\n",
            "1.0 145\n",
            "1.0 146\n",
            "1.0 147\n",
            "1.0 148\n",
            "1.0 149\n",
            "1.0 150\n",
            "1.0 151\n",
            "1.0 152\n",
            "1.0 153\n",
            "1.0 154\n",
            "1.0 155\n",
            "1.0 156\n",
            "1.0 157\n",
            "1.0 158\n",
            "1.0 159\n",
            "1.0 160\n",
            "1.0 161\n",
            "1.0 162\n",
            "1.0 163\n",
            "1.0 164\n",
            "1.0 165\n",
            "1.0 166\n",
            "1.0 167\n",
            "1.0 168\n",
            "1.0 169\n",
            "1.0 170\n",
            "1.0 171\n",
            "1.0 172\n",
            "1.0 173\n",
            "1.0 174\n",
            "1.0 175\n",
            "1.0 176\n",
            "1.0 177\n",
            "1.0 178\n",
            "1.0 179\n",
            "1.0 180\n",
            "1.0 181\n",
            "1.0 182\n",
            "1.0 183\n",
            "1.0 184\n",
            "1.0 185\n",
            "1.0 186\n",
            "1.0 187\n",
            "1.0 188\n",
            "1.0 189\n",
            "1.0 190\n",
            "1.0 191\n",
            "1.0 192\n",
            "1.0 193\n",
            "1.0 194\n",
            "1.0 195\n",
            "1.0 196\n",
            "1.0 197\n",
            "1.0 198\n",
            "1.0 199\n",
            "1.0 200\n",
            "1.0 201\n",
            "1.0 202\n",
            "1.0 203\n",
            "1.0 204\n",
            "1.0 205\n",
            "1.0 206\n",
            "1.0 207\n",
            "1.0 208\n",
            "1.0 209\n",
            "1.0 210\n",
            "1.0 211\n",
            "1.0 212\n",
            "1.0 213\n",
            "1.0 214\n",
            "1.0 215\n",
            "1.0 216\n",
            "1.0 217\n",
            "1.0 218\n",
            "1.0 219\n",
            "1.0 220\n",
            "1.0 221\n",
            "1.0 222\n",
            "1.0 223\n",
            "1.0 224\n",
            "1.0 225\n",
            "1.0 226\n",
            "1.0 227\n",
            "1.0 228\n",
            "1.0 229\n",
            "1.0 230\n",
            "1.0 231\n",
            "1.0 232\n",
            "1.0 233\n",
            "1.0 234\n",
            "1.0 235\n",
            "1.0 236\n",
            "1.0 237\n",
            "1.0 238\n",
            "1.0 239\n",
            "1.0 240\n",
            "1.0 241\n",
            "1.0 242\n",
            "1.0 243\n",
            "1.0 244\n",
            "1.0 245\n",
            "1.0 246\n",
            "1.0 247\n",
            "1.0 248\n",
            "1.0 249\n",
            "1.0 250\n",
            "1.0 251\n",
            "1.0 252\n",
            "1.0 253\n",
            "1.0 254\n",
            "1.0 255\n",
            "1.0 256\n",
            "1.0 257\n",
            "1.0 258\n",
            "1.0 259\n",
            "1.0 260\n",
            "1.0 261\n",
            "1.0 262\n",
            "1.0 263\n",
            "1.0 264\n",
            "1.0 265\n",
            "1.0 266\n",
            "1.0 267\n",
            "1.0 268\n",
            "1.0 269\n",
            "1.0 270\n",
            "1.0 271\n",
            "1.0 272\n",
            "1.0 273\n",
            "1.0 274\n",
            "1.0 275\n",
            "1.0 276\n",
            "1.0 277\n",
            "1.0 278\n",
            "1.0 279\n",
            "1.0 280\n",
            "1.0 281\n",
            "1.0 282\n",
            "1.0 283\n",
            "1.0 284\n",
            "1.0 285\n",
            "1.0 286\n",
            "1.0 287\n",
            "1.0 288\n",
            "1.0 289\n",
            "1.0 290\n",
            "1.0 291\n",
            "1.0 292\n",
            "1.0 293\n",
            "1.0 294\n",
            "1.0 295\n",
            "1.0 296\n",
            "1.0 297\n",
            "1.0 298\n",
            "1.0 299\n",
            "1.0 300\n",
            "1.0 301\n",
            "1.0 302\n",
            "1.0 303\n",
            "1.0 304\n",
            "1.0 305\n",
            "1.0 306\n",
            "1.0 307\n",
            "1.0 308\n",
            "1.0 309\n",
            "1.0 310\n",
            "1.0 311\n",
            "1.0 312\n",
            "1.0 313\n",
            "1.0 314\n",
            "1.0 315\n",
            "1.0 316\n",
            "1.0 317\n",
            "1.0 318\n",
            "1.0 319\n",
            "1.0 320\n",
            "0.09090909091 1\n"
          ]
        },
        {
          "output_type": "error",
          "ename": "ValueError",
          "evalue": "ignored",
          "traceback": [
            "\u001b[0;31m---------------------------------------------------------------------------\u001b[0m",
            "\u001b[0;31mValueError\u001b[0m                                Traceback (most recent call last)",
            "\u001b[0;32m<ipython-input-11-4aeffa39f799>\u001b[0m in \u001b[0;36m<module>\u001b[0;34m()\u001b[0m\n\u001b[1;32m      3\u001b[0m     \u001b[0;32mfor\u001b[0m \u001b[0mj\u001b[0m \u001b[0;32min\u001b[0m \u001b[0mi\u001b[0m\u001b[0;34m:\u001b[0m\u001b[0;34m\u001b[0m\u001b[0;34m\u001b[0m\u001b[0m\n\u001b[1;32m      4\u001b[0m       \u001b[0mprint\u001b[0m\u001b[0;34m(\u001b[0m\u001b[0mp\u001b[0m\u001b[0;34m,\u001b[0m\u001b[0mj\u001b[0m\u001b[0;34m)\u001b[0m\u001b[0;34m\u001b[0m\u001b[0;34m\u001b[0m\u001b[0m\n\u001b[0;32m----> 5\u001b[0;31m       \u001b[0;32mif\u001b[0m \u001b[0mj\u001b[0m \u001b[0;34m==\u001b[0m \u001b[0mpr_times\u001b[0m\u001b[0;34m.\u001b[0m\u001b[0mindex\u001b[0m\u001b[0;34m(\u001b[0m\u001b[0mp\u001b[0m\u001b[0;34m+\u001b[0m\u001b[0;36m1\u001b[0m\u001b[0;34m)\u001b[0m\u001b[0;34m:\u001b[0m\u001b[0;34m\u001b[0m\u001b[0;34m\u001b[0m\u001b[0m\n\u001b[0m\u001b[1;32m      6\u001b[0m         \u001b[0mprint\u001b[0m\u001b[0;34m(\u001b[0m\u001b[0mj\u001b[0m\u001b[0;34m)\u001b[0m\u001b[0;34m\u001b[0m\u001b[0;34m\u001b[0m\u001b[0m\n",
            "\u001b[0;31mValueError\u001b[0m: 1.09090909091 is not in list"
          ]
        }
      ]
    },
    {
      "cell_type": "markdown",
      "source": [
        "</br>      \n",
        "\n",
        "---\n",
        "   \n",
        "</br>      \n",
        "\n",
        "To do:\n",
        "  - check the processes in order across machines & give partial score when testing fitness\n",
        "    - cumulative times for each process in the chromosomes for fitness testing\n",
        "    - will need to check predecessors\n",
        "  - add sth to the genes that represent idle times & then shuffle & adjust idle time length"
      ],
      "metadata": {
        "id": "DjWTYnE7-LS_"
      }
    }
  ]
}
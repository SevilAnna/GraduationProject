{
  "nbformat": 4,
  "nbformat_minor": 0,
  "metadata": {
    "colab": {
      "name": "EMU403_code.ipynb",
      "provenance": [],
      "collapsed_sections": [
        "-PLCrmMWLj_r"
      ],
      "include_colab_link": true
    },
    "kernelspec": {
      "name": "python3",
      "display_name": "Python 3"
    },
    "language_info": {
      "name": "python"
    }
  },
  "cells": [
    {
      "cell_type": "markdown",
      "metadata": {
        "id": "view-in-github",
        "colab_type": "text"
      },
      "source": [
        "<a href=\"https://colab.research.google.com/github/SevilAnna/GraduationProject/blob/main/EMU403_code.ipynb\" target=\"_parent\"><img src=\"https://colab.research.google.com/assets/colab-badge.svg\" alt=\"Open In Colab\"/></a>"
      ]
    },
    {
      "cell_type": "markdown",
      "source": [
        "<h1>EMÜ 403 - Graduation Project</h1>\n",
        "\n",
        "---"
      ],
      "metadata": {
        "id": "ePsMaL4LMAZy"
      }
    },
    {
      "cell_type": "markdown",
      "source": [
        "\n",
        "<font color='red'> 🔴🔴 Kızlar 🔴🔴</font> \n",
        "</br></br>Kod üzerinde çalışacaksanız:\n",
        "- Öncelikle kodun en son versiyonunun <a href=\"https://github.com/SevilAnna/GraduationProject\">Github</a>'da olduğundan emin olun. \n",
        "- Drive'daki \"Düzenlenmiş_Dişli_Parçaları\" Excelini kendi bilgisayarınıza indirin. \n",
        "- Veriyi çekmek için aşağıdaki en az ilk 3 kutudaki kodu çalıştırın.\n",
        "- Github'a kaydederken \"main branch\"e değil, başka bir yan branch'e kaydedin.\n",
        "</br></br>- Sevil</br></br>"
      ],
      "metadata": {
        "id": "kzmKo3p4saIK"
      }
    },
    {
      "cell_type": "markdown",
      "source": [
        "## Importing Libraries & the Excel File"
      ],
      "metadata": {
        "id": "xADgo8YMFgxq"
      }
    },
    {
      "cell_type": "markdown",
      "source": [
        "### Importing libraries for the project"
      ],
      "metadata": {
        "id": "V-j53VPBBzq4"
      }
    },
    {
      "cell_type": "code",
      "source": [
        "import pandas as pd\n",
        "import numpy as np\n",
        "from numpy.random import default_rng\n",
        "rng = default_rng()\n",
        "import random\n",
        "import copy\n",
        "#!pip install geneticalgorithm\n",
        "#import geneticalgorithm as ga\n",
        "#from geneticalgorithm import geneticalgorithm as ga\n",
        "print(\"done\")"
      ],
      "metadata": {
        "id": "YCgrQU6-E8b4",
        "colab": {
          "base_uri": "https://localhost:8080/"
        },
        "outputId": "13854dc5-22c2-43a3-fc5b-d40cdacb148d"
      },
      "execution_count": 1,
      "outputs": [
        {
          "output_type": "stream",
          "name": "stdout",
          "text": [
            "done\n"
          ]
        }
      ]
    },
    {
      "cell_type": "markdown",
      "source": [
        "### Importing the Excel file"
      ],
      "metadata": {
        "id": "F2mPwe7qB5uO"
      }
    },
    {
      "cell_type": "code",
      "execution_count": 2,
      "metadata": {
        "colab": {
          "resources": {
            "http://localhost:8080/nbextensions/google.colab/files.js": {
              "data": "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",
              "ok": true,
              "headers": [
                [
                  "content-type",
                  "application/javascript"
                ]
              ],
              "status": 200,
              "status_text": ""
            }
          },
          "base_uri": "https://localhost:8080/",
          "height": 74
        },
        "id": "f0XjhQIHBo92",
        "outputId": "47f13355-d74a-41b0-efe0-1bdb0e7cf008"
      },
      "outputs": [
        {
          "output_type": "display_data",
          "data": {
            "text/plain": [
              "<IPython.core.display.HTML object>"
            ],
            "text/html": [
              "\n",
              "     <input type=\"file\" id=\"files-09c83269-ffa9-4f4a-bded-df2b3a69e579\" name=\"files[]\" multiple disabled\n",
              "        style=\"border:none\" />\n",
              "     <output id=\"result-09c83269-ffa9-4f4a-bded-df2b3a69e579\">\n",
              "      Upload widget is only available when the cell has been executed in the\n",
              "      current browser session. Please rerun this cell to enable.\n",
              "      </output>\n",
              "      <script src=\"/nbextensions/google.colab/files.js\"></script> "
            ]
          },
          "metadata": {}
        },
        {
          "output_type": "stream",
          "name": "stdout",
          "text": [
            "Saving Düzenlenmiş_Dişli_Parçaları.xlsx to Düzenlenmiş_Dişli_Parçaları (1).xlsx\n"
          ]
        }
      ],
      "source": [
        "from google.colab import files\n",
        "uploaded = files.upload()"
      ]
    },
    {
      "cell_type": "code",
      "source": [
        "import io\n",
        "df = pd.read_excel(io.BytesIO(uploaded[\"Düzenlenmiş_Dişli_Parçaları.xlsx\"]), sheet_name='Anka', header=0)\n",
        "del df['SÜRE (11 parça için)']\n",
        "del df['1 tanesi için kaç tane gerek']\n",
        "del df['PROSES']\n",
        "del df['Process time']\n",
        "pr_num = list(range(1,len(df)+1))\n",
        "df[\"Process #\"] = pr_num\n",
        "df = df.rename(columns={'Makine':'Machine', 'İşlem':'Process', 'SETUP':'Setup', \n",
        "                    'SÜRE (1 parça için)':'Processing time', 'PARÇA':'Piece'})\n",
        "df = df.reindex(columns=['Piece','Process #','Process','Machine','Setup','Processing time'])\n",
        "df"
      ],
      "metadata": {
        "id": "Qg8qyn0RB9E7",
        "colab": {
          "base_uri": "https://localhost:8080/",
          "height": 424
        },
        "outputId": "4b17f183-3c76-497d-e734-205afab24c9c"
      },
      "execution_count": 3,
      "outputs": [
        {
          "output_type": "execute_result",
          "data": {
            "text/plain": [
              "                                      Piece  Process #  \\\n",
              "0          UM121T900201200 GEAR ENGINE Z35           1   \n",
              "1          UM121T900201200 GEAR ENGINE Z35           2   \n",
              "2          UM121T900201200 GEAR ENGINE Z35           3   \n",
              "3          UM121T900201200 GEAR ENGINE Z35           4   \n",
              "4          UM121T900201200 GEAR ENGINE Z35           5   \n",
              "..                                      ...        ...   \n",
              "315  UM121T900204300 GEAR ALTERNATOR Z13 -2        316   \n",
              "316  UM121T900204300 GEAR ALTERNATOR Z13 -2        317   \n",
              "317  UM121T900204300 GEAR ALTERNATOR Z13 -2        318   \n",
              "318  UM121T900204300 GEAR ALTERNATOR Z13 -2        319   \n",
              "319  UM121T900204300 GEAR ALTERNATOR Z13 -2        320   \n",
              "\n",
              "                           Process Machine  Setup  Processing time  \n",
              "0       Pre-Hardening Öncesi Torna     D13    0.0         1.000000  \n",
              "1                          Yıkama      D33    0.0         0.090909  \n",
              "2    Ön Sertleştirme (Isıl İşlem)      D31    0.0         0.545455  \n",
              "3                          Yıkama      D33    0.0         0.090909  \n",
              "4         Temperleme (Isıl İşlem)      D32    0.0         0.454545  \n",
              "..                             ...     ...    ...              ...  \n",
              "315                        Yıkama      D12    0.0         0.181818  \n",
              "316                         Balans     D69    0.0         1.000000  \n",
              "317                           MPI      D65    0.0         0.454545  \n",
              "318                        Yıkama      D12    0.0         0.090909  \n",
              "319                Kalite Kontrol      662    0.0         0.500000  \n",
              "\n",
              "[320 rows x 6 columns]"
            ],
            "text/html": [
              "\n",
              "  <div id=\"df-43624a92-7793-4b31-aa65-af999a4f4d2a\">\n",
              "    <div class=\"colab-df-container\">\n",
              "      <div>\n",
              "<style scoped>\n",
              "    .dataframe tbody tr th:only-of-type {\n",
              "        vertical-align: middle;\n",
              "    }\n",
              "\n",
              "    .dataframe tbody tr th {\n",
              "        vertical-align: top;\n",
              "    }\n",
              "\n",
              "    .dataframe thead th {\n",
              "        text-align: right;\n",
              "    }\n",
              "</style>\n",
              "<table border=\"1\" class=\"dataframe\">\n",
              "  <thead>\n",
              "    <tr style=\"text-align: right;\">\n",
              "      <th></th>\n",
              "      <th>Piece</th>\n",
              "      <th>Process #</th>\n",
              "      <th>Process</th>\n",
              "      <th>Machine</th>\n",
              "      <th>Setup</th>\n",
              "      <th>Processing time</th>\n",
              "    </tr>\n",
              "  </thead>\n",
              "  <tbody>\n",
              "    <tr>\n",
              "      <th>0</th>\n",
              "      <td>UM121T900201200 GEAR ENGINE Z35</td>\n",
              "      <td>1</td>\n",
              "      <td>Pre-Hardening Öncesi Torna</td>\n",
              "      <td>D13</td>\n",
              "      <td>0.0</td>\n",
              "      <td>1.000000</td>\n",
              "    </tr>\n",
              "    <tr>\n",
              "      <th>1</th>\n",
              "      <td>UM121T900201200 GEAR ENGINE Z35</td>\n",
              "      <td>2</td>\n",
              "      <td>Yıkama</td>\n",
              "      <td>D33</td>\n",
              "      <td>0.0</td>\n",
              "      <td>0.090909</td>\n",
              "    </tr>\n",
              "    <tr>\n",
              "      <th>2</th>\n",
              "      <td>UM121T900201200 GEAR ENGINE Z35</td>\n",
              "      <td>3</td>\n",
              "      <td>Ön Sertleştirme (Isıl İşlem)</td>\n",
              "      <td>D31</td>\n",
              "      <td>0.0</td>\n",
              "      <td>0.545455</td>\n",
              "    </tr>\n",
              "    <tr>\n",
              "      <th>3</th>\n",
              "      <td>UM121T900201200 GEAR ENGINE Z35</td>\n",
              "      <td>4</td>\n",
              "      <td>Yıkama</td>\n",
              "      <td>D33</td>\n",
              "      <td>0.0</td>\n",
              "      <td>0.090909</td>\n",
              "    </tr>\n",
              "    <tr>\n",
              "      <th>4</th>\n",
              "      <td>UM121T900201200 GEAR ENGINE Z35</td>\n",
              "      <td>5</td>\n",
              "      <td>Temperleme (Isıl İşlem)</td>\n",
              "      <td>D32</td>\n",
              "      <td>0.0</td>\n",
              "      <td>0.454545</td>\n",
              "    </tr>\n",
              "    <tr>\n",
              "      <th>...</th>\n",
              "      <td>...</td>\n",
              "      <td>...</td>\n",
              "      <td>...</td>\n",
              "      <td>...</td>\n",
              "      <td>...</td>\n",
              "      <td>...</td>\n",
              "    </tr>\n",
              "    <tr>\n",
              "      <th>315</th>\n",
              "      <td>UM121T900204300 GEAR ALTERNATOR Z13 -2</td>\n",
              "      <td>316</td>\n",
              "      <td>Yıkama</td>\n",
              "      <td>D12</td>\n",
              "      <td>0.0</td>\n",
              "      <td>0.181818</td>\n",
              "    </tr>\n",
              "    <tr>\n",
              "      <th>316</th>\n",
              "      <td>UM121T900204300 GEAR ALTERNATOR Z13 -2</td>\n",
              "      <td>317</td>\n",
              "      <td>Balans</td>\n",
              "      <td>D69</td>\n",
              "      <td>0.0</td>\n",
              "      <td>1.000000</td>\n",
              "    </tr>\n",
              "    <tr>\n",
              "      <th>317</th>\n",
              "      <td>UM121T900204300 GEAR ALTERNATOR Z13 -2</td>\n",
              "      <td>318</td>\n",
              "      <td>MPI</td>\n",
              "      <td>D65</td>\n",
              "      <td>0.0</td>\n",
              "      <td>0.454545</td>\n",
              "    </tr>\n",
              "    <tr>\n",
              "      <th>318</th>\n",
              "      <td>UM121T900204300 GEAR ALTERNATOR Z13 -2</td>\n",
              "      <td>319</td>\n",
              "      <td>Yıkama</td>\n",
              "      <td>D12</td>\n",
              "      <td>0.0</td>\n",
              "      <td>0.090909</td>\n",
              "    </tr>\n",
              "    <tr>\n",
              "      <th>319</th>\n",
              "      <td>UM121T900204300 GEAR ALTERNATOR Z13 -2</td>\n",
              "      <td>320</td>\n",
              "      <td>Kalite Kontrol</td>\n",
              "      <td>662</td>\n",
              "      <td>0.0</td>\n",
              "      <td>0.500000</td>\n",
              "    </tr>\n",
              "  </tbody>\n",
              "</table>\n",
              "<p>320 rows × 6 columns</p>\n",
              "</div>\n",
              "      <button class=\"colab-df-convert\" onclick=\"convertToInteractive('df-43624a92-7793-4b31-aa65-af999a4f4d2a')\"\n",
              "              title=\"Convert this dataframe to an interactive table.\"\n",
              "              style=\"display:none;\">\n",
              "        \n",
              "  <svg xmlns=\"http://www.w3.org/2000/svg\" height=\"24px\"viewBox=\"0 0 24 24\"\n",
              "       width=\"24px\">\n",
              "    <path d=\"M0 0h24v24H0V0z\" fill=\"none\"/>\n",
              "    <path d=\"M18.56 5.44l.94 2.06.94-2.06 2.06-.94-2.06-.94-.94-2.06-.94 2.06-2.06.94zm-11 1L8.5 8.5l.94-2.06 2.06-.94-2.06-.94L8.5 2.5l-.94 2.06-2.06.94zm10 10l.94 2.06.94-2.06 2.06-.94-2.06-.94-.94-2.06-.94 2.06-2.06.94z\"/><path d=\"M17.41 7.96l-1.37-1.37c-.4-.4-.92-.59-1.43-.59-.52 0-1.04.2-1.43.59L10.3 9.45l-7.72 7.72c-.78.78-.78 2.05 0 2.83L4 21.41c.39.39.9.59 1.41.59.51 0 1.02-.2 1.41-.59l7.78-7.78 2.81-2.81c.8-.78.8-2.07 0-2.86zM5.41 20L4 18.59l7.72-7.72 1.47 1.35L5.41 20z\"/>\n",
              "  </svg>\n",
              "      </button>\n",
              "      \n",
              "  <style>\n",
              "    .colab-df-container {\n",
              "      display:flex;\n",
              "      flex-wrap:wrap;\n",
              "      gap: 12px;\n",
              "    }\n",
              "\n",
              "    .colab-df-convert {\n",
              "      background-color: #E8F0FE;\n",
              "      border: none;\n",
              "      border-radius: 50%;\n",
              "      cursor: pointer;\n",
              "      display: none;\n",
              "      fill: #1967D2;\n",
              "      height: 32px;\n",
              "      padding: 0 0 0 0;\n",
              "      width: 32px;\n",
              "    }\n",
              "\n",
              "    .colab-df-convert:hover {\n",
              "      background-color: #E2EBFA;\n",
              "      box-shadow: 0px 1px 2px rgba(60, 64, 67, 0.3), 0px 1px 3px 1px rgba(60, 64, 67, 0.15);\n",
              "      fill: #174EA6;\n",
              "    }\n",
              "\n",
              "    [theme=dark] .colab-df-convert {\n",
              "      background-color: #3B4455;\n",
              "      fill: #D2E3FC;\n",
              "    }\n",
              "\n",
              "    [theme=dark] .colab-df-convert:hover {\n",
              "      background-color: #434B5C;\n",
              "      box-shadow: 0px 1px 3px 1px rgba(0, 0, 0, 0.15);\n",
              "      filter: drop-shadow(0px 1px 2px rgba(0, 0, 0, 0.3));\n",
              "      fill: #FFFFFF;\n",
              "    }\n",
              "  </style>\n",
              "\n",
              "      <script>\n",
              "        const buttonEl =\n",
              "          document.querySelector('#df-43624a92-7793-4b31-aa65-af999a4f4d2a button.colab-df-convert');\n",
              "        buttonEl.style.display =\n",
              "          google.colab.kernel.accessAllowed ? 'block' : 'none';\n",
              "\n",
              "        async function convertToInteractive(key) {\n",
              "          const element = document.querySelector('#df-43624a92-7793-4b31-aa65-af999a4f4d2a');\n",
              "          const dataTable =\n",
              "            await google.colab.kernel.invokeFunction('convertToInteractive',\n",
              "                                                     [key], {});\n",
              "          if (!dataTable) return;\n",
              "\n",
              "          const docLinkHtml = 'Like what you see? Visit the ' +\n",
              "            '<a target=\"_blank\" href=https://colab.research.google.com/notebooks/data_table.ipynb>data table notebook</a>'\n",
              "            + ' to learn more about interactive tables.';\n",
              "          element.innerHTML = '';\n",
              "          dataTable['output_type'] = 'display_data';\n",
              "          await google.colab.output.renderOutput(dataTable, element);\n",
              "          const docLink = document.createElement('div');\n",
              "          docLink.innerHTML = docLinkHtml;\n",
              "          element.appendChild(docLink);\n",
              "        }\n",
              "      </script>\n",
              "    </div>\n",
              "  </div>\n",
              "  "
            ]
          },
          "metadata": {},
          "execution_count": 3
        }
      ]
    },
    {
      "cell_type": "markdown",
      "source": [
        "## Chromosomes"
      ],
      "metadata": {
        "id": "3gQeCladFZsa"
      }
    },
    {
      "cell_type": "code",
      "source": [
        "m_list = np.unique(np.array(df[\"Machine\"]))                         # Each machine needed\n",
        "m_num_list = [1, 2, 1, 4, 3, 2, 3, 3, 3, 2, 2, 1, 1, 1, 2, 1, 1]    # How many there're of each machine (done manually now; to automate later)\n",
        "print(len(m_list),m_list)\n",
        "print(len(m_num_list),m_num_list)"
      ],
      "metadata": {
        "colab": {
          "base_uri": "https://localhost:8080/"
        },
        "id": "WqMVoYmHOp-g",
        "outputId": "3c208c35-253b-416c-e67f-8991a0cd0521"
      },
      "execution_count": 4,
      "outputs": [
        {
          "output_type": "stream",
          "name": "stdout",
          "text": [
            "17 ['662' 'D11' 'D12' 'D13' 'D15' 'D17' 'D27' 'D31' 'D32' 'D33' 'D41' 'D43'\n",
            " 'D44' 'D47' 'D65' 'D69' 'Nital Etche, Hydrojen Embr.']\n",
            "17 [1, 2, 1, 4, 3, 2, 3, 3, 3, 2, 2, 1, 1, 1, 2, 1, 1]\n"
          ]
        }
      ]
    },
    {
      "cell_type": "code",
      "source": [
        "# creating a dictionary with each machine (including duplicates)\n",
        "all_machines = {}\n",
        "n = 0\n",
        "for m in m_list:\n",
        "  m_num = m_num_list[n]\n",
        "  if m_num > 0:\n",
        "    all_machines[m] = []\n",
        "    # Adding processes to the machines (but not to duplicates)\n",
        "    for r in range(len(df[\"Machine\"])):\n",
        "      if m == df.iloc[r][\"Machine\"]:\n",
        "        all_machines[m].append(r+1)\n",
        "  # add duplicate machines without the processes\n",
        "  if m_num > 1:\n",
        "    m1 = m+\"-1\"\n",
        "    all_machines[m1] = all_machines[m]\n",
        "    all_machines.pop(m)\n",
        "    if m_num > 1:\n",
        "      m2 = m+\"-2\"\n",
        "      all_machines[m2] = []\n",
        "    if m_num > 2:\n",
        "      m3 = m+\"-3\"\n",
        "      all_machines[m3] = []\n",
        "    if m_num > 3:\n",
        "      m4 = m+\"-4\"\n",
        "      all_machines[m4] = []   # later add more if there're 4+ of a certain machine ---> or just write a function for this \n",
        "  n += 1\n",
        "   \n",
        "for k in all_machines:\n",
        "  print(k,\"\\t\",all_machines[k])"
      ],
      "metadata": {
        "colab": {
          "base_uri": "https://localhost:8080/"
        },
        "id": "ScOeU8KWvn1S",
        "outputId": "4db749e1-0487-4550-a395-f3cb04c3d11f"
      },
      "execution_count": 5,
      "outputs": [
        {
          "output_type": "stream",
          "name": "stdout",
          "text": [
            "662 \t [26, 32, 58, 64, 90, 96, 122, 128, 154, 160, 186, 192, 218, 224, 250, 256, 282, 288, 314, 320]\n",
            "D11-1 \t [11, 23, 43, 55, 75, 87, 107, 119, 139, 151, 171, 183, 203, 215, 235, 247, 267, 279, 299, 311]\n",
            "D11-2 \t []\n",
            "D12 \t [13, 24, 28, 31, 45, 56, 60, 63, 77, 88, 92, 95, 109, 120, 124, 127, 141, 152, 156, 159, 173, 184, 188, 191, 205, 216, 220, 223, 237, 248, 252, 255, 269, 280, 284, 287, 301, 312, 316, 319]\n",
            "D13-1 \t [1, 7, 33, 39, 65, 71, 97, 103, 129, 135, 161, 167, 193, 199, 225, 231, 257, 263, 289, 295]\n",
            "D13-2 \t []\n",
            "D13-3 \t []\n",
            "D13-4 \t []\n",
            "D15-1 \t [14, 20, 25, 46, 52, 57, 78, 84, 89, 110, 116, 121, 142, 148, 153, 174, 180, 185, 206, 212, 217, 238, 244, 249, 270, 276, 281, 302, 308, 313]\n",
            "D15-2 \t []\n",
            "D15-3 \t []\n",
            "D17-1 \t [10, 22, 42, 54, 74, 86, 106, 118, 138, 150, 170, 182, 202, 214, 234, 246, 266, 278, 298, 310]\n",
            "D17-2 \t []\n",
            "D27-1 \t [21, 53, 85, 117, 149, 181, 213, 245, 277, 309]\n",
            "D27-2 \t []\n",
            "D27-3 \t []\n",
            "D31-1 \t [3, 15, 35, 47, 67, 79, 99, 111, 131, 143, 163, 175, 195, 207, 227, 239, 259, 271, 291, 303]\n",
            "D31-2 \t []\n",
            "D31-3 \t []\n",
            "D32-1 \t [5, 18, 37, 50, 69, 82, 101, 114, 133, 146, 165, 178, 197, 210, 229, 242, 261, 274, 293, 306]\n",
            "D32-2 \t []\n",
            "D32-3 \t []\n",
            "D33-1 \t [2, 4, 16, 34, 36, 48, 66, 68, 80, 98, 100, 112, 130, 132, 144, 162, 164, 176, 194, 196, 208, 226, 228, 240, 258, 260, 272, 290, 292, 304]\n",
            "D33-2 \t []\n",
            "D41-1 \t [17, 49, 81, 113, 145, 177, 209, 241, 273, 305]\n",
            "D41-2 \t []\n",
            "D43 \t [9, 41, 73, 105, 137, 169, 201, 233, 265, 297]\n",
            "D44 \t [8, 12, 40, 44, 72, 76, 104, 108, 136, 140, 168, 172, 200, 204, 232, 236, 264, 268, 296, 300]\n",
            "D47 \t [6, 19, 38, 51, 70, 83, 102, 115, 134, 147, 166, 179, 198, 211, 230, 243, 262, 275, 294, 307]\n",
            "D65-1 \t [30, 62, 94, 126, 158, 190, 222, 254, 286, 318]\n",
            "D65-2 \t []\n",
            "D69 \t [29, 61, 93, 125, 157, 189, 221, 253, 285, 317]\n",
            "Nital Etche, Hydrojen Embr. \t [27, 59, 91, 123, 155, 187, 219, 251, 283, 315]\n"
          ]
        }
      ]
    },
    {
      "cell_type": "markdown",
      "source": [
        "notes for presentation:\n",
        "- we can see that D12 could be a bottleneck for ANKA"
      ],
      "metadata": {
        "id": "GHQbgtarC3B_"
      }
    },
    {
      "cell_type": "code",
      "source": [
        "machines = copy.deepcopy(all_machines)\n",
        "\n",
        "# initialize genetic algorithm where each gene is a machine's schedule\n",
        "num_genes = len(machines)\n",
        "num_chro = 8\n",
        "popu_size = (num_chro,num_genes)\n",
        "popu = []\n",
        "\n",
        "\n",
        "for i in range(num_chro):\n",
        "  popu.append([machines])\n",
        "\n",
        "# shuffle the order of processes in each machine/gene except for the first chromosome, and print results\n",
        "new_popu = []\n",
        "for i in range(len(popu)):\n",
        "  new_popu.append([0])\n",
        "first_one = True\n",
        "for i in range(len(popu)):\n",
        "  if first_one == False:\n",
        "    for j in popu[i]:\n",
        "      for k in j:\n",
        "        temp_l = random.sample(copy.deepcopy(list(j[k])),len(j[k]))\n",
        "        j[k] = copy.deepcopy(temp_l)\n",
        "  first_one = False\n",
        "  new_popu[i] = copy.deepcopy(popu[i])\n",
        "\n",
        "for c in new_popu:\n",
        "  print(c)"
      ],
      "metadata": {
        "colab": {
          "base_uri": "https://localhost:8080/"
        },
        "id": "69QLThuy8v3k",
        "outputId": "199ff0e9-0456-478a-998b-d0e11c3ea68f"
      },
      "execution_count": 6,
      "outputs": [
        {
          "output_type": "stream",
          "name": "stdout",
          "text": [
            "[{'662': [26, 32, 58, 64, 90, 96, 122, 128, 154, 160, 186, 192, 218, 224, 250, 256, 282, 288, 314, 320], 'D11-1': [11, 23, 43, 55, 75, 87, 107, 119, 139, 151, 171, 183, 203, 215, 235, 247, 267, 279, 299, 311], 'D11-2': [], 'D12': [13, 24, 28, 31, 45, 56, 60, 63, 77, 88, 92, 95, 109, 120, 124, 127, 141, 152, 156, 159, 173, 184, 188, 191, 205, 216, 220, 223, 237, 248, 252, 255, 269, 280, 284, 287, 301, 312, 316, 319], 'D13-1': [1, 7, 33, 39, 65, 71, 97, 103, 129, 135, 161, 167, 193, 199, 225, 231, 257, 263, 289, 295], 'D13-2': [], 'D13-3': [], 'D13-4': [], 'D15-1': [14, 20, 25, 46, 52, 57, 78, 84, 89, 110, 116, 121, 142, 148, 153, 174, 180, 185, 206, 212, 217, 238, 244, 249, 270, 276, 281, 302, 308, 313], 'D15-2': [], 'D15-3': [], 'D17-1': [10, 22, 42, 54, 74, 86, 106, 118, 138, 150, 170, 182, 202, 214, 234, 246, 266, 278, 298, 310], 'D17-2': [], 'D27-1': [21, 53, 85, 117, 149, 181, 213, 245, 277, 309], 'D27-2': [], 'D27-3': [], 'D31-1': [3, 15, 35, 47, 67, 79, 99, 111, 131, 143, 163, 175, 195, 207, 227, 239, 259, 271, 291, 303], 'D31-2': [], 'D31-3': [], 'D32-1': [5, 18, 37, 50, 69, 82, 101, 114, 133, 146, 165, 178, 197, 210, 229, 242, 261, 274, 293, 306], 'D32-2': [], 'D32-3': [], 'D33-1': [2, 4, 16, 34, 36, 48, 66, 68, 80, 98, 100, 112, 130, 132, 144, 162, 164, 176, 194, 196, 208, 226, 228, 240, 258, 260, 272, 290, 292, 304], 'D33-2': [], 'D41-1': [17, 49, 81, 113, 145, 177, 209, 241, 273, 305], 'D41-2': [], 'D43': [9, 41, 73, 105, 137, 169, 201, 233, 265, 297], 'D44': [8, 12, 40, 44, 72, 76, 104, 108, 136, 140, 168, 172, 200, 204, 232, 236, 264, 268, 296, 300], 'D47': [6, 19, 38, 51, 70, 83, 102, 115, 134, 147, 166, 179, 198, 211, 230, 243, 262, 275, 294, 307], 'D65-1': [30, 62, 94, 126, 158, 190, 222, 254, 286, 318], 'D65-2': [], 'D69': [29, 61, 93, 125, 157, 189, 221, 253, 285, 317], 'Nital Etche, Hydrojen Embr.': [27, 59, 91, 123, 155, 187, 219, 251, 283, 315]}]\n",
            "[{'662': [314, 320, 288, 256, 160, 32, 218, 192, 282, 58, 90, 250, 26, 186, 96, 128, 154, 224, 122, 64], 'D11-1': [215, 183, 267, 279, 11, 43, 139, 171, 311, 119, 203, 235, 151, 55, 247, 23, 107, 75, 299, 87], 'D11-2': [], 'D12': [205, 45, 252, 152, 127, 301, 31, 316, 24, 188, 77, 287, 248, 269, 109, 28, 120, 13, 159, 173, 220, 223, 284, 184, 63, 88, 255, 319, 216, 92, 60, 312, 191, 156, 95, 56, 141, 237, 280, 124], 'D13-1': [289, 1, 199, 33, 135, 161, 65, 257, 39, 71, 97, 295, 167, 129, 193, 225, 103, 231, 7, 263], 'D13-2': [], 'D13-3': [], 'D13-4': [], 'D15-1': [206, 110, 148, 276, 52, 180, 308, 153, 25, 217, 249, 57, 313, 78, 185, 281, 89, 142, 238, 270, 244, 212, 121, 174, 116, 20, 84, 46, 14, 302], 'D15-2': [], 'D15-3': [], 'D17-1': [234, 42, 74, 10, 150, 138, 310, 54, 298, 22, 278, 266, 86, 214, 106, 170, 202, 182, 118, 246], 'D17-2': [], 'D27-1': [117, 277, 213, 309, 21, 53, 85, 245, 181, 149], 'D27-2': [], 'D27-3': [], 'D31-1': [99, 303, 131, 207, 163, 271, 35, 291, 47, 259, 175, 195, 15, 3, 79, 143, 111, 67, 239, 227], 'D31-2': [], 'D31-3': [], 'D32-1': [306, 82, 274, 101, 261, 37, 146, 114, 165, 50, 293, 69, 18, 210, 133, 178, 197, 5, 242, 229], 'D32-2': [], 'D32-3': [], 'D33-1': [164, 196, 36, 226, 132, 4, 162, 240, 34, 100, 176, 272, 80, 112, 98, 194, 2, 48, 304, 208, 258, 144, 130, 16, 228, 66, 68, 290, 292, 260], 'D33-2': [], 'D41-1': [241, 17, 209, 273, 113, 145, 49, 305, 81, 177], 'D41-2': [], 'D43': [233, 41, 105, 297, 201, 137, 9, 73, 169, 265], 'D44': [40, 268, 76, 296, 108, 8, 136, 232, 168, 264, 12, 104, 200, 204, 236, 44, 172, 72, 300, 140], 'D47': [51, 230, 102, 134, 147, 211, 198, 243, 179, 275, 115, 307, 70, 166, 83, 262, 6, 38, 294, 19], 'D65-1': [222, 126, 62, 158, 94, 190, 318, 30, 254, 286], 'D65-2': [], 'D69': [29, 125, 317, 189, 61, 93, 221, 253, 157, 285], 'Nital Etche, Hydrojen Embr.': [27, 59, 123, 283, 219, 187, 315, 91, 155, 251]}]\n",
            "[{'662': [64, 314, 58, 320, 256, 250, 224, 160, 90, 96, 186, 128, 122, 282, 218, 154, 32, 192, 26, 288], 'D11-1': [11, 203, 87, 235, 171, 247, 279, 139, 151, 23, 215, 107, 119, 311, 43, 75, 299, 267, 183, 55], 'D11-2': [], 'D12': [45, 60, 220, 13, 312, 269, 92, 237, 156, 31, 284, 191, 88, 120, 173, 216, 152, 252, 205, 24, 184, 248, 63, 141, 95, 109, 159, 77, 301, 28, 280, 127, 56, 287, 316, 255, 319, 124, 188, 223], 'D13-1': [257, 65, 135, 71, 231, 97, 289, 263, 129, 225, 7, 33, 39, 295, 103, 199, 161, 167, 1, 193], 'D13-2': [], 'D13-3': [], 'D13-4': [], 'D15-1': [110, 25, 153, 180, 46, 148, 52, 185, 14, 270, 238, 313, 121, 142, 281, 212, 244, 302, 276, 89, 217, 57, 249, 84, 20, 78, 116, 308, 174, 206], 'D15-2': [], 'D15-3': [], 'D17-1': [266, 246, 202, 234, 106, 10, 86, 214, 118, 298, 138, 74, 170, 22, 150, 278, 54, 310, 42, 182], 'D17-2': [], 'D27-1': [245, 117, 309, 181, 277, 53, 149, 21, 85, 213], 'D27-2': [], 'D27-3': [], 'D31-1': [239, 35, 131, 15, 195, 3, 207, 143, 99, 111, 227, 79, 47, 303, 67, 175, 271, 163, 291, 259], 'D31-2': [], 'D31-3': [], 'D32-1': [210, 178, 293, 242, 165, 261, 101, 274, 306, 50, 37, 5, 229, 197, 114, 82, 69, 133, 146, 18], 'D32-2': [], 'D32-3': [], 'D33-1': [304, 164, 66, 34, 80, 4, 48, 240, 272, 98, 144, 112, 260, 292, 100, 16, 208, 176, 130, 290, 194, 132, 68, 228, 226, 162, 258, 196, 36, 2], 'D33-2': [], 'D41-1': [305, 17, 177, 209, 81, 145, 273, 113, 49, 241], 'D41-2': [], 'D43': [233, 201, 73, 9, 297, 137, 169, 265, 105, 41], 'D44': [72, 40, 264, 236, 76, 8, 200, 300, 44, 296, 172, 136, 104, 140, 204, 232, 168, 268, 12, 108], 'D47': [179, 147, 294, 51, 275, 198, 70, 83, 134, 115, 102, 166, 230, 211, 307, 6, 19, 262, 243, 38], 'D65-1': [62, 254, 286, 30, 158, 190, 318, 94, 222, 126], 'D65-2': [], 'D69': [61, 221, 253, 93, 157, 189, 29, 285, 317, 125], 'Nital Etche, Hydrojen Embr.': [27, 315, 187, 251, 123, 155, 283, 59, 91, 219]}]\n",
            "[{'662': [320, 314, 224, 256, 26, 32, 122, 160, 186, 96, 282, 128, 90, 58, 154, 192, 218, 250, 288, 64], 'D11-1': [215, 23, 203, 139, 299, 11, 235, 183, 151, 75, 247, 171, 107, 55, 267, 43, 279, 119, 87, 311], 'D11-2': [], 'D12': [88, 127, 141, 120, 301, 255, 319, 284, 45, 95, 252, 220, 63, 287, 216, 124, 188, 248, 316, 92, 13, 191, 109, 184, 77, 159, 60, 156, 56, 31, 152, 312, 269, 173, 28, 223, 237, 280, 24, 205], 'D13-1': [167, 129, 289, 7, 1, 161, 295, 231, 263, 33, 65, 225, 257, 97, 71, 193, 39, 199, 135, 103], 'D13-2': [], 'D13-3': [], 'D13-4': [], 'D15-1': [46, 238, 121, 206, 110, 142, 84, 52, 249, 180, 313, 116, 148, 302, 185, 20, 153, 244, 89, 57, 308, 14, 212, 217, 25, 78, 276, 270, 281, 174], 'D15-2': [], 'D15-3': [], 'D17-1': [182, 106, 118, 170, 278, 234, 266, 86, 214, 74, 54, 202, 10, 246, 42, 310, 138, 298, 22, 150], 'D17-2': [], 'D27-1': [181, 213, 85, 309, 53, 277, 245, 117, 149, 21], 'D27-2': [], 'D27-3': [], 'D31-1': [271, 195, 67, 35, 259, 291, 47, 207, 79, 239, 303, 143, 111, 131, 227, 163, 3, 175, 99, 15], 'D31-2': [], 'D31-3': [], 'D32-1': [82, 146, 210, 101, 69, 197, 274, 133, 5, 293, 178, 50, 242, 165, 306, 37, 229, 261, 114, 18], 'D32-2': [], 'D32-3': [], 'D33-1': [272, 176, 4, 194, 132, 130, 48, 2, 164, 196, 162, 100, 260, 16, 226, 208, 290, 304, 112, 98, 80, 240, 36, 68, 228, 292, 66, 144, 258, 34], 'D33-2': [], 'D41-1': [305, 17, 81, 49, 113, 177, 209, 241, 273, 145], 'D41-2': [], 'D43': [233, 9, 137, 105, 169, 201, 297, 265, 41, 73], 'D44': [40, 108, 136, 8, 264, 76, 104, 168, 12, 204, 172, 72, 44, 300, 140, 296, 200, 236, 268, 232], 'D47': [294, 307, 115, 19, 102, 147, 211, 166, 243, 230, 51, 179, 262, 134, 83, 275, 6, 38, 198, 70], 'D65-1': [158, 30, 190, 318, 222, 254, 94, 62, 126, 286], 'D65-2': [], 'D69': [189, 93, 221, 61, 317, 285, 157, 29, 125, 253], 'Nital Etche, Hydrojen Embr.': [219, 91, 123, 27, 59, 155, 251, 315, 187, 283]}]\n",
            "[{'662': [256, 90, 32, 96, 192, 320, 218, 122, 26, 282, 58, 128, 160, 64, 288, 186, 224, 314, 154, 250], 'D11-1': [43, 247, 267, 279, 151, 23, 299, 203, 75, 311, 11, 87, 119, 171, 55, 215, 139, 235, 183, 107], 'D11-2': [], 'D12': [45, 63, 220, 13, 312, 127, 188, 31, 77, 24, 316, 301, 255, 109, 284, 205, 319, 287, 184, 159, 92, 173, 237, 216, 120, 152, 280, 269, 223, 88, 28, 60, 252, 56, 124, 95, 191, 141, 156, 248], 'D13-1': [161, 65, 1, 33, 97, 7, 289, 103, 39, 263, 231, 225, 71, 135, 199, 257, 167, 193, 295, 129], 'D13-2': [], 'D13-3': [], 'D13-4': [], 'D15-1': [20, 46, 121, 180, 57, 14, 276, 185, 52, 206, 217, 281, 238, 313, 116, 89, 25, 270, 153, 142, 249, 110, 212, 148, 302, 244, 308, 174, 84, 78], 'D15-2': [], 'D15-3': [], 'D17-1': [214, 10, 310, 138, 266, 234, 278, 118, 106, 182, 74, 22, 202, 42, 246, 298, 54, 150, 86, 170], 'D17-2': [], 'D27-1': [277, 309, 181, 117, 85, 21, 53, 149, 213, 245], 'D27-2': [], 'D27-3': [], 'D31-1': [79, 15, 47, 99, 207, 259, 3, 163, 111, 303, 227, 291, 195, 143, 67, 271, 35, 175, 239, 131], 'D31-2': [], 'D31-3': [], 'D32-1': [197, 18, 69, 210, 293, 37, 5, 146, 82, 229, 165, 101, 274, 306, 178, 133, 242, 261, 50, 114], 'D32-2': [], 'D32-3': [], 'D33-1': [132, 304, 16, 228, 98, 66, 4, 164, 162, 258, 34, 112, 194, 196, 68, 176, 130, 144, 292, 240, 226, 100, 260, 80, 208, 2, 290, 48, 36, 272], 'D33-2': [], 'D41-1': [177, 241, 17, 49, 145, 273, 305, 81, 209, 113], 'D41-2': [], 'D43': [105, 137, 41, 233, 169, 265, 73, 201, 9, 297], 'D44': [44, 236, 8, 200, 204, 296, 268, 168, 40, 232, 108, 172, 264, 140, 136, 72, 76, 104, 300, 12], 'D47': [147, 6, 294, 211, 230, 51, 243, 19, 179, 262, 198, 102, 166, 83, 70, 134, 115, 275, 38, 307], 'D65-1': [94, 254, 190, 126, 62, 222, 318, 30, 158, 286], 'D65-2': [], 'D69': [61, 93, 29, 189, 221, 157, 285, 317, 125, 253], 'Nital Etche, Hydrojen Embr.': [91, 219, 59, 251, 187, 283, 155, 315, 27, 123]}]\n",
            "[{'662': [26, 128, 256, 320, 192, 160, 288, 224, 282, 218, 32, 58, 90, 314, 122, 96, 186, 154, 250, 64], 'D11-1': [203, 299, 23, 215, 183, 235, 139, 311, 11, 279, 151, 75, 107, 87, 171, 55, 247, 119, 43, 267], 'D11-2': [], 'D12': [255, 31, 127, 13, 301, 124, 152, 95, 205, 223, 173, 216, 280, 63, 269, 109, 284, 220, 237, 287, 252, 248, 159, 319, 188, 88, 120, 77, 312, 56, 92, 24, 28, 45, 191, 184, 316, 60, 141, 156], 'D13-1': [33, 129, 257, 1, 97, 39, 7, 289, 193, 103, 65, 71, 135, 225, 199, 231, 295, 167, 263, 161], 'D13-2': [], 'D13-3': [], 'D13-4': [], 'D15-1': [148, 302, 153, 78, 206, 46, 308, 84, 185, 110, 180, 142, 174, 276, 244, 212, 57, 281, 20, 249, 238, 89, 116, 121, 313, 52, 270, 25, 14, 217], 'D15-2': [], 'D15-3': [], 'D17-1': [42, 278, 138, 298, 10, 54, 118, 74, 86, 170, 202, 214, 310, 266, 22, 246, 150, 182, 234, 106], 'D17-2': [], 'D27-1': [213, 245, 117, 53, 149, 21, 309, 85, 181, 277], 'D27-2': [], 'D27-3': [], 'D31-1': [35, 3, 175, 207, 67, 303, 15, 99, 195, 143, 227, 163, 79, 111, 239, 291, 259, 47, 271, 131], 'D31-2': [], 'D31-3': [], 'D32-1': [114, 5, 261, 101, 274, 306, 82, 37, 293, 197, 50, 242, 18, 210, 165, 133, 229, 178, 69, 146], 'D32-2': [], 'D32-3': [], 'D33-1': [164, 34, 80, 16, 132, 176, 144, 226, 196, 130, 258, 304, 68, 36, 228, 260, 48, 272, 112, 194, 98, 66, 4, 2, 292, 240, 290, 162, 208, 100], 'D33-2': [], 'D41-1': [113, 241, 273, 145, 305, 177, 49, 81, 17, 209], 'D41-2': [], 'D43': [265, 137, 73, 9, 169, 201, 233, 297, 41, 105], 'D44': [264, 296, 232, 136, 40, 236, 300, 204, 140, 268, 12, 108, 168, 104, 8, 200, 72, 76, 172, 44], 'D47': [102, 211, 294, 179, 275, 38, 198, 134, 6, 243, 19, 166, 230, 147, 115, 83, 262, 70, 307, 51], 'D65-1': [190, 318, 254, 62, 30, 158, 126, 222, 94, 286], 'D65-2': [], 'D69': [317, 125, 157, 285, 253, 61, 29, 189, 221, 93], 'Nital Etche, Hydrojen Embr.': [123, 219, 251, 315, 27, 59, 283, 91, 155, 187]}]\n",
            "[{'662': [192, 128, 26, 224, 64, 282, 320, 32, 90, 186, 154, 250, 96, 122, 160, 218, 58, 314, 288, 256], 'D11-1': [43, 171, 299, 247, 203, 267, 311, 235, 183, 139, 107, 11, 75, 23, 55, 151, 119, 215, 279, 87], 'D11-2': [], 'D12': [252, 284, 24, 248, 184, 124, 255, 56, 188, 173, 13, 45, 205, 63, 77, 312, 127, 95, 287, 141, 109, 120, 156, 319, 191, 216, 159, 152, 301, 237, 269, 280, 28, 92, 31, 316, 60, 220, 88, 223], 'D13-1': [199, 167, 289, 97, 1, 7, 263, 193, 295, 103, 71, 257, 65, 225, 161, 231, 135, 129, 39, 33], 'D13-2': [], 'D13-3': [], 'D13-4': [], 'D15-1': [142, 116, 20, 276, 249, 238, 84, 57, 153, 78, 121, 89, 217, 52, 46, 244, 14, 180, 281, 185, 302, 308, 206, 110, 174, 25, 270, 212, 148, 313], 'D15-2': [], 'D15-3': [], 'D17-1': [42, 22, 310, 86, 182, 298, 246, 214, 106, 150, 202, 54, 138, 234, 266, 10, 118, 74, 170, 278], 'D17-2': [], 'D27-1': [85, 181, 277, 149, 53, 309, 117, 213, 21, 245], 'D27-2': [], 'D27-3': [], 'D31-1': [227, 79, 143, 163, 35, 259, 271, 99, 131, 239, 303, 175, 111, 195, 67, 3, 291, 207, 47, 15], 'D31-2': [], 'D31-3': [], 'D32-1': [165, 306, 18, 210, 82, 69, 37, 274, 114, 133, 197, 229, 146, 293, 101, 242, 50, 5, 178, 261], 'D32-2': [], 'D32-3': [], 'D33-1': [80, 98, 226, 164, 208, 4, 2, 196, 272, 48, 194, 130, 258, 68, 144, 100, 260, 290, 112, 292, 228, 240, 132, 66, 162, 34, 304, 36, 176, 16], 'D33-2': [], 'D41-1': [241, 49, 145, 113, 305, 273, 177, 81, 17, 209], 'D41-2': [], 'D43': [9, 169, 105, 201, 137, 233, 297, 73, 41, 265], 'D44': [204, 8, 296, 236, 104, 40, 44, 136, 12, 300, 168, 76, 72, 232, 268, 108, 140, 200, 264, 172], 'D47': [83, 19, 147, 38, 166, 70, 243, 262, 51, 198, 6, 230, 307, 179, 134, 115, 275, 211, 102, 294], 'D65-1': [30, 318, 286, 94, 126, 254, 62, 222, 158, 190], 'D65-2': [], 'D69': [253, 29, 221, 61, 93, 317, 157, 285, 189, 125], 'Nital Etche, Hydrojen Embr.': [155, 59, 27, 91, 123, 219, 315, 251, 283, 187]}]\n",
            "[{'662': [218, 122, 224, 250, 160, 64, 32, 90, 282, 186, 128, 96, 192, 154, 58, 288, 314, 26, 256, 320], 'D11-1': [43, 247, 171, 203, 311, 75, 23, 235, 107, 267, 215, 183, 151, 119, 139, 87, 55, 11, 299, 279], 'D11-2': [], 'D12': [60, 109, 77, 287, 223, 184, 301, 252, 127, 95, 141, 24, 237, 92, 188, 156, 248, 173, 255, 312, 216, 316, 56, 63, 13, 152, 205, 28, 120, 45, 191, 220, 319, 269, 280, 88, 124, 159, 31, 284], 'D13-1': [257, 199, 225, 167, 97, 193, 71, 263, 161, 135, 231, 7, 1, 289, 295, 129, 39, 103, 65, 33], 'D13-2': [], 'D13-3': [], 'D13-4': [], 'D15-1': [116, 174, 281, 185, 89, 217, 142, 153, 308, 276, 302, 249, 121, 148, 46, 244, 20, 270, 180, 313, 238, 206, 78, 110, 25, 14, 52, 57, 212, 84], 'D15-2': [], 'D15-3': [], 'D17-1': [86, 278, 202, 54, 150, 106, 118, 298, 310, 266, 182, 138, 214, 74, 22, 10, 234, 170, 42, 246], 'D17-2': [], 'D27-1': [245, 149, 21, 117, 85, 309, 277, 181, 53, 213], 'D27-2': [], 'D27-3': [], 'D31-1': [303, 3, 35, 79, 143, 195, 15, 259, 111, 131, 163, 99, 271, 47, 291, 239, 175, 67, 227, 207], 'D31-2': [], 'D31-3': [], 'D32-1': [229, 133, 146, 37, 242, 274, 101, 261, 210, 165, 5, 293, 114, 306, 69, 50, 18, 82, 197, 178], 'D32-2': [], 'D32-3': [], 'D33-1': [4, 304, 228, 66, 176, 164, 196, 272, 80, 240, 162, 48, 292, 16, 130, 290, 226, 68, 112, 144, 258, 260, 98, 132, 34, 36, 2, 194, 208, 100], 'D33-2': [], 'D41-1': [49, 17, 81, 273, 209, 113, 305, 241, 177, 145], 'D41-2': [], 'D43': [265, 137, 201, 233, 169, 105, 9, 297, 41, 73], 'D44': [140, 136, 232, 296, 200, 12, 204, 236, 268, 8, 40, 264, 72, 104, 44, 76, 108, 168, 300, 172], 'D47': [179, 70, 198, 83, 243, 115, 51, 6, 19, 275, 147, 134, 262, 211, 230, 38, 102, 307, 166, 294], 'D65-1': [94, 190, 62, 254, 158, 222, 126, 286, 318, 30], 'D65-2': [], 'D69': [285, 317, 189, 125, 253, 157, 29, 93, 61, 221], 'Nital Etche, Hydrojen Embr.': [187, 59, 27, 123, 155, 283, 251, 219, 91, 315]}]\n"
          ]
        }
      ]
    },
    {
      "cell_type": "markdown",
      "source": [
        "## Fitness function"
      ],
      "metadata": {
        "id": "AfwuGR1U_lMI"
      }
    },
    {
      "cell_type": "code",
      "source": [
        "# setup, processing & total times for each process (from 1 to 320)\n",
        "pr_times = list(df[\"Processing time\"])\n",
        "stp_times = list(df[\"Setup\"])\n",
        "t_times = []\n",
        "for i in range(len(pr_times)):\n",
        "  t_times.append(pr_times[i] + stp_times[i])\n",
        "print(pr_times)\n",
        "print(stp_times)\n",
        "print(t_times)"
      ],
      "metadata": {
        "id": "jGeyWlqCKJTg",
        "colab": {
          "base_uri": "https://localhost:8080/"
        },
        "outputId": "2e595170-90f7-4977-caec-d735f068658a"
      },
      "execution_count": 7,
      "outputs": [
        {
          "output_type": "stream",
          "name": "stdout",
          "text": [
            "[1.0, 0.09090909091, 0.5454545455, 0.09090909091, 0.4545454545, 0.4545454545, 1.636363636, 0.09090909091, 0.09090909091, 0.4545454545, 2.0, 0.4545454545, 0.1818181818, 0.4545454545, 0.8181818182, 0.09090909091, 0.2727272727, 0.5454545455, 0.4545454545, 0.4545454545, 1.0, 0.4545454545, 2.0, 0.1818181818, 0.4545454545, 0.4545454545, 1.272727273, 0.1818181818, 2.0, 0.4545454545, 0.1818181818, 1.0, 0.75, 0.09090909091, 0.5454545455, 0.09090909091, 0.4545454545, 0.4545454545, 1.227272727, 0.06818181818, 0.06818181818, 0.3409090909, 1.5, 0.3409090909, 0.1363636364, 0.3409090909, 0.8181818182, 0.09090909091, 0.2727272727, 0.5454545455, 0.4545454545, 0.3409090909, 0.75, 0.3409090909, 1.5, 0.1363636364, 0.3409090909, 0.3409090909, 1.272727273, 0.1363636364, 1.5, 0.4545454545, 0.1363636364, 0.75, 0.75, 0.09090909091, 0.5454545455, 0.09090909091, 0.4545454545, 0.4545454545, 1.227272727, 0.06818181818, 0.06818181818, 0.3409090909, 1.5, 0.3409090909, 0.1363636364, 0.3409090909, 0.8181818182, 0.09090909091, 0.2727272727, 0.5454545455, 0.4545454545, 0.3409090909, 0.75, 0.3409090909, 1.5, 0.1363636364, 0.3409090909, 0.3409090909, 1.272727273, 0.1363636364, 1.5, 0.4545454545, 0.1363636364, 0.75, 1.0, 0.09090909091, 0.5454545455, 0.09090909091, 0.4545454545, 0.4545454545, 1.636363636, 0.09090909091, 0.09090909091, 0.4545454545, 2.0, 0.4545454545, 0.1818181818, 0.4545454545, 0.8181818182, 0.09090909091, 0.2727272727, 0.5454545455, 0.4545454545, 0.4545454545, 1.0, 0.4545454545, 2.0, 0.1818181818, 0.4545454545, 0.4545454545, 1.272727273, 0.1818181818, 2.0, 0.4545454545, 0.1818181818, 1.0, 1.0, 0.09090909091, 0.5454545455, 0.09090909091, 0.4545454545, 0.4545454545, 1.636363636, 0.09090909091, 0.09090909091, 0.4545454545, 2.0, 0.4545454545, 0.1818181818, 0.4545454545, 0.8181818182, 0.09090909091, 0.2727272727, 0.5454545455, 0.4545454545, 0.4545454545, 1.0, 0.4545454545, 2.0, 0.1818181818, 0.4545454545, 0.4545454545, 1.272727273, 0.1818181818, 2.0, 0.4545454545, 0.1818181818, 1.0, 0.5, 0.09090909091, 0.5454545455, 0.09090909091, 0.4545454545, 0.4545454545, 0.8181818182, 0.04545454545, 0.04545454545, 0.2272727273, 1.0, 0.2272727273, 0.09090909091, 0.2272727273, 0.8181818182, 0.09090909091, 0.2727272727, 0.5454545455, 0.4545454545, 0.2272727273, 0.5, 0.2272727273, 1.0, 0.09090909091, 0.2272727273, 0.2272727273, 1.272727273, 0.1818181818, 1.0, 0.4545454545, 0.09090909091, 0.5, 0.5, 0.09090909091, 0.5454545455, 0.09090909091, 0.4545454545, 0.4545454545, 0.8181818182, 0.04545454545, 0.04545454545, 0.2272727273, 1.0, 0.2272727273, 0.09090909091, 0.2272727273, 0.8181818182, 0.09090909091, 0.2727272727, 0.5454545455, 0.4545454545, 0.2272727273, 0.5, 0.2272727273, 1.0, 0.09090909091, 0.2272727273, 0.2272727273, 1.272727273, 0.1818181818, 1.0, 0.4545454545, 0.09090909091, 0.5, 0.5, 0.09090909091, 0.5454545455, 0.09090909091, 0.4545454545, 0.4545454545, 0.8181818182, 0.04545454545, 0.04545454545, 0.2272727273, 1.0, 0.2272727273, 0.09090909091, 0.2272727273, 0.8181818182, 0.09090909091, 0.2727272727, 0.5454545455, 0.4545454545, 0.2272727273, 0.5, 0.2272727273, 1.0, 0.09090909091, 0.2272727273, 0.2272727273, 1.272727273, 0.1818181818, 1.0, 0.4545454545, 0.09090909091, 0.5, 0.5, 0.09090909091, 0.5454545455, 0.09090909091, 0.4545454545, 0.4545454545, 0.8181818182, 0.04545454545, 0.04545454545, 0.2272727273, 1.0, 0.2272727273, 0.09090909091, 0.2272727273, 0.8181818182, 0.09090909091, 0.2727272727, 0.5454545455, 0.4545454545, 0.2272727273, 0.5, 0.2272727273, 1.0, 0.09090909091, 0.2272727273, 0.2272727273, 1.272727273, 0.1818181818, 1.0, 0.4545454545, 0.09090909091, 0.5, 0.5, 0.09090909091, 0.5454545455, 0.09090909091, 0.4545454545, 0.4545454545, 0.8181818182, 0.04545454545, 0.04545454545, 0.2272727273, 1.0, 0.2272727273, 0.09090909091, 0.2272727273, 0.8181818182, 0.09090909091, 0.2727272727, 0.5454545455, 0.4545454545, 0.2272727273, 0.5, 0.2272727273, 1.0, 0.09090909091, 0.2272727273, 0.2272727273, 1.272727273, 0.1818181818, 1.0, 0.4545454545, 0.09090909091, 0.5]\n",
            "[0.0, 0.0, 0.0, 0.0, 0.0, 0.0, 0.0, 0.0, 0.0, 0.75, 5.5, 0.0, 0.0, 0.75, 0.0, 0.0, 0.0, 0.0, 0.0, 0.75, 2.2, 0.75, 5.5, 0.0, 0.75, 0.0, 0.0, 0.0, 0.0, 0.0, 0.0, 0.0, 0.0, 0.0, 0.0, 0.0, 0.0, 0.0, 0.0, 0.0, 0.0, 0.5625, 4.125, 0.0, 0.0, 0.5625, 0.0, 0.0, 0.0, 0.0, 0.0, 0.5625, 1.65, 0.5625, 4.125, 0.0, 0.5625, 0.0, 0.0, 0.0, 0.0, 0.0, 0.0, 0.0, 0.0, 0.0, 0.0, 0.0, 0.0, 0.0, 0.0, 0.0, 0.0, 0.5625, 4.125, 0.0, 0.0, 0.5625, 0.0, 0.0, 0.0, 0.0, 0.0, 0.5625, 1.65, 0.5625, 4.125, 0.0, 0.5625, 0.0, 0.0, 0.0, 0.0, 0.0, 0.0, 0.0, 0.0, 0.0, 0.0, 0.0, 0.0, 0.0, 0.0, 0.0, 0.0, 0.75, 5.5, 0.0, 0.0, 0.75, 0.0, 0.0, 0.0, 0.0, 0.0, 0.75, 2.2, 0.75, 5.5, 0.0, 0.75, 0.0, 0.0, 0.0, 0.0, 0.0, 0.0, 0.0, 0.0, 0.0, 0.0, 0.0, 0.0, 0.0, 0.0, 0.0, 0.0, 0.75, 5.5, 0.0, 0.0, 0.75, 0.0, 0.0, 0.0, 0.0, 0.0, 0.75, 2.2, 0.75, 5.5, 0.0, 0.75, 0.0, 0.0, 0.0, 0.0, 0.0, 0.0, 0.0, 0.0, 0.0, 0.0, 0.0, 0.0, 0.0, 0.0, 0.0, 0.0, 0.375, 2.75, 0.0, 0.0, 0.375, 0.0, 0.0, 0.0, 0.0, 0.0, 0.375, 1.1, 0.375, 2.75, 0.0, 0.375, 0.0, 0.0, 0.0, 0.0, 0.0, 0.0, 0.0, 0.0, 0.0, 0.0, 0.0, 0.0, 0.0, 0.0, 0.0, 0.0, 0.375, 2.75, 0.0, 0.0, 0.375, 0.0, 0.0, 0.0, 0.0, 0.0, 0.375, 1.1, 0.375, 2.75, 0.0, 0.375, 0.0, 0.0, 0.0, 0.0, 0.0, 0.0, 0.0, 0.0, 0.0, 0.0, 0.0, 0.0, 0.0, 0.0, 0.0, 0.0, 0.375, 2.75, 0.0, 0.0, 0.375, 0.0, 0.0, 0.0, 0.0, 0.0, 0.375, 1.1, 0.375, 2.75, 0.0, 0.375, 0.0, 0.0, 0.0, 0.0, 0.0, 0.0, 0.0, 0.0, 0.0, 0.0, 0.0, 0.0, 0.0, 0.0, 0.0, 0.0, 0.375, 2.75, 0.0, 0.0, 0.375, 0.0, 0.0, 0.0, 0.0, 0.0, 0.375, 1.1, 0.375, 2.75, 0.0, 0.375, 0.0, 0.0, 0.0, 0.0, 0.0, 0.0, 0.0, 0.0, 0.0, 0.0, 0.0, 0.0, 0.0, 0.0, 0.0, 0.0, 0.375, 2.75, 0.0, 0.0, 0.375, 0.0, 0.0, 0.0, 0.0, 0.0, 0.375, 1.1, 0.375, 2.75, 0.0, 0.375, 0.0, 0.0, 0.0, 0.0, 0.0, 0.0, 0.0]\n",
            "[1.0, 0.09090909091, 0.5454545455, 0.09090909091, 0.4545454545, 0.4545454545, 1.636363636, 0.09090909091, 0.09090909091, 1.2045454545, 7.5, 0.4545454545, 0.1818181818, 1.2045454545, 0.8181818182, 0.09090909091, 0.2727272727, 0.5454545455, 0.4545454545, 1.2045454545, 3.2, 1.2045454545, 7.5, 0.1818181818, 1.2045454545, 0.4545454545, 1.272727273, 0.1818181818, 2.0, 0.4545454545, 0.1818181818, 1.0, 0.75, 0.09090909091, 0.5454545455, 0.09090909091, 0.4545454545, 0.4545454545, 1.227272727, 0.06818181818, 0.06818181818, 0.9034090909, 5.625, 0.3409090909, 0.1363636364, 0.9034090909, 0.8181818182, 0.09090909091, 0.2727272727, 0.5454545455, 0.4545454545, 0.9034090909, 2.4, 0.9034090909, 5.625, 0.1363636364, 0.9034090909, 0.3409090909, 1.272727273, 0.1363636364, 1.5, 0.4545454545, 0.1363636364, 0.75, 0.75, 0.09090909091, 0.5454545455, 0.09090909091, 0.4545454545, 0.4545454545, 1.227272727, 0.06818181818, 0.06818181818, 0.9034090909, 5.625, 0.3409090909, 0.1363636364, 0.9034090909, 0.8181818182, 0.09090909091, 0.2727272727, 0.5454545455, 0.4545454545, 0.9034090909, 2.4, 0.9034090909, 5.625, 0.1363636364, 0.9034090909, 0.3409090909, 1.272727273, 0.1363636364, 1.5, 0.4545454545, 0.1363636364, 0.75, 1.0, 0.09090909091, 0.5454545455, 0.09090909091, 0.4545454545, 0.4545454545, 1.636363636, 0.09090909091, 0.09090909091, 1.2045454545, 7.5, 0.4545454545, 0.1818181818, 1.2045454545, 0.8181818182, 0.09090909091, 0.2727272727, 0.5454545455, 0.4545454545, 1.2045454545, 3.2, 1.2045454545, 7.5, 0.1818181818, 1.2045454545, 0.4545454545, 1.272727273, 0.1818181818, 2.0, 0.4545454545, 0.1818181818, 1.0, 1.0, 0.09090909091, 0.5454545455, 0.09090909091, 0.4545454545, 0.4545454545, 1.636363636, 0.09090909091, 0.09090909091, 1.2045454545, 7.5, 0.4545454545, 0.1818181818, 1.2045454545, 0.8181818182, 0.09090909091, 0.2727272727, 0.5454545455, 0.4545454545, 1.2045454545, 3.2, 1.2045454545, 7.5, 0.1818181818, 1.2045454545, 0.4545454545, 1.272727273, 0.1818181818, 2.0, 0.4545454545, 0.1818181818, 1.0, 0.5, 0.09090909091, 0.5454545455, 0.09090909091, 0.4545454545, 0.4545454545, 0.8181818182, 0.04545454545, 0.04545454545, 0.6022727273, 3.75, 0.2272727273, 0.09090909091, 0.6022727273, 0.8181818182, 0.09090909091, 0.2727272727, 0.5454545455, 0.4545454545, 0.6022727273, 1.6, 0.6022727273, 3.75, 0.09090909091, 0.6022727273, 0.2272727273, 1.272727273, 0.1818181818, 1.0, 0.4545454545, 0.09090909091, 0.5, 0.5, 0.09090909091, 0.5454545455, 0.09090909091, 0.4545454545, 0.4545454545, 0.8181818182, 0.04545454545, 0.04545454545, 0.6022727273, 3.75, 0.2272727273, 0.09090909091, 0.6022727273, 0.8181818182, 0.09090909091, 0.2727272727, 0.5454545455, 0.4545454545, 0.6022727273, 1.6, 0.6022727273, 3.75, 0.09090909091, 0.6022727273, 0.2272727273, 1.272727273, 0.1818181818, 1.0, 0.4545454545, 0.09090909091, 0.5, 0.5, 0.09090909091, 0.5454545455, 0.09090909091, 0.4545454545, 0.4545454545, 0.8181818182, 0.04545454545, 0.04545454545, 0.6022727273, 3.75, 0.2272727273, 0.09090909091, 0.6022727273, 0.8181818182, 0.09090909091, 0.2727272727, 0.5454545455, 0.4545454545, 0.6022727273, 1.6, 0.6022727273, 3.75, 0.09090909091, 0.6022727273, 0.2272727273, 1.272727273, 0.1818181818, 1.0, 0.4545454545, 0.09090909091, 0.5, 0.5, 0.09090909091, 0.5454545455, 0.09090909091, 0.4545454545, 0.4545454545, 0.8181818182, 0.04545454545, 0.04545454545, 0.6022727273, 3.75, 0.2272727273, 0.09090909091, 0.6022727273, 0.8181818182, 0.09090909091, 0.2727272727, 0.5454545455, 0.4545454545, 0.6022727273, 1.6, 0.6022727273, 3.75, 0.09090909091, 0.6022727273, 0.2272727273, 1.272727273, 0.1818181818, 1.0, 0.4545454545, 0.09090909091, 0.5, 0.5, 0.09090909091, 0.5454545455, 0.09090909091, 0.4545454545, 0.4545454545, 0.8181818182, 0.04545454545, 0.04545454545, 0.6022727273, 3.75, 0.2272727273, 0.09090909091, 0.6022727273, 0.8181818182, 0.09090909091, 0.2727272727, 0.5454545455, 0.4545454545, 0.6022727273, 1.6, 0.6022727273, 3.75, 0.09090909091, 0.6022727273, 0.2272727273, 1.272727273, 0.1818181818, 1.0, 0.4545454545, 0.09090909091, 0.5]\n"
          ]
        }
      ]
    },
    {
      "cell_type": "code",
      "source": [
        "# function to write setup, processing & total times for each process in a chromosome\n",
        "def write_times(m_time):\n",
        "  m_pr_time = copy.deepcopy(m_time)\n",
        "  m_stp_time = copy.deepcopy(m_time)\n",
        "  m_tot_time = copy.deepcopy(m_time)\n",
        "  for m in m_time:\n",
        "    for i in range(len(m_time[m])):\n",
        "      for j in range(len(pr_times)):\n",
        "        if m_time[m][i] == j+1:\n",
        "          m_pr_time[m][i] = pr_times[j]\n",
        "          m_stp_time[m][i] = stp_times[j]\n",
        "          m_tot_time[m][i] = t_times[j]\n",
        "  return m_pr_time, m_stp_time, m_tot_time\n",
        "\n",
        "pr_time, stp_time, t_time = write_times(all_machines)\n",
        "print(\"process:\",pr_time)\n",
        "print(\"setups:\",stp_time)\n",
        "print(\"total:\",t_time)"
      ],
      "metadata": {
        "id": "31NOzjXMS60-",
        "colab": {
          "base_uri": "https://localhost:8080/"
        },
        "outputId": "71dfa75a-bac3-470a-af2a-fb027ad08c9b"
      },
      "execution_count": 8,
      "outputs": [
        {
          "output_type": "stream",
          "name": "stdout",
          "text": [
            "process: {'662': [0.4545454545, 1.0, 0.3409090909, 0.75, 0.3409090909, 0.75, 0.4545454545, 1.0, 0.4545454545, 1.0, 0.2272727273, 0.5, 0.2272727273, 0.5, 0.2272727273, 0.5, 0.2272727273, 0.5, 0.2272727273, 0.5], 'D11-1': [2.0, 2.0, 1.5, 1.5, 1.5, 1.5, 2.0, 2.0, 2.0, 2.0, 1.0, 1.0, 1.0, 1.0, 1.0, 1.0, 1.0, 1.0, 1.0, 1.0], 'D11-2': [], 'D12': [0.1818181818, 0.1818181818, 0.1818181818, 0.1818181818, 0.1363636364, 0.1363636364, 0.1363636364, 0.1363636364, 0.1363636364, 0.1363636364, 0.1363636364, 0.1363636364, 0.1818181818, 0.1818181818, 0.1818181818, 0.1818181818, 0.1818181818, 0.1818181818, 0.1818181818, 0.1818181818, 0.09090909091, 0.09090909091, 0.1818181818, 0.09090909091, 0.09090909091, 0.09090909091, 0.1818181818, 0.09090909091, 0.09090909091, 0.09090909091, 0.1818181818, 0.09090909091, 0.09090909091, 0.09090909091, 0.1818181818, 0.09090909091, 0.09090909091, 0.09090909091, 0.1818181818, 0.09090909091], 'D13-1': [1.0, 1.636363636, 0.75, 1.227272727, 0.75, 1.227272727, 1.0, 1.636363636, 1.0, 1.636363636, 0.5, 0.8181818182, 0.5, 0.8181818182, 0.5, 0.8181818182, 0.5, 0.8181818182, 0.5, 0.8181818182], 'D13-2': [], 'D13-3': [], 'D13-4': [], 'D15-1': [0.4545454545, 0.4545454545, 0.4545454545, 0.3409090909, 0.3409090909, 0.3409090909, 0.3409090909, 0.3409090909, 0.3409090909, 0.4545454545, 0.4545454545, 0.4545454545, 0.4545454545, 0.4545454545, 0.4545454545, 0.2272727273, 0.2272727273, 0.2272727273, 0.2272727273, 0.2272727273, 0.2272727273, 0.2272727273, 0.2272727273, 0.2272727273, 0.2272727273, 0.2272727273, 0.2272727273, 0.2272727273, 0.2272727273, 0.2272727273], 'D15-2': [], 'D15-3': [], 'D17-1': [0.4545454545, 0.4545454545, 0.3409090909, 0.3409090909, 0.3409090909, 0.3409090909, 0.4545454545, 0.4545454545, 0.4545454545, 0.4545454545, 0.2272727273, 0.2272727273, 0.2272727273, 0.2272727273, 0.2272727273, 0.2272727273, 0.2272727273, 0.2272727273, 0.2272727273, 0.2272727273], 'D17-2': [], 'D27-1': [1.0, 0.75, 0.75, 1.0, 1.0, 0.5, 0.5, 0.5, 0.5, 0.5], 'D27-2': [], 'D27-3': [], 'D31-1': [0.5454545455, 0.8181818182, 0.5454545455, 0.8181818182, 0.5454545455, 0.8181818182, 0.5454545455, 0.8181818182, 0.5454545455, 0.8181818182, 0.5454545455, 0.8181818182, 0.5454545455, 0.8181818182, 0.5454545455, 0.8181818182, 0.5454545455, 0.8181818182, 0.5454545455, 0.8181818182], 'D31-2': [], 'D31-3': [], 'D32-1': [0.4545454545, 0.5454545455, 0.4545454545, 0.5454545455, 0.4545454545, 0.5454545455, 0.4545454545, 0.5454545455, 0.4545454545, 0.5454545455, 0.4545454545, 0.5454545455, 0.4545454545, 0.5454545455, 0.4545454545, 0.5454545455, 0.4545454545, 0.5454545455, 0.4545454545, 0.5454545455], 'D32-2': [], 'D32-3': [], 'D33-1': [0.09090909091, 0.09090909091, 0.09090909091, 0.09090909091, 0.09090909091, 0.09090909091, 0.09090909091, 0.09090909091, 0.09090909091, 0.09090909091, 0.09090909091, 0.09090909091, 0.09090909091, 0.09090909091, 0.09090909091, 0.09090909091, 0.09090909091, 0.09090909091, 0.09090909091, 0.09090909091, 0.09090909091, 0.09090909091, 0.09090909091, 0.09090909091, 0.09090909091, 0.09090909091, 0.09090909091, 0.09090909091, 0.09090909091, 0.09090909091], 'D33-2': [], 'D41-1': [0.2727272727, 0.2727272727, 0.2727272727, 0.2727272727, 0.2727272727, 0.2727272727, 0.2727272727, 0.2727272727, 0.2727272727, 0.2727272727], 'D41-2': [], 'D43': [0.09090909091, 0.06818181818, 0.06818181818, 0.09090909091, 0.09090909091, 0.04545454545, 0.04545454545, 0.04545454545, 0.04545454545, 0.04545454545], 'D44': [0.09090909091, 0.4545454545, 0.06818181818, 0.3409090909, 0.06818181818, 0.3409090909, 0.09090909091, 0.4545454545, 0.09090909091, 0.4545454545, 0.04545454545, 0.2272727273, 0.04545454545, 0.2272727273, 0.04545454545, 0.2272727273, 0.04545454545, 0.2272727273, 0.04545454545, 0.2272727273], 'D47': [0.4545454545, 0.4545454545, 0.4545454545, 0.4545454545, 0.4545454545, 0.4545454545, 0.4545454545, 0.4545454545, 0.4545454545, 0.4545454545, 0.4545454545, 0.4545454545, 0.4545454545, 0.4545454545, 0.4545454545, 0.4545454545, 0.4545454545, 0.4545454545, 0.4545454545, 0.4545454545], 'D65-1': [0.4545454545, 0.4545454545, 0.4545454545, 0.4545454545, 0.4545454545, 0.4545454545, 0.4545454545, 0.4545454545, 0.4545454545, 0.4545454545], 'D65-2': [], 'D69': [2.0, 1.5, 1.5, 2.0, 2.0, 1.0, 1.0, 1.0, 1.0, 1.0], 'Nital Etche, Hydrojen Embr.': [1.272727273, 1.272727273, 1.272727273, 1.272727273, 1.272727273, 1.272727273, 1.272727273, 1.272727273, 1.272727273, 1.272727273]}\n",
            "setups: {'662': [0.0, 0.0, 0.0, 0.0, 0.0, 0.0, 0.0, 0.0, 0.0, 0.0, 0.0, 0.0, 0.0, 0.0, 0.0, 0.0, 0.0, 0.0, 0.0, 0.0], 'D11-1': [5.5, 5.5, 4.125, 4.125, 4.125, 4.125, 5.5, 5.5, 5.5, 5.5, 2.75, 2.75, 2.75, 2.75, 2.75, 2.75, 2.75, 2.75, 2.75, 2.75], 'D11-2': [], 'D12': [0.0, 0.0, 0.0, 0.0, 0.0, 0.0, 0.0, 0.0, 0.0, 0.0, 0.0, 0.0, 0.0, 0.0, 0.0, 0.0, 0.0, 0.0, 0.0, 0.0, 0.0, 0.0, 0.0, 0.0, 0.0, 0.0, 0.0, 0.0, 0.0, 0.0, 0.0, 0.0, 0.0, 0.0, 0.0, 0.0, 0.0, 0.0, 0.0, 0.0], 'D13-1': [0.0, 0.0, 0.0, 0.0, 0.0, 0.0, 0.0, 0.0, 0.0, 0.0, 0.0, 0.0, 0.0, 0.0, 0.0, 0.0, 0.0, 0.0, 0.0, 0.0], 'D13-2': [], 'D13-3': [], 'D13-4': [], 'D15-1': [0.75, 0.75, 0.75, 0.5625, 0.5625, 0.5625, 0.5625, 0.5625, 0.5625, 0.75, 0.75, 0.75, 0.75, 0.75, 0.75, 0.375, 0.375, 0.375, 0.375, 0.375, 0.375, 0.375, 0.375, 0.375, 0.375, 0.375, 0.375, 0.375, 0.375, 0.375], 'D15-2': [], 'D15-3': [], 'D17-1': [0.75, 0.75, 0.5625, 0.5625, 0.5625, 0.5625, 0.75, 0.75, 0.75, 0.75, 0.375, 0.375, 0.375, 0.375, 0.375, 0.375, 0.375, 0.375, 0.375, 0.375], 'D17-2': [], 'D27-1': [2.2, 1.65, 1.65, 2.2, 2.2, 1.1, 1.1, 1.1, 1.1, 1.1], 'D27-2': [], 'D27-3': [], 'D31-1': [0.0, 0.0, 0.0, 0.0, 0.0, 0.0, 0.0, 0.0, 0.0, 0.0, 0.0, 0.0, 0.0, 0.0, 0.0, 0.0, 0.0, 0.0, 0.0, 0.0], 'D31-2': [], 'D31-3': [], 'D32-1': [0.0, 0.0, 0.0, 0.0, 0.0, 0.0, 0.0, 0.0, 0.0, 0.0, 0.0, 0.0, 0.0, 0.0, 0.0, 0.0, 0.0, 0.0, 0.0, 0.0], 'D32-2': [], 'D32-3': [], 'D33-1': [0.0, 0.0, 0.0, 0.0, 0.0, 0.0, 0.0, 0.0, 0.0, 0.0, 0.0, 0.0, 0.0, 0.0, 0.0, 0.0, 0.0, 0.0, 0.0, 0.0, 0.0, 0.0, 0.0, 0.0, 0.0, 0.0, 0.0, 0.0, 0.0, 0.0], 'D33-2': [], 'D41-1': [0.0, 0.0, 0.0, 0.0, 0.0, 0.0, 0.0, 0.0, 0.0, 0.0], 'D41-2': [], 'D43': [0.0, 0.0, 0.0, 0.0, 0.0, 0.0, 0.0, 0.0, 0.0, 0.0], 'D44': [0.0, 0.0, 0.0, 0.0, 0.0, 0.0, 0.0, 0.0, 0.0, 0.0, 0.0, 0.0, 0.0, 0.0, 0.0, 0.0, 0.0, 0.0, 0.0, 0.0], 'D47': [0.0, 0.0, 0.0, 0.0, 0.0, 0.0, 0.0, 0.0, 0.0, 0.0, 0.0, 0.0, 0.0, 0.0, 0.0, 0.0, 0.0, 0.0, 0.0, 0.0], 'D65-1': [0.0, 0.0, 0.0, 0.0, 0.0, 0.0, 0.0, 0.0, 0.0, 0.0], 'D65-2': [], 'D69': [0.0, 0.0, 0.0, 0.0, 0.0, 0.0, 0.0, 0.0, 0.0, 0.0], 'Nital Etche, Hydrojen Embr.': [0.0, 0.0, 0.0, 0.0, 0.0, 0.0, 0.0, 0.0, 0.0, 0.0]}\n",
            "total: {'662': [0.4545454545, 1.0, 0.3409090909, 0.75, 0.3409090909, 0.75, 0.4545454545, 1.0, 0.4545454545, 1.0, 0.2272727273, 0.5, 0.2272727273, 0.5, 0.2272727273, 0.5, 0.2272727273, 0.5, 0.2272727273, 0.5], 'D11-1': [7.5, 7.5, 5.625, 5.625, 5.625, 5.625, 7.5, 7.5, 7.5, 7.5, 3.75, 3.75, 3.75, 3.75, 3.75, 3.75, 3.75, 3.75, 3.75, 3.75], 'D11-2': [], 'D12': [0.1818181818, 0.1818181818, 0.1818181818, 0.1818181818, 0.1363636364, 0.1363636364, 0.1363636364, 0.1363636364, 0.1363636364, 0.1363636364, 0.1363636364, 0.1363636364, 0.1818181818, 0.1818181818, 0.1818181818, 0.1818181818, 0.1818181818, 0.1818181818, 0.1818181818, 0.1818181818, 0.09090909091, 0.09090909091, 0.1818181818, 0.09090909091, 0.09090909091, 0.09090909091, 0.1818181818, 0.09090909091, 0.09090909091, 0.09090909091, 0.1818181818, 0.09090909091, 0.09090909091, 0.09090909091, 0.1818181818, 0.09090909091, 0.09090909091, 0.09090909091, 0.1818181818, 0.09090909091], 'D13-1': [1.0, 1.636363636, 0.75, 1.227272727, 0.75, 1.227272727, 1.0, 1.636363636, 1.0, 1.636363636, 0.5, 0.8181818182, 0.5, 0.8181818182, 0.5, 0.8181818182, 0.5, 0.8181818182, 0.5, 0.8181818182], 'D13-2': [], 'D13-3': [], 'D13-4': [], 'D15-1': [1.2045454545, 1.2045454545, 1.2045454545, 0.9034090909, 0.9034090909, 0.9034090909, 0.9034090909, 0.9034090909, 0.9034090909, 1.2045454545, 1.2045454545, 1.2045454545, 1.2045454545, 1.2045454545, 1.2045454545, 0.6022727273, 0.6022727273, 0.6022727273, 0.6022727273, 0.6022727273, 0.6022727273, 0.6022727273, 0.6022727273, 0.6022727273, 0.6022727273, 0.6022727273, 0.6022727273, 0.6022727273, 0.6022727273, 0.6022727273], 'D15-2': [], 'D15-3': [], 'D17-1': [1.2045454545, 1.2045454545, 0.9034090909, 0.9034090909, 0.9034090909, 0.9034090909, 1.2045454545, 1.2045454545, 1.2045454545, 1.2045454545, 0.6022727273, 0.6022727273, 0.6022727273, 0.6022727273, 0.6022727273, 0.6022727273, 0.6022727273, 0.6022727273, 0.6022727273, 0.6022727273], 'D17-2': [], 'D27-1': [3.2, 2.4, 2.4, 3.2, 3.2, 1.6, 1.6, 1.6, 1.6, 1.6], 'D27-2': [], 'D27-3': [], 'D31-1': [0.5454545455, 0.8181818182, 0.5454545455, 0.8181818182, 0.5454545455, 0.8181818182, 0.5454545455, 0.8181818182, 0.5454545455, 0.8181818182, 0.5454545455, 0.8181818182, 0.5454545455, 0.8181818182, 0.5454545455, 0.8181818182, 0.5454545455, 0.8181818182, 0.5454545455, 0.8181818182], 'D31-2': [], 'D31-3': [], 'D32-1': [0.4545454545, 0.5454545455, 0.4545454545, 0.5454545455, 0.4545454545, 0.5454545455, 0.4545454545, 0.5454545455, 0.4545454545, 0.5454545455, 0.4545454545, 0.5454545455, 0.4545454545, 0.5454545455, 0.4545454545, 0.5454545455, 0.4545454545, 0.5454545455, 0.4545454545, 0.5454545455], 'D32-2': [], 'D32-3': [], 'D33-1': [0.09090909091, 0.09090909091, 0.09090909091, 0.09090909091, 0.09090909091, 0.09090909091, 0.09090909091, 0.09090909091, 0.09090909091, 0.09090909091, 0.09090909091, 0.09090909091, 0.09090909091, 0.09090909091, 0.09090909091, 0.09090909091, 0.09090909091, 0.09090909091, 0.09090909091, 0.09090909091, 0.09090909091, 0.09090909091, 0.09090909091, 0.09090909091, 0.09090909091, 0.09090909091, 0.09090909091, 0.09090909091, 0.09090909091, 0.09090909091], 'D33-2': [], 'D41-1': [0.2727272727, 0.2727272727, 0.2727272727, 0.2727272727, 0.2727272727, 0.2727272727, 0.2727272727, 0.2727272727, 0.2727272727, 0.2727272727], 'D41-2': [], 'D43': [0.09090909091, 0.06818181818, 0.06818181818, 0.09090909091, 0.09090909091, 0.04545454545, 0.04545454545, 0.04545454545, 0.04545454545, 0.04545454545], 'D44': [0.09090909091, 0.4545454545, 0.06818181818, 0.3409090909, 0.06818181818, 0.3409090909, 0.09090909091, 0.4545454545, 0.09090909091, 0.4545454545, 0.04545454545, 0.2272727273, 0.04545454545, 0.2272727273, 0.04545454545, 0.2272727273, 0.04545454545, 0.2272727273, 0.04545454545, 0.2272727273], 'D47': [0.4545454545, 0.4545454545, 0.4545454545, 0.4545454545, 0.4545454545, 0.4545454545, 0.4545454545, 0.4545454545, 0.4545454545, 0.4545454545, 0.4545454545, 0.4545454545, 0.4545454545, 0.4545454545, 0.4545454545, 0.4545454545, 0.4545454545, 0.4545454545, 0.4545454545, 0.4545454545], 'D65-1': [0.4545454545, 0.4545454545, 0.4545454545, 0.4545454545, 0.4545454545, 0.4545454545, 0.4545454545, 0.4545454545, 0.4545454545, 0.4545454545], 'D65-2': [], 'D69': [2.0, 1.5, 1.5, 2.0, 2.0, 1.0, 1.0, 1.0, 1.0, 1.0], 'Nital Etche, Hydrojen Embr.': [1.272727273, 1.272727273, 1.272727273, 1.272727273, 1.272727273, 1.272727273, 1.272727273, 1.272727273, 1.272727273, 1.272727273]}\n"
          ]
        }
      ]
    },
    {
      "cell_type": "code",
      "source": [
        "# for ease\n",
        "print(all_machines)\n",
        "print(all_machines[\"662\"][0])"
      ],
      "metadata": {
        "colab": {
          "base_uri": "https://localhost:8080/"
        },
        "id": "qJnZo13RB3Hp",
        "outputId": "aa4082d0-8e35-4243-8c86-f4d0c18952d4"
      },
      "execution_count": 18,
      "outputs": [
        {
          "output_type": "stream",
          "name": "stdout",
          "text": [
            "{'662': [26, 32, 58, 64, 90, 96, 122, 128, 154, 160, 186, 192, 218, 224, 250, 256, 282, 288, 314, 320], 'D11-1': [11, 23, 43, 55, 75, 87, 107, 119, 139, 151, 171, 183, 203, 215, 235, 247, 267, 279, 299, 311], 'D11-2': [], 'D12': [13, 24, 28, 31, 45, 56, 60, 63, 77, 88, 92, 95, 109, 120, 124, 127, 141, 152, 156, 159, 173, 184, 188, 191, 205, 216, 220, 223, 237, 248, 252, 255, 269, 280, 284, 287, 301, 312, 316, 319], 'D13-1': [1, 7, 33, 39, 65, 71, 97, 103, 129, 135, 161, 167, 193, 199, 225, 231, 257, 263, 289, 295], 'D13-2': [], 'D13-3': [], 'D13-4': [], 'D15-1': [14, 20, 25, 46, 52, 57, 78, 84, 89, 110, 116, 121, 142, 148, 153, 174, 180, 185, 206, 212, 217, 238, 244, 249, 270, 276, 281, 302, 308, 313], 'D15-2': [], 'D15-3': [], 'D17-1': [10, 22, 42, 54, 74, 86, 106, 118, 138, 150, 170, 182, 202, 214, 234, 246, 266, 278, 298, 310], 'D17-2': [], 'D27-1': [21, 53, 85, 117, 149, 181, 213, 245, 277, 309], 'D27-2': [], 'D27-3': [], 'D31-1': [3, 15, 35, 47, 67, 79, 99, 111, 131, 143, 163, 175, 195, 207, 227, 239, 259, 271, 291, 303], 'D31-2': [], 'D31-3': [], 'D32-1': [5, 18, 37, 50, 69, 82, 101, 114, 133, 146, 165, 178, 197, 210, 229, 242, 261, 274, 293, 306], 'D32-2': [], 'D32-3': [], 'D33-1': [2, 4, 16, 34, 36, 48, 66, 68, 80, 98, 100, 112, 130, 132, 144, 162, 164, 176, 194, 196, 208, 226, 228, 240, 258, 260, 272, 290, 292, 304], 'D33-2': [], 'D41-1': [17, 49, 81, 113, 145, 177, 209, 241, 273, 305], 'D41-2': [], 'D43': [9, 41, 73, 105, 137, 169, 201, 233, 265, 297], 'D44': [8, 12, 40, 44, 72, 76, 104, 108, 136, 140, 168, 172, 200, 204, 232, 236, 264, 268, 296, 300], 'D47': [6, 19, 38, 51, 70, 83, 102, 115, 134, 147, 166, 179, 198, 211, 230, 243, 262, 275, 294, 307], 'D65-1': [30, 62, 94, 126, 158, 190, 222, 254, 286, 318], 'D65-2': [], 'D69': [29, 61, 93, 125, 157, 189, 221, 253, 285, 317], 'Nital Etche, Hydrojen Embr.': [27, 59, 91, 123, 155, 187, 219, 251, 283, 315]}\n",
            "26\n"
          ]
        }
      ]
    },
    {
      "cell_type": "code",
      "source": [
        "# function to write the start & finishing times for each process\n",
        "def write_start_finish(m_time):\n",
        "  m_S_time = copy.deepcopy(t_time)\n",
        "  m_F_time = copy.deepcopy(t_time)\n",
        "  for m in m_time:                    # each machine's list\n",
        "    for i in range(len(m_time[m])):   # 0 to length of each machine (each process in a machine)\n",
        "      for j in range(len(t_times)):    # 0 to 319 (every single process)\n",
        "        if m_time[m][i] == j+1:       # if process in m_time = a process\n",
        "          if i == 0:\n",
        "            m_S_time[m][i] = 0            ### start first process at 0 for now\n",
        "            m_F_time[m][i] = t_time[m][i]\n",
        "          else:\n",
        "            m_S_time[m][i] = m_S_time[m][i-1] + t_time[m][i-1]  # or m_F_time[m][i-1]\n",
        "            m_F_time[m][i] = m_S_time[m][i] + t_time[m][i]\n",
        "  return m_S_time, m_F_time\n",
        "\n",
        "S_time, F_time = write_start_finish(all_machines)\n",
        "print(\"t_time \",t_time)\n",
        "print(\"start  \",S_time)\n",
        "print(\"finish \",F_time)"
      ],
      "metadata": {
        "colab": {
          "base_uri": "https://localhost:8080/"
        },
        "id": "usuAP2ci_YS9",
        "outputId": "fdb051d4-562d-4c3b-c215-f7b5756a806e"
      },
      "execution_count": 22,
      "outputs": [
        {
          "output_type": "stream",
          "name": "stdout",
          "text": [
            "t_time  {'662': [0.4545454545, 1.0, 0.3409090909, 0.75, 0.3409090909, 0.75, 0.4545454545, 1.0, 0.4545454545, 1.0, 0.2272727273, 0.5, 0.2272727273, 0.5, 0.2272727273, 0.5, 0.2272727273, 0.5, 0.2272727273, 0.5], 'D11-1': [7.5, 7.5, 5.625, 5.625, 5.625, 5.625, 7.5, 7.5, 7.5, 7.5, 3.75, 3.75, 3.75, 3.75, 3.75, 3.75, 3.75, 3.75, 3.75, 3.75], 'D11-2': [], 'D12': [0.1818181818, 0.1818181818, 0.1818181818, 0.1818181818, 0.1363636364, 0.1363636364, 0.1363636364, 0.1363636364, 0.1363636364, 0.1363636364, 0.1363636364, 0.1363636364, 0.1818181818, 0.1818181818, 0.1818181818, 0.1818181818, 0.1818181818, 0.1818181818, 0.1818181818, 0.1818181818, 0.09090909091, 0.09090909091, 0.1818181818, 0.09090909091, 0.09090909091, 0.09090909091, 0.1818181818, 0.09090909091, 0.09090909091, 0.09090909091, 0.1818181818, 0.09090909091, 0.09090909091, 0.09090909091, 0.1818181818, 0.09090909091, 0.09090909091, 0.09090909091, 0.1818181818, 0.09090909091], 'D13-1': [1.0, 1.636363636, 0.75, 1.227272727, 0.75, 1.227272727, 1.0, 1.636363636, 1.0, 1.636363636, 0.5, 0.8181818182, 0.5, 0.8181818182, 0.5, 0.8181818182, 0.5, 0.8181818182, 0.5, 0.8181818182], 'D13-2': [], 'D13-3': [], 'D13-4': [], 'D15-1': [1.2045454545, 1.2045454545, 1.2045454545, 0.9034090909, 0.9034090909, 0.9034090909, 0.9034090909, 0.9034090909, 0.9034090909, 1.2045454545, 1.2045454545, 1.2045454545, 1.2045454545, 1.2045454545, 1.2045454545, 0.6022727273, 0.6022727273, 0.6022727273, 0.6022727273, 0.6022727273, 0.6022727273, 0.6022727273, 0.6022727273, 0.6022727273, 0.6022727273, 0.6022727273, 0.6022727273, 0.6022727273, 0.6022727273, 0.6022727273], 'D15-2': [], 'D15-3': [], 'D17-1': [1.2045454545, 1.2045454545, 0.9034090909, 0.9034090909, 0.9034090909, 0.9034090909, 1.2045454545, 1.2045454545, 1.2045454545, 1.2045454545, 0.6022727273, 0.6022727273, 0.6022727273, 0.6022727273, 0.6022727273, 0.6022727273, 0.6022727273, 0.6022727273, 0.6022727273, 0.6022727273], 'D17-2': [], 'D27-1': [3.2, 2.4, 2.4, 3.2, 3.2, 1.6, 1.6, 1.6, 1.6, 1.6], 'D27-2': [], 'D27-3': [], 'D31-1': [0.5454545455, 0.8181818182, 0.5454545455, 0.8181818182, 0.5454545455, 0.8181818182, 0.5454545455, 0.8181818182, 0.5454545455, 0.8181818182, 0.5454545455, 0.8181818182, 0.5454545455, 0.8181818182, 0.5454545455, 0.8181818182, 0.5454545455, 0.8181818182, 0.5454545455, 0.8181818182], 'D31-2': [], 'D31-3': [], 'D32-1': [0.4545454545, 0.5454545455, 0.4545454545, 0.5454545455, 0.4545454545, 0.5454545455, 0.4545454545, 0.5454545455, 0.4545454545, 0.5454545455, 0.4545454545, 0.5454545455, 0.4545454545, 0.5454545455, 0.4545454545, 0.5454545455, 0.4545454545, 0.5454545455, 0.4545454545, 0.5454545455], 'D32-2': [], 'D32-3': [], 'D33-1': [0.09090909091, 0.09090909091, 0.09090909091, 0.09090909091, 0.09090909091, 0.09090909091, 0.09090909091, 0.09090909091, 0.09090909091, 0.09090909091, 0.09090909091, 0.09090909091, 0.09090909091, 0.09090909091, 0.09090909091, 0.09090909091, 0.09090909091, 0.09090909091, 0.09090909091, 0.09090909091, 0.09090909091, 0.09090909091, 0.09090909091, 0.09090909091, 0.09090909091, 0.09090909091, 0.09090909091, 0.09090909091, 0.09090909091, 0.09090909091], 'D33-2': [], 'D41-1': [0.2727272727, 0.2727272727, 0.2727272727, 0.2727272727, 0.2727272727, 0.2727272727, 0.2727272727, 0.2727272727, 0.2727272727, 0.2727272727], 'D41-2': [], 'D43': [0.09090909091, 0.06818181818, 0.06818181818, 0.09090909091, 0.09090909091, 0.04545454545, 0.04545454545, 0.04545454545, 0.04545454545, 0.04545454545], 'D44': [0.09090909091, 0.4545454545, 0.06818181818, 0.3409090909, 0.06818181818, 0.3409090909, 0.09090909091, 0.4545454545, 0.09090909091, 0.4545454545, 0.04545454545, 0.2272727273, 0.04545454545, 0.2272727273, 0.04545454545, 0.2272727273, 0.04545454545, 0.2272727273, 0.04545454545, 0.2272727273], 'D47': [0.4545454545, 0.4545454545, 0.4545454545, 0.4545454545, 0.4545454545, 0.4545454545, 0.4545454545, 0.4545454545, 0.4545454545, 0.4545454545, 0.4545454545, 0.4545454545, 0.4545454545, 0.4545454545, 0.4545454545, 0.4545454545, 0.4545454545, 0.4545454545, 0.4545454545, 0.4545454545], 'D65-1': [0.4545454545, 0.4545454545, 0.4545454545, 0.4545454545, 0.4545454545, 0.4545454545, 0.4545454545, 0.4545454545, 0.4545454545, 0.4545454545], 'D65-2': [], 'D69': [2.0, 1.5, 1.5, 2.0, 2.0, 1.0, 1.0, 1.0, 1.0, 1.0], 'Nital Etche, Hydrojen Embr.': [1.272727273, 1.272727273, 1.272727273, 1.272727273, 1.272727273, 1.272727273, 1.272727273, 1.272727273, 1.272727273, 1.272727273]}\n",
            "start   {'662': [0, 0.4545454545, 1.4545454545, 1.7954545454000002, 2.5454545454, 2.8863636363, 3.6363636363, 4.0909090908, 5.0909090908, 5.5454545453, 6.5454545453, 6.7727272726, 7.2727272726, 7.4999999999, 7.9999999999, 8.2272727272, 8.7272727272, 8.954545454500002, 9.454545454500002, 9.681818181800002], 'D11-1': [0, 7.5, 15.0, 20.625, 26.25, 31.875, 37.5, 45.0, 52.5, 60.0, 67.5, 71.25, 75.0, 78.75, 82.5, 86.25, 90.0, 93.75, 97.5, 101.25], 'D11-2': [], 'D12': [0, 0.1818181818, 0.3636363636, 0.5454545454, 0.7272727272, 0.8636363636, 1.0, 1.1363636364, 1.2727272728, 1.4090909092000001, 1.5454545456000002, 1.6818181820000002, 1.8181818184000003, 2.0000000002000005, 2.1818181820000007, 2.363636363800001, 2.545454545600001, 2.7272727274000013, 2.9090909092000015, 3.0909090910000017, 3.272727272800002, 3.3636363637100017, 3.4545454546200016, 3.636363636420002, 3.7272727273300017, 3.8181818182400016, 3.9090909091500015, 4.090909090950001, 4.1818181818600015, 4.272727272770002, 4.363636363680002, 4.545454545480002, 4.636363636390002, 4.727272727300003, 4.818181818210003, 5.000000000010003, 5.090909090920003, 5.181818181830003, 5.272727272740004, 5.454545454540003], 'D13-1': [0, 1.0, 2.636363636, 3.386363636, 4.6136363629999995, 5.3636363629999995, 6.590909089999999, 7.590909089999999, 9.227272725999999, 10.227272725999999, 11.863636362, 12.363636362, 13.181818180199999, 13.681818180199999, 14.499999998399998, 14.999999998399998, 15.818181816599997, 16.318181816599996, 17.136363634799995, 17.636363634799995], 'D13-2': [], 'D13-3': [], 'D13-4': [], 'D15-1': [0, 1.2045454545, 2.409090909, 3.6136363635000004, 4.517045454400001, 5.420454545300001, 6.323863636200001, 7.227272727100002, 8.130681818000001, 9.034090908900001, 10.238636363400001, 11.443181817900001, 12.647727272400001, 13.8522727269, 15.0568181814, 16.2613636359, 16.8636363632, 17.465909090500002, 18.068181817800003, 18.670454545100004, 19.272727272400004, 19.874999999700005, 20.477272727000006, 21.079545454300007, 21.681818181600008, 22.28409090890001, 22.88636363620001, 23.48863636350001, 24.09090909080001, 24.693181818100012], 'D15-2': [], 'D15-3': [], 'D17-1': [0, 1.2045454545, 2.409090909, 3.3124999999, 4.2159090908, 5.119318181700001, 6.022727272600001, 7.227272727100001, 8.4318181816, 9.6363636361, 10.8409090906, 11.443181817900001, 12.045454545200002, 12.647727272500003, 13.249999999800004, 13.852272727100004, 14.454545454400005, 15.056818181700006, 15.659090909000007, 16.261363636300008], 'D17-2': [], 'D27-1': [0, 3.2, 5.6, 8.0, 11.2, 14.399999999999999, 15.999999999999998, 17.599999999999998, 19.2, 20.8], 'D27-2': [], 'D27-3': [], 'D31-1': [0, 0.5454545455, 1.3636363637, 1.9090909092000001, 2.7272727274, 3.2727272729, 4.0909090911, 4.6363636366000005, 5.454545454800001, 6.000000000300001, 6.818181818500001, 7.363636364000001, 8.1818181822, 8.7272727277, 9.5454545459, 10.0909090914, 10.9090909096, 11.4545454551, 12.2727272733, 12.8181818188], 'D31-2': [], 'D31-3': [], 'D32-1': [0, 0.4545454545, 1.0, 1.4545454545, 2.0, 2.4545454545, 3.0, 3.4545454545, 4.0, 4.4545454545, 5.0, 5.4545454545, 6.0, 6.4545454545, 7.0, 7.4545454545, 8.0, 8.4545454545, 9.0, 9.4545454545], 'D32-2': [], 'D32-3': [], 'D33-1': [0, 0.09090909091, 0.18181818182, 0.27272727273, 0.36363636364, 0.45454545455, 0.54545454546, 0.63636363637, 0.72727272728, 0.81818181819, 0.9090909091, 1.00000000001, 1.09090909092, 1.1818181818300002, 1.2727272727400003, 1.3636363636500004, 1.4545454545600005, 1.5454545454700006, 1.6363636363800007, 1.7272727272900008, 1.818181818200001, 1.909090909110001, 2.000000000020001, 2.0909090909300008, 2.1818181818400006, 2.2727272727500005, 2.3636363636600004, 2.4545454545700003, 2.54545454548, 2.63636363639], 'D33-2': [], 'D41-1': [0, 0.2727272727, 0.5454545454, 0.8181818181, 1.0909090908, 1.3636363635000002, 1.6363636362000002, 1.9090909089000003, 2.1818181816, 2.4545454543000003], 'D41-2': [], 'D43': [0, 0.09090909091, 0.15909090909, 0.22727272727000003, 0.31818181818, 0.40909090909, 0.45454545454, 0.49999999999, 0.54545454544, 0.5909090908900001], 'D44': [0, 0.09090909091, 0.54545454541, 0.6136363635900001, 0.9545454544900001, 1.02272727267, 1.36363636357, 1.45454545448, 1.9090909089800001, 1.9999999998900002, 2.4545454543900003, 2.4999999998400004, 2.7272727271400004, 2.7727272725900005, 2.9999999998900004, 3.0454545453400006, 3.2727272726400005, 3.3181818180900007, 3.5454545453900006, 3.5909090908400008], 'D47': [0, 0.4545454545, 0.909090909, 1.3636363635, 1.818181818, 2.2727272725, 2.727272727, 3.1818181814999997, 3.6363636359999996, 4.090909090499999, 4.545454544999999, 4.999999999499999, 5.454545453999999, 5.909090908499999, 6.363636362999999, 6.818181817499998, 7.272727271999998, 7.727272726499998, 8.181818180999999, 8.636363635499999], 'D65-1': [0, 0.4545454545, 0.909090909, 1.3636363635, 1.818181818, 2.2727272725, 2.727272727, 3.1818181814999997, 3.6363636359999996, 4.090909090499999], 'D65-2': [], 'D69': [0, 2.0, 3.5, 5.0, 7.0, 9.0, 10.0, 11.0, 12.0, 13.0], 'Nital Etche, Hydrojen Embr.': [0, 1.272727273, 2.545454546, 3.8181818190000003, 5.090909092, 6.3636363650000005, 7.636363638000001, 8.909090911, 10.181818184, 11.454545457000002]}\n",
            "finish  {'662': [0.4545454545, 1.4545454545, 1.7954545454000002, 2.5454545454, 2.8863636363, 3.6363636363, 4.0909090908, 5.0909090908, 5.5454545453, 6.5454545453, 6.7727272726, 7.2727272726, 7.4999999999, 7.9999999999, 8.2272727272, 8.7272727272, 8.954545454500002, 9.454545454500002, 9.681818181800002, 10.181818181800002], 'D11-1': [7.5, 15.0, 20.625, 26.25, 31.875, 37.5, 45.0, 52.5, 60.0, 67.5, 71.25, 75.0, 78.75, 82.5, 86.25, 90.0, 93.75, 97.5, 101.25, 105.0], 'D11-2': [], 'D12': [0.1818181818, 0.3636363636, 0.5454545454, 0.7272727272, 0.8636363636, 1.0, 1.1363636364, 1.2727272728, 1.4090909092000001, 1.5454545456000002, 1.6818181820000002, 1.8181818184000003, 2.0000000002000005, 2.1818181820000007, 2.363636363800001, 2.545454545600001, 2.7272727274000013, 2.9090909092000015, 3.0909090910000017, 3.272727272800002, 3.3636363637100017, 3.4545454546200016, 3.636363636420002, 3.7272727273300017, 3.8181818182400016, 3.9090909091500015, 4.090909090950001, 4.1818181818600015, 4.272727272770002, 4.363636363680002, 4.545454545480002, 4.636363636390002, 4.727272727300003, 4.818181818210003, 5.000000000010003, 5.090909090920003, 5.181818181830003, 5.272727272740004, 5.454545454540003, 5.545454545450004], 'D13-1': [1.0, 2.636363636, 3.386363636, 4.6136363629999995, 5.3636363629999995, 6.590909089999999, 7.590909089999999, 9.227272725999999, 10.227272725999999, 11.863636362, 12.363636362, 13.181818180199999, 13.681818180199999, 14.499999998399998, 14.999999998399998, 15.818181816599997, 16.318181816599996, 17.136363634799995, 17.636363634799995, 18.454545452999994], 'D13-2': [], 'D13-3': [], 'D13-4': [], 'D15-1': [1.2045454545, 2.409090909, 3.6136363635000004, 4.517045454400001, 5.420454545300001, 6.323863636200001, 7.227272727100002, 8.130681818000001, 9.034090908900001, 10.238636363400001, 11.443181817900001, 12.647727272400001, 13.8522727269, 15.0568181814, 16.2613636359, 16.8636363632, 17.465909090500002, 18.068181817800003, 18.670454545100004, 19.272727272400004, 19.874999999700005, 20.477272727000006, 21.079545454300007, 21.681818181600008, 22.28409090890001, 22.88636363620001, 23.48863636350001, 24.09090909080001, 24.693181818100012, 25.295454545400013], 'D15-2': [], 'D15-3': [], 'D17-1': [1.2045454545, 2.409090909, 3.3124999999, 4.2159090908, 5.119318181700001, 6.022727272600001, 7.227272727100001, 8.4318181816, 9.6363636361, 10.8409090906, 11.443181817900001, 12.045454545200002, 12.647727272500003, 13.249999999800004, 13.852272727100004, 14.454545454400005, 15.056818181700006, 15.659090909000007, 16.261363636300008, 16.86363636360001], 'D17-2': [], 'D27-1': [3.2, 5.6, 8.0, 11.2, 14.399999999999999, 15.999999999999998, 17.599999999999998, 19.2, 20.8, 22.400000000000002], 'D27-2': [], 'D27-3': [], 'D31-1': [0.5454545455, 1.3636363637, 1.9090909092000001, 2.7272727274, 3.2727272729, 4.0909090911, 4.6363636366000005, 5.454545454800001, 6.000000000300001, 6.818181818500001, 7.363636364000001, 8.1818181822, 8.7272727277, 9.5454545459, 10.0909090914, 10.9090909096, 11.4545454551, 12.2727272733, 12.8181818188, 13.636363636999999], 'D31-2': [], 'D31-3': [], 'D32-1': [0.4545454545, 1.0, 1.4545454545, 2.0, 2.4545454545, 3.0, 3.4545454545, 4.0, 4.4545454545, 5.0, 5.4545454545, 6.0, 6.4545454545, 7.0, 7.4545454545, 8.0, 8.4545454545, 9.0, 9.4545454545, 10.0], 'D32-2': [], 'D32-3': [], 'D33-1': [0.09090909091, 0.18181818182, 0.27272727273, 0.36363636364, 0.45454545455, 0.54545454546, 0.63636363637, 0.72727272728, 0.81818181819, 0.9090909091, 1.00000000001, 1.09090909092, 1.1818181818300002, 1.2727272727400003, 1.3636363636500004, 1.4545454545600005, 1.5454545454700006, 1.6363636363800007, 1.7272727272900008, 1.818181818200001, 1.909090909110001, 2.000000000020001, 2.0909090909300008, 2.1818181818400006, 2.2727272727500005, 2.3636363636600004, 2.4545454545700003, 2.54545454548, 2.63636363639, 2.7272727273], 'D33-2': [], 'D41-1': [0.2727272727, 0.5454545454, 0.8181818181, 1.0909090908, 1.3636363635000002, 1.6363636362000002, 1.9090909089000003, 2.1818181816, 2.4545454543000003, 2.7272727270000003], 'D41-2': [], 'D43': [0.09090909091, 0.15909090909, 0.22727272727000003, 0.31818181818, 0.40909090909, 0.45454545454, 0.49999999999, 0.54545454544, 0.5909090908900001, 0.6363636363400001], 'D44': [0.09090909091, 0.54545454541, 0.6136363635900001, 0.9545454544900001, 1.02272727267, 1.36363636357, 1.45454545448, 1.9090909089800001, 1.9999999998900002, 2.4545454543900003, 2.4999999998400004, 2.7272727271400004, 2.7727272725900005, 2.9999999998900004, 3.0454545453400006, 3.2727272726400005, 3.3181818180900007, 3.5454545453900006, 3.5909090908400008, 3.8181818181400007], 'D47': [0.4545454545, 0.909090909, 1.3636363635, 1.818181818, 2.2727272725, 2.727272727, 3.1818181814999997, 3.6363636359999996, 4.090909090499999, 4.545454544999999, 4.999999999499999, 5.454545453999999, 5.909090908499999, 6.363636362999999, 6.818181817499998, 7.272727271999998, 7.727272726499998, 8.181818180999999, 8.636363635499999, 9.090909089999998], 'D65-1': [0.4545454545, 0.909090909, 1.3636363635, 1.818181818, 2.2727272725, 2.727272727, 3.1818181814999997, 3.6363636359999996, 4.090909090499999, 4.545454544999999], 'D65-2': [], 'D69': [2.0, 3.5, 5.0, 7.0, 9.0, 10.0, 11.0, 12.0, 13.0, 14.0], 'Nital Etche, Hydrojen Embr.': [1.272727273, 2.545454546, 3.8181818190000003, 5.090909092, 6.3636363650000005, 7.636363638000001, 8.909090911, 10.181818184, 11.454545457000002, 12.727272730000003]}\n"
          ]
        }
      ]
    },
    {
      "cell_type": "code",
      "source": [
        "sdf"
      ],
      "metadata": {
        "colab": {
          "base_uri": "https://localhost:8080/",
          "height": 165
        },
        "id": "CJH7vdU5T40L",
        "outputId": "42083682-f5d2-4c94-f83d-d60c4823f032"
      },
      "execution_count": 11,
      "outputs": [
        {
          "output_type": "error",
          "ename": "NameError",
          "evalue": "ignored",
          "traceback": [
            "\u001b[0;31m---------------------------------------------------------------------------\u001b[0m",
            "\u001b[0;31mNameError\u001b[0m                                 Traceback (most recent call last)",
            "\u001b[0;32m<ipython-input-11-a0571c5b9493>\u001b[0m in \u001b[0;36m<module>\u001b[0;34m()\u001b[0m\n\u001b[0;32m----> 1\u001b[0;31m \u001b[0msdf\u001b[0m\u001b[0;34m\u001b[0m\u001b[0;34m\u001b[0m\u001b[0m\n\u001b[0m",
            "\u001b[0;31mNameError\u001b[0m: name 'sdf' is not defined"
          ]
        }
      ]
    },
    {
      "cell_type": "markdown",
      "source": [
        "</br>      \n",
        "\n",
        "---\n",
        "   \n",
        "</br>      \n",
        "\n",
        "To do:\n",
        "  - add sth to the genes that represent idle times & then shuffle & adjust idle time length\n",
        "    - adjust the finish times accordinly\n",
        "  - check the processes in order across machines & give partial score when testing fitness\n",
        "    - cumulative times for each process in the chromosomes for fitness testing\n",
        "    - will need to check predecessors\n"
      ],
      "metadata": {
        "id": "DjWTYnE7-LS_"
      }
    },
    {
      "cell_type": "markdown",
      "source": [
        "## Others"
      ],
      "metadata": {
        "id": "yRxA9YWmMLJM"
      }
    },
    {
      "cell_type": "code",
      "source": [
        "a_list = np.unique(np.array(df[\"Piece\"]))\n",
        "num = df[\"Piece\"].nunique(a_list[0])\n",
        "u_num = [0]*num\n",
        "for i in range(9):\n",
        "  for item in df[\"Piece\"]:\n",
        "    if item == a_list[i]: \n",
        "      u_num[i] += 1\n",
        "  print(u_num[i],\"processes for piece\",a_list[i])"
      ],
      "metadata": {
        "id": "48Y3KvLHLgbs"
      },
      "execution_count": null,
      "outputs": []
    },
    {
      "cell_type": "code",
      "source": [
        "processes = []\n",
        "for i in range(num):\n",
        "  processes.append([])\n",
        "#print(processes)\n",
        "\n",
        "j = 0\n",
        "k = 0\n",
        "total = 0\n",
        "for i in range(len(u_num)):\n",
        "  total += u_num[i]\n",
        "  while j < total:\n",
        "    if j == total:\n",
        "      k += 1\n",
        "    #print(i,j,k,total,processes)\n",
        "    #print(processes[i])\n",
        "    processes[i].append(j+1)\n",
        "    j += 1\n",
        "  #print(total)\n",
        "\n",
        "for i in processes:\n",
        "  print(len(i),i)"
      ],
      "metadata": {
        "id": "weQyMGChBgny"
      },
      "execution_count": null,
      "outputs": []
    },
    {
      "cell_type": "code",
      "source": [
        ""
      ],
      "metadata": {
        "id": "pt2wfFKNMTEn"
      },
      "execution_count": null,
      "outputs": []
    },
    {
      "cell_type": "markdown",
      "source": [
        "### Beyza's part"
      ],
      "metadata": {
        "id": "-PLCrmMWLj_r"
      }
    },
    {
      "cell_type": "code",
      "source": [
        "\n",
        "Srt_time =0\n",
        "\n",
        "pr_times = list(df[\"Processing time\"])\n",
        "stp_times = list(df[\"Setup\"])\n",
        "a_list = np.unique(np.array(df[\"Piece\"]))\n",
        "num = df[\"Piece\"].nunique(a_list[0])\n",
        "print(a_list)\n",
        "#print(Start_time)\n",
        "\n",
        "processes = []\n",
        "for i in range(num):\n",
        "  processes.append([])\n",
        "#print(processes)\n",
        "\n",
        "j = 0\n",
        "k = 0\n",
        "total = 0\n",
        "for i in range(len(u_num)):\n",
        "  total += u_num[i]\n",
        "  while j < total:\n",
        "    if j == total:\n",
        "      k += 1\n",
        "    #print(i,j,k,total,processes)\n",
        "    #print(processes[i])\n",
        "    processes[i].append(j+1)\n",
        "    j += 1\n",
        "  #print(total)\n",
        "\n",
        "k =0\n",
        "Devam =0 # bunu denemek amaçlı koyuyom \n",
        "\n",
        "for i in processes:\n",
        "  for j in range(len(i)):\n",
        "    Devam += 1\n",
        "    #print(Devam)\n",
        "    Srt_time += pr_times[Devam]\n",
        "    print(\"Start schedule for the\" ,j,\".\",\"job\",Srt_time)\n"
      ],
      "metadata": {
        "id": "JrY0bKab7HBJ"
      },
      "execution_count": null,
      "outputs": []
    }
  ]
}
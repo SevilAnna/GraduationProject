{
  "nbformat": 4,
  "nbformat_minor": 0,
  "metadata": {
    "colab": {
      "name": "EMU403_code.ipynb",
      "provenance": [],
      "collapsed_sections": [],
      "include_colab_link": true
    },
    "kernelspec": {
      "name": "python3",
      "display_name": "Python 3"
    },
    "language_info": {
      "name": "python"
    }
  },
  "cells": [
    {
      "cell_type": "markdown",
      "metadata": {
        "id": "view-in-github",
        "colab_type": "text"
      },
      "source": [
        "<a href=\"https://colab.research.google.com/github/SevilAnna/GraduationProject/blob/Beyza/EMU403_code.ipynb\" target=\"_parent\"><img src=\"https://colab.research.google.com/assets/colab-badge.svg\" alt=\"Open In Colab\"/></a>"
      ]
    },
    {
      "cell_type": "markdown",
      "source": [
        "<h1>EMÜ 403 - Graduation Project</h1>\n",
        "\n",
        "---"
      ],
      "metadata": {
        "id": "ePsMaL4LMAZy"
      }
    },
    {
      "cell_type": "markdown",
      "source": [
        "\n",
        "<font color='red'> 🔴🔴 Kızlar 🔴🔴</font> \n",
        "</br></br>Kod üzerinde çalışacaksanız:\n",
        "- Öncelikle kodun en son versiyonunun <a href=\"https://github.com/SevilAnna/GraduationProject\">Github</a>'da olduğundan emin olun. \n",
        "- Drive'daki \"Düzenlenmiş_Dişli_Parçaları\" Excelini kendi bilgisayarınıza indirin. \n",
        "- Veriyi çekmek için aşağıdaki en az ilk 3 kutudaki kodu çalıştırın.\n",
        "- Github'a kaydederken \"main branch\"e değil, başka bir yan branch'e kaydedin.\n",
        "</br></br>- Sevil</br></br>"
      ],
      "metadata": {
        "id": "kzmKo3p4saIK"
      }
    },
    {
      "cell_type": "markdown",
      "source": [
        "## Importing Libraries & the Excel File"
      ],
      "metadata": {
        "id": "xADgo8YMFgxq"
      }
    },
    {
      "cell_type": "markdown",
      "source": [
        "### Importing libraries for the project"
      ],
      "metadata": {
        "id": "V-j53VPBBzq4"
      }
    },
    {
      "cell_type": "code",
      "source": [
        "import pandas as pd\n",
        "import numpy as np\n",
        "from numpy.random import default_rng\n",
        "rng = default_rng()\n",
        "import random\n",
        "import copy\n",
        "#!pip install geneticalgorithm\n",
        "#import geneticalgorithm as ga\n",
        "#from geneticalgorithm import geneticalgorithm as ga\n",
        "print(\"done\")"
      ],
      "metadata": {
        "id": "YCgrQU6-E8b4",
        "colab": {
          "base_uri": "https://localhost:8080/"
        },
        "outputId": "efd57442-af26-4601-fda3-6d6ba008b991"
      },
      "execution_count": null,
      "outputs": [
        {
          "output_type": "stream",
          "name": "stdout",
          "text": [
            "done\n"
          ]
        }
      ]
    },
    {
      "cell_type": "markdown",
      "source": [
        "### Importing the Excel file"
      ],
      "metadata": {
        "id": "F2mPwe7qB5uO"
      }
    },
    {
      "cell_type": "code",
      "execution_count": null,
      "metadata": {
        "colab": {
          "resources": {
            "http://localhost:8080/nbextensions/google.colab/files.js": {
              "data": "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",
              "ok": true,
              "headers": [
                [
                  "content-type",
                  "application/javascript"
                ]
              ],
              "status": 200,
              "status_text": ""
            }
          },
          "base_uri": "https://localhost:8080/",
          "height": 74
        },
        "id": "f0XjhQIHBo92",
        "outputId": "8d404f26-acb9-4a12-b56e-54ef5bae8e79"
      },
      "outputs": [
        {
          "output_type": "display_data",
          "data": {
            "text/plain": [
              "<IPython.core.display.HTML object>"
            ],
            "text/html": [
              "\n",
              "     <input type=\"file\" id=\"files-1696df47-1000-4c5d-a5b8-8ce67701562f\" name=\"files[]\" multiple disabled\n",
              "        style=\"border:none\" />\n",
              "     <output id=\"result-1696df47-1000-4c5d-a5b8-8ce67701562f\">\n",
              "      Upload widget is only available when the cell has been executed in the\n",
              "      current browser session. Please rerun this cell to enable.\n",
              "      </output>\n",
              "      <script src=\"/nbextensions/google.colab/files.js\"></script> "
            ]
          },
          "metadata": {}
        },
        {
          "output_type": "stream",
          "name": "stdout",
          "text": [
            "Saving Düzenlenmiş_Dişli_Parçaları.xlsx to Düzenlenmiş_Dişli_Parçaları.xlsx\n"
          ]
        }
      ],
      "source": [
        "from google.colab import files\n",
        "uploaded = files.upload()"
      ]
    },
    {
      "cell_type": "code",
      "source": [
        "import io\n",
        "df = pd.read_excel(io.BytesIO(uploaded[\"Düzenlenmiş_Dişli_Parçaları.xlsx\"]), sheet_name='Anka', header=0)\n",
        "del df['SÜRE (11 parça için)']\n",
        "del df['1 tanesi için kaç tane gerek']\n",
        "del df['PROSES']\n",
        "del df['Process time']\n",
        "pr_num = list(range(1,len(df)+1))\n",
        "df[\"Process #\"] = pr_num\n",
        "df = df.rename(columns={'Makine':'Machine', 'İşlem':'Process', 'SETUP':'Setup', \n",
        "                    'SÜRE (1 parça için)':'Processing time', 'PARÇA':'Piece'})\n",
        "df = df.reindex(columns=['Piece','Process #','Process','Machine','Setup','Processing time'])\n",
        "df"
      ],
      "metadata": {
        "id": "Qg8qyn0RB9E7",
        "colab": {
          "base_uri": "https://localhost:8080/",
          "height": 423
        },
        "outputId": "6635e794-22cf-432a-8301-34e6ccedfd78"
      },
      "execution_count": null,
      "outputs": [
        {
          "output_type": "execute_result",
          "data": {
            "text/plain": [
              "                                      Piece  Process #  \\\n",
              "0          UM121T900201200 GEAR ENGINE Z35           1   \n",
              "1          UM121T900201200 GEAR ENGINE Z35           2   \n",
              "2          UM121T900201200 GEAR ENGINE Z35           3   \n",
              "3          UM121T900201200 GEAR ENGINE Z35           4   \n",
              "4          UM121T900201200 GEAR ENGINE Z35           5   \n",
              "..                                      ...        ...   \n",
              "315  UM121T900204300 GEAR ALTERNATOR Z13 -2        316   \n",
              "316  UM121T900204300 GEAR ALTERNATOR Z13 -2        317   \n",
              "317  UM121T900204300 GEAR ALTERNATOR Z13 -2        318   \n",
              "318  UM121T900204300 GEAR ALTERNATOR Z13 -2        319   \n",
              "319  UM121T900204300 GEAR ALTERNATOR Z13 -2        320   \n",
              "\n",
              "                           Process Machine  Setup  Processing time  \n",
              "0       Pre-Hardening Öncesi Torna     D13    0.0         1.000000  \n",
              "1                          Yıkama      D33    0.0         0.090909  \n",
              "2    Ön Sertleştirme (Isıl İşlem)      D31    0.0         0.545455  \n",
              "3                          Yıkama      D33    0.0         0.090909  \n",
              "4         Temperleme (Isıl İşlem)      D32    0.0         0.454545  \n",
              "..                             ...     ...    ...              ...  \n",
              "315                        Yıkama      D12    0.0         0.181818  \n",
              "316                         Balans     D69    0.0         1.000000  \n",
              "317                           MPI      D65    0.0         0.454545  \n",
              "318                        Yıkama      D12    0.0         0.090909  \n",
              "319                Kalite Kontrol      662    0.0         0.500000  \n",
              "\n",
              "[320 rows x 6 columns]"
            ],
            "text/html": [
              "\n",
              "  <div id=\"df-54471a31-e952-4768-af60-5303db6c8c04\">\n",
              "    <div class=\"colab-df-container\">\n",
              "      <div>\n",
              "<style scoped>\n",
              "    .dataframe tbody tr th:only-of-type {\n",
              "        vertical-align: middle;\n",
              "    }\n",
              "\n",
              "    .dataframe tbody tr th {\n",
              "        vertical-align: top;\n",
              "    }\n",
              "\n",
              "    .dataframe thead th {\n",
              "        text-align: right;\n",
              "    }\n",
              "</style>\n",
              "<table border=\"1\" class=\"dataframe\">\n",
              "  <thead>\n",
              "    <tr style=\"text-align: right;\">\n",
              "      <th></th>\n",
              "      <th>Piece</th>\n",
              "      <th>Process #</th>\n",
              "      <th>Process</th>\n",
              "      <th>Machine</th>\n",
              "      <th>Setup</th>\n",
              "      <th>Processing time</th>\n",
              "    </tr>\n",
              "  </thead>\n",
              "  <tbody>\n",
              "    <tr>\n",
              "      <th>0</th>\n",
              "      <td>UM121T900201200 GEAR ENGINE Z35</td>\n",
              "      <td>1</td>\n",
              "      <td>Pre-Hardening Öncesi Torna</td>\n",
              "      <td>D13</td>\n",
              "      <td>0.0</td>\n",
              "      <td>1.000000</td>\n",
              "    </tr>\n",
              "    <tr>\n",
              "      <th>1</th>\n",
              "      <td>UM121T900201200 GEAR ENGINE Z35</td>\n",
              "      <td>2</td>\n",
              "      <td>Yıkama</td>\n",
              "      <td>D33</td>\n",
              "      <td>0.0</td>\n",
              "      <td>0.090909</td>\n",
              "    </tr>\n",
              "    <tr>\n",
              "      <th>2</th>\n",
              "      <td>UM121T900201200 GEAR ENGINE Z35</td>\n",
              "      <td>3</td>\n",
              "      <td>Ön Sertleştirme (Isıl İşlem)</td>\n",
              "      <td>D31</td>\n",
              "      <td>0.0</td>\n",
              "      <td>0.545455</td>\n",
              "    </tr>\n",
              "    <tr>\n",
              "      <th>3</th>\n",
              "      <td>UM121T900201200 GEAR ENGINE Z35</td>\n",
              "      <td>4</td>\n",
              "      <td>Yıkama</td>\n",
              "      <td>D33</td>\n",
              "      <td>0.0</td>\n",
              "      <td>0.090909</td>\n",
              "    </tr>\n",
              "    <tr>\n",
              "      <th>4</th>\n",
              "      <td>UM121T900201200 GEAR ENGINE Z35</td>\n",
              "      <td>5</td>\n",
              "      <td>Temperleme (Isıl İşlem)</td>\n",
              "      <td>D32</td>\n",
              "      <td>0.0</td>\n",
              "      <td>0.454545</td>\n",
              "    </tr>\n",
              "    <tr>\n",
              "      <th>...</th>\n",
              "      <td>...</td>\n",
              "      <td>...</td>\n",
              "      <td>...</td>\n",
              "      <td>...</td>\n",
              "      <td>...</td>\n",
              "      <td>...</td>\n",
              "    </tr>\n",
              "    <tr>\n",
              "      <th>315</th>\n",
              "      <td>UM121T900204300 GEAR ALTERNATOR Z13 -2</td>\n",
              "      <td>316</td>\n",
              "      <td>Yıkama</td>\n",
              "      <td>D12</td>\n",
              "      <td>0.0</td>\n",
              "      <td>0.181818</td>\n",
              "    </tr>\n",
              "    <tr>\n",
              "      <th>316</th>\n",
              "      <td>UM121T900204300 GEAR ALTERNATOR Z13 -2</td>\n",
              "      <td>317</td>\n",
              "      <td>Balans</td>\n",
              "      <td>D69</td>\n",
              "      <td>0.0</td>\n",
              "      <td>1.000000</td>\n",
              "    </tr>\n",
              "    <tr>\n",
              "      <th>317</th>\n",
              "      <td>UM121T900204300 GEAR ALTERNATOR Z13 -2</td>\n",
              "      <td>318</td>\n",
              "      <td>MPI</td>\n",
              "      <td>D65</td>\n",
              "      <td>0.0</td>\n",
              "      <td>0.454545</td>\n",
              "    </tr>\n",
              "    <tr>\n",
              "      <th>318</th>\n",
              "      <td>UM121T900204300 GEAR ALTERNATOR Z13 -2</td>\n",
              "      <td>319</td>\n",
              "      <td>Yıkama</td>\n",
              "      <td>D12</td>\n",
              "      <td>0.0</td>\n",
              "      <td>0.090909</td>\n",
              "    </tr>\n",
              "    <tr>\n",
              "      <th>319</th>\n",
              "      <td>UM121T900204300 GEAR ALTERNATOR Z13 -2</td>\n",
              "      <td>320</td>\n",
              "      <td>Kalite Kontrol</td>\n",
              "      <td>662</td>\n",
              "      <td>0.0</td>\n",
              "      <td>0.500000</td>\n",
              "    </tr>\n",
              "  </tbody>\n",
              "</table>\n",
              "<p>320 rows × 6 columns</p>\n",
              "</div>\n",
              "      <button class=\"colab-df-convert\" onclick=\"convertToInteractive('df-54471a31-e952-4768-af60-5303db6c8c04')\"\n",
              "              title=\"Convert this dataframe to an interactive table.\"\n",
              "              style=\"display:none;\">\n",
              "        \n",
              "  <svg xmlns=\"http://www.w3.org/2000/svg\" height=\"24px\"viewBox=\"0 0 24 24\"\n",
              "       width=\"24px\">\n",
              "    <path d=\"M0 0h24v24H0V0z\" fill=\"none\"/>\n",
              "    <path d=\"M18.56 5.44l.94 2.06.94-2.06 2.06-.94-2.06-.94-.94-2.06-.94 2.06-2.06.94zm-11 1L8.5 8.5l.94-2.06 2.06-.94-2.06-.94L8.5 2.5l-.94 2.06-2.06.94zm10 10l.94 2.06.94-2.06 2.06-.94-2.06-.94-.94-2.06-.94 2.06-2.06.94z\"/><path d=\"M17.41 7.96l-1.37-1.37c-.4-.4-.92-.59-1.43-.59-.52 0-1.04.2-1.43.59L10.3 9.45l-7.72 7.72c-.78.78-.78 2.05 0 2.83L4 21.41c.39.39.9.59 1.41.59.51 0 1.02-.2 1.41-.59l7.78-7.78 2.81-2.81c.8-.78.8-2.07 0-2.86zM5.41 20L4 18.59l7.72-7.72 1.47 1.35L5.41 20z\"/>\n",
              "  </svg>\n",
              "      </button>\n",
              "      \n",
              "  <style>\n",
              "    .colab-df-container {\n",
              "      display:flex;\n",
              "      flex-wrap:wrap;\n",
              "      gap: 12px;\n",
              "    }\n",
              "\n",
              "    .colab-df-convert {\n",
              "      background-color: #E8F0FE;\n",
              "      border: none;\n",
              "      border-radius: 50%;\n",
              "      cursor: pointer;\n",
              "      display: none;\n",
              "      fill: #1967D2;\n",
              "      height: 32px;\n",
              "      padding: 0 0 0 0;\n",
              "      width: 32px;\n",
              "    }\n",
              "\n",
              "    .colab-df-convert:hover {\n",
              "      background-color: #E2EBFA;\n",
              "      box-shadow: 0px 1px 2px rgba(60, 64, 67, 0.3), 0px 1px 3px 1px rgba(60, 64, 67, 0.15);\n",
              "      fill: #174EA6;\n",
              "    }\n",
              "\n",
              "    [theme=dark] .colab-df-convert {\n",
              "      background-color: #3B4455;\n",
              "      fill: #D2E3FC;\n",
              "    }\n",
              "\n",
              "    [theme=dark] .colab-df-convert:hover {\n",
              "      background-color: #434B5C;\n",
              "      box-shadow: 0px 1px 3px 1px rgba(0, 0, 0, 0.15);\n",
              "      filter: drop-shadow(0px 1px 2px rgba(0, 0, 0, 0.3));\n",
              "      fill: #FFFFFF;\n",
              "    }\n",
              "  </style>\n",
              "\n",
              "      <script>\n",
              "        const buttonEl =\n",
              "          document.querySelector('#df-54471a31-e952-4768-af60-5303db6c8c04 button.colab-df-convert');\n",
              "        buttonEl.style.display =\n",
              "          google.colab.kernel.accessAllowed ? 'block' : 'none';\n",
              "\n",
              "        async function convertToInteractive(key) {\n",
              "          const element = document.querySelector('#df-54471a31-e952-4768-af60-5303db6c8c04');\n",
              "          const dataTable =\n",
              "            await google.colab.kernel.invokeFunction('convertToInteractive',\n",
              "                                                     [key], {});\n",
              "          if (!dataTable) return;\n",
              "\n",
              "          const docLinkHtml = 'Like what you see? Visit the ' +\n",
              "            '<a target=\"_blank\" href=https://colab.research.google.com/notebooks/data_table.ipynb>data table notebook</a>'\n",
              "            + ' to learn more about interactive tables.';\n",
              "          element.innerHTML = '';\n",
              "          dataTable['output_type'] = 'display_data';\n",
              "          await google.colab.output.renderOutput(dataTable, element);\n",
              "          const docLink = document.createElement('div');\n",
              "          docLink.innerHTML = docLinkHtml;\n",
              "          element.appendChild(docLink);\n",
              "        }\n",
              "      </script>\n",
              "    </div>\n",
              "  </div>\n",
              "  "
            ]
          },
          "metadata": {},
          "execution_count": 5
        }
      ]
    },
    {
      "cell_type": "markdown",
      "source": [
        "## Next steps"
      ],
      "metadata": {
        "id": "3gQeCladFZsa"
      }
    },
    {
      "cell_type": "code",
      "source": [
        "m_list = np.unique(np.array(df[\"Machine\"]))                         # Each machine needed\n",
        "m_num_list = [1, 2, 1, 4, 3, 2, 3, 3, 3, 2, 2, 1, 1, 1, 2, 1, 1]    # How many there're of each machine (done manually now; to automate later)\n",
        "print(len(m_list),m_list)\n",
        "print(len(m_num_list),m_num_list)"
      ],
      "metadata": {
        "colab": {
          "base_uri": "https://localhost:8080/"
        },
        "id": "WqMVoYmHOp-g",
        "outputId": "4d5cb890-3771-47df-a4e6-c81b20a858b2"
      },
      "execution_count": null,
      "outputs": [
        {
          "output_type": "stream",
          "name": "stdout",
          "text": [
            "17 ['662' 'D11' 'D12' 'D13' 'D15' 'D17' 'D27' 'D31' 'D32' 'D33' 'D41' 'D43'\n",
            " 'D44' 'D47' 'D65' 'D69' 'Nital Etche, Hydrojen Embr.']\n",
            "17 [1, 2, 1, 4, 3, 2, 3, 3, 3, 2, 2, 1, 1, 1, 2, 1, 1]\n"
          ]
        }
      ]
    },
    {
      "cell_type": "code",
      "source": [
        "# creating a dictionary with each machine (including duplicates)\n",
        "all_machines = {}\n",
        "n = 0\n",
        "for m in m_list:\n",
        "  m_num = m_num_list[n]\n",
        "  if m_num > 0:\n",
        "    all_machines[m] = []\n",
        "    # Adding processes to the machines (but not to duplicates)\n",
        "    for r in range(len(df[\"Machine\"])):\n",
        "      if m == df.iloc[r][\"Machine\"]:\n",
        "        all_machines[m].append(r+1)\n",
        "  # add duplicate machines without the processes\n",
        "  if m_num > 1:\n",
        "    m1 = m+\"-1\"\n",
        "    all_machines[m1] = all_machines[m]\n",
        "    all_machines.pop(m)\n",
        "    if m_num > 1:\n",
        "      m2 = m+\"-2\"\n",
        "      all_machines[m2] = []\n",
        "    if m_num > 2:\n",
        "      m3 = m+\"-3\"\n",
        "      all_machines[m3] = []\n",
        "    if m_num > 3:\n",
        "      m4 = m+\"-4\"\n",
        "      all_machines[m4] = []   # later add more if there're 4+ of a certain machine ---> or just write a function for this \n",
        "  n += 1\n",
        "   \n",
        "for k in all_machines:\n",
        "  print(k,\"\\t\",all_machines[k])"
      ],
      "metadata": {
        "colab": {
          "base_uri": "https://localhost:8080/"
        },
        "id": "ScOeU8KWvn1S",
        "outputId": "e5a1432f-b473-4c81-e4b0-f329361c6f89"
      },
      "execution_count": null,
      "outputs": [
        {
          "output_type": "stream",
          "name": "stdout",
          "text": [
            "662 \t [26, 32, 58, 64, 90, 96, 122, 128, 154, 160, 186, 192, 218, 224, 250, 256, 282, 288, 314, 320]\n",
            "D11-1 \t [11, 23, 43, 55, 75, 87, 107, 119, 139, 151, 171, 183, 203, 215, 235, 247, 267, 279, 299, 311]\n",
            "D11-2 \t []\n",
            "D12 \t [13, 24, 28, 31, 45, 56, 60, 63, 77, 88, 92, 95, 109, 120, 124, 127, 141, 152, 156, 159, 173, 184, 188, 191, 205, 216, 220, 223, 237, 248, 252, 255, 269, 280, 284, 287, 301, 312, 316, 319]\n",
            "D13-1 \t [1, 7, 33, 39, 65, 71, 97, 103, 129, 135, 161, 167, 193, 199, 225, 231, 257, 263, 289, 295]\n",
            "D13-2 \t []\n",
            "D13-3 \t []\n",
            "D13-4 \t []\n",
            "D15-1 \t [14, 20, 25, 46, 52, 57, 78, 84, 89, 110, 116, 121, 142, 148, 153, 174, 180, 185, 206, 212, 217, 238, 244, 249, 270, 276, 281, 302, 308, 313]\n",
            "D15-2 \t []\n",
            "D15-3 \t []\n",
            "D17-1 \t [10, 22, 42, 54, 74, 86, 106, 118, 138, 150, 170, 182, 202, 214, 234, 246, 266, 278, 298, 310]\n",
            "D17-2 \t []\n",
            "D27-1 \t [21, 53, 85, 117, 149, 181, 213, 245, 277, 309]\n",
            "D27-2 \t []\n",
            "D27-3 \t []\n",
            "D31-1 \t [3, 15, 35, 47, 67, 79, 99, 111, 131, 143, 163, 175, 195, 207, 227, 239, 259, 271, 291, 303]\n",
            "D31-2 \t []\n",
            "D31-3 \t []\n",
            "D32-1 \t [5, 18, 37, 50, 69, 82, 101, 114, 133, 146, 165, 178, 197, 210, 229, 242, 261, 274, 293, 306]\n",
            "D32-2 \t []\n",
            "D32-3 \t []\n",
            "D33-1 \t [2, 4, 16, 34, 36, 48, 66, 68, 80, 98, 100, 112, 130, 132, 144, 162, 164, 176, 194, 196, 208, 226, 228, 240, 258, 260, 272, 290, 292, 304]\n",
            "D33-2 \t []\n",
            "D41-1 \t [17, 49, 81, 113, 145, 177, 209, 241, 273, 305]\n",
            "D41-2 \t []\n",
            "D43 \t [9, 41, 73, 105, 137, 169, 201, 233, 265, 297]\n",
            "D44 \t [8, 12, 40, 44, 72, 76, 104, 108, 136, 140, 168, 172, 200, 204, 232, 236, 264, 268, 296, 300]\n",
            "D47 \t [6, 19, 38, 51, 70, 83, 102, 115, 134, 147, 166, 179, 198, 211, 230, 243, 262, 275, 294, 307]\n",
            "D65-1 \t [30, 62, 94, 126, 158, 190, 222, 254, 286, 318]\n",
            "D65-2 \t []\n",
            "D69 \t [29, 61, 93, 125, 157, 189, 221, 253, 285, 317]\n",
            "Nital Etche, Hydrojen Embr. \t [27, 59, 91, 123, 155, 187, 219, 251, 283, 315]\n"
          ]
        }
      ]
    },
    {
      "cell_type": "markdown",
      "source": [
        "notes for presentation:\n",
        "- we can see that D12 could be a bottleneck for ANKA"
      ],
      "metadata": {
        "id": "GHQbgtarC3B_"
      }
    },
    {
      "cell_type": "code",
      "source": [
        "machines = copy.deepcopy(all_machines)\n",
        "\n",
        "# initialize genetic algorithm where each gene is a machine's schedule\n",
        "num_genes = len(machines)\n",
        "num_chro = 8\n",
        "popu_size = (num_chro,num_genes)\n",
        "popu = []\n",
        "\n",
        "\n",
        "for i in range(num_chro):\n",
        "  popu.append([machines])\n",
        "\n",
        "# shuffle the order of processes in each machine/gene except for the first chromosome, and print results\n",
        "new_popu = []\n",
        "for i in range(len(popu)):\n",
        "  new_popu.append([0])\n",
        "first_one = True\n",
        "for i in range(len(popu)):\n",
        "  if first_one == False:\n",
        "    for j in popu[i]:\n",
        "      for k in j:\n",
        "        temp_l = random.sample(copy.deepcopy(list(j[k])),len(j[k]))\n",
        "        j[k] = copy.deepcopy(temp_l)\n",
        "  first_one = False\n",
        "  new_popu[i] = copy.deepcopy(popu[i])\n",
        "\n",
        "for c in new_popu:\n",
        "  print(c)"
      ],
      "metadata": {
        "colab": {
          "base_uri": "https://localhost:8080/"
        },
        "id": "69QLThuy8v3k",
        "outputId": "37eba65c-2f3e-4351-d4b3-51faa14bb224"
      },
      "execution_count": null,
      "outputs": [
        {
          "output_type": "stream",
          "name": "stdout",
          "text": [
            "[{'662': [26, 32, 58, 64, 90, 96, 122, 128, 154, 160, 186, 192, 218, 224, 250, 256, 282, 288, 314, 320], 'D11-1': [11, 23, 43, 55, 75, 87, 107, 119, 139, 151, 171, 183, 203, 215, 235, 247, 267, 279, 299, 311], 'D11-2': [], 'D12': [13, 24, 28, 31, 45, 56, 60, 63, 77, 88, 92, 95, 109, 120, 124, 127, 141, 152, 156, 159, 173, 184, 188, 191, 205, 216, 220, 223, 237, 248, 252, 255, 269, 280, 284, 287, 301, 312, 316, 319], 'D13-1': [1, 7, 33, 39, 65, 71, 97, 103, 129, 135, 161, 167, 193, 199, 225, 231, 257, 263, 289, 295], 'D13-2': [], 'D13-3': [], 'D13-4': [], 'D15-1': [14, 20, 25, 46, 52, 57, 78, 84, 89, 110, 116, 121, 142, 148, 153, 174, 180, 185, 206, 212, 217, 238, 244, 249, 270, 276, 281, 302, 308, 313], 'D15-2': [], 'D15-3': [], 'D17-1': [10, 22, 42, 54, 74, 86, 106, 118, 138, 150, 170, 182, 202, 214, 234, 246, 266, 278, 298, 310], 'D17-2': [], 'D27-1': [21, 53, 85, 117, 149, 181, 213, 245, 277, 309], 'D27-2': [], 'D27-3': [], 'D31-1': [3, 15, 35, 47, 67, 79, 99, 111, 131, 143, 163, 175, 195, 207, 227, 239, 259, 271, 291, 303], 'D31-2': [], 'D31-3': [], 'D32-1': [5, 18, 37, 50, 69, 82, 101, 114, 133, 146, 165, 178, 197, 210, 229, 242, 261, 274, 293, 306], 'D32-2': [], 'D32-3': [], 'D33-1': [2, 4, 16, 34, 36, 48, 66, 68, 80, 98, 100, 112, 130, 132, 144, 162, 164, 176, 194, 196, 208, 226, 228, 240, 258, 260, 272, 290, 292, 304], 'D33-2': [], 'D41-1': [17, 49, 81, 113, 145, 177, 209, 241, 273, 305], 'D41-2': [], 'D43': [9, 41, 73, 105, 137, 169, 201, 233, 265, 297], 'D44': [8, 12, 40, 44, 72, 76, 104, 108, 136, 140, 168, 172, 200, 204, 232, 236, 264, 268, 296, 300], 'D47': [6, 19, 38, 51, 70, 83, 102, 115, 134, 147, 166, 179, 198, 211, 230, 243, 262, 275, 294, 307], 'D65-1': [30, 62, 94, 126, 158, 190, 222, 254, 286, 318], 'D65-2': [], 'D69': [29, 61, 93, 125, 157, 189, 221, 253, 285, 317], 'Nital Etche, Hydrojen Embr.': [27, 59, 91, 123, 155, 187, 219, 251, 283, 315]}]\n",
            "[{'662': [64, 314, 282, 90, 218, 58, 288, 192, 256, 224, 32, 122, 186, 250, 320, 154, 160, 128, 26, 96], 'D11-1': [119, 267, 139, 279, 183, 247, 311, 299, 171, 23, 11, 107, 151, 203, 43, 235, 87, 55, 215, 75], 'D11-2': [], 'D12': [63, 141, 77, 255, 269, 45, 31, 95, 184, 220, 319, 124, 56, 156, 280, 223, 88, 191, 248, 173, 237, 127, 24, 301, 216, 13, 252, 284, 28, 152, 109, 60, 188, 159, 205, 312, 120, 316, 92, 287], 'D13-1': [263, 129, 103, 167, 71, 1, 231, 97, 225, 161, 33, 289, 39, 135, 295, 199, 257, 65, 7, 193], 'D13-2': [], 'D13-3': [], 'D13-4': [], 'D15-1': [78, 313, 180, 46, 89, 25, 238, 174, 116, 153, 84, 185, 148, 217, 52, 244, 121, 57, 212, 308, 20, 249, 276, 270, 281, 302, 14, 110, 206, 142], 'D15-2': [], 'D15-3': [], 'D17-1': [86, 310, 170, 214, 106, 42, 138, 182, 246, 298, 10, 22, 74, 234, 202, 54, 118, 150, 278, 266], 'D17-2': [], 'D27-1': [117, 181, 53, 309, 85, 213, 245, 277, 21, 149], 'D27-2': [], 'D27-3': [], 'D31-1': [47, 111, 35, 15, 271, 163, 195, 99, 239, 175, 131, 67, 79, 3, 143, 291, 227, 303, 207, 259], 'D31-2': [], 'D31-3': [], 'D32-1': [293, 18, 37, 210, 261, 50, 274, 146, 229, 69, 5, 101, 197, 133, 178, 165, 242, 114, 306, 82], 'D32-2': [], 'D32-3': [], 'D33-1': [226, 290, 258, 260, 2, 36, 132, 48, 240, 80, 112, 66, 272, 4, 98, 164, 144, 162, 196, 34, 208, 16, 292, 304, 176, 100, 228, 194, 68, 130], 'D33-2': [], 'D41-1': [273, 81, 49, 209, 305, 177, 113, 241, 145, 17], 'D41-2': [], 'D43': [201, 265, 233, 137, 41, 169, 73, 297, 9, 105], 'D44': [172, 8, 236, 136, 108, 300, 268, 104, 204, 296, 72, 140, 44, 264, 12, 200, 232, 168, 76, 40], 'D47': [51, 70, 115, 102, 166, 83, 211, 262, 179, 19, 307, 294, 243, 198, 230, 275, 6, 38, 134, 147], 'D65-1': [254, 62, 158, 286, 318, 222, 190, 30, 126, 94], 'D65-2': [], 'D69': [93, 221, 29, 285, 317, 61, 189, 253, 157, 125], 'Nital Etche, Hydrojen Embr.': [251, 315, 59, 283, 123, 91, 27, 187, 155, 219]}]\n",
            "[{'662': [186, 154, 26, 90, 122, 128, 192, 320, 64, 32, 96, 314, 160, 288, 256, 224, 250, 58, 282, 218], 'D11-1': [151, 267, 215, 75, 235, 119, 107, 11, 139, 87, 183, 311, 247, 55, 43, 299, 23, 203, 279, 171], 'D11-2': [], 'D12': [77, 220, 248, 316, 269, 88, 120, 284, 92, 95, 109, 156, 205, 152, 13, 28, 252, 124, 63, 60, 237, 280, 216, 312, 173, 287, 255, 319, 184, 24, 45, 159, 56, 301, 223, 127, 191, 141, 188, 31], 'D13-1': [199, 167, 1, 71, 295, 161, 231, 7, 193, 289, 103, 225, 129, 65, 263, 39, 33, 257, 135, 97], 'D13-2': [], 'D13-3': [], 'D13-4': [], 'D15-1': [174, 185, 121, 249, 206, 142, 89, 308, 212, 84, 270, 180, 238, 217, 244, 25, 302, 281, 78, 148, 276, 57, 46, 116, 52, 110, 313, 20, 153, 14], 'D15-2': [], 'D15-3': [], 'D17-1': [54, 214, 202, 74, 170, 10, 150, 266, 86, 138, 106, 298, 278, 182, 22, 246, 118, 234, 42, 310], 'D17-2': [], 'D27-1': [85, 277, 21, 181, 149, 213, 245, 309, 53, 117], 'D27-2': [], 'D27-3': [], 'D31-1': [3, 47, 67, 303, 271, 35, 259, 291, 111, 163, 227, 175, 131, 207, 143, 15, 195, 79, 239, 99], 'D31-2': [], 'D31-3': [], 'D32-1': [178, 101, 229, 50, 293, 242, 165, 274, 306, 18, 146, 69, 261, 133, 197, 37, 5, 82, 114, 210], 'D32-2': [], 'D32-3': [], 'D33-1': [130, 290, 34, 260, 36, 228, 66, 144, 196, 68, 162, 208, 194, 16, 304, 80, 272, 2, 176, 226, 258, 4, 48, 132, 292, 164, 98, 240, 112, 100], 'D33-2': [], 'D41-1': [273, 209, 241, 145, 305, 113, 49, 17, 81, 177], 'D41-2': [], 'D43': [297, 265, 41, 73, 137, 169, 9, 233, 201, 105], 'D44': [300, 136, 200, 296, 8, 104, 76, 172, 12, 140, 268, 264, 40, 236, 44, 108, 168, 232, 204, 72], 'D47': [198, 307, 275, 179, 243, 70, 147, 262, 294, 38, 211, 83, 19, 166, 51, 6, 115, 102, 230, 134], 'D65-1': [158, 190, 318, 286, 222, 94, 254, 30, 126, 62], 'D65-2': [], 'D69': [317, 29, 189, 157, 93, 285, 61, 221, 125, 253], 'Nital Etche, Hydrojen Embr.': [27, 251, 315, 187, 91, 123, 155, 219, 283, 59]}]\n",
            "[{'662': [64, 288, 90, 256, 32, 224, 250, 96, 122, 282, 320, 128, 26, 186, 218, 160, 314, 192, 58, 154], 'D11-1': [75, 171, 267, 183, 203, 151, 107, 139, 247, 11, 119, 23, 87, 235, 299, 311, 215, 279, 55, 43], 'D11-2': [], 'D12': [269, 159, 45, 56, 248, 28, 252, 188, 95, 223, 31, 156, 173, 237, 184, 120, 124, 88, 152, 255, 109, 24, 141, 63, 287, 60, 280, 319, 216, 127, 205, 77, 13, 312, 220, 284, 316, 191, 92, 301], 'D13-1': [103, 7, 199, 97, 289, 135, 263, 33, 257, 39, 231, 65, 161, 71, 167, 193, 295, 129, 225, 1], 'D13-2': [], 'D13-3': [], 'D13-4': [], 'D15-1': [174, 270, 14, 84, 89, 110, 302, 25, 52, 206, 185, 238, 180, 308, 46, 78, 281, 153, 116, 20, 313, 142, 57, 244, 276, 212, 249, 217, 121, 148], 'D15-2': [], 'D15-3': [], 'D17-1': [170, 246, 150, 138, 118, 234, 278, 74, 106, 10, 310, 42, 22, 54, 182, 202, 298, 86, 214, 266], 'D17-2': [], 'D27-1': [181, 149, 245, 21, 85, 53, 277, 117, 213, 309], 'D27-2': [], 'D27-3': [], 'D31-1': [303, 67, 227, 99, 259, 111, 15, 35, 175, 143, 207, 131, 3, 195, 163, 239, 79, 271, 47, 291], 'D31-2': [], 'D31-3': [], 'D32-1': [293, 18, 165, 210, 274, 133, 178, 242, 37, 306, 261, 82, 197, 146, 114, 50, 101, 69, 5, 229], 'D32-2': [], 'D32-3': [], 'D33-1': [196, 80, 112, 48, 100, 228, 162, 98, 34, 290, 132, 66, 176, 292, 258, 164, 272, 260, 226, 68, 208, 2, 16, 130, 36, 194, 144, 240, 4, 304], 'D33-2': [], 'D41-1': [113, 17, 177, 145, 81, 49, 273, 209, 305, 241], 'D41-2': [], 'D43': [297, 201, 41, 73, 9, 169, 105, 137, 233, 265], 'D44': [236, 300, 104, 200, 12, 76, 40, 168, 108, 232, 8, 136, 72, 44, 172, 140, 268, 296, 204, 264], 'D47': [51, 179, 147, 70, 19, 230, 115, 6, 38, 262, 83, 211, 307, 166, 275, 294, 102, 243, 134, 198], 'D65-1': [62, 222, 158, 94, 190, 318, 286, 254, 30, 126], 'D65-2': [], 'D69': [29, 125, 61, 317, 221, 285, 157, 189, 93, 253], 'Nital Etche, Hydrojen Embr.': [59, 219, 283, 251, 27, 315, 123, 187, 155, 91]}]\n",
            "[{'662': [186, 26, 320, 122, 314, 160, 288, 250, 154, 32, 218, 58, 128, 64, 224, 90, 96, 256, 192, 282], 'D11-1': [299, 55, 183, 203, 11, 279, 139, 107, 171, 235, 75, 23, 215, 247, 119, 43, 311, 151, 267, 87], 'D11-2': [], 'D12': [223, 13, 24, 109, 31, 152, 127, 316, 237, 77, 95, 124, 173, 284, 205, 301, 269, 188, 63, 312, 45, 220, 92, 60, 248, 28, 184, 191, 319, 88, 156, 255, 280, 252, 159, 287, 120, 56, 141, 216], 'D13-1': [257, 225, 135, 263, 289, 39, 295, 71, 231, 193, 129, 33, 65, 97, 167, 161, 199, 7, 103, 1], 'D13-2': [], 'D13-3': [], 'D13-4': [], 'D15-1': [89, 249, 174, 20, 52, 78, 212, 276, 116, 302, 206, 14, 142, 84, 25, 180, 185, 238, 308, 46, 244, 110, 217, 121, 313, 281, 148, 153, 270, 57], 'D15-2': [], 'D15-3': [], 'D17-1': [22, 246, 138, 298, 86, 266, 106, 42, 214, 234, 10, 150, 74, 170, 54, 182, 310, 118, 278, 202], 'D17-2': [], 'D27-1': [181, 149, 277, 53, 117, 245, 21, 309, 213, 85], 'D27-2': [], 'D27-3': [], 'D31-1': [3, 227, 303, 175, 259, 35, 239, 207, 79, 271, 195, 47, 131, 143, 291, 99, 111, 15, 67, 163], 'D31-2': [], 'D31-3': [], 'D32-1': [114, 5, 229, 37, 210, 293, 242, 306, 50, 133, 146, 101, 274, 261, 69, 197, 82, 178, 165, 18], 'D32-2': [], 'D32-3': [], 'D33-1': [194, 292, 196, 34, 68, 304, 228, 36, 48, 2, 80, 272, 144, 260, 176, 98, 112, 164, 66, 4, 130, 290, 100, 258, 162, 208, 16, 240, 226, 132], 'D33-2': [], 'D41-1': [49, 273, 305, 113, 241, 17, 81, 145, 209, 177], 'D41-2': [], 'D43': [169, 41, 233, 201, 105, 297, 73, 9, 265, 137], 'D44': [76, 300, 200, 136, 232, 296, 140, 72, 168, 268, 44, 8, 264, 204, 108, 40, 172, 236, 104, 12], 'D47': [102, 38, 134, 243, 275, 179, 307, 198, 166, 230, 262, 147, 51, 294, 6, 83, 19, 115, 211, 70], 'D65-1': [126, 318, 62, 222, 30, 94, 158, 254, 286, 190], 'D65-2': [], 'D69': [93, 221, 285, 189, 157, 29, 61, 317, 253, 125], 'Nital Etche, Hydrojen Embr.': [187, 123, 315, 283, 219, 59, 91, 251, 27, 155]}]\n",
            "[{'662': [288, 58, 154, 256, 250, 186, 314, 128, 320, 192, 64, 96, 122, 90, 26, 282, 32, 224, 160, 218], 'D11-1': [23, 171, 235, 43, 299, 11, 311, 203, 55, 247, 279, 87, 151, 75, 215, 119, 139, 183, 107, 267], 'D11-2': [], 'D12': [92, 287, 316, 56, 120, 124, 156, 31, 152, 63, 252, 173, 220, 184, 28, 319, 141, 109, 13, 45, 237, 280, 284, 60, 312, 188, 77, 269, 216, 205, 88, 159, 95, 248, 24, 223, 255, 301, 191, 127], 'D13-1': [103, 135, 257, 225, 7, 71, 65, 33, 39, 129, 263, 97, 231, 295, 1, 161, 199, 289, 193, 167], 'D13-2': [], 'D13-3': [], 'D13-4': [], 'D15-1': [217, 206, 212, 121, 52, 84, 89, 46, 116, 238, 148, 185, 270, 174, 276, 313, 249, 20, 308, 244, 57, 14, 281, 110, 153, 180, 302, 25, 142, 78], 'D15-2': [], 'D15-3': [], 'D17-1': [86, 42, 266, 234, 74, 106, 202, 214, 54, 278, 182, 10, 22, 118, 138, 150, 246, 310, 170, 298], 'D17-2': [], 'D27-1': [277, 245, 181, 213, 21, 85, 117, 149, 309, 53], 'D27-2': [], 'D27-3': [], 'D31-1': [35, 15, 163, 259, 143, 131, 79, 47, 303, 99, 111, 175, 227, 291, 239, 195, 271, 207, 67, 3], 'D31-2': [], 'D31-3': [], 'D32-1': [261, 306, 37, 101, 242, 50, 274, 293, 114, 69, 210, 5, 146, 165, 18, 197, 82, 133, 178, 229], 'D32-2': [], 'D32-3': [], 'D33-1': [176, 16, 68, 100, 2, 4, 36, 292, 80, 132, 98, 130, 144, 196, 112, 272, 208, 228, 290, 164, 34, 260, 226, 48, 66, 304, 258, 162, 194, 240], 'D33-2': [], 'D41-1': [49, 177, 273, 81, 305, 241, 209, 17, 145, 113], 'D41-2': [], 'D43': [265, 41, 137, 201, 73, 9, 169, 233, 297, 105], 'D44': [136, 200, 72, 76, 40, 296, 204, 264, 44, 236, 12, 104, 140, 8, 168, 300, 232, 172, 108, 268], 'D47': [179, 147, 6, 70, 275, 307, 38, 83, 51, 294, 211, 198, 134, 262, 102, 230, 243, 115, 166, 19], 'D65-1': [222, 318, 254, 126, 62, 94, 30, 190, 286, 158], 'D65-2': [], 'D69': [189, 285, 125, 61, 317, 221, 29, 157, 93, 253], 'Nital Etche, Hydrojen Embr.': [283, 27, 187, 251, 315, 155, 219, 91, 123, 59]}]\n",
            "[{'662': [26, 282, 58, 64, 186, 192, 320, 154, 314, 250, 128, 256, 224, 218, 160, 90, 288, 122, 96, 32], 'D11-1': [23, 55, 247, 151, 267, 311, 107, 279, 43, 11, 119, 183, 235, 139, 215, 75, 171, 299, 203, 87], 'D11-2': [], 'D12': [319, 280, 109, 220, 255, 252, 159, 312, 188, 205, 60, 63, 284, 92, 287, 237, 248, 173, 191, 45, 127, 156, 77, 216, 301, 31, 152, 13, 316, 124, 95, 184, 28, 120, 141, 88, 223, 269, 24, 56], 'D13-1': [199, 71, 263, 103, 161, 7, 97, 135, 193, 289, 257, 231, 39, 129, 167, 33, 65, 295, 1, 225], 'D13-2': [], 'D13-3': [], 'D13-4': [], 'D15-1': [142, 153, 174, 180, 276, 14, 212, 244, 206, 185, 217, 121, 20, 110, 89, 281, 78, 302, 249, 25, 84, 57, 313, 308, 116, 46, 270, 148, 52, 238], 'D15-2': [], 'D15-3': [], 'D17-1': [106, 22, 182, 74, 10, 138, 202, 234, 310, 150, 118, 278, 42, 170, 266, 214, 246, 54, 86, 298], 'D17-2': [], 'D27-1': [149, 245, 53, 117, 213, 21, 85, 309, 277, 181], 'D27-2': [], 'D27-3': [], 'D31-1': [99, 239, 303, 3, 47, 175, 227, 195, 163, 15, 131, 79, 271, 111, 67, 207, 35, 143, 259, 291], 'D31-2': [], 'D31-3': [], 'D32-1': [18, 242, 229, 146, 5, 178, 210, 293, 101, 261, 82, 165, 306, 114, 69, 50, 37, 274, 197, 133], 'D32-2': [], 'D32-3': [], 'D33-1': [48, 162, 240, 112, 80, 164, 36, 132, 144, 196, 100, 272, 258, 208, 16, 260, 66, 292, 68, 304, 226, 194, 228, 98, 290, 2, 4, 176, 34, 130], 'D33-2': [], 'D41-1': [81, 241, 17, 305, 273, 113, 49, 145, 177, 209], 'D41-2': [], 'D43': [9, 73, 169, 105, 233, 41, 137, 297, 265, 201], 'D44': [296, 104, 204, 72, 76, 172, 8, 268, 264, 236, 108, 44, 12, 136, 300, 40, 168, 200, 232, 140], 'D47': [198, 134, 51, 211, 275, 179, 70, 294, 262, 166, 307, 102, 230, 6, 147, 83, 38, 243, 115, 19], 'D65-1': [286, 62, 158, 222, 30, 190, 318, 254, 126, 94], 'D65-2': [], 'D69': [125, 253, 29, 285, 61, 317, 157, 189, 93, 221], 'Nital Etche, Hydrojen Embr.': [155, 91, 27, 219, 315, 59, 283, 251, 187, 123]}]\n",
            "[{'662': [224, 90, 96, 186, 314, 218, 256, 250, 320, 32, 26, 282, 128, 154, 58, 192, 288, 64, 122, 160], 'D11-1': [267, 151, 43, 107, 139, 235, 183, 203, 75, 279, 119, 11, 23, 311, 171, 299, 87, 215, 55, 247], 'D11-2': [], 'D12': [312, 316, 191, 92, 13, 159, 248, 31, 88, 188, 287, 184, 255, 152, 173, 28, 301, 24, 127, 63, 223, 109, 319, 45, 141, 269, 205, 284, 60, 120, 237, 216, 220, 56, 95, 280, 156, 252, 77, 124], 'D13-1': [129, 135, 295, 225, 199, 103, 33, 193, 97, 167, 1, 161, 231, 7, 71, 39, 65, 289, 263, 257], 'D13-2': [], 'D13-3': [], 'D13-4': [], 'D15-1': [308, 84, 25, 46, 217, 313, 153, 14, 121, 206, 57, 89, 110, 185, 148, 142, 116, 212, 20, 174, 281, 78, 244, 180, 270, 302, 249, 276, 52, 238], 'D15-2': [], 'D15-3': [], 'D17-1': [214, 10, 42, 310, 150, 138, 106, 234, 170, 182, 298, 266, 74, 202, 54, 278, 86, 246, 22, 118], 'D17-2': [], 'D27-1': [21, 117, 149, 85, 277, 309, 181, 213, 245, 53], 'D27-2': [], 'D27-3': [], 'D31-1': [79, 303, 99, 271, 47, 131, 259, 291, 111, 195, 239, 163, 15, 67, 175, 227, 143, 3, 35, 207], 'D31-2': [], 'D31-3': [], 'D32-1': [274, 133, 5, 261, 18, 50, 197, 210, 37, 69, 293, 242, 178, 306, 165, 229, 114, 82, 101, 146], 'D32-2': [], 'D32-3': [], 'D33-1': [272, 98, 36, 132, 258, 80, 304, 100, 112, 292, 144, 2, 260, 226, 68, 194, 208, 130, 66, 4, 162, 196, 48, 16, 228, 176, 290, 240, 164, 34], 'D33-2': [], 'D41-1': [177, 145, 273, 209, 241, 49, 305, 17, 113, 81], 'D41-2': [], 'D43': [137, 297, 201, 9, 41, 265, 233, 105, 169, 73], 'D44': [76, 264, 40, 8, 172, 168, 72, 296, 44, 108, 12, 204, 268, 300, 236, 200, 140, 104, 136, 232], 'D47': [179, 230, 134, 275, 198, 70, 307, 51, 243, 19, 147, 262, 38, 294, 83, 211, 6, 102, 166, 115], 'D65-1': [222, 286, 30, 94, 158, 254, 126, 318, 62, 190], 'D65-2': [], 'D69': [125, 157, 61, 29, 221, 189, 285, 253, 93, 317], 'Nital Etche, Hydrojen Embr.': [123, 219, 27, 59, 187, 251, 155, 91, 283, 315]}]\n"
          ]
        }
      ]
    },
    {
      "cell_type": "code",
      "source": [
        ""
      ],
      "metadata": {
        "id": "xPcxwl2z7qWM"
      },
      "execution_count": null,
      "outputs": []
    },
    {
      "cell_type": "code",
      "source": [
        "pr_times = list(df[\"Processing time\"])\n",
        "stp_times = list(df[\"Setup\"])\n",
        "t_times = []\n",
        "print(pr_times)\n",
        "print(stp_times)\n",
        "#print(max(pr_times))\n",
        "#print(max(stp_times))\n",
        "for i in range(len(pr_times)):\n",
        "  t_times.append(pr_times[i] + stp_times[i])\n",
        "print(t_times)"
      ],
      "metadata": {
        "id": "jGeyWlqCKJTg",
        "colab": {
          "base_uri": "https://localhost:8080/"
        },
        "outputId": "173a310f-b774-41e9-c867-c7d850088d7e"
      },
      "execution_count": null,
      "outputs": [
        {
          "output_type": "stream",
          "name": "stdout",
          "text": [
            "[1.0, 0.09090909091, 0.5454545455, 0.09090909091, 0.4545454545, 0.4545454545, 1.636363636, 0.09090909091, 0.09090909091, 0.4545454545, 2.0, 0.4545454545, 0.1818181818, 0.4545454545, 0.8181818182, 0.09090909091, 0.2727272727, 0.5454545455, 0.4545454545, 0.4545454545, 1.0, 0.4545454545, 2.0, 0.1818181818, 0.4545454545, 0.4545454545, 1.272727273, 0.1818181818, 2.0, 0.4545454545, 0.1818181818, 1.0, 0.75, 0.09090909091, 0.5454545455, 0.09090909091, 0.4545454545, 0.4545454545, 1.227272727, 0.06818181818, 0.06818181818, 0.3409090909, 1.5, 0.3409090909, 0.1363636364, 0.3409090909, 0.8181818182, 0.09090909091, 0.2727272727, 0.5454545455, 0.4545454545, 0.3409090909, 0.75, 0.3409090909, 1.5, 0.1363636364, 0.3409090909, 0.3409090909, 1.272727273, 0.1363636364, 1.5, 0.4545454545, 0.1363636364, 0.75, 0.75, 0.09090909091, 0.5454545455, 0.09090909091, 0.4545454545, 0.4545454545, 1.227272727, 0.06818181818, 0.06818181818, 0.3409090909, 1.5, 0.3409090909, 0.1363636364, 0.3409090909, 0.8181818182, 0.09090909091, 0.2727272727, 0.5454545455, 0.4545454545, 0.3409090909, 0.75, 0.3409090909, 1.5, 0.1363636364, 0.3409090909, 0.3409090909, 1.272727273, 0.1363636364, 1.5, 0.4545454545, 0.1363636364, 0.75, 1.0, 0.09090909091, 0.5454545455, 0.09090909091, 0.4545454545, 0.4545454545, 1.636363636, 0.09090909091, 0.09090909091, 0.4545454545, 2.0, 0.4545454545, 0.1818181818, 0.4545454545, 0.8181818182, 0.09090909091, 0.2727272727, 0.5454545455, 0.4545454545, 0.4545454545, 1.0, 0.4545454545, 2.0, 0.1818181818, 0.4545454545, 0.4545454545, 1.272727273, 0.1818181818, 2.0, 0.4545454545, 0.1818181818, 1.0, 1.0, 0.09090909091, 0.5454545455, 0.09090909091, 0.4545454545, 0.4545454545, 1.636363636, 0.09090909091, 0.09090909091, 0.4545454545, 2.0, 0.4545454545, 0.1818181818, 0.4545454545, 0.8181818182, 0.09090909091, 0.2727272727, 0.5454545455, 0.4545454545, 0.4545454545, 1.0, 0.4545454545, 2.0, 0.1818181818, 0.4545454545, 0.4545454545, 1.272727273, 0.1818181818, 2.0, 0.4545454545, 0.1818181818, 1.0, 0.5, 0.09090909091, 0.5454545455, 0.09090909091, 0.4545454545, 0.4545454545, 0.8181818182, 0.04545454545, 0.04545454545, 0.2272727273, 1.0, 0.2272727273, 0.09090909091, 0.2272727273, 0.8181818182, 0.09090909091, 0.2727272727, 0.5454545455, 0.4545454545, 0.2272727273, 0.5, 0.2272727273, 1.0, 0.09090909091, 0.2272727273, 0.2272727273, 1.272727273, 0.1818181818, 1.0, 0.4545454545, 0.09090909091, 0.5, 0.5, 0.09090909091, 0.5454545455, 0.09090909091, 0.4545454545, 0.4545454545, 0.8181818182, 0.04545454545, 0.04545454545, 0.2272727273, 1.0, 0.2272727273, 0.09090909091, 0.2272727273, 0.8181818182, 0.09090909091, 0.2727272727, 0.5454545455, 0.4545454545, 0.2272727273, 0.5, 0.2272727273, 1.0, 0.09090909091, 0.2272727273, 0.2272727273, 1.272727273, 0.1818181818, 1.0, 0.4545454545, 0.09090909091, 0.5, 0.5, 0.09090909091, 0.5454545455, 0.09090909091, 0.4545454545, 0.4545454545, 0.8181818182, 0.04545454545, 0.04545454545, 0.2272727273, 1.0, 0.2272727273, 0.09090909091, 0.2272727273, 0.8181818182, 0.09090909091, 0.2727272727, 0.5454545455, 0.4545454545, 0.2272727273, 0.5, 0.2272727273, 1.0, 0.09090909091, 0.2272727273, 0.2272727273, 1.272727273, 0.1818181818, 1.0, 0.4545454545, 0.09090909091, 0.5, 0.5, 0.09090909091, 0.5454545455, 0.09090909091, 0.4545454545, 0.4545454545, 0.8181818182, 0.04545454545, 0.04545454545, 0.2272727273, 1.0, 0.2272727273, 0.09090909091, 0.2272727273, 0.8181818182, 0.09090909091, 0.2727272727, 0.5454545455, 0.4545454545, 0.2272727273, 0.5, 0.2272727273, 1.0, 0.09090909091, 0.2272727273, 0.2272727273, 1.272727273, 0.1818181818, 1.0, 0.4545454545, 0.09090909091, 0.5, 0.5, 0.09090909091, 0.5454545455, 0.09090909091, 0.4545454545, 0.4545454545, 0.8181818182, 0.04545454545, 0.04545454545, 0.2272727273, 1.0, 0.2272727273, 0.09090909091, 0.2272727273, 0.8181818182, 0.09090909091, 0.2727272727, 0.5454545455, 0.4545454545, 0.2272727273, 0.5, 0.2272727273, 1.0, 0.09090909091, 0.2272727273, 0.2272727273, 1.272727273, 0.1818181818, 1.0, 0.4545454545, 0.09090909091, 0.5]\n",
            "[0.0, 0.0, 0.0, 0.0, 0.0, 0.0, 0.0, 0.0, 0.0, 0.75, 5.5, 0.0, 0.0, 0.75, 0.0, 0.0, 0.0, 0.0, 0.0, 0.75, 2.2, 0.75, 5.5, 0.0, 0.75, 0.0, 0.0, 0.0, 0.0, 0.0, 0.0, 0.0, 0.0, 0.0, 0.0, 0.0, 0.0, 0.0, 0.0, 0.0, 0.0, 0.5625, 4.125, 0.0, 0.0, 0.5625, 0.0, 0.0, 0.0, 0.0, 0.0, 0.5625, 1.65, 0.5625, 4.125, 0.0, 0.5625, 0.0, 0.0, 0.0, 0.0, 0.0, 0.0, 0.0, 0.0, 0.0, 0.0, 0.0, 0.0, 0.0, 0.0, 0.0, 0.0, 0.5625, 4.125, 0.0, 0.0, 0.5625, 0.0, 0.0, 0.0, 0.0, 0.0, 0.5625, 1.65, 0.5625, 4.125, 0.0, 0.5625, 0.0, 0.0, 0.0, 0.0, 0.0, 0.0, 0.0, 0.0, 0.0, 0.0, 0.0, 0.0, 0.0, 0.0, 0.0, 0.0, 0.75, 5.5, 0.0, 0.0, 0.75, 0.0, 0.0, 0.0, 0.0, 0.0, 0.75, 2.2, 0.75, 5.5, 0.0, 0.75, 0.0, 0.0, 0.0, 0.0, 0.0, 0.0, 0.0, 0.0, 0.0, 0.0, 0.0, 0.0, 0.0, 0.0, 0.0, 0.0, 0.75, 5.5, 0.0, 0.0, 0.75, 0.0, 0.0, 0.0, 0.0, 0.0, 0.75, 2.2, 0.75, 5.5, 0.0, 0.75, 0.0, 0.0, 0.0, 0.0, 0.0, 0.0, 0.0, 0.0, 0.0, 0.0, 0.0, 0.0, 0.0, 0.0, 0.0, 0.0, 0.375, 2.75, 0.0, 0.0, 0.375, 0.0, 0.0, 0.0, 0.0, 0.0, 0.375, 1.1, 0.375, 2.75, 0.0, 0.375, 0.0, 0.0, 0.0, 0.0, 0.0, 0.0, 0.0, 0.0, 0.0, 0.0, 0.0, 0.0, 0.0, 0.0, 0.0, 0.0, 0.375, 2.75, 0.0, 0.0, 0.375, 0.0, 0.0, 0.0, 0.0, 0.0, 0.375, 1.1, 0.375, 2.75, 0.0, 0.375, 0.0, 0.0, 0.0, 0.0, 0.0, 0.0, 0.0, 0.0, 0.0, 0.0, 0.0, 0.0, 0.0, 0.0, 0.0, 0.0, 0.375, 2.75, 0.0, 0.0, 0.375, 0.0, 0.0, 0.0, 0.0, 0.0, 0.375, 1.1, 0.375, 2.75, 0.0, 0.375, 0.0, 0.0, 0.0, 0.0, 0.0, 0.0, 0.0, 0.0, 0.0, 0.0, 0.0, 0.0, 0.0, 0.0, 0.0, 0.0, 0.375, 2.75, 0.0, 0.0, 0.375, 0.0, 0.0, 0.0, 0.0, 0.0, 0.375, 1.1, 0.375, 2.75, 0.0, 0.375, 0.0, 0.0, 0.0, 0.0, 0.0, 0.0, 0.0, 0.0, 0.0, 0.0, 0.0, 0.0, 0.0, 0.0, 0.0, 0.0, 0.375, 2.75, 0.0, 0.0, 0.375, 0.0, 0.0, 0.0, 0.0, 0.0, 0.375, 1.1, 0.375, 2.75, 0.0, 0.375, 0.0, 0.0, 0.0, 0.0, 0.0, 0.0, 0.0]\n",
            "[1.0, 0.09090909091, 0.5454545455, 0.09090909091, 0.4545454545, 0.4545454545, 1.636363636, 0.09090909091, 0.09090909091, 1.2045454545, 7.5, 0.4545454545, 0.1818181818, 1.2045454545, 0.8181818182, 0.09090909091, 0.2727272727, 0.5454545455, 0.4545454545, 1.2045454545, 3.2, 1.2045454545, 7.5, 0.1818181818, 1.2045454545, 0.4545454545, 1.272727273, 0.1818181818, 2.0, 0.4545454545, 0.1818181818, 1.0, 0.75, 0.09090909091, 0.5454545455, 0.09090909091, 0.4545454545, 0.4545454545, 1.227272727, 0.06818181818, 0.06818181818, 0.9034090909, 5.625, 0.3409090909, 0.1363636364, 0.9034090909, 0.8181818182, 0.09090909091, 0.2727272727, 0.5454545455, 0.4545454545, 0.9034090909, 2.4, 0.9034090909, 5.625, 0.1363636364, 0.9034090909, 0.3409090909, 1.272727273, 0.1363636364, 1.5, 0.4545454545, 0.1363636364, 0.75, 0.75, 0.09090909091, 0.5454545455, 0.09090909091, 0.4545454545, 0.4545454545, 1.227272727, 0.06818181818, 0.06818181818, 0.9034090909, 5.625, 0.3409090909, 0.1363636364, 0.9034090909, 0.8181818182, 0.09090909091, 0.2727272727, 0.5454545455, 0.4545454545, 0.9034090909, 2.4, 0.9034090909, 5.625, 0.1363636364, 0.9034090909, 0.3409090909, 1.272727273, 0.1363636364, 1.5, 0.4545454545, 0.1363636364, 0.75, 1.0, 0.09090909091, 0.5454545455, 0.09090909091, 0.4545454545, 0.4545454545, 1.636363636, 0.09090909091, 0.09090909091, 1.2045454545, 7.5, 0.4545454545, 0.1818181818, 1.2045454545, 0.8181818182, 0.09090909091, 0.2727272727, 0.5454545455, 0.4545454545, 1.2045454545, 3.2, 1.2045454545, 7.5, 0.1818181818, 1.2045454545, 0.4545454545, 1.272727273, 0.1818181818, 2.0, 0.4545454545, 0.1818181818, 1.0, 1.0, 0.09090909091, 0.5454545455, 0.09090909091, 0.4545454545, 0.4545454545, 1.636363636, 0.09090909091, 0.09090909091, 1.2045454545, 7.5, 0.4545454545, 0.1818181818, 1.2045454545, 0.8181818182, 0.09090909091, 0.2727272727, 0.5454545455, 0.4545454545, 1.2045454545, 3.2, 1.2045454545, 7.5, 0.1818181818, 1.2045454545, 0.4545454545, 1.272727273, 0.1818181818, 2.0, 0.4545454545, 0.1818181818, 1.0, 0.5, 0.09090909091, 0.5454545455, 0.09090909091, 0.4545454545, 0.4545454545, 0.8181818182, 0.04545454545, 0.04545454545, 0.6022727273, 3.75, 0.2272727273, 0.09090909091, 0.6022727273, 0.8181818182, 0.09090909091, 0.2727272727, 0.5454545455, 0.4545454545, 0.6022727273, 1.6, 0.6022727273, 3.75, 0.09090909091, 0.6022727273, 0.2272727273, 1.272727273, 0.1818181818, 1.0, 0.4545454545, 0.09090909091, 0.5, 0.5, 0.09090909091, 0.5454545455, 0.09090909091, 0.4545454545, 0.4545454545, 0.8181818182, 0.04545454545, 0.04545454545, 0.6022727273, 3.75, 0.2272727273, 0.09090909091, 0.6022727273, 0.8181818182, 0.09090909091, 0.2727272727, 0.5454545455, 0.4545454545, 0.6022727273, 1.6, 0.6022727273, 3.75, 0.09090909091, 0.6022727273, 0.2272727273, 1.272727273, 0.1818181818, 1.0, 0.4545454545, 0.09090909091, 0.5, 0.5, 0.09090909091, 0.5454545455, 0.09090909091, 0.4545454545, 0.4545454545, 0.8181818182, 0.04545454545, 0.04545454545, 0.6022727273, 3.75, 0.2272727273, 0.09090909091, 0.6022727273, 0.8181818182, 0.09090909091, 0.2727272727, 0.5454545455, 0.4545454545, 0.6022727273, 1.6, 0.6022727273, 3.75, 0.09090909091, 0.6022727273, 0.2272727273, 1.272727273, 0.1818181818, 1.0, 0.4545454545, 0.09090909091, 0.5, 0.5, 0.09090909091, 0.5454545455, 0.09090909091, 0.4545454545, 0.4545454545, 0.8181818182, 0.04545454545, 0.04545454545, 0.6022727273, 3.75, 0.2272727273, 0.09090909091, 0.6022727273, 0.8181818182, 0.09090909091, 0.2727272727, 0.5454545455, 0.4545454545, 0.6022727273, 1.6, 0.6022727273, 3.75, 0.09090909091, 0.6022727273, 0.2272727273, 1.272727273, 0.1818181818, 1.0, 0.4545454545, 0.09090909091, 0.5, 0.5, 0.09090909091, 0.5454545455, 0.09090909091, 0.4545454545, 0.4545454545, 0.8181818182, 0.04545454545, 0.04545454545, 0.6022727273, 3.75, 0.2272727273, 0.09090909091, 0.6022727273, 0.8181818182, 0.09090909091, 0.2727272727, 0.5454545455, 0.4545454545, 0.6022727273, 1.6, 0.6022727273, 3.75, 0.09090909091, 0.6022727273, 0.2272727273, 1.272727273, 0.1818181818, 1.0, 0.4545454545, 0.09090909091, 0.5]\n"
          ]
        }
      ]
    },
    {
      "cell_type": "code",
      "source": [
        "'''# function to write the durations for each process in a chromosome\n",
        "def write_times(m_time):\n",
        "  for m in m_pr_time:\n",
        "    for i in range(len(m_time[m])):\n",
        "      for j in range(len(pr_times)):\n",
        "        if m_pr_time[m][i] == j+1:\n",
        "          m_pr_time[m][i] = pr_times[j]\n",
        "\n",
        "\n",
        "  return m_pr_time, m_stp_time, m_t_time\n",
        "\n",
        "#test\n",
        "pr_times, stp_times, t_times = write_times(all_machines)\n",
        "print(pr_times)\n",
        "\n",
        "print(stp_times)"
      ],
      "metadata": {
        "id": "31NOzjXMS60-",
        "colab": {
          "base_uri": "https://localhost:8080/"
        },
        "outputId": "5f1f9e6f-e16e-408f-945a-34d52f650d2d"
      },
      "execution_count": null,
      "outputs": [
        {
          "output_type": "stream",
          "name": "stdout",
          "text": [
            "{'662': [0.4545454545, 1.0, 0.3409090909, 0.75, 0.3409090909, 0.75, 0.4545454545, 1.0, 0.4545454545, 1.0, 0.2272727273, 0.5, 0.2272727273, 0.5, 0.2272727273, 0.5, 0.2272727273, 0.5, 0.2272727273, 0.5], 'D11-1': [2.0, 2.0, 1.5, 1.5, 1.5, 1.5, 2.0, 2.0, 2.0, 2.0, 1.0, 1.0, 1.0, 1.0, 1.0, 1.0, 1.0, 1.0, 1.0, 1.0], 'D11-2': [], 'D12': [0.1818181818, 0.1818181818, 0.1818181818, 0.1818181818, 0.1363636364, 0.1363636364, 0.1363636364, 0.1363636364, 0.1363636364, 0.1363636364, 0.1363636364, 0.1363636364, 0.1818181818, 0.1818181818, 0.1818181818, 0.1818181818, 0.1818181818, 0.1818181818, 0.1818181818, 0.1818181818, 0.09090909091, 0.09090909091, 0.1818181818, 0.09090909091, 0.09090909091, 0.09090909091, 0.1818181818, 0.09090909091, 0.09090909091, 0.09090909091, 0.1818181818, 0.09090909091, 0.09090909091, 0.09090909091, 0.1818181818, 0.09090909091, 0.09090909091, 0.09090909091, 0.1818181818, 0.09090909091], 'D13-1': [1.0, 1.636363636, 0.75, 1.227272727, 0.75, 1.227272727, 1.0, 1.636363636, 1.0, 1.636363636, 0.5, 0.8181818182, 0.5, 0.8181818182, 0.5, 0.8181818182, 0.5, 0.8181818182, 0.5, 0.8181818182], 'D13-2': [], 'D13-3': [], 'D13-4': [], 'D15-1': [0.4545454545, 0.4545454545, 0.4545454545, 0.3409090909, 0.3409090909, 0.3409090909, 0.3409090909, 0.3409090909, 0.3409090909, 0.4545454545, 0.4545454545, 0.4545454545, 0.4545454545, 0.4545454545, 0.4545454545, 0.2272727273, 0.2272727273, 0.2272727273, 0.2272727273, 0.2272727273, 0.2272727273, 0.2272727273, 0.2272727273, 0.2272727273, 0.2272727273, 0.2272727273, 0.2272727273, 0.2272727273, 0.2272727273, 0.2272727273], 'D15-2': [], 'D15-3': [], 'D17-1': [0.4545454545, 0.4545454545, 0.3409090909, 0.3409090909, 0.3409090909, 0.3409090909, 0.4545454545, 0.4545454545, 0.4545454545, 0.4545454545, 0.2272727273, 0.2272727273, 0.2272727273, 0.2272727273, 0.2272727273, 0.2272727273, 0.2272727273, 0.2272727273, 0.2272727273, 0.2272727273], 'D17-2': [], 'D27-1': [1.0, 0.75, 0.75, 1.0, 1.0, 0.5, 0.5, 0.5, 0.5, 0.5], 'D27-2': [], 'D27-3': [], 'D31-1': [0.5454545455, 0.8181818182, 0.5454545455, 0.8181818182, 0.5454545455, 0.8181818182, 0.5454545455, 0.8181818182, 0.5454545455, 0.8181818182, 0.5454545455, 0.8181818182, 0.5454545455, 0.8181818182, 0.5454545455, 0.8181818182, 0.5454545455, 0.8181818182, 0.5454545455, 0.8181818182], 'D31-2': [], 'D31-3': [], 'D32-1': [0.4545454545, 0.5454545455, 0.4545454545, 0.5454545455, 0.4545454545, 0.5454545455, 0.4545454545, 0.5454545455, 0.4545454545, 0.5454545455, 0.4545454545, 0.5454545455, 0.4545454545, 0.5454545455, 0.4545454545, 0.5454545455, 0.4545454545, 0.5454545455, 0.4545454545, 0.5454545455], 'D32-2': [], 'D32-3': [], 'D33-1': [0.09090909091, 0.09090909091, 0.09090909091, 0.09090909091, 0.09090909091, 0.09090909091, 0.09090909091, 0.09090909091, 0.09090909091, 0.09090909091, 0.09090909091, 0.09090909091, 0.09090909091, 0.09090909091, 0.09090909091, 0.09090909091, 0.09090909091, 0.09090909091, 0.09090909091, 0.09090909091, 0.09090909091, 0.09090909091, 0.09090909091, 0.09090909091, 0.09090909091, 0.09090909091, 0.09090909091, 0.09090909091, 0.09090909091, 0.09090909091], 'D33-2': [], 'D41-1': [0.2727272727, 0.2727272727, 0.2727272727, 0.2727272727, 0.2727272727, 0.2727272727, 0.2727272727, 0.2727272727, 0.2727272727, 0.2727272727], 'D41-2': [], 'D43': [0.09090909091, 0.06818181818, 0.06818181818, 0.09090909091, 0.09090909091, 0.04545454545, 0.04545454545, 0.04545454545, 0.04545454545, 0.04545454545], 'D44': [0.09090909091, 0.4545454545, 0.06818181818, 0.3409090909, 0.06818181818, 0.3409090909, 0.09090909091, 0.4545454545, 0.09090909091, 0.4545454545, 0.04545454545, 0.2272727273, 0.04545454545, 0.2272727273, 0.04545454545, 0.2272727273, 0.04545454545, 0.2272727273, 0.04545454545, 0.2272727273], 'D47': [0.4545454545, 0.4545454545, 0.4545454545, 0.4545454545, 0.4545454545, 0.4545454545, 0.4545454545, 0.4545454545, 0.4545454545, 0.4545454545, 0.4545454545, 0.4545454545, 0.4545454545, 0.4545454545, 0.4545454545, 0.4545454545, 0.4545454545, 0.4545454545, 0.4545454545, 0.4545454545], 'D65-1': [0.4545454545, 0.4545454545, 0.4545454545, 0.4545454545, 0.4545454545, 0.4545454545, 0.4545454545, 0.4545454545, 0.4545454545, 0.4545454545], 'D65-2': [], 'D69': [2.0, 1.5, 1.5, 2.0, 2.0, 1.0, 1.0, 1.0, 1.0, 1.0], 'Nital Etche, Hydrojen Embr.': [1.272727273, 1.272727273, 1.272727273, 1.272727273, 1.272727273, 1.272727273, 1.272727273, 1.272727273, 1.272727273, 1.272727273]}\n"
          ]
        }
      ]
    },
    {
      "cell_type": "code",
      "source": [
        "# function to write the durations for each process in a chromosome\n",
        "def write_process_times(m_pr_time):\n",
        "  for m in m_pr_time:\n",
        "    for i in range(len(m_pr_time[m])):\n",
        "      for j in range(len(pr_times)):\n",
        "        if m_pr_time[m][i] == j+1:\n",
        "          m_pr_time[m][i] = pr_times[j]\n",
        "  return m_pr_time\n",
        "\n",
        "#test\n",
        "m_pr_time1 = copy.deepcopy(all_machines)\n",
        "pr_times = write_process_times(m_pr_time1)\n",
        "print(pr_times)"
      ],
      "metadata": {
        "colab": {
          "base_uri": "https://localhost:8080/"
        },
        "id": "amAkFlmvtwgm",
        "outputId": "f3e0d8ab-ca64-4ba3-848e-ea5084604a8b"
      },
      "execution_count": null,
      "outputs": [
        {
          "output_type": "stream",
          "name": "stdout",
          "text": [
            "{'662': [0.4545454545, 1.0, 0.3409090909, 0.75, 0.3409090909, 0.75, 0.4545454545, 1.0, 0.4545454545, 1.0, 0.2272727273, 0.5, 0.2272727273, 0.5, 0.2272727273, 0.5, 0.2272727273, 0.5, 0.2272727273, 0.5], 'D11-1': [2.0, 2.0, 1.5, 1.5, 1.5, 1.5, 2.0, 2.0, 2.0, 2.0, 1.0, 1.0, 1.0, 1.0, 1.0, 1.0, 1.0, 1.0, 1.0, 1.0], 'D11-2': [], 'D12': [0.1818181818, 0.1818181818, 0.1818181818, 0.1818181818, 0.1363636364, 0.1363636364, 0.1363636364, 0.1363636364, 0.1363636364, 0.1363636364, 0.1363636364, 0.1363636364, 0.1818181818, 0.1818181818, 0.1818181818, 0.1818181818, 0.1818181818, 0.1818181818, 0.1818181818, 0.1818181818, 0.09090909091, 0.09090909091, 0.1818181818, 0.09090909091, 0.09090909091, 0.09090909091, 0.1818181818, 0.09090909091, 0.09090909091, 0.09090909091, 0.1818181818, 0.09090909091, 0.09090909091, 0.09090909091, 0.1818181818, 0.09090909091, 0.09090909091, 0.09090909091, 0.1818181818, 0.09090909091], 'D13-1': [1.0, 1.636363636, 0.75, 1.227272727, 0.75, 1.227272727, 1.0, 1.636363636, 1.0, 1.636363636, 0.5, 0.8181818182, 0.5, 0.8181818182, 0.5, 0.8181818182, 0.5, 0.8181818182, 0.5, 0.8181818182], 'D13-2': [], 'D13-3': [], 'D13-4': [], 'D15-1': [0.4545454545, 0.4545454545, 0.4545454545, 0.3409090909, 0.3409090909, 0.3409090909, 0.3409090909, 0.3409090909, 0.3409090909, 0.4545454545, 0.4545454545, 0.4545454545, 0.4545454545, 0.4545454545, 0.4545454545, 0.2272727273, 0.2272727273, 0.2272727273, 0.2272727273, 0.2272727273, 0.2272727273, 0.2272727273, 0.2272727273, 0.2272727273, 0.2272727273, 0.2272727273, 0.2272727273, 0.2272727273, 0.2272727273, 0.2272727273], 'D15-2': [], 'D15-3': [], 'D17-1': [0.4545454545, 0.4545454545, 0.3409090909, 0.3409090909, 0.3409090909, 0.3409090909, 0.4545454545, 0.4545454545, 0.4545454545, 0.4545454545, 0.2272727273, 0.2272727273, 0.2272727273, 0.2272727273, 0.2272727273, 0.2272727273, 0.2272727273, 0.2272727273, 0.2272727273, 0.2272727273], 'D17-2': [], 'D27-1': [1.0, 0.75, 0.75, 1.0, 1.0, 0.5, 0.5, 0.5, 0.5, 0.5], 'D27-2': [], 'D27-3': [], 'D31-1': [0.5454545455, 0.8181818182, 0.5454545455, 0.8181818182, 0.5454545455, 0.8181818182, 0.5454545455, 0.8181818182, 0.5454545455, 0.8181818182, 0.5454545455, 0.8181818182, 0.5454545455, 0.8181818182, 0.5454545455, 0.8181818182, 0.5454545455, 0.8181818182, 0.5454545455, 0.8181818182], 'D31-2': [], 'D31-3': [], 'D32-1': [0.4545454545, 0.5454545455, 0.4545454545, 0.5454545455, 0.4545454545, 0.5454545455, 0.4545454545, 0.5454545455, 0.4545454545, 0.5454545455, 0.4545454545, 0.5454545455, 0.4545454545, 0.5454545455, 0.4545454545, 0.5454545455, 0.4545454545, 0.5454545455, 0.4545454545, 0.5454545455], 'D32-2': [], 'D32-3': [], 'D33-1': [0.09090909091, 0.09090909091, 0.09090909091, 0.09090909091, 0.09090909091, 0.09090909091, 0.09090909091, 0.09090909091, 0.09090909091, 0.09090909091, 0.09090909091, 0.09090909091, 0.09090909091, 0.09090909091, 0.09090909091, 0.09090909091, 0.09090909091, 0.09090909091, 0.09090909091, 0.09090909091, 0.09090909091, 0.09090909091, 0.09090909091, 0.09090909091, 0.09090909091, 0.09090909091, 0.09090909091, 0.09090909091, 0.09090909091, 0.09090909091], 'D33-2': [], 'D41-1': [0.2727272727, 0.2727272727, 0.2727272727, 0.2727272727, 0.2727272727, 0.2727272727, 0.2727272727, 0.2727272727, 0.2727272727, 0.2727272727], 'D41-2': [], 'D43': [0.09090909091, 0.06818181818, 0.06818181818, 0.09090909091, 0.09090909091, 0.04545454545, 0.04545454545, 0.04545454545, 0.04545454545, 0.04545454545], 'D44': [0.09090909091, 0.4545454545, 0.06818181818, 0.3409090909, 0.06818181818, 0.3409090909, 0.09090909091, 0.4545454545, 0.09090909091, 0.4545454545, 0.04545454545, 0.2272727273, 0.04545454545, 0.2272727273, 0.04545454545, 0.2272727273, 0.04545454545, 0.2272727273, 0.04545454545, 0.2272727273], 'D47': [0.4545454545, 0.4545454545, 0.4545454545, 0.4545454545, 0.4545454545, 0.4545454545, 0.4545454545, 0.4545454545, 0.4545454545, 0.4545454545, 0.4545454545, 0.4545454545, 0.4545454545, 0.4545454545, 0.4545454545, 0.4545454545, 0.4545454545, 0.4545454545, 0.4545454545, 0.4545454545], 'D65-1': [0.4545454545, 0.4545454545, 0.4545454545, 0.4545454545, 0.4545454545, 0.4545454545, 0.4545454545, 0.4545454545, 0.4545454545, 0.4545454545], 'D65-2': [], 'D69': [2.0, 1.5, 1.5, 2.0, 2.0, 1.0, 1.0, 1.0, 1.0, 1.0], 'Nital Etche, Hydrojen Embr.': [1.272727273, 1.272727273, 1.272727273, 1.272727273, 1.272727273, 1.272727273, 1.272727273, 1.272727273, 1.272727273, 1.272727273]}\n"
          ]
        }
      ]
    },
    {
      "cell_type": "code",
      "source": [
        "# function to write the setup for each process in a chromosome\n",
        "def write_setup_times(m_setup_time):\n",
        "  for m in m_setup_time:\n",
        "    for i in range(len(m_setup_time[m])):\n",
        "      for j in range(len(stp_times)):\n",
        "        if m_setup_time[m][i] == j+1:\n",
        "          m_setup_time[m][i] = stp_times[j]\n",
        "  return m_setup_time\n",
        "\n",
        "#test\n",
        "m_setup_time1 = copy.deepcopy(all_machines)\n",
        "stp_times = write_setup_times(m_setup_time1)\n",
        "print(stp_times)"
      ],
      "metadata": {
        "colab": {
          "base_uri": "https://localhost:8080/"
        },
        "id": "Qull29LI1Es9",
        "outputId": "36373da6-3b26-4131-8375-407e3b808e7d"
      },
      "execution_count": null,
      "outputs": [
        {
          "output_type": "stream",
          "name": "stdout",
          "text": [
            "{'662': [0.0, 0.0, 0.0, 0.0, 0.0, 0.0, 0.0, 0.0, 0.0, 0.0, 0.0, 0.0, 0.0, 0.0, 0.0, 0.0, 0.0, 0.0, 0.0, 0.0], 'D11-1': [5.5, 5.5, 4.125, 4.125, 4.125, 4.125, 5.5, 5.5, 5.5, 5.5, 2.75, 2.75, 2.75, 2.75, 2.75, 2.75, 2.75, 2.75, 2.75, 2.75], 'D11-2': [], 'D12': [0.0, 0.0, 0.0, 0.0, 0.0, 0.0, 0.0, 0.0, 0.0, 0.0, 0.0, 0.0, 0.0, 0.0, 0.0, 0.0, 0.0, 0.0, 0.0, 0.0, 0.0, 0.0, 0.0, 0.0, 0.0, 0.0, 0.0, 0.0, 0.0, 0.0, 0.0, 0.0, 0.0, 0.0, 0.0, 0.0, 0.0, 0.0, 0.0, 0.0], 'D13-1': [0.0, 0.0, 0.0, 0.0, 0.0, 0.0, 0.0, 0.0, 0.0, 0.0, 0.0, 0.0, 0.0, 0.0, 0.0, 0.0, 0.0, 0.0, 0.0, 0.0], 'D13-2': [], 'D13-3': [], 'D13-4': [], 'D15-1': [0.75, 0.75, 0.75, 0.5625, 0.5625, 0.5625, 0.5625, 0.5625, 0.5625, 0.75, 0.75, 0.75, 0.75, 0.75, 0.75, 0.375, 0.375, 0.375, 0.375, 0.375, 0.375, 0.375, 0.375, 0.375, 0.375, 0.375, 0.375, 0.375, 0.375, 0.375], 'D15-2': [], 'D15-3': [], 'D17-1': [0.75, 0.75, 0.5625, 0.5625, 0.5625, 0.5625, 0.75, 0.75, 0.75, 0.75, 0.375, 0.375, 0.375, 0.375, 0.375, 0.375, 0.375, 0.375, 0.375, 0.375], 'D17-2': [], 'D27-1': [2.2, 1.65, 1.65, 2.2, 2.2, 1.1, 1.1, 1.1, 1.1, 1.1], 'D27-2': [], 'D27-3': [], 'D31-1': [0.0, 0.0, 0.0, 0.0, 0.0, 0.0, 0.0, 0.0, 0.0, 0.0, 0.0, 0.0, 0.0, 0.0, 0.0, 0.0, 0.0, 0.0, 0.0, 0.0], 'D31-2': [], 'D31-3': [], 'D32-1': [0.0, 0.0, 0.0, 0.0, 0.0, 0.0, 0.0, 0.0, 0.0, 0.0, 0.0, 0.0, 0.0, 0.0, 0.0, 0.0, 0.0, 0.0, 0.0, 0.0], 'D32-2': [], 'D32-3': [], 'D33-1': [0.0, 0.0, 0.0, 0.0, 0.0, 0.0, 0.0, 0.0, 0.0, 0.0, 0.0, 0.0, 0.0, 0.0, 0.0, 0.0, 0.0, 0.0, 0.0, 0.0, 0.0, 0.0, 0.0, 0.0, 0.0, 0.0, 0.0, 0.0, 0.0, 0.0], 'D33-2': [], 'D41-1': [0.0, 0.0, 0.0, 0.0, 0.0, 0.0, 0.0, 0.0, 0.0, 0.0], 'D41-2': [], 'D43': [0.0, 0.0, 0.0, 0.0, 0.0, 0.0, 0.0, 0.0, 0.0, 0.0], 'D44': [0.0, 0.0, 0.0, 0.0, 0.0, 0.0, 0.0, 0.0, 0.0, 0.0, 0.0, 0.0, 0.0, 0.0, 0.0, 0.0, 0.0, 0.0, 0.0, 0.0], 'D47': [0.0, 0.0, 0.0, 0.0, 0.0, 0.0, 0.0, 0.0, 0.0, 0.0, 0.0, 0.0, 0.0, 0.0, 0.0, 0.0, 0.0, 0.0, 0.0, 0.0], 'D65-1': [0.0, 0.0, 0.0, 0.0, 0.0, 0.0, 0.0, 0.0, 0.0, 0.0], 'D65-2': [], 'D69': [0.0, 0.0, 0.0, 0.0, 0.0, 0.0, 0.0, 0.0, 0.0, 0.0], 'Nital Etche, Hydrojen Embr.': [0.0, 0.0, 0.0, 0.0, 0.0, 0.0, 0.0, 0.0, 0.0, 0.0]}\n"
          ]
        }
      ]
    },
    {
      "cell_type": "code",
      "source": [
        "\n",
        "def write_tot_times(total_time):\n",
        "  for m in tot_time1:\n",
        "      for i in range(len(total_time[m])):\n",
        "        for j in range(len(t_times)):\n",
        "          if i == 0:\n",
        "            total_time[m][i] = 0\n",
        "          else:\n",
        "            if tot_time1[m][i] == j+1:\n",
        "              total_time[m][i] = t_times[j-1]\n",
        "  return total_time\n",
        "\n",
        "tot_time1 = copy.deepcopy(all_machines)\n",
        "total_times = write_tot_times(tot_time1)\n",
        "print(total_times)"
      ],
      "metadata": {
        "colab": {
          "base_uri": "https://localhost:8080/"
        },
        "id": "W9twF2QXk758",
        "outputId": "7c6622ea-8b6c-453a-a296-0f8b92224044"
      },
      "execution_count": null,
      "outputs": [
        {
          "output_type": "stream",
          "name": "stdout",
          "text": [
            "{'662': [0, 0.1818181818, 0.9034090909, 0.1363636364, 0.9034090909, 0.1363636364, 1.2045454545, 0.1818181818, 1.2045454545, 0.1818181818, 0.6022727273, 0.09090909091, 0.6022727273, 0.09090909091, 0.6022727273, 0.09090909091, 0.6022727273, 0.09090909091, 0.6022727273, 0.09090909091], 'D11-1': [0, 1.2045454545, 0.9034090909, 0.9034090909, 0.9034090909, 0.9034090909, 1.2045454545, 1.2045454545, 1.2045454545, 1.2045454545, 0.6022727273, 0.6022727273, 0.6022727273, 0.6022727273, 0.6022727273, 0.6022727273, 0.6022727273, 0.6022727273, 0.6022727273, 0.6022727273], 'D11-2': [], 'D12': [0, 7.5, 1.272727273, 0.4545454545, 0.3409090909, 5.625, 1.272727273, 0.4545454545, 0.3409090909, 5.625, 1.272727273, 0.4545454545, 0.4545454545, 7.5, 1.272727273, 0.4545454545, 0.4545454545, 7.5, 1.272727273, 0.4545454545, 0.2272727273, 3.75, 1.272727273, 0.4545454545, 0.2272727273, 3.75, 1.272727273, 0.4545454545, 0.2272727273, 3.75, 1.272727273, 0.4545454545, 0.2272727273, 3.75, 1.272727273, 0.4545454545, 0.2272727273, 3.75, 1.272727273, 0.4545454545], 'D13-1': [0, 0.4545454545, 1.0, 0.4545454545, 0.75, 0.4545454545, 0.75, 0.4545454545, 1.0, 0.4545454545, 1.0, 0.4545454545, 0.5, 0.4545454545, 0.5, 0.4545454545, 0.5, 0.4545454545, 0.5, 0.4545454545], 'D13-2': [], 'D13-3': [], 'D13-4': [], 'D15-1': [0, 0.4545454545, 0.1818181818, 0.1363636364, 0.4545454545, 0.1363636364, 0.1363636364, 0.4545454545, 0.1363636364, 0.1818181818, 0.4545454545, 0.1818181818, 0.1818181818, 0.4545454545, 0.1818181818, 0.09090909091, 0.4545454545, 0.09090909091, 0.09090909091, 0.4545454545, 0.09090909091, 0.09090909091, 0.4545454545, 0.09090909091, 0.09090909091, 0.4545454545, 0.09090909091, 0.09090909091, 0.4545454545, 0.09090909091], 'D15-2': [], 'D15-3': [], 'D17-1': [0, 3.2, 0.06818181818, 2.4, 0.06818181818, 2.4, 0.09090909091, 3.2, 0.09090909091, 3.2, 0.04545454545, 1.6, 0.04545454545, 1.6, 0.04545454545, 1.6, 0.04545454545, 1.6, 0.04545454545, 1.6], 'D17-2': [], 'D27-1': [0, 0.9034090909, 0.9034090909, 1.2045454545, 1.2045454545, 0.6022727273, 0.6022727273, 0.6022727273, 0.6022727273, 0.6022727273], 'D27-2': [], 'D27-3': [], 'D31-1': [0, 1.2045454545, 0.09090909091, 0.9034090909, 0.09090909091, 0.9034090909, 0.09090909091, 1.2045454545, 0.09090909091, 1.2045454545, 0.09090909091, 0.6022727273, 0.09090909091, 0.6022727273, 0.09090909091, 0.6022727273, 0.09090909091, 0.6022727273, 0.09090909091, 0.6022727273], 'D31-2': [], 'D31-3': [], 'D32-1': [0, 0.2727272727, 0.09090909091, 0.2727272727, 0.09090909091, 0.2727272727, 0.09090909091, 0.2727272727, 0.09090909091, 0.2727272727, 0.09090909091, 0.2727272727, 0.09090909091, 0.2727272727, 0.09090909091, 0.2727272727, 0.09090909091, 0.2727272727, 0.09090909091, 0.2727272727], 'D32-2': [], 'D32-3': [], 'D33-1': [0, 0.5454545455, 0.8181818182, 0.75, 0.5454545455, 0.8181818182, 0.75, 0.5454545455, 0.8181818182, 1.0, 0.5454545455, 0.8181818182, 1.0, 0.5454545455, 0.8181818182, 0.5, 0.5454545455, 0.8181818182, 0.5, 0.5454545455, 0.8181818182, 0.5, 0.5454545455, 0.8181818182, 0.5, 0.5454545455, 0.8181818182, 0.5, 0.5454545455, 0.8181818182], 'D33-2': [], 'D41-1': [0, 0.09090909091, 0.09090909091, 0.09090909091, 0.09090909091, 0.09090909091, 0.09090909091, 0.09090909091, 0.09090909091, 0.09090909091], 'D41-2': [], 'D43': [0, 0.06818181818, 0.06818181818, 0.09090909091, 0.09090909091, 0.04545454545, 0.04545454545, 0.04545454545, 0.04545454545, 0.04545454545], 'D44': [0, 7.5, 1.227272727, 5.625, 1.227272727, 5.625, 1.636363636, 7.5, 1.636363636, 7.5, 0.8181818182, 3.75, 0.8181818182, 3.75, 0.8181818182, 3.75, 0.8181818182, 3.75, 0.8181818182, 3.75], 'D47': [0, 0.5454545455, 0.4545454545, 0.5454545455, 0.4545454545, 0.5454545455, 0.4545454545, 0.5454545455, 0.4545454545, 0.5454545455, 0.4545454545, 0.5454545455, 0.4545454545, 0.5454545455, 0.4545454545, 0.5454545455, 0.4545454545, 0.5454545455, 0.4545454545, 0.5454545455], 'D65-1': [0, 1.5, 1.5, 2.0, 2.0, 1.0, 1.0, 1.0, 1.0, 1.0], 'D65-2': [], 'D69': [0, 0.1363636364, 0.1363636364, 0.1818181818, 0.1818181818, 0.1818181818, 0.1818181818, 0.1818181818, 0.1818181818, 0.1818181818], 'Nital Etche, Hydrojen Embr.': [0, 0.3409090909, 0.3409090909, 0.4545454545, 0.4545454545, 0.2272727273, 0.2272727273, 0.2272727273, 0.2272727273, 0.2272727273]}\n"
          ]
        }
      ]
    },
    {
      "cell_type": "markdown",
      "source": [
        "</br>      \n",
        "\n",
        "---\n",
        "   \n",
        "</br>      \n",
        "\n",
        "To do:\n",
        "  - check the processes in order across machines & give partial score when testing fitness\n",
        "    - cumulative times for each process in the chromosomes for fitness testing\n",
        "    - will need to check predecessors\n",
        "  - add sth to the genes that represent idle times & then shuffle & adjust idle time length"
      ],
      "metadata": {
        "id": "DjWTYnE7-LS_"
      }
    },
    {
      "cell_type": "code",
      "source": [
        "a_list = np.unique(np.array(df[\"Piece\"]))\n",
        "num = df[\"Piece\"].nunique(a_list[0])\n",
        "u_num = [0]*num\n",
        "for i in range(9):\n",
        "  for item in df[\"Piece\"]:\n",
        "    if item == a_list[i]: \n",
        "      u_num[i] += 1\n",
        "  print(u_num[i],\"processes for piece\",a_list[i])"
      ],
      "metadata": {
        "colab": {
          "base_uri": "https://localhost:8080/"
        },
        "id": "48Y3KvLHLgbs",
        "outputId": "227640c5-d761-4b26-cde1-b3b0b2c4fb04"
      },
      "execution_count": null,
      "outputs": [
        {
          "output_type": "stream",
          "name": "stdout",
          "text": [
            "32 processes for piece UM121T900201200 GEAR ENGINE Z35 \n",
            "32 processes for piece UM121T900201600 GEAR INTERMEDIATE Z57\n",
            "64 processes for piece UM121T900201700 GEAR Z51 \n",
            "32 processes for piece UM121T900202100 GEAR PROPELLER \n",
            "32 processes for piece UM121T900203800 Z23 \n",
            "32 processes for piece UM121T900203900 GEAR Z19 \n",
            "32 processes for piece UM121T900203900 GEAR Z19 - 2\n",
            "32 processes for piece UM121T900204300 GEAR ALTERNATOR Z13 \n",
            "32 processes for piece UM121T900204300 GEAR ALTERNATOR Z13 -2\n"
          ]
        }
      ]
    },
    {
      "cell_type": "code",
      "source": [
        "processes = []\n",
        "for i in range(num):\n",
        "  processes.append([])\n",
        "#print(processes)\n",
        "\n",
        "j = 0\n",
        "k = 0\n",
        "total = 0\n",
        "for i in range(len(u_num)):\n",
        "  total += u_num[i]\n",
        "  while j < total:\n",
        "    if j == total:\n",
        "      k += 1\n",
        "    #print(i,j,k,total,processes)\n",
        "    #print(processes[i])\n",
        "    processes[i].append(j+1)\n",
        "    j += 1\n",
        "  #print(total)\n",
        "\n",
        "for i in processes:\n",
        "  print(len(i),i)"
      ],
      "metadata": {
        "id": "weQyMGChBgny",
        "colab": {
          "base_uri": "https://localhost:8080/"
        },
        "outputId": "79fa3379-7ab6-4ea0-f33c-db598b53bfca"
      },
      "execution_count": null,
      "outputs": [
        {
          "output_type": "stream",
          "name": "stdout",
          "text": [
            "32 [1, 2, 3, 4, 5, 6, 7, 8, 9, 10, 11, 12, 13, 14, 15, 16, 17, 18, 19, 20, 21, 22, 23, 24, 25, 26, 27, 28, 29, 30, 31, 32]\n",
            "32 [33, 34, 35, 36, 37, 38, 39, 40, 41, 42, 43, 44, 45, 46, 47, 48, 49, 50, 51, 52, 53, 54, 55, 56, 57, 58, 59, 60, 61, 62, 63, 64]\n",
            "64 [65, 66, 67, 68, 69, 70, 71, 72, 73, 74, 75, 76, 77, 78, 79, 80, 81, 82, 83, 84, 85, 86, 87, 88, 89, 90, 91, 92, 93, 94, 95, 96, 97, 98, 99, 100, 101, 102, 103, 104, 105, 106, 107, 108, 109, 110, 111, 112, 113, 114, 115, 116, 117, 118, 119, 120, 121, 122, 123, 124, 125, 126, 127, 128]\n",
            "32 [129, 130, 131, 132, 133, 134, 135, 136, 137, 138, 139, 140, 141, 142, 143, 144, 145, 146, 147, 148, 149, 150, 151, 152, 153, 154, 155, 156, 157, 158, 159, 160]\n",
            "32 [161, 162, 163, 164, 165, 166, 167, 168, 169, 170, 171, 172, 173, 174, 175, 176, 177, 178, 179, 180, 181, 182, 183, 184, 185, 186, 187, 188, 189, 190, 191, 192]\n",
            "32 [193, 194, 195, 196, 197, 198, 199, 200, 201, 202, 203, 204, 205, 206, 207, 208, 209, 210, 211, 212, 213, 214, 215, 216, 217, 218, 219, 220, 221, 222, 223, 224]\n",
            "32 [225, 226, 227, 228, 229, 230, 231, 232, 233, 234, 235, 236, 237, 238, 239, 240, 241, 242, 243, 244, 245, 246, 247, 248, 249, 250, 251, 252, 253, 254, 255, 256]\n",
            "32 [257, 258, 259, 260, 261, 262, 263, 264, 265, 266, 267, 268, 269, 270, 271, 272, 273, 274, 275, 276, 277, 278, 279, 280, 281, 282, 283, 284, 285, 286, 287, 288]\n",
            "32 [289, 290, 291, 292, 293, 294, 295, 296, 297, 298, 299, 300, 301, 302, 303, 304, 305, 306, 307, 308, 309, 310, 311, 312, 313, 314, 315, 316, 317, 318, 319, 320]\n"
          ]
        }
      ]
    },
    {
      "cell_type": "code",
      "source": [
        ""
      ],
      "metadata": {
        "id": "3wTvPEnwkblk"
      },
      "execution_count": null,
      "outputs": []
    },
    {
      "cell_type": "code",
      "source": [
        "\n",
        "Srt_time =0\n",
        "\n",
        "pr_times = list(df[\"Processing time\"])\n",
        "stp_times = list(df[\"Setup\"])\n",
        "a_list = np.unique(np.array(df[\"Piece\"]))\n",
        "num = df[\"Piece\"].nunique(a_list[0])\n",
        "print(a_list)\n",
        "#print(Start_time)\n",
        "\n",
        "processes = []\n",
        "for i in range(num):\n",
        "  processes.append([])\n",
        "#print(processes)\n",
        "\n",
        "j = 0\n",
        "k = 0\n",
        "total = 0\n",
        "for i in range(len(u_num)):\n",
        "  total += u_num[i]\n",
        "  while j < total:\n",
        "    if j == total:\n",
        "      k += 1\n",
        "    #print(i,j,k,total,processes)\n",
        "    #print(processes[i])\n",
        "    processes[i].append(j+1)\n",
        "    j += 1\n",
        "  #print(total)\n",
        "\n",
        "k =0\n",
        "Devam =0 # bunu denemek amaçlı koyuyom \n",
        "\n",
        "for i in processes:\n",
        "  for j in range(len(i)):\n",
        "    Devam += 1\n",
        "    #print(Devam)\n",
        "    Srt_time += pr_times[Devam]\n",
        "    print(\"Start schedule for the\" ,j,\".\",\"job\",Srt_time)\n"
      ],
      "metadata": {
        "colab": {
          "base_uri": "https://localhost:8080/",
          "height": 1000
        },
        "id": "JrY0bKab7HBJ",
        "outputId": "3233015d-5d63-4ffe-bc82-e6e49b08b9af"
      },
      "execution_count": null,
      "outputs": [
        {
          "output_type": "stream",
          "name": "stdout",
          "text": [
            "['UM121T900201200 GEAR ENGINE Z35 '\n",
            " 'UM121T900201600 GEAR INTERMEDIATE Z57' 'UM121T900201700 GEAR Z51 '\n",
            " 'UM121T900202100 GEAR PROPELLER ' 'UM121T900203800 Z23 '\n",
            " 'UM121T900203900 GEAR Z19 ' 'UM121T900203900 GEAR Z19 - 2'\n",
            " 'UM121T900204300 GEAR ALTERNATOR Z13 '\n",
            " 'UM121T900204300 GEAR ALTERNATOR Z13 -2']\n",
            "Start schedule for the 0 . job 0.09090909090909091\n",
            "Start schedule for the 1 . job 0.6363636363636364\n",
            "Start schedule for the 2 . job 0.7272727272727273\n",
            "Start schedule for the 3 . job 1.1818181818181819\n",
            "Start schedule for the 4 . job 1.6363636363636365\n",
            "Start schedule for the 5 . job 3.272727272727273\n",
            "Start schedule for the 6 . job 3.3636363636363638\n",
            "Start schedule for the 7 . job 3.4545454545454546\n",
            "Start schedule for the 8 . job 3.909090909090909\n",
            "Start schedule for the 9 . job 5.909090909090909\n",
            "Start schedule for the 10 . job 6.363636363636363\n",
            "Start schedule for the 11 . job 6.545454545454545\n",
            "Start schedule for the 12 . job 6.999999999999999\n",
            "Start schedule for the 13 . job 7.8181818181818175\n",
            "Start schedule for the 14 . job 7.909090909090908\n",
            "Start schedule for the 15 . job 8.181818181818182\n",
            "Start schedule for the 16 . job 8.727272727272727\n",
            "Start schedule for the 17 . job 9.181818181818182\n",
            "Start schedule for the 18 . job 9.636363636363637\n",
            "Start schedule for the 19 . job 10.636363636363637\n",
            "Start schedule for the 20 . job 11.090909090909092\n",
            "Start schedule for the 21 . job 13.090909090909092\n",
            "Start schedule for the 22 . job 13.272727272727273\n",
            "Start schedule for the 23 . job 13.727272727272728\n",
            "Start schedule for the 24 . job 14.181818181818183\n",
            "Start schedule for the 25 . job 15.454545454545457\n",
            "Start schedule for the 26 . job 15.636363636363638\n",
            "Start schedule for the 27 . job 17.63636363636364\n",
            "Start schedule for the 28 . job 18.090909090909093\n",
            "Start schedule for the 29 . job 18.272727272727277\n",
            "Start schedule for the 30 . job 19.272727272727277\n",
            "Start schedule for the 31 . job 20.022727272727277\n",
            "Start schedule for the 0 . job 20.113636363636367\n",
            "Start schedule for the 1 . job 20.659090909090914\n",
            "Start schedule for the 2 . job 20.750000000000004\n",
            "Start schedule for the 3 . job 21.204545454545457\n",
            "Start schedule for the 4 . job 21.65909090909091\n",
            "Start schedule for the 5 . job 22.886363636363637\n",
            "Start schedule for the 6 . job 22.954545454545453\n",
            "Start schedule for the 7 . job 23.02272727272727\n",
            "Start schedule for the 8 . job 23.36363636363636\n",
            "Start schedule for the 9 . job 24.86363636363636\n",
            "Start schedule for the 10 . job 25.20454545454545\n",
            "Start schedule for the 11 . job 25.340909090909086\n",
            "Start schedule for the 12 . job 25.681818181818176\n",
            "Start schedule for the 13 . job 26.499999999999993\n",
            "Start schedule for the 14 . job 26.590909090909083\n",
            "Start schedule for the 15 . job 26.863636363636356\n",
            "Start schedule for the 16 . job 27.409090909090903\n",
            "Start schedule for the 17 . job 27.863636363636356\n",
            "Start schedule for the 18 . job 28.204545454545446\n",
            "Start schedule for the 19 . job 28.954545454545446\n",
            "Start schedule for the 20 . job 29.295454545454536\n",
            "Start schedule for the 21 . job 30.795454545454536\n",
            "Start schedule for the 22 . job 30.931818181818173\n",
            "Start schedule for the 23 . job 31.272727272727263\n",
            "Start schedule for the 24 . job 31.613636363636353\n",
            "Start schedule for the 25 . job 32.886363636363626\n",
            "Start schedule for the 26 . job 33.02272727272726\n",
            "Start schedule for the 27 . job 34.52272727272726\n",
            "Start schedule for the 28 . job 34.97727272727271\n",
            "Start schedule for the 29 . job 35.113636363636346\n",
            "Start schedule for the 30 . job 35.863636363636346\n",
            "Start schedule for the 31 . job 36.613636363636346\n",
            "Start schedule for the 0 . job 36.70454545454544\n",
            "Start schedule for the 1 . job 37.249999999999986\n",
            "Start schedule for the 2 . job 37.34090909090908\n",
            "Start schedule for the 3 . job 37.79545454545453\n",
            "Start schedule for the 4 . job 38.249999999999986\n",
            "Start schedule for the 5 . job 39.47727272727271\n",
            "Start schedule for the 6 . job 39.54545454545453\n",
            "Start schedule for the 7 . job 39.61363636363635\n",
            "Start schedule for the 8 . job 39.954545454545446\n",
            "Start schedule for the 9 . job 41.454545454545446\n",
            "Start schedule for the 10 . job 41.79545454545454\n",
            "Start schedule for the 11 . job 41.93181818181817\n",
            "Start schedule for the 12 . job 42.272727272727266\n",
            "Start schedule for the 13 . job 43.090909090909086\n",
            "Start schedule for the 14 . job 43.18181818181818\n",
            "Start schedule for the 15 . job 43.45454545454545\n",
            "Start schedule for the 16 . job 44.0\n",
            "Start schedule for the 17 . job 44.45454545454545\n",
            "Start schedule for the 18 . job 44.79545454545455\n",
            "Start schedule for the 19 . job 45.54545454545455\n",
            "Start schedule for the 20 . job 45.88636363636364\n",
            "Start schedule for the 21 . job 47.38636363636364\n",
            "Start schedule for the 22 . job 47.52272727272727\n",
            "Start schedule for the 23 . job 47.86363636363637\n",
            "Start schedule for the 24 . job 48.20454545454546\n",
            "Start schedule for the 25 . job 49.477272727272734\n",
            "Start schedule for the 26 . job 49.61363636363637\n",
            "Start schedule for the 27 . job 51.11363636363637\n",
            "Start schedule for the 28 . job 51.56818181818182\n",
            "Start schedule for the 29 . job 51.70454545454545\n",
            "Start schedule for the 30 . job 52.45454545454545\n",
            "Start schedule for the 31 . job 53.45454545454545\n",
            "Start schedule for the 32 . job 53.54545454545455\n",
            "Start schedule for the 33 . job 54.09090909090909\n",
            "Start schedule for the 34 . job 54.18181818181819\n",
            "Start schedule for the 35 . job 54.63636363636364\n",
            "Start schedule for the 36 . job 55.09090909090909\n",
            "Start schedule for the 37 . job 56.72727272727273\n",
            "Start schedule for the 38 . job 56.81818181818182\n",
            "Start schedule for the 39 . job 56.909090909090914\n",
            "Start schedule for the 40 . job 57.36363636363637\n",
            "Start schedule for the 41 . job 59.36363636363637\n",
            "Start schedule for the 42 . job 59.81818181818182\n",
            "Start schedule for the 43 . job 60.0\n",
            "Start schedule for the 44 . job 60.45454545454545\n",
            "Start schedule for the 45 . job 61.27272727272727\n",
            "Start schedule for the 46 . job 61.36363636363637\n",
            "Start schedule for the 47 . job 61.63636363636364\n",
            "Start schedule for the 48 . job 62.18181818181819\n",
            "Start schedule for the 49 . job 62.63636363636364\n",
            "Start schedule for the 50 . job 63.09090909090909\n",
            "Start schedule for the 51 . job 64.0909090909091\n",
            "Start schedule for the 52 . job 64.54545454545455\n",
            "Start schedule for the 53 . job 66.54545454545455\n",
            "Start schedule for the 54 . job 66.72727272727273\n",
            "Start schedule for the 55 . job 67.18181818181819\n",
            "Start schedule for the 56 . job 67.63636363636364\n",
            "Start schedule for the 57 . job 68.9090909090909\n",
            "Start schedule for the 58 . job 69.0909090909091\n",
            "Start schedule for the 59 . job 71.0909090909091\n",
            "Start schedule for the 60 . job 71.54545454545455\n",
            "Start schedule for the 61 . job 71.72727272727273\n",
            "Start schedule for the 62 . job 72.72727272727273\n",
            "Start schedule for the 63 . job 73.72727272727273\n",
            "Start schedule for the 0 . job 73.81818181818183\n",
            "Start schedule for the 1 . job 74.36363636363637\n",
            "Start schedule for the 2 . job 74.45454545454547\n",
            "Start schedule for the 3 . job 74.90909090909092\n",
            "Start schedule for the 4 . job 75.36363636363637\n",
            "Start schedule for the 5 . job 77.00000000000001\n",
            "Start schedule for the 6 . job 77.09090909090911\n",
            "Start schedule for the 7 . job 77.1818181818182\n",
            "Start schedule for the 8 . job 77.63636363636365\n",
            "Start schedule for the 9 . job 79.63636363636365\n",
            "Start schedule for the 10 . job 80.09090909090911\n",
            "Start schedule for the 11 . job 80.2727272727273\n",
            "Start schedule for the 12 . job 80.72727272727275\n",
            "Start schedule for the 13 . job 81.54545454545456\n",
            "Start schedule for the 14 . job 81.63636363636365\n",
            "Start schedule for the 15 . job 81.90909090909092\n",
            "Start schedule for the 16 . job 82.45454545454547\n",
            "Start schedule for the 17 . job 82.90909090909092\n",
            "Start schedule for the 18 . job 83.36363636363637\n",
            "Start schedule for the 19 . job 84.36363636363637\n",
            "Start schedule for the 20 . job 84.81818181818183\n",
            "Start schedule for the 21 . job 86.81818181818183\n",
            "Start schedule for the 22 . job 87.00000000000001\n",
            "Start schedule for the 23 . job 87.45454545454547\n",
            "Start schedule for the 24 . job 87.90909090909092\n",
            "Start schedule for the 25 . job 89.18181818181819\n",
            "Start schedule for the 26 . job 89.36363636363637\n",
            "Start schedule for the 27 . job 91.36363636363637\n",
            "Start schedule for the 28 . job 91.81818181818183\n",
            "Start schedule for the 29 . job 92.00000000000001\n",
            "Start schedule for the 30 . job 93.00000000000001\n",
            "Start schedule for the 31 . job 93.50000000000001\n",
            "Start schedule for the 0 . job 93.59090909090911\n",
            "Start schedule for the 1 . job 94.13636363636365\n",
            "Start schedule for the 2 . job 94.22727272727275\n",
            "Start schedule for the 3 . job 94.6818181818182\n",
            "Start schedule for the 4 . job 95.13636363636365\n",
            "Start schedule for the 5 . job 95.95454545454547\n",
            "Start schedule for the 6 . job 96.00000000000001\n",
            "Start schedule for the 7 . job 96.04545454545456\n",
            "Start schedule for the 8 . job 96.2727272727273\n",
            "Start schedule for the 9 . job 97.2727272727273\n",
            "Start schedule for the 10 . job 97.50000000000003\n",
            "Start schedule for the 11 . job 97.59090909090912\n",
            "Start schedule for the 12 . job 97.81818181818186\n",
            "Start schedule for the 13 . job 98.63636363636367\n",
            "Start schedule for the 14 . job 98.72727272727276\n",
            "Start schedule for the 15 . job 99.00000000000003\n",
            "Start schedule for the 16 . job 99.54545454545458\n",
            "Start schedule for the 17 . job 100.00000000000003\n",
            "Start schedule for the 18 . job 100.22727272727276\n",
            "Start schedule for the 19 . job 100.72727272727276\n",
            "Start schedule for the 20 . job 100.9545454545455\n",
            "Start schedule for the 21 . job 101.9545454545455\n",
            "Start schedule for the 22 . job 102.04545454545459\n",
            "Start schedule for the 23 . job 102.27272727272732\n",
            "Start schedule for the 24 . job 102.50000000000006\n",
            "Start schedule for the 25 . job 103.77272727272732\n",
            "Start schedule for the 26 . job 103.95454545454551\n",
            "Start schedule for the 27 . job 104.95454545454551\n",
            "Start schedule for the 28 . job 105.40909090909096\n",
            "Start schedule for the 29 . job 105.50000000000006\n",
            "Start schedule for the 30 . job 106.00000000000006\n",
            "Start schedule for the 31 . job 106.50000000000006\n",
            "Start schedule for the 0 . job 106.59090909090915\n",
            "Start schedule for the 1 . job 107.1363636363637\n",
            "Start schedule for the 2 . job 107.22727272727279\n",
            "Start schedule for the 3 . job 107.68181818181824\n",
            "Start schedule for the 4 . job 108.1363636363637\n",
            "Start schedule for the 5 . job 108.95454545454551\n",
            "Start schedule for the 6 . job 109.00000000000006\n",
            "Start schedule for the 7 . job 109.0454545454546\n",
            "Start schedule for the 8 . job 109.27272727272734\n",
            "Start schedule for the 9 . job 110.27272727272734\n",
            "Start schedule for the 10 . job 110.50000000000007\n",
            "Start schedule for the 11 . job 110.59090909090916\n",
            "Start schedule for the 12 . job 110.8181818181819\n",
            "Start schedule for the 13 . job 111.63636363636371\n",
            "Start schedule for the 14 . job 111.7272727272728\n",
            "Start schedule for the 15 . job 112.00000000000007\n",
            "Start schedule for the 16 . job 112.54545454545462\n",
            "Start schedule for the 17 . job 113.00000000000007\n",
            "Start schedule for the 18 . job 113.2272727272728\n",
            "Start schedule for the 19 . job 113.7272727272728\n",
            "Start schedule for the 20 . job 113.95454545454554\n",
            "Start schedule for the 21 . job 114.95454545454554\n",
            "Start schedule for the 22 . job 115.04545454545463\n",
            "Start schedule for the 23 . job 115.27272727272737\n",
            "Start schedule for the 24 . job 115.5000000000001\n",
            "Start schedule for the 25 . job 116.77272727272737\n",
            "Start schedule for the 26 . job 116.95454545454555\n",
            "Start schedule for the 27 . job 117.95454545454555\n",
            "Start schedule for the 28 . job 118.409090909091\n",
            "Start schedule for the 29 . job 118.5000000000001\n",
            "Start schedule for the 30 . job 119.0000000000001\n",
            "Start schedule for the 31 . job 119.5000000000001\n",
            "Start schedule for the 0 . job 119.5909090909092\n",
            "Start schedule for the 1 . job 120.13636363636374\n",
            "Start schedule for the 2 . job 120.22727272727283\n",
            "Start schedule for the 3 . job 120.68181818181829\n",
            "Start schedule for the 4 . job 121.13636363636374\n",
            "Start schedule for the 5 . job 121.95454545454555\n",
            "Start schedule for the 6 . job 122.0000000000001\n",
            "Start schedule for the 7 . job 122.04545454545465\n",
            "Start schedule for the 8 . job 122.27272727272738\n",
            "Start schedule for the 9 . job 123.27272727272738\n",
            "Start schedule for the 10 . job 123.50000000000011\n",
            "Start schedule for the 11 . job 123.59090909090921\n",
            "Start schedule for the 12 . job 123.81818181818194\n",
            "Start schedule for the 13 . job 124.63636363636375\n",
            "Start schedule for the 14 . job 124.72727272727285\n",
            "Start schedule for the 15 . job 125.00000000000011\n",
            "Start schedule for the 16 . job 125.54545454545466\n",
            "Start schedule for the 17 . job 126.00000000000011\n",
            "Start schedule for the 18 . job 126.22727272727285\n",
            "Start schedule for the 19 . job 126.72727272727285\n",
            "Start schedule for the 20 . job 126.95454545454558\n",
            "Start schedule for the 21 . job 127.95454545454558\n",
            "Start schedule for the 22 . job 128.04545454545467\n",
            "Start schedule for the 23 . job 128.2727272727274\n",
            "Start schedule for the 24 . job 128.5000000000001\n",
            "Start schedule for the 25 . job 129.7727272727274\n",
            "Start schedule for the 26 . job 129.95454545454558\n",
            "Start schedule for the 27 . job 130.95454545454558\n",
            "Start schedule for the 28 . job 131.40909090909105\n",
            "Start schedule for the 29 . job 131.50000000000014\n",
            "Start schedule for the 30 . job 132.00000000000014\n",
            "Start schedule for the 31 . job 132.50000000000014\n",
            "Start schedule for the 0 . job 132.59090909090924\n",
            "Start schedule for the 1 . job 133.13636363636377\n",
            "Start schedule for the 2 . job 133.22727272727286\n",
            "Start schedule for the 3 . job 133.68181818181833\n",
            "Start schedule for the 4 . job 134.1363636363638\n",
            "Start schedule for the 5 . job 134.9545454545456\n",
            "Start schedule for the 6 . job 135.00000000000014\n",
            "Start schedule for the 7 . job 135.04545454545467\n",
            "Start schedule for the 8 . job 135.2727272727274\n",
            "Start schedule for the 9 . job 136.2727272727274\n",
            "Start schedule for the 10 . job 136.5000000000001\n",
            "Start schedule for the 11 . job 136.5909090909092\n",
            "Start schedule for the 12 . job 136.81818181818193\n",
            "Start schedule for the 13 . job 137.63636363636374\n",
            "Start schedule for the 14 . job 137.72727272727283\n",
            "Start schedule for the 15 . job 138.0000000000001\n",
            "Start schedule for the 16 . job 138.54545454545465\n",
            "Start schedule for the 17 . job 139.0000000000001\n",
            "Start schedule for the 18 . job 139.22727272727283\n",
            "Start schedule for the 19 . job 139.72727272727283\n",
            "Start schedule for the 20 . job 139.95454545454555\n",
            "Start schedule for the 21 . job 140.95454545454555\n",
            "Start schedule for the 22 . job 141.04545454545465\n",
            "Start schedule for the 23 . job 141.27272727272737\n",
            "Start schedule for the 24 . job 141.50000000000009\n",
            "Start schedule for the 25 . job 142.77272727272737\n",
            "Start schedule for the 26 . job 142.95454545454555\n",
            "Start schedule for the 27 . job 143.95454545454555\n",
            "Start schedule for the 28 . job 144.40909090909102\n",
            "Start schedule for the 29 . job 144.5000000000001\n",
            "Start schedule for the 30 . job 145.0000000000001\n",
            "Start schedule for the 31 . job 145.5000000000001\n",
            "Start schedule for the 0 . job 145.5909090909092\n",
            "Start schedule for the 1 . job 146.13636363636374\n",
            "Start schedule for the 2 . job 146.22727272727283\n",
            "Start schedule for the 3 . job 146.6818181818183\n",
            "Start schedule for the 4 . job 147.13636363636377\n",
            "Start schedule for the 5 . job 147.95454545454558\n",
            "Start schedule for the 6 . job 148.0000000000001\n",
            "Start schedule for the 7 . job 148.04545454545465\n",
            "Start schedule for the 8 . job 148.27272727272737\n",
            "Start schedule for the 9 . job 149.27272727272737\n",
            "Start schedule for the 10 . job 149.50000000000009\n",
            "Start schedule for the 11 . job 149.59090909090918\n",
            "Start schedule for the 12 . job 149.8181818181819\n",
            "Start schedule for the 13 . job 150.6363636363637\n",
            "Start schedule for the 14 . job 150.7272727272728\n",
            "Start schedule for the 15 . job 151.00000000000009\n",
            "Start schedule for the 16 . job 151.54545454545462\n",
            "Start schedule for the 17 . job 152.00000000000009\n",
            "Start schedule for the 18 . job 152.2272727272728\n",
            "Start schedule for the 19 . job 152.7272727272728\n",
            "Start schedule for the 20 . job 152.95454545454552\n",
            "Start schedule for the 21 . job 153.95454545454552\n",
            "Start schedule for the 22 . job 154.04545454545462\n",
            "Start schedule for the 23 . job 154.27272727272734\n",
            "Start schedule for the 24 . job 154.50000000000006\n",
            "Start schedule for the 25 . job 155.77272727272734\n",
            "Start schedule for the 26 . job 155.95454545454552\n",
            "Start schedule for the 27 . job 156.95454545454552\n",
            "Start schedule for the 28 . job 157.409090909091\n",
            "Start schedule for the 29 . job 157.50000000000009\n",
            "Start schedule for the 30 . job 158.00000000000009\n"
          ]
        },
        {
          "output_type": "error",
          "ename": "IndexError",
          "evalue": "ignored",
          "traceback": [
            "\u001b[0;31m---------------------------------------------------------------------------\u001b[0m",
            "\u001b[0;31mIndexError\u001b[0m                                Traceback (most recent call last)",
            "\u001b[0;32m<ipython-input-42-d695e59d6a5f>\u001b[0m in \u001b[0;36m<module>\u001b[0;34m()\u001b[0m\n\u001b[1;32m     35\u001b[0m     \u001b[0mDevam\u001b[0m \u001b[0;34m+=\u001b[0m \u001b[0;36m1\u001b[0m\u001b[0;34m\u001b[0m\u001b[0;34m\u001b[0m\u001b[0m\n\u001b[1;32m     36\u001b[0m     \u001b[0;31m#print(Devam)\u001b[0m\u001b[0;34m\u001b[0m\u001b[0;34m\u001b[0m\u001b[0;34m\u001b[0m\u001b[0m\n\u001b[0;32m---> 37\u001b[0;31m     \u001b[0mSrt_time\u001b[0m \u001b[0;34m+=\u001b[0m \u001b[0mpr_times\u001b[0m\u001b[0;34m[\u001b[0m\u001b[0mDevam\u001b[0m\u001b[0;34m]\u001b[0m\u001b[0;34m\u001b[0m\u001b[0;34m\u001b[0m\u001b[0m\n\u001b[0m\u001b[1;32m     38\u001b[0m     \u001b[0mprint\u001b[0m\u001b[0;34m(\u001b[0m\u001b[0;34m\"Start schedule for the\"\u001b[0m \u001b[0;34m,\u001b[0m\u001b[0mj\u001b[0m\u001b[0;34m,\u001b[0m\u001b[0;34m\".\"\u001b[0m\u001b[0;34m,\u001b[0m\u001b[0;34m\"job\"\u001b[0m\u001b[0;34m,\u001b[0m\u001b[0mSrt_time\u001b[0m\u001b[0;34m)\u001b[0m\u001b[0;34m\u001b[0m\u001b[0;34m\u001b[0m\u001b[0m\n",
            "\u001b[0;31mIndexError\u001b[0m: list index out of range"
          ]
        }
      ]
    }
  ]
}
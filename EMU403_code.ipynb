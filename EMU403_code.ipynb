{
  "nbformat": 4,
  "nbformat_minor": 0,
  "metadata": {
    "colab": {
      "name": "EMU403_code.ipynb",
      "provenance": [],
      "collapsed_sections": [],
      "include_colab_link": true
    },
    "kernelspec": {
      "name": "python3",
      "display_name": "Python 3"
    },
    "language_info": {
      "name": "python"
    }
  },
  "cells": [
    {
      "cell_type": "markdown",
      "metadata": {
        "id": "view-in-github",
        "colab_type": "text"
      },
      "source": [
        "<a href=\"https://colab.research.google.com/github/SevilAnna/GraduationProject/blob/main/EMU403_code.ipynb\" target=\"_parent\"><img src=\"https://colab.research.google.com/assets/colab-badge.svg\" alt=\"Open In Colab\"/></a>"
      ]
    },
    {
      "cell_type": "markdown",
      "source": [
        "<h1>EMÜ 403 - Graduation Project</h1>\n",
        "\n",
        "---"
      ],
      "metadata": {
        "id": "ePsMaL4LMAZy"
      }
    },
    {
      "cell_type": "markdown",
      "source": [
        "\n",
        "<font color='red'> 🔴🔴 Kızlar 🔴🔴</font> \n",
        "</br></br>Kod üzerinde çalışacaksanız:\n",
        "- Öncelikle kodun en son versiyonunun <a href=\"https://github.com/SevilAnna/GraduationProject\">Github</a>'da olduğundan emin olun. \n",
        "- Drive'daki \"Düzenlenmiş_Dişli_Parçaları\" Excelini kendi bilgisayarınıza indirin. \n",
        "- Veriyi çekmek için aşağıdaki en az ilk 3 kutudaki kodu çalıştırın.\n",
        "- Github'a kaydederken \"main branch\"e değil, başka bir yan branch'e kaydedin.\n",
        "</br></br>- Sevil</br></br>"
      ],
      "metadata": {
        "id": "kzmKo3p4saIK"
      }
    },
    {
      "cell_type": "markdown",
      "source": [
        "## Importing Libraries & the Excel File"
      ],
      "metadata": {
        "id": "xADgo8YMFgxq"
      }
    },
    {
      "cell_type": "markdown",
      "source": [
        "### Importing libraries for the project"
      ],
      "metadata": {
        "id": "V-j53VPBBzq4"
      }
    },
    {
      "cell_type": "code",
      "source": [
        "import pandas as pd\n",
        "import numpy as np\n",
        "from numpy.random import default_rng\n",
        "rng = default_rng()\n",
        "import random\n",
        "import copy\n",
        "#!pip install geneticalgorithm\n",
        "#import geneticalgorithm as ga\n",
        "#from geneticalgorithm import geneticalgorithm as ga\n",
        "print(\"done\")"
      ],
      "metadata": {
        "id": "YCgrQU6-E8b4",
        "colab": {
          "base_uri": "https://localhost:8080/"
        },
        "outputId": "3ec15ae8-6374-4cc5-9feb-b48dd470c1f0"
      },
      "execution_count": null,
      "outputs": [
        {
          "output_type": "stream",
          "name": "stdout",
          "text": [
            "done\n"
          ]
        }
      ]
    },
    {
      "cell_type": "markdown",
      "source": [
        "### Importing the Excel file"
      ],
      "metadata": {
        "id": "F2mPwe7qB5uO"
      }
    },
    {
      "cell_type": "code",
      "execution_count": null,
      "metadata": {
        "colab": {
          "resources": {
            "http://localhost:8080/nbextensions/google.colab/files.js": {
              "data": "Ly8gQ29weXJpZ2h0IDIwMTcgR29vZ2xlIExMQwovLwovLyBMaWNlbnNlZCB1bmRlciB0aGUgQXBhY2hlIExpY2Vuc2UsIFZlcnNpb24gMi4wICh0aGUgIkxpY2Vuc2UiKTsKLy8geW91IG1heSBub3QgdXNlIHRoaXMgZmlsZSBleGNlcHQgaW4gY29tcGxpYW5jZSB3aXRoIHRoZSBMaWNlbnNlLgovLyBZb3UgbWF5IG9idGFpbiBhIGNvcHkgb2YgdGhlIExpY2Vuc2UgYXQKLy8KLy8gICAgICBodHRwOi8vd3d3LmFwYWNoZS5vcmcvbGljZW5zZXMvTElDRU5TRS0yLjAKLy8KLy8gVW5sZXNzIHJlcXVpcmVkIGJ5IGFwcGxpY2FibGUgbGF3IG9yIGFncmVlZCB0byBpbiB3cml0aW5nLCBzb2Z0d2FyZQovLyBkaXN0cmlidXRlZCB1bmRlciB0aGUgTGljZW5zZSBpcyBkaXN0cmlidXRlZCBvbiBhbiAiQVMgSVMiIEJBU0lTLAovLyBXSVRIT1VUIFdBUlJBTlRJRVMgT1IgQ09ORElUSU9OUyBPRiBBTlkgS0lORCwgZWl0aGVyIGV4cHJlc3Mgb3IgaW1wbGllZC4KLy8gU2VlIHRoZSBMaWNlbnNlIGZvciB0aGUgc3BlY2lmaWMgbGFuZ3VhZ2UgZ292ZXJuaW5nIHBlcm1pc3Npb25zIGFuZAovLyBsaW1pdGF0aW9ucyB1bmRlciB0aGUgTGljZW5zZS4KCi8qKgogKiBAZmlsZW92ZXJ2aWV3IEhlbHBlcnMgZm9yIGdvb2dsZS5jb2xhYiBQeXRob24gbW9kdWxlLgogKi8KKGZ1bmN0aW9uKHNjb3BlKSB7CmZ1bmN0aW9uIHNwYW4odGV4dCwgc3R5bGVBdHRyaWJ1dGVzID0ge30pIHsKICBjb25zdCBlbGVtZW50ID0gZG9jdW1lbnQuY3JlYXRlRWxlbWVudCgnc3BhbicpOwogIGVsZW1lbnQudGV4dENvbnRlbnQgPSB0ZXh0OwogIGZvciAoY29uc3Qga2V5IG9mIE9iamVjdC5rZXlzKHN0eWxlQXR0cmlidXRlcykpIHsKICAgIGVsZW1lbnQuc3R5bGVba2V5XSA9IHN0eWxlQXR0cmlidXRlc1trZXldOwogIH0KICByZXR1cm4gZWxlbWVudDsKfQoKLy8gTWF4IG51bWJlciBvZiBieXRlcyB3aGljaCB3aWxsIGJlIHVwbG9hZGVkIGF0IGEgdGltZS4KY29uc3QgTUFYX1BBWUxPQURfU0laRSA9IDEwMCAqIDEwMjQ7CgpmdW5jdGlvbiBfdXBsb2FkRmlsZXMoaW5wdXRJZCwgb3V0cHV0SWQpIHsKICBjb25zdCBzdGVwcyA9IHVwbG9hZEZpbGVzU3RlcChpbnB1dElkLCBvdXRwdXRJZCk7CiAgY29uc3Qgb3V0cHV0RWxlbWVudCA9IGRvY3VtZW50LmdldEVsZW1lbnRCeUlkKG91dHB1dElkKTsKICAvLyBDYWNoZSBzdGVwcyBvbiB0aGUgb3V0cHV0RWxlbWVudCB0byBtYWtlIGl0IGF2YWlsYWJsZSBmb3IgdGhlIG5leHQgY2FsbAogIC8vIHRvIHVwbG9hZEZpbGVzQ29udGludWUgZnJvbSBQeXRob24uCiAgb3V0cHV0RWxlbWVudC5zdGVwcyA9IHN0ZXBzOwoKICByZXR1cm4gX3VwbG9hZEZpbGVzQ29udGludWUob3V0cHV0SWQpOwp9CgovLyBUaGlzIGlzIHJvdWdobHkgYW4gYXN5bmMgZ2VuZXJhdG9yIChub3Qgc3VwcG9ydGVkIGluIHRoZSBicm93c2VyIHlldCksCi8vIHdoZXJlIHRoZXJlIGFyZSBtdWx0aXBsZSBhc3luY2hyb25vdXMgc3RlcHMgYW5kIHRoZSBQeXRob24gc2lkZSBpcyBnb2luZwovLyB0byBwb2xsIGZvciBjb21wbGV0aW9uIG9mIGVhY2ggc3RlcC4KLy8gVGhpcyB1c2VzIGEgUHJvbWlzZSB0byBibG9jayB0aGUgcHl0aG9uIHNpZGUgb24gY29tcGxldGlvbiBvZiBlYWNoIHN0ZXAsCi8vIHRoZW4gcGFzc2VzIHRoZSByZXN1bHQgb2YgdGhlIHByZXZpb3VzIHN0ZXAgYXMgdGhlIGlucHV0IHRvIHRoZSBuZXh0IHN0ZXAuCmZ1bmN0aW9uIF91cGxvYWRGaWxlc0NvbnRpbnVlKG91dHB1dElkKSB7CiAgY29uc3Qgb3V0cHV0RWxlbWVudCA9IGRvY3VtZW50LmdldEVsZW1lbnRCeUlkKG91dHB1dElkKTsKICBjb25zdCBzdGVwcyA9IG91dHB1dEVsZW1lbnQuc3RlcHM7CgogIGNvbnN0IG5leHQgPSBzdGVwcy5uZXh0KG91dHB1dEVsZW1lbnQubGFzdFByb21pc2VWYWx1ZSk7CiAgcmV0dXJuIFByb21pc2UucmVzb2x2ZShuZXh0LnZhbHVlLnByb21pc2UpLnRoZW4oKHZhbHVlKSA9PiB7CiAgICAvLyBDYWNoZSB0aGUgbGFzdCBwcm9taXNlIHZhbHVlIHRvIG1ha2UgaXQgYXZhaWxhYmxlIHRvIHRoZSBuZXh0CiAgICAvLyBzdGVwIG9mIHRoZSBnZW5lcmF0b3IuCiAgICBvdXRwdXRFbGVtZW50Lmxhc3RQcm9taXNlVmFsdWUgPSB2YWx1ZTsKICAgIHJldHVybiBuZXh0LnZhbHVlLnJlc3BvbnNlOwogIH0pOwp9CgovKioKICogR2VuZXJhdG9yIGZ1bmN0aW9uIHdoaWNoIGlzIGNhbGxlZCBiZXR3ZWVuIGVhY2ggYXN5bmMgc3RlcCBvZiB0aGUgdXBsb2FkCiAqIHByb2Nlc3MuCiAqIEBwYXJhbSB7c3RyaW5nfSBpbnB1dElkIEVsZW1lbnQgSUQgb2YgdGhlIGlucHV0IGZpbGUgcGlja2VyIGVsZW1lbnQuCiAqIEBwYXJhbSB7c3RyaW5nfSBvdXRwdXRJZCBFbGVtZW50IElEIG9mIHRoZSBvdXRwdXQgZGlzcGxheS4KICogQHJldHVybiB7IUl0ZXJhYmxlPCFPYmplY3Q+fSBJdGVyYWJsZSBvZiBuZXh0IHN0ZXBzLgogKi8KZnVuY3Rpb24qIHVwbG9hZEZpbGVzU3RlcChpbnB1dElkLCBvdXRwdXRJZCkgewogIGNvbnN0IGlucHV0RWxlbWVudCA9IGRvY3VtZW50LmdldEVsZW1lbnRCeUlkKGlucHV0SWQpOwogIGlucHV0RWxlbWVudC5kaXNhYmxlZCA9IGZhbHNlOwoKICBjb25zdCBvdXRwdXRFbGVtZW50ID0gZG9jdW1lbnQuZ2V0RWxlbWVudEJ5SWQob3V0cHV0SWQpOwogIG91dHB1dEVsZW1lbnQuaW5uZXJIVE1MID0gJyc7CgogIGNvbnN0IHBpY2tlZFByb21pc2UgPSBuZXcgUHJvbWlzZSgocmVzb2x2ZSkgPT4gewogICAgaW5wdXRFbGVtZW50LmFkZEV2ZW50TGlzdGVuZXIoJ2NoYW5nZScsIChlKSA9PiB7CiAgICAgIHJlc29sdmUoZS50YXJnZXQuZmlsZXMpOwogICAgfSk7CiAgfSk7CgogIGNvbnN0IGNhbmNlbCA9IGRvY3VtZW50LmNyZWF0ZUVsZW1lbnQoJ2J1dHRvbicpOwogIGlucHV0RWxlbWVudC5wYXJlbnRFbGVtZW50LmFwcGVuZENoaWxkKGNhbmNlbCk7CiAgY2FuY2VsLnRleHRDb250ZW50ID0gJ0NhbmNlbCB1cGxvYWQnOwogIGNvbnN0IGNhbmNlbFByb21pc2UgPSBuZXcgUHJvbWlzZSgocmVzb2x2ZSkgPT4gewogICAgY2FuY2VsLm9uY2xpY2sgPSAoKSA9PiB7CiAgICAgIHJlc29sdmUobnVsbCk7CiAgICB9OwogIH0pOwoKICAvLyBXYWl0IGZvciB0aGUgdXNlciB0byBwaWNrIHRoZSBmaWxlcy4KICBjb25zdCBmaWxlcyA9IHlpZWxkIHsKICAgIHByb21pc2U6IFByb21pc2UucmFjZShbcGlja2VkUHJvbWlzZSwgY2FuY2VsUHJvbWlzZV0pLAogICAgcmVzcG9uc2U6IHsKICAgICAgYWN0aW9uOiAnc3RhcnRpbmcnLAogICAgfQogIH07CgogIGNhbmNlbC5yZW1vdmUoKTsKCiAgLy8gRGlzYWJsZSB0aGUgaW5wdXQgZWxlbWVudCBzaW5jZSBmdXJ0aGVyIHBpY2tzIGFyZSBub3QgYWxsb3dlZC4KICBpbnB1dEVsZW1lbnQuZGlzYWJsZWQgPSB0cnVlOwoKICBpZiAoIWZpbGVzKSB7CiAgICByZXR1cm4gewogICAgICByZXNwb25zZTogewogICAgICAgIGFjdGlvbjogJ2NvbXBsZXRlJywKICAgICAgfQogICAgfTsKICB9CgogIGZvciAoY29uc3QgZmlsZSBvZiBmaWxlcykgewogICAgY29uc3QgbGkgPSBkb2N1bWVudC5jcmVhdGVFbGVtZW50KCdsaScpOwogICAgbGkuYXBwZW5kKHNwYW4oZmlsZS5uYW1lLCB7Zm9udFdlaWdodDogJ2JvbGQnfSkpOwogICAgbGkuYXBwZW5kKHNwYW4oCiAgICAgICAgYCgke2ZpbGUudHlwZSB8fCAnbi9hJ30pIC0gJHtmaWxlLnNpemV9IGJ5dGVzLCBgICsKICAgICAgICBgbGFzdCBtb2RpZmllZDogJHsKICAgICAgICAgICAgZmlsZS5sYXN0TW9kaWZpZWREYXRlID8gZmlsZS5sYXN0TW9kaWZpZWREYXRlLnRvTG9jYWxlRGF0ZVN0cmluZygpIDoKICAgICAgICAgICAgICAgICAgICAgICAgICAgICAgICAgICAgJ24vYSd9IC0gYCkpOwogICAgY29uc3QgcGVyY2VudCA9IHNwYW4oJzAlIGRvbmUnKTsKICAgIGxpLmFwcGVuZENoaWxkKHBlcmNlbnQpOwoKICAgIG91dHB1dEVsZW1lbnQuYXBwZW5kQ2hpbGQobGkpOwoKICAgIGNvbnN0IGZpbGVEYXRhUHJvbWlzZSA9IG5ldyBQcm9taXNlKChyZXNvbHZlKSA9PiB7CiAgICAgIGNvbnN0IHJlYWRlciA9IG5ldyBGaWxlUmVhZGVyKCk7CiAgICAgIHJlYWRlci5vbmxvYWQgPSAoZSkgPT4gewogICAgICAgIHJlc29sdmUoZS50YXJnZXQucmVzdWx0KTsKICAgICAgfTsKICAgICAgcmVhZGVyLnJlYWRBc0FycmF5QnVmZmVyKGZpbGUpOwogICAgfSk7CiAgICAvLyBXYWl0IGZvciB0aGUgZGF0YSB0byBiZSByZWFkeS4KICAgIGxldCBmaWxlRGF0YSA9IHlpZWxkIHsKICAgICAgcHJvbWlzZTogZmlsZURhdGFQcm9taXNlLAogICAgICByZXNwb25zZTogewogICAgICAgIGFjdGlvbjogJ2NvbnRpbnVlJywKICAgICAgfQogICAgfTsKCiAgICAvLyBVc2UgYSBjaHVua2VkIHNlbmRpbmcgdG8gYXZvaWQgbWVzc2FnZSBzaXplIGxpbWl0cy4gU2VlIGIvNjIxMTU2NjAuCiAgICBsZXQgcG9zaXRpb24gPSAwOwogICAgZG8gewogICAgICBjb25zdCBsZW5ndGggPSBNYXRoLm1pbihmaWxlRGF0YS5ieXRlTGVuZ3RoIC0gcG9zaXRpb24sIE1BWF9QQVlMT0FEX1NJWkUpOwogICAgICBjb25zdCBjaHVuayA9IG5ldyBVaW50OEFycmF5KGZpbGVEYXRhLCBwb3NpdGlvbiwgbGVuZ3RoKTsKICAgICAgcG9zaXRpb24gKz0gbGVuZ3RoOwoKICAgICAgY29uc3QgYmFzZTY0ID0gYnRvYShTdHJpbmcuZnJvbUNoYXJDb2RlLmFwcGx5KG51bGwsIGNodW5rKSk7CiAgICAgIHlpZWxkIHsKICAgICAgICByZXNwb25zZTogewogICAgICAgICAgYWN0aW9uOiAnYXBwZW5kJywKICAgICAgICAgIGZpbGU6IGZpbGUubmFtZSwKICAgICAgICAgIGRhdGE6IGJhc2U2NCwKICAgICAgICB9LAogICAgICB9OwoKICAgICAgbGV0IHBlcmNlbnREb25lID0gZmlsZURhdGEuYnl0ZUxlbmd0aCA9PT0gMCA/CiAgICAgICAgICAxMDAgOgogICAgICAgICAgTWF0aC5yb3VuZCgocG9zaXRpb24gLyBmaWxlRGF0YS5ieXRlTGVuZ3RoKSAqIDEwMCk7CiAgICAgIHBlcmNlbnQudGV4dENvbnRlbnQgPSBgJHtwZXJjZW50RG9uZX0lIGRvbmVgOwoKICAgIH0gd2hpbGUgKHBvc2l0aW9uIDwgZmlsZURhdGEuYnl0ZUxlbmd0aCk7CiAgfQoKICAvLyBBbGwgZG9uZS4KICB5aWVsZCB7CiAgICByZXNwb25zZTogewogICAgICBhY3Rpb246ICdjb21wbGV0ZScsCiAgICB9CiAgfTsKfQoKc2NvcGUuZ29vZ2xlID0gc2NvcGUuZ29vZ2xlIHx8IHt9OwpzY29wZS5nb29nbGUuY29sYWIgPSBzY29wZS5nb29nbGUuY29sYWIgfHwge307CnNjb3BlLmdvb2dsZS5jb2xhYi5fZmlsZXMgPSB7CiAgX3VwbG9hZEZpbGVzLAogIF91cGxvYWRGaWxlc0NvbnRpbnVlLAp9Owp9KShzZWxmKTsK",
              "ok": true,
              "headers": [
                [
                  "content-type",
                  "application/javascript"
                ]
              ],
              "status": 200,
              "status_text": ""
            }
          },
          "base_uri": "https://localhost:8080/",
          "height": 73
        },
        "id": "f0XjhQIHBo92",
        "outputId": "fd186e29-586e-4164-fdc4-b6337d735a25"
      },
      "outputs": [
        {
          "output_type": "display_data",
          "data": {
            "text/plain": [
              "<IPython.core.display.HTML object>"
            ],
            "text/html": [
              "\n",
              "     <input type=\"file\" id=\"files-92e6fd02-7701-4431-b6b5-a1931152f23d\" name=\"files[]\" multiple disabled\n",
              "        style=\"border:none\" />\n",
              "     <output id=\"result-92e6fd02-7701-4431-b6b5-a1931152f23d\">\n",
              "      Upload widget is only available when the cell has been executed in the\n",
              "      current browser session. Please rerun this cell to enable.\n",
              "      </output>\n",
              "      <script src=\"/nbextensions/google.colab/files.js\"></script> "
            ]
          },
          "metadata": {}
        },
        {
          "output_type": "stream",
          "name": "stdout",
          "text": [
            "Saving Düzenlenmiş_Dişli_Parçaları.xlsx to Düzenlenmiş_Dişli_Parçaları.xlsx\n"
          ]
        }
      ],
      "source": [
        "from google.colab import files\n",
        "uploaded = files.upload()"
      ]
    },
    {
      "cell_type": "code",
      "source": [
        "import io\n",
        "df = pd.read_excel(io.BytesIO(uploaded[\"Düzenlenmiş_Dişli_Parçaları.xlsx\"]), sheet_name='Anka', header=0)\n",
        "del df['SÜRE (11 parça için)']\n",
        "del df['1 tanesi için kaç tane gerek']\n",
        "del df['PROSES']\n",
        "del df['Process time']\n",
        "pr_num = list(range(1,len(df)+1))\n",
        "df[\"Process #\"] = pr_num\n",
        "df = df.rename(columns={'Makine':'Machine', 'İşlem':'Process', 'SETUP':'Setup', \n",
        "                    'SÜRE (1 parça için)':'Processing time', 'PARÇA':'Piece'})\n",
        "df = df.reindex(columns=['Piece','Process #','Process','Machine','Setup','Processing time'])\n",
        "df"
      ],
      "metadata": {
        "id": "Qg8qyn0RB9E7",
        "colab": {
          "base_uri": "https://localhost:8080/",
          "height": 424
        },
        "outputId": "1441890d-1f5a-40be-9127-6c10dca803a1"
      },
      "execution_count": null,
      "outputs": [
        {
          "output_type": "execute_result",
          "data": {
            "text/plain": [
              "                                      Piece  Process #  \\\n",
              "0          UM121T900201200 GEAR ENGINE Z35           1   \n",
              "1          UM121T900201200 GEAR ENGINE Z35           2   \n",
              "2          UM121T900201200 GEAR ENGINE Z35           3   \n",
              "3          UM121T900201200 GEAR ENGINE Z35           4   \n",
              "4          UM121T900201200 GEAR ENGINE Z35           5   \n",
              "..                                      ...        ...   \n",
              "315  UM121T900204300 GEAR ALTERNATOR Z13 -2        316   \n",
              "316  UM121T900204300 GEAR ALTERNATOR Z13 -2        317   \n",
              "317  UM121T900204300 GEAR ALTERNATOR Z13 -2        318   \n",
              "318  UM121T900204300 GEAR ALTERNATOR Z13 -2        319   \n",
              "319  UM121T900204300 GEAR ALTERNATOR Z13 -2        320   \n",
              "\n",
              "                           Process Machine  Setup  Processing time  \n",
              "0       Pre-Hardening Öncesi Torna     D13    0.0         1.000000  \n",
              "1                          Yıkama      D33    0.0         0.090909  \n",
              "2    Ön Sertleştirme (Isıl İşlem)      D31    0.0         0.545455  \n",
              "3                          Yıkama      D33    0.0         0.090909  \n",
              "4         Temperleme (Isıl İşlem)      D32    0.0         0.454545  \n",
              "..                             ...     ...    ...              ...  \n",
              "315                        Yıkama      D12    0.0         0.181818  \n",
              "316                         Balans     D69    0.0         1.000000  \n",
              "317                           MPI      D65    0.0         0.454545  \n",
              "318                        Yıkama      D12    0.0         0.090909  \n",
              "319                Kalite Kontrol      662    0.0         0.500000  \n",
              "\n",
              "[320 rows x 6 columns]"
            ],
            "text/html": [
              "\n",
              "  <div id=\"df-a1d565a4-b5d7-4f2a-8bbe-f23aad409542\">\n",
              "    <div class=\"colab-df-container\">\n",
              "      <div>\n",
              "<style scoped>\n",
              "    .dataframe tbody tr th:only-of-type {\n",
              "        vertical-align: middle;\n",
              "    }\n",
              "\n",
              "    .dataframe tbody tr th {\n",
              "        vertical-align: top;\n",
              "    }\n",
              "\n",
              "    .dataframe thead th {\n",
              "        text-align: right;\n",
              "    }\n",
              "</style>\n",
              "<table border=\"1\" class=\"dataframe\">\n",
              "  <thead>\n",
              "    <tr style=\"text-align: right;\">\n",
              "      <th></th>\n",
              "      <th>Piece</th>\n",
              "      <th>Process #</th>\n",
              "      <th>Process</th>\n",
              "      <th>Machine</th>\n",
              "      <th>Setup</th>\n",
              "      <th>Processing time</th>\n",
              "    </tr>\n",
              "  </thead>\n",
              "  <tbody>\n",
              "    <tr>\n",
              "      <th>0</th>\n",
              "      <td>UM121T900201200 GEAR ENGINE Z35</td>\n",
              "      <td>1</td>\n",
              "      <td>Pre-Hardening Öncesi Torna</td>\n",
              "      <td>D13</td>\n",
              "      <td>0.0</td>\n",
              "      <td>1.000000</td>\n",
              "    </tr>\n",
              "    <tr>\n",
              "      <th>1</th>\n",
              "      <td>UM121T900201200 GEAR ENGINE Z35</td>\n",
              "      <td>2</td>\n",
              "      <td>Yıkama</td>\n",
              "      <td>D33</td>\n",
              "      <td>0.0</td>\n",
              "      <td>0.090909</td>\n",
              "    </tr>\n",
              "    <tr>\n",
              "      <th>2</th>\n",
              "      <td>UM121T900201200 GEAR ENGINE Z35</td>\n",
              "      <td>3</td>\n",
              "      <td>Ön Sertleştirme (Isıl İşlem)</td>\n",
              "      <td>D31</td>\n",
              "      <td>0.0</td>\n",
              "      <td>0.545455</td>\n",
              "    </tr>\n",
              "    <tr>\n",
              "      <th>3</th>\n",
              "      <td>UM121T900201200 GEAR ENGINE Z35</td>\n",
              "      <td>4</td>\n",
              "      <td>Yıkama</td>\n",
              "      <td>D33</td>\n",
              "      <td>0.0</td>\n",
              "      <td>0.090909</td>\n",
              "    </tr>\n",
              "    <tr>\n",
              "      <th>4</th>\n",
              "      <td>UM121T900201200 GEAR ENGINE Z35</td>\n",
              "      <td>5</td>\n",
              "      <td>Temperleme (Isıl İşlem)</td>\n",
              "      <td>D32</td>\n",
              "      <td>0.0</td>\n",
              "      <td>0.454545</td>\n",
              "    </tr>\n",
              "    <tr>\n",
              "      <th>...</th>\n",
              "      <td>...</td>\n",
              "      <td>...</td>\n",
              "      <td>...</td>\n",
              "      <td>...</td>\n",
              "      <td>...</td>\n",
              "      <td>...</td>\n",
              "    </tr>\n",
              "    <tr>\n",
              "      <th>315</th>\n",
              "      <td>UM121T900204300 GEAR ALTERNATOR Z13 -2</td>\n",
              "      <td>316</td>\n",
              "      <td>Yıkama</td>\n",
              "      <td>D12</td>\n",
              "      <td>0.0</td>\n",
              "      <td>0.181818</td>\n",
              "    </tr>\n",
              "    <tr>\n",
              "      <th>316</th>\n",
              "      <td>UM121T900204300 GEAR ALTERNATOR Z13 -2</td>\n",
              "      <td>317</td>\n",
              "      <td>Balans</td>\n",
              "      <td>D69</td>\n",
              "      <td>0.0</td>\n",
              "      <td>1.000000</td>\n",
              "    </tr>\n",
              "    <tr>\n",
              "      <th>317</th>\n",
              "      <td>UM121T900204300 GEAR ALTERNATOR Z13 -2</td>\n",
              "      <td>318</td>\n",
              "      <td>MPI</td>\n",
              "      <td>D65</td>\n",
              "      <td>0.0</td>\n",
              "      <td>0.454545</td>\n",
              "    </tr>\n",
              "    <tr>\n",
              "      <th>318</th>\n",
              "      <td>UM121T900204300 GEAR ALTERNATOR Z13 -2</td>\n",
              "      <td>319</td>\n",
              "      <td>Yıkama</td>\n",
              "      <td>D12</td>\n",
              "      <td>0.0</td>\n",
              "      <td>0.090909</td>\n",
              "    </tr>\n",
              "    <tr>\n",
              "      <th>319</th>\n",
              "      <td>UM121T900204300 GEAR ALTERNATOR Z13 -2</td>\n",
              "      <td>320</td>\n",
              "      <td>Kalite Kontrol</td>\n",
              "      <td>662</td>\n",
              "      <td>0.0</td>\n",
              "      <td>0.500000</td>\n",
              "    </tr>\n",
              "  </tbody>\n",
              "</table>\n",
              "<p>320 rows × 6 columns</p>\n",
              "</div>\n",
              "      <button class=\"colab-df-convert\" onclick=\"convertToInteractive('df-a1d565a4-b5d7-4f2a-8bbe-f23aad409542')\"\n",
              "              title=\"Convert this dataframe to an interactive table.\"\n",
              "              style=\"display:none;\">\n",
              "        \n",
              "  <svg xmlns=\"http://www.w3.org/2000/svg\" height=\"24px\"viewBox=\"0 0 24 24\"\n",
              "       width=\"24px\">\n",
              "    <path d=\"M0 0h24v24H0V0z\" fill=\"none\"/>\n",
              "    <path d=\"M18.56 5.44l.94 2.06.94-2.06 2.06-.94-2.06-.94-.94-2.06-.94 2.06-2.06.94zm-11 1L8.5 8.5l.94-2.06 2.06-.94-2.06-.94L8.5 2.5l-.94 2.06-2.06.94zm10 10l.94 2.06.94-2.06 2.06-.94-2.06-.94-.94-2.06-.94 2.06-2.06.94z\"/><path d=\"M17.41 7.96l-1.37-1.37c-.4-.4-.92-.59-1.43-.59-.52 0-1.04.2-1.43.59L10.3 9.45l-7.72 7.72c-.78.78-.78 2.05 0 2.83L4 21.41c.39.39.9.59 1.41.59.51 0 1.02-.2 1.41-.59l7.78-7.78 2.81-2.81c.8-.78.8-2.07 0-2.86zM5.41 20L4 18.59l7.72-7.72 1.47 1.35L5.41 20z\"/>\n",
              "  </svg>\n",
              "      </button>\n",
              "      \n",
              "  <style>\n",
              "    .colab-df-container {\n",
              "      display:flex;\n",
              "      flex-wrap:wrap;\n",
              "      gap: 12px;\n",
              "    }\n",
              "\n",
              "    .colab-df-convert {\n",
              "      background-color: #E8F0FE;\n",
              "      border: none;\n",
              "      border-radius: 50%;\n",
              "      cursor: pointer;\n",
              "      display: none;\n",
              "      fill: #1967D2;\n",
              "      height: 32px;\n",
              "      padding: 0 0 0 0;\n",
              "      width: 32px;\n",
              "    }\n",
              "\n",
              "    .colab-df-convert:hover {\n",
              "      background-color: #E2EBFA;\n",
              "      box-shadow: 0px 1px 2px rgba(60, 64, 67, 0.3), 0px 1px 3px 1px rgba(60, 64, 67, 0.15);\n",
              "      fill: #174EA6;\n",
              "    }\n",
              "\n",
              "    [theme=dark] .colab-df-convert {\n",
              "      background-color: #3B4455;\n",
              "      fill: #D2E3FC;\n",
              "    }\n",
              "\n",
              "    [theme=dark] .colab-df-convert:hover {\n",
              "      background-color: #434B5C;\n",
              "      box-shadow: 0px 1px 3px 1px rgba(0, 0, 0, 0.15);\n",
              "      filter: drop-shadow(0px 1px 2px rgba(0, 0, 0, 0.3));\n",
              "      fill: #FFFFFF;\n",
              "    }\n",
              "  </style>\n",
              "\n",
              "      <script>\n",
              "        const buttonEl =\n",
              "          document.querySelector('#df-a1d565a4-b5d7-4f2a-8bbe-f23aad409542 button.colab-df-convert');\n",
              "        buttonEl.style.display =\n",
              "          google.colab.kernel.accessAllowed ? 'block' : 'none';\n",
              "\n",
              "        async function convertToInteractive(key) {\n",
              "          const element = document.querySelector('#df-a1d565a4-b5d7-4f2a-8bbe-f23aad409542');\n",
              "          const dataTable =\n",
              "            await google.colab.kernel.invokeFunction('convertToInteractive',\n",
              "                                                     [key], {});\n",
              "          if (!dataTable) return;\n",
              "\n",
              "          const docLinkHtml = 'Like what you see? Visit the ' +\n",
              "            '<a target=\"_blank\" href=https://colab.research.google.com/notebooks/data_table.ipynb>data table notebook</a>'\n",
              "            + ' to learn more about interactive tables.';\n",
              "          element.innerHTML = '';\n",
              "          dataTable['output_type'] = 'display_data';\n",
              "          await google.colab.output.renderOutput(dataTable, element);\n",
              "          const docLink = document.createElement('div');\n",
              "          docLink.innerHTML = docLinkHtml;\n",
              "          element.appendChild(docLink);\n",
              "        }\n",
              "      </script>\n",
              "    </div>\n",
              "  </div>\n",
              "  "
            ]
          },
          "metadata": {},
          "execution_count": 4
        }
      ]
    },
    {
      "cell_type": "markdown",
      "source": [
        "## Next steps"
      ],
      "metadata": {
        "id": "3gQeCladFZsa"
      }
    },
    {
      "cell_type": "code",
      "source": [
        "m_list = np.unique(np.array(df[\"Machine\"]))                         # Each machine needed\n",
        "m_num_list = [1, 2, 1, 4, 3, 2, 3, 3, 3, 2, 2, 1, 1, 1, 2, 1, 1]    # How many there're of each machine (done manually now; to automate later)\n",
        "print(len(m_list),m_list)\n",
        "print(len(m_num_list),m_num_list)"
      ],
      "metadata": {
        "colab": {
          "base_uri": "https://localhost:8080/"
        },
        "id": "WqMVoYmHOp-g",
        "outputId": "381660fa-b73a-4d95-b675-a4004544b01b"
      },
      "execution_count": null,
      "outputs": [
        {
          "output_type": "stream",
          "name": "stdout",
          "text": [
            "17 ['662' 'D11' 'D12' 'D13' 'D15' 'D17' 'D27' 'D31' 'D32' 'D33' 'D41' 'D43'\n",
            " 'D44' 'D47' 'D65' 'D69' 'Nital Etche, Hydrojen Embr.']\n",
            "17 [1, 2, 1, 4, 3, 2, 3, 3, 3, 2, 2, 1, 1, 1, 2, 1, 1]\n"
          ]
        }
      ]
    },
    {
      "cell_type": "code",
      "source": [
        "# creating a dictionary with each machine (including duplicates)\n",
        "all_machines = {}\n",
        "n = 0\n",
        "for m in m_list:\n",
        "  m_num = m_num_list[n]\n",
        "  if m_num > 0:\n",
        "    all_machines[m] = []\n",
        "    # Adding processes to the machines (but not to duplicates)\n",
        "    for r in range(len(df[\"Machine\"])):\n",
        "      if m == df.iloc[r][\"Machine\"]:\n",
        "        all_machines[m].append(r+1)\n",
        "  # add duplicate machines without the processes\n",
        "  if m_num > 1:\n",
        "    m1 = m+\"-1\"\n",
        "    all_machines[m1] = all_machines[m]\n",
        "    all_machines.pop(m)\n",
        "    if m_num > 1:\n",
        "      m2 = m+\"-2\"\n",
        "      all_machines[m2] = []\n",
        "    if m_num > 2:\n",
        "      m3 = m+\"-3\"\n",
        "      all_machines[m3] = []\n",
        "    if m_num > 3:\n",
        "      m4 = m+\"-4\"\n",
        "      all_machines[m4] = []   # later add more if there're 4+ of a certain machine ---> or just write a function for this \n",
        "  n += 1\n",
        "   \n",
        "for k in all_machines:\n",
        "  print(k,\"\\t\",all_machines[k])"
      ],
      "metadata": {
        "colab": {
          "base_uri": "https://localhost:8080/"
        },
        "id": "ScOeU8KWvn1S",
        "outputId": "d0540622-9dfb-4764-cd2d-db5e9294154f"
      },
      "execution_count": null,
      "outputs": [
        {
          "output_type": "stream",
          "name": "stdout",
          "text": [
            "662 \t [26, 32, 58, 64, 90, 96, 122, 128, 154, 160, 186, 192, 218, 224, 250, 256, 282, 288, 314, 320]\n",
            "D11-1 \t [11, 23, 43, 55, 75, 87, 107, 119, 139, 151, 171, 183, 203, 215, 235, 247, 267, 279, 299, 311]\n",
            "D11-2 \t []\n",
            "D12 \t [13, 24, 28, 31, 45, 56, 60, 63, 77, 88, 92, 95, 109, 120, 124, 127, 141, 152, 156, 159, 173, 184, 188, 191, 205, 216, 220, 223, 237, 248, 252, 255, 269, 280, 284, 287, 301, 312, 316, 319]\n",
            "D13-1 \t [1, 7, 33, 39, 65, 71, 97, 103, 129, 135, 161, 167, 193, 199, 225, 231, 257, 263, 289, 295]\n",
            "D13-2 \t []\n",
            "D13-3 \t []\n",
            "D13-4 \t []\n",
            "D15-1 \t [14, 20, 25, 46, 52, 57, 78, 84, 89, 110, 116, 121, 142, 148, 153, 174, 180, 185, 206, 212, 217, 238, 244, 249, 270, 276, 281, 302, 308, 313]\n",
            "D15-2 \t []\n",
            "D15-3 \t []\n",
            "D17-1 \t [10, 22, 42, 54, 74, 86, 106, 118, 138, 150, 170, 182, 202, 214, 234, 246, 266, 278, 298, 310]\n",
            "D17-2 \t []\n",
            "D27-1 \t [21, 53, 85, 117, 149, 181, 213, 245, 277, 309]\n",
            "D27-2 \t []\n",
            "D27-3 \t []\n",
            "D31-1 \t [3, 15, 35, 47, 67, 79, 99, 111, 131, 143, 163, 175, 195, 207, 227, 239, 259, 271, 291, 303]\n",
            "D31-2 \t []\n",
            "D31-3 \t []\n",
            "D32-1 \t [5, 18, 37, 50, 69, 82, 101, 114, 133, 146, 165, 178, 197, 210, 229, 242, 261, 274, 293, 306]\n",
            "D32-2 \t []\n",
            "D32-3 \t []\n",
            "D33-1 \t [2, 4, 16, 34, 36, 48, 66, 68, 80, 98, 100, 112, 130, 132, 144, 162, 164, 176, 194, 196, 208, 226, 228, 240, 258, 260, 272, 290, 292, 304]\n",
            "D33-2 \t []\n",
            "D41-1 \t [17, 49, 81, 113, 145, 177, 209, 241, 273, 305]\n",
            "D41-2 \t []\n",
            "D43 \t [9, 41, 73, 105, 137, 169, 201, 233, 265, 297]\n",
            "D44 \t [8, 12, 40, 44, 72, 76, 104, 108, 136, 140, 168, 172, 200, 204, 232, 236, 264, 268, 296, 300]\n",
            "D47 \t [6, 19, 38, 51, 70, 83, 102, 115, 134, 147, 166, 179, 198, 211, 230, 243, 262, 275, 294, 307]\n",
            "D65-1 \t [30, 62, 94, 126, 158, 190, 222, 254, 286, 318]\n",
            "D65-2 \t []\n",
            "D69 \t [29, 61, 93, 125, 157, 189, 221, 253, 285, 317]\n",
            "Nital Etche, Hydrojen Embr. \t [27, 59, 91, 123, 155, 187, 219, 251, 283, 315]\n"
          ]
        }
      ]
    },
    {
      "cell_type": "markdown",
      "source": [
        "notes for presentation:\n",
        "- we can see that D12 is a bottleneck"
      ],
      "metadata": {
        "id": "GHQbgtarC3B_"
      }
    },
    {
      "cell_type": "code",
      "source": [
        "machines = copy.deepcopy(all_machines)\n",
        "\n",
        "# initialize genetic algorithm where each gene is a machine's schedule\n",
        "num_genes = len(machines)\n",
        "num_chro = 8\n",
        "popu_size = (num_chro,num_genes)\n",
        "popu = []\n",
        "\n",
        "\n",
        "for i in range(num_chro):\n",
        "  popu.append([machines])\n",
        "\n",
        "# shuffle the order of processes in each machine/gene except for the first chromosome, and print results\n",
        "new_popu = []\n",
        "for i in range(len(popu)):\n",
        "  new_popu.append([0])\n",
        "first_one = True\n",
        "for i in range(len(popu)):\n",
        "  if first_one == False:\n",
        "    for j in popu[i]:\n",
        "      for k in j:\n",
        "        temp_l = random.sample(copy.deepcopy(list(j[k])),len(j[k]))\n",
        "        j[k] = copy.deepcopy(temp_l)\n",
        "  first_one = False\n",
        "  new_popu[i] = copy.deepcopy(popu[i])\n",
        "\n",
        "for c in new_popu:\n",
        "  print(c)"
      ],
      "metadata": {
        "colab": {
          "base_uri": "https://localhost:8080/"
        },
        "id": "69QLThuy8v3k",
        "outputId": "4958764a-a808-444f-d77d-8ea664bc382e"
      },
      "execution_count": 97,
      "outputs": [
        {
          "output_type": "stream",
          "name": "stdout",
          "text": [
            "[{'662': [26, 32, 58, 64, 90, 96, 122, 128, 154, 160, 186, 192, 218, 224, 250, 256, 282, 288, 314, 320], 'D11-1': [11, 23, 43, 55, 75, 87, 107, 119, 139, 151, 171, 183, 203, 215, 235, 247, 267, 279, 299, 311], 'D11-2': [], 'D12': [13, 24, 28, 31, 45, 56, 60, 63, 77, 88, 92, 95, 109, 120, 124, 127, 141, 152, 156, 159, 173, 184, 188, 191, 205, 216, 220, 223, 237, 248, 252, 255, 269, 280, 284, 287, 301, 312, 316, 319], 'D13-1': [1, 7, 33, 39, 65, 71, 97, 103, 129, 135, 161, 167, 193, 199, 225, 231, 257, 263, 289, 295], 'D13-2': [], 'D13-3': [], 'D13-4': [], 'D15-1': [14, 20, 25, 46, 52, 57, 78, 84, 89, 110, 116, 121, 142, 148, 153, 174, 180, 185, 206, 212, 217, 238, 244, 249, 270, 276, 281, 302, 308, 313], 'D15-2': [], 'D15-3': [], 'D17-1': [10, 22, 42, 54, 74, 86, 106, 118, 138, 150, 170, 182, 202, 214, 234, 246, 266, 278, 298, 310], 'D17-2': [], 'D27-1': [21, 53, 85, 117, 149, 181, 213, 245, 277, 309], 'D27-2': [], 'D27-3': [], 'D31-1': [3, 15, 35, 47, 67, 79, 99, 111, 131, 143, 163, 175, 195, 207, 227, 239, 259, 271, 291, 303], 'D31-2': [], 'D31-3': [], 'D32-1': [5, 18, 37, 50, 69, 82, 101, 114, 133, 146, 165, 178, 197, 210, 229, 242, 261, 274, 293, 306], 'D32-2': [], 'D32-3': [], 'D33-1': [2, 4, 16, 34, 36, 48, 66, 68, 80, 98, 100, 112, 130, 132, 144, 162, 164, 176, 194, 196, 208, 226, 228, 240, 258, 260, 272, 290, 292, 304], 'D33-2': [], 'D41-1': [17, 49, 81, 113, 145, 177, 209, 241, 273, 305], 'D41-2': [], 'D43': [9, 41, 73, 105, 137, 169, 201, 233, 265, 297], 'D44': [8, 12, 40, 44, 72, 76, 104, 108, 136, 140, 168, 172, 200, 204, 232, 236, 264, 268, 296, 300], 'D47': [6, 19, 38, 51, 70, 83, 102, 115, 134, 147, 166, 179, 198, 211, 230, 243, 262, 275, 294, 307], 'D65-1': [30, 62, 94, 126, 158, 190, 222, 254, 286, 318], 'D65-2': [], 'D69': [29, 61, 93, 125, 157, 189, 221, 253, 285, 317], 'Nital Etche, Hydrojen Embr.': [27, 59, 91, 123, 155, 187, 219, 251, 283, 315]}]\n",
            "[{'662': [90, 314, 282, 64, 192, 218, 224, 250, 256, 154, 26, 128, 32, 288, 96, 122, 58, 186, 320, 160], 'D11-1': [171, 215, 203, 23, 139, 267, 183, 247, 87, 43, 299, 75, 279, 107, 55, 151, 11, 235, 119, 311], 'D11-2': [], 'D12': [301, 31, 312, 255, 316, 159, 191, 188, 223, 56, 24, 28, 269, 120, 280, 184, 141, 60, 13, 45, 127, 95, 152, 77, 156, 88, 237, 124, 248, 220, 284, 252, 319, 109, 216, 205, 173, 287, 63, 92], 'D13-1': [129, 295, 199, 1, 161, 33, 135, 193, 231, 257, 289, 263, 167, 71, 225, 39, 7, 65, 103, 97], 'D13-2': [], 'D13-3': [], 'D13-4': [], 'D15-1': [46, 57, 302, 121, 281, 308, 185, 244, 276, 206, 89, 84, 217, 270, 313, 78, 148, 110, 249, 180, 212, 238, 52, 153, 142, 116, 174, 20, 14, 25], 'D15-2': [], 'D15-3': [], 'D17-1': [298, 10, 106, 182, 202, 310, 170, 214, 42, 118, 150, 74, 266, 234, 22, 278, 54, 138, 246, 86], 'D17-2': [], 'D27-1': [85, 277, 21, 53, 181, 245, 309, 117, 213, 149], 'D27-2': [], 'D27-3': [], 'D31-1': [163, 291, 207, 131, 67, 259, 47, 35, 3, 79, 227, 99, 195, 15, 111, 143, 175, 239, 271, 303], 'D31-2': [], 'D31-3': [], 'D32-1': [261, 242, 114, 50, 18, 82, 69, 146, 306, 293, 210, 178, 101, 5, 274, 229, 133, 165, 37, 197], 'D32-2': [], 'D32-3': [], 'D33-1': [194, 2, 292, 68, 164, 66, 226, 228, 4, 34, 258, 36, 272, 130, 112, 16, 240, 100, 208, 132, 144, 304, 98, 80, 290, 162, 48, 196, 176, 260], 'D33-2': [], 'D41-1': [113, 177, 209, 17, 49, 81, 305, 273, 241, 145], 'D41-2': [], 'D43': [265, 73, 137, 297, 169, 9, 41, 233, 105, 201], 'D44': [172, 108, 104, 136, 44, 12, 140, 232, 168, 300, 264, 268, 200, 296, 236, 8, 204, 40, 72, 76], 'D47': [198, 38, 115, 70, 307, 211, 147, 243, 134, 275, 294, 102, 230, 179, 166, 6, 51, 83, 262, 19], 'D65-1': [318, 94, 190, 158, 286, 30, 222, 126, 254, 62], 'D65-2': [], 'D69': [93, 61, 221, 285, 189, 317, 29, 157, 125, 253], 'Nital Etche, Hydrojen Embr.': [155, 27, 187, 123, 315, 219, 91, 251, 283, 59]}]\n",
            "[{'662': [32, 122, 90, 186, 288, 64, 154, 256, 218, 26, 192, 282, 96, 160, 314, 224, 320, 250, 128, 58], 'D11-1': [279, 235, 11, 119, 43, 87, 247, 151, 107, 183, 55, 139, 203, 267, 311, 23, 75, 299, 171, 215], 'D11-2': [], 'D12': [184, 56, 173, 24, 269, 63, 13, 31, 95, 45, 205, 248, 88, 127, 252, 109, 159, 216, 156, 92, 223, 319, 191, 141, 28, 316, 255, 188, 301, 152, 120, 77, 287, 220, 284, 237, 312, 280, 60, 124], 'D13-1': [71, 295, 167, 97, 225, 103, 193, 33, 39, 289, 1, 257, 7, 199, 129, 263, 65, 231, 161, 135], 'D13-2': [], 'D13-3': [], 'D13-4': [], 'D15-1': [206, 89, 185, 281, 153, 142, 57, 244, 110, 302, 270, 78, 174, 212, 313, 121, 238, 308, 84, 14, 217, 20, 25, 249, 276, 180, 52, 46, 148, 116], 'D15-2': [], 'D15-3': [], 'D17-1': [10, 278, 266, 86, 234, 22, 150, 202, 182, 138, 106, 54, 42, 170, 246, 298, 118, 214, 310, 74], 'D17-2': [], 'D27-1': [53, 85, 117, 213, 277, 181, 245, 149, 309, 21], 'D27-2': [], 'D27-3': [], 'D31-1': [67, 227, 47, 291, 163, 175, 207, 303, 35, 239, 111, 79, 99, 259, 143, 3, 271, 195, 131, 15], 'D31-2': [], 'D31-3': [], 'D32-1': [229, 178, 165, 37, 82, 114, 101, 210, 50, 133, 69, 306, 261, 242, 18, 197, 146, 5, 293, 274], 'D32-2': [], 'D32-3': [], 'D33-1': [240, 132, 112, 194, 98, 100, 4, 304, 68, 258, 66, 164, 48, 162, 2, 144, 196, 226, 176, 80, 260, 292, 34, 228, 208, 272, 36, 16, 290, 130], 'D33-2': [], 'D41-1': [49, 145, 177, 273, 241, 209, 17, 113, 305, 81], 'D41-2': [], 'D43': [201, 73, 137, 233, 297, 105, 41, 9, 265, 169], 'D44': [136, 204, 76, 300, 108, 200, 264, 232, 44, 236, 172, 72, 268, 104, 8, 40, 140, 12, 296, 168], 'D47': [307, 179, 83, 51, 166, 38, 19, 262, 230, 6, 134, 294, 70, 147, 243, 275, 102, 198, 211, 115], 'D65-1': [30, 318, 222, 94, 190, 158, 286, 62, 254, 126], 'D65-2': [], 'D69': [189, 253, 125, 157, 93, 29, 285, 61, 221, 317], 'Nital Etche, Hydrojen Embr.': [219, 91, 283, 187, 251, 27, 155, 315, 123, 59]}]\n",
            "[{'662': [192, 282, 320, 64, 122, 288, 26, 224, 90, 128, 256, 250, 160, 314, 96, 32, 154, 186, 58, 218], 'D11-1': [55, 43, 119, 23, 171, 299, 151, 75, 279, 139, 215, 87, 247, 267, 11, 107, 235, 203, 311, 183], 'D11-2': [], 'D12': [301, 287, 316, 77, 191, 220, 280, 63, 120, 188, 156, 223, 45, 92, 159, 13, 255, 31, 173, 109, 141, 56, 237, 284, 312, 252, 88, 216, 269, 248, 24, 319, 152, 28, 205, 184, 127, 124, 95, 60], 'D13-1': [7, 167, 103, 65, 295, 1, 263, 135, 39, 97, 199, 257, 129, 71, 289, 33, 231, 161, 193, 225], 'D13-2': [], 'D13-3': [], 'D13-4': [], 'D15-1': [25, 110, 180, 249, 46, 212, 313, 276, 142, 20, 174, 14, 116, 84, 238, 78, 244, 308, 206, 52, 57, 185, 121, 281, 217, 302, 89, 270, 148, 153], 'D15-2': [], 'D15-3': [], 'D17-1': [74, 202, 266, 214, 170, 234, 138, 310, 182, 106, 42, 22, 118, 86, 278, 54, 246, 10, 298, 150], 'D17-2': [], 'D27-1': [245, 181, 309, 149, 213, 117, 85, 277, 53, 21], 'D27-2': [], 'D27-3': [], 'D31-1': [239, 47, 79, 67, 207, 35, 227, 3, 175, 271, 259, 131, 143, 15, 303, 111, 291, 163, 99, 195], 'D31-2': [], 'D31-3': [], 'D32-1': [229, 306, 261, 146, 50, 37, 165, 5, 133, 114, 69, 18, 197, 242, 101, 82, 274, 178, 293, 210], 'D32-2': [], 'D32-3': [], 'D33-1': [16, 228, 36, 4, 68, 258, 196, 100, 272, 290, 176, 144, 80, 66, 208, 164, 98, 130, 2, 34, 226, 48, 162, 304, 260, 240, 112, 292, 194, 132], 'D33-2': [], 'D41-1': [177, 49, 113, 209, 81, 145, 273, 17, 241, 305], 'D41-2': [], 'D43': [169, 41, 233, 201, 265, 137, 9, 297, 105, 73], 'D44': [232, 76, 300, 104, 204, 44, 8, 140, 236, 296, 200, 172, 136, 72, 108, 264, 168, 12, 268, 40], 'D47': [115, 294, 83, 243, 262, 166, 179, 230, 134, 102, 70, 19, 51, 275, 38, 147, 6, 198, 307, 211], 'D65-1': [126, 158, 318, 222, 62, 94, 254, 30, 190, 286], 'D65-2': [], 'D69': [285, 221, 125, 93, 317, 189, 29, 61, 157, 253], 'Nital Etche, Hydrojen Embr.': [123, 251, 27, 219, 315, 59, 187, 91, 155, 283]}]\n",
            "[{'662': [250, 90, 186, 160, 256, 122, 26, 224, 320, 64, 218, 314, 288, 96, 58, 32, 192, 154, 282, 128], 'D11-1': [11, 279, 235, 119, 107, 151, 311, 139, 43, 299, 23, 267, 87, 247, 75, 55, 171, 203, 215, 183], 'D11-2': [], 'D12': [255, 191, 28, 319, 287, 312, 216, 88, 284, 237, 45, 301, 316, 223, 173, 127, 95, 269, 156, 205, 184, 77, 60, 120, 188, 124, 92, 13, 152, 248, 252, 56, 63, 159, 141, 280, 220, 24, 109, 31], 'D13-1': [193, 7, 199, 103, 39, 289, 167, 135, 71, 65, 97, 263, 1, 129, 231, 257, 161, 295, 33, 225], 'D13-2': [], 'D13-3': [], 'D13-4': [], 'D15-1': [276, 148, 142, 270, 25, 302, 121, 57, 313, 238, 217, 249, 212, 174, 185, 116, 78, 308, 244, 84, 180, 89, 206, 281, 14, 52, 110, 153, 46, 20], 'D15-2': [], 'D15-3': [], 'D17-1': [150, 182, 202, 10, 118, 74, 298, 214, 22, 106, 86, 310, 54, 234, 42, 266, 138, 278, 246, 170], 'D17-2': [], 'D27-1': [309, 21, 277, 181, 53, 245, 117, 213, 85, 149], 'D27-2': [], 'D27-3': [], 'D31-1': [303, 143, 207, 271, 227, 259, 15, 175, 163, 111, 131, 35, 195, 67, 3, 99, 47, 239, 291, 79], 'D31-2': [], 'D31-3': [], 'D32-1': [133, 146, 82, 274, 18, 306, 242, 165, 114, 293, 261, 5, 210, 50, 178, 69, 229, 101, 37, 197], 'D32-2': [], 'D32-3': [], 'D33-1': [228, 68, 272, 48, 292, 100, 36, 208, 164, 34, 4, 112, 162, 196, 98, 226, 2, 258, 66, 16, 80, 304, 260, 144, 176, 240, 194, 290, 132, 130], 'D33-2': [], 'D41-1': [113, 209, 145, 49, 177, 305, 17, 241, 81, 273], 'D41-2': [], 'D43': [137, 105, 201, 265, 297, 233, 73, 9, 169, 41], 'D44': [140, 12, 8, 296, 268, 40, 204, 108, 236, 264, 104, 72, 76, 44, 232, 168, 200, 300, 172, 136], 'D47': [102, 147, 38, 19, 262, 307, 230, 166, 243, 198, 134, 179, 275, 211, 294, 83, 70, 115, 51, 6], 'D65-1': [30, 254, 222, 286, 318, 94, 62, 190, 126, 158], 'D65-2': [], 'D69': [253, 285, 29, 93, 61, 125, 157, 221, 189, 317], 'Nital Etche, Hydrojen Embr.': [91, 315, 219, 155, 283, 187, 27, 251, 123, 59]}]\n",
            "[{'662': [58, 128, 192, 32, 224, 256, 314, 64, 250, 154, 282, 186, 122, 96, 90, 160, 320, 26, 288, 218], 'D11-1': [279, 23, 203, 75, 171, 235, 107, 311, 151, 119, 55, 215, 11, 139, 247, 299, 183, 267, 87, 43], 'D11-2': [], 'D12': [284, 287, 156, 88, 141, 109, 24, 124, 120, 319, 95, 191, 205, 45, 127, 316, 237, 252, 301, 77, 280, 63, 269, 312, 248, 31, 92, 152, 255, 159, 28, 188, 56, 220, 173, 184, 216, 60, 13, 223], 'D13-1': [71, 39, 129, 289, 225, 193, 161, 231, 167, 65, 103, 33, 135, 97, 263, 295, 257, 199, 1, 7], 'D13-2': [], 'D13-3': [], 'D13-4': [], 'D15-1': [89, 148, 174, 185, 110, 153, 121, 25, 206, 212, 116, 249, 46, 276, 180, 238, 217, 308, 142, 84, 270, 244, 313, 78, 302, 57, 20, 14, 52, 281], 'D15-2': [], 'D15-3': [], 'D17-1': [86, 234, 138, 106, 266, 42, 74, 170, 278, 298, 10, 202, 246, 150, 214, 54, 22, 118, 182, 310], 'D17-2': [], 'D27-1': [213, 117, 149, 245, 85, 309, 21, 277, 181, 53], 'D27-2': [], 'D27-3': [], 'D31-1': [291, 111, 271, 227, 163, 79, 239, 143, 15, 195, 3, 47, 67, 35, 207, 131, 259, 99, 303, 175], 'D31-2': [], 'D31-3': [], 'D32-1': [293, 5, 18, 274, 37, 306, 69, 50, 229, 101, 210, 133, 146, 197, 165, 178, 114, 242, 82, 261], 'D32-2': [], 'D32-3': [], 'D33-1': [68, 66, 292, 144, 260, 16, 304, 34, 36, 196, 258, 164, 162, 100, 272, 290, 4, 132, 98, 194, 226, 2, 176, 208, 112, 80, 48, 228, 240, 130], 'D33-2': [], 'D41-1': [273, 81, 17, 49, 209, 305, 177, 145, 241, 113], 'D41-2': [], 'D43': [137, 297, 169, 105, 73, 201, 265, 41, 9, 233], 'D44': [44, 140, 232, 136, 104, 268, 236, 72, 40, 300, 204, 264, 172, 168, 108, 12, 76, 296, 8, 200], 'D47': [230, 115, 166, 70, 134, 243, 147, 6, 198, 307, 211, 51, 262, 83, 275, 38, 179, 19, 294, 102], 'D65-1': [126, 190, 158, 286, 318, 222, 62, 94, 254, 30], 'D65-2': [], 'D69': [125, 285, 189, 317, 221, 29, 61, 253, 157, 93], 'Nital Etche, Hydrojen Embr.': [219, 27, 155, 283, 123, 91, 251, 315, 59, 187]}]\n",
            "[{'662': [288, 192, 186, 256, 90, 58, 154, 314, 128, 250, 96, 64, 320, 282, 32, 160, 26, 224, 218, 122], 'D11-1': [151, 299, 139, 119, 43, 23, 235, 183, 247, 203, 11, 55, 215, 75, 267, 171, 311, 107, 87, 279], 'D11-2': [], 'D12': [24, 312, 77, 109, 316, 13, 56, 141, 284, 269, 31, 92, 127, 159, 120, 205, 60, 173, 184, 252, 255, 88, 152, 280, 220, 301, 45, 223, 95, 191, 156, 248, 237, 188, 28, 319, 287, 124, 216, 63], 'D13-1': [39, 7, 161, 33, 1, 167, 135, 225, 129, 257, 193, 97, 263, 103, 289, 199, 65, 231, 71, 295], 'D13-2': [], 'D13-3': [], 'D13-4': [], 'D15-1': [313, 46, 78, 270, 110, 25, 142, 52, 14, 89, 180, 281, 212, 238, 148, 153, 308, 84, 57, 276, 302, 174, 185, 116, 206, 217, 20, 249, 121, 244], 'D15-2': [], 'D15-3': [], 'D17-1': [310, 170, 54, 86, 202, 278, 150, 10, 266, 298, 118, 42, 22, 182, 214, 138, 246, 234, 106, 74], 'D17-2': [], 'D27-1': [53, 21, 85, 309, 277, 213, 149, 181, 245, 117], 'D27-2': [], 'D27-3': [], 'D31-1': [143, 47, 303, 111, 259, 15, 195, 163, 35, 79, 3, 271, 131, 175, 291, 99, 239, 227, 67, 207], 'D31-2': [], 'D31-3': [], 'D32-1': [293, 69, 306, 18, 165, 82, 5, 133, 210, 114, 242, 37, 229, 50, 101, 197, 274, 178, 146, 261], 'D32-2': [], 'D32-3': [], 'D33-1': [292, 100, 2, 164, 80, 144, 132, 36, 130, 290, 176, 48, 4, 194, 162, 16, 304, 112, 68, 66, 240, 34, 226, 228, 98, 260, 196, 272, 258, 208], 'D33-2': [], 'D41-1': [241, 81, 177, 113, 305, 17, 49, 273, 209, 145], 'D41-2': [], 'D43': [169, 9, 73, 137, 105, 265, 41, 201, 233, 297], 'D44': [172, 72, 136, 12, 104, 108, 76, 200, 236, 204, 168, 40, 232, 268, 8, 296, 44, 140, 300, 264], 'D47': [179, 211, 230, 115, 134, 294, 262, 51, 38, 70, 275, 198, 6, 19, 147, 83, 243, 307, 166, 102], 'D65-1': [222, 190, 126, 254, 94, 286, 62, 158, 30, 318], 'D65-2': [], 'D69': [189, 157, 285, 93, 29, 317, 221, 125, 61, 253], 'Nital Etche, Hydrojen Embr.': [27, 315, 155, 283, 123, 59, 251, 91, 187, 219]}]\n",
            "[{'662': [282, 26, 288, 64, 250, 186, 32, 90, 96, 218, 154, 224, 314, 122, 128, 160, 256, 192, 320, 58], 'D11-1': [247, 311, 43, 11, 55, 215, 171, 183, 107, 267, 151, 279, 23, 75, 235, 299, 87, 139, 203, 119], 'D11-2': [], 'D12': [216, 173, 127, 205, 269, 88, 109, 316, 184, 252, 188, 223, 284, 92, 152, 60, 220, 56, 120, 45, 287, 124, 13, 319, 31, 159, 24, 312, 28, 280, 248, 95, 255, 141, 77, 301, 191, 63, 156, 237], 'D13-1': [39, 7, 129, 65, 161, 289, 263, 103, 167, 295, 33, 225, 97, 135, 193, 231, 257, 1, 71, 199], 'D13-2': [], 'D13-3': [], 'D13-4': [], 'D15-1': [57, 281, 276, 206, 212, 20, 244, 116, 121, 308, 185, 25, 270, 174, 89, 14, 238, 153, 110, 78, 46, 302, 217, 52, 180, 249, 313, 84, 148, 142], 'D15-2': [], 'D15-3': [], 'D17-1': [106, 266, 22, 42, 54, 10, 86, 298, 278, 118, 138, 310, 214, 170, 234, 150, 202, 182, 246, 74], 'D17-2': [], 'D27-1': [53, 309, 21, 245, 85, 117, 181, 149, 277, 213], 'D27-2': [], 'D27-3': [], 'D31-1': [3, 99, 291, 163, 47, 35, 227, 271, 131, 195, 15, 207, 143, 175, 259, 239, 67, 303, 79, 111], 'D31-2': [], 'D31-3': [], 'D32-1': [50, 293, 274, 210, 306, 37, 165, 114, 229, 146, 261, 18, 69, 101, 178, 197, 133, 5, 242, 82], 'D32-2': [], 'D32-3': [], 'D33-1': [260, 144, 176, 194, 196, 48, 240, 304, 226, 66, 228, 98, 258, 272, 34, 208, 112, 130, 2, 164, 290, 16, 292, 4, 36, 132, 80, 100, 162, 68], 'D33-2': [], 'D41-1': [49, 209, 81, 177, 273, 305, 145, 241, 17, 113], 'D41-2': [], 'D43': [201, 73, 265, 137, 169, 233, 297, 9, 41, 105], 'D44': [44, 140, 236, 108, 12, 76, 200, 40, 104, 268, 204, 264, 232, 300, 8, 168, 72, 296, 172, 136], 'D47': [115, 70, 6, 166, 147, 262, 38, 83, 294, 307, 230, 243, 275, 198, 102, 51, 179, 134, 211, 19], 'D65-1': [190, 126, 94, 286, 318, 62, 254, 222, 158, 30], 'D65-2': [], 'D69': [189, 317, 285, 93, 221, 29, 157, 125, 253, 61], 'Nital Etche, Hydrojen Embr.': [187, 59, 155, 251, 27, 123, 91, 219, 283, 315]}]\n"
          ]
        }
      ]
    },
    {
      "cell_type": "code",
      "source": [
        "pr_times = list(df[\"Processing time\"])\n",
        "stp_times = list(df[\"Setup\"])\n",
        "print(pr_times)\n",
        "#print(stp_times)\n",
        "#print(max(pr_times))\n",
        "#print(max(stp_times))"
      ],
      "metadata": {
        "id": "jGeyWlqCKJTg",
        "colab": {
          "base_uri": "https://localhost:8080/"
        },
        "outputId": "829465cb-a88f-4529-c0b2-392abf894e75"
      },
      "execution_count": 61,
      "outputs": [
        {
          "output_type": "stream",
          "name": "stdout",
          "text": [
            "[1.0, 0.09090909091, 0.5454545455, 0.09090909091, 0.4545454545, 0.4545454545, 1.636363636, 0.09090909091, 0.09090909091, 0.4545454545, 2.0, 0.4545454545, 0.1818181818, 0.4545454545, 0.8181818182, 0.09090909091, 0.2727272727, 0.5454545455, 0.4545454545, 0.4545454545, 1.0, 0.4545454545, 2.0, 0.1818181818, 0.4545454545, 0.4545454545, 1.272727273, 0.1818181818, 2.0, 0.4545454545, 0.1818181818, 1.0, 0.75, 0.09090909091, 0.5454545455, 0.09090909091, 0.4545454545, 0.4545454545, 1.227272727, 0.06818181818, 0.06818181818, 0.3409090909, 1.5, 0.3409090909, 0.1363636364, 0.3409090909, 0.8181818182, 0.09090909091, 0.2727272727, 0.5454545455, 0.4545454545, 0.3409090909, 0.75, 0.3409090909, 1.5, 0.1363636364, 0.3409090909, 0.3409090909, 1.272727273, 0.1363636364, 1.5, 0.4545454545, 0.1363636364, 0.75, 0.75, 0.09090909091, 0.5454545455, 0.09090909091, 0.4545454545, 0.4545454545, 1.227272727, 0.06818181818, 0.06818181818, 0.3409090909, 1.5, 0.3409090909, 0.1363636364, 0.3409090909, 0.8181818182, 0.09090909091, 0.2727272727, 0.5454545455, 0.4545454545, 0.3409090909, 0.75, 0.3409090909, 1.5, 0.1363636364, 0.3409090909, 0.3409090909, 1.272727273, 0.1363636364, 1.5, 0.4545454545, 0.1363636364, 0.75, 1.0, 0.09090909091, 0.5454545455, 0.09090909091, 0.4545454545, 0.4545454545, 1.636363636, 0.09090909091, 0.09090909091, 0.4545454545, 2.0, 0.4545454545, 0.1818181818, 0.4545454545, 0.8181818182, 0.09090909091, 0.2727272727, 0.5454545455, 0.4545454545, 0.4545454545, 1.0, 0.4545454545, 2.0, 0.1818181818, 0.4545454545, 0.4545454545, 1.272727273, 0.1818181818, 2.0, 0.4545454545, 0.1818181818, 1.0, 1.0, 0.09090909091, 0.5454545455, 0.09090909091, 0.4545454545, 0.4545454545, 1.636363636, 0.09090909091, 0.09090909091, 0.4545454545, 2.0, 0.4545454545, 0.1818181818, 0.4545454545, 0.8181818182, 0.09090909091, 0.2727272727, 0.5454545455, 0.4545454545, 0.4545454545, 1.0, 0.4545454545, 2.0, 0.1818181818, 0.4545454545, 0.4545454545, 1.272727273, 0.1818181818, 2.0, 0.4545454545, 0.1818181818, 1.0, 0.5, 0.09090909091, 0.5454545455, 0.09090909091, 0.4545454545, 0.4545454545, 0.8181818182, 0.04545454545, 0.04545454545, 0.2272727273, 1.0, 0.2272727273, 0.09090909091, 0.2272727273, 0.8181818182, 0.09090909091, 0.2727272727, 0.5454545455, 0.4545454545, 0.2272727273, 0.5, 0.2272727273, 1.0, 0.09090909091, 0.2272727273, 0.2272727273, 1.272727273, 0.1818181818, 1.0, 0.4545454545, 0.09090909091, 0.5, 0.5, 0.09090909091, 0.5454545455, 0.09090909091, 0.4545454545, 0.4545454545, 0.8181818182, 0.04545454545, 0.04545454545, 0.2272727273, 1.0, 0.2272727273, 0.09090909091, 0.2272727273, 0.8181818182, 0.09090909091, 0.2727272727, 0.5454545455, 0.4545454545, 0.2272727273, 0.5, 0.2272727273, 1.0, 0.09090909091, 0.2272727273, 0.2272727273, 1.272727273, 0.1818181818, 1.0, 0.4545454545, 0.09090909091, 0.5, 0.5, 0.09090909091, 0.5454545455, 0.09090909091, 0.4545454545, 0.4545454545, 0.8181818182, 0.04545454545, 0.04545454545, 0.2272727273, 1.0, 0.2272727273, 0.09090909091, 0.2272727273, 0.8181818182, 0.09090909091, 0.2727272727, 0.5454545455, 0.4545454545, 0.2272727273, 0.5, 0.2272727273, 1.0, 0.09090909091, 0.2272727273, 0.2272727273, 1.272727273, 0.1818181818, 1.0, 0.4545454545, 0.09090909091, 0.5, 0.5, 0.09090909091, 0.5454545455, 0.09090909091, 0.4545454545, 0.4545454545, 0.8181818182, 0.04545454545, 0.04545454545, 0.2272727273, 1.0, 0.2272727273, 0.09090909091, 0.2272727273, 0.8181818182, 0.09090909091, 0.2727272727, 0.5454545455, 0.4545454545, 0.2272727273, 0.5, 0.2272727273, 1.0, 0.09090909091, 0.2272727273, 0.2272727273, 1.272727273, 0.1818181818, 1.0, 0.4545454545, 0.09090909091, 0.5, 0.5, 0.09090909091, 0.5454545455, 0.09090909091, 0.4545454545, 0.4545454545, 0.8181818182, 0.04545454545, 0.04545454545, 0.2272727273, 1.0, 0.2272727273, 0.09090909091, 0.2272727273, 0.8181818182, 0.09090909091, 0.2727272727, 0.5454545455, 0.4545454545, 0.2272727273, 0.5, 0.2272727273, 1.0, 0.09090909091, 0.2272727273, 0.2272727273, 1.272727273, 0.1818181818, 1.0, 0.4545454545, 0.09090909091, 0.5]\n"
          ]
        }
      ]
    },
    {
      "cell_type": "code",
      "source": [
        "# function to write the durations for each process in a chromosome\n",
        "def write_process_times(m_pr_time):\n",
        "  for m in m_pr_time:\n",
        "    for i in range(len(m_pr_time[m])):\n",
        "      for j in range(len(pr_times)):\n",
        "        if m_pr_time[m][i] == j+1:\n",
        "          m_pr_time[m][i] = pr_times[j]\n",
        "  return m_pr_time\n",
        "\n",
        "#test\n",
        "m_pr_time1 = copy.deepcopy(all_machines)\n",
        "print(write_process_times(m_pr_time1))"
      ],
      "metadata": {
        "id": "31NOzjXMS60-",
        "colab": {
          "base_uri": "https://localhost:8080/"
        },
        "outputId": "8f3a24e7-f1f5-44bb-ff25-403a3a4b4ca2"
      },
      "execution_count": 59,
      "outputs": [
        {
          "output_type": "stream",
          "name": "stdout",
          "text": [
            "{'662': [0.4545454545, 1.0, 0.3409090909, 0.75, 0.3409090909, 0.75, 0.4545454545, 1.0, 0.4545454545, 1.0, 0.2272727273, 0.5, 0.2272727273, 0.5, 0.2272727273, 0.5, 0.2272727273, 0.5, 0.2272727273, 0.5], 'D11-1': [2.0, 2.0, 1.5, 1.5, 1.5, 1.5, 2.0, 2.0, 2.0, 2.0, 1.0, 1.0, 1.0, 1.0, 1.0, 1.0, 1.0, 1.0, 1.0, 1.0], 'D11-2': [], 'D12': [0.1818181818, 0.1818181818, 0.1818181818, 0.1818181818, 0.1363636364, 0.1363636364, 0.1363636364, 0.1363636364, 0.1363636364, 0.1363636364, 0.1363636364, 0.1363636364, 0.1818181818, 0.1818181818, 0.1818181818, 0.1818181818, 0.1818181818, 0.1818181818, 0.1818181818, 0.1818181818, 0.09090909091, 0.09090909091, 0.1818181818, 0.09090909091, 0.09090909091, 0.09090909091, 0.1818181818, 0.09090909091, 0.09090909091, 0.09090909091, 0.1818181818, 0.09090909091, 0.09090909091, 0.09090909091, 0.1818181818, 0.09090909091, 0.09090909091, 0.09090909091, 0.1818181818, 0.09090909091], 'D13-1': [1.0, 1.636363636, 0.75, 1.227272727, 0.75, 1.227272727, 1.0, 1.636363636, 1.0, 1.636363636, 0.5, 0.8181818182, 0.5, 0.8181818182, 0.5, 0.8181818182, 0.5, 0.8181818182, 0.5, 0.8181818182], 'D13-2': [], 'D13-3': [], 'D13-4': [], 'D15-1': [0.4545454545, 0.4545454545, 0.4545454545, 0.3409090909, 0.3409090909, 0.3409090909, 0.3409090909, 0.3409090909, 0.3409090909, 0.4545454545, 0.4545454545, 0.4545454545, 0.4545454545, 0.4545454545, 0.4545454545, 0.2272727273, 0.2272727273, 0.2272727273, 0.2272727273, 0.2272727273, 0.2272727273, 0.2272727273, 0.2272727273, 0.2272727273, 0.2272727273, 0.2272727273, 0.2272727273, 0.2272727273, 0.2272727273, 0.2272727273], 'D15-2': [], 'D15-3': [], 'D17-1': [0.4545454545, 0.4545454545, 0.3409090909, 0.3409090909, 0.3409090909, 0.3409090909, 0.4545454545, 0.4545454545, 0.4545454545, 0.4545454545, 0.2272727273, 0.2272727273, 0.2272727273, 0.2272727273, 0.2272727273, 0.2272727273, 0.2272727273, 0.2272727273, 0.2272727273, 0.2272727273], 'D17-2': [], 'D27-1': [1.0, 0.75, 0.75, 1.0, 1.0, 0.5, 0.5, 0.5, 0.5, 0.5], 'D27-2': [], 'D27-3': [], 'D31-1': [0.5454545455, 0.8181818182, 0.5454545455, 0.8181818182, 0.5454545455, 0.8181818182, 0.5454545455, 0.8181818182, 0.5454545455, 0.8181818182, 0.5454545455, 0.8181818182, 0.5454545455, 0.8181818182, 0.5454545455, 0.8181818182, 0.5454545455, 0.8181818182, 0.5454545455, 0.8181818182], 'D31-2': [], 'D31-3': [], 'D32-1': [0.4545454545, 0.5454545455, 0.4545454545, 0.5454545455, 0.4545454545, 0.5454545455, 0.4545454545, 0.5454545455, 0.4545454545, 0.5454545455, 0.4545454545, 0.5454545455, 0.4545454545, 0.5454545455, 0.4545454545, 0.5454545455, 0.4545454545, 0.5454545455, 0.4545454545, 0.5454545455], 'D32-2': [], 'D32-3': [], 'D33-1': [0.09090909091, 0.09090909091, 0.09090909091, 0.09090909091, 0.09090909091, 0.09090909091, 0.09090909091, 0.09090909091, 0.09090909091, 0.09090909091, 0.09090909091, 0.09090909091, 0.09090909091, 0.09090909091, 0.09090909091, 0.09090909091, 0.09090909091, 0.09090909091, 0.09090909091, 0.09090909091, 0.09090909091, 0.09090909091, 0.09090909091, 0.09090909091, 0.09090909091, 0.09090909091, 0.09090909091, 0.09090909091, 0.09090909091, 0.09090909091], 'D33-2': [], 'D41-1': [0.2727272727, 0.2727272727, 0.2727272727, 0.2727272727, 0.2727272727, 0.2727272727, 0.2727272727, 0.2727272727, 0.2727272727, 0.2727272727], 'D41-2': [], 'D43': [0.09090909091, 0.06818181818, 0.06818181818, 0.09090909091, 0.09090909091, 0.04545454545, 0.04545454545, 0.04545454545, 0.04545454545, 0.04545454545], 'D44': [0.09090909091, 0.4545454545, 0.06818181818, 0.3409090909, 0.06818181818, 0.3409090909, 0.09090909091, 0.4545454545, 0.09090909091, 0.4545454545, 0.04545454545, 0.2272727273, 0.04545454545, 0.2272727273, 0.04545454545, 0.2272727273, 0.04545454545, 0.2272727273, 0.04545454545, 0.2272727273], 'D47': [0.4545454545, 0.4545454545, 0.4545454545, 0.4545454545, 0.4545454545, 0.4545454545, 0.4545454545, 0.4545454545, 0.4545454545, 0.4545454545, 0.4545454545, 0.4545454545, 0.4545454545, 0.4545454545, 0.4545454545, 0.4545454545, 0.4545454545, 0.4545454545, 0.4545454545, 0.4545454545], 'D65-1': [0.4545454545, 0.4545454545, 0.4545454545, 0.4545454545, 0.4545454545, 0.4545454545, 0.4545454545, 0.4545454545, 0.4545454545, 0.4545454545], 'D65-2': [], 'D69': [2.0, 1.5, 1.5, 2.0, 2.0, 1.0, 1.0, 1.0, 1.0, 1.0], 'Nital Etche, Hydrojen Embr.': [1.272727273, 1.272727273, 1.272727273, 1.272727273, 1.272727273, 1.272727273, 1.272727273, 1.272727273, 1.272727273, 1.272727273]}\n"
          ]
        }
      ]
    },
    {
      "cell_type": "markdown",
      "source": [
        "</br>      \n",
        "\n",
        "---\n",
        "   \n",
        "</br>      \n",
        "\n",
        "To do:\n",
        "  - check the processes in order across machines & give partial score when testing fitness\n",
        "    - cumulative times for each process in the chromosomes for fitness testing\n",
        "    - will need to check predecessors\n",
        "  - add sth to the genes that represent idle times & then shuffle & adjust idle time length"
      ],
      "metadata": {
        "id": "DjWTYnE7-LS_"
      }
    },
    {
      "cell_type": "code",
      "source": [
        "a_list = np.unique(np.array(df[\"Piece\"]))\n",
        "num = df[\"Piece\"].nunique(a_list[0])\n",
        "u_num = [0]*num\n",
        "for i in range(9):\n",
        "  for item in df[\"Piece\"]:\n",
        "    if item == a_list[i]: \n",
        "      u_num[i] += 1\n",
        "  print(u_num[i],\"processes for piece\",a_list[i])"
      ],
      "metadata": {
        "colab": {
          "base_uri": "https://localhost:8080/"
        },
        "id": "48Y3KvLHLgbs",
        "outputId": "6a3f0f16-e0d6-47c6-c09b-b38fd7f0317b"
      },
      "execution_count": null,
      "outputs": [
        {
          "output_type": "stream",
          "name": "stdout",
          "text": [
            "32 processes for piece UM121T900201200 GEAR ENGINE Z35 \n",
            "32 processes for piece UM121T900201600 GEAR INTERMEDIATE Z57\n",
            "64 processes for piece UM121T900201700 GEAR Z51 \n",
            "32 processes for piece UM121T900202100 GEAR PROPELLER \n",
            "32 processes for piece UM121T900203800 Z23 \n",
            "32 processes for piece UM121T900203900 GEAR Z19 \n",
            "32 processes for piece UM121T900203900 GEAR Z19 - 2\n",
            "32 processes for piece UM121T900204300 GEAR ALTERNATOR Z13 \n",
            "32 processes for piece UM121T900204300 GEAR ALTERNATOR Z13 -2\n"
          ]
        }
      ]
    },
    {
      "cell_type": "code",
      "source": [
        "processes = []\n",
        "for i in range(num):\n",
        "  processes.append([])\n",
        "#print(processes)\n",
        "\n",
        "j = 0\n",
        "k = 0\n",
        "total = 0\n",
        "for i in range(len(u_num)):\n",
        "  total += u_num[i]\n",
        "  while j < total:\n",
        "    if j == total:\n",
        "      k += 1\n",
        "    #print(i,j,k,total,processes)\n",
        "    #print(processes[i])\n",
        "    processes[i].append(j+1)\n",
        "    j += 1\n",
        "  #print(total)\n",
        "\n",
        "for i in processes:\n",
        "  print(len(i),i)"
      ],
      "metadata": {
        "id": "weQyMGChBgny",
        "colab": {
          "base_uri": "https://localhost:8080/"
        },
        "outputId": "ff9716c9-7ed6-4803-a236-af0e7356614e"
      },
      "execution_count": null,
      "outputs": [
        {
          "output_type": "stream",
          "name": "stdout",
          "text": [
            "32 [1, 2, 3, 4, 5, 6, 7, 8, 9, 10, 11, 12, 13, 14, 15, 16, 17, 18, 19, 20, 21, 22, 23, 24, 25, 26, 27, 28, 29, 30, 31, 32]\n",
            "32 [33, 34, 35, 36, 37, 38, 39, 40, 41, 42, 43, 44, 45, 46, 47, 48, 49, 50, 51, 52, 53, 54, 55, 56, 57, 58, 59, 60, 61, 62, 63, 64]\n",
            "64 [65, 66, 67, 68, 69, 70, 71, 72, 73, 74, 75, 76, 77, 78, 79, 80, 81, 82, 83, 84, 85, 86, 87, 88, 89, 90, 91, 92, 93, 94, 95, 96, 97, 98, 99, 100, 101, 102, 103, 104, 105, 106, 107, 108, 109, 110, 111, 112, 113, 114, 115, 116, 117, 118, 119, 120, 121, 122, 123, 124, 125, 126, 127, 128]\n",
            "32 [129, 130, 131, 132, 133, 134, 135, 136, 137, 138, 139, 140, 141, 142, 143, 144, 145, 146, 147, 148, 149, 150, 151, 152, 153, 154, 155, 156, 157, 158, 159, 160]\n",
            "32 [161, 162, 163, 164, 165, 166, 167, 168, 169, 170, 171, 172, 173, 174, 175, 176, 177, 178, 179, 180, 181, 182, 183, 184, 185, 186, 187, 188, 189, 190, 191, 192]\n",
            "32 [193, 194, 195, 196, 197, 198, 199, 200, 201, 202, 203, 204, 205, 206, 207, 208, 209, 210, 211, 212, 213, 214, 215, 216, 217, 218, 219, 220, 221, 222, 223, 224]\n",
            "32 [225, 226, 227, 228, 229, 230, 231, 232, 233, 234, 235, 236, 237, 238, 239, 240, 241, 242, 243, 244, 245, 246, 247, 248, 249, 250, 251, 252, 253, 254, 255, 256]\n",
            "32 [257, 258, 259, 260, 261, 262, 263, 264, 265, 266, 267, 268, 269, 270, 271, 272, 273, 274, 275, 276, 277, 278, 279, 280, 281, 282, 283, 284, 285, 286, 287, 288]\n",
            "32 [289, 290, 291, 292, 293, 294, 295, 296, 297, 298, 299, 300, 301, 302, 303, 304, 305, 306, 307, 308, 309, 310, 311, 312, 313, 314, 315, 316, 317, 318, 319, 320]\n"
          ]
        }
      ]
    }
  ]
}
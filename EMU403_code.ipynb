{
  "nbformat": 4,
  "nbformat_minor": 0,
  "metadata": {
    "colab": {
      "name": "EMU403_code.ipynb",
      "provenance": [],
      "collapsed_sections": [
        "-PLCrmMWLj_r"
      ],
      "include_colab_link": true
    },
    "kernelspec": {
      "name": "python3",
      "display_name": "Python 3"
    },
    "language_info": {
      "name": "python"
    }
  },
  "cells": [
    {
      "cell_type": "markdown",
      "metadata": {
        "id": "view-in-github",
        "colab_type": "text"
      },
      "source": [
        "<a href=\"https://colab.research.google.com/github/SevilAnna/GraduationProject/blob/main/EMU403_code.ipynb\" target=\"_parent\"><img src=\"https://colab.research.google.com/assets/colab-badge.svg\" alt=\"Open In Colab\"/></a>"
      ]
    },
    {
      "cell_type": "markdown",
      "source": [
        "<h1>EMÜ 403 - Graduation Project</h1>\n",
        "\n",
        "---"
      ],
      "metadata": {
        "id": "ePsMaL4LMAZy"
      }
    },
    {
      "cell_type": "markdown",
      "source": [
        "\n",
        "<font color='red'> 🔴🔴 Kızlar 🔴🔴</font> \n",
        "</br></br>Kod üzerinde çalışacaksanız:\n",
        "- Öncelikle kodun en son versiyonunun <a href=\"https://github.com/SevilAnna/GraduationProject\">Github</a>'da olduğundan emin olun. \n",
        "- Drive'daki \"Düzenlenmiş_Dişli_Parçaları\" Excelini kendi bilgisayarınıza indirin. \n",
        "- Veriyi çekmek için aşağıdaki en az ilk 3 kutudaki kodu çalıştırın.\n",
        "- Github'a kaydederken \"main branch\"e değil, başka bir yan branch'e kaydedin.\n",
        "</br></br>- Sevil</br></br>"
      ],
      "metadata": {
        "id": "kzmKo3p4saIK"
      }
    },
    {
      "cell_type": "markdown",
      "source": [
        "## Importing Libraries & the Excel File"
      ],
      "metadata": {
        "id": "xADgo8YMFgxq"
      }
    },
    {
      "cell_type": "markdown",
      "source": [
        "### Importing libraries for the project"
      ],
      "metadata": {
        "id": "V-j53VPBBzq4"
      }
    },
    {
      "cell_type": "code",
      "source": [
        "import pandas as pd\n",
        "import numpy as np\n",
        "from numpy.random import default_rng\n",
        "rng = default_rng()\n",
        "import random\n",
        "import copy\n",
        "#!pip install geneticalgorithm\n",
        "#import geneticalgorithm as ga\n",
        "#from geneticalgorithm import geneticalgorithm as ga\n",
        "print(\"done\")"
      ],
      "metadata": {
        "id": "YCgrQU6-E8b4",
        "colab": {
          "base_uri": "https://localhost:8080/"
        },
        "outputId": "57522de0-a601-4484-cc72-a08a06ffc93a"
      },
      "execution_count": 1,
      "outputs": [
        {
          "output_type": "stream",
          "name": "stdout",
          "text": [
            "done\n"
          ]
        }
      ]
    },
    {
      "cell_type": "markdown",
      "source": [
        "### Importing the Excel file"
      ],
      "metadata": {
        "id": "F2mPwe7qB5uO"
      }
    },
    {
      "cell_type": "code",
      "execution_count": 2,
      "metadata": {
        "colab": {
          "resources": {
            "http://localhost:8080/nbextensions/google.colab/files.js": {
              "data": "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",
              "ok": true,
              "headers": [
                [
                  "content-type",
                  "application/javascript"
                ]
              ],
              "status": 200,
              "status_text": ""
            }
          },
          "base_uri": "https://localhost:8080/",
          "height": 74
        },
        "id": "f0XjhQIHBo92",
        "outputId": "e37419ea-4c69-453f-a030-88be2add5bcd"
      },
      "outputs": [
        {
          "output_type": "display_data",
          "data": {
            "text/plain": [
              "<IPython.core.display.HTML object>"
            ],
            "text/html": [
              "\n",
              "     <input type=\"file\" id=\"files-bbfc0280-883d-49aa-9927-5c2043fc963a\" name=\"files[]\" multiple disabled\n",
              "        style=\"border:none\" />\n",
              "     <output id=\"result-bbfc0280-883d-49aa-9927-5c2043fc963a\">\n",
              "      Upload widget is only available when the cell has been executed in the\n",
              "      current browser session. Please rerun this cell to enable.\n",
              "      </output>\n",
              "      <script src=\"/nbextensions/google.colab/files.js\"></script> "
            ]
          },
          "metadata": {}
        },
        {
          "output_type": "stream",
          "name": "stdout",
          "text": [
            "Saving Düzenlenmiş_Dişli_Parçaları.xlsx to Düzenlenmiş_Dişli_Parçaları.xlsx\n"
          ]
        }
      ],
      "source": [
        "from google.colab import files\n",
        "uploaded = files.upload()"
      ]
    },
    {
      "cell_type": "code",
      "source": [
        "import io\n",
        "df = pd.read_excel(io.BytesIO(uploaded[\"Düzenlenmiş_Dişli_Parçaları.xlsx\"]), sheet_name='Anka', header=0)\n",
        "del df['SÜRE (11 parça için)']\n",
        "del df['1 tanesi için kaç tane gerek']\n",
        "del df['PROSES']\n",
        "del df['Process time']\n",
        "pr_num = list(range(1,len(df)+1))\n",
        "df[\"Process #\"] = pr_num\n",
        "df = df.rename(columns={'Makine':'Machine', 'İşlem':'Process', 'SETUP':'Setup', \n",
        "                    'SÜRE (1 parça için)':'Processing time', 'PARÇA':'Piece'})\n",
        "df = df.reindex(columns=['Piece','Process #','Process','Machine','Setup','Processing time'])\n",
        "df"
      ],
      "metadata": {
        "id": "Qg8qyn0RB9E7",
        "colab": {
          "base_uri": "https://localhost:8080/",
          "height": 424
        },
        "outputId": "dc4cab7b-3c6a-438f-d778-da4b5c6cc809"
      },
      "execution_count": 3,
      "outputs": [
        {
          "output_type": "execute_result",
          "data": {
            "text/plain": [
              "                                      Piece  Process #  \\\n",
              "0          UM121T900201200 GEAR ENGINE Z35           1   \n",
              "1          UM121T900201200 GEAR ENGINE Z35           2   \n",
              "2          UM121T900201200 GEAR ENGINE Z35           3   \n",
              "3          UM121T900201200 GEAR ENGINE Z35           4   \n",
              "4          UM121T900201200 GEAR ENGINE Z35           5   \n",
              "..                                      ...        ...   \n",
              "315  UM121T900204300 GEAR ALTERNATOR Z13 -2        316   \n",
              "316  UM121T900204300 GEAR ALTERNATOR Z13 -2        317   \n",
              "317  UM121T900204300 GEAR ALTERNATOR Z13 -2        318   \n",
              "318  UM121T900204300 GEAR ALTERNATOR Z13 -2        319   \n",
              "319  UM121T900204300 GEAR ALTERNATOR Z13 -2        320   \n",
              "\n",
              "                           Process Machine  Setup  Processing time  \n",
              "0       Pre-Hardening Öncesi Torna     D13    0.0         1.000000  \n",
              "1                          Yıkama      D33    0.0         0.090909  \n",
              "2    Ön Sertleştirme (Isıl İşlem)      D31    0.0         0.545455  \n",
              "3                          Yıkama      D33    0.0         0.090909  \n",
              "4         Temperleme (Isıl İşlem)      D32    0.0         0.454545  \n",
              "..                             ...     ...    ...              ...  \n",
              "315                        Yıkama      D12    0.0         0.181818  \n",
              "316                         Balans     D69    0.0         1.000000  \n",
              "317                           MPI      D65    0.0         0.454545  \n",
              "318                        Yıkama      D12    0.0         0.090909  \n",
              "319                Kalite Kontrol      662    0.0         0.500000  \n",
              "\n",
              "[320 rows x 6 columns]"
            ],
            "text/html": [
              "\n",
              "  <div id=\"df-3e1798fc-c23d-453d-b387-b65adfbd9156\">\n",
              "    <div class=\"colab-df-container\">\n",
              "      <div>\n",
              "<style scoped>\n",
              "    .dataframe tbody tr th:only-of-type {\n",
              "        vertical-align: middle;\n",
              "    }\n",
              "\n",
              "    .dataframe tbody tr th {\n",
              "        vertical-align: top;\n",
              "    }\n",
              "\n",
              "    .dataframe thead th {\n",
              "        text-align: right;\n",
              "    }\n",
              "</style>\n",
              "<table border=\"1\" class=\"dataframe\">\n",
              "  <thead>\n",
              "    <tr style=\"text-align: right;\">\n",
              "      <th></th>\n",
              "      <th>Piece</th>\n",
              "      <th>Process #</th>\n",
              "      <th>Process</th>\n",
              "      <th>Machine</th>\n",
              "      <th>Setup</th>\n",
              "      <th>Processing time</th>\n",
              "    </tr>\n",
              "  </thead>\n",
              "  <tbody>\n",
              "    <tr>\n",
              "      <th>0</th>\n",
              "      <td>UM121T900201200 GEAR ENGINE Z35</td>\n",
              "      <td>1</td>\n",
              "      <td>Pre-Hardening Öncesi Torna</td>\n",
              "      <td>D13</td>\n",
              "      <td>0.0</td>\n",
              "      <td>1.000000</td>\n",
              "    </tr>\n",
              "    <tr>\n",
              "      <th>1</th>\n",
              "      <td>UM121T900201200 GEAR ENGINE Z35</td>\n",
              "      <td>2</td>\n",
              "      <td>Yıkama</td>\n",
              "      <td>D33</td>\n",
              "      <td>0.0</td>\n",
              "      <td>0.090909</td>\n",
              "    </tr>\n",
              "    <tr>\n",
              "      <th>2</th>\n",
              "      <td>UM121T900201200 GEAR ENGINE Z35</td>\n",
              "      <td>3</td>\n",
              "      <td>Ön Sertleştirme (Isıl İşlem)</td>\n",
              "      <td>D31</td>\n",
              "      <td>0.0</td>\n",
              "      <td>0.545455</td>\n",
              "    </tr>\n",
              "    <tr>\n",
              "      <th>3</th>\n",
              "      <td>UM121T900201200 GEAR ENGINE Z35</td>\n",
              "      <td>4</td>\n",
              "      <td>Yıkama</td>\n",
              "      <td>D33</td>\n",
              "      <td>0.0</td>\n",
              "      <td>0.090909</td>\n",
              "    </tr>\n",
              "    <tr>\n",
              "      <th>4</th>\n",
              "      <td>UM121T900201200 GEAR ENGINE Z35</td>\n",
              "      <td>5</td>\n",
              "      <td>Temperleme (Isıl İşlem)</td>\n",
              "      <td>D32</td>\n",
              "      <td>0.0</td>\n",
              "      <td>0.454545</td>\n",
              "    </tr>\n",
              "    <tr>\n",
              "      <th>...</th>\n",
              "      <td>...</td>\n",
              "      <td>...</td>\n",
              "      <td>...</td>\n",
              "      <td>...</td>\n",
              "      <td>...</td>\n",
              "      <td>...</td>\n",
              "    </tr>\n",
              "    <tr>\n",
              "      <th>315</th>\n",
              "      <td>UM121T900204300 GEAR ALTERNATOR Z13 -2</td>\n",
              "      <td>316</td>\n",
              "      <td>Yıkama</td>\n",
              "      <td>D12</td>\n",
              "      <td>0.0</td>\n",
              "      <td>0.181818</td>\n",
              "    </tr>\n",
              "    <tr>\n",
              "      <th>316</th>\n",
              "      <td>UM121T900204300 GEAR ALTERNATOR Z13 -2</td>\n",
              "      <td>317</td>\n",
              "      <td>Balans</td>\n",
              "      <td>D69</td>\n",
              "      <td>0.0</td>\n",
              "      <td>1.000000</td>\n",
              "    </tr>\n",
              "    <tr>\n",
              "      <th>317</th>\n",
              "      <td>UM121T900204300 GEAR ALTERNATOR Z13 -2</td>\n",
              "      <td>318</td>\n",
              "      <td>MPI</td>\n",
              "      <td>D65</td>\n",
              "      <td>0.0</td>\n",
              "      <td>0.454545</td>\n",
              "    </tr>\n",
              "    <tr>\n",
              "      <th>318</th>\n",
              "      <td>UM121T900204300 GEAR ALTERNATOR Z13 -2</td>\n",
              "      <td>319</td>\n",
              "      <td>Yıkama</td>\n",
              "      <td>D12</td>\n",
              "      <td>0.0</td>\n",
              "      <td>0.090909</td>\n",
              "    </tr>\n",
              "    <tr>\n",
              "      <th>319</th>\n",
              "      <td>UM121T900204300 GEAR ALTERNATOR Z13 -2</td>\n",
              "      <td>320</td>\n",
              "      <td>Kalite Kontrol</td>\n",
              "      <td>662</td>\n",
              "      <td>0.0</td>\n",
              "      <td>0.500000</td>\n",
              "    </tr>\n",
              "  </tbody>\n",
              "</table>\n",
              "<p>320 rows × 6 columns</p>\n",
              "</div>\n",
              "      <button class=\"colab-df-convert\" onclick=\"convertToInteractive('df-3e1798fc-c23d-453d-b387-b65adfbd9156')\"\n",
              "              title=\"Convert this dataframe to an interactive table.\"\n",
              "              style=\"display:none;\">\n",
              "        \n",
              "  <svg xmlns=\"http://www.w3.org/2000/svg\" height=\"24px\"viewBox=\"0 0 24 24\"\n",
              "       width=\"24px\">\n",
              "    <path d=\"M0 0h24v24H0V0z\" fill=\"none\"/>\n",
              "    <path d=\"M18.56 5.44l.94 2.06.94-2.06 2.06-.94-2.06-.94-.94-2.06-.94 2.06-2.06.94zm-11 1L8.5 8.5l.94-2.06 2.06-.94-2.06-.94L8.5 2.5l-.94 2.06-2.06.94zm10 10l.94 2.06.94-2.06 2.06-.94-2.06-.94-.94-2.06-.94 2.06-2.06.94z\"/><path d=\"M17.41 7.96l-1.37-1.37c-.4-.4-.92-.59-1.43-.59-.52 0-1.04.2-1.43.59L10.3 9.45l-7.72 7.72c-.78.78-.78 2.05 0 2.83L4 21.41c.39.39.9.59 1.41.59.51 0 1.02-.2 1.41-.59l7.78-7.78 2.81-2.81c.8-.78.8-2.07 0-2.86zM5.41 20L4 18.59l7.72-7.72 1.47 1.35L5.41 20z\"/>\n",
              "  </svg>\n",
              "      </button>\n",
              "      \n",
              "  <style>\n",
              "    .colab-df-container {\n",
              "      display:flex;\n",
              "      flex-wrap:wrap;\n",
              "      gap: 12px;\n",
              "    }\n",
              "\n",
              "    .colab-df-convert {\n",
              "      background-color: #E8F0FE;\n",
              "      border: none;\n",
              "      border-radius: 50%;\n",
              "      cursor: pointer;\n",
              "      display: none;\n",
              "      fill: #1967D2;\n",
              "      height: 32px;\n",
              "      padding: 0 0 0 0;\n",
              "      width: 32px;\n",
              "    }\n",
              "\n",
              "    .colab-df-convert:hover {\n",
              "      background-color: #E2EBFA;\n",
              "      box-shadow: 0px 1px 2px rgba(60, 64, 67, 0.3), 0px 1px 3px 1px rgba(60, 64, 67, 0.15);\n",
              "      fill: #174EA6;\n",
              "    }\n",
              "\n",
              "    [theme=dark] .colab-df-convert {\n",
              "      background-color: #3B4455;\n",
              "      fill: #D2E3FC;\n",
              "    }\n",
              "\n",
              "    [theme=dark] .colab-df-convert:hover {\n",
              "      background-color: #434B5C;\n",
              "      box-shadow: 0px 1px 3px 1px rgba(0, 0, 0, 0.15);\n",
              "      filter: drop-shadow(0px 1px 2px rgba(0, 0, 0, 0.3));\n",
              "      fill: #FFFFFF;\n",
              "    }\n",
              "  </style>\n",
              "\n",
              "      <script>\n",
              "        const buttonEl =\n",
              "          document.querySelector('#df-3e1798fc-c23d-453d-b387-b65adfbd9156 button.colab-df-convert');\n",
              "        buttonEl.style.display =\n",
              "          google.colab.kernel.accessAllowed ? 'block' : 'none';\n",
              "\n",
              "        async function convertToInteractive(key) {\n",
              "          const element = document.querySelector('#df-3e1798fc-c23d-453d-b387-b65adfbd9156');\n",
              "          const dataTable =\n",
              "            await google.colab.kernel.invokeFunction('convertToInteractive',\n",
              "                                                     [key], {});\n",
              "          if (!dataTable) return;\n",
              "\n",
              "          const docLinkHtml = 'Like what you see? Visit the ' +\n",
              "            '<a target=\"_blank\" href=https://colab.research.google.com/notebooks/data_table.ipynb>data table notebook</a>'\n",
              "            + ' to learn more about interactive tables.';\n",
              "          element.innerHTML = '';\n",
              "          dataTable['output_type'] = 'display_data';\n",
              "          await google.colab.output.renderOutput(dataTable, element);\n",
              "          const docLink = document.createElement('div');\n",
              "          docLink.innerHTML = docLinkHtml;\n",
              "          element.appendChild(docLink);\n",
              "        }\n",
              "      </script>\n",
              "    </div>\n",
              "  </div>\n",
              "  "
            ]
          },
          "metadata": {},
          "execution_count": 3
        }
      ]
    },
    {
      "cell_type": "markdown",
      "source": [
        "## Chromosomes"
      ],
      "metadata": {
        "id": "3gQeCladFZsa"
      }
    },
    {
      "cell_type": "code",
      "source": [
        "m_list = np.unique(np.array(df[\"Machine\"]))                         # Each machine needed\n",
        "m_num_list = [1, 2, 1, 4, 3, 2, 3, 3, 3, 2, 2, 1, 1, 1, 2, 1, 1]    # How many there're of each machine (done manually now; to automate later)\n",
        "print(len(m_list),m_list)\n",
        "print(len(m_num_list),m_num_list)"
      ],
      "metadata": {
        "colab": {
          "base_uri": "https://localhost:8080/"
        },
        "id": "WqMVoYmHOp-g",
        "outputId": "01a6c2bb-49b4-433c-c924-3f475551c5dd"
      },
      "execution_count": 4,
      "outputs": [
        {
          "output_type": "stream",
          "name": "stdout",
          "text": [
            "17 ['662' 'D11' 'D12' 'D13' 'D15' 'D17' 'D27' 'D31' 'D32' 'D33' 'D41' 'D43'\n",
            " 'D44' 'D47' 'D65' 'D69' 'Nital Etche, Hydrojen Embr.']\n",
            "17 [1, 2, 1, 4, 3, 2, 3, 3, 3, 2, 2, 1, 1, 1, 2, 1, 1]\n"
          ]
        }
      ]
    },
    {
      "cell_type": "code",
      "source": [
        "# creating a dictionary with each machine (including duplicates)\n",
        "all_machines = {}\n",
        "n = 0\n",
        "for m in m_list:\n",
        "  m_num = m_num_list[n]\n",
        "  if m_num > 0:\n",
        "    all_machines[m] = []\n",
        "    # Adding processes to the machines (but not to duplicates)\n",
        "    for r in range(len(df[\"Machine\"])):\n",
        "      if m == df.iloc[r][\"Machine\"]:\n",
        "        all_machines[m].append(r+1)\n",
        "  # add duplicate machines without the processes\n",
        "  if m_num > 1:\n",
        "    m1 = m+\"-1\"\n",
        "    all_machines[m1] = all_machines[m]\n",
        "    all_machines.pop(m)\n",
        "    if m_num > 1:\n",
        "      m2 = m+\"-2\"\n",
        "      all_machines[m2] = []\n",
        "    if m_num > 2:\n",
        "      m3 = m+\"-3\"\n",
        "      all_machines[m3] = []\n",
        "    if m_num > 3:\n",
        "      m4 = m+\"-4\"\n",
        "      all_machines[m4] = []   # later add more if there're 4+ of a certain machine ---> or just write a function for this \n",
        "  n += 1\n",
        "   \n",
        "for k in all_machines:\n",
        "  print(k,\"\\t\",all_machines[k])"
      ],
      "metadata": {
        "colab": {
          "base_uri": "https://localhost:8080/"
        },
        "id": "ScOeU8KWvn1S",
        "outputId": "39275280-a03c-4ffc-b670-929f8988e7a1"
      },
      "execution_count": 5,
      "outputs": [
        {
          "output_type": "stream",
          "name": "stdout",
          "text": [
            "662 \t [26, 32, 58, 64, 90, 96, 122, 128, 154, 160, 186, 192, 218, 224, 250, 256, 282, 288, 314, 320]\n",
            "D11-1 \t [11, 23, 43, 55, 75, 87, 107, 119, 139, 151, 171, 183, 203, 215, 235, 247, 267, 279, 299, 311]\n",
            "D11-2 \t []\n",
            "D12 \t [13, 24, 28, 31, 45, 56, 60, 63, 77, 88, 92, 95, 109, 120, 124, 127, 141, 152, 156, 159, 173, 184, 188, 191, 205, 216, 220, 223, 237, 248, 252, 255, 269, 280, 284, 287, 301, 312, 316, 319]\n",
            "D13-1 \t [1, 7, 33, 39, 65, 71, 97, 103, 129, 135, 161, 167, 193, 199, 225, 231, 257, 263, 289, 295]\n",
            "D13-2 \t []\n",
            "D13-3 \t []\n",
            "D13-4 \t []\n",
            "D15-1 \t [14, 20, 25, 46, 52, 57, 78, 84, 89, 110, 116, 121, 142, 148, 153, 174, 180, 185, 206, 212, 217, 238, 244, 249, 270, 276, 281, 302, 308, 313]\n",
            "D15-2 \t []\n",
            "D15-3 \t []\n",
            "D17-1 \t [10, 22, 42, 54, 74, 86, 106, 118, 138, 150, 170, 182, 202, 214, 234, 246, 266, 278, 298, 310]\n",
            "D17-2 \t []\n",
            "D27-1 \t [21, 53, 85, 117, 149, 181, 213, 245, 277, 309]\n",
            "D27-2 \t []\n",
            "D27-3 \t []\n",
            "D31-1 \t [3, 15, 35, 47, 67, 79, 99, 111, 131, 143, 163, 175, 195, 207, 227, 239, 259, 271, 291, 303]\n",
            "D31-2 \t []\n",
            "D31-3 \t []\n",
            "D32-1 \t [5, 18, 37, 50, 69, 82, 101, 114, 133, 146, 165, 178, 197, 210, 229, 242, 261, 274, 293, 306]\n",
            "D32-2 \t []\n",
            "D32-3 \t []\n",
            "D33-1 \t [2, 4, 16, 34, 36, 48, 66, 68, 80, 98, 100, 112, 130, 132, 144, 162, 164, 176, 194, 196, 208, 226, 228, 240, 258, 260, 272, 290, 292, 304]\n",
            "D33-2 \t []\n",
            "D41-1 \t [17, 49, 81, 113, 145, 177, 209, 241, 273, 305]\n",
            "D41-2 \t []\n",
            "D43 \t [9, 41, 73, 105, 137, 169, 201, 233, 265, 297]\n",
            "D44 \t [8, 12, 40, 44, 72, 76, 104, 108, 136, 140, 168, 172, 200, 204, 232, 236, 264, 268, 296, 300]\n",
            "D47 \t [6, 19, 38, 51, 70, 83, 102, 115, 134, 147, 166, 179, 198, 211, 230, 243, 262, 275, 294, 307]\n",
            "D65-1 \t [30, 62, 94, 126, 158, 190, 222, 254, 286, 318]\n",
            "D65-2 \t []\n",
            "D69 \t [29, 61, 93, 125, 157, 189, 221, 253, 285, 317]\n",
            "Nital Etche, Hydrojen Embr. \t [27, 59, 91, 123, 155, 187, 219, 251, 283, 315]\n"
          ]
        }
      ]
    },
    {
      "cell_type": "markdown",
      "source": [
        "notes for presentation:\n",
        "- we can see that D12 could be a bottleneck for ANKA"
      ],
      "metadata": {
        "id": "GHQbgtarC3B_"
      }
    },
    {
      "cell_type": "code",
      "source": [
        "machines = copy.deepcopy(all_machines)\n",
        "\n",
        "# initialize genetic algorithm where each gene is a machine's schedule\n",
        "num_genes = len(machines)\n",
        "num_chro = 8\n",
        "popu_size = (num_chro,num_genes)\n",
        "popu = []\n",
        "\n",
        "\n",
        "for i in range(num_chro):\n",
        "  popu.append([machines])\n",
        "\n",
        "# shuffle the order of processes in each machine/gene except for the first chromosome, and print results\n",
        "new_popu = []\n",
        "for i in range(len(popu)):\n",
        "  new_popu.append([0])\n",
        "first_one = True\n",
        "for i in range(len(popu)):\n",
        "  if first_one == False:\n",
        "    for j in popu[i]:\n",
        "      for k in j:\n",
        "        temp_l = random.sample(copy.deepcopy(list(j[k])),len(j[k]))\n",
        "        j[k] = copy.deepcopy(temp_l)\n",
        "  first_one = False\n",
        "  new_popu[i] = copy.deepcopy(popu[i])\n",
        "\n",
        "for c in new_popu:\n",
        "  print(c)"
      ],
      "metadata": {
        "colab": {
          "base_uri": "https://localhost:8080/"
        },
        "id": "69QLThuy8v3k",
        "outputId": "6376aa7e-6855-4de0-9b41-8bf613a420e7"
      },
      "execution_count": 6,
      "outputs": [
        {
          "output_type": "stream",
          "name": "stdout",
          "text": [
            "[{'662': [26, 32, 58, 64, 90, 96, 122, 128, 154, 160, 186, 192, 218, 224, 250, 256, 282, 288, 314, 320], 'D11-1': [11, 23, 43, 55, 75, 87, 107, 119, 139, 151, 171, 183, 203, 215, 235, 247, 267, 279, 299, 311], 'D11-2': [], 'D12': [13, 24, 28, 31, 45, 56, 60, 63, 77, 88, 92, 95, 109, 120, 124, 127, 141, 152, 156, 159, 173, 184, 188, 191, 205, 216, 220, 223, 237, 248, 252, 255, 269, 280, 284, 287, 301, 312, 316, 319], 'D13-1': [1, 7, 33, 39, 65, 71, 97, 103, 129, 135, 161, 167, 193, 199, 225, 231, 257, 263, 289, 295], 'D13-2': [], 'D13-3': [], 'D13-4': [], 'D15-1': [14, 20, 25, 46, 52, 57, 78, 84, 89, 110, 116, 121, 142, 148, 153, 174, 180, 185, 206, 212, 217, 238, 244, 249, 270, 276, 281, 302, 308, 313], 'D15-2': [], 'D15-3': [], 'D17-1': [10, 22, 42, 54, 74, 86, 106, 118, 138, 150, 170, 182, 202, 214, 234, 246, 266, 278, 298, 310], 'D17-2': [], 'D27-1': [21, 53, 85, 117, 149, 181, 213, 245, 277, 309], 'D27-2': [], 'D27-3': [], 'D31-1': [3, 15, 35, 47, 67, 79, 99, 111, 131, 143, 163, 175, 195, 207, 227, 239, 259, 271, 291, 303], 'D31-2': [], 'D31-3': [], 'D32-1': [5, 18, 37, 50, 69, 82, 101, 114, 133, 146, 165, 178, 197, 210, 229, 242, 261, 274, 293, 306], 'D32-2': [], 'D32-3': [], 'D33-1': [2, 4, 16, 34, 36, 48, 66, 68, 80, 98, 100, 112, 130, 132, 144, 162, 164, 176, 194, 196, 208, 226, 228, 240, 258, 260, 272, 290, 292, 304], 'D33-2': [], 'D41-1': [17, 49, 81, 113, 145, 177, 209, 241, 273, 305], 'D41-2': [], 'D43': [9, 41, 73, 105, 137, 169, 201, 233, 265, 297], 'D44': [8, 12, 40, 44, 72, 76, 104, 108, 136, 140, 168, 172, 200, 204, 232, 236, 264, 268, 296, 300], 'D47': [6, 19, 38, 51, 70, 83, 102, 115, 134, 147, 166, 179, 198, 211, 230, 243, 262, 275, 294, 307], 'D65-1': [30, 62, 94, 126, 158, 190, 222, 254, 286, 318], 'D65-2': [], 'D69': [29, 61, 93, 125, 157, 189, 221, 253, 285, 317], 'Nital Etche, Hydrojen Embr.': [27, 59, 91, 123, 155, 187, 219, 251, 283, 315]}]\n",
            "[{'662': [192, 186, 26, 96, 256, 314, 128, 154, 224, 320, 160, 218, 64, 32, 122, 250, 288, 90, 282, 58], 'D11-1': [11, 171, 247, 183, 119, 23, 43, 151, 235, 55, 267, 87, 279, 215, 311, 203, 75, 299, 139, 107], 'D11-2': [], 'D12': [13, 188, 152, 216, 287, 301, 248, 28, 95, 284, 60, 220, 24, 124, 237, 141, 191, 205, 120, 88, 255, 45, 316, 184, 312, 269, 127, 280, 319, 223, 156, 77, 252, 159, 63, 56, 109, 31, 173, 92], 'D13-1': [129, 167, 193, 231, 263, 39, 103, 225, 1, 65, 295, 97, 33, 161, 7, 289, 257, 199, 135, 71], 'D13-2': [], 'D13-3': [], 'D13-4': [], 'D15-1': [116, 174, 84, 281, 148, 313, 89, 302, 308, 270, 78, 212, 20, 217, 180, 206, 110, 276, 25, 52, 153, 121, 142, 14, 238, 249, 46, 244, 185, 57], 'D15-2': [], 'D15-3': [], 'D17-1': [22, 118, 86, 150, 10, 54, 266, 298, 74, 138, 42, 106, 170, 246, 214, 310, 234, 182, 202, 278], 'D17-2': [], 'D27-1': [149, 21, 181, 117, 85, 277, 213, 245, 53, 309], 'D27-2': [], 'D27-3': [], 'D31-1': [239, 303, 131, 291, 271, 67, 227, 99, 3, 207, 79, 163, 175, 35, 47, 15, 143, 111, 259, 195], 'D31-2': [], 'D31-3': [], 'D32-1': [37, 274, 293, 261, 197, 242, 165, 146, 82, 133, 101, 178, 5, 210, 306, 50, 229, 69, 114, 18], 'D32-2': [], 'D32-3': [], 'D33-1': [208, 48, 272, 164, 80, 304, 162, 194, 292, 144, 68, 176, 4, 240, 66, 132, 2, 112, 226, 290, 260, 228, 258, 34, 16, 36, 100, 98, 130, 196], 'D33-2': [], 'D41-1': [241, 113, 273, 17, 81, 177, 49, 145, 209, 305], 'D41-2': [], 'D43': [297, 265, 105, 137, 73, 169, 201, 9, 233, 41], 'D44': [168, 40, 204, 104, 12, 264, 236, 300, 172, 200, 76, 108, 44, 72, 296, 232, 268, 8, 136, 140], 'D47': [19, 166, 307, 51, 70, 134, 83, 294, 6, 275, 262, 243, 230, 147, 115, 38, 102, 198, 211, 179], 'D65-1': [158, 286, 94, 30, 254, 318, 62, 190, 222, 126], 'D65-2': [], 'D69': [93, 221, 285, 317, 61, 125, 29, 189, 157, 253], 'Nital Etche, Hydrojen Embr.': [27, 187, 251, 59, 91, 123, 315, 283, 219, 155]}]\n",
            "[{'662': [224, 96, 288, 314, 256, 64, 128, 218, 90, 192, 32, 160, 26, 58, 122, 282, 320, 250, 186, 154], 'D11-1': [151, 299, 171, 87, 267, 23, 55, 215, 311, 11, 203, 119, 183, 139, 107, 43, 279, 247, 75, 235], 'D11-2': [], 'D12': [92, 120, 124, 280, 237, 95, 31, 13, 156, 269, 63, 301, 287, 109, 28, 312, 284, 45, 205, 152, 252, 316, 223, 191, 88, 188, 60, 255, 184, 216, 220, 127, 56, 159, 141, 77, 24, 319, 248, 173], 'D13-1': [225, 129, 199, 97, 161, 295, 7, 39, 231, 167, 135, 103, 257, 33, 289, 65, 1, 193, 71, 263], 'D13-2': [], 'D13-3': [], 'D13-4': [], 'D15-1': [116, 174, 46, 212, 281, 238, 89, 142, 185, 78, 276, 217, 57, 313, 110, 206, 249, 52, 180, 14, 148, 20, 153, 308, 25, 121, 84, 302, 244, 270], 'D15-2': [], 'D15-3': [], 'D17-1': [42, 298, 54, 170, 10, 246, 150, 106, 182, 202, 86, 266, 118, 234, 214, 310, 22, 74, 138, 278], 'D17-2': [], 'D27-1': [245, 117, 277, 53, 21, 213, 149, 181, 309, 85], 'D27-2': [], 'D27-3': [], 'D31-1': [67, 3, 131, 15, 227, 303, 111, 47, 291, 259, 35, 175, 143, 163, 195, 271, 99, 79, 239, 207], 'D31-2': [], 'D31-3': [], 'D32-1': [133, 306, 274, 18, 242, 82, 261, 293, 178, 69, 210, 37, 101, 229, 114, 5, 197, 146, 50, 165], 'D32-2': [], 'D32-3': [], 'D33-1': [144, 258, 66, 80, 228, 112, 272, 16, 240, 292, 130, 260, 2, 208, 196, 226, 132, 290, 100, 164, 162, 4, 36, 98, 176, 34, 68, 194, 304, 48], 'D33-2': [], 'D41-1': [49, 241, 305, 177, 273, 209, 17, 113, 81, 145], 'D41-2': [], 'D43': [201, 9, 233, 169, 297, 265, 137, 73, 105, 41], 'D44': [104, 72, 8, 172, 108, 140, 296, 76, 236, 204, 232, 264, 40, 200, 44, 136, 12, 300, 268, 168], 'D47': [211, 307, 275, 83, 70, 262, 147, 198, 294, 166, 230, 51, 134, 6, 102, 19, 243, 38, 179, 115], 'D65-1': [222, 62, 30, 190, 126, 158, 286, 318, 94, 254], 'D65-2': [], 'D69': [189, 221, 285, 253, 157, 61, 93, 125, 29, 317], 'Nital Etche, Hydrojen Embr.': [123, 155, 219, 91, 187, 251, 283, 27, 59, 315]}]\n",
            "[{'662': [160, 192, 90, 96, 288, 154, 122, 256, 320, 250, 314, 128, 32, 186, 26, 224, 218, 282, 64, 58], 'D11-1': [267, 171, 139, 75, 279, 215, 247, 299, 55, 11, 23, 183, 311, 107, 203, 43, 119, 151, 235, 87], 'D11-2': [], 'D12': [248, 152, 109, 31, 45, 92, 269, 77, 216, 184, 24, 205, 127, 56, 188, 319, 124, 237, 252, 220, 280, 28, 63, 159, 141, 284, 191, 173, 316, 88, 255, 120, 95, 223, 156, 60, 312, 287, 301, 13], 'D13-1': [65, 7, 263, 167, 289, 199, 231, 1, 225, 295, 135, 71, 129, 257, 103, 39, 161, 97, 33, 193], 'D13-2': [], 'D13-3': [], 'D13-4': [], 'D15-1': [52, 174, 84, 308, 249, 121, 153, 313, 276, 110, 270, 142, 20, 281, 212, 185, 89, 302, 25, 57, 14, 206, 46, 116, 238, 78, 217, 180, 148, 244], 'D15-2': [], 'D15-3': [], 'D17-1': [234, 202, 22, 214, 298, 170, 138, 246, 74, 278, 266, 42, 10, 150, 310, 86, 54, 118, 182, 106], 'D17-2': [], 'D27-1': [21, 117, 85, 181, 245, 149, 309, 277, 53, 213], 'D27-2': [], 'D27-3': [], 'D31-1': [239, 195, 175, 15, 143, 259, 3, 99, 303, 163, 227, 79, 271, 207, 111, 35, 291, 47, 67, 131], 'D31-2': [], 'D31-3': [], 'D32-1': [306, 293, 133, 5, 165, 261, 101, 229, 50, 242, 146, 37, 69, 197, 18, 114, 274, 82, 210, 178], 'D32-2': [], 'D32-3': [], 'D33-1': [226, 144, 258, 132, 176, 48, 130, 240, 36, 98, 194, 4, 66, 16, 2, 34, 228, 80, 164, 112, 196, 208, 272, 100, 292, 68, 162, 304, 290, 260], 'D33-2': [], 'D41-1': [177, 241, 17, 209, 113, 305, 145, 81, 49, 273], 'D41-2': [], 'D43': [233, 265, 105, 169, 41, 73, 297, 201, 137, 9], 'D44': [296, 172, 12, 8, 168, 40, 108, 104, 136, 268, 264, 200, 236, 232, 140, 204, 44, 76, 300, 72], 'D47': [211, 198, 243, 102, 115, 275, 6, 70, 166, 179, 307, 147, 230, 51, 294, 134, 19, 83, 262, 38], 'D65-1': [30, 62, 318, 94, 222, 286, 190, 126, 158, 254], 'D65-2': [], 'D69': [317, 125, 29, 253, 189, 93, 61, 221, 285, 157], 'Nital Etche, Hydrojen Embr.': [219, 315, 283, 155, 27, 91, 187, 59, 123, 251]}]\n",
            "[{'662': [32, 320, 26, 154, 256, 288, 218, 128, 192, 224, 282, 186, 58, 314, 160, 90, 96, 64, 122, 250], 'D11-1': [43, 267, 55, 171, 215, 119, 151, 107, 311, 23, 87, 203, 247, 235, 11, 75, 279, 299, 183, 139], 'D11-2': [], 'D12': [28, 13, 127, 120, 88, 24, 188, 287, 205, 301, 141, 269, 109, 312, 248, 284, 63, 156, 220, 152, 173, 319, 31, 255, 95, 92, 56, 45, 159, 237, 252, 124, 216, 77, 316, 60, 191, 280, 184, 223], 'D13-1': [231, 135, 71, 199, 33, 193, 129, 289, 103, 257, 65, 263, 97, 161, 295, 7, 39, 225, 167, 1], 'D13-2': [], 'D13-3': [], 'D13-4': [], 'D15-1': [244, 148, 270, 46, 14, 25, 212, 174, 185, 238, 57, 78, 142, 116, 302, 249, 206, 89, 84, 121, 281, 110, 313, 153, 52, 276, 217, 308, 180, 20], 'D15-2': [], 'D15-3': [], 'D17-1': [298, 266, 234, 10, 42, 118, 278, 202, 54, 182, 310, 74, 86, 150, 246, 138, 22, 170, 106, 214], 'D17-2': [], 'D27-1': [245, 117, 213, 181, 85, 309, 277, 21, 53, 149], 'D27-2': [], 'D27-3': [], 'D31-1': [227, 271, 143, 259, 79, 35, 67, 47, 99, 239, 195, 111, 207, 291, 15, 3, 303, 175, 131, 163], 'D31-2': [], 'D31-3': [], 'D32-1': [197, 242, 133, 274, 5, 37, 229, 18, 306, 165, 82, 101, 69, 114, 50, 261, 293, 146, 210, 178], 'D32-2': [], 'D32-3': [], 'D33-1': [292, 258, 260, 100, 176, 68, 304, 130, 194, 272, 16, 112, 290, 48, 4, 34, 2, 240, 80, 208, 144, 132, 66, 164, 162, 226, 98, 228, 36, 196], 'D33-2': [], 'D41-1': [145, 273, 209, 49, 113, 177, 241, 17, 81, 305], 'D41-2': [], 'D43': [9, 297, 137, 105, 233, 41, 265, 73, 169, 201], 'D44': [168, 72, 8, 172, 300, 136, 44, 236, 104, 232, 264, 40, 76, 12, 108, 296, 200, 140, 204, 268], 'D47': [262, 19, 115, 211, 147, 307, 6, 198, 166, 243, 38, 294, 102, 70, 134, 51, 83, 275, 230, 179], 'D65-1': [190, 158, 30, 62, 222, 94, 126, 254, 318, 286], 'D65-2': [], 'D69': [29, 285, 221, 125, 189, 93, 157, 253, 61, 317], 'Nital Etche, Hydrojen Embr.': [59, 315, 123, 283, 187, 91, 251, 155, 219, 27]}]\n",
            "[{'662': [32, 160, 64, 122, 282, 224, 90, 186, 320, 128, 96, 256, 250, 314, 192, 288, 218, 58, 26, 154], 'D11-1': [119, 139, 203, 183, 215, 247, 279, 267, 55, 23, 43, 107, 235, 11, 151, 171, 311, 75, 87, 299], 'D11-2': [], 'D12': [24, 220, 88, 63, 60, 28, 152, 216, 156, 301, 312, 141, 287, 316, 255, 127, 188, 45, 284, 205, 252, 13, 248, 319, 31, 77, 223, 120, 95, 92, 124, 280, 184, 56, 269, 109, 173, 159, 237, 191], 'D13-1': [161, 295, 289, 65, 225, 103, 33, 167, 129, 193, 263, 135, 257, 7, 199, 231, 39, 1, 71, 97], 'D13-2': [], 'D13-3': [], 'D13-4': [], 'D15-1': [238, 185, 281, 308, 110, 57, 116, 89, 217, 212, 270, 206, 121, 52, 148, 153, 249, 20, 14, 46, 25, 174, 244, 84, 180, 302, 78, 142, 276, 313], 'D15-2': [], 'D15-3': [], 'D17-1': [138, 182, 22, 86, 54, 310, 278, 202, 298, 214, 106, 10, 246, 170, 266, 234, 118, 42, 74, 150], 'D17-2': [], 'D27-1': [149, 309, 245, 85, 277, 21, 117, 213, 53, 181], 'D27-2': [], 'D27-3': [], 'D31-1': [143, 291, 99, 207, 3, 163, 239, 35, 303, 195, 259, 67, 175, 227, 47, 131, 111, 15, 79, 271], 'D31-2': [], 'D31-3': [], 'D32-1': [178, 82, 146, 18, 5, 274, 114, 306, 50, 210, 242, 37, 165, 133, 261, 229, 293, 69, 101, 197], 'D32-2': [], 'D32-3': [], 'D33-1': [144, 272, 34, 66, 290, 130, 208, 228, 4, 240, 226, 80, 304, 48, 194, 258, 292, 260, 176, 132, 16, 164, 112, 2, 162, 68, 100, 196, 36, 98], 'D33-2': [], 'D41-1': [17, 177, 49, 209, 113, 145, 305, 81, 273, 241], 'D41-2': [], 'D43': [297, 9, 41, 137, 73, 169, 105, 265, 201, 233], 'D44': [168, 172, 200, 76, 204, 236, 296, 232, 108, 140, 268, 264, 40, 44, 104, 136, 300, 72, 8, 12], 'D47': [275, 6, 243, 115, 134, 19, 294, 147, 70, 51, 166, 102, 83, 179, 198, 307, 38, 211, 262, 230], 'D65-1': [222, 158, 62, 286, 30, 126, 254, 190, 94, 318], 'D65-2': [], 'D69': [157, 221, 317, 253, 93, 285, 61, 29, 125, 189], 'Nital Etche, Hydrojen Embr.': [251, 27, 187, 315, 123, 59, 155, 91, 219, 283]}]\n",
            "[{'662': [154, 160, 122, 58, 288, 282, 320, 186, 250, 64, 96, 192, 26, 218, 90, 32, 256, 314, 128, 224], 'D11-1': [267, 55, 215, 235, 87, 247, 43, 311, 23, 171, 183, 139, 151, 299, 11, 75, 203, 107, 279, 119], 'D11-2': [], 'D12': [280, 159, 312, 237, 248, 173, 205, 223, 56, 156, 287, 13, 269, 127, 188, 31, 284, 191, 28, 24, 319, 184, 255, 120, 220, 141, 152, 95, 109, 60, 252, 63, 301, 45, 124, 77, 316, 216, 88, 92], 'D13-1': [135, 289, 225, 193, 71, 231, 33, 295, 65, 103, 161, 167, 97, 129, 263, 1, 39, 7, 199, 257], 'D13-2': [], 'D13-3': [], 'D13-4': [], 'D15-1': [78, 276, 313, 302, 206, 217, 116, 185, 270, 281, 238, 25, 174, 52, 308, 14, 180, 148, 121, 89, 212, 249, 153, 46, 84, 244, 57, 20, 142, 110], 'D15-2': [], 'D15-3': [], 'D17-1': [182, 138, 150, 202, 170, 118, 278, 246, 74, 298, 214, 266, 234, 106, 310, 22, 86, 54, 10, 42], 'D17-2': [], 'D27-1': [277, 245, 309, 117, 21, 213, 85, 53, 149, 181], 'D27-2': [], 'D27-3': [], 'D31-1': [163, 67, 239, 111, 175, 47, 227, 291, 131, 15, 271, 79, 195, 35, 303, 99, 259, 143, 207, 3], 'D31-2': [], 'D31-3': [], 'D32-1': [101, 210, 5, 178, 37, 165, 69, 197, 306, 242, 82, 146, 50, 18, 293, 274, 133, 229, 261, 114], 'D32-2': [], 'D32-3': [], 'D33-1': [100, 260, 162, 144, 16, 208, 240, 4, 228, 194, 196, 80, 112, 176, 226, 130, 2, 66, 272, 164, 290, 36, 292, 132, 98, 48, 34, 258, 68, 304], 'D33-2': [], 'D41-1': [145, 273, 49, 241, 113, 177, 17, 305, 81, 209], 'D41-2': [], 'D43': [137, 105, 73, 233, 265, 297, 201, 169, 9, 41], 'D44': [200, 296, 136, 168, 40, 264, 104, 8, 140, 300, 72, 232, 12, 236, 172, 76, 268, 44, 108, 204], 'D47': [243, 70, 307, 294, 166, 51, 38, 179, 262, 275, 115, 83, 230, 198, 134, 6, 147, 102, 19, 211], 'D65-1': [222, 30, 318, 62, 94, 158, 126, 190, 254, 286], 'D65-2': [], 'D69': [221, 253, 125, 189, 157, 29, 93, 317, 285, 61], 'Nital Etche, Hydrojen Embr.': [27, 59, 251, 219, 155, 283, 315, 123, 91, 187]}]\n",
            "[{'662': [64, 282, 218, 314, 154, 122, 160, 288, 186, 96, 256, 58, 250, 224, 32, 90, 192, 320, 128, 26], 'D11-1': [171, 299, 55, 139, 87, 43, 23, 235, 247, 215, 151, 279, 267, 183, 311, 75, 107, 119, 11, 203], 'D11-2': [], 'D12': [109, 45, 312, 205, 159, 56, 269, 220, 216, 280, 156, 77, 63, 88, 255, 191, 31, 237, 152, 60, 252, 248, 120, 13, 284, 124, 223, 127, 173, 301, 24, 316, 188, 319, 95, 141, 92, 287, 28, 184], 'D13-1': [33, 193, 103, 225, 263, 199, 257, 129, 65, 1, 135, 231, 161, 71, 7, 97, 39, 167, 289, 295], 'D13-2': [], 'D13-3': [], 'D13-4': [], 'D15-1': [180, 110, 217, 46, 142, 302, 206, 78, 52, 57, 308, 270, 249, 238, 25, 313, 276, 212, 116, 153, 89, 148, 14, 185, 121, 244, 281, 84, 20, 174], 'D15-2': [], 'D15-3': [], 'D17-1': [42, 266, 150, 54, 118, 278, 202, 22, 234, 214, 74, 106, 10, 138, 246, 298, 182, 310, 86, 170], 'D17-2': [], 'D27-1': [309, 181, 117, 277, 85, 213, 53, 21, 245, 149], 'D27-2': [], 'D27-3': [], 'D31-1': [163, 175, 99, 303, 3, 143, 271, 131, 47, 227, 291, 207, 79, 239, 67, 259, 15, 111, 195, 35], 'D31-2': [], 'D31-3': [], 'D32-1': [37, 146, 50, 165, 261, 274, 229, 18, 197, 114, 69, 82, 178, 293, 133, 5, 210, 306, 101, 242], 'D32-2': [], 'D32-3': [], 'D33-1': [98, 2, 260, 258, 66, 132, 272, 194, 228, 36, 240, 34, 226, 68, 208, 48, 164, 144, 112, 304, 130, 176, 162, 196, 290, 292, 16, 100, 4, 80], 'D33-2': [], 'D41-1': [305, 273, 113, 17, 209, 241, 49, 177, 145, 81], 'D41-2': [], 'D43': [297, 233, 201, 265, 73, 41, 169, 105, 9, 137], 'D44': [8, 204, 168, 236, 12, 268, 264, 108, 300, 72, 76, 136, 296, 172, 40, 44, 200, 140, 232, 104], 'D47': [51, 230, 243, 275, 307, 19, 70, 262, 134, 166, 211, 83, 6, 294, 38, 198, 179, 102, 115, 147], 'D65-1': [94, 222, 254, 126, 190, 286, 30, 158, 62, 318], 'D65-2': [], 'D69': [61, 29, 157, 125, 189, 285, 317, 253, 93, 221], 'Nital Etche, Hydrojen Embr.': [27, 219, 155, 59, 91, 187, 123, 251, 315, 283]}]\n"
          ]
        }
      ]
    },
    {
      "cell_type": "markdown",
      "source": [
        "## Fitness function"
      ],
      "metadata": {
        "id": "AfwuGR1U_lMI"
      }
    },
    {
      "cell_type": "code",
      "source": [
        "# setup, processing & total times for each process (from 1 to 320)\n",
        "pr_times = list(df[\"Processing time\"])\n",
        "stp_times = list(df[\"Setup\"])\n",
        "t_times = []\n",
        "for i in range(len(pr_times)):\n",
        "  t_times.append(pr_times[i] + stp_times[i])\n",
        "print(pr_times)\n",
        "print(stp_times)\n",
        "print(t_times)"
      ],
      "metadata": {
        "id": "jGeyWlqCKJTg",
        "colab": {
          "base_uri": "https://localhost:8080/"
        },
        "outputId": "536a25d3-8efc-47d4-874c-fa657ce2d986"
      },
      "execution_count": 7,
      "outputs": [
        {
          "output_type": "stream",
          "name": "stdout",
          "text": [
            "[1.0, 0.09090909091, 0.5454545455, 0.09090909091, 0.4545454545, 0.4545454545, 1.636363636, 0.09090909091, 0.09090909091, 0.4545454545, 2.0, 0.4545454545, 0.1818181818, 0.4545454545, 0.8181818182, 0.09090909091, 0.2727272727, 0.5454545455, 0.4545454545, 0.4545454545, 1.0, 0.4545454545, 2.0, 0.1818181818, 0.4545454545, 0.4545454545, 1.272727273, 0.1818181818, 2.0, 0.4545454545, 0.1818181818, 1.0, 0.75, 0.09090909091, 0.5454545455, 0.09090909091, 0.4545454545, 0.4545454545, 1.227272727, 0.06818181818, 0.06818181818, 0.3409090909, 1.5, 0.3409090909, 0.1363636364, 0.3409090909, 0.8181818182, 0.09090909091, 0.2727272727, 0.5454545455, 0.4545454545, 0.3409090909, 0.75, 0.3409090909, 1.5, 0.1363636364, 0.3409090909, 0.3409090909, 1.272727273, 0.1363636364, 1.5, 0.4545454545, 0.1363636364, 0.75, 0.75, 0.09090909091, 0.5454545455, 0.09090909091, 0.4545454545, 0.4545454545, 1.227272727, 0.06818181818, 0.06818181818, 0.3409090909, 1.5, 0.3409090909, 0.1363636364, 0.3409090909, 0.8181818182, 0.09090909091, 0.2727272727, 0.5454545455, 0.4545454545, 0.3409090909, 0.75, 0.3409090909, 1.5, 0.1363636364, 0.3409090909, 0.3409090909, 1.272727273, 0.1363636364, 1.5, 0.4545454545, 0.1363636364, 0.75, 1.0, 0.09090909091, 0.5454545455, 0.09090909091, 0.4545454545, 0.4545454545, 1.636363636, 0.09090909091, 0.09090909091, 0.4545454545, 2.0, 0.4545454545, 0.1818181818, 0.4545454545, 0.8181818182, 0.09090909091, 0.2727272727, 0.5454545455, 0.4545454545, 0.4545454545, 1.0, 0.4545454545, 2.0, 0.1818181818, 0.4545454545, 0.4545454545, 1.272727273, 0.1818181818, 2.0, 0.4545454545, 0.1818181818, 1.0, 1.0, 0.09090909091, 0.5454545455, 0.09090909091, 0.4545454545, 0.4545454545, 1.636363636, 0.09090909091, 0.09090909091, 0.4545454545, 2.0, 0.4545454545, 0.1818181818, 0.4545454545, 0.8181818182, 0.09090909091, 0.2727272727, 0.5454545455, 0.4545454545, 0.4545454545, 1.0, 0.4545454545, 2.0, 0.1818181818, 0.4545454545, 0.4545454545, 1.272727273, 0.1818181818, 2.0, 0.4545454545, 0.1818181818, 1.0, 0.5, 0.09090909091, 0.5454545455, 0.09090909091, 0.4545454545, 0.4545454545, 0.8181818182, 0.04545454545, 0.04545454545, 0.2272727273, 1.0, 0.2272727273, 0.09090909091, 0.2272727273, 0.8181818182, 0.09090909091, 0.2727272727, 0.5454545455, 0.4545454545, 0.2272727273, 0.5, 0.2272727273, 1.0, 0.09090909091, 0.2272727273, 0.2272727273, 1.272727273, 0.1818181818, 1.0, 0.4545454545, 0.09090909091, 0.5, 0.5, 0.09090909091, 0.5454545455, 0.09090909091, 0.4545454545, 0.4545454545, 0.8181818182, 0.04545454545, 0.04545454545, 0.2272727273, 1.0, 0.2272727273, 0.09090909091, 0.2272727273, 0.8181818182, 0.09090909091, 0.2727272727, 0.5454545455, 0.4545454545, 0.2272727273, 0.5, 0.2272727273, 1.0, 0.09090909091, 0.2272727273, 0.2272727273, 1.272727273, 0.1818181818, 1.0, 0.4545454545, 0.09090909091, 0.5, 0.5, 0.09090909091, 0.5454545455, 0.09090909091, 0.4545454545, 0.4545454545, 0.8181818182, 0.04545454545, 0.04545454545, 0.2272727273, 1.0, 0.2272727273, 0.09090909091, 0.2272727273, 0.8181818182, 0.09090909091, 0.2727272727, 0.5454545455, 0.4545454545, 0.2272727273, 0.5, 0.2272727273, 1.0, 0.09090909091, 0.2272727273, 0.2272727273, 1.272727273, 0.1818181818, 1.0, 0.4545454545, 0.09090909091, 0.5, 0.5, 0.09090909091, 0.5454545455, 0.09090909091, 0.4545454545, 0.4545454545, 0.8181818182, 0.04545454545, 0.04545454545, 0.2272727273, 1.0, 0.2272727273, 0.09090909091, 0.2272727273, 0.8181818182, 0.09090909091, 0.2727272727, 0.5454545455, 0.4545454545, 0.2272727273, 0.5, 0.2272727273, 1.0, 0.09090909091, 0.2272727273, 0.2272727273, 1.272727273, 0.1818181818, 1.0, 0.4545454545, 0.09090909091, 0.5, 0.5, 0.09090909091, 0.5454545455, 0.09090909091, 0.4545454545, 0.4545454545, 0.8181818182, 0.04545454545, 0.04545454545, 0.2272727273, 1.0, 0.2272727273, 0.09090909091, 0.2272727273, 0.8181818182, 0.09090909091, 0.2727272727, 0.5454545455, 0.4545454545, 0.2272727273, 0.5, 0.2272727273, 1.0, 0.09090909091, 0.2272727273, 0.2272727273, 1.272727273, 0.1818181818, 1.0, 0.4545454545, 0.09090909091, 0.5]\n",
            "[0.0, 0.0, 0.0, 0.0, 0.0, 0.0, 0.0, 0.0, 0.0, 0.75, 5.5, 0.0, 0.0, 0.75, 0.0, 0.0, 0.0, 0.0, 0.0, 0.75, 2.2, 0.75, 5.5, 0.0, 0.75, 0.0, 0.0, 0.0, 0.0, 0.0, 0.0, 0.0, 0.0, 0.0, 0.0, 0.0, 0.0, 0.0, 0.0, 0.0, 0.0, 0.5625, 4.125, 0.0, 0.0, 0.5625, 0.0, 0.0, 0.0, 0.0, 0.0, 0.5625, 1.65, 0.5625, 4.125, 0.0, 0.5625, 0.0, 0.0, 0.0, 0.0, 0.0, 0.0, 0.0, 0.0, 0.0, 0.0, 0.0, 0.0, 0.0, 0.0, 0.0, 0.0, 0.5625, 4.125, 0.0, 0.0, 0.5625, 0.0, 0.0, 0.0, 0.0, 0.0, 0.5625, 1.65, 0.5625, 4.125, 0.0, 0.5625, 0.0, 0.0, 0.0, 0.0, 0.0, 0.0, 0.0, 0.0, 0.0, 0.0, 0.0, 0.0, 0.0, 0.0, 0.0, 0.0, 0.75, 5.5, 0.0, 0.0, 0.75, 0.0, 0.0, 0.0, 0.0, 0.0, 0.75, 2.2, 0.75, 5.5, 0.0, 0.75, 0.0, 0.0, 0.0, 0.0, 0.0, 0.0, 0.0, 0.0, 0.0, 0.0, 0.0, 0.0, 0.0, 0.0, 0.0, 0.0, 0.75, 5.5, 0.0, 0.0, 0.75, 0.0, 0.0, 0.0, 0.0, 0.0, 0.75, 2.2, 0.75, 5.5, 0.0, 0.75, 0.0, 0.0, 0.0, 0.0, 0.0, 0.0, 0.0, 0.0, 0.0, 0.0, 0.0, 0.0, 0.0, 0.0, 0.0, 0.0, 0.375, 2.75, 0.0, 0.0, 0.375, 0.0, 0.0, 0.0, 0.0, 0.0, 0.375, 1.1, 0.375, 2.75, 0.0, 0.375, 0.0, 0.0, 0.0, 0.0, 0.0, 0.0, 0.0, 0.0, 0.0, 0.0, 0.0, 0.0, 0.0, 0.0, 0.0, 0.0, 0.375, 2.75, 0.0, 0.0, 0.375, 0.0, 0.0, 0.0, 0.0, 0.0, 0.375, 1.1, 0.375, 2.75, 0.0, 0.375, 0.0, 0.0, 0.0, 0.0, 0.0, 0.0, 0.0, 0.0, 0.0, 0.0, 0.0, 0.0, 0.0, 0.0, 0.0, 0.0, 0.375, 2.75, 0.0, 0.0, 0.375, 0.0, 0.0, 0.0, 0.0, 0.0, 0.375, 1.1, 0.375, 2.75, 0.0, 0.375, 0.0, 0.0, 0.0, 0.0, 0.0, 0.0, 0.0, 0.0, 0.0, 0.0, 0.0, 0.0, 0.0, 0.0, 0.0, 0.0, 0.375, 2.75, 0.0, 0.0, 0.375, 0.0, 0.0, 0.0, 0.0, 0.0, 0.375, 1.1, 0.375, 2.75, 0.0, 0.375, 0.0, 0.0, 0.0, 0.0, 0.0, 0.0, 0.0, 0.0, 0.0, 0.0, 0.0, 0.0, 0.0, 0.0, 0.0, 0.0, 0.375, 2.75, 0.0, 0.0, 0.375, 0.0, 0.0, 0.0, 0.0, 0.0, 0.375, 1.1, 0.375, 2.75, 0.0, 0.375, 0.0, 0.0, 0.0, 0.0, 0.0, 0.0, 0.0]\n",
            "[1.0, 0.09090909091, 0.5454545455, 0.09090909091, 0.4545454545, 0.4545454545, 1.636363636, 0.09090909091, 0.09090909091, 1.2045454545, 7.5, 0.4545454545, 0.1818181818, 1.2045454545, 0.8181818182, 0.09090909091, 0.2727272727, 0.5454545455, 0.4545454545, 1.2045454545, 3.2, 1.2045454545, 7.5, 0.1818181818, 1.2045454545, 0.4545454545, 1.272727273, 0.1818181818, 2.0, 0.4545454545, 0.1818181818, 1.0, 0.75, 0.09090909091, 0.5454545455, 0.09090909091, 0.4545454545, 0.4545454545, 1.227272727, 0.06818181818, 0.06818181818, 0.9034090909, 5.625, 0.3409090909, 0.1363636364, 0.9034090909, 0.8181818182, 0.09090909091, 0.2727272727, 0.5454545455, 0.4545454545, 0.9034090909, 2.4, 0.9034090909, 5.625, 0.1363636364, 0.9034090909, 0.3409090909, 1.272727273, 0.1363636364, 1.5, 0.4545454545, 0.1363636364, 0.75, 0.75, 0.09090909091, 0.5454545455, 0.09090909091, 0.4545454545, 0.4545454545, 1.227272727, 0.06818181818, 0.06818181818, 0.9034090909, 5.625, 0.3409090909, 0.1363636364, 0.9034090909, 0.8181818182, 0.09090909091, 0.2727272727, 0.5454545455, 0.4545454545, 0.9034090909, 2.4, 0.9034090909, 5.625, 0.1363636364, 0.9034090909, 0.3409090909, 1.272727273, 0.1363636364, 1.5, 0.4545454545, 0.1363636364, 0.75, 1.0, 0.09090909091, 0.5454545455, 0.09090909091, 0.4545454545, 0.4545454545, 1.636363636, 0.09090909091, 0.09090909091, 1.2045454545, 7.5, 0.4545454545, 0.1818181818, 1.2045454545, 0.8181818182, 0.09090909091, 0.2727272727, 0.5454545455, 0.4545454545, 1.2045454545, 3.2, 1.2045454545, 7.5, 0.1818181818, 1.2045454545, 0.4545454545, 1.272727273, 0.1818181818, 2.0, 0.4545454545, 0.1818181818, 1.0, 1.0, 0.09090909091, 0.5454545455, 0.09090909091, 0.4545454545, 0.4545454545, 1.636363636, 0.09090909091, 0.09090909091, 1.2045454545, 7.5, 0.4545454545, 0.1818181818, 1.2045454545, 0.8181818182, 0.09090909091, 0.2727272727, 0.5454545455, 0.4545454545, 1.2045454545, 3.2, 1.2045454545, 7.5, 0.1818181818, 1.2045454545, 0.4545454545, 1.272727273, 0.1818181818, 2.0, 0.4545454545, 0.1818181818, 1.0, 0.5, 0.09090909091, 0.5454545455, 0.09090909091, 0.4545454545, 0.4545454545, 0.8181818182, 0.04545454545, 0.04545454545, 0.6022727273, 3.75, 0.2272727273, 0.09090909091, 0.6022727273, 0.8181818182, 0.09090909091, 0.2727272727, 0.5454545455, 0.4545454545, 0.6022727273, 1.6, 0.6022727273, 3.75, 0.09090909091, 0.6022727273, 0.2272727273, 1.272727273, 0.1818181818, 1.0, 0.4545454545, 0.09090909091, 0.5, 0.5, 0.09090909091, 0.5454545455, 0.09090909091, 0.4545454545, 0.4545454545, 0.8181818182, 0.04545454545, 0.04545454545, 0.6022727273, 3.75, 0.2272727273, 0.09090909091, 0.6022727273, 0.8181818182, 0.09090909091, 0.2727272727, 0.5454545455, 0.4545454545, 0.6022727273, 1.6, 0.6022727273, 3.75, 0.09090909091, 0.6022727273, 0.2272727273, 1.272727273, 0.1818181818, 1.0, 0.4545454545, 0.09090909091, 0.5, 0.5, 0.09090909091, 0.5454545455, 0.09090909091, 0.4545454545, 0.4545454545, 0.8181818182, 0.04545454545, 0.04545454545, 0.6022727273, 3.75, 0.2272727273, 0.09090909091, 0.6022727273, 0.8181818182, 0.09090909091, 0.2727272727, 0.5454545455, 0.4545454545, 0.6022727273, 1.6, 0.6022727273, 3.75, 0.09090909091, 0.6022727273, 0.2272727273, 1.272727273, 0.1818181818, 1.0, 0.4545454545, 0.09090909091, 0.5, 0.5, 0.09090909091, 0.5454545455, 0.09090909091, 0.4545454545, 0.4545454545, 0.8181818182, 0.04545454545, 0.04545454545, 0.6022727273, 3.75, 0.2272727273, 0.09090909091, 0.6022727273, 0.8181818182, 0.09090909091, 0.2727272727, 0.5454545455, 0.4545454545, 0.6022727273, 1.6, 0.6022727273, 3.75, 0.09090909091, 0.6022727273, 0.2272727273, 1.272727273, 0.1818181818, 1.0, 0.4545454545, 0.09090909091, 0.5, 0.5, 0.09090909091, 0.5454545455, 0.09090909091, 0.4545454545, 0.4545454545, 0.8181818182, 0.04545454545, 0.04545454545, 0.6022727273, 3.75, 0.2272727273, 0.09090909091, 0.6022727273, 0.8181818182, 0.09090909091, 0.2727272727, 0.5454545455, 0.4545454545, 0.6022727273, 1.6, 0.6022727273, 3.75, 0.09090909091, 0.6022727273, 0.2272727273, 1.272727273, 0.1818181818, 1.0, 0.4545454545, 0.09090909091, 0.5]\n"
          ]
        }
      ]
    },
    {
      "cell_type": "code",
      "source": [
        "# function to write setup, processing & total times for each process in a chromosome\n",
        "def write_times(m_time):\n",
        "  m_pr_time = copy.deepcopy(m_time)\n",
        "  m_stp_time = copy.deepcopy(m_time)\n",
        "  m_tot_time = copy.deepcopy(m_time)\n",
        "  for m in m_time:\n",
        "    for i in range(len(m_time[m])):\n",
        "      for j in range(len(pr_times)):\n",
        "        if m_time[m][i] == j+1:\n",
        "          m_pr_time[m][i] = pr_times[j]\n",
        "          m_stp_time[m][i] = stp_times[j]\n",
        "          m_tot_time[m][i] = t_times[j]\n",
        "  return m_pr_time, m_stp_time, m_tot_time\n",
        "\n",
        "pr_time, stp_time, t_time = write_times(all_machines)\n",
        "print(\"process:\",pr_time)\n",
        "print(\"setups:\",stp_time)\n",
        "print(\"total:\",t_time)"
      ],
      "metadata": {
        "id": "31NOzjXMS60-",
        "colab": {
          "base_uri": "https://localhost:8080/"
        },
        "outputId": "666bf0c8-fb4f-45e2-91a4-5c2f3ced2c0b"
      },
      "execution_count": 8,
      "outputs": [
        {
          "output_type": "stream",
          "name": "stdout",
          "text": [
            "process: {'662': [0.4545454545, 1.0, 0.3409090909, 0.75, 0.3409090909, 0.75, 0.4545454545, 1.0, 0.4545454545, 1.0, 0.2272727273, 0.5, 0.2272727273, 0.5, 0.2272727273, 0.5, 0.2272727273, 0.5, 0.2272727273, 0.5], 'D11-1': [2.0, 2.0, 1.5, 1.5, 1.5, 1.5, 2.0, 2.0, 2.0, 2.0, 1.0, 1.0, 1.0, 1.0, 1.0, 1.0, 1.0, 1.0, 1.0, 1.0], 'D11-2': [], 'D12': [0.1818181818, 0.1818181818, 0.1818181818, 0.1818181818, 0.1363636364, 0.1363636364, 0.1363636364, 0.1363636364, 0.1363636364, 0.1363636364, 0.1363636364, 0.1363636364, 0.1818181818, 0.1818181818, 0.1818181818, 0.1818181818, 0.1818181818, 0.1818181818, 0.1818181818, 0.1818181818, 0.09090909091, 0.09090909091, 0.1818181818, 0.09090909091, 0.09090909091, 0.09090909091, 0.1818181818, 0.09090909091, 0.09090909091, 0.09090909091, 0.1818181818, 0.09090909091, 0.09090909091, 0.09090909091, 0.1818181818, 0.09090909091, 0.09090909091, 0.09090909091, 0.1818181818, 0.09090909091], 'D13-1': [1.0, 1.636363636, 0.75, 1.227272727, 0.75, 1.227272727, 1.0, 1.636363636, 1.0, 1.636363636, 0.5, 0.8181818182, 0.5, 0.8181818182, 0.5, 0.8181818182, 0.5, 0.8181818182, 0.5, 0.8181818182], 'D13-2': [], 'D13-3': [], 'D13-4': [], 'D15-1': [0.4545454545, 0.4545454545, 0.4545454545, 0.3409090909, 0.3409090909, 0.3409090909, 0.3409090909, 0.3409090909, 0.3409090909, 0.4545454545, 0.4545454545, 0.4545454545, 0.4545454545, 0.4545454545, 0.4545454545, 0.2272727273, 0.2272727273, 0.2272727273, 0.2272727273, 0.2272727273, 0.2272727273, 0.2272727273, 0.2272727273, 0.2272727273, 0.2272727273, 0.2272727273, 0.2272727273, 0.2272727273, 0.2272727273, 0.2272727273], 'D15-2': [], 'D15-3': [], 'D17-1': [0.4545454545, 0.4545454545, 0.3409090909, 0.3409090909, 0.3409090909, 0.3409090909, 0.4545454545, 0.4545454545, 0.4545454545, 0.4545454545, 0.2272727273, 0.2272727273, 0.2272727273, 0.2272727273, 0.2272727273, 0.2272727273, 0.2272727273, 0.2272727273, 0.2272727273, 0.2272727273], 'D17-2': [], 'D27-1': [1.0, 0.75, 0.75, 1.0, 1.0, 0.5, 0.5, 0.5, 0.5, 0.5], 'D27-2': [], 'D27-3': [], 'D31-1': [0.5454545455, 0.8181818182, 0.5454545455, 0.8181818182, 0.5454545455, 0.8181818182, 0.5454545455, 0.8181818182, 0.5454545455, 0.8181818182, 0.5454545455, 0.8181818182, 0.5454545455, 0.8181818182, 0.5454545455, 0.8181818182, 0.5454545455, 0.8181818182, 0.5454545455, 0.8181818182], 'D31-2': [], 'D31-3': [], 'D32-1': [0.4545454545, 0.5454545455, 0.4545454545, 0.5454545455, 0.4545454545, 0.5454545455, 0.4545454545, 0.5454545455, 0.4545454545, 0.5454545455, 0.4545454545, 0.5454545455, 0.4545454545, 0.5454545455, 0.4545454545, 0.5454545455, 0.4545454545, 0.5454545455, 0.4545454545, 0.5454545455], 'D32-2': [], 'D32-3': [], 'D33-1': [0.09090909091, 0.09090909091, 0.09090909091, 0.09090909091, 0.09090909091, 0.09090909091, 0.09090909091, 0.09090909091, 0.09090909091, 0.09090909091, 0.09090909091, 0.09090909091, 0.09090909091, 0.09090909091, 0.09090909091, 0.09090909091, 0.09090909091, 0.09090909091, 0.09090909091, 0.09090909091, 0.09090909091, 0.09090909091, 0.09090909091, 0.09090909091, 0.09090909091, 0.09090909091, 0.09090909091, 0.09090909091, 0.09090909091, 0.09090909091], 'D33-2': [], 'D41-1': [0.2727272727, 0.2727272727, 0.2727272727, 0.2727272727, 0.2727272727, 0.2727272727, 0.2727272727, 0.2727272727, 0.2727272727, 0.2727272727], 'D41-2': [], 'D43': [0.09090909091, 0.06818181818, 0.06818181818, 0.09090909091, 0.09090909091, 0.04545454545, 0.04545454545, 0.04545454545, 0.04545454545, 0.04545454545], 'D44': [0.09090909091, 0.4545454545, 0.06818181818, 0.3409090909, 0.06818181818, 0.3409090909, 0.09090909091, 0.4545454545, 0.09090909091, 0.4545454545, 0.04545454545, 0.2272727273, 0.04545454545, 0.2272727273, 0.04545454545, 0.2272727273, 0.04545454545, 0.2272727273, 0.04545454545, 0.2272727273], 'D47': [0.4545454545, 0.4545454545, 0.4545454545, 0.4545454545, 0.4545454545, 0.4545454545, 0.4545454545, 0.4545454545, 0.4545454545, 0.4545454545, 0.4545454545, 0.4545454545, 0.4545454545, 0.4545454545, 0.4545454545, 0.4545454545, 0.4545454545, 0.4545454545, 0.4545454545, 0.4545454545], 'D65-1': [0.4545454545, 0.4545454545, 0.4545454545, 0.4545454545, 0.4545454545, 0.4545454545, 0.4545454545, 0.4545454545, 0.4545454545, 0.4545454545], 'D65-2': [], 'D69': [2.0, 1.5, 1.5, 2.0, 2.0, 1.0, 1.0, 1.0, 1.0, 1.0], 'Nital Etche, Hydrojen Embr.': [1.272727273, 1.272727273, 1.272727273, 1.272727273, 1.272727273, 1.272727273, 1.272727273, 1.272727273, 1.272727273, 1.272727273]}\n",
            "setups: {'662': [0.0, 0.0, 0.0, 0.0, 0.0, 0.0, 0.0, 0.0, 0.0, 0.0, 0.0, 0.0, 0.0, 0.0, 0.0, 0.0, 0.0, 0.0, 0.0, 0.0], 'D11-1': [5.5, 5.5, 4.125, 4.125, 4.125, 4.125, 5.5, 5.5, 5.5, 5.5, 2.75, 2.75, 2.75, 2.75, 2.75, 2.75, 2.75, 2.75, 2.75, 2.75], 'D11-2': [], 'D12': [0.0, 0.0, 0.0, 0.0, 0.0, 0.0, 0.0, 0.0, 0.0, 0.0, 0.0, 0.0, 0.0, 0.0, 0.0, 0.0, 0.0, 0.0, 0.0, 0.0, 0.0, 0.0, 0.0, 0.0, 0.0, 0.0, 0.0, 0.0, 0.0, 0.0, 0.0, 0.0, 0.0, 0.0, 0.0, 0.0, 0.0, 0.0, 0.0, 0.0], 'D13-1': [0.0, 0.0, 0.0, 0.0, 0.0, 0.0, 0.0, 0.0, 0.0, 0.0, 0.0, 0.0, 0.0, 0.0, 0.0, 0.0, 0.0, 0.0, 0.0, 0.0], 'D13-2': [], 'D13-3': [], 'D13-4': [], 'D15-1': [0.75, 0.75, 0.75, 0.5625, 0.5625, 0.5625, 0.5625, 0.5625, 0.5625, 0.75, 0.75, 0.75, 0.75, 0.75, 0.75, 0.375, 0.375, 0.375, 0.375, 0.375, 0.375, 0.375, 0.375, 0.375, 0.375, 0.375, 0.375, 0.375, 0.375, 0.375], 'D15-2': [], 'D15-3': [], 'D17-1': [0.75, 0.75, 0.5625, 0.5625, 0.5625, 0.5625, 0.75, 0.75, 0.75, 0.75, 0.375, 0.375, 0.375, 0.375, 0.375, 0.375, 0.375, 0.375, 0.375, 0.375], 'D17-2': [], 'D27-1': [2.2, 1.65, 1.65, 2.2, 2.2, 1.1, 1.1, 1.1, 1.1, 1.1], 'D27-2': [], 'D27-3': [], 'D31-1': [0.0, 0.0, 0.0, 0.0, 0.0, 0.0, 0.0, 0.0, 0.0, 0.0, 0.0, 0.0, 0.0, 0.0, 0.0, 0.0, 0.0, 0.0, 0.0, 0.0], 'D31-2': [], 'D31-3': [], 'D32-1': [0.0, 0.0, 0.0, 0.0, 0.0, 0.0, 0.0, 0.0, 0.0, 0.0, 0.0, 0.0, 0.0, 0.0, 0.0, 0.0, 0.0, 0.0, 0.0, 0.0], 'D32-2': [], 'D32-3': [], 'D33-1': [0.0, 0.0, 0.0, 0.0, 0.0, 0.0, 0.0, 0.0, 0.0, 0.0, 0.0, 0.0, 0.0, 0.0, 0.0, 0.0, 0.0, 0.0, 0.0, 0.0, 0.0, 0.0, 0.0, 0.0, 0.0, 0.0, 0.0, 0.0, 0.0, 0.0], 'D33-2': [], 'D41-1': [0.0, 0.0, 0.0, 0.0, 0.0, 0.0, 0.0, 0.0, 0.0, 0.0], 'D41-2': [], 'D43': [0.0, 0.0, 0.0, 0.0, 0.0, 0.0, 0.0, 0.0, 0.0, 0.0], 'D44': [0.0, 0.0, 0.0, 0.0, 0.0, 0.0, 0.0, 0.0, 0.0, 0.0, 0.0, 0.0, 0.0, 0.0, 0.0, 0.0, 0.0, 0.0, 0.0, 0.0], 'D47': [0.0, 0.0, 0.0, 0.0, 0.0, 0.0, 0.0, 0.0, 0.0, 0.0, 0.0, 0.0, 0.0, 0.0, 0.0, 0.0, 0.0, 0.0, 0.0, 0.0], 'D65-1': [0.0, 0.0, 0.0, 0.0, 0.0, 0.0, 0.0, 0.0, 0.0, 0.0], 'D65-2': [], 'D69': [0.0, 0.0, 0.0, 0.0, 0.0, 0.0, 0.0, 0.0, 0.0, 0.0], 'Nital Etche, Hydrojen Embr.': [0.0, 0.0, 0.0, 0.0, 0.0, 0.0, 0.0, 0.0, 0.0, 0.0]}\n",
            "total: {'662': [0.4545454545, 1.0, 0.3409090909, 0.75, 0.3409090909, 0.75, 0.4545454545, 1.0, 0.4545454545, 1.0, 0.2272727273, 0.5, 0.2272727273, 0.5, 0.2272727273, 0.5, 0.2272727273, 0.5, 0.2272727273, 0.5], 'D11-1': [7.5, 7.5, 5.625, 5.625, 5.625, 5.625, 7.5, 7.5, 7.5, 7.5, 3.75, 3.75, 3.75, 3.75, 3.75, 3.75, 3.75, 3.75, 3.75, 3.75], 'D11-2': [], 'D12': [0.1818181818, 0.1818181818, 0.1818181818, 0.1818181818, 0.1363636364, 0.1363636364, 0.1363636364, 0.1363636364, 0.1363636364, 0.1363636364, 0.1363636364, 0.1363636364, 0.1818181818, 0.1818181818, 0.1818181818, 0.1818181818, 0.1818181818, 0.1818181818, 0.1818181818, 0.1818181818, 0.09090909091, 0.09090909091, 0.1818181818, 0.09090909091, 0.09090909091, 0.09090909091, 0.1818181818, 0.09090909091, 0.09090909091, 0.09090909091, 0.1818181818, 0.09090909091, 0.09090909091, 0.09090909091, 0.1818181818, 0.09090909091, 0.09090909091, 0.09090909091, 0.1818181818, 0.09090909091], 'D13-1': [1.0, 1.636363636, 0.75, 1.227272727, 0.75, 1.227272727, 1.0, 1.636363636, 1.0, 1.636363636, 0.5, 0.8181818182, 0.5, 0.8181818182, 0.5, 0.8181818182, 0.5, 0.8181818182, 0.5, 0.8181818182], 'D13-2': [], 'D13-3': [], 'D13-4': [], 'D15-1': [1.2045454545, 1.2045454545, 1.2045454545, 0.9034090909, 0.9034090909, 0.9034090909, 0.9034090909, 0.9034090909, 0.9034090909, 1.2045454545, 1.2045454545, 1.2045454545, 1.2045454545, 1.2045454545, 1.2045454545, 0.6022727273, 0.6022727273, 0.6022727273, 0.6022727273, 0.6022727273, 0.6022727273, 0.6022727273, 0.6022727273, 0.6022727273, 0.6022727273, 0.6022727273, 0.6022727273, 0.6022727273, 0.6022727273, 0.6022727273], 'D15-2': [], 'D15-3': [], 'D17-1': [1.2045454545, 1.2045454545, 0.9034090909, 0.9034090909, 0.9034090909, 0.9034090909, 1.2045454545, 1.2045454545, 1.2045454545, 1.2045454545, 0.6022727273, 0.6022727273, 0.6022727273, 0.6022727273, 0.6022727273, 0.6022727273, 0.6022727273, 0.6022727273, 0.6022727273, 0.6022727273], 'D17-2': [], 'D27-1': [3.2, 2.4, 2.4, 3.2, 3.2, 1.6, 1.6, 1.6, 1.6, 1.6], 'D27-2': [], 'D27-3': [], 'D31-1': [0.5454545455, 0.8181818182, 0.5454545455, 0.8181818182, 0.5454545455, 0.8181818182, 0.5454545455, 0.8181818182, 0.5454545455, 0.8181818182, 0.5454545455, 0.8181818182, 0.5454545455, 0.8181818182, 0.5454545455, 0.8181818182, 0.5454545455, 0.8181818182, 0.5454545455, 0.8181818182], 'D31-2': [], 'D31-3': [], 'D32-1': [0.4545454545, 0.5454545455, 0.4545454545, 0.5454545455, 0.4545454545, 0.5454545455, 0.4545454545, 0.5454545455, 0.4545454545, 0.5454545455, 0.4545454545, 0.5454545455, 0.4545454545, 0.5454545455, 0.4545454545, 0.5454545455, 0.4545454545, 0.5454545455, 0.4545454545, 0.5454545455], 'D32-2': [], 'D32-3': [], 'D33-1': [0.09090909091, 0.09090909091, 0.09090909091, 0.09090909091, 0.09090909091, 0.09090909091, 0.09090909091, 0.09090909091, 0.09090909091, 0.09090909091, 0.09090909091, 0.09090909091, 0.09090909091, 0.09090909091, 0.09090909091, 0.09090909091, 0.09090909091, 0.09090909091, 0.09090909091, 0.09090909091, 0.09090909091, 0.09090909091, 0.09090909091, 0.09090909091, 0.09090909091, 0.09090909091, 0.09090909091, 0.09090909091, 0.09090909091, 0.09090909091], 'D33-2': [], 'D41-1': [0.2727272727, 0.2727272727, 0.2727272727, 0.2727272727, 0.2727272727, 0.2727272727, 0.2727272727, 0.2727272727, 0.2727272727, 0.2727272727], 'D41-2': [], 'D43': [0.09090909091, 0.06818181818, 0.06818181818, 0.09090909091, 0.09090909091, 0.04545454545, 0.04545454545, 0.04545454545, 0.04545454545, 0.04545454545], 'D44': [0.09090909091, 0.4545454545, 0.06818181818, 0.3409090909, 0.06818181818, 0.3409090909, 0.09090909091, 0.4545454545, 0.09090909091, 0.4545454545, 0.04545454545, 0.2272727273, 0.04545454545, 0.2272727273, 0.04545454545, 0.2272727273, 0.04545454545, 0.2272727273, 0.04545454545, 0.2272727273], 'D47': [0.4545454545, 0.4545454545, 0.4545454545, 0.4545454545, 0.4545454545, 0.4545454545, 0.4545454545, 0.4545454545, 0.4545454545, 0.4545454545, 0.4545454545, 0.4545454545, 0.4545454545, 0.4545454545, 0.4545454545, 0.4545454545, 0.4545454545, 0.4545454545, 0.4545454545, 0.4545454545], 'D65-1': [0.4545454545, 0.4545454545, 0.4545454545, 0.4545454545, 0.4545454545, 0.4545454545, 0.4545454545, 0.4545454545, 0.4545454545, 0.4545454545], 'D65-2': [], 'D69': [2.0, 1.5, 1.5, 2.0, 2.0, 1.0, 1.0, 1.0, 1.0, 1.0], 'Nital Etche, Hydrojen Embr.': [1.272727273, 1.272727273, 1.272727273, 1.272727273, 1.272727273, 1.272727273, 1.272727273, 1.272727273, 1.272727273, 1.272727273]}\n"
          ]
        }
      ]
    },
    {
      "cell_type": "code",
      "source": [
        "# for ease\n",
        "print(all_machines)\n",
        "print(all_machines[\"662\"][0])"
      ],
      "metadata": {
        "colab": {
          "base_uri": "https://localhost:8080/"
        },
        "id": "qJnZo13RB3Hp",
        "outputId": "a65a859d-8678-4ea9-ed18-964d0ec4a428"
      },
      "execution_count": 9,
      "outputs": [
        {
          "output_type": "stream",
          "name": "stdout",
          "text": [
            "{'662': [26, 32, 58, 64, 90, 96, 122, 128, 154, 160, 186, 192, 218, 224, 250, 256, 282, 288, 314, 320], 'D11-1': [11, 23, 43, 55, 75, 87, 107, 119, 139, 151, 171, 183, 203, 215, 235, 247, 267, 279, 299, 311], 'D11-2': [], 'D12': [13, 24, 28, 31, 45, 56, 60, 63, 77, 88, 92, 95, 109, 120, 124, 127, 141, 152, 156, 159, 173, 184, 188, 191, 205, 216, 220, 223, 237, 248, 252, 255, 269, 280, 284, 287, 301, 312, 316, 319], 'D13-1': [1, 7, 33, 39, 65, 71, 97, 103, 129, 135, 161, 167, 193, 199, 225, 231, 257, 263, 289, 295], 'D13-2': [], 'D13-3': [], 'D13-4': [], 'D15-1': [14, 20, 25, 46, 52, 57, 78, 84, 89, 110, 116, 121, 142, 148, 153, 174, 180, 185, 206, 212, 217, 238, 244, 249, 270, 276, 281, 302, 308, 313], 'D15-2': [], 'D15-3': [], 'D17-1': [10, 22, 42, 54, 74, 86, 106, 118, 138, 150, 170, 182, 202, 214, 234, 246, 266, 278, 298, 310], 'D17-2': [], 'D27-1': [21, 53, 85, 117, 149, 181, 213, 245, 277, 309], 'D27-2': [], 'D27-3': [], 'D31-1': [3, 15, 35, 47, 67, 79, 99, 111, 131, 143, 163, 175, 195, 207, 227, 239, 259, 271, 291, 303], 'D31-2': [], 'D31-3': [], 'D32-1': [5, 18, 37, 50, 69, 82, 101, 114, 133, 146, 165, 178, 197, 210, 229, 242, 261, 274, 293, 306], 'D32-2': [], 'D32-3': [], 'D33-1': [2, 4, 16, 34, 36, 48, 66, 68, 80, 98, 100, 112, 130, 132, 144, 162, 164, 176, 194, 196, 208, 226, 228, 240, 258, 260, 272, 290, 292, 304], 'D33-2': [], 'D41-1': [17, 49, 81, 113, 145, 177, 209, 241, 273, 305], 'D41-2': [], 'D43': [9, 41, 73, 105, 137, 169, 201, 233, 265, 297], 'D44': [8, 12, 40, 44, 72, 76, 104, 108, 136, 140, 168, 172, 200, 204, 232, 236, 264, 268, 296, 300], 'D47': [6, 19, 38, 51, 70, 83, 102, 115, 134, 147, 166, 179, 198, 211, 230, 243, 262, 275, 294, 307], 'D65-1': [30, 62, 94, 126, 158, 190, 222, 254, 286, 318], 'D65-2': [], 'D69': [29, 61, 93, 125, 157, 189, 221, 253, 285, 317], 'Nital Etche, Hydrojen Embr.': [27, 59, 91, 123, 155, 187, 219, 251, 283, 315]}\n",
            "26\n"
          ]
        }
      ]
    },
    {
      "cell_type": "code",
      "source": [
        "# function to write the start & finishing times for each process\n",
        "def write_start_finish(m_time):\n",
        "  m_S_time = copy.deepcopy(t_time)\n",
        "  m_F_time = copy.deepcopy(t_time)\n",
        "  for m in m_time:                    # each machine's list\n",
        "    for i in range(len(m_time[m])):   # 0 to length of each machine (each process in a machine)\n",
        "      for j in range(len(t_time)):   # 0 to 319 (every single process)\n",
        "        if m_time[m][i] == j+1:       # if process in m_time = a process\n",
        "          if i == 0:\n",
        "            m_S_time[m][i] = 0            ### start first process at 0 for now\n",
        "            m_F_time[m][i] = t_time[m][i]\n",
        "          else:\n",
        "            m_S_time[m][i] = t_time[m][i-1] + m_S_time[m][i-1]\n",
        "            m_F_time[m][i] = t_time[m][i] + m_S_time[m][i]\n",
        "  return m_S_time, m_F_time\n",
        "\n",
        "S_time, F_time = write_start_finish(all_machines)\n",
        "print(\"start  \",S_time)\n",
        "print(\"finish \",F_time)"
      ],
      "metadata": {
        "colab": {
          "base_uri": "https://localhost:8080/"
        },
        "id": "usuAP2ci_YS9",
        "outputId": "4f0fa79c-faf7-4491-dba6-32d20cd7d5db"
      },
      "execution_count": 11,
      "outputs": [
        {
          "output_type": "stream",
          "name": "stdout",
          "text": [
            "start   {'662': [0, 0.4545454545, 0.3409090909, 0.75, 0.3409090909, 0.75, 0.4545454545, 1.0, 0.4545454545, 1.0, 0.2272727273, 0.5, 0.2272727273, 0.5, 0.2272727273, 0.5, 0.2272727273, 0.5, 0.2272727273, 0.5], 'D11-1': [0, 7.5, 5.625, 5.625, 5.625, 5.625, 7.5, 7.5, 7.5, 7.5, 3.75, 3.75, 3.75, 3.75, 3.75, 3.75, 3.75, 3.75, 3.75, 3.75], 'D11-2': [], 'D12': [0, 0.1818181818, 0.3636363636, 0.5454545454, 0.1363636364, 0.1363636364, 0.1363636364, 0.1363636364, 0.1363636364, 0.1363636364, 0.1363636364, 0.1363636364, 0.1818181818, 0.1818181818, 0.1818181818, 0.1818181818, 0.1818181818, 0.1818181818, 0.1818181818, 0.1818181818, 0.09090909091, 0.09090909091, 0.1818181818, 0.09090909091, 0.09090909091, 0.09090909091, 0.1818181818, 0.09090909091, 0.09090909091, 0.09090909091, 0.1818181818, 0.09090909091, 0.09090909091, 0.09090909091, 0.1818181818, 0.09090909091, 0.09090909091, 0.09090909091, 0.1818181818, 0.09090909091], 'D13-1': [0, 1.0, 2.636363636, 1.227272727, 0.75, 1.227272727, 1.0, 1.636363636, 1.0, 1.636363636, 0.5, 0.8181818182, 0.5, 0.8181818182, 0.5, 0.8181818182, 0.5, 0.8181818182, 0.5, 0.8181818182], 'D13-2': [], 'D13-3': [], 'D13-4': [], 'D15-1': [0, 1.2045454545, 2.409090909, 0.9034090909, 0.9034090909, 0.9034090909, 0.9034090909, 0.9034090909, 0.9034090909, 1.2045454545, 1.2045454545, 1.2045454545, 1.2045454545, 1.2045454545, 1.2045454545, 0.6022727273, 0.6022727273, 0.6022727273, 0.6022727273, 0.6022727273, 0.6022727273, 0.6022727273, 0.6022727273, 0.6022727273, 0.6022727273, 0.6022727273, 0.6022727273, 0.6022727273, 0.6022727273, 0.6022727273], 'D15-2': [], 'D15-3': [], 'D17-1': [0, 1.2045454545, 0.9034090909, 0.9034090909, 0.9034090909, 0.9034090909, 1.2045454545, 1.2045454545, 1.2045454545, 1.2045454545, 0.6022727273, 0.6022727273, 0.6022727273, 0.6022727273, 0.6022727273, 0.6022727273, 0.6022727273, 0.6022727273, 0.6022727273, 0.6022727273], 'D17-2': [], 'D27-1': [0, 2.4, 2.4, 3.2, 3.2, 1.6, 1.6, 1.6, 1.6, 1.6], 'D27-2': [], 'D27-3': [], 'D31-1': [0, 0.5454545455, 0.5454545455, 0.8181818182, 0.5454545455, 0.8181818182, 0.5454545455, 0.8181818182, 0.5454545455, 0.8181818182, 0.5454545455, 0.8181818182, 0.5454545455, 0.8181818182, 0.5454545455, 0.8181818182, 0.5454545455, 0.8181818182, 0.5454545455, 0.8181818182], 'D31-2': [], 'D31-3': [], 'D32-1': [0, 0.4545454545, 0.4545454545, 0.5454545455, 0.4545454545, 0.5454545455, 0.4545454545, 0.5454545455, 0.4545454545, 0.5454545455, 0.4545454545, 0.5454545455, 0.4545454545, 0.5454545455, 0.4545454545, 0.5454545455, 0.4545454545, 0.5454545455, 0.4545454545, 0.5454545455], 'D32-2': [], 'D32-3': [], 'D33-1': [0, 0.09090909091, 0.18181818182, 0.09090909091, 0.09090909091, 0.09090909091, 0.09090909091, 0.09090909091, 0.09090909091, 0.09090909091, 0.09090909091, 0.09090909091, 0.09090909091, 0.09090909091, 0.09090909091, 0.09090909091, 0.09090909091, 0.09090909091, 0.09090909091, 0.09090909091, 0.09090909091, 0.09090909091, 0.09090909091, 0.09090909091, 0.09090909091, 0.09090909091, 0.09090909091, 0.09090909091, 0.09090909091, 0.09090909091], 'D33-2': [], 'D41-1': [0, 0.2727272727, 0.2727272727, 0.2727272727, 0.2727272727, 0.2727272727, 0.2727272727, 0.2727272727, 0.2727272727, 0.2727272727], 'D41-2': [], 'D43': [0, 0.06818181818, 0.06818181818, 0.09090909091, 0.09090909091, 0.04545454545, 0.04545454545, 0.04545454545, 0.04545454545, 0.04545454545], 'D44': [0, 0.09090909091, 0.06818181818, 0.3409090909, 0.06818181818, 0.3409090909, 0.09090909091, 0.4545454545, 0.09090909091, 0.4545454545, 0.04545454545, 0.2272727273, 0.04545454545, 0.2272727273, 0.04545454545, 0.2272727273, 0.04545454545, 0.2272727273, 0.04545454545, 0.2272727273], 'D47': [0, 0.4545454545, 0.4545454545, 0.4545454545, 0.4545454545, 0.4545454545, 0.4545454545, 0.4545454545, 0.4545454545, 0.4545454545, 0.4545454545, 0.4545454545, 0.4545454545, 0.4545454545, 0.4545454545, 0.4545454545, 0.4545454545, 0.4545454545, 0.4545454545, 0.4545454545], 'D65-1': [0, 0.4545454545, 0.4545454545, 0.4545454545, 0.4545454545, 0.4545454545, 0.4545454545, 0.4545454545, 0.4545454545, 0.4545454545], 'D65-2': [], 'D69': [0, 1.5, 1.5, 2.0, 2.0, 1.0, 1.0, 1.0, 1.0, 1.0], 'Nital Etche, Hydrojen Embr.': [0, 1.272727273, 1.272727273, 1.272727273, 1.272727273, 1.272727273, 1.272727273, 1.272727273, 1.272727273, 1.272727273]}\n",
            "finish  {'662': [0.4545454545, 1.4545454545, 0.3409090909, 0.75, 0.3409090909, 0.75, 0.4545454545, 1.0, 0.4545454545, 1.0, 0.2272727273, 0.5, 0.2272727273, 0.5, 0.2272727273, 0.5, 0.2272727273, 0.5, 0.2272727273, 0.5], 'D11-1': [7.5, 15.0, 5.625, 5.625, 5.625, 5.625, 7.5, 7.5, 7.5, 7.5, 3.75, 3.75, 3.75, 3.75, 3.75, 3.75, 3.75, 3.75, 3.75, 3.75], 'D11-2': [], 'D12': [0.1818181818, 0.3636363636, 0.5454545454, 0.7272727272, 0.1363636364, 0.1363636364, 0.1363636364, 0.1363636364, 0.1363636364, 0.1363636364, 0.1363636364, 0.1363636364, 0.1818181818, 0.1818181818, 0.1818181818, 0.1818181818, 0.1818181818, 0.1818181818, 0.1818181818, 0.1818181818, 0.09090909091, 0.09090909091, 0.1818181818, 0.09090909091, 0.09090909091, 0.09090909091, 0.1818181818, 0.09090909091, 0.09090909091, 0.09090909091, 0.1818181818, 0.09090909091, 0.09090909091, 0.09090909091, 0.1818181818, 0.09090909091, 0.09090909091, 0.09090909091, 0.1818181818, 0.09090909091], 'D13-1': [1.0, 2.636363636, 3.386363636, 1.227272727, 0.75, 1.227272727, 1.0, 1.636363636, 1.0, 1.636363636, 0.5, 0.8181818182, 0.5, 0.8181818182, 0.5, 0.8181818182, 0.5, 0.8181818182, 0.5, 0.8181818182], 'D13-2': [], 'D13-3': [], 'D13-4': [], 'D15-1': [1.2045454545, 2.409090909, 3.6136363635000004, 0.9034090909, 0.9034090909, 0.9034090909, 0.9034090909, 0.9034090909, 0.9034090909, 1.2045454545, 1.2045454545, 1.2045454545, 1.2045454545, 1.2045454545, 1.2045454545, 0.6022727273, 0.6022727273, 0.6022727273, 0.6022727273, 0.6022727273, 0.6022727273, 0.6022727273, 0.6022727273, 0.6022727273, 0.6022727273, 0.6022727273, 0.6022727273, 0.6022727273, 0.6022727273, 0.6022727273], 'D15-2': [], 'D15-3': [], 'D17-1': [1.2045454545, 2.409090909, 0.9034090909, 0.9034090909, 0.9034090909, 0.9034090909, 1.2045454545, 1.2045454545, 1.2045454545, 1.2045454545, 0.6022727273, 0.6022727273, 0.6022727273, 0.6022727273, 0.6022727273, 0.6022727273, 0.6022727273, 0.6022727273, 0.6022727273, 0.6022727273], 'D17-2': [], 'D27-1': [3.2, 2.4, 2.4, 3.2, 3.2, 1.6, 1.6, 1.6, 1.6, 1.6], 'D27-2': [], 'D27-3': [], 'D31-1': [0.5454545455, 1.3636363637, 0.5454545455, 0.8181818182, 0.5454545455, 0.8181818182, 0.5454545455, 0.8181818182, 0.5454545455, 0.8181818182, 0.5454545455, 0.8181818182, 0.5454545455, 0.8181818182, 0.5454545455, 0.8181818182, 0.5454545455, 0.8181818182, 0.5454545455, 0.8181818182], 'D31-2': [], 'D31-3': [], 'D32-1': [0.4545454545, 1.0, 0.4545454545, 0.5454545455, 0.4545454545, 0.5454545455, 0.4545454545, 0.5454545455, 0.4545454545, 0.5454545455, 0.4545454545, 0.5454545455, 0.4545454545, 0.5454545455, 0.4545454545, 0.5454545455, 0.4545454545, 0.5454545455, 0.4545454545, 0.5454545455], 'D32-2': [], 'D32-3': [], 'D33-1': [0.09090909091, 0.18181818182, 0.27272727273, 0.09090909091, 0.09090909091, 0.09090909091, 0.09090909091, 0.09090909091, 0.09090909091, 0.09090909091, 0.09090909091, 0.09090909091, 0.09090909091, 0.09090909091, 0.09090909091, 0.09090909091, 0.09090909091, 0.09090909091, 0.09090909091, 0.09090909091, 0.09090909091, 0.09090909091, 0.09090909091, 0.09090909091, 0.09090909091, 0.09090909091, 0.09090909091, 0.09090909091, 0.09090909091, 0.09090909091], 'D33-2': [], 'D41-1': [0.2727272727, 0.2727272727, 0.2727272727, 0.2727272727, 0.2727272727, 0.2727272727, 0.2727272727, 0.2727272727, 0.2727272727, 0.2727272727], 'D41-2': [], 'D43': [0.09090909091, 0.06818181818, 0.06818181818, 0.09090909091, 0.09090909091, 0.04545454545, 0.04545454545, 0.04545454545, 0.04545454545, 0.04545454545], 'D44': [0.09090909091, 0.54545454541, 0.06818181818, 0.3409090909, 0.06818181818, 0.3409090909, 0.09090909091, 0.4545454545, 0.09090909091, 0.4545454545, 0.04545454545, 0.2272727273, 0.04545454545, 0.2272727273, 0.04545454545, 0.2272727273, 0.04545454545, 0.2272727273, 0.04545454545, 0.2272727273], 'D47': [0.4545454545, 0.909090909, 0.4545454545, 0.4545454545, 0.4545454545, 0.4545454545, 0.4545454545, 0.4545454545, 0.4545454545, 0.4545454545, 0.4545454545, 0.4545454545, 0.4545454545, 0.4545454545, 0.4545454545, 0.4545454545, 0.4545454545, 0.4545454545, 0.4545454545, 0.4545454545], 'D65-1': [0.4545454545, 0.4545454545, 0.4545454545, 0.4545454545, 0.4545454545, 0.4545454545, 0.4545454545, 0.4545454545, 0.4545454545, 0.4545454545], 'D65-2': [], 'D69': [2.0, 1.5, 1.5, 2.0, 2.0, 1.0, 1.0, 1.0, 1.0, 1.0], 'Nital Etche, Hydrojen Embr.': [1.272727273, 1.272727273, 1.272727273, 1.272727273, 1.272727273, 1.272727273, 1.272727273, 1.272727273, 1.272727273, 1.272727273]}\n"
          ]
        }
      ]
    },
    {
      "cell_type": "markdown",
      "source": [
        "</br>      \n",
        "\n",
        "---\n",
        "   \n",
        "</br>      \n",
        "\n",
        "To do:\n",
        "  - add sth to the genes that represent idle times & then shuffle & adjust idle time length\n",
        "    - adjust the finish times accordinly\n",
        "  - check the processes in order across machines & give partial score when testing fitness\n",
        "    - cumulative times for each process in the chromosomes for fitness testing\n",
        "    - will need to check predecessors\n"
      ],
      "metadata": {
        "id": "DjWTYnE7-LS_"
      }
    },
    {
      "cell_type": "markdown",
      "source": [
        "## Others"
      ],
      "metadata": {
        "id": "yRxA9YWmMLJM"
      }
    },
    {
      "cell_type": "code",
      "source": [
        "a_list = np.unique(np.array(df[\"Piece\"]))\n",
        "num = df[\"Piece\"].nunique(a_list[0])\n",
        "u_num = [0]*num\n",
        "for i in range(9):\n",
        "  for item in df[\"Piece\"]:\n",
        "    if item == a_list[i]: \n",
        "      u_num[i] += 1\n",
        "  print(u_num[i],\"processes for piece\",a_list[i])"
      ],
      "metadata": {
        "id": "48Y3KvLHLgbs"
      },
      "execution_count": null,
      "outputs": []
    },
    {
      "cell_type": "code",
      "source": [
        "processes = []\n",
        "for i in range(num):\n",
        "  processes.append([])\n",
        "#print(processes)\n",
        "\n",
        "j = 0\n",
        "k = 0\n",
        "total = 0\n",
        "for i in range(len(u_num)):\n",
        "  total += u_num[i]\n",
        "  while j < total:\n",
        "    if j == total:\n",
        "      k += 1\n",
        "    #print(i,j,k,total,processes)\n",
        "    #print(processes[i])\n",
        "    processes[i].append(j+1)\n",
        "    j += 1\n",
        "  #print(total)\n",
        "\n",
        "for i in processes:\n",
        "  print(len(i),i)"
      ],
      "metadata": {
        "id": "weQyMGChBgny"
      },
      "execution_count": null,
      "outputs": []
    },
    {
      "cell_type": "code",
      "source": [
        ""
      ],
      "metadata": {
        "id": "pt2wfFKNMTEn"
      },
      "execution_count": null,
      "outputs": []
    },
    {
      "cell_type": "markdown",
      "source": [
        "### Beyza's part"
      ],
      "metadata": {
        "id": "-PLCrmMWLj_r"
      }
    },
    {
      "cell_type": "code",
      "source": [
        "\n",
        "Srt_time =0\n",
        "\n",
        "pr_times = list(df[\"Processing time\"])\n",
        "stp_times = list(df[\"Setup\"])\n",
        "a_list = np.unique(np.array(df[\"Piece\"]))\n",
        "num = df[\"Piece\"].nunique(a_list[0])\n",
        "print(a_list)\n",
        "#print(Start_time)\n",
        "\n",
        "processes = []\n",
        "for i in range(num):\n",
        "  processes.append([])\n",
        "#print(processes)\n",
        "\n",
        "j = 0\n",
        "k = 0\n",
        "total = 0\n",
        "for i in range(len(u_num)):\n",
        "  total += u_num[i]\n",
        "  while j < total:\n",
        "    if j == total:\n",
        "      k += 1\n",
        "    #print(i,j,k,total,processes)\n",
        "    #print(processes[i])\n",
        "    processes[i].append(j+1)\n",
        "    j += 1\n",
        "  #print(total)\n",
        "\n",
        "k =0\n",
        "Devam =0 # bunu denemek amaçlı koyuyom \n",
        "\n",
        "for i in processes:\n",
        "  for j in range(len(i)):\n",
        "    Devam += 1\n",
        "    #print(Devam)\n",
        "    Srt_time += pr_times[Devam]\n",
        "    print(\"Start schedule for the\" ,j,\".\",\"job\",Srt_time)\n"
      ],
      "metadata": {
        "id": "JrY0bKab7HBJ"
      },
      "execution_count": null,
      "outputs": []
    }
  ]
}